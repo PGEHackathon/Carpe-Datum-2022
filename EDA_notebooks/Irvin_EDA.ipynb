{
 "cells": [
  {
   "cell_type": "markdown",
   "source": "# Irvin EDA\nIrvin's notebook with EDA and data processing.",
   "metadata": {
    "cell_id": "0814fda6da8e48688354b40f08049228",
    "tags": [],
    "deepnote_cell_type": "markdown",
    "deepnote_cell_height": 120
   }
  },
  {
   "cell_type": "code",
   "metadata": {
    "tags": [],
    "cell_id": "37d91df1-f065-4705-8886-0201bd6d8932",
    "deepnote_to_be_reexecuted": false,
    "source_hash": "4b711cb5",
    "execution_start": 1648308455973,
    "execution_millis": 14,
    "deepnote_cell_type": "code",
    "deepnote_cell_height": 206.60000610351562
   },
   "source": "import pandas as pd\nimport numpy as np\nimport matplotlib.pyplot as plt\nimport os\nfrom sklearn.linear_model import LinearRegression\nfrom sklearn.model_selection import train_test_split\nfrom sklearn.metrics import mean_absolute_percentage_error, r2_score\nimport plotly.express as px",
   "execution_count": 65,
   "outputs": []
  },
  {
   "cell_type": "code",
   "metadata": {
    "cell_id": "461e9305f8064734ab737a1286bd70d3",
    "tags": [],
    "deepnote_to_be_reexecuted": false,
    "source_hash": "56998a46",
    "execution_start": 1648306664286,
    "execution_millis": 1,
    "deepnote_cell_type": "code",
    "deepnote_cell_height": 80.60000610351562
   },
   "source": "SEED = 42",
   "execution_count": 33,
   "outputs": []
  },
  {
   "cell_type": "markdown",
   "source": "## Combine Well Data\n\nCombining all the well data, properly adding NaNs, and adding positional information to the WELL_MASTER.csv",
   "metadata": {
    "cell_id": "bad6ebbaab864bc69c46698c93a6c015",
    "tags": [],
    "deepnote_cell_type": "markdown",
    "deepnote_cell_height": 108
   }
  },
  {
   "cell_type": "code",
   "metadata": {
    "cell_id": "39decd1005464368b9f6961016d2ecc4",
    "tags": [],
    "deepnote_to_be_reexecuted": false,
    "source_hash": "45541dc5",
    "execution_start": 1648305121023,
    "execution_millis": 13,
    "deepnote_cell_type": "code",
    "deepnote_cell_height": 80.60000610351562
   },
   "source": "well_log_dir = r\"/work/Carpe-Datum-2022/Well_Log/\"",
   "execution_count": 3,
   "outputs": []
  },
  {
   "cell_type": "code",
   "metadata": {
    "cell_id": "d4098ed08a08478a94ddeb68dca07b2f",
    "tags": [],
    "deepnote_to_be_reexecuted": false,
    "source_hash": "bd95875b",
    "execution_start": 1648305121045,
    "execution_millis": 10,
    "deepnote_cell_type": "code",
    "deepnote_cell_height": 80.60000610351562
   },
   "source": "well_positional_df = pd.read_csv(\"/work/Carpe-Datum-2022/Well_Head_and_Completion.csv\").set_index(\"WELL\")",
   "execution_count": 4,
   "outputs": []
  },
  {
   "cell_type": "code",
   "metadata": {
    "cell_id": "0656849729954afaaf798281b7d9e5fb",
    "tags": [],
    "deepnote_to_be_reexecuted": false,
    "source_hash": "9aa189e6",
    "execution_start": 1648305122116,
    "execution_millis": 6,
    "deepnote_cell_type": "code",
    "deepnote_cell_height": 206.60000610351562
   },
   "source": "def process_data(filename: str) -> pd.DataFrame:\n    df = pd.read_csv(well_log_dir + filename)\n    well_id = filename.split(\".\")[0]\n    df[\"well_id\"] = well_id\n    df[\"X\"] = well_positional_df.loc[well_id, \"X(ft)\"]\n    df[\"Y\"] = well_positional_df.loc[well_id, \"Y(ft)\"]\n    df[\"Completion Zone\"] = well_positional_df.loc[well_id, \"Completion\"]\n    return df",
   "execution_count": 5,
   "outputs": []
  },
  {
   "cell_type": "code",
   "metadata": {
    "cell_id": "ede84c645b824f2ab3db1882be346e2d",
    "tags": [],
    "deepnote_to_be_reexecuted": false,
    "source_hash": "792a024",
    "execution_start": 1648305151011,
    "execution_millis": 660,
    "deepnote_cell_type": "code",
    "deepnote_cell_height": 206.60000610351562
   },
   "source": "# Grab all WP files\nfiles = os.listdir(well_log_dir)\nmaster = pd.DataFrame()\n\n# Read in files into a list of dataframes, excluding ourselves\nwells = [process_data(file) for file in files if \"WELL_MASTER\" not in file]\n\nmaster = pd.concat(wells)",
   "execution_count": 7,
   "outputs": []
  },
  {
   "cell_type": "code",
   "metadata": {
    "cell_id": "be8c0d3ce6c047eea3afd52a839ad486",
    "tags": [],
    "deepnote_to_be_reexecuted": false,
    "source_hash": "d2d60346",
    "execution_start": 1648305153440,
    "execution_millis": 133,
    "deepnote_cell_type": "code",
    "deepnote_cell_height": 568
   },
   "source": "# Hard-coded because I'm too lazy to figure out how to do this correctly.\nmaster = master.replace([-999, -999.0000000000005, -999.0000000000002, -998.9999999999998], np.NaN)\nmaster.describe()",
   "execution_count": 8,
   "outputs": [
    {
     "output_type": "execute_result",
     "execution_count": 8,
     "data": {
      "application/vnd.deepnote.dataframe.v3+json": {
       "column_count": 14,
       "row_count": 8,
       "columns": [
        {
         "name": "MD(ft)",
         "dtype": "float64",
         "stats": {
          "unique_count": 8,
          "nan_count": 0,
          "min": "165.718326068816",
          "max": "5096.70279384",
          "histogram": [
           {
            "bin_start": 165.718326068816,
            "bin_end": 658.8167728459343,
            "count": 1
           },
           {
            "bin_start": 658.8167728459343,
            "bin_end": 1151.9152196230527,
            "count": 0
           },
           {
            "bin_start": 1151.9152196230527,
            "bin_end": 1645.013666400171,
            "count": 0
           },
           {
            "bin_start": 1645.013666400171,
            "bin_end": 2138.1121131772893,
            "count": 1
           },
           {
            "bin_start": 2138.1121131772893,
            "bin_end": 2631.210559954408,
            "count": 0
           },
           {
            "bin_start": 2631.210559954408,
            "bin_end": 3124.309006731526,
            "count": 0
           },
           {
            "bin_start": 3124.309006731526,
            "bin_end": 3617.4074535086447,
            "count": 0
           },
           {
            "bin_start": 3617.4074535086447,
            "bin_end": 4110.505900285762,
            "count": 0
           },
           {
            "bin_start": 4110.505900285762,
            "bin_end": 4603.604347062881,
            "count": 2
           },
           {
            "bin_start": 4603.604347062881,
            "bin_end": 5096.70279384,
            "count": 4
           }
          ]
         }
        },
        {
         "name": "PORO(v/v)",
         "dtype": "float64",
         "stats": {
          "unique_count": 8,
          "nan_count": 0,
          "min": "0.0195662671642051",
          "max": "455.0",
          "histogram": [
           {
            "bin_start": 0.0195662671642051,
            "bin_end": 45.51760964044779,
            "count": 7
           },
           {
            "bin_start": 45.51760964044779,
            "bin_end": 91.01565301373137,
            "count": 0
           },
           {
            "bin_start": 91.01565301373137,
            "bin_end": 136.51369638701496,
            "count": 0
           },
           {
            "bin_start": 136.51369638701496,
            "bin_end": 182.01173976029852,
            "count": 0
           },
           {
            "bin_start": 182.01173976029852,
            "bin_end": 227.5097831335821,
            "count": 0
           },
           {
            "bin_start": 227.5097831335821,
            "bin_end": 273.0078265068657,
            "count": 0
           },
           {
            "bin_start": 273.0078265068657,
            "bin_end": 318.50586988014925,
            "count": 0
           },
           {
            "bin_start": 318.50586988014925,
            "bin_end": 364.0039132534328,
            "count": 0
           },
           {
            "bin_start": 364.0039132534328,
            "bin_end": 409.5019566267164,
            "count": 0
           },
           {
            "bin_start": 409.5019566267164,
            "bin_end": 455,
            "count": 1
           }
          ]
         }
        },
        {
         "name": "Permeability(mD)",
         "dtype": "float64",
         "stats": {
          "unique_count": 8,
          "nan_count": 0,
          "min": "1.0000000000000004e-06",
          "max": "352.69777303444863",
          "histogram": [
           {
            "bin_start": 0.0000010000000000000004,
            "bin_end": 35.26977820344486,
            "count": 5
           },
           {
            "bin_start": 35.26977820344486,
            "bin_end": 70.53955540688972,
            "count": 1
           },
           {
            "bin_start": 70.53955540688972,
            "bin_end": 105.80933261033458,
            "count": 0
           },
           {
            "bin_start": 105.80933261033458,
            "bin_end": 141.07910981377944,
            "count": 0
           },
           {
            "bin_start": 141.07910981377944,
            "bin_end": 176.34888701722429,
            "count": 0
           },
           {
            "bin_start": 176.34888701722429,
            "bin_end": 211.61866422066916,
            "count": 0
           },
           {
            "bin_start": 211.61866422066916,
            "bin_end": 246.88844142411403,
            "count": 1
           },
           {
            "bin_start": 246.88844142411403,
            "bin_end": 282.1582186275589,
            "count": 0
           },
           {
            "bin_start": 282.1582186275589,
            "bin_end": 317.4279958310037,
            "count": 0
           },
           {
            "bin_start": 317.4279958310037,
            "bin_end": 352.69777303444863,
            "count": 1
           }
          ]
         }
        },
        {
         "name": "RHOB(g/cm3)",
         "dtype": "float64",
         "stats": {
          "unique_count": 8,
          "nan_count": 0,
          "min": "0.2071484248324557",
          "max": "1918.0",
          "histogram": [
           {
            "bin_start": 0.2071484248324557,
            "bin_end": 191.98643358234924,
            "count": 7
           },
           {
            "bin_start": 191.98643358234924,
            "bin_end": 383.765718739866,
            "count": 0
           },
           {
            "bin_start": 383.765718739866,
            "bin_end": 575.5450038973827,
            "count": 0
           },
           {
            "bin_start": 575.5450038973827,
            "bin_end": 767.3242890548995,
            "count": 0
           },
           {
            "bin_start": 767.3242890548995,
            "bin_end": 959.1035742124163,
            "count": 0
           },
           {
            "bin_start": 959.1035742124163,
            "bin_end": 1150.882859369933,
            "count": 0
           },
           {
            "bin_start": 1150.882859369933,
            "bin_end": 1342.6621445274498,
            "count": 0
           },
           {
            "bin_start": 1342.6621445274498,
            "bin_end": 1534.4414296849666,
            "count": 0
           },
           {
            "bin_start": 1534.4414296849666,
            "bin_end": 1726.2207148424834,
            "count": 0
           },
           {
            "bin_start": 1726.2207148424834,
            "bin_end": 1918,
            "count": 1
           }
          ]
         }
        },
        {
         "name": "DTS(us/ft)",
         "dtype": "float64",
         "stats": {
          "unique_count": 8,
          "nan_count": 0,
          "min": "-471.6754337184833",
          "max": "1004.0",
          "histogram": [
           {
            "bin_start": -471.6754337184833,
            "bin_end": -324.107890346635,
            "count": 1
           },
           {
            "bin_start": -324.107890346635,
            "bin_end": -176.54034697478664,
            "count": 0
           },
           {
            "bin_start": -176.54034697478664,
            "bin_end": -28.972803602938313,
            "count": 0
           },
           {
            "bin_start": -28.972803602938313,
            "bin_end": 118.59473976891002,
            "count": 2
           },
           {
            "bin_start": 118.59473976891002,
            "bin_end": 266.1622831407584,
            "count": 4
           },
           {
            "bin_start": 266.1622831407584,
            "bin_end": 413.7298265126067,
            "count": 0
           },
           {
            "bin_start": 413.7298265126067,
            "bin_end": 561.297369884455,
            "count": 0
           },
           {
            "bin_start": 561.297369884455,
            "bin_end": 708.8649132563033,
            "count": 0
           },
           {
            "bin_start": 708.8649132563033,
            "bin_end": 856.4324566281517,
            "count": 0
           },
           {
            "bin_start": 856.4324566281517,
            "bin_end": 1004,
            "count": 1
           }
          ]
         }
        },
        {
         "name": "DT(us/ft)",
         "dtype": "float64",
         "stats": {
          "unique_count": 8,
          "nan_count": 0,
          "min": "1.1385236296090002",
          "max": "1920.0",
          "histogram": [
           {
            "bin_start": 1.1385236296090002,
            "bin_end": 193.0246712666481,
            "count": 7
           },
           {
            "bin_start": 193.0246712666481,
            "bin_end": 384.9108189036872,
            "count": 0
           },
           {
            "bin_start": 384.9108189036872,
            "bin_end": 576.7969665407263,
            "count": 0
           },
           {
            "bin_start": 576.7969665407263,
            "bin_end": 768.6831141777654,
            "count": 0
           },
           {
            "bin_start": 768.6831141777654,
            "bin_end": 960.5692618148046,
            "count": 0
           },
           {
            "bin_start": 960.5692618148046,
            "bin_end": 1152.4554094518435,
            "count": 0
           },
           {
            "bin_start": 1152.4554094518435,
            "bin_end": 1344.3415570888826,
            "count": 0
           },
           {
            "bin_start": 1344.3415570888826,
            "bin_end": 1536.2277047259217,
            "count": 0
           },
           {
            "bin_start": 1536.2277047259217,
            "bin_end": 1728.1138523629609,
            "count": 0
           },
           {
            "bin_start": 1728.1138523629609,
            "bin_end": 1920,
            "count": 1
           }
          ]
         }
        },
        {
         "name": "PEF(B/E)",
         "dtype": "float64",
         "stats": {
          "unique_count": 8,
          "nan_count": 0,
          "min": "0.0191546560138798",
          "max": "1689.0",
          "histogram": [
           {
            "bin_start": 0.0191546560138798,
            "bin_end": 168.9172391904125,
            "count": 7
           },
           {
            "bin_start": 168.9172391904125,
            "bin_end": 337.8153237248111,
            "count": 0
           },
           {
            "bin_start": 337.8153237248111,
            "bin_end": 506.7134082592097,
            "count": 0
           },
           {
            "bin_start": 506.7134082592097,
            "bin_end": 675.6114927936082,
            "count": 0
           },
           {
            "bin_start": 675.6114927936082,
            "bin_end": 844.5095773280068,
            "count": 0
           },
           {
            "bin_start": 844.5095773280068,
            "bin_end": 1013.4076618624055,
            "count": 0
           },
           {
            "bin_start": 1013.4076618624055,
            "bin_end": 1182.3057463968041,
            "count": 0
           },
           {
            "bin_start": 1182.3057463968041,
            "bin_end": 1351.2038309312027,
            "count": 0
           },
           {
            "bin_start": 1351.2038309312027,
            "bin_end": 1520.1019154656012,
            "count": 0
           },
           {
            "bin_start": 1520.1019154656012,
            "bin_end": 1689,
            "count": 1
           }
          ]
         }
        },
        {
         "name": "RD(OHMM)",
         "dtype": "float64",
         "stats": {
          "unique_count": 8,
          "nan_count": 0,
          "min": "10.197411103188909",
          "max": "2508.7705794721405",
          "histogram": [
           {
            "bin_start": 10.197411103188909,
            "bin_end": 260.05472794008404,
            "count": 6
           },
           {
            "bin_start": 260.05472794008404,
            "bin_end": 509.9120447769792,
            "count": 0
           },
           {
            "bin_start": 509.9120447769792,
            "bin_end": 759.7693616138743,
            "count": 0
           },
           {
            "bin_start": 759.7693616138743,
            "bin_end": 1009.6266784507694,
            "count": 0
           },
           {
            "bin_start": 1009.6266784507694,
            "bin_end": 1259.4839952876646,
            "count": 0
           },
           {
            "bin_start": 1259.4839952876646,
            "bin_end": 1509.3413121245596,
            "count": 0
           },
           {
            "bin_start": 1509.3413121245596,
            "bin_end": 1759.198628961455,
            "count": 1
           },
           {
            "bin_start": 1759.198628961455,
            "bin_end": 2009.05594579835,
            "count": 0
           },
           {
            "bin_start": 2009.05594579835,
            "bin_end": 2258.9132626352452,
            "count": 0
           },
           {
            "bin_start": 2258.9132626352452,
            "bin_end": 2508.7705794721405,
            "count": 1
           }
          ]
         }
        },
        {
         "name": "RS(OHMM)",
         "dtype": "float64",
         "stats": {
          "unique_count": 8,
          "nan_count": 0,
          "min": "2.27010759716032",
          "max": "62290.79999999999",
          "histogram": [
           {
            "bin_start": 2.27010759716032,
            "bin_end": 6231.123096837442,
            "count": 7
           },
           {
            "bin_start": 6231.123096837442,
            "bin_end": 12459.976086077724,
            "count": 0
           },
           {
            "bin_start": 12459.976086077724,
            "bin_end": 18688.829075318008,
            "count": 0
           },
           {
            "bin_start": 18688.829075318008,
            "bin_end": 24917.68206455829,
            "count": 0
           },
           {
            "bin_start": 24917.68206455829,
            "bin_end": 31146.53505379857,
            "count": 0
           },
           {
            "bin_start": 31146.53505379857,
            "bin_end": 37375.38804303886,
            "count": 0
           },
           {
            "bin_start": 37375.38804303886,
            "bin_end": 43604.24103227914,
            "count": 0
           },
           {
            "bin_start": 43604.24103227914,
            "bin_end": 49833.09402151942,
            "count": 0
           },
           {
            "bin_start": 49833.09402151942,
            "bin_end": 56061.9470107597,
            "count": 0
           },
           {
            "bin_start": 56061.9470107597,
            "bin_end": 62290.79999999999,
            "count": 1
           }
          ]
         }
        },
        {
         "name": "ROP",
         "dtype": "float64",
         "stats": {
          "unique_count": 8,
          "nan_count": 0,
          "min": "-490.30026675940246",
          "max": "1726.0",
          "histogram": [
           {
            "bin_start": -490.30026675940246,
            "bin_end": -268.6702400834622,
            "count": 1
           },
           {
            "bin_start": -268.6702400834622,
            "bin_end": -47.040213407522,
            "count": 0
           },
           {
            "bin_start": -47.040213407522,
            "bin_end": 174.5898132684182,
            "count": 6
           },
           {
            "bin_start": 174.5898132684182,
            "bin_end": 396.21983994435845,
            "count": 0
           },
           {
            "bin_start": 396.21983994435845,
            "bin_end": 617.8498666202987,
            "count": 0
           },
           {
            "bin_start": 617.8498666202987,
            "bin_end": 839.4798932962389,
            "count": 0
           },
           {
            "bin_start": 839.4798932962389,
            "bin_end": 1061.1099199721793,
            "count": 0
           },
           {
            "bin_start": 1061.1099199721793,
            "bin_end": 1282.7399466481193,
            "count": 0
           },
           {
            "bin_start": 1282.7399466481193,
            "bin_end": 1504.3699733240596,
            "count": 0
           },
           {
            "bin_start": 1504.3699733240596,
            "bin_end": 1726,
            "count": 1
           }
          ]
         }
        },
        {
         "name": "DENC(g/cm3)",
         "dtype": "float64",
         "stats": {
          "unique_count": 8,
          "nan_count": 0,
          "min": "-0.0501679667798593",
          "max": "1684.0",
          "histogram": [
           {
            "bin_start": -0.0501679667798593,
            "bin_end": 168.35484882989812,
            "count": 7
           },
           {
            "bin_start": 168.35484882989812,
            "bin_end": 336.75986562657613,
            "count": 0
           },
           {
            "bin_start": 336.75986562657613,
            "bin_end": 505.16488242325414,
            "count": 0
           },
           {
            "bin_start": 505.16488242325414,
            "bin_end": 673.569899219932,
            "count": 0
           },
           {
            "bin_start": 673.569899219932,
            "bin_end": 841.97491601661,
            "count": 0
           },
           {
            "bin_start": 841.97491601661,
            "bin_end": 1010.3799328132881,
            "count": 0
           },
           {
            "bin_start": 1010.3799328132881,
            "bin_end": 1178.7849496099661,
            "count": 0
           },
           {
            "bin_start": 1178.7849496099661,
            "bin_end": 1347.189966406644,
            "count": 0
           },
           {
            "bin_start": 1347.189966406644,
            "bin_end": 1515.594983203322,
            "count": 0
           },
           {
            "bin_start": 1515.594983203322,
            "bin_end": 1684,
            "count": 1
           }
          ]
         }
        },
        {
         "name": "NPHI(v/v)",
         "dtype": "float64",
         "stats": {
          "unique_count": 8,
          "nan_count": 0,
          "min": "-0.0019002511365949",
          "max": "1963.0",
          "histogram": [
           {
            "bin_start": -0.0019002511365949,
            "bin_end": 196.29828977397707,
            "count": 7
           },
           {
            "bin_start": 196.29828977397707,
            "bin_end": 392.59847979909074,
            "count": 0
           },
           {
            "bin_start": 392.59847979909074,
            "bin_end": 588.8986698242044,
            "count": 0
           },
           {
            "bin_start": 588.8986698242044,
            "bin_end": 785.1988598493181,
            "count": 0
           },
           {
            "bin_start": 785.1988598493181,
            "bin_end": 981.4990498744318,
            "count": 0
           },
           {
            "bin_start": 981.4990498744318,
            "bin_end": 1177.7992398995452,
            "count": 0
           },
           {
            "bin_start": 1177.7992398995452,
            "bin_end": 1374.099429924659,
            "count": 0
           },
           {
            "bin_start": 1374.099429924659,
            "bin_end": 1570.3996199497726,
            "count": 0
           },
           {
            "bin_start": 1570.3996199497726,
            "bin_end": 1766.6998099748862,
            "count": 0
           },
           {
            "bin_start": 1766.6998099748862,
            "bin_end": 1963,
            "count": 1
           }
          ]
         }
        },
        {
         "name": "X",
         "dtype": "float64",
         "stats": {
          "unique_count": 8,
          "nan_count": 0,
          "min": "1963.0",
          "max": "142095.82",
          "histogram": [
           {
            "bin_start": 1963,
            "bin_end": 15976.282000000001,
            "count": 2
           },
           {
            "bin_start": 15976.282000000001,
            "bin_end": 29989.564000000002,
            "count": 0
           },
           {
            "bin_start": 29989.564000000002,
            "bin_end": 44002.846000000005,
            "count": 0
           },
           {
            "bin_start": 44002.846000000005,
            "bin_end": 58016.128000000004,
            "count": 0
           },
           {
            "bin_start": 58016.128000000004,
            "bin_end": 72029.41,
            "count": 0
           },
           {
            "bin_start": 72029.41,
            "bin_end": 86042.69200000001,
            "count": 0
           },
           {
            "bin_start": 86042.69200000001,
            "bin_end": 100055.974,
            "count": 0
           },
           {
            "bin_start": 100055.974,
            "bin_end": 114069.25600000001,
            "count": 1
           },
           {
            "bin_start": 114069.25600000001,
            "bin_end": 128082.53800000002,
            "count": 3
           },
           {
            "bin_start": 128082.53800000002,
            "bin_end": 142095.82,
            "count": 2
           }
          ]
         }
        },
        {
         "name": "Y",
         "dtype": "float64",
         "stats": {
          "unique_count": 8,
          "nan_count": 0,
          "min": "1963.0",
          "max": "93691.55",
          "histogram": [
           {
            "bin_start": 1963,
            "bin_end": 11135.855,
            "count": 2
           },
           {
            "bin_start": 11135.855,
            "bin_end": 20308.71,
            "count": 0
           },
           {
            "bin_start": 20308.71,
            "bin_end": 29481.565,
            "count": 0
           },
           {
            "bin_start": 29481.565,
            "bin_end": 38654.42,
            "count": 0
           },
           {
            "bin_start": 38654.42,
            "bin_end": 47827.274999999994,
            "count": 0
           },
           {
            "bin_start": 47827.274999999994,
            "bin_end": 57000.13,
            "count": 0
           },
           {
            "bin_start": 57000.13,
            "bin_end": 66172.985,
            "count": 0
           },
           {
            "bin_start": 66172.985,
            "bin_end": 75345.84,
            "count": 0
           },
           {
            "bin_start": 75345.84,
            "bin_end": 84518.69499999999,
            "count": 2
           },
           {
            "bin_start": 84518.69499999999,
            "bin_end": 93691.55,
            "count": 4
           }
          ]
         }
        },
        {
         "name": "_deepnote_index_column",
         "dtype": "object"
        }
       ],
       "rows": [
        {
         "MD(ft)": 1963,
         "PORO(v/v)": 455,
         "Permeability(mD)": 221,
         "RHOB(g/cm3)": 1918,
         "DTS(us/ft)": 1004,
         "DT(us/ft)": 1920,
         "PEF(B/E)": 1689,
         "RD(OHMM)": 1724,
         "RS(OHMM)": 1724,
         "ROP": 1726,
         "DENC(g/cm3)": 1684,
         "NPHI(v/v)": 1963,
         "X": 1963,
         "Y": 1963,
         "_deepnote_index_column": "count"
        },
        {
         "MD(ft)": 4673.22465731028,
         "PORO(v/v)": 0.13113950525848025,
         "Permeability(mD)": 10.497033545970723,
         "RHOB(g/cm3)": 2.4728616172030233,
         "DTS(us/ft)": 128.27309592911485,
         "DT(us/ft)": 80.32272163354588,
         "PEF(B/E)": 5.351574741919681,
         "RD(OHMM)": 181.84425433853764,
         "RS(OHMM)": 514.5131683362492,
         "ROP": 20.1673042683126,
         "DENC(g/cm3)": 0.04752204311013016,
         "NPHI(v/v)": 0.20020320455147445,
         "X": 124875.69421293939,
         "Y": 87554.24904228223,
         "_deepnote_index_column": "mean"
        },
        {
         "MD(ft)": 165.718326068816,
         "PORO(v/v)": 0.06288684795911606,
         "Permeability(mD)": 39.24864471950914,
         "RHOB(g/cm3)": 0.2071484248324557,
         "DTS(us/ft)": 35.22231510379307,
         "DT(us/ft)": 17.827921132424155,
         "PEF(B/E)": 2.4752898013559985,
         "RD(OHMM)": 184.44383772124397,
         "RS(OHMM)": 3246.082233236523,
         "ROP": 28.413134758211125,
         "DENC(g/cm3)": 0.027440435285077454,
         "NPHI(v/v)": 0.10754139410909547,
         "X": 9796.471857238488,
         "Y": 3209.1675619967828,
         "_deepnote_index_column": "std"
        },
        {
         "MD(ft)": 4228.00568344,
         "PORO(v/v)": 0.0195662671642051,
         "Permeability(mD)": 0.0000010000000000000004,
         "RHOB(g/cm3)": 1.9910349953672428,
         "DTS(us/ft)": -471.6754337184833,
         "DT(us/ft)": 1.1385236296090002,
         "PEF(B/E)": 0.0191546560138798,
         "RD(OHMM)": 10.197411103188909,
         "RS(OHMM)": 2.27010759716032,
         "ROP": -490.30026675940246,
         "DENC(g/cm3)": -0.0501679667798593,
         "NPHI(v/v)": -0.0019002511365949,
         "X": 109560.26,
         "Y": 81747.12,
         "_deepnote_index_column": "min"
        },
        {
         "MD(ft)": 4546.54785756,
         "PORO(v/v)": 0.0724676499849285,
         "Permeability(mD)": 0.019500311309533,
         "RHOB(g/cm3)": 2.326909127026913,
         "DTS(us/ft)": 116.81308960206204,
         "DT(us/ft)": 69.49341759844161,
         "PEF(B/E)": 4.930554771752797,
         "RD(OHMM)": 70.34574898152226,
         "RS(OHMM)": 71.60628328797216,
         "ROP": 16.815940365815262,
         "DENC(g/cm3)": 0.0308300185986303,
         "NPHI(v/v)": 0.12287777388151619,
         "X": 115987.29,
         "Y": 84476.47,
         "_deepnote_index_column": "25%"
        },
        {
         "MD(ft)": 4666.80297808,
         "PORO(v/v)": 0.1296620289857108,
         "Permeability(mD)": 0.0948128056708444,
         "RHOB(g/cm3)": 2.469486088416141,
         "DTS(us/ft)": 131.85115165502492,
         "DT(us/ft)": 78.92950436572752,
         "PEF(B/E)": 5.782597130930342,
         "RD(OHMM)": 130.88486437088324,
         "RS(OHMM)": 137.39865440874843,
         "ROP": 20.01171362106787,
         "DENC(g/cm3)": 0.050911578706548596,
         "NPHI(v/v)": 0.1864314413822091,
         "X": 124094.8,
         "Y": 88549.74,
         "_deepnote_index_column": "50%"
        },
        {
         "MD(ft)": 4796.413227679999,
         "PORO(v/v)": 0.18537253486800664,
         "Permeability(mD)": 1.948103843207315,
         "RHOB(g/cm3)": 2.578889727637204,
         "DTS(us/ft)": 142.29595440445823,
         "DT(us/ft)": 87.8638298352632,
         "PEF(B/E)": 6.477832173794093,
         "RD(OHMM)": 213.02158149196416,
         "RS(OHMM)": 259.946834235756,
         "ROP": 27.341557279764963,
         "DENC(g/cm3)": 0.06316507785596827,
         "NPHI(v/v)": 0.2449326056278074,
         "X": 134042.86,
         "Y": 89987,
         "_deepnote_index_column": "75%"
        },
        {
         "MD(ft)": 5096.70279384,
         "PORO(v/v)": 0.2492413778709432,
         "Permeability(mD)": 352.69777303444863,
         "RHOB(g/cm3)": 3.0441631442050667,
         "DTS(us/ft)": 186.25396424018933,
         "DT(us/ft)": 179.13300099295662,
         "PEF(B/E)": 11.490935688936636,
         "RD(OHMM)": 2508.7705794721405,
         "RS(OHMM)": 62290.79999999999,
         "ROP": 46.8954,
         "DENC(g/cm3)": 0.1613572675062899,
         "NPHI(v/v)": 1.02173819565939,
         "X": 142095.82,
         "Y": 93691.55,
         "_deepnote_index_column": "max"
        }
       ]
      },
      "text/plain": "            MD(ft)   PORO(v/v)  Permeability(mD)  RHOB(g/cm3)   DTS(us/ft)  \\\ncount  1963.000000  455.000000        221.000000  1918.000000  1004.000000   \nmean   4673.224657    0.131140         10.497034     2.472862   128.273096   \nstd     165.718326    0.062887         39.248645     0.207148    35.222315   \nmin    4228.005683    0.019566          0.000001     1.991035  -471.675434   \n25%    4546.547858    0.072468          0.019500     2.326909   116.813090   \n50%    4666.802978    0.129662          0.094813     2.469486   131.851152   \n75%    4796.413228    0.185373          1.948104     2.578890   142.295954   \nmax    5096.702794    0.249241        352.697773     3.044163   186.253964   \n\n         DT(us/ft)     PEF(B/E)     RD(OHMM)      RS(OHMM)          ROP  \\\ncount  1920.000000  1689.000000  1724.000000   1724.000000  1726.000000   \nmean     80.322722     5.351575   181.844254    514.513168    20.167304   \nstd      17.827921     2.475290   184.443838   3246.082233    28.413135   \nmin       1.138524     0.019155    10.197411      2.270108  -490.300267   \n25%      69.493418     4.930555    70.345749     71.606283    16.815940   \n50%      78.929504     5.782597   130.884864    137.398654    20.011714   \n75%      87.863830     6.477832   213.021581    259.946834    27.341557   \nmax     179.133001    11.490936  2508.770579  62290.800000    46.895400   \n\n       DENC(g/cm3)    NPHI(v/v)              X             Y  \ncount  1684.000000  1963.000000    1963.000000   1963.000000  \nmean      0.047522     0.200203  124875.694213  87554.249042  \nstd       0.027440     0.107541    9796.471857   3209.167562  \nmin      -0.050168    -0.001900  109560.260000  81747.120000  \n25%       0.030830     0.122878  115987.290000  84476.470000  \n50%       0.050912     0.186431  124094.800000  88549.740000  \n75%       0.063165     0.244933  134042.860000  89987.000000  \nmax       0.161357     1.021738  142095.820000  93691.550000  ",
      "text/html": "<div>\n<style scoped>\n    .dataframe tbody tr th:only-of-type {\n        vertical-align: middle;\n    }\n\n    .dataframe tbody tr th {\n        vertical-align: top;\n    }\n\n    .dataframe thead th {\n        text-align: right;\n    }\n</style>\n<table border=\"1\" class=\"dataframe\">\n  <thead>\n    <tr style=\"text-align: right;\">\n      <th></th>\n      <th>MD(ft)</th>\n      <th>PORO(v/v)</th>\n      <th>Permeability(mD)</th>\n      <th>RHOB(g/cm3)</th>\n      <th>DTS(us/ft)</th>\n      <th>DT(us/ft)</th>\n      <th>PEF(B/E)</th>\n      <th>RD(OHMM)</th>\n      <th>RS(OHMM)</th>\n      <th>ROP</th>\n      <th>DENC(g/cm3)</th>\n      <th>NPHI(v/v)</th>\n      <th>X</th>\n      <th>Y</th>\n    </tr>\n  </thead>\n  <tbody>\n    <tr>\n      <th>count</th>\n      <td>1963.000000</td>\n      <td>455.000000</td>\n      <td>221.000000</td>\n      <td>1918.000000</td>\n      <td>1004.000000</td>\n      <td>1920.000000</td>\n      <td>1689.000000</td>\n      <td>1724.000000</td>\n      <td>1724.000000</td>\n      <td>1726.000000</td>\n      <td>1684.000000</td>\n      <td>1963.000000</td>\n      <td>1963.000000</td>\n      <td>1963.000000</td>\n    </tr>\n    <tr>\n      <th>mean</th>\n      <td>4673.224657</td>\n      <td>0.131140</td>\n      <td>10.497034</td>\n      <td>2.472862</td>\n      <td>128.273096</td>\n      <td>80.322722</td>\n      <td>5.351575</td>\n      <td>181.844254</td>\n      <td>514.513168</td>\n      <td>20.167304</td>\n      <td>0.047522</td>\n      <td>0.200203</td>\n      <td>124875.694213</td>\n      <td>87554.249042</td>\n    </tr>\n    <tr>\n      <th>std</th>\n      <td>165.718326</td>\n      <td>0.062887</td>\n      <td>39.248645</td>\n      <td>0.207148</td>\n      <td>35.222315</td>\n      <td>17.827921</td>\n      <td>2.475290</td>\n      <td>184.443838</td>\n      <td>3246.082233</td>\n      <td>28.413135</td>\n      <td>0.027440</td>\n      <td>0.107541</td>\n      <td>9796.471857</td>\n      <td>3209.167562</td>\n    </tr>\n    <tr>\n      <th>min</th>\n      <td>4228.005683</td>\n      <td>0.019566</td>\n      <td>0.000001</td>\n      <td>1.991035</td>\n      <td>-471.675434</td>\n      <td>1.138524</td>\n      <td>0.019155</td>\n      <td>10.197411</td>\n      <td>2.270108</td>\n      <td>-490.300267</td>\n      <td>-0.050168</td>\n      <td>-0.001900</td>\n      <td>109560.260000</td>\n      <td>81747.120000</td>\n    </tr>\n    <tr>\n      <th>25%</th>\n      <td>4546.547858</td>\n      <td>0.072468</td>\n      <td>0.019500</td>\n      <td>2.326909</td>\n      <td>116.813090</td>\n      <td>69.493418</td>\n      <td>4.930555</td>\n      <td>70.345749</td>\n      <td>71.606283</td>\n      <td>16.815940</td>\n      <td>0.030830</td>\n      <td>0.122878</td>\n      <td>115987.290000</td>\n      <td>84476.470000</td>\n    </tr>\n    <tr>\n      <th>50%</th>\n      <td>4666.802978</td>\n      <td>0.129662</td>\n      <td>0.094813</td>\n      <td>2.469486</td>\n      <td>131.851152</td>\n      <td>78.929504</td>\n      <td>5.782597</td>\n      <td>130.884864</td>\n      <td>137.398654</td>\n      <td>20.011714</td>\n      <td>0.050912</td>\n      <td>0.186431</td>\n      <td>124094.800000</td>\n      <td>88549.740000</td>\n    </tr>\n    <tr>\n      <th>75%</th>\n      <td>4796.413228</td>\n      <td>0.185373</td>\n      <td>1.948104</td>\n      <td>2.578890</td>\n      <td>142.295954</td>\n      <td>87.863830</td>\n      <td>6.477832</td>\n      <td>213.021581</td>\n      <td>259.946834</td>\n      <td>27.341557</td>\n      <td>0.063165</td>\n      <td>0.244933</td>\n      <td>134042.860000</td>\n      <td>89987.000000</td>\n    </tr>\n    <tr>\n      <th>max</th>\n      <td>5096.702794</td>\n      <td>0.249241</td>\n      <td>352.697773</td>\n      <td>3.044163</td>\n      <td>186.253964</td>\n      <td>179.133001</td>\n      <td>11.490936</td>\n      <td>2508.770579</td>\n      <td>62290.800000</td>\n      <td>46.895400</td>\n      <td>0.161357</td>\n      <td>1.021738</td>\n      <td>142095.820000</td>\n      <td>93691.550000</td>\n    </tr>\n  </tbody>\n</table>\n</div>"
     },
     "metadata": {}
    }
   ]
  },
  {
   "cell_type": "code",
   "metadata": {
    "cell_id": "0d3b92f934c3423e962825460bbfc931",
    "tags": [],
    "deepnote_to_be_reexecuted": false,
    "source_hash": "c92b37f7",
    "execution_start": 1648305155504,
    "execution_millis": 46,
    "deepnote_cell_type": "code",
    "deepnote_cell_height": 80.60000610351562
   },
   "source": "master.to_csv(well_log_dir + \"WELL_MASTER.csv\", index=False)",
   "execution_count": 9,
   "outputs": []
  },
  {
   "cell_type": "code",
   "metadata": {
    "cell_id": "616e3f5a15cd447db79160a6672f8cd2",
    "tags": [],
    "deepnote_to_be_reexecuted": false,
    "source_hash": "d1e36d47",
    "execution_start": 1648305160074,
    "execution_millis": 30,
    "deepnote_cell_type": "code",
    "deepnote_cell_height": 80.60000610351562
   },
   "source": "prod_df = pd.read_csv(\"/work/Carpe-Datum-2022/Production_History_Field.csv\", index_col=\"Date\")",
   "execution_count": 10,
   "outputs": []
  },
  {
   "cell_type": "code",
   "metadata": {
    "cell_id": "ae49ac364885430dbd9c8de607ebcde0",
    "tags": [],
    "deepnote_to_be_reexecuted": false,
    "source_hash": "b7ad10fa",
    "execution_start": 1648305161704,
    "execution_millis": 4,
    "deepnote_cell_type": "code",
    "deepnote_cell_height": 80.60000610351562
   },
   "source": "prod_df[\"Total\"] = prod_df.sum(axis=1)",
   "execution_count": 11,
   "outputs": []
  },
  {
   "cell_type": "code",
   "metadata": {
    "cell_id": "198d1b7782f54395afbde50db4260bca",
    "tags": [],
    "deepnote_to_be_reexecuted": false,
    "source_hash": "758144f7",
    "execution_start": 1648305163441,
    "execution_millis": 189,
    "deepnote_cell_type": "code",
    "deepnote_cell_height": 409
   },
   "source": "prod_df.head()",
   "execution_count": 12,
   "outputs": [
    {
     "output_type": "execute_result",
     "execution_count": 12,
     "data": {
      "application/vnd.deepnote.dataframe.v3+json": {
       "column_count": 51,
       "row_count": 5,
       "columns": [
        {
         "name": "WOPR:WP0(bbl/day)",
         "dtype": "float64",
         "stats": {
          "unique_count": 5,
          "nan_count": 0,
          "min": "8.834659127",
          "max": "8.945507797",
          "histogram": [
           {
            "bin_start": 8.834659127,
            "bin_end": 8.845743994,
            "count": 2
           },
           {
            "bin_start": 8.845743994,
            "bin_end": 8.856828861,
            "count": 2
           },
           {
            "bin_start": 8.856828861,
            "bin_end": 8.867913728,
            "count": 0
           },
           {
            "bin_start": 8.867913728,
            "bin_end": 8.878998595,
            "count": 0
           },
           {
            "bin_start": 8.878998595,
            "bin_end": 8.890083462,
            "count": 0
           },
           {
            "bin_start": 8.890083462,
            "bin_end": 8.901168328999999,
            "count": 0
           },
           {
            "bin_start": 8.901168328999999,
            "bin_end": 8.912253196,
            "count": 0
           },
           {
            "bin_start": 8.912253196,
            "bin_end": 8.923338063,
            "count": 0
           },
           {
            "bin_start": 8.923338063,
            "bin_end": 8.93442293,
            "count": 0
           },
           {
            "bin_start": 8.93442293,
            "bin_end": 8.945507797,
            "count": 1
           }
          ]
         }
        },
        {
         "name": "WOPR:WP1(bbl/day)",
         "dtype": "float64",
         "stats": {
          "unique_count": 1,
          "nan_count": 0,
          "min": "0.0",
          "max": "0.0",
          "histogram": [
           {
            "bin_start": -0.5,
            "bin_end": -0.4,
            "count": 0
           },
           {
            "bin_start": -0.4,
            "bin_end": -0.3,
            "count": 0
           },
           {
            "bin_start": -0.3,
            "bin_end": -0.19999999999999996,
            "count": 0
           },
           {
            "bin_start": -0.19999999999999996,
            "bin_end": -0.09999999999999998,
            "count": 0
           },
           {
            "bin_start": -0.09999999999999998,
            "bin_end": 0,
            "count": 0
           },
           {
            "bin_start": 0,
            "bin_end": 0.10000000000000009,
            "count": 5
           },
           {
            "bin_start": 0.10000000000000009,
            "bin_end": 0.20000000000000007,
            "count": 0
           },
           {
            "bin_start": 0.20000000000000007,
            "bin_end": 0.30000000000000004,
            "count": 0
           },
           {
            "bin_start": 0.30000000000000004,
            "bin_end": 0.4,
            "count": 0
           },
           {
            "bin_start": 0.4,
            "bin_end": 0.5,
            "count": 0
           }
          ]
         }
        },
        {
         "name": "WOPR:WP10(bbl/day)",
         "dtype": "float64",
         "stats": {
          "unique_count": 1,
          "nan_count": 0,
          "min": "0.0",
          "max": "0.0",
          "histogram": [
           {
            "bin_start": -0.5,
            "bin_end": -0.4,
            "count": 0
           },
           {
            "bin_start": -0.4,
            "bin_end": -0.3,
            "count": 0
           },
           {
            "bin_start": -0.3,
            "bin_end": -0.19999999999999996,
            "count": 0
           },
           {
            "bin_start": -0.19999999999999996,
            "bin_end": -0.09999999999999998,
            "count": 0
           },
           {
            "bin_start": -0.09999999999999998,
            "bin_end": 0,
            "count": 0
           },
           {
            "bin_start": 0,
            "bin_end": 0.10000000000000009,
            "count": 5
           },
           {
            "bin_start": 0.10000000000000009,
            "bin_end": 0.20000000000000007,
            "count": 0
           },
           {
            "bin_start": 0.20000000000000007,
            "bin_end": 0.30000000000000004,
            "count": 0
           },
           {
            "bin_start": 0.30000000000000004,
            "bin_end": 0.4,
            "count": 0
           },
           {
            "bin_start": 0.4,
            "bin_end": 0.5,
            "count": 0
           }
          ]
         }
        },
        {
         "name": "WOPR:WP11(bbl/day)",
         "dtype": "int64",
         "stats": {
          "unique_count": 1,
          "nan_count": 0,
          "min": "0",
          "max": "0",
          "histogram": [
           {
            "bin_start": -0.5,
            "bin_end": -0.4,
            "count": 0
           },
           {
            "bin_start": -0.4,
            "bin_end": -0.3,
            "count": 0
           },
           {
            "bin_start": -0.3,
            "bin_end": -0.19999999999999996,
            "count": 0
           },
           {
            "bin_start": -0.19999999999999996,
            "bin_end": -0.09999999999999998,
            "count": 0
           },
           {
            "bin_start": -0.09999999999999998,
            "bin_end": 0,
            "count": 0
           },
           {
            "bin_start": 0,
            "bin_end": 0.10000000000000009,
            "count": 5
           },
           {
            "bin_start": 0.10000000000000009,
            "bin_end": 0.20000000000000007,
            "count": 0
           },
           {
            "bin_start": 0.20000000000000007,
            "bin_end": 0.30000000000000004,
            "count": 0
           },
           {
            "bin_start": 0.30000000000000004,
            "bin_end": 0.4,
            "count": 0
           },
           {
            "bin_start": 0.4,
            "bin_end": 0.5,
            "count": 0
           }
          ]
         }
        },
        {
         "name": "WOPR:WP12(bbl/day)",
         "dtype": "float64",
         "stats": {
          "unique_count": 1,
          "nan_count": 0,
          "min": "0.0",
          "max": "0.0",
          "histogram": [
           {
            "bin_start": -0.5,
            "bin_end": -0.4,
            "count": 0
           },
           {
            "bin_start": -0.4,
            "bin_end": -0.3,
            "count": 0
           },
           {
            "bin_start": -0.3,
            "bin_end": -0.19999999999999996,
            "count": 0
           },
           {
            "bin_start": -0.19999999999999996,
            "bin_end": -0.09999999999999998,
            "count": 0
           },
           {
            "bin_start": -0.09999999999999998,
            "bin_end": 0,
            "count": 0
           },
           {
            "bin_start": 0,
            "bin_end": 0.10000000000000009,
            "count": 5
           },
           {
            "bin_start": 0.10000000000000009,
            "bin_end": 0.20000000000000007,
            "count": 0
           },
           {
            "bin_start": 0.20000000000000007,
            "bin_end": 0.30000000000000004,
            "count": 0
           },
           {
            "bin_start": 0.30000000000000004,
            "bin_end": 0.4,
            "count": 0
           },
           {
            "bin_start": 0.4,
            "bin_end": 0.5,
            "count": 0
           }
          ]
         }
        },
        {
         "name": "WOPR:WP13(bbl/day)",
         "dtype": "float64",
         "stats": {
          "unique_count": 1,
          "nan_count": 0,
          "min": "0.0",
          "max": "0.0",
          "histogram": [
           {
            "bin_start": -0.5,
            "bin_end": -0.4,
            "count": 0
           },
           {
            "bin_start": -0.4,
            "bin_end": -0.3,
            "count": 0
           },
           {
            "bin_start": -0.3,
            "bin_end": -0.19999999999999996,
            "count": 0
           },
           {
            "bin_start": -0.19999999999999996,
            "bin_end": -0.09999999999999998,
            "count": 0
           },
           {
            "bin_start": -0.09999999999999998,
            "bin_end": 0,
            "count": 0
           },
           {
            "bin_start": 0,
            "bin_end": 0.10000000000000009,
            "count": 5
           },
           {
            "bin_start": 0.10000000000000009,
            "bin_end": 0.20000000000000007,
            "count": 0
           },
           {
            "bin_start": 0.20000000000000007,
            "bin_end": 0.30000000000000004,
            "count": 0
           },
           {
            "bin_start": 0.30000000000000004,
            "bin_end": 0.4,
            "count": 0
           },
           {
            "bin_start": 0.4,
            "bin_end": 0.5,
            "count": 0
           }
          ]
         }
        },
        {
         "name": "WOPR:WP14(bbl/day)",
         "dtype": "float64",
         "stats": {
          "unique_count": 1,
          "nan_count": 0,
          "min": "0.0",
          "max": "0.0",
          "histogram": [
           {
            "bin_start": -0.5,
            "bin_end": -0.4,
            "count": 0
           },
           {
            "bin_start": -0.4,
            "bin_end": -0.3,
            "count": 0
           },
           {
            "bin_start": -0.3,
            "bin_end": -0.19999999999999996,
            "count": 0
           },
           {
            "bin_start": -0.19999999999999996,
            "bin_end": -0.09999999999999998,
            "count": 0
           },
           {
            "bin_start": -0.09999999999999998,
            "bin_end": 0,
            "count": 0
           },
           {
            "bin_start": 0,
            "bin_end": 0.10000000000000009,
            "count": 5
           },
           {
            "bin_start": 0.10000000000000009,
            "bin_end": 0.20000000000000007,
            "count": 0
           },
           {
            "bin_start": 0.20000000000000007,
            "bin_end": 0.30000000000000004,
            "count": 0
           },
           {
            "bin_start": 0.30000000000000004,
            "bin_end": 0.4,
            "count": 0
           },
           {
            "bin_start": 0.4,
            "bin_end": 0.5,
            "count": 0
           }
          ]
         }
        },
        {
         "name": "WOPR:WP15(bbl/day)",
         "dtype": "float64",
         "stats": {
          "unique_count": 3,
          "nan_count": 0,
          "min": "0.0",
          "max": "3483.552017",
          "histogram": [
           {
            "bin_start": 0,
            "bin_end": 348.3552017,
            "count": 3
           },
           {
            "bin_start": 348.3552017,
            "bin_end": 696.7104034,
            "count": 0
           },
           {
            "bin_start": 696.7104034,
            "bin_end": 1045.0656051,
            "count": 0
           },
           {
            "bin_start": 1045.0656051,
            "bin_end": 1393.4208068,
            "count": 0
           },
           {
            "bin_start": 1393.4208068,
            "bin_end": 1741.7760085,
            "count": 0
           },
           {
            "bin_start": 1741.7760085,
            "bin_end": 2090.1312102,
            "count": 0
           },
           {
            "bin_start": 2090.1312102,
            "bin_end": 2438.4864119,
            "count": 0
           },
           {
            "bin_start": 2438.4864119,
            "bin_end": 2786.8416136,
            "count": 0
           },
           {
            "bin_start": 2786.8416136,
            "bin_end": 3135.1968153000003,
            "count": 0
           },
           {
            "bin_start": 3135.1968153000003,
            "bin_end": 3483.552017,
            "count": 2
           }
          ]
         }
        },
        {
         "name": "WOPR:WP16(bbl/day)",
         "dtype": "float64",
         "stats": {
          "unique_count": 1,
          "nan_count": 0,
          "min": "0.0",
          "max": "0.0",
          "histogram": [
           {
            "bin_start": -0.5,
            "bin_end": -0.4,
            "count": 0
           },
           {
            "bin_start": -0.4,
            "bin_end": -0.3,
            "count": 0
           },
           {
            "bin_start": -0.3,
            "bin_end": -0.19999999999999996,
            "count": 0
           },
           {
            "bin_start": -0.19999999999999996,
            "bin_end": -0.09999999999999998,
            "count": 0
           },
           {
            "bin_start": -0.09999999999999998,
            "bin_end": 0,
            "count": 0
           },
           {
            "bin_start": 0,
            "bin_end": 0.10000000000000009,
            "count": 5
           },
           {
            "bin_start": 0.10000000000000009,
            "bin_end": 0.20000000000000007,
            "count": 0
           },
           {
            "bin_start": 0.20000000000000007,
            "bin_end": 0.30000000000000004,
            "count": 0
           },
           {
            "bin_start": 0.30000000000000004,
            "bin_end": 0.4,
            "count": 0
           },
           {
            "bin_start": 0.4,
            "bin_end": 0.5,
            "count": 0
           }
          ]
         }
        },
        {
         "name": "WOPR:WP17(bbl/day)",
         "dtype": "float64",
         "stats": {
          "unique_count": 1,
          "nan_count": 0,
          "min": "0.0",
          "max": "0.0",
          "histogram": [
           {
            "bin_start": -0.5,
            "bin_end": -0.4,
            "count": 0
           },
           {
            "bin_start": -0.4,
            "bin_end": -0.3,
            "count": 0
           },
           {
            "bin_start": -0.3,
            "bin_end": -0.19999999999999996,
            "count": 0
           },
           {
            "bin_start": -0.19999999999999996,
            "bin_end": -0.09999999999999998,
            "count": 0
           },
           {
            "bin_start": -0.09999999999999998,
            "bin_end": 0,
            "count": 0
           },
           {
            "bin_start": 0,
            "bin_end": 0.10000000000000009,
            "count": 5
           },
           {
            "bin_start": 0.10000000000000009,
            "bin_end": 0.20000000000000007,
            "count": 0
           },
           {
            "bin_start": 0.20000000000000007,
            "bin_end": 0.30000000000000004,
            "count": 0
           },
           {
            "bin_start": 0.30000000000000004,
            "bin_end": 0.4,
            "count": 0
           },
           {
            "bin_start": 0.4,
            "bin_end": 0.5,
            "count": 0
           }
          ]
         }
        },
        {
         "name": "WOPR:WP18(bbl/day)",
         "dtype": "float64",
         "stats": {
          "unique_count": 5,
          "nan_count": 0,
          "min": "326.1182527",
          "max": "372.7464441",
          "histogram": [
           {
            "bin_start": 326.1182527,
            "bin_end": 330.78107184000004,
            "count": 2
           },
           {
            "bin_start": 330.78107184000004,
            "bin_end": 335.44389098000005,
            "count": 1
           },
           {
            "bin_start": 335.44389098000005,
            "bin_end": 340.10671012,
            "count": 1
           },
           {
            "bin_start": 340.10671012,
            "bin_end": 344.76952926,
            "count": 0
           },
           {
            "bin_start": 344.76952926,
            "bin_end": 349.4323484,
            "count": 0
           },
           {
            "bin_start": 349.4323484,
            "bin_end": 354.09516754000003,
            "count": 0
           },
           {
            "bin_start": 354.09516754000003,
            "bin_end": 358.75798668000004,
            "count": 0
           },
           {
            "bin_start": 358.75798668000004,
            "bin_end": 363.42080582,
            "count": 0
           },
           {
            "bin_start": 363.42080582,
            "bin_end": 368.08362496,
            "count": 0
           },
           {
            "bin_start": 368.08362496,
            "bin_end": 372.7464441,
            "count": 1
           }
          ]
         }
        },
        {
         "name": "WOPR:WP19(bbl/day)",
         "dtype": "float64",
         "stats": {
          "unique_count": 1,
          "nan_count": 0,
          "min": "0.0",
          "max": "0.0",
          "histogram": [
           {
            "bin_start": -0.5,
            "bin_end": -0.4,
            "count": 0
           },
           {
            "bin_start": -0.4,
            "bin_end": -0.3,
            "count": 0
           },
           {
            "bin_start": -0.3,
            "bin_end": -0.19999999999999996,
            "count": 0
           },
           {
            "bin_start": -0.19999999999999996,
            "bin_end": -0.09999999999999998,
            "count": 0
           },
           {
            "bin_start": -0.09999999999999998,
            "bin_end": 0,
            "count": 0
           },
           {
            "bin_start": 0,
            "bin_end": 0.10000000000000009,
            "count": 5
           },
           {
            "bin_start": 0.10000000000000009,
            "bin_end": 0.20000000000000007,
            "count": 0
           },
           {
            "bin_start": 0.20000000000000007,
            "bin_end": 0.30000000000000004,
            "count": 0
           },
           {
            "bin_start": 0.30000000000000004,
            "bin_end": 0.4,
            "count": 0
           },
           {
            "bin_start": 0.4,
            "bin_end": 0.5,
            "count": 0
           }
          ]
         }
        },
        {
         "name": "WOPR:WP2(bbl/day)",
         "dtype": "float64",
         "stats": {
          "unique_count": 1,
          "nan_count": 0,
          "min": "0.0",
          "max": "0.0",
          "histogram": [
           {
            "bin_start": -0.5,
            "bin_end": -0.4,
            "count": 0
           },
           {
            "bin_start": -0.4,
            "bin_end": -0.3,
            "count": 0
           },
           {
            "bin_start": -0.3,
            "bin_end": -0.19999999999999996,
            "count": 0
           },
           {
            "bin_start": -0.19999999999999996,
            "bin_end": -0.09999999999999998,
            "count": 0
           },
           {
            "bin_start": -0.09999999999999998,
            "bin_end": 0,
            "count": 0
           },
           {
            "bin_start": 0,
            "bin_end": 0.10000000000000009,
            "count": 5
           },
           {
            "bin_start": 0.10000000000000009,
            "bin_end": 0.20000000000000007,
            "count": 0
           },
           {
            "bin_start": 0.20000000000000007,
            "bin_end": 0.30000000000000004,
            "count": 0
           },
           {
            "bin_start": 0.30000000000000004,
            "bin_end": 0.4,
            "count": 0
           },
           {
            "bin_start": 0.4,
            "bin_end": 0.5,
            "count": 0
           }
          ]
         }
        },
        {
         "name": "WOPR:WP20(bbl/day)",
         "dtype": "float64",
         "stats": {
          "unique_count": 1,
          "nan_count": 0,
          "min": "0.0",
          "max": "0.0",
          "histogram": [
           {
            "bin_start": -0.5,
            "bin_end": -0.4,
            "count": 0
           },
           {
            "bin_start": -0.4,
            "bin_end": -0.3,
            "count": 0
           },
           {
            "bin_start": -0.3,
            "bin_end": -0.19999999999999996,
            "count": 0
           },
           {
            "bin_start": -0.19999999999999996,
            "bin_end": -0.09999999999999998,
            "count": 0
           },
           {
            "bin_start": -0.09999999999999998,
            "bin_end": 0,
            "count": 0
           },
           {
            "bin_start": 0,
            "bin_end": 0.10000000000000009,
            "count": 5
           },
           {
            "bin_start": 0.10000000000000009,
            "bin_end": 0.20000000000000007,
            "count": 0
           },
           {
            "bin_start": 0.20000000000000007,
            "bin_end": 0.30000000000000004,
            "count": 0
           },
           {
            "bin_start": 0.30000000000000004,
            "bin_end": 0.4,
            "count": 0
           },
           {
            "bin_start": 0.4,
            "bin_end": 0.5,
            "count": 0
           }
          ]
         }
        },
        {
         "name": "WOPR:WP21(bbl/day)",
         "dtype": "float64",
         "stats": {
          "unique_count": 1,
          "nan_count": 0,
          "min": "0.0",
          "max": "0.0",
          "histogram": [
           {
            "bin_start": -0.5,
            "bin_end": -0.4,
            "count": 0
           },
           {
            "bin_start": -0.4,
            "bin_end": -0.3,
            "count": 0
           },
           {
            "bin_start": -0.3,
            "bin_end": -0.19999999999999996,
            "count": 0
           },
           {
            "bin_start": -0.19999999999999996,
            "bin_end": -0.09999999999999998,
            "count": 0
           },
           {
            "bin_start": -0.09999999999999998,
            "bin_end": 0,
            "count": 0
           },
           {
            "bin_start": 0,
            "bin_end": 0.10000000000000009,
            "count": 5
           },
           {
            "bin_start": 0.10000000000000009,
            "bin_end": 0.20000000000000007,
            "count": 0
           },
           {
            "bin_start": 0.20000000000000007,
            "bin_end": 0.30000000000000004,
            "count": 0
           },
           {
            "bin_start": 0.30000000000000004,
            "bin_end": 0.4,
            "count": 0
           },
           {
            "bin_start": 0.4,
            "bin_end": 0.5,
            "count": 0
           }
          ]
         }
        },
        {
         "name": "WOPR:WP22(bbl/day)",
         "dtype": "float64",
         "stats": {
          "unique_count": 1,
          "nan_count": 0,
          "min": "0.0",
          "max": "0.0",
          "histogram": [
           {
            "bin_start": -0.5,
            "bin_end": -0.4,
            "count": 0
           },
           {
            "bin_start": -0.4,
            "bin_end": -0.3,
            "count": 0
           },
           {
            "bin_start": -0.3,
            "bin_end": -0.19999999999999996,
            "count": 0
           },
           {
            "bin_start": -0.19999999999999996,
            "bin_end": -0.09999999999999998,
            "count": 0
           },
           {
            "bin_start": -0.09999999999999998,
            "bin_end": 0,
            "count": 0
           },
           {
            "bin_start": 0,
            "bin_end": 0.10000000000000009,
            "count": 5
           },
           {
            "bin_start": 0.10000000000000009,
            "bin_end": 0.20000000000000007,
            "count": 0
           },
           {
            "bin_start": 0.20000000000000007,
            "bin_end": 0.30000000000000004,
            "count": 0
           },
           {
            "bin_start": 0.30000000000000004,
            "bin_end": 0.4,
            "count": 0
           },
           {
            "bin_start": 0.4,
            "bin_end": 0.5,
            "count": 0
           }
          ]
         }
        },
        {
         "name": "WOPR:WP23(bbl/day)",
         "dtype": "float64",
         "stats": {
          "unique_count": 1,
          "nan_count": 0,
          "min": "0.0",
          "max": "0.0",
          "histogram": [
           {
            "bin_start": -0.5,
            "bin_end": -0.4,
            "count": 0
           },
           {
            "bin_start": -0.4,
            "bin_end": -0.3,
            "count": 0
           },
           {
            "bin_start": -0.3,
            "bin_end": -0.19999999999999996,
            "count": 0
           },
           {
            "bin_start": -0.19999999999999996,
            "bin_end": -0.09999999999999998,
            "count": 0
           },
           {
            "bin_start": -0.09999999999999998,
            "bin_end": 0,
            "count": 0
           },
           {
            "bin_start": 0,
            "bin_end": 0.10000000000000009,
            "count": 5
           },
           {
            "bin_start": 0.10000000000000009,
            "bin_end": 0.20000000000000007,
            "count": 0
           },
           {
            "bin_start": 0.20000000000000007,
            "bin_end": 0.30000000000000004,
            "count": 0
           },
           {
            "bin_start": 0.30000000000000004,
            "bin_end": 0.4,
            "count": 0
           },
           {
            "bin_start": 0.4,
            "bin_end": 0.5,
            "count": 0
           }
          ]
         }
        },
        {
         "name": "WOPR:WP24(bbl/day)",
         "dtype": "float64",
         "stats": {
          "unique_count": 1,
          "nan_count": 0,
          "min": "0.0",
          "max": "0.0",
          "histogram": [
           {
            "bin_start": -0.5,
            "bin_end": -0.4,
            "count": 0
           },
           {
            "bin_start": -0.4,
            "bin_end": -0.3,
            "count": 0
           },
           {
            "bin_start": -0.3,
            "bin_end": -0.19999999999999996,
            "count": 0
           },
           {
            "bin_start": -0.19999999999999996,
            "bin_end": -0.09999999999999998,
            "count": 0
           },
           {
            "bin_start": -0.09999999999999998,
            "bin_end": 0,
            "count": 0
           },
           {
            "bin_start": 0,
            "bin_end": 0.10000000000000009,
            "count": 5
           },
           {
            "bin_start": 0.10000000000000009,
            "bin_end": 0.20000000000000007,
            "count": 0
           },
           {
            "bin_start": 0.20000000000000007,
            "bin_end": 0.30000000000000004,
            "count": 0
           },
           {
            "bin_start": 0.30000000000000004,
            "bin_end": 0.4,
            "count": 0
           },
           {
            "bin_start": 0.4,
            "bin_end": 0.5,
            "count": 0
           }
          ]
         }
        },
        {
         "name": "WOPR:WP25(bbl/day)",
         "dtype": "float64",
         "stats": {
          "unique_count": 1,
          "nan_count": 0,
          "min": "0.0",
          "max": "0.0",
          "histogram": [
           {
            "bin_start": -0.5,
            "bin_end": -0.4,
            "count": 0
           },
           {
            "bin_start": -0.4,
            "bin_end": -0.3,
            "count": 0
           },
           {
            "bin_start": -0.3,
            "bin_end": -0.19999999999999996,
            "count": 0
           },
           {
            "bin_start": -0.19999999999999996,
            "bin_end": -0.09999999999999998,
            "count": 0
           },
           {
            "bin_start": -0.09999999999999998,
            "bin_end": 0,
            "count": 0
           },
           {
            "bin_start": 0,
            "bin_end": 0.10000000000000009,
            "count": 5
           },
           {
            "bin_start": 0.10000000000000009,
            "bin_end": 0.20000000000000007,
            "count": 0
           },
           {
            "bin_start": 0.20000000000000007,
            "bin_end": 0.30000000000000004,
            "count": 0
           },
           {
            "bin_start": 0.30000000000000004,
            "bin_end": 0.4,
            "count": 0
           },
           {
            "bin_start": 0.4,
            "bin_end": 0.5,
            "count": 0
           }
          ]
         }
        },
        {
         "name": "WOPR:WP26(bbl/day)",
         "dtype": "float64",
         "stats": {
          "unique_count": 1,
          "nan_count": 0,
          "min": "0.0",
          "max": "0.0",
          "histogram": [
           {
            "bin_start": -0.5,
            "bin_end": -0.4,
            "count": 0
           },
           {
            "bin_start": -0.4,
            "bin_end": -0.3,
            "count": 0
           },
           {
            "bin_start": -0.3,
            "bin_end": -0.19999999999999996,
            "count": 0
           },
           {
            "bin_start": -0.19999999999999996,
            "bin_end": -0.09999999999999998,
            "count": 0
           },
           {
            "bin_start": -0.09999999999999998,
            "bin_end": 0,
            "count": 0
           },
           {
            "bin_start": 0,
            "bin_end": 0.10000000000000009,
            "count": 5
           },
           {
            "bin_start": 0.10000000000000009,
            "bin_end": 0.20000000000000007,
            "count": 0
           },
           {
            "bin_start": 0.20000000000000007,
            "bin_end": 0.30000000000000004,
            "count": 0
           },
           {
            "bin_start": 0.30000000000000004,
            "bin_end": 0.4,
            "count": 0
           },
           {
            "bin_start": 0.4,
            "bin_end": 0.5,
            "count": 0
           }
          ]
         }
        },
        {
         "name": "WOPR:WP27(bbl/day)",
         "dtype": "float64",
         "stats": {
          "unique_count": 1,
          "nan_count": 0,
          "min": "0.0",
          "max": "0.0",
          "histogram": [
           {
            "bin_start": -0.5,
            "bin_end": -0.4,
            "count": 0
           },
           {
            "bin_start": -0.4,
            "bin_end": -0.3,
            "count": 0
           },
           {
            "bin_start": -0.3,
            "bin_end": -0.19999999999999996,
            "count": 0
           },
           {
            "bin_start": -0.19999999999999996,
            "bin_end": -0.09999999999999998,
            "count": 0
           },
           {
            "bin_start": -0.09999999999999998,
            "bin_end": 0,
            "count": 0
           },
           {
            "bin_start": 0,
            "bin_end": 0.10000000000000009,
            "count": 5
           },
           {
            "bin_start": 0.10000000000000009,
            "bin_end": 0.20000000000000007,
            "count": 0
           },
           {
            "bin_start": 0.20000000000000007,
            "bin_end": 0.30000000000000004,
            "count": 0
           },
           {
            "bin_start": 0.30000000000000004,
            "bin_end": 0.4,
            "count": 0
           },
           {
            "bin_start": 0.4,
            "bin_end": 0.5,
            "count": 0
           }
          ]
         }
        },
        {
         "name": "WOPR:WP28(bbl/day)",
         "dtype": "float64",
         "stats": {
          "unique_count": 1,
          "nan_count": 0,
          "min": "0.0",
          "max": "0.0",
          "histogram": [
           {
            "bin_start": -0.5,
            "bin_end": -0.4,
            "count": 0
           },
           {
            "bin_start": -0.4,
            "bin_end": -0.3,
            "count": 0
           },
           {
            "bin_start": -0.3,
            "bin_end": -0.19999999999999996,
            "count": 0
           },
           {
            "bin_start": -0.19999999999999996,
            "bin_end": -0.09999999999999998,
            "count": 0
           },
           {
            "bin_start": -0.09999999999999998,
            "bin_end": 0,
            "count": 0
           },
           {
            "bin_start": 0,
            "bin_end": 0.10000000000000009,
            "count": 5
           },
           {
            "bin_start": 0.10000000000000009,
            "bin_end": 0.20000000000000007,
            "count": 0
           },
           {
            "bin_start": 0.20000000000000007,
            "bin_end": 0.30000000000000004,
            "count": 0
           },
           {
            "bin_start": 0.30000000000000004,
            "bin_end": 0.4,
            "count": 0
           },
           {
            "bin_start": 0.4,
            "bin_end": 0.5,
            "count": 0
           }
          ]
         }
        },
        {
         "name": "WOPR:WP29(bbl/day)",
         "dtype": "float64",
         "stats": {
          "unique_count": 1,
          "nan_count": 0,
          "min": "0.0",
          "max": "0.0",
          "histogram": [
           {
            "bin_start": -0.5,
            "bin_end": -0.4,
            "count": 0
           },
           {
            "bin_start": -0.4,
            "bin_end": -0.3,
            "count": 0
           },
           {
            "bin_start": -0.3,
            "bin_end": -0.19999999999999996,
            "count": 0
           },
           {
            "bin_start": -0.19999999999999996,
            "bin_end": -0.09999999999999998,
            "count": 0
           },
           {
            "bin_start": -0.09999999999999998,
            "bin_end": 0,
            "count": 0
           },
           {
            "bin_start": 0,
            "bin_end": 0.10000000000000009,
            "count": 5
           },
           {
            "bin_start": 0.10000000000000009,
            "bin_end": 0.20000000000000007,
            "count": 0
           },
           {
            "bin_start": 0.20000000000000007,
            "bin_end": 0.30000000000000004,
            "count": 0
           },
           {
            "bin_start": 0.30000000000000004,
            "bin_end": 0.4,
            "count": 0
           },
           {
            "bin_start": 0.4,
            "bin_end": 0.5,
            "count": 0
           }
          ]
         }
        },
        {
         "name": "WOPR:WP3(bbl/day)",
         "dtype": "float64",
         "stats": {
          "unique_count": 1,
          "nan_count": 0,
          "min": "0.0",
          "max": "0.0",
          "histogram": [
           {
            "bin_start": -0.5,
            "bin_end": -0.4,
            "count": 0
           },
           {
            "bin_start": -0.4,
            "bin_end": -0.3,
            "count": 0
           },
           {
            "bin_start": -0.3,
            "bin_end": -0.19999999999999996,
            "count": 0
           },
           {
            "bin_start": -0.19999999999999996,
            "bin_end": -0.09999999999999998,
            "count": 0
           },
           {
            "bin_start": -0.09999999999999998,
            "bin_end": 0,
            "count": 0
           },
           {
            "bin_start": 0,
            "bin_end": 0.10000000000000009,
            "count": 5
           },
           {
            "bin_start": 0.10000000000000009,
            "bin_end": 0.20000000000000007,
            "count": 0
           },
           {
            "bin_start": 0.20000000000000007,
            "bin_end": 0.30000000000000004,
            "count": 0
           },
           {
            "bin_start": 0.30000000000000004,
            "bin_end": 0.4,
            "count": 0
           },
           {
            "bin_start": 0.4,
            "bin_end": 0.5,
            "count": 0
           }
          ]
         }
        },
        {
         "name": "WOPR:WP30(bbl/day)",
         "dtype": "float64",
         "stats": {
          "unique_count": 1,
          "nan_count": 0,
          "min": "0.0",
          "max": "0.0",
          "histogram": [
           {
            "bin_start": -0.5,
            "bin_end": -0.4,
            "count": 0
           },
           {
            "bin_start": -0.4,
            "bin_end": -0.3,
            "count": 0
           },
           {
            "bin_start": -0.3,
            "bin_end": -0.19999999999999996,
            "count": 0
           },
           {
            "bin_start": -0.19999999999999996,
            "bin_end": -0.09999999999999998,
            "count": 0
           },
           {
            "bin_start": -0.09999999999999998,
            "bin_end": 0,
            "count": 0
           },
           {
            "bin_start": 0,
            "bin_end": 0.10000000000000009,
            "count": 5
           },
           {
            "bin_start": 0.10000000000000009,
            "bin_end": 0.20000000000000007,
            "count": 0
           },
           {
            "bin_start": 0.20000000000000007,
            "bin_end": 0.30000000000000004,
            "count": 0
           },
           {
            "bin_start": 0.30000000000000004,
            "bin_end": 0.4,
            "count": 0
           },
           {
            "bin_start": 0.4,
            "bin_end": 0.5,
            "count": 0
           }
          ]
         }
        },
        {
         "name": "WOPR:WP31(bbl/day)",
         "dtype": "float64",
         "stats": {
          "unique_count": 1,
          "nan_count": 0,
          "min": "0.0",
          "max": "0.0",
          "histogram": [
           {
            "bin_start": -0.5,
            "bin_end": -0.4,
            "count": 0
           },
           {
            "bin_start": -0.4,
            "bin_end": -0.3,
            "count": 0
           },
           {
            "bin_start": -0.3,
            "bin_end": -0.19999999999999996,
            "count": 0
           },
           {
            "bin_start": -0.19999999999999996,
            "bin_end": -0.09999999999999998,
            "count": 0
           },
           {
            "bin_start": -0.09999999999999998,
            "bin_end": 0,
            "count": 0
           },
           {
            "bin_start": 0,
            "bin_end": 0.10000000000000009,
            "count": 5
           },
           {
            "bin_start": 0.10000000000000009,
            "bin_end": 0.20000000000000007,
            "count": 0
           },
           {
            "bin_start": 0.20000000000000007,
            "bin_end": 0.30000000000000004,
            "count": 0
           },
           {
            "bin_start": 0.30000000000000004,
            "bin_end": 0.4,
            "count": 0
           },
           {
            "bin_start": 0.4,
            "bin_end": 0.5,
            "count": 0
           }
          ]
         }
        },
        {
         "name": "WOPR:WP32(bbl/day)",
         "dtype": "float64",
         "stats": {
          "unique_count": 1,
          "nan_count": 0,
          "min": "0.0",
          "max": "0.0",
          "histogram": [
           {
            "bin_start": -0.5,
            "bin_end": -0.4,
            "count": 0
           },
           {
            "bin_start": -0.4,
            "bin_end": -0.3,
            "count": 0
           },
           {
            "bin_start": -0.3,
            "bin_end": -0.19999999999999996,
            "count": 0
           },
           {
            "bin_start": -0.19999999999999996,
            "bin_end": -0.09999999999999998,
            "count": 0
           },
           {
            "bin_start": -0.09999999999999998,
            "bin_end": 0,
            "count": 0
           },
           {
            "bin_start": 0,
            "bin_end": 0.10000000000000009,
            "count": 5
           },
           {
            "bin_start": 0.10000000000000009,
            "bin_end": 0.20000000000000007,
            "count": 0
           },
           {
            "bin_start": 0.20000000000000007,
            "bin_end": 0.30000000000000004,
            "count": 0
           },
           {
            "bin_start": 0.30000000000000004,
            "bin_end": 0.4,
            "count": 0
           },
           {
            "bin_start": 0.4,
            "bin_end": 0.5,
            "count": 0
           }
          ]
         }
        },
        {
         "name": "WOPR:WP33(bbl/day)",
         "dtype": "float64",
         "stats": {
          "unique_count": 1,
          "nan_count": 0,
          "min": "0.0",
          "max": "0.0",
          "histogram": [
           {
            "bin_start": -0.5,
            "bin_end": -0.4,
            "count": 0
           },
           {
            "bin_start": -0.4,
            "bin_end": -0.3,
            "count": 0
           },
           {
            "bin_start": -0.3,
            "bin_end": -0.19999999999999996,
            "count": 0
           },
           {
            "bin_start": -0.19999999999999996,
            "bin_end": -0.09999999999999998,
            "count": 0
           },
           {
            "bin_start": -0.09999999999999998,
            "bin_end": 0,
            "count": 0
           },
           {
            "bin_start": 0,
            "bin_end": 0.10000000000000009,
            "count": 5
           },
           {
            "bin_start": 0.10000000000000009,
            "bin_end": 0.20000000000000007,
            "count": 0
           },
           {
            "bin_start": 0.20000000000000007,
            "bin_end": 0.30000000000000004,
            "count": 0
           },
           {
            "bin_start": 0.30000000000000004,
            "bin_end": 0.4,
            "count": 0
           },
           {
            "bin_start": 0.4,
            "bin_end": 0.5,
            "count": 0
           }
          ]
         }
        },
        {
         "name": "WOPR:WP34(bbl/day)",
         "dtype": "float64",
         "stats": {
          "unique_count": 1,
          "nan_count": 0,
          "min": "0.0",
          "max": "0.0",
          "histogram": [
           {
            "bin_start": -0.5,
            "bin_end": -0.4,
            "count": 0
           },
           {
            "bin_start": -0.4,
            "bin_end": -0.3,
            "count": 0
           },
           {
            "bin_start": -0.3,
            "bin_end": -0.19999999999999996,
            "count": 0
           },
           {
            "bin_start": -0.19999999999999996,
            "bin_end": -0.09999999999999998,
            "count": 0
           },
           {
            "bin_start": -0.09999999999999998,
            "bin_end": 0,
            "count": 0
           },
           {
            "bin_start": 0,
            "bin_end": 0.10000000000000009,
            "count": 5
           },
           {
            "bin_start": 0.10000000000000009,
            "bin_end": 0.20000000000000007,
            "count": 0
           },
           {
            "bin_start": 0.20000000000000007,
            "bin_end": 0.30000000000000004,
            "count": 0
           },
           {
            "bin_start": 0.30000000000000004,
            "bin_end": 0.4,
            "count": 0
           },
           {
            "bin_start": 0.4,
            "bin_end": 0.5,
            "count": 0
           }
          ]
         }
        },
        {
         "name": "WOPR:WP35(bbl/day)",
         "dtype": "float64",
         "stats": {
          "unique_count": 1,
          "nan_count": 0,
          "min": "0.0",
          "max": "0.0",
          "histogram": [
           {
            "bin_start": -0.5,
            "bin_end": -0.4,
            "count": 0
           },
           {
            "bin_start": -0.4,
            "bin_end": -0.3,
            "count": 0
           },
           {
            "bin_start": -0.3,
            "bin_end": -0.19999999999999996,
            "count": 0
           },
           {
            "bin_start": -0.19999999999999996,
            "bin_end": -0.09999999999999998,
            "count": 0
           },
           {
            "bin_start": -0.09999999999999998,
            "bin_end": 0,
            "count": 0
           },
           {
            "bin_start": 0,
            "bin_end": 0.10000000000000009,
            "count": 5
           },
           {
            "bin_start": 0.10000000000000009,
            "bin_end": 0.20000000000000007,
            "count": 0
           },
           {
            "bin_start": 0.20000000000000007,
            "bin_end": 0.30000000000000004,
            "count": 0
           },
           {
            "bin_start": 0.30000000000000004,
            "bin_end": 0.4,
            "count": 0
           },
           {
            "bin_start": 0.4,
            "bin_end": 0.5,
            "count": 0
           }
          ]
         }
        },
        {
         "name": "WOPR:WP36(bbl/day)",
         "dtype": "float64",
         "stats": {
          "unique_count": 1,
          "nan_count": 0,
          "min": "0.0",
          "max": "0.0",
          "histogram": [
           {
            "bin_start": -0.5,
            "bin_end": -0.4,
            "count": 0
           },
           {
            "bin_start": -0.4,
            "bin_end": -0.3,
            "count": 0
           },
           {
            "bin_start": -0.3,
            "bin_end": -0.19999999999999996,
            "count": 0
           },
           {
            "bin_start": -0.19999999999999996,
            "bin_end": -0.09999999999999998,
            "count": 0
           },
           {
            "bin_start": -0.09999999999999998,
            "bin_end": 0,
            "count": 0
           },
           {
            "bin_start": 0,
            "bin_end": 0.10000000000000009,
            "count": 5
           },
           {
            "bin_start": 0.10000000000000009,
            "bin_end": 0.20000000000000007,
            "count": 0
           },
           {
            "bin_start": 0.20000000000000007,
            "bin_end": 0.30000000000000004,
            "count": 0
           },
           {
            "bin_start": 0.30000000000000004,
            "bin_end": 0.4,
            "count": 0
           },
           {
            "bin_start": 0.4,
            "bin_end": 0.5,
            "count": 0
           }
          ]
         }
        },
        {
         "name": "WOPR:WP37(bbl/day)",
         "dtype": "float64",
         "stats": {
          "unique_count": 1,
          "nan_count": 0,
          "min": "0.0",
          "max": "0.0",
          "histogram": [
           {
            "bin_start": -0.5,
            "bin_end": -0.4,
            "count": 0
           },
           {
            "bin_start": -0.4,
            "bin_end": -0.3,
            "count": 0
           },
           {
            "bin_start": -0.3,
            "bin_end": -0.19999999999999996,
            "count": 0
           },
           {
            "bin_start": -0.19999999999999996,
            "bin_end": -0.09999999999999998,
            "count": 0
           },
           {
            "bin_start": -0.09999999999999998,
            "bin_end": 0,
            "count": 0
           },
           {
            "bin_start": 0,
            "bin_end": 0.10000000000000009,
            "count": 5
           },
           {
            "bin_start": 0.10000000000000009,
            "bin_end": 0.20000000000000007,
            "count": 0
           },
           {
            "bin_start": 0.20000000000000007,
            "bin_end": 0.30000000000000004,
            "count": 0
           },
           {
            "bin_start": 0.30000000000000004,
            "bin_end": 0.4,
            "count": 0
           },
           {
            "bin_start": 0.4,
            "bin_end": 0.5,
            "count": 0
           }
          ]
         }
        },
        {
         "name": "WOPR:WP38(bbl/day)",
         "dtype": "float64",
         "stats": {
          "unique_count": 1,
          "nan_count": 0,
          "min": "0.0",
          "max": "0.0",
          "histogram": [
           {
            "bin_start": -0.5,
            "bin_end": -0.4,
            "count": 0
           },
           {
            "bin_start": -0.4,
            "bin_end": -0.3,
            "count": 0
           },
           {
            "bin_start": -0.3,
            "bin_end": -0.19999999999999996,
            "count": 0
           },
           {
            "bin_start": -0.19999999999999996,
            "bin_end": -0.09999999999999998,
            "count": 0
           },
           {
            "bin_start": -0.09999999999999998,
            "bin_end": 0,
            "count": 0
           },
           {
            "bin_start": 0,
            "bin_end": 0.10000000000000009,
            "count": 5
           },
           {
            "bin_start": 0.10000000000000009,
            "bin_end": 0.20000000000000007,
            "count": 0
           },
           {
            "bin_start": 0.20000000000000007,
            "bin_end": 0.30000000000000004,
            "count": 0
           },
           {
            "bin_start": 0.30000000000000004,
            "bin_end": 0.4,
            "count": 0
           },
           {
            "bin_start": 0.4,
            "bin_end": 0.5,
            "count": 0
           }
          ]
         }
        },
        {
         "name": "WOPR:WP39(bbl/day)",
         "dtype": "float64",
         "stats": {
          "unique_count": 1,
          "nan_count": 0,
          "min": "0.0",
          "max": "0.0",
          "histogram": [
           {
            "bin_start": -0.5,
            "bin_end": -0.4,
            "count": 0
           },
           {
            "bin_start": -0.4,
            "bin_end": -0.3,
            "count": 0
           },
           {
            "bin_start": -0.3,
            "bin_end": -0.19999999999999996,
            "count": 0
           },
           {
            "bin_start": -0.19999999999999996,
            "bin_end": -0.09999999999999998,
            "count": 0
           },
           {
            "bin_start": -0.09999999999999998,
            "bin_end": 0,
            "count": 0
           },
           {
            "bin_start": 0,
            "bin_end": 0.10000000000000009,
            "count": 5
           },
           {
            "bin_start": 0.10000000000000009,
            "bin_end": 0.20000000000000007,
            "count": 0
           },
           {
            "bin_start": 0.20000000000000007,
            "bin_end": 0.30000000000000004,
            "count": 0
           },
           {
            "bin_start": 0.30000000000000004,
            "bin_end": 0.4,
            "count": 0
           },
           {
            "bin_start": 0.4,
            "bin_end": 0.5,
            "count": 0
           }
          ]
         }
        },
        {
         "name": "WOPR:WP4(bbl/day)",
         "dtype": "float64",
         "stats": {
          "unique_count": 1,
          "nan_count": 0,
          "min": "0.0",
          "max": "0.0",
          "histogram": [
           {
            "bin_start": -0.5,
            "bin_end": -0.4,
            "count": 0
           },
           {
            "bin_start": -0.4,
            "bin_end": -0.3,
            "count": 0
           },
           {
            "bin_start": -0.3,
            "bin_end": -0.19999999999999996,
            "count": 0
           },
           {
            "bin_start": -0.19999999999999996,
            "bin_end": -0.09999999999999998,
            "count": 0
           },
           {
            "bin_start": -0.09999999999999998,
            "bin_end": 0,
            "count": 0
           },
           {
            "bin_start": 0,
            "bin_end": 0.10000000000000009,
            "count": 5
           },
           {
            "bin_start": 0.10000000000000009,
            "bin_end": 0.20000000000000007,
            "count": 0
           },
           {
            "bin_start": 0.20000000000000007,
            "bin_end": 0.30000000000000004,
            "count": 0
           },
           {
            "bin_start": 0.30000000000000004,
            "bin_end": 0.4,
            "count": 0
           },
           {
            "bin_start": 0.4,
            "bin_end": 0.5,
            "count": 0
           }
          ]
         }
        },
        {
         "name": "WOPR:WP40(bbl/day)",
         "dtype": "float64",
         "stats": {
          "unique_count": 1,
          "nan_count": 0,
          "min": "0.0",
          "max": "0.0",
          "histogram": [
           {
            "bin_start": -0.5,
            "bin_end": -0.4,
            "count": 0
           },
           {
            "bin_start": -0.4,
            "bin_end": -0.3,
            "count": 0
           },
           {
            "bin_start": -0.3,
            "bin_end": -0.19999999999999996,
            "count": 0
           },
           {
            "bin_start": -0.19999999999999996,
            "bin_end": -0.09999999999999998,
            "count": 0
           },
           {
            "bin_start": -0.09999999999999998,
            "bin_end": 0,
            "count": 0
           },
           {
            "bin_start": 0,
            "bin_end": 0.10000000000000009,
            "count": 5
           },
           {
            "bin_start": 0.10000000000000009,
            "bin_end": 0.20000000000000007,
            "count": 0
           },
           {
            "bin_start": 0.20000000000000007,
            "bin_end": 0.30000000000000004,
            "count": 0
           },
           {
            "bin_start": 0.30000000000000004,
            "bin_end": 0.4,
            "count": 0
           },
           {
            "bin_start": 0.4,
            "bin_end": 0.5,
            "count": 0
           }
          ]
         }
        },
        {
         "name": "WOPR:WP41(bbl/day)",
         "dtype": "float64",
         "stats": {
          "unique_count": 1,
          "nan_count": 0,
          "min": "0.0",
          "max": "0.0",
          "histogram": [
           {
            "bin_start": -0.5,
            "bin_end": -0.4,
            "count": 0
           },
           {
            "bin_start": -0.4,
            "bin_end": -0.3,
            "count": 0
           },
           {
            "bin_start": -0.3,
            "bin_end": -0.19999999999999996,
            "count": 0
           },
           {
            "bin_start": -0.19999999999999996,
            "bin_end": -0.09999999999999998,
            "count": 0
           },
           {
            "bin_start": -0.09999999999999998,
            "bin_end": 0,
            "count": 0
           },
           {
            "bin_start": 0,
            "bin_end": 0.10000000000000009,
            "count": 5
           },
           {
            "bin_start": 0.10000000000000009,
            "bin_end": 0.20000000000000007,
            "count": 0
           },
           {
            "bin_start": 0.20000000000000007,
            "bin_end": 0.30000000000000004,
            "count": 0
           },
           {
            "bin_start": 0.30000000000000004,
            "bin_end": 0.4,
            "count": 0
           },
           {
            "bin_start": 0.4,
            "bin_end": 0.5,
            "count": 0
           }
          ]
         }
        },
        {
         "name": "WOPR:WP42(bbl/day)",
         "dtype": "float64",
         "stats": {
          "unique_count": 1,
          "nan_count": 0,
          "min": "0.0",
          "max": "0.0",
          "histogram": [
           {
            "bin_start": -0.5,
            "bin_end": -0.4,
            "count": 0
           },
           {
            "bin_start": -0.4,
            "bin_end": -0.3,
            "count": 0
           },
           {
            "bin_start": -0.3,
            "bin_end": -0.19999999999999996,
            "count": 0
           },
           {
            "bin_start": -0.19999999999999996,
            "bin_end": -0.09999999999999998,
            "count": 0
           },
           {
            "bin_start": -0.09999999999999998,
            "bin_end": 0,
            "count": 0
           },
           {
            "bin_start": 0,
            "bin_end": 0.10000000000000009,
            "count": 5
           },
           {
            "bin_start": 0.10000000000000009,
            "bin_end": 0.20000000000000007,
            "count": 0
           },
           {
            "bin_start": 0.20000000000000007,
            "bin_end": 0.30000000000000004,
            "count": 0
           },
           {
            "bin_start": 0.30000000000000004,
            "bin_end": 0.4,
            "count": 0
           },
           {
            "bin_start": 0.4,
            "bin_end": 0.5,
            "count": 0
           }
          ]
         }
        },
        {
         "name": "WOPR:WP43(bbl/day)",
         "dtype": "float64",
         "stats": {
          "unique_count": 1,
          "nan_count": 0,
          "min": "0.0",
          "max": "0.0",
          "histogram": [
           {
            "bin_start": -0.5,
            "bin_end": -0.4,
            "count": 0
           },
           {
            "bin_start": -0.4,
            "bin_end": -0.3,
            "count": 0
           },
           {
            "bin_start": -0.3,
            "bin_end": -0.19999999999999996,
            "count": 0
           },
           {
            "bin_start": -0.19999999999999996,
            "bin_end": -0.09999999999999998,
            "count": 0
           },
           {
            "bin_start": -0.09999999999999998,
            "bin_end": 0,
            "count": 0
           },
           {
            "bin_start": 0,
            "bin_end": 0.10000000000000009,
            "count": 5
           },
           {
            "bin_start": 0.10000000000000009,
            "bin_end": 0.20000000000000007,
            "count": 0
           },
           {
            "bin_start": 0.20000000000000007,
            "bin_end": 0.30000000000000004,
            "count": 0
           },
           {
            "bin_start": 0.30000000000000004,
            "bin_end": 0.4,
            "count": 0
           },
           {
            "bin_start": 0.4,
            "bin_end": 0.5,
            "count": 0
           }
          ]
         }
        },
        {
         "name": "WOPR:WP44(bbl/day)",
         "dtype": "float64",
         "stats": {
          "unique_count": 1,
          "nan_count": 0,
          "min": "0.0",
          "max": "0.0",
          "histogram": [
           {
            "bin_start": -0.5,
            "bin_end": -0.4,
            "count": 0
           },
           {
            "bin_start": -0.4,
            "bin_end": -0.3,
            "count": 0
           },
           {
            "bin_start": -0.3,
            "bin_end": -0.19999999999999996,
            "count": 0
           },
           {
            "bin_start": -0.19999999999999996,
            "bin_end": -0.09999999999999998,
            "count": 0
           },
           {
            "bin_start": -0.09999999999999998,
            "bin_end": 0,
            "count": 0
           },
           {
            "bin_start": 0,
            "bin_end": 0.10000000000000009,
            "count": 5
           },
           {
            "bin_start": 0.10000000000000009,
            "bin_end": 0.20000000000000007,
            "count": 0
           },
           {
            "bin_start": 0.20000000000000007,
            "bin_end": 0.30000000000000004,
            "count": 0
           },
           {
            "bin_start": 0.30000000000000004,
            "bin_end": 0.4,
            "count": 0
           },
           {
            "bin_start": 0.4,
            "bin_end": 0.5,
            "count": 0
           }
          ]
         }
        },
        {
         "name": "WOPR:WP45(bbl/day)",
         "dtype": "float64",
         "stats": {
          "unique_count": 1,
          "nan_count": 0,
          "min": "0.0",
          "max": "0.0",
          "histogram": [
           {
            "bin_start": -0.5,
            "bin_end": -0.4,
            "count": 0
           },
           {
            "bin_start": -0.4,
            "bin_end": -0.3,
            "count": 0
           },
           {
            "bin_start": -0.3,
            "bin_end": -0.19999999999999996,
            "count": 0
           },
           {
            "bin_start": -0.19999999999999996,
            "bin_end": -0.09999999999999998,
            "count": 0
           },
           {
            "bin_start": -0.09999999999999998,
            "bin_end": 0,
            "count": 0
           },
           {
            "bin_start": 0,
            "bin_end": 0.10000000000000009,
            "count": 5
           },
           {
            "bin_start": 0.10000000000000009,
            "bin_end": 0.20000000000000007,
            "count": 0
           },
           {
            "bin_start": 0.20000000000000007,
            "bin_end": 0.30000000000000004,
            "count": 0
           },
           {
            "bin_start": 0.30000000000000004,
            "bin_end": 0.4,
            "count": 0
           },
           {
            "bin_start": 0.4,
            "bin_end": 0.5,
            "count": 0
           }
          ]
         }
        },
        {
         "name": "WOPR:WP46(bbl/day)",
         "dtype": "float64",
         "stats": {
          "unique_count": 1,
          "nan_count": 0,
          "min": "0.0",
          "max": "0.0",
          "histogram": [
           {
            "bin_start": -0.5,
            "bin_end": -0.4,
            "count": 0
           },
           {
            "bin_start": -0.4,
            "bin_end": -0.3,
            "count": 0
           },
           {
            "bin_start": -0.3,
            "bin_end": -0.19999999999999996,
            "count": 0
           },
           {
            "bin_start": -0.19999999999999996,
            "bin_end": -0.09999999999999998,
            "count": 0
           },
           {
            "bin_start": -0.09999999999999998,
            "bin_end": 0,
            "count": 0
           },
           {
            "bin_start": 0,
            "bin_end": 0.10000000000000009,
            "count": 5
           },
           {
            "bin_start": 0.10000000000000009,
            "bin_end": 0.20000000000000007,
            "count": 0
           },
           {
            "bin_start": 0.20000000000000007,
            "bin_end": 0.30000000000000004,
            "count": 0
           },
           {
            "bin_start": 0.30000000000000004,
            "bin_end": 0.4,
            "count": 0
           },
           {
            "bin_start": 0.4,
            "bin_end": 0.5,
            "count": 0
           }
          ]
         }
        },
        {
         "name": "WOPR:WP47(bbl/day)",
         "dtype": "float64",
         "stats": {
          "unique_count": 1,
          "nan_count": 0,
          "min": "0.0",
          "max": "0.0",
          "histogram": [
           {
            "bin_start": -0.5,
            "bin_end": -0.4,
            "count": 0
           },
           {
            "bin_start": -0.4,
            "bin_end": -0.3,
            "count": 0
           },
           {
            "bin_start": -0.3,
            "bin_end": -0.19999999999999996,
            "count": 0
           },
           {
            "bin_start": -0.19999999999999996,
            "bin_end": -0.09999999999999998,
            "count": 0
           },
           {
            "bin_start": -0.09999999999999998,
            "bin_end": 0,
            "count": 0
           },
           {
            "bin_start": 0,
            "bin_end": 0.10000000000000009,
            "count": 5
           },
           {
            "bin_start": 0.10000000000000009,
            "bin_end": 0.20000000000000007,
            "count": 0
           },
           {
            "bin_start": 0.20000000000000007,
            "bin_end": 0.30000000000000004,
            "count": 0
           },
           {
            "bin_start": 0.30000000000000004,
            "bin_end": 0.4,
            "count": 0
           },
           {
            "bin_start": 0.4,
            "bin_end": 0.5,
            "count": 0
           }
          ]
         }
        },
        {
         "name": "WOPR:WP48(bbl/day)",
         "dtype": "float64",
         "stats": {
          "unique_count": 1,
          "nan_count": 0,
          "min": "0.0",
          "max": "0.0",
          "histogram": [
           {
            "bin_start": -0.5,
            "bin_end": -0.4,
            "count": 0
           },
           {
            "bin_start": -0.4,
            "bin_end": -0.3,
            "count": 0
           },
           {
            "bin_start": -0.3,
            "bin_end": -0.19999999999999996,
            "count": 0
           },
           {
            "bin_start": -0.19999999999999996,
            "bin_end": -0.09999999999999998,
            "count": 0
           },
           {
            "bin_start": -0.09999999999999998,
            "bin_end": 0,
            "count": 0
           },
           {
            "bin_start": 0,
            "bin_end": 0.10000000000000009,
            "count": 5
           },
           {
            "bin_start": 0.10000000000000009,
            "bin_end": 0.20000000000000007,
            "count": 0
           },
           {
            "bin_start": 0.20000000000000007,
            "bin_end": 0.30000000000000004,
            "count": 0
           },
           {
            "bin_start": 0.30000000000000004,
            "bin_end": 0.4,
            "count": 0
           },
           {
            "bin_start": 0.4,
            "bin_end": 0.5,
            "count": 0
           }
          ]
         }
        },
        {
         "name": "WOPR:WP49(bbl/day)",
         "dtype": "float64",
         "stats": {
          "unique_count": 1,
          "nan_count": 0,
          "min": "0.0",
          "max": "0.0",
          "histogram": [
           {
            "bin_start": -0.5,
            "bin_end": -0.4,
            "count": 0
           },
           {
            "bin_start": -0.4,
            "bin_end": -0.3,
            "count": 0
           },
           {
            "bin_start": -0.3,
            "bin_end": -0.19999999999999996,
            "count": 0
           },
           {
            "bin_start": -0.19999999999999996,
            "bin_end": -0.09999999999999998,
            "count": 0
           },
           {
            "bin_start": -0.09999999999999998,
            "bin_end": 0,
            "count": 0
           },
           {
            "bin_start": 0,
            "bin_end": 0.10000000000000009,
            "count": 5
           },
           {
            "bin_start": 0.10000000000000009,
            "bin_end": 0.20000000000000007,
            "count": 0
           },
           {
            "bin_start": 0.20000000000000007,
            "bin_end": 0.30000000000000004,
            "count": 0
           },
           {
            "bin_start": 0.30000000000000004,
            "bin_end": 0.4,
            "count": 0
           },
           {
            "bin_start": 0.4,
            "bin_end": 0.5,
            "count": 0
           }
          ]
         }
        },
        {
         "name": "WOPR:WP5(bbl/day)",
         "dtype": "float64",
         "stats": {
          "unique_count": 1,
          "nan_count": 0,
          "min": "0.0",
          "max": "0.0",
          "histogram": [
           {
            "bin_start": -0.5,
            "bin_end": -0.4,
            "count": 0
           },
           {
            "bin_start": -0.4,
            "bin_end": -0.3,
            "count": 0
           },
           {
            "bin_start": -0.3,
            "bin_end": -0.19999999999999996,
            "count": 0
           },
           {
            "bin_start": -0.19999999999999996,
            "bin_end": -0.09999999999999998,
            "count": 0
           },
           {
            "bin_start": -0.09999999999999998,
            "bin_end": 0,
            "count": 0
           },
           {
            "bin_start": 0,
            "bin_end": 0.10000000000000009,
            "count": 5
           },
           {
            "bin_start": 0.10000000000000009,
            "bin_end": 0.20000000000000007,
            "count": 0
           },
           {
            "bin_start": 0.20000000000000007,
            "bin_end": 0.30000000000000004,
            "count": 0
           },
           {
            "bin_start": 0.30000000000000004,
            "bin_end": 0.4,
            "count": 0
           },
           {
            "bin_start": 0.4,
            "bin_end": 0.5,
            "count": 0
           }
          ]
         }
        },
        {
         "name": "WOPR:WP6(bbl/day)",
         "dtype": "float64",
         "stats": {
          "unique_count": 1,
          "nan_count": 0,
          "min": "0.0",
          "max": "0.0",
          "histogram": [
           {
            "bin_start": -0.5,
            "bin_end": -0.4,
            "count": 0
           },
           {
            "bin_start": -0.4,
            "bin_end": -0.3,
            "count": 0
           },
           {
            "bin_start": -0.3,
            "bin_end": -0.19999999999999996,
            "count": 0
           },
           {
            "bin_start": -0.19999999999999996,
            "bin_end": -0.09999999999999998,
            "count": 0
           },
           {
            "bin_start": -0.09999999999999998,
            "bin_end": 0,
            "count": 0
           },
           {
            "bin_start": 0,
            "bin_end": 0.10000000000000009,
            "count": 5
           },
           {
            "bin_start": 0.10000000000000009,
            "bin_end": 0.20000000000000007,
            "count": 0
           },
           {
            "bin_start": 0.20000000000000007,
            "bin_end": 0.30000000000000004,
            "count": 0
           },
           {
            "bin_start": 0.30000000000000004,
            "bin_end": 0.4,
            "count": 0
           },
           {
            "bin_start": 0.4,
            "bin_end": 0.5,
            "count": 0
           }
          ]
         }
        },
        {
         "name": "WOPR:WP7(bbl/day)",
         "dtype": "float64",
         "stats": {
          "unique_count": 1,
          "nan_count": 0,
          "min": "0.0",
          "max": "0.0",
          "histogram": [
           {
            "bin_start": -0.5,
            "bin_end": -0.4,
            "count": 0
           },
           {
            "bin_start": -0.4,
            "bin_end": -0.3,
            "count": 0
           },
           {
            "bin_start": -0.3,
            "bin_end": -0.19999999999999996,
            "count": 0
           },
           {
            "bin_start": -0.19999999999999996,
            "bin_end": -0.09999999999999998,
            "count": 0
           },
           {
            "bin_start": -0.09999999999999998,
            "bin_end": 0,
            "count": 0
           },
           {
            "bin_start": 0,
            "bin_end": 0.10000000000000009,
            "count": 5
           },
           {
            "bin_start": 0.10000000000000009,
            "bin_end": 0.20000000000000007,
            "count": 0
           },
           {
            "bin_start": 0.20000000000000007,
            "bin_end": 0.30000000000000004,
            "count": 0
           },
           {
            "bin_start": 0.30000000000000004,
            "bin_end": 0.4,
            "count": 0
           },
           {
            "bin_start": 0.4,
            "bin_end": 0.5,
            "count": 0
           }
          ]
         }
        },
        {
         "name": "WOPR:WP8(bbl/day)",
         "dtype": "float64",
         "stats": {
          "unique_count": 1,
          "nan_count": 0,
          "min": "0.0",
          "max": "0.0",
          "histogram": [
           {
            "bin_start": -0.5,
            "bin_end": -0.4,
            "count": 0
           },
           {
            "bin_start": -0.4,
            "bin_end": -0.3,
            "count": 0
           },
           {
            "bin_start": -0.3,
            "bin_end": -0.19999999999999996,
            "count": 0
           },
           {
            "bin_start": -0.19999999999999996,
            "bin_end": -0.09999999999999998,
            "count": 0
           },
           {
            "bin_start": -0.09999999999999998,
            "bin_end": 0,
            "count": 0
           },
           {
            "bin_start": 0,
            "bin_end": 0.10000000000000009,
            "count": 5
           },
           {
            "bin_start": 0.10000000000000009,
            "bin_end": 0.20000000000000007,
            "count": 0
           },
           {
            "bin_start": 0.20000000000000007,
            "bin_end": 0.30000000000000004,
            "count": 0
           },
           {
            "bin_start": 0.30000000000000004,
            "bin_end": 0.4,
            "count": 0
           },
           {
            "bin_start": 0.4,
            "bin_end": 0.5,
            "count": 0
           }
          ]
         }
        },
        {
         "name": "WOPR:WP9(bbl/day)",
         "dtype": "float64",
         "stats": {
          "unique_count": 2,
          "nan_count": 0,
          "min": "0.0",
          "max": "7.598605566",
          "histogram": [
           {
            "bin_start": 0,
            "bin_end": 0.7598605566,
            "count": 4
           },
           {
            "bin_start": 0.7598605566,
            "bin_end": 1.5197211132,
            "count": 0
           },
           {
            "bin_start": 1.5197211132,
            "bin_end": 2.2795816697999998,
            "count": 0
           },
           {
            "bin_start": 2.2795816697999998,
            "bin_end": 3.0394422264,
            "count": 0
           },
           {
            "bin_start": 3.0394422264,
            "bin_end": 3.799302783,
            "count": 0
           },
           {
            "bin_start": 3.799302783,
            "bin_end": 4.5591633395999995,
            "count": 0
           },
           {
            "bin_start": 4.5591633395999995,
            "bin_end": 5.3190238962,
            "count": 0
           },
           {
            "bin_start": 5.3190238962,
            "bin_end": 6.0788844528,
            "count": 0
           },
           {
            "bin_start": 6.0788844528,
            "bin_end": 6.838745009399999,
            "count": 0
           },
           {
            "bin_start": 6.838745009399999,
            "bin_end": 7.598605566,
            "count": 1
           }
          ]
         }
        },
        {
         "name": "Total",
         "dtype": "float64",
         "stats": {
          "unique_count": 5,
          "nan_count": 0,
          "min": "340.549643173",
          "max": "3821.070871407",
          "histogram": [
           {
            "bin_start": 340.549643173,
            "bin_end": 688.6017659964,
            "count": 3
           },
           {
            "bin_start": 688.6017659964,
            "bin_end": 1036.6538888198002,
            "count": 0
           },
           {
            "bin_start": 1036.6538888198002,
            "bin_end": 1384.7060116432,
            "count": 0
           },
           {
            "bin_start": 1384.7060116432,
            "bin_end": 1732.7581344666003,
            "count": 0
           },
           {
            "bin_start": 1732.7581344666003,
            "bin_end": 2080.81025729,
            "count": 0
           },
           {
            "bin_start": 2080.81025729,
            "bin_end": 2428.8623801134,
            "count": 0
           },
           {
            "bin_start": 2428.8623801134,
            "bin_end": 2776.9145029368,
            "count": 0
           },
           {
            "bin_start": 2776.9145029368,
            "bin_end": 3124.9666257602003,
            "count": 0
           },
           {
            "bin_start": 3124.9666257602003,
            "bin_end": 3473.0187485836004,
            "count": 0
           },
           {
            "bin_start": 3473.0187485836004,
            "bin_end": 3821.070871407,
            "count": 2
           }
          ]
         }
        },
        {
         "name": "_deepnote_index_column",
         "dtype": "object"
        }
       ],
       "rows": [
        {
         "WOPR:WP0(bbl/day)": 8.945507797,
         "WOPR:WP1(bbl/day)": 0,
         "WOPR:WP10(bbl/day)": 0,
         "WOPR:WP11(bbl/day)": 0,
         "WOPR:WP12(bbl/day)": 0,
         "WOPR:WP13(bbl/day)": 0,
         "WOPR:WP14(bbl/day)": 0,
         "WOPR:WP15(bbl/day)": 0,
         "WOPR:WP16(bbl/day)": 0,
         "WOPR:WP17(bbl/day)": 0,
         "WOPR:WP18(bbl/day)": 372.7464441,
         "WOPR:WP19(bbl/day)": 0,
         "WOPR:WP2(bbl/day)": 0,
         "WOPR:WP20(bbl/day)": 0,
         "WOPR:WP21(bbl/day)": 0,
         "WOPR:WP22(bbl/day)": 0,
         "WOPR:WP23(bbl/day)": 0,
         "WOPR:WP24(bbl/day)": 0,
         "WOPR:WP25(bbl/day)": 0,
         "WOPR:WP26(bbl/day)": 0,
         "WOPR:WP27(bbl/day)": 0,
         "WOPR:WP28(bbl/day)": 0,
         "WOPR:WP29(bbl/day)": 0,
         "WOPR:WP3(bbl/day)": 0,
         "WOPR:WP30(bbl/day)": 0,
         "WOPR:WP31(bbl/day)": 0,
         "WOPR:WP32(bbl/day)": 0,
         "WOPR:WP33(bbl/day)": 0,
         "WOPR:WP34(bbl/day)": 0,
         "WOPR:WP35(bbl/day)": 0,
         "WOPR:WP36(bbl/day)": 0,
         "WOPR:WP37(bbl/day)": 0,
         "WOPR:WP38(bbl/day)": 0,
         "WOPR:WP39(bbl/day)": 0,
         "WOPR:WP4(bbl/day)": 0,
         "WOPR:WP40(bbl/day)": 0,
         "WOPR:WP41(bbl/day)": 0,
         "WOPR:WP42(bbl/day)": 0,
         "WOPR:WP43(bbl/day)": 0,
         "WOPR:WP44(bbl/day)": 0,
         "WOPR:WP45(bbl/day)": 0,
         "WOPR:WP46(bbl/day)": 0,
         "WOPR:WP47(bbl/day)": 0,
         "WOPR:WP48(bbl/day)": 0,
         "WOPR:WP49(bbl/day)": 0,
         "WOPR:WP5(bbl/day)": 0,
         "WOPR:WP6(bbl/day)": 0,
         "WOPR:WP7(bbl/day)": 0,
         "WOPR:WP8(bbl/day)": 0,
         "WOPR:WP9(bbl/day)": 0,
         "Total": 381.691951897,
         "_deepnote_index_column": "1-Jan-12"
        },
        {
         "WOPR:WP0(bbl/day)": 8.854878961,
         "WOPR:WP1(bbl/day)": 0,
         "WOPR:WP10(bbl/day)": 0,
         "WOPR:WP11(bbl/day)": 0,
         "WOPR:WP12(bbl/day)": 0,
         "WOPR:WP13(bbl/day)": 0,
         "WOPR:WP14(bbl/day)": 0,
         "WOPR:WP15(bbl/day)": 0,
         "WOPR:WP16(bbl/day)": 0,
         "WOPR:WP17(bbl/day)": 0,
         "WOPR:WP18(bbl/day)": 335.7487837,
         "WOPR:WP19(bbl/day)": 0,
         "WOPR:WP2(bbl/day)": 0,
         "WOPR:WP20(bbl/day)": 0,
         "WOPR:WP21(bbl/day)": 0,
         "WOPR:WP22(bbl/day)": 0,
         "WOPR:WP23(bbl/day)": 0,
         "WOPR:WP24(bbl/day)": 0,
         "WOPR:WP25(bbl/day)": 0,
         "WOPR:WP26(bbl/day)": 0,
         "WOPR:WP27(bbl/day)": 0,
         "WOPR:WP28(bbl/day)": 0,
         "WOPR:WP29(bbl/day)": 0,
         "WOPR:WP3(bbl/day)": 0,
         "WOPR:WP30(bbl/day)": 0,
         "WOPR:WP31(bbl/day)": 0,
         "WOPR:WP32(bbl/day)": 0,
         "WOPR:WP33(bbl/day)": 0,
         "WOPR:WP34(bbl/day)": 0,
         "WOPR:WP35(bbl/day)": 0,
         "WOPR:WP36(bbl/day)": 0,
         "WOPR:WP37(bbl/day)": 0,
         "WOPR:WP38(bbl/day)": 0,
         "WOPR:WP39(bbl/day)": 0,
         "WOPR:WP4(bbl/day)": 0,
         "WOPR:WP40(bbl/day)": 0,
         "WOPR:WP41(bbl/day)": 0,
         "WOPR:WP42(bbl/day)": 0,
         "WOPR:WP43(bbl/day)": 0,
         "WOPR:WP44(bbl/day)": 0,
         "WOPR:WP45(bbl/day)": 0,
         "WOPR:WP46(bbl/day)": 0,
         "WOPR:WP47(bbl/day)": 0,
         "WOPR:WP48(bbl/day)": 0,
         "WOPR:WP49(bbl/day)": 0,
         "WOPR:WP5(bbl/day)": 0,
         "WOPR:WP6(bbl/day)": 0,
         "WOPR:WP7(bbl/day)": 0,
         "WOPR:WP8(bbl/day)": 0,
         "WOPR:WP9(bbl/day)": 0,
         "Total": 344.603662661,
         "_deepnote_index_column": "1-Feb-12"
        },
        {
         "WOPR:WP0(bbl/day)": 8.845838973,
         "WOPR:WP1(bbl/day)": 0,
         "WOPR:WP10(bbl/day)": 0,
         "WOPR:WP11(bbl/day)": 0,
         "WOPR:WP12(bbl/day)": 0,
         "WOPR:WP13(bbl/day)": 0,
         "WOPR:WP14(bbl/day)": 0,
         "WOPR:WP15(bbl/day)": 0,
         "WOPR:WP16(bbl/day)": 0,
         "WOPR:WP17(bbl/day)": 0,
         "WOPR:WP18(bbl/day)": 331.7038042,
         "WOPR:WP19(bbl/day)": 0,
         "WOPR:WP2(bbl/day)": 0,
         "WOPR:WP20(bbl/day)": 0,
         "WOPR:WP21(bbl/day)": 0,
         "WOPR:WP22(bbl/day)": 0,
         "WOPR:WP23(bbl/day)": 0,
         "WOPR:WP24(bbl/day)": 0,
         "WOPR:WP25(bbl/day)": 0,
         "WOPR:WP26(bbl/day)": 0,
         "WOPR:WP27(bbl/day)": 0,
         "WOPR:WP28(bbl/day)": 0,
         "WOPR:WP29(bbl/day)": 0,
         "WOPR:WP3(bbl/day)": 0,
         "WOPR:WP30(bbl/day)": 0,
         "WOPR:WP31(bbl/day)": 0,
         "WOPR:WP32(bbl/day)": 0,
         "WOPR:WP33(bbl/day)": 0,
         "WOPR:WP34(bbl/day)": 0,
         "WOPR:WP35(bbl/day)": 0,
         "WOPR:WP36(bbl/day)": 0,
         "WOPR:WP37(bbl/day)": 0,
         "WOPR:WP38(bbl/day)": 0,
         "WOPR:WP39(bbl/day)": 0,
         "WOPR:WP4(bbl/day)": 0,
         "WOPR:WP40(bbl/day)": 0,
         "WOPR:WP41(bbl/day)": 0,
         "WOPR:WP42(bbl/day)": 0,
         "WOPR:WP43(bbl/day)": 0,
         "WOPR:WP44(bbl/day)": 0,
         "WOPR:WP45(bbl/day)": 0,
         "WOPR:WP46(bbl/day)": 0,
         "WOPR:WP47(bbl/day)": 0,
         "WOPR:WP48(bbl/day)": 0,
         "WOPR:WP49(bbl/day)": 0,
         "WOPR:WP5(bbl/day)": 0,
         "WOPR:WP6(bbl/day)": 0,
         "WOPR:WP7(bbl/day)": 0,
         "WOPR:WP8(bbl/day)": 0,
         "WOPR:WP9(bbl/day)": 0,
         "Total": 340.549643173,
         "_deepnote_index_column": "1-Mar-12"
        },
        {
         "WOPR:WP0(bbl/day)": 8.839577907,
         "WOPR:WP1(bbl/day)": 0,
         "WOPR:WP10(bbl/day)": 0,
         "WOPR:WP11(bbl/day)": 0,
         "WOPR:WP12(bbl/day)": 0,
         "WOPR:WP13(bbl/day)": 0,
         "WOPR:WP14(bbl/day)": 0,
         "WOPR:WP15(bbl/day)": 3483.552017,
         "WOPR:WP16(bbl/day)": 0,
         "WOPR:WP17(bbl/day)": 0,
         "WOPR:WP18(bbl/day)": 328.6792765,
         "WOPR:WP19(bbl/day)": 0,
         "WOPR:WP2(bbl/day)": 0,
         "WOPR:WP20(bbl/day)": 0,
         "WOPR:WP21(bbl/day)": 0,
         "WOPR:WP22(bbl/day)": 0,
         "WOPR:WP23(bbl/day)": 0,
         "WOPR:WP24(bbl/day)": 0,
         "WOPR:WP25(bbl/day)": 0,
         "WOPR:WP26(bbl/day)": 0,
         "WOPR:WP27(bbl/day)": 0,
         "WOPR:WP28(bbl/day)": 0,
         "WOPR:WP29(bbl/day)": 0,
         "WOPR:WP3(bbl/day)": 0,
         "WOPR:WP30(bbl/day)": 0,
         "WOPR:WP31(bbl/day)": 0,
         "WOPR:WP32(bbl/day)": 0,
         "WOPR:WP33(bbl/day)": 0,
         "WOPR:WP34(bbl/day)": 0,
         "WOPR:WP35(bbl/day)": 0,
         "WOPR:WP36(bbl/day)": 0,
         "WOPR:WP37(bbl/day)": 0,
         "WOPR:WP38(bbl/day)": 0,
         "WOPR:WP39(bbl/day)": 0,
         "WOPR:WP4(bbl/day)": 0,
         "WOPR:WP40(bbl/day)": 0,
         "WOPR:WP41(bbl/day)": 0,
         "WOPR:WP42(bbl/day)": 0,
         "WOPR:WP43(bbl/day)": 0,
         "WOPR:WP44(bbl/day)": 0,
         "WOPR:WP45(bbl/day)": 0,
         "WOPR:WP46(bbl/day)": 0,
         "WOPR:WP47(bbl/day)": 0,
         "WOPR:WP48(bbl/day)": 0,
         "WOPR:WP49(bbl/day)": 0,
         "WOPR:WP5(bbl/day)": 0,
         "WOPR:WP6(bbl/day)": 0,
         "WOPR:WP7(bbl/day)": 0,
         "WOPR:WP8(bbl/day)": 0,
         "WOPR:WP9(bbl/day)": 0,
         "Total": 3821.070871407,
         "_deepnote_index_column": "1-Apr-12"
        },
        {
         "WOPR:WP0(bbl/day)": 8.834659127,
         "WOPR:WP1(bbl/day)": 0,
         "WOPR:WP10(bbl/day)": 0,
         "WOPR:WP11(bbl/day)": 0,
         "WOPR:WP12(bbl/day)": 0,
         "WOPR:WP13(bbl/day)": 0,
         "WOPR:WP14(bbl/day)": 0,
         "WOPR:WP15(bbl/day)": 3374.525497,
         "WOPR:WP16(bbl/day)": 0,
         "WOPR:WP17(bbl/day)": 0,
         "WOPR:WP18(bbl/day)": 326.1182527,
         "WOPR:WP19(bbl/day)": 0,
         "WOPR:WP2(bbl/day)": 0,
         "WOPR:WP20(bbl/day)": 0,
         "WOPR:WP21(bbl/day)": 0,
         "WOPR:WP22(bbl/day)": 0,
         "WOPR:WP23(bbl/day)": 0,
         "WOPR:WP24(bbl/day)": 0,
         "WOPR:WP25(bbl/day)": 0,
         "WOPR:WP26(bbl/day)": 0,
         "WOPR:WP27(bbl/day)": 0,
         "WOPR:WP28(bbl/day)": 0,
         "WOPR:WP29(bbl/day)": 0,
         "WOPR:WP3(bbl/day)": 0,
         "WOPR:WP30(bbl/day)": 0,
         "WOPR:WP31(bbl/day)": 0,
         "WOPR:WP32(bbl/day)": 0,
         "WOPR:WP33(bbl/day)": 0,
         "WOPR:WP34(bbl/day)": 0,
         "WOPR:WP35(bbl/day)": 0,
         "WOPR:WP36(bbl/day)": 0,
         "WOPR:WP37(bbl/day)": 0,
         "WOPR:WP38(bbl/day)": 0,
         "WOPR:WP39(bbl/day)": 0,
         "WOPR:WP4(bbl/day)": 0,
         "WOPR:WP40(bbl/day)": 0,
         "WOPR:WP41(bbl/day)": 0,
         "WOPR:WP42(bbl/day)": 0,
         "WOPR:WP43(bbl/day)": 0,
         "WOPR:WP44(bbl/day)": 0,
         "WOPR:WP45(bbl/day)": 0,
         "WOPR:WP46(bbl/day)": 0,
         "WOPR:WP47(bbl/day)": 0,
         "WOPR:WP48(bbl/day)": 0,
         "WOPR:WP49(bbl/day)": 0,
         "WOPR:WP5(bbl/day)": 0,
         "WOPR:WP6(bbl/day)": 0,
         "WOPR:WP7(bbl/day)": 0,
         "WOPR:WP8(bbl/day)": 0,
         "WOPR:WP9(bbl/day)": 7.598605566,
         "Total": 3717.0770143930004,
         "_deepnote_index_column": "1-May-12"
        }
       ]
      },
      "text/plain": "          WOPR:WP0(bbl/day)  WOPR:WP1(bbl/day)  WOPR:WP10(bbl/day)  \\\nDate                                                                 \n1-Jan-12           8.945508                0.0                 0.0   \n1-Feb-12           8.854879                0.0                 0.0   \n1-Mar-12           8.845839                0.0                 0.0   \n1-Apr-12           8.839578                0.0                 0.0   \n1-May-12           8.834659                0.0                 0.0   \n\n          WOPR:WP11(bbl/day)  WOPR:WP12(bbl/day)  WOPR:WP13(bbl/day)  \\\nDate                                                                   \n1-Jan-12                   0                 0.0                 0.0   \n1-Feb-12                   0                 0.0                 0.0   \n1-Mar-12                   0                 0.0                 0.0   \n1-Apr-12                   0                 0.0                 0.0   \n1-May-12                   0                 0.0                 0.0   \n\n          WOPR:WP14(bbl/day)  WOPR:WP15(bbl/day)  WOPR:WP16(bbl/day)  \\\nDate                                                                   \n1-Jan-12                 0.0            0.000000                 0.0   \n1-Feb-12                 0.0            0.000000                 0.0   \n1-Mar-12                 0.0            0.000000                 0.0   \n1-Apr-12                 0.0         3483.552017                 0.0   \n1-May-12                 0.0         3374.525497                 0.0   \n\n          WOPR:WP17(bbl/day)  ...  WOPR:WP46(bbl/day)  WOPR:WP47(bbl/day)  \\\nDate                          ...                                           \n1-Jan-12                 0.0  ...                 0.0                 0.0   \n1-Feb-12                 0.0  ...                 0.0                 0.0   \n1-Mar-12                 0.0  ...                 0.0                 0.0   \n1-Apr-12                 0.0  ...                 0.0                 0.0   \n1-May-12                 0.0  ...                 0.0                 0.0   \n\n          WOPR:WP48(bbl/day)  WOPR:WP49(bbl/day)  WOPR:WP5(bbl/day)  \\\nDate                                                                  \n1-Jan-12                 0.0                 0.0                0.0   \n1-Feb-12                 0.0                 0.0                0.0   \n1-Mar-12                 0.0                 0.0                0.0   \n1-Apr-12                 0.0                 0.0                0.0   \n1-May-12                 0.0                 0.0                0.0   \n\n          WOPR:WP6(bbl/day)  WOPR:WP7(bbl/day)  WOPR:WP8(bbl/day)  \\\nDate                                                                \n1-Jan-12                0.0                0.0                0.0   \n1-Feb-12                0.0                0.0                0.0   \n1-Mar-12                0.0                0.0                0.0   \n1-Apr-12                0.0                0.0                0.0   \n1-May-12                0.0                0.0                0.0   \n\n          WOPR:WP9(bbl/day)        Total  \nDate                                      \n1-Jan-12           0.000000   381.691952  \n1-Feb-12           0.000000   344.603663  \n1-Mar-12           0.000000   340.549643  \n1-Apr-12           0.000000  3821.070871  \n1-May-12           7.598606  3717.077014  \n\n[5 rows x 51 columns]",
      "text/html": "<div>\n<style scoped>\n    .dataframe tbody tr th:only-of-type {\n        vertical-align: middle;\n    }\n\n    .dataframe tbody tr th {\n        vertical-align: top;\n    }\n\n    .dataframe thead th {\n        text-align: right;\n    }\n</style>\n<table border=\"1\" class=\"dataframe\">\n  <thead>\n    <tr style=\"text-align: right;\">\n      <th></th>\n      <th>WOPR:WP0(bbl/day)</th>\n      <th>WOPR:WP1(bbl/day)</th>\n      <th>WOPR:WP10(bbl/day)</th>\n      <th>WOPR:WP11(bbl/day)</th>\n      <th>WOPR:WP12(bbl/day)</th>\n      <th>WOPR:WP13(bbl/day)</th>\n      <th>WOPR:WP14(bbl/day)</th>\n      <th>WOPR:WP15(bbl/day)</th>\n      <th>WOPR:WP16(bbl/day)</th>\n      <th>WOPR:WP17(bbl/day)</th>\n      <th>...</th>\n      <th>WOPR:WP46(bbl/day)</th>\n      <th>WOPR:WP47(bbl/day)</th>\n      <th>WOPR:WP48(bbl/day)</th>\n      <th>WOPR:WP49(bbl/day)</th>\n      <th>WOPR:WP5(bbl/day)</th>\n      <th>WOPR:WP6(bbl/day)</th>\n      <th>WOPR:WP7(bbl/day)</th>\n      <th>WOPR:WP8(bbl/day)</th>\n      <th>WOPR:WP9(bbl/day)</th>\n      <th>Total</th>\n    </tr>\n    <tr>\n      <th>Date</th>\n      <th></th>\n      <th></th>\n      <th></th>\n      <th></th>\n      <th></th>\n      <th></th>\n      <th></th>\n      <th></th>\n      <th></th>\n      <th></th>\n      <th></th>\n      <th></th>\n      <th></th>\n      <th></th>\n      <th></th>\n      <th></th>\n      <th></th>\n      <th></th>\n      <th></th>\n      <th></th>\n      <th></th>\n    </tr>\n  </thead>\n  <tbody>\n    <tr>\n      <th>1-Jan-12</th>\n      <td>8.945508</td>\n      <td>0.0</td>\n      <td>0.0</td>\n      <td>0</td>\n      <td>0.0</td>\n      <td>0.0</td>\n      <td>0.0</td>\n      <td>0.000000</td>\n      <td>0.0</td>\n      <td>0.0</td>\n      <td>...</td>\n      <td>0.0</td>\n      <td>0.0</td>\n      <td>0.0</td>\n      <td>0.0</td>\n      <td>0.0</td>\n      <td>0.0</td>\n      <td>0.0</td>\n      <td>0.0</td>\n      <td>0.000000</td>\n      <td>381.691952</td>\n    </tr>\n    <tr>\n      <th>1-Feb-12</th>\n      <td>8.854879</td>\n      <td>0.0</td>\n      <td>0.0</td>\n      <td>0</td>\n      <td>0.0</td>\n      <td>0.0</td>\n      <td>0.0</td>\n      <td>0.000000</td>\n      <td>0.0</td>\n      <td>0.0</td>\n      <td>...</td>\n      <td>0.0</td>\n      <td>0.0</td>\n      <td>0.0</td>\n      <td>0.0</td>\n      <td>0.0</td>\n      <td>0.0</td>\n      <td>0.0</td>\n      <td>0.0</td>\n      <td>0.000000</td>\n      <td>344.603663</td>\n    </tr>\n    <tr>\n      <th>1-Mar-12</th>\n      <td>8.845839</td>\n      <td>0.0</td>\n      <td>0.0</td>\n      <td>0</td>\n      <td>0.0</td>\n      <td>0.0</td>\n      <td>0.0</td>\n      <td>0.000000</td>\n      <td>0.0</td>\n      <td>0.0</td>\n      <td>...</td>\n      <td>0.0</td>\n      <td>0.0</td>\n      <td>0.0</td>\n      <td>0.0</td>\n      <td>0.0</td>\n      <td>0.0</td>\n      <td>0.0</td>\n      <td>0.0</td>\n      <td>0.000000</td>\n      <td>340.549643</td>\n    </tr>\n    <tr>\n      <th>1-Apr-12</th>\n      <td>8.839578</td>\n      <td>0.0</td>\n      <td>0.0</td>\n      <td>0</td>\n      <td>0.0</td>\n      <td>0.0</td>\n      <td>0.0</td>\n      <td>3483.552017</td>\n      <td>0.0</td>\n      <td>0.0</td>\n      <td>...</td>\n      <td>0.0</td>\n      <td>0.0</td>\n      <td>0.0</td>\n      <td>0.0</td>\n      <td>0.0</td>\n      <td>0.0</td>\n      <td>0.0</td>\n      <td>0.0</td>\n      <td>0.000000</td>\n      <td>3821.070871</td>\n    </tr>\n    <tr>\n      <th>1-May-12</th>\n      <td>8.834659</td>\n      <td>0.0</td>\n      <td>0.0</td>\n      <td>0</td>\n      <td>0.0</td>\n      <td>0.0</td>\n      <td>0.0</td>\n      <td>3374.525497</td>\n      <td>0.0</td>\n      <td>0.0</td>\n      <td>...</td>\n      <td>0.0</td>\n      <td>0.0</td>\n      <td>0.0</td>\n      <td>0.0</td>\n      <td>0.0</td>\n      <td>0.0</td>\n      <td>0.0</td>\n      <td>0.0</td>\n      <td>7.598606</td>\n      <td>3717.077014</td>\n    </tr>\n  </tbody>\n</table>\n<p>5 rows × 51 columns</p>\n</div>"
     },
     "metadata": {}
    }
   ]
  },
  {
   "cell_type": "markdown",
   "source": "## Production Plot\n\nPlot of time series data for each well's production, as well as the total production for the collection, as a whole.",
   "metadata": {
    "cell_id": "e273a96015514690bdd33c334c1415e2",
    "tags": [],
    "deepnote_cell_type": "markdown",
    "deepnote_cell_height": 108
   }
  },
  {
   "cell_type": "code",
   "metadata": {
    "cell_id": "f9041d185dbf42328c093eaafe01dec2",
    "tags": [],
    "deepnote_to_be_reexecuted": false,
    "source_hash": "794c26b9",
    "execution_start": 1648305166647,
    "execution_millis": 2349,
    "deepnote_cell_type": "code",
    "deepnote_cell_height": 641.4000244140625,
    "deepnote_output_heights": [
     527
    ]
   },
   "source": "\npx.line(prod_df, x=prod_df.index, y=prod_df.columns)",
   "execution_count": 13,
   "outputs": [
    {
     "data": {
      "text/html": "<html>\n<head><meta charset=\"utf-8\" /></head>\n<body>\n    <div>            <script src=\"https://cdnjs.cloudflare.com/ajax/libs/mathjax/2.7.5/MathJax.js?config=TeX-AMS-MML_SVG\"></script><script type=\"text/javascript\">if (window.MathJax) {MathJax.Hub.Config({SVG: {font: \"STIX-Web\"}});}</script>                <script type=\"text/javascript\">window.PlotlyConfig = {MathJaxConfig: 'local'};</script>\n        <script src=\"https://cdn.plot.ly/plotly-2.9.0.min.js\"></script>                <div id=\"990f6f7b-a137-4faf-ab11-5df5d8e1f0da\" class=\"plotly-graph-div\" style=\"height:525px; width:100%;\"></div>            <script type=\"text/javascript\">                                    window.PLOTLYENV=window.PLOTLYENV || {};                                    if (document.getElementById(\"990f6f7b-a137-4faf-ab11-5df5d8e1f0da\")) {                    Plotly.newPlot(                        \"990f6f7b-a137-4faf-ab11-5df5d8e1f0da\",                        [{\"hovertemplate\":\"variable=WOPR:WP0(bbl/day)<br>Date=%{x}<br>value=%{y}<extra></extra>\",\"legendgroup\":\"WOPR:WP0(bbl/day)\",\"line\":{\"color\":\"#636efa\",\"dash\":\"solid\"},\"marker\":{\"symbol\":\"circle\"},\"mode\":\"lines\",\"name\":\"WOPR:WP0(bbl/day)\",\"showlegend\":true,\"x\":[\"1-Jan-12\",\"1-Feb-12\",\"1-Mar-12\",\"1-Apr-12\",\"1-May-12\",\"1-Jun-12\",\"1-Jul-12\",\"1-Aug-12\",\"1-Sep-12\",\"1-Oct-12\",\"1-Nov-12\",\"1-Dec-12\",\"1-Jan-13\",\"1-Feb-13\",\"1-Mar-13\",\"1-Apr-13\",\"1-May-13\",\"1-Jun-13\",\"1-Jul-13\",\"1-Aug-13\",\"1-Sep-13\",\"1-Oct-13\",\"1-Nov-13\",\"1-Dec-13\",\"1-Jan-14\",\"1-Feb-14\",\"1-Mar-14\",\"1-Apr-14\",\"1-May-14\",\"1-Jun-14\",\"1-Jul-14\",\"1-Aug-14\",\"1-Sep-14\",\"1-Oct-14\",\"1-Nov-14\",\"1-Dec-14\",\"1-Jan-15\",\"1-Feb-15\",\"1-Mar-15\",\"1-Apr-15\",\"1-May-15\",\"1-Jun-15\",\"1-Jul-15\",\"1-Aug-15\",\"1-Sep-15\",\"1-Oct-15\",\"1-Nov-15\",\"1-Dec-15\",\"1-Jan-16\",\"1-Feb-16\",\"1-Mar-16\",\"1-Apr-16\",\"1-May-16\",\"1-Jun-16\",\"1-Jul-16\",\"1-Aug-16\",\"1-Sep-16\",\"1-Oct-16\",\"1-Nov-16\",\"1-Dec-16\",\"1-Jan-17\",\"1-Feb-17\",\"1-Mar-17\",\"1-Apr-17\",\"1-May-17\",\"1-Jun-17\",\"1-Jul-17\",\"1-Aug-17\",\"1-Sep-17\",\"1-Oct-17\",\"1-Nov-17\",\"1-Dec-17\",\"1-Jan-18\",\"1-Feb-18\",\"1-Mar-18\",\"1-Apr-18\",\"1-May-18\",\"1-Jun-18\",\"1-Jul-18\",\"1-Aug-18\",\"1-Sep-18\",\"1-Oct-18\",\"1-Nov-18\",\"1-Dec-18\",\"1-Jan-19\",\"1-Feb-19\",\"1-Mar-19\",\"1-Apr-19\",\"1-May-19\",\"1-Jun-19\",\"1-Jul-19\",\"1-Aug-19\",\"1-Sep-19\",\"1-Oct-19\",\"1-Nov-19\",\"1-Dec-19\",\"1-Jan-20\",\"1-Feb-20\",\"1-Mar-20\",\"1-Apr-20\",\"1-May-20\",\"1-Jun-20\",\"1-Jul-20\",\"1-Aug-20\",\"1-Sep-20\",\"1-Oct-20\",\"1-Nov-20\",\"1-Dec-20\",\"1-Jan-21\",\"1-Feb-21\",\"1-Mar-21\",\"1-Apr-21\",\"1-May-21\",\"1-Jun-21\",\"1-Jul-21\",\"1-Aug-21\",\"1-Sep-21\",\"1-Oct-21\",\"1-Nov-21\",\"1-Dec-21\",\"1-Jan-22\"],\"xaxis\":\"x\",\"y\":[8.945507797,8.854878961,8.845838973,8.839577907,8.834659127,8.83085808,8.827648922,8.824968753,8.822754673,8.820783387,8.819112134,8.817589325,8.816232572,8.815121758,8.814006541,8.813019011,8.812079914,8.811238312,8.810427531,8.809668957,8.808960703,8.808237353,8.807534131,8.806800717,8.806062271,8.805391757,8.80464765,8.803929332,8.803190886,8.802480745,8.801752992,8.801031529,8.800340258,8.799633262,8.7989552,8.798262671,8.797575803,8.796960641,8.796285095,8.795632193,8.794957276,8.794299342,8.793612474,8.792917429,8.792236222,8.79152042,8.790819714,8.790085042,8.789340935,8.788638342,8.787880397,8.787140693,8.786371426,8.785622287,0.0,0.0,0.0,0.0,0.0,0.0,0.0,0.0,0.0,0.0,0.0,0.0,0.0,0.0,0.0,0.0,0.0,0.0,0.0,0.0,0.0,0.0,0.0,0.0,0.0,0.0,0.0,0.0,0.0,0.0,0.0,0.0,0.0,0.0,0.0,0.0,0.0,0.0,0.0,0.0,0.0,0.0,0.0,0.0,0.0,0.0,0.0,0.0,0.0,0.0,0.0,0.0,0.0,0.0,0.0,0.0,0.0,0.0,0.0,0.0,0.0,0.0,0.0,0.0,0.0,0.0,0.0],\"yaxis\":\"y\",\"type\":\"scattergl\"},{\"hovertemplate\":\"variable=WOPR:WP1(bbl/day)<br>Date=%{x}<br>value=%{y}<extra></extra>\",\"legendgroup\":\"WOPR:WP1(bbl/day)\",\"line\":{\"color\":\"#EF553B\",\"dash\":\"solid\"},\"marker\":{\"symbol\":\"circle\"},\"mode\":\"lines\",\"name\":\"WOPR:WP1(bbl/day)\",\"showlegend\":true,\"x\":[\"1-Jan-12\",\"1-Feb-12\",\"1-Mar-12\",\"1-Apr-12\",\"1-May-12\",\"1-Jun-12\",\"1-Jul-12\",\"1-Aug-12\",\"1-Sep-12\",\"1-Oct-12\",\"1-Nov-12\",\"1-Dec-12\",\"1-Jan-13\",\"1-Feb-13\",\"1-Mar-13\",\"1-Apr-13\",\"1-May-13\",\"1-Jun-13\",\"1-Jul-13\",\"1-Aug-13\",\"1-Sep-13\",\"1-Oct-13\",\"1-Nov-13\",\"1-Dec-13\",\"1-Jan-14\",\"1-Feb-14\",\"1-Mar-14\",\"1-Apr-14\",\"1-May-14\",\"1-Jun-14\",\"1-Jul-14\",\"1-Aug-14\",\"1-Sep-14\",\"1-Oct-14\",\"1-Nov-14\",\"1-Dec-14\",\"1-Jan-15\",\"1-Feb-15\",\"1-Mar-15\",\"1-Apr-15\",\"1-May-15\",\"1-Jun-15\",\"1-Jul-15\",\"1-Aug-15\",\"1-Sep-15\",\"1-Oct-15\",\"1-Nov-15\",\"1-Dec-15\",\"1-Jan-16\",\"1-Feb-16\",\"1-Mar-16\",\"1-Apr-16\",\"1-May-16\",\"1-Jun-16\",\"1-Jul-16\",\"1-Aug-16\",\"1-Sep-16\",\"1-Oct-16\",\"1-Nov-16\",\"1-Dec-16\",\"1-Jan-17\",\"1-Feb-17\",\"1-Mar-17\",\"1-Apr-17\",\"1-May-17\",\"1-Jun-17\",\"1-Jul-17\",\"1-Aug-17\",\"1-Sep-17\",\"1-Oct-17\",\"1-Nov-17\",\"1-Dec-17\",\"1-Jan-18\",\"1-Feb-18\",\"1-Mar-18\",\"1-Apr-18\",\"1-May-18\",\"1-Jun-18\",\"1-Jul-18\",\"1-Aug-18\",\"1-Sep-18\",\"1-Oct-18\",\"1-Nov-18\",\"1-Dec-18\",\"1-Jan-19\",\"1-Feb-19\",\"1-Mar-19\",\"1-Apr-19\",\"1-May-19\",\"1-Jun-19\",\"1-Jul-19\",\"1-Aug-19\",\"1-Sep-19\",\"1-Oct-19\",\"1-Nov-19\",\"1-Dec-19\",\"1-Jan-20\",\"1-Feb-20\",\"1-Mar-20\",\"1-Apr-20\",\"1-May-20\",\"1-Jun-20\",\"1-Jul-20\",\"1-Aug-20\",\"1-Sep-20\",\"1-Oct-20\",\"1-Nov-20\",\"1-Dec-20\",\"1-Jan-21\",\"1-Feb-21\",\"1-Mar-21\",\"1-Apr-21\",\"1-May-21\",\"1-Jun-21\",\"1-Jul-21\",\"1-Aug-21\",\"1-Sep-21\",\"1-Oct-21\",\"1-Nov-21\",\"1-Dec-21\",\"1-Jan-22\"],\"xaxis\":\"x\",\"y\":[0.0,0.0,0.0,0.0,0.0,0.0,0.0,0.0,0.0,0.0,0.0,0.0,0.0,0.0,0.0,0.0,0.0,0.0,0.0,0.0,0.0,0.0,0.0,0.0,0.0,0.0,0.0,0.0,0.0,0.0,0.0,0.0,0.0,0.0,0.0,0.0,0.0,0.0,0.0,0.0,0.0,0.0,0.0,0.0,0.0,0.0,0.0,0.0,0.0,0.0,0.0,0.0,0.0,0.0,0.0,0.0,0.0,0.0,39.39379636,39.19069226,39.07448703,38.99782514,38.93108446,38.87714771,38.8291286,38.78792469,38.74959029,38.71457071,38.68317984,38.65292557,38.62535901,38.59841643,38.57278719,38.55057154,38.52696706,38.50493696,38.48294021,38.4622958,38.44157654,38.42141205,38.40236971,38.38315627,38.36496245,38.34655854,0.0,0.0,0.0,0.0,0.0,0.0,0.0,0.0,0.0,0.0,0.0,0.0,0.0,0.0,0.0,0.0,0.0,0.0,0.0,0.0,0.0,0.0,0.0,0.0,0.0,0.0,0.0,0.0,0.0,0.0,0.0,0.0,0.0,0.0,0.0,0.0,0.0],\"yaxis\":\"y\",\"type\":\"scattergl\"},{\"hovertemplate\":\"variable=WOPR:WP10(bbl/day)<br>Date=%{x}<br>value=%{y}<extra></extra>\",\"legendgroup\":\"WOPR:WP10(bbl/day)\",\"line\":{\"color\":\"#00cc96\",\"dash\":\"solid\"},\"marker\":{\"symbol\":\"circle\"},\"mode\":\"lines\",\"name\":\"WOPR:WP10(bbl/day)\",\"showlegend\":true,\"x\":[\"1-Jan-12\",\"1-Feb-12\",\"1-Mar-12\",\"1-Apr-12\",\"1-May-12\",\"1-Jun-12\",\"1-Jul-12\",\"1-Aug-12\",\"1-Sep-12\",\"1-Oct-12\",\"1-Nov-12\",\"1-Dec-12\",\"1-Jan-13\",\"1-Feb-13\",\"1-Mar-13\",\"1-Apr-13\",\"1-May-13\",\"1-Jun-13\",\"1-Jul-13\",\"1-Aug-13\",\"1-Sep-13\",\"1-Oct-13\",\"1-Nov-13\",\"1-Dec-13\",\"1-Jan-14\",\"1-Feb-14\",\"1-Mar-14\",\"1-Apr-14\",\"1-May-14\",\"1-Jun-14\",\"1-Jul-14\",\"1-Aug-14\",\"1-Sep-14\",\"1-Oct-14\",\"1-Nov-14\",\"1-Dec-14\",\"1-Jan-15\",\"1-Feb-15\",\"1-Mar-15\",\"1-Apr-15\",\"1-May-15\",\"1-Jun-15\",\"1-Jul-15\",\"1-Aug-15\",\"1-Sep-15\",\"1-Oct-15\",\"1-Nov-15\",\"1-Dec-15\",\"1-Jan-16\",\"1-Feb-16\",\"1-Mar-16\",\"1-Apr-16\",\"1-May-16\",\"1-Jun-16\",\"1-Jul-16\",\"1-Aug-16\",\"1-Sep-16\",\"1-Oct-16\",\"1-Nov-16\",\"1-Dec-16\",\"1-Jan-17\",\"1-Feb-17\",\"1-Mar-17\",\"1-Apr-17\",\"1-May-17\",\"1-Jun-17\",\"1-Jul-17\",\"1-Aug-17\",\"1-Sep-17\",\"1-Oct-17\",\"1-Nov-17\",\"1-Dec-17\",\"1-Jan-18\",\"1-Feb-18\",\"1-Mar-18\",\"1-Apr-18\",\"1-May-18\",\"1-Jun-18\",\"1-Jul-18\",\"1-Aug-18\",\"1-Sep-18\",\"1-Oct-18\",\"1-Nov-18\",\"1-Dec-18\",\"1-Jan-19\",\"1-Feb-19\",\"1-Mar-19\",\"1-Apr-19\",\"1-May-19\",\"1-Jun-19\",\"1-Jul-19\",\"1-Aug-19\",\"1-Sep-19\",\"1-Oct-19\",\"1-Nov-19\",\"1-Dec-19\",\"1-Jan-20\",\"1-Feb-20\",\"1-Mar-20\",\"1-Apr-20\",\"1-May-20\",\"1-Jun-20\",\"1-Jul-20\",\"1-Aug-20\",\"1-Sep-20\",\"1-Oct-20\",\"1-Nov-20\",\"1-Dec-20\",\"1-Jan-21\",\"1-Feb-21\",\"1-Mar-21\",\"1-Apr-21\",\"1-May-21\",\"1-Jun-21\",\"1-Jul-21\",\"1-Aug-21\",\"1-Sep-21\",\"1-Oct-21\",\"1-Nov-21\",\"1-Dec-21\",\"1-Jan-22\"],\"xaxis\":\"x\",\"y\":[0.0,0.0,0.0,0.0,0.0,0.0,0.0,0.0,0.0,0.0,0.0,0.0,0.0,0.0,0.0,0.0,0.0,0.0,0.0,0.0,0.0,0.0,0.0,0.0,0.0,0.0,0.0,0.0,0.0,0.0,0.0,0.0,0.0,0.0,0.0,0.0,0.0,0.0,0.0,0.0,0.0,0.0,0.0,0.0,0.0,0.0,0.0,0.0,0.0,0.0,0.0,0.0,0.0,0.0,0.0,0.0,0.0,0.0,0.0,0.0,0.0,0.0,0.0,0.0,0.0,0.0,0.0,0.0,0.0,0.0,0.0,0.0,0.0,0.0,0.0,0.0,0.0,0.0,0.0,0.0,0.0,0.0,0.0,0.0,0.0,0.0,0.0,48.10991667,47.64503912,47.41732917,47.2589715,47.13767388,47.04110477,46.95620046,46.88418437,46.81801357,46.75834537,46.70720138,46.65694805,46.59488651,46.5199638,46.44405105,46.36661235,46.29228908,46.22393502,46.15720944,46.0960958,46.03633451,45.97966287,45.93075875,45.87914426,45.8313258,45.78399669,45.73995222,45.69614741,45.65392012,45.61439816,45.57487935,45.53778408,45.50058376,45.50058376],\"yaxis\":\"y\",\"type\":\"scattergl\"},{\"hovertemplate\":\"variable=WOPR:WP11(bbl/day)<br>Date=%{x}<br>value=%{y}<extra></extra>\",\"legendgroup\":\"WOPR:WP11(bbl/day)\",\"line\":{\"color\":\"#ab63fa\",\"dash\":\"solid\"},\"marker\":{\"symbol\":\"circle\"},\"mode\":\"lines\",\"name\":\"WOPR:WP11(bbl/day)\",\"showlegend\":true,\"x\":[\"1-Jan-12\",\"1-Feb-12\",\"1-Mar-12\",\"1-Apr-12\",\"1-May-12\",\"1-Jun-12\",\"1-Jul-12\",\"1-Aug-12\",\"1-Sep-12\",\"1-Oct-12\",\"1-Nov-12\",\"1-Dec-12\",\"1-Jan-13\",\"1-Feb-13\",\"1-Mar-13\",\"1-Apr-13\",\"1-May-13\",\"1-Jun-13\",\"1-Jul-13\",\"1-Aug-13\",\"1-Sep-13\",\"1-Oct-13\",\"1-Nov-13\",\"1-Dec-13\",\"1-Jan-14\",\"1-Feb-14\",\"1-Mar-14\",\"1-Apr-14\",\"1-May-14\",\"1-Jun-14\",\"1-Jul-14\",\"1-Aug-14\",\"1-Sep-14\",\"1-Oct-14\",\"1-Nov-14\",\"1-Dec-14\",\"1-Jan-15\",\"1-Feb-15\",\"1-Mar-15\",\"1-Apr-15\",\"1-May-15\",\"1-Jun-15\",\"1-Jul-15\",\"1-Aug-15\",\"1-Sep-15\",\"1-Oct-15\",\"1-Nov-15\",\"1-Dec-15\",\"1-Jan-16\",\"1-Feb-16\",\"1-Mar-16\",\"1-Apr-16\",\"1-May-16\",\"1-Jun-16\",\"1-Jul-16\",\"1-Aug-16\",\"1-Sep-16\",\"1-Oct-16\",\"1-Nov-16\",\"1-Dec-16\",\"1-Jan-17\",\"1-Feb-17\",\"1-Mar-17\",\"1-Apr-17\",\"1-May-17\",\"1-Jun-17\",\"1-Jul-17\",\"1-Aug-17\",\"1-Sep-17\",\"1-Oct-17\",\"1-Nov-17\",\"1-Dec-17\",\"1-Jan-18\",\"1-Feb-18\",\"1-Mar-18\",\"1-Apr-18\",\"1-May-18\",\"1-Jun-18\",\"1-Jul-18\",\"1-Aug-18\",\"1-Sep-18\",\"1-Oct-18\",\"1-Nov-18\",\"1-Dec-18\",\"1-Jan-19\",\"1-Feb-19\",\"1-Mar-19\",\"1-Apr-19\",\"1-May-19\",\"1-Jun-19\",\"1-Jul-19\",\"1-Aug-19\",\"1-Sep-19\",\"1-Oct-19\",\"1-Nov-19\",\"1-Dec-19\",\"1-Jan-20\",\"1-Feb-20\",\"1-Mar-20\",\"1-Apr-20\",\"1-May-20\",\"1-Jun-20\",\"1-Jul-20\",\"1-Aug-20\",\"1-Sep-20\",\"1-Oct-20\",\"1-Nov-20\",\"1-Dec-20\",\"1-Jan-21\",\"1-Feb-21\",\"1-Mar-21\",\"1-Apr-21\",\"1-May-21\",\"1-Jun-21\",\"1-Jul-21\",\"1-Aug-21\",\"1-Sep-21\",\"1-Oct-21\",\"1-Nov-21\",\"1-Dec-21\",\"1-Jan-22\"],\"xaxis\":\"x\",\"y\":[0.0,0.0,0.0,0.0,0.0,0.0,0.0,0.0,0.0,0.0,0.0,0.0,0.0,0.0,0.0,0.0,0.0,0.0,0.0,0.0,0.0,0.0,0.0,0.0,0.0,0.0,0.0,0.0,0.0,0.0,0.0,0.0,0.0,0.0,0.0,0.0,0.0,0.0,0.0,0.0,0.0,0.0,0.0,0.0,0.0,0.0,0.0,0.0,0.0,0.0,0.0,0.0,0.0,0.0,0.0,0.0,0.0,0.0,0.0,0.0,0.0,0.0,0.0,0.0,0.0,0.0,0.0,0.0,0.0,0.0,0.0,0.0,0.0,0.0,0.0,0.0,0.0,0.0,0.0,0.0,0.0,0.0,0.0,0.0,0.0,0.0,0.0,0.0,0.0,0.0,0.0,0.0,0.0,0.0,0.0,0.0,0.0,0.0,0.0,0.0,0.0,0.0,0.0,0.0,0.0,0.0,0.0,0.0,0.0,0.0,0.0,0.0,0.0,0.0,0.0,0.0,0.0,0.0,0.0,0.0,0.0],\"yaxis\":\"y\",\"type\":\"scattergl\"},{\"hovertemplate\":\"variable=WOPR:WP12(bbl/day)<br>Date=%{x}<br>value=%{y}<extra></extra>\",\"legendgroup\":\"WOPR:WP12(bbl/day)\",\"line\":{\"color\":\"#FFA15A\",\"dash\":\"solid\"},\"marker\":{\"symbol\":\"circle\"},\"mode\":\"lines\",\"name\":\"WOPR:WP12(bbl/day)\",\"showlegend\":true,\"x\":[\"1-Jan-12\",\"1-Feb-12\",\"1-Mar-12\",\"1-Apr-12\",\"1-May-12\",\"1-Jun-12\",\"1-Jul-12\",\"1-Aug-12\",\"1-Sep-12\",\"1-Oct-12\",\"1-Nov-12\",\"1-Dec-12\",\"1-Jan-13\",\"1-Feb-13\",\"1-Mar-13\",\"1-Apr-13\",\"1-May-13\",\"1-Jun-13\",\"1-Jul-13\",\"1-Aug-13\",\"1-Sep-13\",\"1-Oct-13\",\"1-Nov-13\",\"1-Dec-13\",\"1-Jan-14\",\"1-Feb-14\",\"1-Mar-14\",\"1-Apr-14\",\"1-May-14\",\"1-Jun-14\",\"1-Jul-14\",\"1-Aug-14\",\"1-Sep-14\",\"1-Oct-14\",\"1-Nov-14\",\"1-Dec-14\",\"1-Jan-15\",\"1-Feb-15\",\"1-Mar-15\",\"1-Apr-15\",\"1-May-15\",\"1-Jun-15\",\"1-Jul-15\",\"1-Aug-15\",\"1-Sep-15\",\"1-Oct-15\",\"1-Nov-15\",\"1-Dec-15\",\"1-Jan-16\",\"1-Feb-16\",\"1-Mar-16\",\"1-Apr-16\",\"1-May-16\",\"1-Jun-16\",\"1-Jul-16\",\"1-Aug-16\",\"1-Sep-16\",\"1-Oct-16\",\"1-Nov-16\",\"1-Dec-16\",\"1-Jan-17\",\"1-Feb-17\",\"1-Mar-17\",\"1-Apr-17\",\"1-May-17\",\"1-Jun-17\",\"1-Jul-17\",\"1-Aug-17\",\"1-Sep-17\",\"1-Oct-17\",\"1-Nov-17\",\"1-Dec-17\",\"1-Jan-18\",\"1-Feb-18\",\"1-Mar-18\",\"1-Apr-18\",\"1-May-18\",\"1-Jun-18\",\"1-Jul-18\",\"1-Aug-18\",\"1-Sep-18\",\"1-Oct-18\",\"1-Nov-18\",\"1-Dec-18\",\"1-Jan-19\",\"1-Feb-19\",\"1-Mar-19\",\"1-Apr-19\",\"1-May-19\",\"1-Jun-19\",\"1-Jul-19\",\"1-Aug-19\",\"1-Sep-19\",\"1-Oct-19\",\"1-Nov-19\",\"1-Dec-19\",\"1-Jan-20\",\"1-Feb-20\",\"1-Mar-20\",\"1-Apr-20\",\"1-May-20\",\"1-Jun-20\",\"1-Jul-20\",\"1-Aug-20\",\"1-Sep-20\",\"1-Oct-20\",\"1-Nov-20\",\"1-Dec-20\",\"1-Jan-21\",\"1-Feb-21\",\"1-Mar-21\",\"1-Apr-21\",\"1-May-21\",\"1-Jun-21\",\"1-Jul-21\",\"1-Aug-21\",\"1-Sep-21\",\"1-Oct-21\",\"1-Nov-21\",\"1-Dec-21\",\"1-Jan-22\"],\"xaxis\":\"x\",\"y\":[0.0,0.0,0.0,0.0,0.0,0.0,0.0,0.0,0.0,0.0,0.0,0.0,0.0,0.0,0.0,0.0,0.0,0.0,0.0,0.0,0.0,0.0,0.0,0.717781023,0.715307354,0.714075018,0.713134474,0.712440058,0.71187226,0.711423028,0.711038394,0.710714334,0.71044487,0.710202894,0.709995072,0.709801277,0.709622264,0.709468599,0.709303172,0.709142148,0.708964959,0.708770409,0.708525917,0.708217266,0.707839866,0.707347234,0.706760565,0.706025579,0.705154351,0.70421626,0.703072046,0.701833923,0.700417792,0.698924169,0.697260149,0.695490898,0.693697934,0.691780175,0.689882042,0.687894465,0.685895314,0.684088512,0.682094393,0.680174622,0.678203273,0.676306776,0.674357316,0.672415153,0.670539286,0.668601148,0.666722074,0.664772425,0.662810826,0.661026416,0.659031542,0.657079504,0.655036197,0.65303126,0.650927255,0.648788466,0.646684335,0.644471953,0.642294041,0.640003726,0.637674099,0.635538581,0.633137877,0.630782272,0.628316636,0.625904068,0.623385684,0.620844524,0.618367378,0.615790925,0.61328407,0.610681092,0.608067811,0.605614799,0.602984032,0.600429983,0.597783,0.595213391,0.592549117,0.589875099,0.587277229,0.584580523,0.581958851,0.579235294,0.576495804,0.574007272,0.0,0.0,0.0,0.0,0.0,0.0,0.0,0.0,0.0,0.0,0.0],\"yaxis\":\"y\",\"type\":\"scattergl\"},{\"hovertemplate\":\"variable=WOPR:WP13(bbl/day)<br>Date=%{x}<br>value=%{y}<extra></extra>\",\"legendgroup\":\"WOPR:WP13(bbl/day)\",\"line\":{\"color\":\"#19d3f3\",\"dash\":\"solid\"},\"marker\":{\"symbol\":\"circle\"},\"mode\":\"lines\",\"name\":\"WOPR:WP13(bbl/day)\",\"showlegend\":true,\"x\":[\"1-Jan-12\",\"1-Feb-12\",\"1-Mar-12\",\"1-Apr-12\",\"1-May-12\",\"1-Jun-12\",\"1-Jul-12\",\"1-Aug-12\",\"1-Sep-12\",\"1-Oct-12\",\"1-Nov-12\",\"1-Dec-12\",\"1-Jan-13\",\"1-Feb-13\",\"1-Mar-13\",\"1-Apr-13\",\"1-May-13\",\"1-Jun-13\",\"1-Jul-13\",\"1-Aug-13\",\"1-Sep-13\",\"1-Oct-13\",\"1-Nov-13\",\"1-Dec-13\",\"1-Jan-14\",\"1-Feb-14\",\"1-Mar-14\",\"1-Apr-14\",\"1-May-14\",\"1-Jun-14\",\"1-Jul-14\",\"1-Aug-14\",\"1-Sep-14\",\"1-Oct-14\",\"1-Nov-14\",\"1-Dec-14\",\"1-Jan-15\",\"1-Feb-15\",\"1-Mar-15\",\"1-Apr-15\",\"1-May-15\",\"1-Jun-15\",\"1-Jul-15\",\"1-Aug-15\",\"1-Sep-15\",\"1-Oct-15\",\"1-Nov-15\",\"1-Dec-15\",\"1-Jan-16\",\"1-Feb-16\",\"1-Mar-16\",\"1-Apr-16\",\"1-May-16\",\"1-Jun-16\",\"1-Jul-16\",\"1-Aug-16\",\"1-Sep-16\",\"1-Oct-16\",\"1-Nov-16\",\"1-Dec-16\",\"1-Jan-17\",\"1-Feb-17\",\"1-Mar-17\",\"1-Apr-17\",\"1-May-17\",\"1-Jun-17\",\"1-Jul-17\",\"1-Aug-17\",\"1-Sep-17\",\"1-Oct-17\",\"1-Nov-17\",\"1-Dec-17\",\"1-Jan-18\",\"1-Feb-18\",\"1-Mar-18\",\"1-Apr-18\",\"1-May-18\",\"1-Jun-18\",\"1-Jul-18\",\"1-Aug-18\",\"1-Sep-18\",\"1-Oct-18\",\"1-Nov-18\",\"1-Dec-18\",\"1-Jan-19\",\"1-Feb-19\",\"1-Mar-19\",\"1-Apr-19\",\"1-May-19\",\"1-Jun-19\",\"1-Jul-19\",\"1-Aug-19\",\"1-Sep-19\",\"1-Oct-19\",\"1-Nov-19\",\"1-Dec-19\",\"1-Jan-20\",\"1-Feb-20\",\"1-Mar-20\",\"1-Apr-20\",\"1-May-20\",\"1-Jun-20\",\"1-Jul-20\",\"1-Aug-20\",\"1-Sep-20\",\"1-Oct-20\",\"1-Nov-20\",\"1-Dec-20\",\"1-Jan-21\",\"1-Feb-21\",\"1-Mar-21\",\"1-Apr-21\",\"1-May-21\",\"1-Jun-21\",\"1-Jul-21\",\"1-Aug-21\",\"1-Sep-21\",\"1-Oct-21\",\"1-Nov-21\",\"1-Dec-21\",\"1-Jan-22\"],\"xaxis\":\"x\",\"y\":[0.0,0.0,0.0,0.0,0.0,0.0,0.0,0.0,0.0,0.0,0.0,0.0,0.0,0.0,0.0,0.0,0.0,0.0,0.0,0.0,0.0,0.0,0.0,0.0,0.0,0.0,0.0,0.0,0.0,0.0,0.0,0.0,0.0,0.0,0.0,0.0,0.0,0.0,0.0,0.0,0.0,24.5296747,24.3330059,24.2056422,24.10305671,24.0080972,23.92275763,23.83957364,23.76025674,23.68884637,23.6152106,23.54615457,23.47688532,23.41161336,23.34588475,23.28173115,23.2210163,23.15963973,23.10143836,23.04249918,22.98469533,22.93336202,22.8775521,22.82445444,22.7705114,22.71913657,22.66689434,22.61545787,22.56640593,22.51646459,22.468804,22.42025275,22.37239403,22.32968996,22.28304521,22.23846609,22.1929787,22.14948586,22.10519986,22.06154348,22.01976279,21.97707696,21.93622027,21.89449366,21.85321617,21.81629576,21.77584728,21.73706943,21.69733739,21.65919672,21.62010248,21.58134098,21.54409726,21.50588111,21.46915066,21.43975874,21.42282606,21.41726067,21.42034592,21.42925381,21.44253578,21.45771229,21.47473806,21.49234566,21.5094683,21.52690795,21.54335316,21.55975182,21.57546549,21.58907013,21.60338555,21.61653919,21.63888693,21.66960918,21.70806184,21.75010734,21.79212014,21.83564442,21.87710244,21.91878061,21.91878061],\"yaxis\":\"y\",\"type\":\"scattergl\"},{\"hovertemplate\":\"variable=WOPR:WP14(bbl/day)<br>Date=%{x}<br>value=%{y}<extra></extra>\",\"legendgroup\":\"WOPR:WP14(bbl/day)\",\"line\":{\"color\":\"#FF6692\",\"dash\":\"solid\"},\"marker\":{\"symbol\":\"circle\"},\"mode\":\"lines\",\"name\":\"WOPR:WP14(bbl/day)\",\"showlegend\":true,\"x\":[\"1-Jan-12\",\"1-Feb-12\",\"1-Mar-12\",\"1-Apr-12\",\"1-May-12\",\"1-Jun-12\",\"1-Jul-12\",\"1-Aug-12\",\"1-Sep-12\",\"1-Oct-12\",\"1-Nov-12\",\"1-Dec-12\",\"1-Jan-13\",\"1-Feb-13\",\"1-Mar-13\",\"1-Apr-13\",\"1-May-13\",\"1-Jun-13\",\"1-Jul-13\",\"1-Aug-13\",\"1-Sep-13\",\"1-Oct-13\",\"1-Nov-13\",\"1-Dec-13\",\"1-Jan-14\",\"1-Feb-14\",\"1-Mar-14\",\"1-Apr-14\",\"1-May-14\",\"1-Jun-14\",\"1-Jul-14\",\"1-Aug-14\",\"1-Sep-14\",\"1-Oct-14\",\"1-Nov-14\",\"1-Dec-14\",\"1-Jan-15\",\"1-Feb-15\",\"1-Mar-15\",\"1-Apr-15\",\"1-May-15\",\"1-Jun-15\",\"1-Jul-15\",\"1-Aug-15\",\"1-Sep-15\",\"1-Oct-15\",\"1-Nov-15\",\"1-Dec-15\",\"1-Jan-16\",\"1-Feb-16\",\"1-Mar-16\",\"1-Apr-16\",\"1-May-16\",\"1-Jun-16\",\"1-Jul-16\",\"1-Aug-16\",\"1-Sep-16\",\"1-Oct-16\",\"1-Nov-16\",\"1-Dec-16\",\"1-Jan-17\",\"1-Feb-17\",\"1-Mar-17\",\"1-Apr-17\",\"1-May-17\",\"1-Jun-17\",\"1-Jul-17\",\"1-Aug-17\",\"1-Sep-17\",\"1-Oct-17\",\"1-Nov-17\",\"1-Dec-17\",\"1-Jan-18\",\"1-Feb-18\",\"1-Mar-18\",\"1-Apr-18\",\"1-May-18\",\"1-Jun-18\",\"1-Jul-18\",\"1-Aug-18\",\"1-Sep-18\",\"1-Oct-18\",\"1-Nov-18\",\"1-Dec-18\",\"1-Jan-19\",\"1-Feb-19\",\"1-Mar-19\",\"1-Apr-19\",\"1-May-19\",\"1-Jun-19\",\"1-Jul-19\",\"1-Aug-19\",\"1-Sep-19\",\"1-Oct-19\",\"1-Nov-19\",\"1-Dec-19\",\"1-Jan-20\",\"1-Feb-20\",\"1-Mar-20\",\"1-Apr-20\",\"1-May-20\",\"1-Jun-20\",\"1-Jul-20\",\"1-Aug-20\",\"1-Sep-20\",\"1-Oct-20\",\"1-Nov-20\",\"1-Dec-20\",\"1-Jan-21\",\"1-Feb-21\",\"1-Mar-21\",\"1-Apr-21\",\"1-May-21\",\"1-Jun-21\",\"1-Jul-21\",\"1-Aug-21\",\"1-Sep-21\",\"1-Oct-21\",\"1-Nov-21\",\"1-Dec-21\",\"1-Jan-22\"],\"xaxis\":\"x\",\"y\":[0.0,0.0,0.0,0.0,0.0,0.0,0.0,0.0,0.0,0.0,0.0,0.0,0.0,0.0,0.0,0.0,0.0,0.0,0.0,0.0,0.0,0.0,0.0,0.0,0.0,0.0,0.0,0.0,0.0,0.0,447.0467609,444.3633652,442.2833817,440.3027865,438.4626973,436.6131605,433.2867569,430.5921838,427.9334071,425.5376593,423.1711349,420.9396002,418.6691051,416.418713,414.2520596,412.0208645,409.8669295,407.646245,405.4303597,403.0221326,400.3104004,397.678765,394.988142,386.2049747,379.8460867,374.7539857,370.402765,366.2722163,362.5113247,358.8173587,355.2756358,352.1810187,348.8640564,345.7431408,342.6022922,339.6336323,336.635139,331.0565066,326.1037606,321.4783776,317.2978235,313.487939,309.5141686,305.8257692,301.7478175,297.860478,0.0,0.0,0.0,0.0,0.0,0.0,0.0,0.0,0.0,0.0,0.0,0.0,0.0,0.0,0.0,0.0,0.0,0.0,0.0,0.0,0.0,0.0,0.0,0.0,0.0,0.0,0.0,0.0,0.0,0.0,0.0,0.0,0.0,0.0,0.0,0.0,0.0,0.0,0.0,0.0,0.0,0.0,0.0,0.0,0.0],\"yaxis\":\"y\",\"type\":\"scattergl\"},{\"hovertemplate\":\"variable=WOPR:WP15(bbl/day)<br>Date=%{x}<br>value=%{y}<extra></extra>\",\"legendgroup\":\"WOPR:WP15(bbl/day)\",\"line\":{\"color\":\"#B6E880\",\"dash\":\"solid\"},\"marker\":{\"symbol\":\"circle\"},\"mode\":\"lines\",\"name\":\"WOPR:WP15(bbl/day)\",\"showlegend\":true,\"x\":[\"1-Jan-12\",\"1-Feb-12\",\"1-Mar-12\",\"1-Apr-12\",\"1-May-12\",\"1-Jun-12\",\"1-Jul-12\",\"1-Aug-12\",\"1-Sep-12\",\"1-Oct-12\",\"1-Nov-12\",\"1-Dec-12\",\"1-Jan-13\",\"1-Feb-13\",\"1-Mar-13\",\"1-Apr-13\",\"1-May-13\",\"1-Jun-13\",\"1-Jul-13\",\"1-Aug-13\",\"1-Sep-13\",\"1-Oct-13\",\"1-Nov-13\",\"1-Dec-13\",\"1-Jan-14\",\"1-Feb-14\",\"1-Mar-14\",\"1-Apr-14\",\"1-May-14\",\"1-Jun-14\",\"1-Jul-14\",\"1-Aug-14\",\"1-Sep-14\",\"1-Oct-14\",\"1-Nov-14\",\"1-Dec-14\",\"1-Jan-15\",\"1-Feb-15\",\"1-Mar-15\",\"1-Apr-15\",\"1-May-15\",\"1-Jun-15\",\"1-Jul-15\",\"1-Aug-15\",\"1-Sep-15\",\"1-Oct-15\",\"1-Nov-15\",\"1-Dec-15\",\"1-Jan-16\",\"1-Feb-16\",\"1-Mar-16\",\"1-Apr-16\",\"1-May-16\",\"1-Jun-16\",\"1-Jul-16\",\"1-Aug-16\",\"1-Sep-16\",\"1-Oct-16\",\"1-Nov-16\",\"1-Dec-16\",\"1-Jan-17\",\"1-Feb-17\",\"1-Mar-17\",\"1-Apr-17\",\"1-May-17\",\"1-Jun-17\",\"1-Jul-17\",\"1-Aug-17\",\"1-Sep-17\",\"1-Oct-17\",\"1-Nov-17\",\"1-Dec-17\",\"1-Jan-18\",\"1-Feb-18\",\"1-Mar-18\",\"1-Apr-18\",\"1-May-18\",\"1-Jun-18\",\"1-Jul-18\",\"1-Aug-18\",\"1-Sep-18\",\"1-Oct-18\",\"1-Nov-18\",\"1-Dec-18\",\"1-Jan-19\",\"1-Feb-19\",\"1-Mar-19\",\"1-Apr-19\",\"1-May-19\",\"1-Jun-19\",\"1-Jul-19\",\"1-Aug-19\",\"1-Sep-19\",\"1-Oct-19\",\"1-Nov-19\",\"1-Dec-19\",\"1-Jan-20\",\"1-Feb-20\",\"1-Mar-20\",\"1-Apr-20\",\"1-May-20\",\"1-Jun-20\",\"1-Jul-20\",\"1-Aug-20\",\"1-Sep-20\",\"1-Oct-20\",\"1-Nov-20\",\"1-Dec-20\",\"1-Jan-21\",\"1-Feb-21\",\"1-Mar-21\",\"1-Apr-21\",\"1-May-21\",\"1-Jun-21\",\"1-Jul-21\",\"1-Aug-21\",\"1-Sep-21\",\"1-Oct-21\",\"1-Nov-21\",\"1-Dec-21\",\"1-Jan-22\"],\"xaxis\":\"x\",\"y\":[0.0,0.0,0.0,3483.552017,3374.525497,3303.352197,3245.098305,3185.653088,3130.273538,3077.372499,3030.348207,2985.73871,2944.552482,2909.768027,2870.442318,2830.387346,2787.293676,2744.731762,0.0,0.0,0.0,0.0,0.0,0.0,0.0,0.0,0.0,0.0,0.0,0.0,0.0,0.0,0.0,0.0,0.0,0.0,0.0,0.0,0.0,0.0,0.0,0.0,0.0,0.0,0.0,0.0,0.0,0.0,0.0,0.0,0.0,0.0,0.0,0.0,0.0,0.0,0.0,0.0,0.0,0.0,0.0,0.0,0.0,0.0,0.0,0.0,0.0,0.0,0.0,0.0,0.0,0.0,0.0,0.0,0.0,0.0,0.0,0.0,0.0,0.0,0.0,0.0,0.0,0.0,0.0,0.0,0.0,0.0,0.0,0.0,0.0,0.0,0.0,0.0,0.0,0.0,0.0,0.0,0.0,0.0,0.0,0.0,0.0,0.0,0.0,0.0,0.0,0.0,0.0,0.0,0.0,0.0,0.0,0.0,0.0,0.0,0.0,0.0,0.0,0.0,0.0],\"yaxis\":\"y\",\"type\":\"scattergl\"},{\"hovertemplate\":\"variable=WOPR:WP16(bbl/day)<br>Date=%{x}<br>value=%{y}<extra></extra>\",\"legendgroup\":\"WOPR:WP16(bbl/day)\",\"line\":{\"color\":\"#FF97FF\",\"dash\":\"solid\"},\"marker\":{\"symbol\":\"circle\"},\"mode\":\"lines\",\"name\":\"WOPR:WP16(bbl/day)\",\"showlegend\":true,\"x\":[\"1-Jan-12\",\"1-Feb-12\",\"1-Mar-12\",\"1-Apr-12\",\"1-May-12\",\"1-Jun-12\",\"1-Jul-12\",\"1-Aug-12\",\"1-Sep-12\",\"1-Oct-12\",\"1-Nov-12\",\"1-Dec-12\",\"1-Jan-13\",\"1-Feb-13\",\"1-Mar-13\",\"1-Apr-13\",\"1-May-13\",\"1-Jun-13\",\"1-Jul-13\",\"1-Aug-13\",\"1-Sep-13\",\"1-Oct-13\",\"1-Nov-13\",\"1-Dec-13\",\"1-Jan-14\",\"1-Feb-14\",\"1-Mar-14\",\"1-Apr-14\",\"1-May-14\",\"1-Jun-14\",\"1-Jul-14\",\"1-Aug-14\",\"1-Sep-14\",\"1-Oct-14\",\"1-Nov-14\",\"1-Dec-14\",\"1-Jan-15\",\"1-Feb-15\",\"1-Mar-15\",\"1-Apr-15\",\"1-May-15\",\"1-Jun-15\",\"1-Jul-15\",\"1-Aug-15\",\"1-Sep-15\",\"1-Oct-15\",\"1-Nov-15\",\"1-Dec-15\",\"1-Jan-16\",\"1-Feb-16\",\"1-Mar-16\",\"1-Apr-16\",\"1-May-16\",\"1-Jun-16\",\"1-Jul-16\",\"1-Aug-16\",\"1-Sep-16\",\"1-Oct-16\",\"1-Nov-16\",\"1-Dec-16\",\"1-Jan-17\",\"1-Feb-17\",\"1-Mar-17\",\"1-Apr-17\",\"1-May-17\",\"1-Jun-17\",\"1-Jul-17\",\"1-Aug-17\",\"1-Sep-17\",\"1-Oct-17\",\"1-Nov-17\",\"1-Dec-17\",\"1-Jan-18\",\"1-Feb-18\",\"1-Mar-18\",\"1-Apr-18\",\"1-May-18\",\"1-Jun-18\",\"1-Jul-18\",\"1-Aug-18\",\"1-Sep-18\",\"1-Oct-18\",\"1-Nov-18\",\"1-Dec-18\",\"1-Jan-19\",\"1-Feb-19\",\"1-Mar-19\",\"1-Apr-19\",\"1-May-19\",\"1-Jun-19\",\"1-Jul-19\",\"1-Aug-19\",\"1-Sep-19\",\"1-Oct-19\",\"1-Nov-19\",\"1-Dec-19\",\"1-Jan-20\",\"1-Feb-20\",\"1-Mar-20\",\"1-Apr-20\",\"1-May-20\",\"1-Jun-20\",\"1-Jul-20\",\"1-Aug-20\",\"1-Sep-20\",\"1-Oct-20\",\"1-Nov-20\",\"1-Dec-20\",\"1-Jan-21\",\"1-Feb-21\",\"1-Mar-21\",\"1-Apr-21\",\"1-May-21\",\"1-Jun-21\",\"1-Jul-21\",\"1-Aug-21\",\"1-Sep-21\",\"1-Oct-21\",\"1-Nov-21\",\"1-Dec-21\",\"1-Jan-22\"],\"xaxis\":\"x\",\"y\":[0.0,0.0,0.0,0.0,0.0,0.0,0.0,0.0,0.0,0.0,0.0,0.0,0.0,0.0,0.0,0.0,0.0,0.0,0.0,0.0,0.0,0.0,0.0,0.0,0.0,0.0,0.0,0.0,0.0,0.0,0.0,0.0,0.0,0.0,0.0,0.0,0.0,0.0,0.0,0.0,0.0,0.0,0.0,0.0,0.0,0.0,0.0,0.0,0.0,0.0,0.0,0.0,0.0,0.0,0.0,0.0,0.0,0.0,0.0,0.0,0.0,0.0,0.0,0.0,0.0,0.0,0.0,0.0,0.0,0.0,0.0,1941.703124,1869.982594,1825.418573,1784.956827,1750.070411,1716.783417,1686.339817,1656.262861,1627.275836,1599.191489,1570.136658,1542.246861,1513.877829,1486.054832,1461.639253,1435.127973,1394.531495,1357.338033,1324.214578,1292.037266,1255.637413,1218.779145,1180.951274,1145.338238,1109.861631,1075.791909,1045.123567,1013.675329,984.4263882,955.4271609,928.4424948,901.6517494,875.8949542,851.8870935,827.9982396,805.7101907,783.5134097,762.1025013,743.3730199,723.3426407,704.5874332,685.837698,668.2721182,650.7084254,0.0,0.0,0.0,0.0,0.0,0.0],\"yaxis\":\"y\",\"type\":\"scattergl\"},{\"hovertemplate\":\"variable=WOPR:WP17(bbl/day)<br>Date=%{x}<br>value=%{y}<extra></extra>\",\"legendgroup\":\"WOPR:WP17(bbl/day)\",\"line\":{\"color\":\"#FECB52\",\"dash\":\"solid\"},\"marker\":{\"symbol\":\"circle\"},\"mode\":\"lines\",\"name\":\"WOPR:WP17(bbl/day)\",\"showlegend\":true,\"x\":[\"1-Jan-12\",\"1-Feb-12\",\"1-Mar-12\",\"1-Apr-12\",\"1-May-12\",\"1-Jun-12\",\"1-Jul-12\",\"1-Aug-12\",\"1-Sep-12\",\"1-Oct-12\",\"1-Nov-12\",\"1-Dec-12\",\"1-Jan-13\",\"1-Feb-13\",\"1-Mar-13\",\"1-Apr-13\",\"1-May-13\",\"1-Jun-13\",\"1-Jul-13\",\"1-Aug-13\",\"1-Sep-13\",\"1-Oct-13\",\"1-Nov-13\",\"1-Dec-13\",\"1-Jan-14\",\"1-Feb-14\",\"1-Mar-14\",\"1-Apr-14\",\"1-May-14\",\"1-Jun-14\",\"1-Jul-14\",\"1-Aug-14\",\"1-Sep-14\",\"1-Oct-14\",\"1-Nov-14\",\"1-Dec-14\",\"1-Jan-15\",\"1-Feb-15\",\"1-Mar-15\",\"1-Apr-15\",\"1-May-15\",\"1-Jun-15\",\"1-Jul-15\",\"1-Aug-15\",\"1-Sep-15\",\"1-Oct-15\",\"1-Nov-15\",\"1-Dec-15\",\"1-Jan-16\",\"1-Feb-16\",\"1-Mar-16\",\"1-Apr-16\",\"1-May-16\",\"1-Jun-16\",\"1-Jul-16\",\"1-Aug-16\",\"1-Sep-16\",\"1-Oct-16\",\"1-Nov-16\",\"1-Dec-16\",\"1-Jan-17\",\"1-Feb-17\",\"1-Mar-17\",\"1-Apr-17\",\"1-May-17\",\"1-Jun-17\",\"1-Jul-17\",\"1-Aug-17\",\"1-Sep-17\",\"1-Oct-17\",\"1-Nov-17\",\"1-Dec-17\",\"1-Jan-18\",\"1-Feb-18\",\"1-Mar-18\",\"1-Apr-18\",\"1-May-18\",\"1-Jun-18\",\"1-Jul-18\",\"1-Aug-18\",\"1-Sep-18\",\"1-Oct-18\",\"1-Nov-18\",\"1-Dec-18\",\"1-Jan-19\",\"1-Feb-19\",\"1-Mar-19\",\"1-Apr-19\",\"1-May-19\",\"1-Jun-19\",\"1-Jul-19\",\"1-Aug-19\",\"1-Sep-19\",\"1-Oct-19\",\"1-Nov-19\",\"1-Dec-19\",\"1-Jan-20\",\"1-Feb-20\",\"1-Mar-20\",\"1-Apr-20\",\"1-May-20\",\"1-Jun-20\",\"1-Jul-20\",\"1-Aug-20\",\"1-Sep-20\",\"1-Oct-20\",\"1-Nov-20\",\"1-Dec-20\",\"1-Jan-21\",\"1-Feb-21\",\"1-Mar-21\",\"1-Apr-21\",\"1-May-21\",\"1-Jun-21\",\"1-Jul-21\",\"1-Aug-21\",\"1-Sep-21\",\"1-Oct-21\",\"1-Nov-21\",\"1-Dec-21\",\"1-Jan-22\"],\"xaxis\":\"x\",\"y\":[0.0,0.0,0.0,0.0,0.0,0.0,0.0,1484.466481,1459.745523,1439.459329,1421.757508,1404.787529,1388.84307,1375.149992,1352.293453,1329.025359,1305.778714,1284.245717,1271.596967,1263.301841,0.0,0.0,0.0,0.0,0.0,0.0,0.0,0.0,0.0,0.0,0.0,0.0,0.0,0.0,0.0,0.0,0.0,0.0,0.0,0.0,0.0,0.0,0.0,0.0,0.0,0.0,0.0,0.0,0.0,0.0,0.0,0.0,0.0,0.0,0.0,0.0,0.0,0.0,0.0,0.0,0.0,0.0,0.0,0.0,0.0,0.0,0.0,0.0,0.0,0.0,0.0,0.0,0.0,0.0,0.0,0.0,0.0,0.0,0.0,0.0,0.0,0.0,0.0,0.0,0.0,0.0,0.0,0.0,0.0,0.0,0.0,0.0,0.0,0.0,0.0,0.0,0.0,0.0,0.0,0.0,0.0,0.0,0.0,0.0,0.0,0.0,0.0,0.0,0.0,0.0,0.0,0.0,0.0,0.0,0.0,0.0,0.0,0.0,0.0,0.0,0.0],\"yaxis\":\"y\",\"type\":\"scattergl\"},{\"hovertemplate\":\"variable=WOPR:WP18(bbl/day)<br>Date=%{x}<br>value=%{y}<extra></extra>\",\"legendgroup\":\"WOPR:WP18(bbl/day)\",\"line\":{\"color\":\"#636efa\",\"dash\":\"solid\"},\"marker\":{\"symbol\":\"circle\"},\"mode\":\"lines\",\"name\":\"WOPR:WP18(bbl/day)\",\"showlegend\":true,\"x\":[\"1-Jan-12\",\"1-Feb-12\",\"1-Mar-12\",\"1-Apr-12\",\"1-May-12\",\"1-Jun-12\",\"1-Jul-12\",\"1-Aug-12\",\"1-Sep-12\",\"1-Oct-12\",\"1-Nov-12\",\"1-Dec-12\",\"1-Jan-13\",\"1-Feb-13\",\"1-Mar-13\",\"1-Apr-13\",\"1-May-13\",\"1-Jun-13\",\"1-Jul-13\",\"1-Aug-13\",\"1-Sep-13\",\"1-Oct-13\",\"1-Nov-13\",\"1-Dec-13\",\"1-Jan-14\",\"1-Feb-14\",\"1-Mar-14\",\"1-Apr-14\",\"1-May-14\",\"1-Jun-14\",\"1-Jul-14\",\"1-Aug-14\",\"1-Sep-14\",\"1-Oct-14\",\"1-Nov-14\",\"1-Dec-14\",\"1-Jan-15\",\"1-Feb-15\",\"1-Mar-15\",\"1-Apr-15\",\"1-May-15\",\"1-Jun-15\",\"1-Jul-15\",\"1-Aug-15\",\"1-Sep-15\",\"1-Oct-15\",\"1-Nov-15\",\"1-Dec-15\",\"1-Jan-16\",\"1-Feb-16\",\"1-Mar-16\",\"1-Apr-16\",\"1-May-16\",\"1-Jun-16\",\"1-Jul-16\",\"1-Aug-16\",\"1-Sep-16\",\"1-Oct-16\",\"1-Nov-16\",\"1-Dec-16\",\"1-Jan-17\",\"1-Feb-17\",\"1-Mar-17\",\"1-Apr-17\",\"1-May-17\",\"1-Jun-17\",\"1-Jul-17\",\"1-Aug-17\",\"1-Sep-17\",\"1-Oct-17\",\"1-Nov-17\",\"1-Dec-17\",\"1-Jan-18\",\"1-Feb-18\",\"1-Mar-18\",\"1-Apr-18\",\"1-May-18\",\"1-Jun-18\",\"1-Jul-18\",\"1-Aug-18\",\"1-Sep-18\",\"1-Oct-18\",\"1-Nov-18\",\"1-Dec-18\",\"1-Jan-19\",\"1-Feb-19\",\"1-Mar-19\",\"1-Apr-19\",\"1-May-19\",\"1-Jun-19\",\"1-Jul-19\",\"1-Aug-19\",\"1-Sep-19\",\"1-Oct-19\",\"1-Nov-19\",\"1-Dec-19\",\"1-Jan-20\",\"1-Feb-20\",\"1-Mar-20\",\"1-Apr-20\",\"1-May-20\",\"1-Jun-20\",\"1-Jul-20\",\"1-Aug-20\",\"1-Sep-20\",\"1-Oct-20\",\"1-Nov-20\",\"1-Dec-20\",\"1-Jan-21\",\"1-Feb-21\",\"1-Mar-21\",\"1-Apr-21\",\"1-May-21\",\"1-Jun-21\",\"1-Jul-21\",\"1-Aug-21\",\"1-Sep-21\",\"1-Oct-21\",\"1-Nov-21\",\"1-Dec-21\",\"1-Jan-22\"],\"xaxis\":\"x\",\"y\":[372.7464441,335.7487837,331.7038042,328.6792765,326.1182527,323.9996864,322.0791732,320.3608333,318.8470253,317.4119681,316.1222413,314.8781988,313.7097433,312.7082621,311.657115,310.6877631,309.7315825,308.8443905,307.9643,307.1175591,306.3266042,305.5372595,304.7975366,304.0568703,303.3382881,302.706055,302.0253135,301.3833875,300.7369516,300.1263184,299.5102381,298.9083354,298.3383734,297.7620773,297.2156272,296.6625035,296.1093357,295.599764,295.0154544,294.429629,293.8051012,293.1768811,292.5019641,291.8068185,291.1213972,290.4059034,289.7111477,288.9941695,288.2806697,287.618037,286.9161045,286.2435903,285.5566971,284.8998009,284.2292052,283.5671512,282.9344653,282.2889666,281.6721441,281.0426471,280.4209498,279.8657693,279.2584698,278.6773744,278.0837997,277.5156114,276.9350381,276.3608743,275.8110214,275.2488275,274.7102022,274.1593618,273.6142075,273.1263047,272.591661,272.0793783,271.5553898,271.0533032,270.5398001,270.0315241,269.5444139,269.0460761,268.5684135,268.0796742,267.5957027,267.1623909,266.6828854,266.2171046,265.7341709,265.2663019,264.7834815,264.3023971,263.8390883,263.3632561,262.9058724,0.0,0.0,0.0,0.0,0.0,0.0,0.0,0.0,0.0,0.0,0.0,0.0,0.0,0.0,0.0,0.0,0.0,0.0,0.0,0.0,0.0,0.0,0.0,0.0,0.0,0.0],\"yaxis\":\"y\",\"type\":\"scattergl\"},{\"hovertemplate\":\"variable=WOPR:WP19(bbl/day)<br>Date=%{x}<br>value=%{y}<extra></extra>\",\"legendgroup\":\"WOPR:WP19(bbl/day)\",\"line\":{\"color\":\"#EF553B\",\"dash\":\"solid\"},\"marker\":{\"symbol\":\"circle\"},\"mode\":\"lines\",\"name\":\"WOPR:WP19(bbl/day)\",\"showlegend\":true,\"x\":[\"1-Jan-12\",\"1-Feb-12\",\"1-Mar-12\",\"1-Apr-12\",\"1-May-12\",\"1-Jun-12\",\"1-Jul-12\",\"1-Aug-12\",\"1-Sep-12\",\"1-Oct-12\",\"1-Nov-12\",\"1-Dec-12\",\"1-Jan-13\",\"1-Feb-13\",\"1-Mar-13\",\"1-Apr-13\",\"1-May-13\",\"1-Jun-13\",\"1-Jul-13\",\"1-Aug-13\",\"1-Sep-13\",\"1-Oct-13\",\"1-Nov-13\",\"1-Dec-13\",\"1-Jan-14\",\"1-Feb-14\",\"1-Mar-14\",\"1-Apr-14\",\"1-May-14\",\"1-Jun-14\",\"1-Jul-14\",\"1-Aug-14\",\"1-Sep-14\",\"1-Oct-14\",\"1-Nov-14\",\"1-Dec-14\",\"1-Jan-15\",\"1-Feb-15\",\"1-Mar-15\",\"1-Apr-15\",\"1-May-15\",\"1-Jun-15\",\"1-Jul-15\",\"1-Aug-15\",\"1-Sep-15\",\"1-Oct-15\",\"1-Nov-15\",\"1-Dec-15\",\"1-Jan-16\",\"1-Feb-16\",\"1-Mar-16\",\"1-Apr-16\",\"1-May-16\",\"1-Jun-16\",\"1-Jul-16\",\"1-Aug-16\",\"1-Sep-16\",\"1-Oct-16\",\"1-Nov-16\",\"1-Dec-16\",\"1-Jan-17\",\"1-Feb-17\",\"1-Mar-17\",\"1-Apr-17\",\"1-May-17\",\"1-Jun-17\",\"1-Jul-17\",\"1-Aug-17\",\"1-Sep-17\",\"1-Oct-17\",\"1-Nov-17\",\"1-Dec-17\",\"1-Jan-18\",\"1-Feb-18\",\"1-Mar-18\",\"1-Apr-18\",\"1-May-18\",\"1-Jun-18\",\"1-Jul-18\",\"1-Aug-18\",\"1-Sep-18\",\"1-Oct-18\",\"1-Nov-18\",\"1-Dec-18\",\"1-Jan-19\",\"1-Feb-19\",\"1-Mar-19\",\"1-Apr-19\",\"1-May-19\",\"1-Jun-19\",\"1-Jul-19\",\"1-Aug-19\",\"1-Sep-19\",\"1-Oct-19\",\"1-Nov-19\",\"1-Dec-19\",\"1-Jan-20\",\"1-Feb-20\",\"1-Mar-20\",\"1-Apr-20\",\"1-May-20\",\"1-Jun-20\",\"1-Jul-20\",\"1-Aug-20\",\"1-Sep-20\",\"1-Oct-20\",\"1-Nov-20\",\"1-Dec-20\",\"1-Jan-21\",\"1-Feb-21\",\"1-Mar-21\",\"1-Apr-21\",\"1-May-21\",\"1-Jun-21\",\"1-Jul-21\",\"1-Aug-21\",\"1-Sep-21\",\"1-Oct-21\",\"1-Nov-21\",\"1-Dec-21\",\"1-Jan-22\"],\"xaxis\":\"x\",\"y\":[0.0,0.0,0.0,0.0,0.0,0.0,0.0,0.0,0.0,0.0,0.0,0.0,0.0,0.0,0.0,0.0,0.0,0.0,0.0,0.0,0.0,0.0,0.0,0.0,0.0,0.0,0.0,0.0,0.0,0.0,0.0,7.211017653,7.193050268,7.185546927,7.180340694,7.175685465,7.171334672,7.167527335,7.163381596,7.159393736,7.155271899,7.151267056,7.147098673,7.142894437,7.138786438,7.134494142,7.130294938,7.125905776,7.121463778,7.1172608,7.112713759,7.108262326,7.103606468,7.099048734,7.094280914,7.089457742,7.08473521,7.079798189,7.074964953,7.069910938,7.06479591,7.060124956,7.054889789,7.049763439,7.044398698,7.039146548,7.033650975,7.028088099,7.022640959,7.016945364,7.011371166,7.005545368,6.999653525,6.994281236,6.988271141,6.982400055,6.976275482,6.970298724,6.964070995,6.957792946,6.951674034,0.0,0.0,0.0,0.0,0.0,0.0,0.0,0.0,0.0,0.0,0.0,0.0,0.0,0.0,0.0,0.0,0.0,0.0,0.0,0.0,0.0,0.0,0.0,0.0,0.0,0.0,0.0,0.0,0.0,0.0,0.0,0.0,0.0,0.0,0.0,0.0,0.0,0.0,0.0,0.0],\"yaxis\":\"y\",\"type\":\"scattergl\"},{\"hovertemplate\":\"variable=WOPR:WP2(bbl/day)<br>Date=%{x}<br>value=%{y}<extra></extra>\",\"legendgroup\":\"WOPR:WP2(bbl/day)\",\"line\":{\"color\":\"#00cc96\",\"dash\":\"solid\"},\"marker\":{\"symbol\":\"circle\"},\"mode\":\"lines\",\"name\":\"WOPR:WP2(bbl/day)\",\"showlegend\":true,\"x\":[\"1-Jan-12\",\"1-Feb-12\",\"1-Mar-12\",\"1-Apr-12\",\"1-May-12\",\"1-Jun-12\",\"1-Jul-12\",\"1-Aug-12\",\"1-Sep-12\",\"1-Oct-12\",\"1-Nov-12\",\"1-Dec-12\",\"1-Jan-13\",\"1-Feb-13\",\"1-Mar-13\",\"1-Apr-13\",\"1-May-13\",\"1-Jun-13\",\"1-Jul-13\",\"1-Aug-13\",\"1-Sep-13\",\"1-Oct-13\",\"1-Nov-13\",\"1-Dec-13\",\"1-Jan-14\",\"1-Feb-14\",\"1-Mar-14\",\"1-Apr-14\",\"1-May-14\",\"1-Jun-14\",\"1-Jul-14\",\"1-Aug-14\",\"1-Sep-14\",\"1-Oct-14\",\"1-Nov-14\",\"1-Dec-14\",\"1-Jan-15\",\"1-Feb-15\",\"1-Mar-15\",\"1-Apr-15\",\"1-May-15\",\"1-Jun-15\",\"1-Jul-15\",\"1-Aug-15\",\"1-Sep-15\",\"1-Oct-15\",\"1-Nov-15\",\"1-Dec-15\",\"1-Jan-16\",\"1-Feb-16\",\"1-Mar-16\",\"1-Apr-16\",\"1-May-16\",\"1-Jun-16\",\"1-Jul-16\",\"1-Aug-16\",\"1-Sep-16\",\"1-Oct-16\",\"1-Nov-16\",\"1-Dec-16\",\"1-Jan-17\",\"1-Feb-17\",\"1-Mar-17\",\"1-Apr-17\",\"1-May-17\",\"1-Jun-17\",\"1-Jul-17\",\"1-Aug-17\",\"1-Sep-17\",\"1-Oct-17\",\"1-Nov-17\",\"1-Dec-17\",\"1-Jan-18\",\"1-Feb-18\",\"1-Mar-18\",\"1-Apr-18\",\"1-May-18\",\"1-Jun-18\",\"1-Jul-18\",\"1-Aug-18\",\"1-Sep-18\",\"1-Oct-18\",\"1-Nov-18\",\"1-Dec-18\",\"1-Jan-19\",\"1-Feb-19\",\"1-Mar-19\",\"1-Apr-19\",\"1-May-19\",\"1-Jun-19\",\"1-Jul-19\",\"1-Aug-19\",\"1-Sep-19\",\"1-Oct-19\",\"1-Nov-19\",\"1-Dec-19\",\"1-Jan-20\",\"1-Feb-20\",\"1-Mar-20\",\"1-Apr-20\",\"1-May-20\",\"1-Jun-20\",\"1-Jul-20\",\"1-Aug-20\",\"1-Sep-20\",\"1-Oct-20\",\"1-Nov-20\",\"1-Dec-20\",\"1-Jan-21\",\"1-Feb-21\",\"1-Mar-21\",\"1-Apr-21\",\"1-May-21\",\"1-Jun-21\",\"1-Jul-21\",\"1-Aug-21\",\"1-Sep-21\",\"1-Oct-21\",\"1-Nov-21\",\"1-Dec-21\",\"1-Jan-22\"],\"xaxis\":\"x\",\"y\":[0.0,0.0,0.0,0.0,0.0,0.0,0.0,0.0,0.0,0.0,0.0,0.0,0.0,0.0,0.0,0.0,0.0,0.0,0.0,0.0,0.0,0.0,0.0,0.0,0.0,0.0,0.0,0.0,0.0,0.0,0.0,0.0,0.0,0.0,0.0,0.0,0.0,5.422370986,5.40645477,5.399018732,5.394060137,5.390474837,5.387529922,5.385085816,5.383056033,5.381225706,5.379648489,5.378181787,5.376846734,5.37569428,5.374552645,5.373520142,5.372518396,5.371602069,5.370704549,5.369851625,5.369065061,5.368292711,5.367582256,5.366885324,5.366223239,5.365651478,5.365045247,5.364479462,5.363911852,5.363373114,5.362822739,5.362274628,5.361742243,5.361187402,5.36064338,5.360071619,5.359488661,5.358951747,5.35834363,5.357742306,5.357105695,5.356475814,5.355810018,5.355129125,5.354456158,5.353746457,5.353046884,5.352310199,5.351560368,5.350873877,5.350103415,5.315659816,5.285306037,5.262849919,5.244635463,5.229716212,5.217446372,5.206470825,5.197078471,5.188408964,5.180575964,5.173858999,5.167262362,5.160897888,5.15407783,5.147278025,5.140165922,5.133090175,5.126355221,5.119571582,5.113197296,5.106826029,5.100674786,5.095294446,5.089545512,5.084167373,5.078800116,5.073772142,5.068743475,5.06387294,5.059298286,5.054709668,5.050391457,5.046052552,5.046052552],\"yaxis\":\"y\",\"type\":\"scattergl\"},{\"hovertemplate\":\"variable=WOPR:WP20(bbl/day)<br>Date=%{x}<br>value=%{y}<extra></extra>\",\"legendgroup\":\"WOPR:WP20(bbl/day)\",\"line\":{\"color\":\"#ab63fa\",\"dash\":\"solid\"},\"marker\":{\"symbol\":\"circle\"},\"mode\":\"lines\",\"name\":\"WOPR:WP20(bbl/day)\",\"showlegend\":true,\"x\":[\"1-Jan-12\",\"1-Feb-12\",\"1-Mar-12\",\"1-Apr-12\",\"1-May-12\",\"1-Jun-12\",\"1-Jul-12\",\"1-Aug-12\",\"1-Sep-12\",\"1-Oct-12\",\"1-Nov-12\",\"1-Dec-12\",\"1-Jan-13\",\"1-Feb-13\",\"1-Mar-13\",\"1-Apr-13\",\"1-May-13\",\"1-Jun-13\",\"1-Jul-13\",\"1-Aug-13\",\"1-Sep-13\",\"1-Oct-13\",\"1-Nov-13\",\"1-Dec-13\",\"1-Jan-14\",\"1-Feb-14\",\"1-Mar-14\",\"1-Apr-14\",\"1-May-14\",\"1-Jun-14\",\"1-Jul-14\",\"1-Aug-14\",\"1-Sep-14\",\"1-Oct-14\",\"1-Nov-14\",\"1-Dec-14\",\"1-Jan-15\",\"1-Feb-15\",\"1-Mar-15\",\"1-Apr-15\",\"1-May-15\",\"1-Jun-15\",\"1-Jul-15\",\"1-Aug-15\",\"1-Sep-15\",\"1-Oct-15\",\"1-Nov-15\",\"1-Dec-15\",\"1-Jan-16\",\"1-Feb-16\",\"1-Mar-16\",\"1-Apr-16\",\"1-May-16\",\"1-Jun-16\",\"1-Jul-16\",\"1-Aug-16\",\"1-Sep-16\",\"1-Oct-16\",\"1-Nov-16\",\"1-Dec-16\",\"1-Jan-17\",\"1-Feb-17\",\"1-Mar-17\",\"1-Apr-17\",\"1-May-17\",\"1-Jun-17\",\"1-Jul-17\",\"1-Aug-17\",\"1-Sep-17\",\"1-Oct-17\",\"1-Nov-17\",\"1-Dec-17\",\"1-Jan-18\",\"1-Feb-18\",\"1-Mar-18\",\"1-Apr-18\",\"1-May-18\",\"1-Jun-18\",\"1-Jul-18\",\"1-Aug-18\",\"1-Sep-18\",\"1-Oct-18\",\"1-Nov-18\",\"1-Dec-18\",\"1-Jan-19\",\"1-Feb-19\",\"1-Mar-19\",\"1-Apr-19\",\"1-May-19\",\"1-Jun-19\",\"1-Jul-19\",\"1-Aug-19\",\"1-Sep-19\",\"1-Oct-19\",\"1-Nov-19\",\"1-Dec-19\",\"1-Jan-20\",\"1-Feb-20\",\"1-Mar-20\",\"1-Apr-20\",\"1-May-20\",\"1-Jun-20\",\"1-Jul-20\",\"1-Aug-20\",\"1-Sep-20\",\"1-Oct-20\",\"1-Nov-20\",\"1-Dec-20\",\"1-Jan-21\",\"1-Feb-21\",\"1-Mar-21\",\"1-Apr-21\",\"1-May-21\",\"1-Jun-21\",\"1-Jul-21\",\"1-Aug-21\",\"1-Sep-21\",\"1-Oct-21\",\"1-Nov-21\",\"1-Dec-21\",\"1-Jan-22\"],\"xaxis\":\"x\",\"y\":[0.0,0.0,0.0,0.0,0.0,0.0,0.0,0.0,0.0,0.0,0.0,0.0,0.0,0.0,0.0,0.0,0.0,0.0,0.0,0.0,0.0,0.0,0.0,0.0,0.0,0.0,0.0,0.0,0.0,0.0,0.0,0.0,0.0,0.0,0.0,0.0,0.0,0.0,0.0,0.0,0.0,0.0,0.0,0.0,0.0,0.0,0.0,0.0,0.0,0.0,0.0,0.0,0.0,0.0,0.0,0.0,0.0,0.0,0.0,0.0,0.0,0.0,0.0,0.0,0.0,0.0,0.0,0.0,0.0,0.0,0.0,0.0,0.0,0.0,0.0,0.0,0.0,0.0,0.0,0.0,0.0,0.0,0.0,0.0,0.0,0.0,0.0,0.0,0.0,0.0,0.0,0.0,0.0,0.0,0.0,0.0,0.0,0.0,0.0,40.38234912,40.158583,40.02665842,39.92356973,39.83849119,39.76708648,39.70154908,39.64394715,39.58928768,39.53856952,39.49544842,39.45049505,39.40923077,39.36866781,39.3311228,39.29393758,39.25819151,39.22481803,39.19150179,39.16026124,39.1289578,39.1289578],\"yaxis\":\"y\",\"type\":\"scattergl\"},{\"hovertemplate\":\"variable=WOPR:WP21(bbl/day)<br>Date=%{x}<br>value=%{y}<extra></extra>\",\"legendgroup\":\"WOPR:WP21(bbl/day)\",\"line\":{\"color\":\"#FFA15A\",\"dash\":\"solid\"},\"marker\":{\"symbol\":\"circle\"},\"mode\":\"lines\",\"name\":\"WOPR:WP21(bbl/day)\",\"showlegend\":true,\"x\":[\"1-Jan-12\",\"1-Feb-12\",\"1-Mar-12\",\"1-Apr-12\",\"1-May-12\",\"1-Jun-12\",\"1-Jul-12\",\"1-Aug-12\",\"1-Sep-12\",\"1-Oct-12\",\"1-Nov-12\",\"1-Dec-12\",\"1-Jan-13\",\"1-Feb-13\",\"1-Mar-13\",\"1-Apr-13\",\"1-May-13\",\"1-Jun-13\",\"1-Jul-13\",\"1-Aug-13\",\"1-Sep-13\",\"1-Oct-13\",\"1-Nov-13\",\"1-Dec-13\",\"1-Jan-14\",\"1-Feb-14\",\"1-Mar-14\",\"1-Apr-14\",\"1-May-14\",\"1-Jun-14\",\"1-Jul-14\",\"1-Aug-14\",\"1-Sep-14\",\"1-Oct-14\",\"1-Nov-14\",\"1-Dec-14\",\"1-Jan-15\",\"1-Feb-15\",\"1-Mar-15\",\"1-Apr-15\",\"1-May-15\",\"1-Jun-15\",\"1-Jul-15\",\"1-Aug-15\",\"1-Sep-15\",\"1-Oct-15\",\"1-Nov-15\",\"1-Dec-15\",\"1-Jan-16\",\"1-Feb-16\",\"1-Mar-16\",\"1-Apr-16\",\"1-May-16\",\"1-Jun-16\",\"1-Jul-16\",\"1-Aug-16\",\"1-Sep-16\",\"1-Oct-16\",\"1-Nov-16\",\"1-Dec-16\",\"1-Jan-17\",\"1-Feb-17\",\"1-Mar-17\",\"1-Apr-17\",\"1-May-17\",\"1-Jun-17\",\"1-Jul-17\",\"1-Aug-17\",\"1-Sep-17\",\"1-Oct-17\",\"1-Nov-17\",\"1-Dec-17\",\"1-Jan-18\",\"1-Feb-18\",\"1-Mar-18\",\"1-Apr-18\",\"1-May-18\",\"1-Jun-18\",\"1-Jul-18\",\"1-Aug-18\",\"1-Sep-18\",\"1-Oct-18\",\"1-Nov-18\",\"1-Dec-18\",\"1-Jan-19\",\"1-Feb-19\",\"1-Mar-19\",\"1-Apr-19\",\"1-May-19\",\"1-Jun-19\",\"1-Jul-19\",\"1-Aug-19\",\"1-Sep-19\",\"1-Oct-19\",\"1-Nov-19\",\"1-Dec-19\",\"1-Jan-20\",\"1-Feb-20\",\"1-Mar-20\",\"1-Apr-20\",\"1-May-20\",\"1-Jun-20\",\"1-Jul-20\",\"1-Aug-20\",\"1-Sep-20\",\"1-Oct-20\",\"1-Nov-20\",\"1-Dec-20\",\"1-Jan-21\",\"1-Feb-21\",\"1-Mar-21\",\"1-Apr-21\",\"1-May-21\",\"1-Jun-21\",\"1-Jul-21\",\"1-Aug-21\",\"1-Sep-21\",\"1-Oct-21\",\"1-Nov-21\",\"1-Dec-21\",\"1-Jan-22\"],\"xaxis\":\"x\",\"y\":[0.0,0.0,0.0,0.0,0.0,0.0,0.0,0.0,0.0,0.0,0.0,0.0,0.0,0.0,0.0,0.0,0.0,0.0,0.0,0.0,0.0,0.0,0.0,0.0,0.0,0.0,0.0,0.0,0.0,0.0,0.0,0.0,0.0,0.0,0.0,0.0,0.0,0.0,0.0,0.0,0.0,0.0,0.0,0.0,0.0,0.0,0.0,0.0,0.0,0.0,0.0,0.0,0.0,0.0,0.0,0.0,0.0,0.0,0.0,0.0,0.0,0.0,0.0,0.0,0.0,0.0,0.0,0.0,0.0,0.0,0.0,0.0,0.0,0.0,0.0,0.0,0.0,0.0,0.0,0.0,0.0,0.0,0.0,1.63135987,1.624368472,1.620203234,1.616505783,1.613326566,1.610275664,1.607462902,1.604658757,1.601929967,1.599343959,1.596719016,1.594215533,1.591662359,1.58914051,1.586808366,1.584348788,1.582002555,1.579619777,1.577357012,1.575069465,1.57283683,1.570730623,1.568614478,1.566624385,1.564630267,1.562698859,1.561004522,1.559189291,1.557481996,1.555765392,1.554147919,1.552527552,1.550965808,1.549516026,1.548091152,1.546786417,1.545521813,1.545521813],\"yaxis\":\"y\",\"type\":\"scattergl\"},{\"hovertemplate\":\"variable=WOPR:WP22(bbl/day)<br>Date=%{x}<br>value=%{y}<extra></extra>\",\"legendgroup\":\"WOPR:WP22(bbl/day)\",\"line\":{\"color\":\"#19d3f3\",\"dash\":\"solid\"},\"marker\":{\"symbol\":\"circle\"},\"mode\":\"lines\",\"name\":\"WOPR:WP22(bbl/day)\",\"showlegend\":true,\"x\":[\"1-Jan-12\",\"1-Feb-12\",\"1-Mar-12\",\"1-Apr-12\",\"1-May-12\",\"1-Jun-12\",\"1-Jul-12\",\"1-Aug-12\",\"1-Sep-12\",\"1-Oct-12\",\"1-Nov-12\",\"1-Dec-12\",\"1-Jan-13\",\"1-Feb-13\",\"1-Mar-13\",\"1-Apr-13\",\"1-May-13\",\"1-Jun-13\",\"1-Jul-13\",\"1-Aug-13\",\"1-Sep-13\",\"1-Oct-13\",\"1-Nov-13\",\"1-Dec-13\",\"1-Jan-14\",\"1-Feb-14\",\"1-Mar-14\",\"1-Apr-14\",\"1-May-14\",\"1-Jun-14\",\"1-Jul-14\",\"1-Aug-14\",\"1-Sep-14\",\"1-Oct-14\",\"1-Nov-14\",\"1-Dec-14\",\"1-Jan-15\",\"1-Feb-15\",\"1-Mar-15\",\"1-Apr-15\",\"1-May-15\",\"1-Jun-15\",\"1-Jul-15\",\"1-Aug-15\",\"1-Sep-15\",\"1-Oct-15\",\"1-Nov-15\",\"1-Dec-15\",\"1-Jan-16\",\"1-Feb-16\",\"1-Mar-16\",\"1-Apr-16\",\"1-May-16\",\"1-Jun-16\",\"1-Jul-16\",\"1-Aug-16\",\"1-Sep-16\",\"1-Oct-16\",\"1-Nov-16\",\"1-Dec-16\",\"1-Jan-17\",\"1-Feb-17\",\"1-Mar-17\",\"1-Apr-17\",\"1-May-17\",\"1-Jun-17\",\"1-Jul-17\",\"1-Aug-17\",\"1-Sep-17\",\"1-Oct-17\",\"1-Nov-17\",\"1-Dec-17\",\"1-Jan-18\",\"1-Feb-18\",\"1-Mar-18\",\"1-Apr-18\",\"1-May-18\",\"1-Jun-18\",\"1-Jul-18\",\"1-Aug-18\",\"1-Sep-18\",\"1-Oct-18\",\"1-Nov-18\",\"1-Dec-18\",\"1-Jan-19\",\"1-Feb-19\",\"1-Mar-19\",\"1-Apr-19\",\"1-May-19\",\"1-Jun-19\",\"1-Jul-19\",\"1-Aug-19\",\"1-Sep-19\",\"1-Oct-19\",\"1-Nov-19\",\"1-Dec-19\",\"1-Jan-20\",\"1-Feb-20\",\"1-Mar-20\",\"1-Apr-20\",\"1-May-20\",\"1-Jun-20\",\"1-Jul-20\",\"1-Aug-20\",\"1-Sep-20\",\"1-Oct-20\",\"1-Nov-20\",\"1-Dec-20\",\"1-Jan-21\",\"1-Feb-21\",\"1-Mar-21\",\"1-Apr-21\",\"1-May-21\",\"1-Jun-21\",\"1-Jul-21\",\"1-Aug-21\",\"1-Sep-21\",\"1-Oct-21\",\"1-Nov-21\",\"1-Dec-21\",\"1-Jan-22\"],\"xaxis\":\"x\",\"y\":[0.0,0.0,0.0,0.0,0.0,0.0,0.0,0.0,0.0,0.0,0.0,0.0,0.0,0.0,0.0,0.0,0.0,0.0,0.0,0.0,0.0,0.0,0.0,0.0,0.0,0.0,0.0,0.0,0.0,0.0,0.0,0.0,0.0,0.0,0.0,0.0,0.0,0.0,0.0,0.0,0.0,0.0,0.0,0.0,0.0,0.0,0.0,0.0,0.0,0.0,0.0,0.0,0.0,0.0,0.0,0.0,0.0,0.0,0.0,0.0,0.0,0.0,0.0,0.0,0.0,0.0,0.0,0.0,0.0,0.0,0.0,0.0,0.0,0.0,0.0,0.0,0.0,0.0,0.0,0.0,0.0,0.0,0.0,0.0,0.0,0.0,13.39152196,13.33938227,13.30042578,13.26792346,13.23747923,13.20909812,13.18302104,13.15718927,13.13301491,13.11250448,13.09822618,13.09010265,13.08626638,13.08598584,13.08832509,13.0923205,13.09769971,13.10389158,13.11035393,13.11730438,13.12412777,13.1311644,13.13809912,13.14422935,13.15080995,13.15695528,0.0,0.0,0.0,0.0,0.0,0.0,0.0,0.0,0.0],\"yaxis\":\"y\",\"type\":\"scattergl\"},{\"hovertemplate\":\"variable=WOPR:WP23(bbl/day)<br>Date=%{x}<br>value=%{y}<extra></extra>\",\"legendgroup\":\"WOPR:WP23(bbl/day)\",\"line\":{\"color\":\"#FF6692\",\"dash\":\"solid\"},\"marker\":{\"symbol\":\"circle\"},\"mode\":\"lines\",\"name\":\"WOPR:WP23(bbl/day)\",\"showlegend\":true,\"x\":[\"1-Jan-12\",\"1-Feb-12\",\"1-Mar-12\",\"1-Apr-12\",\"1-May-12\",\"1-Jun-12\",\"1-Jul-12\",\"1-Aug-12\",\"1-Sep-12\",\"1-Oct-12\",\"1-Nov-12\",\"1-Dec-12\",\"1-Jan-13\",\"1-Feb-13\",\"1-Mar-13\",\"1-Apr-13\",\"1-May-13\",\"1-Jun-13\",\"1-Jul-13\",\"1-Aug-13\",\"1-Sep-13\",\"1-Oct-13\",\"1-Nov-13\",\"1-Dec-13\",\"1-Jan-14\",\"1-Feb-14\",\"1-Mar-14\",\"1-Apr-14\",\"1-May-14\",\"1-Jun-14\",\"1-Jul-14\",\"1-Aug-14\",\"1-Sep-14\",\"1-Oct-14\",\"1-Nov-14\",\"1-Dec-14\",\"1-Jan-15\",\"1-Feb-15\",\"1-Mar-15\",\"1-Apr-15\",\"1-May-15\",\"1-Jun-15\",\"1-Jul-15\",\"1-Aug-15\",\"1-Sep-15\",\"1-Oct-15\",\"1-Nov-15\",\"1-Dec-15\",\"1-Jan-16\",\"1-Feb-16\",\"1-Mar-16\",\"1-Apr-16\",\"1-May-16\",\"1-Jun-16\",\"1-Jul-16\",\"1-Aug-16\",\"1-Sep-16\",\"1-Oct-16\",\"1-Nov-16\",\"1-Dec-16\",\"1-Jan-17\",\"1-Feb-17\",\"1-Mar-17\",\"1-Apr-17\",\"1-May-17\",\"1-Jun-17\",\"1-Jul-17\",\"1-Aug-17\",\"1-Sep-17\",\"1-Oct-17\",\"1-Nov-17\",\"1-Dec-17\",\"1-Jan-18\",\"1-Feb-18\",\"1-Mar-18\",\"1-Apr-18\",\"1-May-18\",\"1-Jun-18\",\"1-Jul-18\",\"1-Aug-18\",\"1-Sep-18\",\"1-Oct-18\",\"1-Nov-18\",\"1-Dec-18\",\"1-Jan-19\",\"1-Feb-19\",\"1-Mar-19\",\"1-Apr-19\",\"1-May-19\",\"1-Jun-19\",\"1-Jul-19\",\"1-Aug-19\",\"1-Sep-19\",\"1-Oct-19\",\"1-Nov-19\",\"1-Dec-19\",\"1-Jan-20\",\"1-Feb-20\",\"1-Mar-20\",\"1-Apr-20\",\"1-May-20\",\"1-Jun-20\",\"1-Jul-20\",\"1-Aug-20\",\"1-Sep-20\",\"1-Oct-20\",\"1-Nov-20\",\"1-Dec-20\",\"1-Jan-21\",\"1-Feb-21\",\"1-Mar-21\",\"1-Apr-21\",\"1-May-21\",\"1-Jun-21\",\"1-Jul-21\",\"1-Aug-21\",\"1-Sep-21\",\"1-Oct-21\",\"1-Nov-21\",\"1-Dec-21\",\"1-Jan-22\"],\"xaxis\":\"x\",\"y\":[0.0,0.0,0.0,0.0,0.0,0.0,0.0,0.0,0.0,0.0,0.0,0.0,0.0,0.0,0.0,0.0,0.0,0.0,0.0,0.0,6.592738958,6.531229677,6.497356769,6.472105564,6.451781945,6.43603493,6.420906222,6.407956999,6.396044997,6.385674674,6.376012605,6.367257554,6.359527773,6.352233889,6.345749528,6.339592876,6.333918038,6.329147073,6.324254082,6.319848566,6.315610993,6.311778496,6.308078089,6.304612928,6.30146038,6.298399037,6.29561697,6.292917302,6.290360417,6.288087966,6.285784128,6.283664335,6.281581338,6.279659114,6.277781549,6.276020223,6.274424576,6.272884847,6.271489033,6.270136746,6.268865034,6.267775543,6.266634285,6.265583793,6.264550912,6.263595586,6.262651206,6.26174576,6.260902963,6.260064695,6.259281464,6.258499806,6.257743245,6.257078895,6.256365043,6.255692453,6.255016089,6.254377277,6.253732741,6.253102546,6.252504555,6.251898702,6.251322476,6.250737191,6.250160964,6.2496477,6.249086443,6.248549969,6.248001481,6.247475449,6.246935578,6.246398349,6.24587911,6.245341818,6.244819559,6.244274845,6.243724093,6.243201079,6.242632715,0.0,0.0,0.0,0.0,0.0,0.0,0.0,0.0,0.0,0.0,0.0,0.0,0.0,0.0,0.0,0.0,0.0,0.0,0.0,0.0,0.0,0.0],\"yaxis\":\"y\",\"type\":\"scattergl\"},{\"hovertemplate\":\"variable=WOPR:WP24(bbl/day)<br>Date=%{x}<br>value=%{y}<extra></extra>\",\"legendgroup\":\"WOPR:WP24(bbl/day)\",\"line\":{\"color\":\"#B6E880\",\"dash\":\"solid\"},\"marker\":{\"symbol\":\"circle\"},\"mode\":\"lines\",\"name\":\"WOPR:WP24(bbl/day)\",\"showlegend\":true,\"x\":[\"1-Jan-12\",\"1-Feb-12\",\"1-Mar-12\",\"1-Apr-12\",\"1-May-12\",\"1-Jun-12\",\"1-Jul-12\",\"1-Aug-12\",\"1-Sep-12\",\"1-Oct-12\",\"1-Nov-12\",\"1-Dec-12\",\"1-Jan-13\",\"1-Feb-13\",\"1-Mar-13\",\"1-Apr-13\",\"1-May-13\",\"1-Jun-13\",\"1-Jul-13\",\"1-Aug-13\",\"1-Sep-13\",\"1-Oct-13\",\"1-Nov-13\",\"1-Dec-13\",\"1-Jan-14\",\"1-Feb-14\",\"1-Mar-14\",\"1-Apr-14\",\"1-May-14\",\"1-Jun-14\",\"1-Jul-14\",\"1-Aug-14\",\"1-Sep-14\",\"1-Oct-14\",\"1-Nov-14\",\"1-Dec-14\",\"1-Jan-15\",\"1-Feb-15\",\"1-Mar-15\",\"1-Apr-15\",\"1-May-15\",\"1-Jun-15\",\"1-Jul-15\",\"1-Aug-15\",\"1-Sep-15\",\"1-Oct-15\",\"1-Nov-15\",\"1-Dec-15\",\"1-Jan-16\",\"1-Feb-16\",\"1-Mar-16\",\"1-Apr-16\",\"1-May-16\",\"1-Jun-16\",\"1-Jul-16\",\"1-Aug-16\",\"1-Sep-16\",\"1-Oct-16\",\"1-Nov-16\",\"1-Dec-16\",\"1-Jan-17\",\"1-Feb-17\",\"1-Mar-17\",\"1-Apr-17\",\"1-May-17\",\"1-Jun-17\",\"1-Jul-17\",\"1-Aug-17\",\"1-Sep-17\",\"1-Oct-17\",\"1-Nov-17\",\"1-Dec-17\",\"1-Jan-18\",\"1-Feb-18\",\"1-Mar-18\",\"1-Apr-18\",\"1-May-18\",\"1-Jun-18\",\"1-Jul-18\",\"1-Aug-18\",\"1-Sep-18\",\"1-Oct-18\",\"1-Nov-18\",\"1-Dec-18\",\"1-Jan-19\",\"1-Feb-19\",\"1-Mar-19\",\"1-Apr-19\",\"1-May-19\",\"1-Jun-19\",\"1-Jul-19\",\"1-Aug-19\",\"1-Sep-19\",\"1-Oct-19\",\"1-Nov-19\",\"1-Dec-19\",\"1-Jan-20\",\"1-Feb-20\",\"1-Mar-20\",\"1-Apr-20\",\"1-May-20\",\"1-Jun-20\",\"1-Jul-20\",\"1-Aug-20\",\"1-Sep-20\",\"1-Oct-20\",\"1-Nov-20\",\"1-Dec-20\",\"1-Jan-21\",\"1-Feb-21\",\"1-Mar-21\",\"1-Apr-21\",\"1-May-21\",\"1-Jun-21\",\"1-Jul-21\",\"1-Aug-21\",\"1-Sep-21\",\"1-Oct-21\",\"1-Nov-21\",\"1-Dec-21\",\"1-Jan-22\"],\"xaxis\":\"x\",\"y\":[0.0,0.0,0.0,0.0,0.0,0.0,0.0,0.0,0.0,0.0,0.0,0.0,0.0,0.0,0.0,0.0,0.0,0.0,0.0,0.0,0.0,0.0,0.0,0.0,0.0,0.0,0.0,0.0,0.0,0.0,0.0,0.0,0.0,0.0,0.0,0.0,0.0,0.0,0.0,0.0,0.0,0.0,0.0,0.0,0.0,0.0,0.0,0.0,0.0,0.0,0.0,0.0,0.0,0.0,0.0,0.0,0.0,0.0,0.0,0.0,0.0,0.0,0.0,0.0,0.0,0.0,0.0,120.6842612,118.5366414,116.7655661,115.1576597,113.578681,111.9489042,110.4185787,108.6900049,107.0197017,105.333013,103.7537324,102.3652967,101.2692453,100.4301593,99.72166629,99.12856961,98.57420046,98.05412439,97.60139535,97.11268751,96.6469193,96.17069082,95.71318138,95.24298501,94.53220872,93.67754868,92.715858,91.76531949,90.78894795,89.82974811,88.95036837,88.03163839,86.54603474,84.86533416,83.28790909,81.75126209,80.30370665,78.97503221,77.7568542,76.7164253,75.7459412,74.84289219,74.06411471,73.23293524,72.45039634,71.66039121,70.91130253,70.15896821,69.42031464,68.71779712,68.00399534,67.32429165,66.6329263,66.6329263],\"yaxis\":\"y\",\"type\":\"scattergl\"},{\"hovertemplate\":\"variable=WOPR:WP25(bbl/day)<br>Date=%{x}<br>value=%{y}<extra></extra>\",\"legendgroup\":\"WOPR:WP25(bbl/day)\",\"line\":{\"color\":\"#FF97FF\",\"dash\":\"solid\"},\"marker\":{\"symbol\":\"circle\"},\"mode\":\"lines\",\"name\":\"WOPR:WP25(bbl/day)\",\"showlegend\":true,\"x\":[\"1-Jan-12\",\"1-Feb-12\",\"1-Mar-12\",\"1-Apr-12\",\"1-May-12\",\"1-Jun-12\",\"1-Jul-12\",\"1-Aug-12\",\"1-Sep-12\",\"1-Oct-12\",\"1-Nov-12\",\"1-Dec-12\",\"1-Jan-13\",\"1-Feb-13\",\"1-Mar-13\",\"1-Apr-13\",\"1-May-13\",\"1-Jun-13\",\"1-Jul-13\",\"1-Aug-13\",\"1-Sep-13\",\"1-Oct-13\",\"1-Nov-13\",\"1-Dec-13\",\"1-Jan-14\",\"1-Feb-14\",\"1-Mar-14\",\"1-Apr-14\",\"1-May-14\",\"1-Jun-14\",\"1-Jul-14\",\"1-Aug-14\",\"1-Sep-14\",\"1-Oct-14\",\"1-Nov-14\",\"1-Dec-14\",\"1-Jan-15\",\"1-Feb-15\",\"1-Mar-15\",\"1-Apr-15\",\"1-May-15\",\"1-Jun-15\",\"1-Jul-15\",\"1-Aug-15\",\"1-Sep-15\",\"1-Oct-15\",\"1-Nov-15\",\"1-Dec-15\",\"1-Jan-16\",\"1-Feb-16\",\"1-Mar-16\",\"1-Apr-16\",\"1-May-16\",\"1-Jun-16\",\"1-Jul-16\",\"1-Aug-16\",\"1-Sep-16\",\"1-Oct-16\",\"1-Nov-16\",\"1-Dec-16\",\"1-Jan-17\",\"1-Feb-17\",\"1-Mar-17\",\"1-Apr-17\",\"1-May-17\",\"1-Jun-17\",\"1-Jul-17\",\"1-Aug-17\",\"1-Sep-17\",\"1-Oct-17\",\"1-Nov-17\",\"1-Dec-17\",\"1-Jan-18\",\"1-Feb-18\",\"1-Mar-18\",\"1-Apr-18\",\"1-May-18\",\"1-Jun-18\",\"1-Jul-18\",\"1-Aug-18\",\"1-Sep-18\",\"1-Oct-18\",\"1-Nov-18\",\"1-Dec-18\",\"1-Jan-19\",\"1-Feb-19\",\"1-Mar-19\",\"1-Apr-19\",\"1-May-19\",\"1-Jun-19\",\"1-Jul-19\",\"1-Aug-19\",\"1-Sep-19\",\"1-Oct-19\",\"1-Nov-19\",\"1-Dec-19\",\"1-Jan-20\",\"1-Feb-20\",\"1-Mar-20\",\"1-Apr-20\",\"1-May-20\",\"1-Jun-20\",\"1-Jul-20\",\"1-Aug-20\",\"1-Sep-20\",\"1-Oct-20\",\"1-Nov-20\",\"1-Dec-20\",\"1-Jan-21\",\"1-Feb-21\",\"1-Mar-21\",\"1-Apr-21\",\"1-May-21\",\"1-Jun-21\",\"1-Jul-21\",\"1-Aug-21\",\"1-Sep-21\",\"1-Oct-21\",\"1-Nov-21\",\"1-Dec-21\",\"1-Jan-22\"],\"xaxis\":\"x\",\"y\":[0.0,0.0,0.0,0.0,0.0,0.0,0.0,0.0,0.0,0.0,0.0,0.0,0.0,0.0,0.0,0.0,0.0,0.0,0.0,0.0,0.0,0.0,0.0,0.0,0.0,0.0,0.0,0.0,0.0,0.0,0.0,0.0,0.0,0.0,0.0,0.0,0.0,0.0,0.0,1405.446092,1384.253383,1370.772089,1358.965948,1348.232943,1338.514013,1328.952458,1320.055693,1311.161822,1302.513261,1294.594968,1286.283488,1278.350666,1270.243674,0.0,0.0,0.0,0.0,0.0,0.0,0.0,0.0,0.0,0.0,0.0,0.0,0.0,0.0,0.0,0.0,0.0,0.0,0.0,0.0,0.0,0.0,0.0,0.0,0.0,0.0,0.0,0.0,0.0,0.0,0.0,0.0,0.0,0.0,0.0,0.0,0.0,0.0,0.0,0.0,0.0,0.0,0.0,0.0,0.0,0.0,0.0,0.0,0.0,0.0,0.0,0.0,0.0,0.0,0.0,0.0,0.0,0.0,0.0,0.0,0.0,0.0,0.0,0.0,0.0,0.0,0.0,0.0],\"yaxis\":\"y\",\"type\":\"scattergl\"},{\"hovertemplate\":\"variable=WOPR:WP26(bbl/day)<br>Date=%{x}<br>value=%{y}<extra></extra>\",\"legendgroup\":\"WOPR:WP26(bbl/day)\",\"line\":{\"color\":\"#FECB52\",\"dash\":\"solid\"},\"marker\":{\"symbol\":\"circle\"},\"mode\":\"lines\",\"name\":\"WOPR:WP26(bbl/day)\",\"showlegend\":true,\"x\":[\"1-Jan-12\",\"1-Feb-12\",\"1-Mar-12\",\"1-Apr-12\",\"1-May-12\",\"1-Jun-12\",\"1-Jul-12\",\"1-Aug-12\",\"1-Sep-12\",\"1-Oct-12\",\"1-Nov-12\",\"1-Dec-12\",\"1-Jan-13\",\"1-Feb-13\",\"1-Mar-13\",\"1-Apr-13\",\"1-May-13\",\"1-Jun-13\",\"1-Jul-13\",\"1-Aug-13\",\"1-Sep-13\",\"1-Oct-13\",\"1-Nov-13\",\"1-Dec-13\",\"1-Jan-14\",\"1-Feb-14\",\"1-Mar-14\",\"1-Apr-14\",\"1-May-14\",\"1-Jun-14\",\"1-Jul-14\",\"1-Aug-14\",\"1-Sep-14\",\"1-Oct-14\",\"1-Nov-14\",\"1-Dec-14\",\"1-Jan-15\",\"1-Feb-15\",\"1-Mar-15\",\"1-Apr-15\",\"1-May-15\",\"1-Jun-15\",\"1-Jul-15\",\"1-Aug-15\",\"1-Sep-15\",\"1-Oct-15\",\"1-Nov-15\",\"1-Dec-15\",\"1-Jan-16\",\"1-Feb-16\",\"1-Mar-16\",\"1-Apr-16\",\"1-May-16\",\"1-Jun-16\",\"1-Jul-16\",\"1-Aug-16\",\"1-Sep-16\",\"1-Oct-16\",\"1-Nov-16\",\"1-Dec-16\",\"1-Jan-17\",\"1-Feb-17\",\"1-Mar-17\",\"1-Apr-17\",\"1-May-17\",\"1-Jun-17\",\"1-Jul-17\",\"1-Aug-17\",\"1-Sep-17\",\"1-Oct-17\",\"1-Nov-17\",\"1-Dec-17\",\"1-Jan-18\",\"1-Feb-18\",\"1-Mar-18\",\"1-Apr-18\",\"1-May-18\",\"1-Jun-18\",\"1-Jul-18\",\"1-Aug-18\",\"1-Sep-18\",\"1-Oct-18\",\"1-Nov-18\",\"1-Dec-18\",\"1-Jan-19\",\"1-Feb-19\",\"1-Mar-19\",\"1-Apr-19\",\"1-May-19\",\"1-Jun-19\",\"1-Jul-19\",\"1-Aug-19\",\"1-Sep-19\",\"1-Oct-19\",\"1-Nov-19\",\"1-Dec-19\",\"1-Jan-20\",\"1-Feb-20\",\"1-Mar-20\",\"1-Apr-20\",\"1-May-20\",\"1-Jun-20\",\"1-Jul-20\",\"1-Aug-20\",\"1-Sep-20\",\"1-Oct-20\",\"1-Nov-20\",\"1-Dec-20\",\"1-Jan-21\",\"1-Feb-21\",\"1-Mar-21\",\"1-Apr-21\",\"1-May-21\",\"1-Jun-21\",\"1-Jul-21\",\"1-Aug-21\",\"1-Sep-21\",\"1-Oct-21\",\"1-Nov-21\",\"1-Dec-21\",\"1-Jan-22\"],\"xaxis\":\"x\",\"y\":[0.0,0.0,0.0,0.0,0.0,0.0,0.0,0.0,0.0,0.0,0.0,0.0,0.0,0.0,0.0,0.0,0.0,0.0,0.0,0.0,0.0,0.0,0.0,0.0,0.0,0.0,0.0,0.0,0.0,0.0,0.0,0.0,0.0,0.0,0.0,0.0,0.0,0.0,0.0,0.0,0.0,0.0,0.0,0.0,0.0,0.0,0.0,0.0,0.0,0.0,0.0,0.0,0.0,0.0,0.0,0.0,0.0,0.0,0.0,0.0,0.0,0.0,0.0,0.0,0.0,0.0,0.0,0.0,0.0,0.0,0.0,0.0,0.0,0.0,0.0,0.0,0.0,0.0,0.0,0.0,650.1969226,635.2113121,622.862891,610.9762377,599.6249452,589.7025205,579.05033,568.8139652,558.1918598,547.8828894,537.3110789,526.5779801,515.925884,504.6978314,493.7263228,482.3762254,471.0986453,460.6560251,449.658652,439.1925574,428.5928193,418.5441857,408.3925723,398.4765068,389.1018531,379.64809,370.7204037,361.7256785,352.9565945,345.2162967,336.8631578,328.9766426,321.0298503,313.528346,305.9719677,298.9880926,292.7118677,286.5714942,280.8456569,275.0964397,275.0964397],\"yaxis\":\"y\",\"type\":\"scattergl\"},{\"hovertemplate\":\"variable=WOPR:WP27(bbl/day)<br>Date=%{x}<br>value=%{y}<extra></extra>\",\"legendgroup\":\"WOPR:WP27(bbl/day)\",\"line\":{\"color\":\"#636efa\",\"dash\":\"solid\"},\"marker\":{\"symbol\":\"circle\"},\"mode\":\"lines\",\"name\":\"WOPR:WP27(bbl/day)\",\"showlegend\":true,\"x\":[\"1-Jan-12\",\"1-Feb-12\",\"1-Mar-12\",\"1-Apr-12\",\"1-May-12\",\"1-Jun-12\",\"1-Jul-12\",\"1-Aug-12\",\"1-Sep-12\",\"1-Oct-12\",\"1-Nov-12\",\"1-Dec-12\",\"1-Jan-13\",\"1-Feb-13\",\"1-Mar-13\",\"1-Apr-13\",\"1-May-13\",\"1-Jun-13\",\"1-Jul-13\",\"1-Aug-13\",\"1-Sep-13\",\"1-Oct-13\",\"1-Nov-13\",\"1-Dec-13\",\"1-Jan-14\",\"1-Feb-14\",\"1-Mar-14\",\"1-Apr-14\",\"1-May-14\",\"1-Jun-14\",\"1-Jul-14\",\"1-Aug-14\",\"1-Sep-14\",\"1-Oct-14\",\"1-Nov-14\",\"1-Dec-14\",\"1-Jan-15\",\"1-Feb-15\",\"1-Mar-15\",\"1-Apr-15\",\"1-May-15\",\"1-Jun-15\",\"1-Jul-15\",\"1-Aug-15\",\"1-Sep-15\",\"1-Oct-15\",\"1-Nov-15\",\"1-Dec-15\",\"1-Jan-16\",\"1-Feb-16\",\"1-Mar-16\",\"1-Apr-16\",\"1-May-16\",\"1-Jun-16\",\"1-Jul-16\",\"1-Aug-16\",\"1-Sep-16\",\"1-Oct-16\",\"1-Nov-16\",\"1-Dec-16\",\"1-Jan-17\",\"1-Feb-17\",\"1-Mar-17\",\"1-Apr-17\",\"1-May-17\",\"1-Jun-17\",\"1-Jul-17\",\"1-Aug-17\",\"1-Sep-17\",\"1-Oct-17\",\"1-Nov-17\",\"1-Dec-17\",\"1-Jan-18\",\"1-Feb-18\",\"1-Mar-18\",\"1-Apr-18\",\"1-May-18\",\"1-Jun-18\",\"1-Jul-18\",\"1-Aug-18\",\"1-Sep-18\",\"1-Oct-18\",\"1-Nov-18\",\"1-Dec-18\",\"1-Jan-19\",\"1-Feb-19\",\"1-Mar-19\",\"1-Apr-19\",\"1-May-19\",\"1-Jun-19\",\"1-Jul-19\",\"1-Aug-19\",\"1-Sep-19\",\"1-Oct-19\",\"1-Nov-19\",\"1-Dec-19\",\"1-Jan-20\",\"1-Feb-20\",\"1-Mar-20\",\"1-Apr-20\",\"1-May-20\",\"1-Jun-20\",\"1-Jul-20\",\"1-Aug-20\",\"1-Sep-20\",\"1-Oct-20\",\"1-Nov-20\",\"1-Dec-20\",\"1-Jan-21\",\"1-Feb-21\",\"1-Mar-21\",\"1-Apr-21\",\"1-May-21\",\"1-Jun-21\",\"1-Jul-21\",\"1-Aug-21\",\"1-Sep-21\",\"1-Oct-21\",\"1-Nov-21\",\"1-Dec-21\",\"1-Jan-22\"],\"xaxis\":\"x\",\"y\":[0.0,0.0,0.0,0.0,0.0,0.0,0.0,0.0,0.0,0.0,0.0,0.0,0.0,0.0,0.0,0.0,0.0,0.0,0.0,0.0,0.0,0.0,0.0,0.0,0.0,0.0,0.0,0.0,0.0,0.0,0.0,0.0,0.0,0.0,0.0,0.0,0.0,0.0,0.0,0.0,0.0,0.0,0.0,0.0,0.0,0.0,0.0,0.0,0.0,0.0,0.0,0.0,0.0,0.0,0.0,0.0,0.0,0.0,0.0,0.0,0.0,0.0,0.0,9.370701104,9.276644218,9.233956504,9.206183638,9.186026075,9.170680362,9.157690883,9.146994738,9.137392424,9.128875764,9.121879397,9.114803147,9.108460311,9.102344544,9.09676783,9.091309368,9.086109425,9.081284995,9.076492015,9.072012277,9.06753191,9.063184891,9.059357426,9.055229928,9.051335789,9.047412716,9.043709164,9.03998171,9.03635238,9.032933765,9.029500054,9.026268252,9.023025757,9.019878241,9.017014404,9.014043637,9.011250877,9.008448682,9.005812543,9.003166969,9.000594988,8.998172709,8.995737221,8.993440742,8.991129167,8.988874831,8.986884046,8.984732237,8.982695535,8.980638076,8.978688176,8.976713116,0.0,0.0,0.0,0.0,0.0,0.0],\"yaxis\":\"y\",\"type\":\"scattergl\"},{\"hovertemplate\":\"variable=WOPR:WP28(bbl/day)<br>Date=%{x}<br>value=%{y}<extra></extra>\",\"legendgroup\":\"WOPR:WP28(bbl/day)\",\"line\":{\"color\":\"#EF553B\",\"dash\":\"solid\"},\"marker\":{\"symbol\":\"circle\"},\"mode\":\"lines\",\"name\":\"WOPR:WP28(bbl/day)\",\"showlegend\":true,\"x\":[\"1-Jan-12\",\"1-Feb-12\",\"1-Mar-12\",\"1-Apr-12\",\"1-May-12\",\"1-Jun-12\",\"1-Jul-12\",\"1-Aug-12\",\"1-Sep-12\",\"1-Oct-12\",\"1-Nov-12\",\"1-Dec-12\",\"1-Jan-13\",\"1-Feb-13\",\"1-Mar-13\",\"1-Apr-13\",\"1-May-13\",\"1-Jun-13\",\"1-Jul-13\",\"1-Aug-13\",\"1-Sep-13\",\"1-Oct-13\",\"1-Nov-13\",\"1-Dec-13\",\"1-Jan-14\",\"1-Feb-14\",\"1-Mar-14\",\"1-Apr-14\",\"1-May-14\",\"1-Jun-14\",\"1-Jul-14\",\"1-Aug-14\",\"1-Sep-14\",\"1-Oct-14\",\"1-Nov-14\",\"1-Dec-14\",\"1-Jan-15\",\"1-Feb-15\",\"1-Mar-15\",\"1-Apr-15\",\"1-May-15\",\"1-Jun-15\",\"1-Jul-15\",\"1-Aug-15\",\"1-Sep-15\",\"1-Oct-15\",\"1-Nov-15\",\"1-Dec-15\",\"1-Jan-16\",\"1-Feb-16\",\"1-Mar-16\",\"1-Apr-16\",\"1-May-16\",\"1-Jun-16\",\"1-Jul-16\",\"1-Aug-16\",\"1-Sep-16\",\"1-Oct-16\",\"1-Nov-16\",\"1-Dec-16\",\"1-Jan-17\",\"1-Feb-17\",\"1-Mar-17\",\"1-Apr-17\",\"1-May-17\",\"1-Jun-17\",\"1-Jul-17\",\"1-Aug-17\",\"1-Sep-17\",\"1-Oct-17\",\"1-Nov-17\",\"1-Dec-17\",\"1-Jan-18\",\"1-Feb-18\",\"1-Mar-18\",\"1-Apr-18\",\"1-May-18\",\"1-Jun-18\",\"1-Jul-18\",\"1-Aug-18\",\"1-Sep-18\",\"1-Oct-18\",\"1-Nov-18\",\"1-Dec-18\",\"1-Jan-19\",\"1-Feb-19\",\"1-Mar-19\",\"1-Apr-19\",\"1-May-19\",\"1-Jun-19\",\"1-Jul-19\",\"1-Aug-19\",\"1-Sep-19\",\"1-Oct-19\",\"1-Nov-19\",\"1-Dec-19\",\"1-Jan-20\",\"1-Feb-20\",\"1-Mar-20\",\"1-Apr-20\",\"1-May-20\",\"1-Jun-20\",\"1-Jul-20\",\"1-Aug-20\",\"1-Sep-20\",\"1-Oct-20\",\"1-Nov-20\",\"1-Dec-20\",\"1-Jan-21\",\"1-Feb-21\",\"1-Mar-21\",\"1-Apr-21\",\"1-May-21\",\"1-Jun-21\",\"1-Jul-21\",\"1-Aug-21\",\"1-Sep-21\",\"1-Oct-21\",\"1-Nov-21\",\"1-Dec-21\",\"1-Jan-22\"],\"xaxis\":\"x\",\"y\":[0.0,0.0,0.0,0.0,0.0,0.0,0.0,0.0,0.0,0.0,0.0,0.0,0.0,0.0,0.0,0.0,0.0,0.0,0.0,0.0,0.0,0.0,0.0,0.0,0.0,0.0,0.0,0.0,0.0,0.0,0.0,0.0,0.0,0.0,0.0,0.0,154.8495473,150.9747815,148.5537039,146.8638262,145.4858948,144.3542231,143.3290726,142.4100345,141.5991528,140.8299676,140.1395394,139.4749506,138.8523161,138.3023877,137.7465341,137.2349873,136.7316866,136.2659687,135.8048174,135.3618819,134.9488427,134.5371245,134.1519249,133.7665303,133.3930553,133.0647236,132.7112507,132.3781386,132.0427432,131.7259537,131.4063651,131.094098,130.79838,130.4993093,130.2155674,129.9281836,129.646335,129.3959993,129.123831,128.8648969,128.6018679,128.3513058,128.0964601,127.8454514,127.6059785,127.3620272,127.1290896,126.8916169,126.6572389,126.4479958,126.2192096,126.000412,125.7769409,125.5630054,125.3442706,125.1277688,124.920268,124.7078673,124.5041342,124.3040933,124.1244195,123.9793155,123.8514964,123.7515231,123.6699167,123.6078218,123.5580805,123.5196989,123.4908592,123.4679448,123.450641,123.4366646,123.4256068,123.4173166,123.4095799,123.4029313,0.0,0.0,0.0,0.0,0.0,0.0,0.0,0.0,0.0],\"yaxis\":\"y\",\"type\":\"scattergl\"},{\"hovertemplate\":\"variable=WOPR:WP29(bbl/day)<br>Date=%{x}<br>value=%{y}<extra></extra>\",\"legendgroup\":\"WOPR:WP29(bbl/day)\",\"line\":{\"color\":\"#00cc96\",\"dash\":\"solid\"},\"marker\":{\"symbol\":\"circle\"},\"mode\":\"lines\",\"name\":\"WOPR:WP29(bbl/day)\",\"showlegend\":true,\"x\":[\"1-Jan-12\",\"1-Feb-12\",\"1-Mar-12\",\"1-Apr-12\",\"1-May-12\",\"1-Jun-12\",\"1-Jul-12\",\"1-Aug-12\",\"1-Sep-12\",\"1-Oct-12\",\"1-Nov-12\",\"1-Dec-12\",\"1-Jan-13\",\"1-Feb-13\",\"1-Mar-13\",\"1-Apr-13\",\"1-May-13\",\"1-Jun-13\",\"1-Jul-13\",\"1-Aug-13\",\"1-Sep-13\",\"1-Oct-13\",\"1-Nov-13\",\"1-Dec-13\",\"1-Jan-14\",\"1-Feb-14\",\"1-Mar-14\",\"1-Apr-14\",\"1-May-14\",\"1-Jun-14\",\"1-Jul-14\",\"1-Aug-14\",\"1-Sep-14\",\"1-Oct-14\",\"1-Nov-14\",\"1-Dec-14\",\"1-Jan-15\",\"1-Feb-15\",\"1-Mar-15\",\"1-Apr-15\",\"1-May-15\",\"1-Jun-15\",\"1-Jul-15\",\"1-Aug-15\",\"1-Sep-15\",\"1-Oct-15\",\"1-Nov-15\",\"1-Dec-15\",\"1-Jan-16\",\"1-Feb-16\",\"1-Mar-16\",\"1-Apr-16\",\"1-May-16\",\"1-Jun-16\",\"1-Jul-16\",\"1-Aug-16\",\"1-Sep-16\",\"1-Oct-16\",\"1-Nov-16\",\"1-Dec-16\",\"1-Jan-17\",\"1-Feb-17\",\"1-Mar-17\",\"1-Apr-17\",\"1-May-17\",\"1-Jun-17\",\"1-Jul-17\",\"1-Aug-17\",\"1-Sep-17\",\"1-Oct-17\",\"1-Nov-17\",\"1-Dec-17\",\"1-Jan-18\",\"1-Feb-18\",\"1-Mar-18\",\"1-Apr-18\",\"1-May-18\",\"1-Jun-18\",\"1-Jul-18\",\"1-Aug-18\",\"1-Sep-18\",\"1-Oct-18\",\"1-Nov-18\",\"1-Dec-18\",\"1-Jan-19\",\"1-Feb-19\",\"1-Mar-19\",\"1-Apr-19\",\"1-May-19\",\"1-Jun-19\",\"1-Jul-19\",\"1-Aug-19\",\"1-Sep-19\",\"1-Oct-19\",\"1-Nov-19\",\"1-Dec-19\",\"1-Jan-20\",\"1-Feb-20\",\"1-Mar-20\",\"1-Apr-20\",\"1-May-20\",\"1-Jun-20\",\"1-Jul-20\",\"1-Aug-20\",\"1-Sep-20\",\"1-Oct-20\",\"1-Nov-20\",\"1-Dec-20\",\"1-Jan-21\",\"1-Feb-21\",\"1-Mar-21\",\"1-Apr-21\",\"1-May-21\",\"1-Jun-21\",\"1-Jul-21\",\"1-Aug-21\",\"1-Sep-21\",\"1-Oct-21\",\"1-Nov-21\",\"1-Dec-21\",\"1-Jan-22\"],\"xaxis\":\"x\",\"y\":[0.0,0.0,0.0,0.0,0.0,0.0,0.0,0.0,0.0,0.0,0.0,0.0,0.0,0.0,0.0,0.0,0.0,0.0,0.0,0.0,0.0,0.0,0.0,0.0,0.0,0.0,0.0,0.0,0.0,0.0,0.0,0.0,0.0,0.0,0.0,0.0,0.0,0.0,0.0,0.0,0.0,0.0,0.0,0.0,0.0,0.0,0.0,0.0,0.0,0.0,0.0,0.0,0.0,0.0,0.0,0.0,0.0,0.0,0.0,0.0,0.0,0.0,0.0,0.0,0.0,0.0,0.0,0.0,0.0,0.0,0.0,0.0,1015.718069,991.9527506,972.9297778,956.5638897,941.240003,927.3868441,917.7299958,910.8952818,905.6097948,900.7897678,896.3940013,891.9812518,887.6312136,883.7300927,879.4324502,875.2866483,871.0155496,866.8937126,862.6450692,851.682354,841.0262763,830.9098806,821.7793166,812.827766,804.2276377,796.4217477,788.3045027,775.6356879,761.9648132,749.2249214,736.6714023,724.7227296,713.608677,0.0,0.0,0.0,0.0,0.0,0.0,0.0,0.0,0.0,0.0,0.0,0.0,0.0,0.0,0.0,0.0],\"yaxis\":\"y\",\"type\":\"scattergl\"},{\"hovertemplate\":\"variable=WOPR:WP3(bbl/day)<br>Date=%{x}<br>value=%{y}<extra></extra>\",\"legendgroup\":\"WOPR:WP3(bbl/day)\",\"line\":{\"color\":\"#ab63fa\",\"dash\":\"solid\"},\"marker\":{\"symbol\":\"circle\"},\"mode\":\"lines\",\"name\":\"WOPR:WP3(bbl/day)\",\"showlegend\":true,\"x\":[\"1-Jan-12\",\"1-Feb-12\",\"1-Mar-12\",\"1-Apr-12\",\"1-May-12\",\"1-Jun-12\",\"1-Jul-12\",\"1-Aug-12\",\"1-Sep-12\",\"1-Oct-12\",\"1-Nov-12\",\"1-Dec-12\",\"1-Jan-13\",\"1-Feb-13\",\"1-Mar-13\",\"1-Apr-13\",\"1-May-13\",\"1-Jun-13\",\"1-Jul-13\",\"1-Aug-13\",\"1-Sep-13\",\"1-Oct-13\",\"1-Nov-13\",\"1-Dec-13\",\"1-Jan-14\",\"1-Feb-14\",\"1-Mar-14\",\"1-Apr-14\",\"1-May-14\",\"1-Jun-14\",\"1-Jul-14\",\"1-Aug-14\",\"1-Sep-14\",\"1-Oct-14\",\"1-Nov-14\",\"1-Dec-14\",\"1-Jan-15\",\"1-Feb-15\",\"1-Mar-15\",\"1-Apr-15\",\"1-May-15\",\"1-Jun-15\",\"1-Jul-15\",\"1-Aug-15\",\"1-Sep-15\",\"1-Oct-15\",\"1-Nov-15\",\"1-Dec-15\",\"1-Jan-16\",\"1-Feb-16\",\"1-Mar-16\",\"1-Apr-16\",\"1-May-16\",\"1-Jun-16\",\"1-Jul-16\",\"1-Aug-16\",\"1-Sep-16\",\"1-Oct-16\",\"1-Nov-16\",\"1-Dec-16\",\"1-Jan-17\",\"1-Feb-17\",\"1-Mar-17\",\"1-Apr-17\",\"1-May-17\",\"1-Jun-17\",\"1-Jul-17\",\"1-Aug-17\",\"1-Sep-17\",\"1-Oct-17\",\"1-Nov-17\",\"1-Dec-17\",\"1-Jan-18\",\"1-Feb-18\",\"1-Mar-18\",\"1-Apr-18\",\"1-May-18\",\"1-Jun-18\",\"1-Jul-18\",\"1-Aug-18\",\"1-Sep-18\",\"1-Oct-18\",\"1-Nov-18\",\"1-Dec-18\",\"1-Jan-19\",\"1-Feb-19\",\"1-Mar-19\",\"1-Apr-19\",\"1-May-19\",\"1-Jun-19\",\"1-Jul-19\",\"1-Aug-19\",\"1-Sep-19\",\"1-Oct-19\",\"1-Nov-19\",\"1-Dec-19\",\"1-Jan-20\",\"1-Feb-20\",\"1-Mar-20\",\"1-Apr-20\",\"1-May-20\",\"1-Jun-20\",\"1-Jul-20\",\"1-Aug-20\",\"1-Sep-20\",\"1-Oct-20\",\"1-Nov-20\",\"1-Dec-20\",\"1-Jan-21\",\"1-Feb-21\",\"1-Mar-21\",\"1-Apr-21\",\"1-May-21\",\"1-Jun-21\",\"1-Jul-21\",\"1-Aug-21\",\"1-Sep-21\",\"1-Oct-21\",\"1-Nov-21\",\"1-Dec-21\",\"1-Jan-22\"],\"xaxis\":\"x\",\"y\":[0.0,0.0,0.0,0.0,0.0,0.0,0.0,0.0,0.0,0.0,0.0,0.0,0.0,0.0,0.0,0.0,0.0,0.0,0.0,0.0,0.0,0.0,0.0,2006.424582,1933.105071,1901.04903,1877.762695,1860.349836,1845.366553,1832.663143,1820.696796,1809.447068,1799.027557,1788.653082,1778.929623,1769.185344,1759.477609,1750.635127,1740.751336,1731.145311,1721.2368,1711.701348,1701.92738,1692.24556,1682.966175,1673.471483,1664.367274,1655.042412,1645.795357,1637.05622,1627.488753,1618.006703,1608.014975,1597.86518,1586.619981,1574.592494,1562.347751,1549.178944,1536.099456,1522.360523,1508.499439,1495.947744,1482.077979,1468.720472,1455.029847,1441.90897,1428.509131,1413.244434,1396.776207,1378.763597,1360.946606,1342.614024,1320.206276,1299.167673,1276.350949,1255.043952,1233.98868,1214.517922,0.0,0.0,0.0,0.0,0.0,0.0,0.0,0.0,0.0,0.0,0.0,0.0,0.0,0.0,0.0,0.0,0.0,0.0,0.0,0.0,0.0,0.0,0.0,0.0,0.0,0.0,0.0,0.0,0.0,0.0,0.0,0.0,0.0,0.0,0.0,0.0,0.0,0.0,0.0,0.0,0.0,0.0,0.0],\"yaxis\":\"y\",\"type\":\"scattergl\"},{\"hovertemplate\":\"variable=WOPR:WP30(bbl/day)<br>Date=%{x}<br>value=%{y}<extra></extra>\",\"legendgroup\":\"WOPR:WP30(bbl/day)\",\"line\":{\"color\":\"#FFA15A\",\"dash\":\"solid\"},\"marker\":{\"symbol\":\"circle\"},\"mode\":\"lines\",\"name\":\"WOPR:WP30(bbl/day)\",\"showlegend\":true,\"x\":[\"1-Jan-12\",\"1-Feb-12\",\"1-Mar-12\",\"1-Apr-12\",\"1-May-12\",\"1-Jun-12\",\"1-Jul-12\",\"1-Aug-12\",\"1-Sep-12\",\"1-Oct-12\",\"1-Nov-12\",\"1-Dec-12\",\"1-Jan-13\",\"1-Feb-13\",\"1-Mar-13\",\"1-Apr-13\",\"1-May-13\",\"1-Jun-13\",\"1-Jul-13\",\"1-Aug-13\",\"1-Sep-13\",\"1-Oct-13\",\"1-Nov-13\",\"1-Dec-13\",\"1-Jan-14\",\"1-Feb-14\",\"1-Mar-14\",\"1-Apr-14\",\"1-May-14\",\"1-Jun-14\",\"1-Jul-14\",\"1-Aug-14\",\"1-Sep-14\",\"1-Oct-14\",\"1-Nov-14\",\"1-Dec-14\",\"1-Jan-15\",\"1-Feb-15\",\"1-Mar-15\",\"1-Apr-15\",\"1-May-15\",\"1-Jun-15\",\"1-Jul-15\",\"1-Aug-15\",\"1-Sep-15\",\"1-Oct-15\",\"1-Nov-15\",\"1-Dec-15\",\"1-Jan-16\",\"1-Feb-16\",\"1-Mar-16\",\"1-Apr-16\",\"1-May-16\",\"1-Jun-16\",\"1-Jul-16\",\"1-Aug-16\",\"1-Sep-16\",\"1-Oct-16\",\"1-Nov-16\",\"1-Dec-16\",\"1-Jan-17\",\"1-Feb-17\",\"1-Mar-17\",\"1-Apr-17\",\"1-May-17\",\"1-Jun-17\",\"1-Jul-17\",\"1-Aug-17\",\"1-Sep-17\",\"1-Oct-17\",\"1-Nov-17\",\"1-Dec-17\",\"1-Jan-18\",\"1-Feb-18\",\"1-Mar-18\",\"1-Apr-18\",\"1-May-18\",\"1-Jun-18\",\"1-Jul-18\",\"1-Aug-18\",\"1-Sep-18\",\"1-Oct-18\",\"1-Nov-18\",\"1-Dec-18\",\"1-Jan-19\",\"1-Feb-19\",\"1-Mar-19\",\"1-Apr-19\",\"1-May-19\",\"1-Jun-19\",\"1-Jul-19\",\"1-Aug-19\",\"1-Sep-19\",\"1-Oct-19\",\"1-Nov-19\",\"1-Dec-19\",\"1-Jan-20\",\"1-Feb-20\",\"1-Mar-20\",\"1-Apr-20\",\"1-May-20\",\"1-Jun-20\",\"1-Jul-20\",\"1-Aug-20\",\"1-Sep-20\",\"1-Oct-20\",\"1-Nov-20\",\"1-Dec-20\",\"1-Jan-21\",\"1-Feb-21\",\"1-Mar-21\",\"1-Apr-21\",\"1-May-21\",\"1-Jun-21\",\"1-Jul-21\",\"1-Aug-21\",\"1-Sep-21\",\"1-Oct-21\",\"1-Nov-21\",\"1-Dec-21\",\"1-Jan-22\"],\"xaxis\":\"x\",\"y\":[0.0,0.0,0.0,0.0,0.0,0.0,0.0,0.0,0.0,0.0,0.0,0.0,0.0,0.0,0.0,0.0,0.0,0.0,0.0,0.0,0.0,0.0,0.0,0.0,0.0,0.0,0.0,0.0,0.0,0.0,0.0,0.0,0.0,0.0,0.0,0.0,0.0,0.0,0.0,0.0,0.0,0.0,0.0,0.0,0.0,0.0,0.0,0.0,0.0,0.0,0.0,0.0,0.0,0.0,0.0,0.0,0.0,0.0,0.0,0.0,0.0,0.0,0.0,0.0,0.0,0.0,0.0,0.0,0.0,0.0,0.0,1.139608047,1.137304083,1.136299633,1.135522504,1.134882433,1.134279222,1.133728785,1.133184448,1.132658541,1.132163518,1.131663903,1.131190141,1.130709459,1.130238967,1.129825462,1.129387615,1.128986691,1.128597528,1.128242835,1.127895753,1.127563515,1.127252034,1.12693722,1.126636621,1.126328159,1.126020327,1.125732119,1.125423091,1.125097772,1.12470232,1.124248811,1.123703216,1.123088935,1.122440751,1.121725137,1.120999963,1.120224658,1.119430608,1.118702918,1.117889055,1.117097521,1.116278123,1.115486527,1.11467172,1.113861379,1.113082551,1.112284476,1.11151892,1.110735627,1.110735627],\"yaxis\":\"y\",\"type\":\"scattergl\"},{\"hovertemplate\":\"variable=WOPR:WP31(bbl/day)<br>Date=%{x}<br>value=%{y}<extra></extra>\",\"legendgroup\":\"WOPR:WP31(bbl/day)\",\"line\":{\"color\":\"#19d3f3\",\"dash\":\"solid\"},\"marker\":{\"symbol\":\"circle\"},\"mode\":\"lines\",\"name\":\"WOPR:WP31(bbl/day)\",\"showlegend\":true,\"x\":[\"1-Jan-12\",\"1-Feb-12\",\"1-Mar-12\",\"1-Apr-12\",\"1-May-12\",\"1-Jun-12\",\"1-Jul-12\",\"1-Aug-12\",\"1-Sep-12\",\"1-Oct-12\",\"1-Nov-12\",\"1-Dec-12\",\"1-Jan-13\",\"1-Feb-13\",\"1-Mar-13\",\"1-Apr-13\",\"1-May-13\",\"1-Jun-13\",\"1-Jul-13\",\"1-Aug-13\",\"1-Sep-13\",\"1-Oct-13\",\"1-Nov-13\",\"1-Dec-13\",\"1-Jan-14\",\"1-Feb-14\",\"1-Mar-14\",\"1-Apr-14\",\"1-May-14\",\"1-Jun-14\",\"1-Jul-14\",\"1-Aug-14\",\"1-Sep-14\",\"1-Oct-14\",\"1-Nov-14\",\"1-Dec-14\",\"1-Jan-15\",\"1-Feb-15\",\"1-Mar-15\",\"1-Apr-15\",\"1-May-15\",\"1-Jun-15\",\"1-Jul-15\",\"1-Aug-15\",\"1-Sep-15\",\"1-Oct-15\",\"1-Nov-15\",\"1-Dec-15\",\"1-Jan-16\",\"1-Feb-16\",\"1-Mar-16\",\"1-Apr-16\",\"1-May-16\",\"1-Jun-16\",\"1-Jul-16\",\"1-Aug-16\",\"1-Sep-16\",\"1-Oct-16\",\"1-Nov-16\",\"1-Dec-16\",\"1-Jan-17\",\"1-Feb-17\",\"1-Mar-17\",\"1-Apr-17\",\"1-May-17\",\"1-Jun-17\",\"1-Jul-17\",\"1-Aug-17\",\"1-Sep-17\",\"1-Oct-17\",\"1-Nov-17\",\"1-Dec-17\",\"1-Jan-18\",\"1-Feb-18\",\"1-Mar-18\",\"1-Apr-18\",\"1-May-18\",\"1-Jun-18\",\"1-Jul-18\",\"1-Aug-18\",\"1-Sep-18\",\"1-Oct-18\",\"1-Nov-18\",\"1-Dec-18\",\"1-Jan-19\",\"1-Feb-19\",\"1-Mar-19\",\"1-Apr-19\",\"1-May-19\",\"1-Jun-19\",\"1-Jul-19\",\"1-Aug-19\",\"1-Sep-19\",\"1-Oct-19\",\"1-Nov-19\",\"1-Dec-19\",\"1-Jan-20\",\"1-Feb-20\",\"1-Mar-20\",\"1-Apr-20\",\"1-May-20\",\"1-Jun-20\",\"1-Jul-20\",\"1-Aug-20\",\"1-Sep-20\",\"1-Oct-20\",\"1-Nov-20\",\"1-Dec-20\",\"1-Jan-21\",\"1-Feb-21\",\"1-Mar-21\",\"1-Apr-21\",\"1-May-21\",\"1-Jun-21\",\"1-Jul-21\",\"1-Aug-21\",\"1-Sep-21\",\"1-Oct-21\",\"1-Nov-21\",\"1-Dec-21\",\"1-Jan-22\"],\"xaxis\":\"x\",\"y\":[0.0,0.0,0.0,0.0,0.0,0.0,0.0,0.0,0.0,0.0,0.0,0.0,0.0,0.0,0.0,0.0,0.0,0.0,0.0,0.0,0.0,0.0,0.0,0.0,0.0,0.0,0.0,0.0,0.0,0.0,0.0,0.0,0.0,0.0,0.0,0.0,0.0,0.0,0.0,0.0,0.0,0.0,0.0,0.0,0.0,0.0,0.0,0.0,0.0,510.6204765,504.5298695,500.3997549,496.6367058,491.4788555,485.7687557,480.2316058,475.1362404,470.1369987,465.5123076,460.9281179,456.5089212,452.6344887,448.4711629,444.5473036,440.6122608,436.8886625,433.123261,428.0802535,422.8112651,417.4212509,412.3680159,0.0,0.0,0.0,0.0,0.0,0.0,0.0,0.0,0.0,0.0,0.0,0.0,0.0,0.0,0.0,0.0,0.0,0.0,0.0,0.0,0.0,0.0,0.0,0.0,0.0,0.0,0.0,0.0,0.0,0.0,0.0,0.0,0.0,0.0,0.0,0.0,0.0,0.0,0.0,0.0,0.0,0.0,0.0,0.0,0.0,0.0,0.0,0.0,0.0,0.0],\"yaxis\":\"y\",\"type\":\"scattergl\"},{\"hovertemplate\":\"variable=WOPR:WP32(bbl/day)<br>Date=%{x}<br>value=%{y}<extra></extra>\",\"legendgroup\":\"WOPR:WP32(bbl/day)\",\"line\":{\"color\":\"#FF6692\",\"dash\":\"solid\"},\"marker\":{\"symbol\":\"circle\"},\"mode\":\"lines\",\"name\":\"WOPR:WP32(bbl/day)\",\"showlegend\":true,\"x\":[\"1-Jan-12\",\"1-Feb-12\",\"1-Mar-12\",\"1-Apr-12\",\"1-May-12\",\"1-Jun-12\",\"1-Jul-12\",\"1-Aug-12\",\"1-Sep-12\",\"1-Oct-12\",\"1-Nov-12\",\"1-Dec-12\",\"1-Jan-13\",\"1-Feb-13\",\"1-Mar-13\",\"1-Apr-13\",\"1-May-13\",\"1-Jun-13\",\"1-Jul-13\",\"1-Aug-13\",\"1-Sep-13\",\"1-Oct-13\",\"1-Nov-13\",\"1-Dec-13\",\"1-Jan-14\",\"1-Feb-14\",\"1-Mar-14\",\"1-Apr-14\",\"1-May-14\",\"1-Jun-14\",\"1-Jul-14\",\"1-Aug-14\",\"1-Sep-14\",\"1-Oct-14\",\"1-Nov-14\",\"1-Dec-14\",\"1-Jan-15\",\"1-Feb-15\",\"1-Mar-15\",\"1-Apr-15\",\"1-May-15\",\"1-Jun-15\",\"1-Jul-15\",\"1-Aug-15\",\"1-Sep-15\",\"1-Oct-15\",\"1-Nov-15\",\"1-Dec-15\",\"1-Jan-16\",\"1-Feb-16\",\"1-Mar-16\",\"1-Apr-16\",\"1-May-16\",\"1-Jun-16\",\"1-Jul-16\",\"1-Aug-16\",\"1-Sep-16\",\"1-Oct-16\",\"1-Nov-16\",\"1-Dec-16\",\"1-Jan-17\",\"1-Feb-17\",\"1-Mar-17\",\"1-Apr-17\",\"1-May-17\",\"1-Jun-17\",\"1-Jul-17\",\"1-Aug-17\",\"1-Sep-17\",\"1-Oct-17\",\"1-Nov-17\",\"1-Dec-17\",\"1-Jan-18\",\"1-Feb-18\",\"1-Mar-18\",\"1-Apr-18\",\"1-May-18\",\"1-Jun-18\",\"1-Jul-18\",\"1-Aug-18\",\"1-Sep-18\",\"1-Oct-18\",\"1-Nov-18\",\"1-Dec-18\",\"1-Jan-19\",\"1-Feb-19\",\"1-Mar-19\",\"1-Apr-19\",\"1-May-19\",\"1-Jun-19\",\"1-Jul-19\",\"1-Aug-19\",\"1-Sep-19\",\"1-Oct-19\",\"1-Nov-19\",\"1-Dec-19\",\"1-Jan-20\",\"1-Feb-20\",\"1-Mar-20\",\"1-Apr-20\",\"1-May-20\",\"1-Jun-20\",\"1-Jul-20\",\"1-Aug-20\",\"1-Sep-20\",\"1-Oct-20\",\"1-Nov-20\",\"1-Dec-20\",\"1-Jan-21\",\"1-Feb-21\",\"1-Mar-21\",\"1-Apr-21\",\"1-May-21\",\"1-Jun-21\",\"1-Jul-21\",\"1-Aug-21\",\"1-Sep-21\",\"1-Oct-21\",\"1-Nov-21\",\"1-Dec-21\",\"1-Jan-22\"],\"xaxis\":\"x\",\"y\":[0.0,0.0,0.0,0.0,0.0,0.0,0.0,0.0,0.0,0.0,0.0,0.0,0.0,0.0,0.0,0.0,0.0,0.0,0.0,0.0,0.0,0.0,0.0,0.0,0.0,0.0,0.0,0.0,0.0,0.0,0.0,0.0,0.0,0.0,0.0,0.0,0.0,0.0,0.0,0.0,0.0,0.0,0.0,0.0,0.0,0.0,0.0,0.0,0.0,0.0,0.0,0.0,0.0,0.0,0.0,0.0,0.0,0.0,0.0,0.0,0.0,0.0,0.0,0.0,0.0,0.0,0.0,0.0,0.0,0.0,0.0,0.0,0.0,0.0,0.0,0.0,0.0,0.0,0.0,0.0,0.0,0.0,0.0,0.0,0.0,0.0,0.0,0.0,0.0,0.0,0.0,0.0,0.0,0.0,0.0,0.0,0.0,0.0,0.0,0.0,0.0,0.0,0.0,0.0,0.0,0.0,0.0,0.0,0.0,0.0,0.0,0.0,0.0,0.0,0.0,0.0,0.0,0.0,0.0,1618.477384,1618.477384],\"yaxis\":\"y\",\"type\":\"scattergl\"},{\"hovertemplate\":\"variable=WOPR:WP33(bbl/day)<br>Date=%{x}<br>value=%{y}<extra></extra>\",\"legendgroup\":\"WOPR:WP33(bbl/day)\",\"line\":{\"color\":\"#B6E880\",\"dash\":\"solid\"},\"marker\":{\"symbol\":\"circle\"},\"mode\":\"lines\",\"name\":\"WOPR:WP33(bbl/day)\",\"showlegend\":true,\"x\":[\"1-Jan-12\",\"1-Feb-12\",\"1-Mar-12\",\"1-Apr-12\",\"1-May-12\",\"1-Jun-12\",\"1-Jul-12\",\"1-Aug-12\",\"1-Sep-12\",\"1-Oct-12\",\"1-Nov-12\",\"1-Dec-12\",\"1-Jan-13\",\"1-Feb-13\",\"1-Mar-13\",\"1-Apr-13\",\"1-May-13\",\"1-Jun-13\",\"1-Jul-13\",\"1-Aug-13\",\"1-Sep-13\",\"1-Oct-13\",\"1-Nov-13\",\"1-Dec-13\",\"1-Jan-14\",\"1-Feb-14\",\"1-Mar-14\",\"1-Apr-14\",\"1-May-14\",\"1-Jun-14\",\"1-Jul-14\",\"1-Aug-14\",\"1-Sep-14\",\"1-Oct-14\",\"1-Nov-14\",\"1-Dec-14\",\"1-Jan-15\",\"1-Feb-15\",\"1-Mar-15\",\"1-Apr-15\",\"1-May-15\",\"1-Jun-15\",\"1-Jul-15\",\"1-Aug-15\",\"1-Sep-15\",\"1-Oct-15\",\"1-Nov-15\",\"1-Dec-15\",\"1-Jan-16\",\"1-Feb-16\",\"1-Mar-16\",\"1-Apr-16\",\"1-May-16\",\"1-Jun-16\",\"1-Jul-16\",\"1-Aug-16\",\"1-Sep-16\",\"1-Oct-16\",\"1-Nov-16\",\"1-Dec-16\",\"1-Jan-17\",\"1-Feb-17\",\"1-Mar-17\",\"1-Apr-17\",\"1-May-17\",\"1-Jun-17\",\"1-Jul-17\",\"1-Aug-17\",\"1-Sep-17\",\"1-Oct-17\",\"1-Nov-17\",\"1-Dec-17\",\"1-Jan-18\",\"1-Feb-18\",\"1-Mar-18\",\"1-Apr-18\",\"1-May-18\",\"1-Jun-18\",\"1-Jul-18\",\"1-Aug-18\",\"1-Sep-18\",\"1-Oct-18\",\"1-Nov-18\",\"1-Dec-18\",\"1-Jan-19\",\"1-Feb-19\",\"1-Mar-19\",\"1-Apr-19\",\"1-May-19\",\"1-Jun-19\",\"1-Jul-19\",\"1-Aug-19\",\"1-Sep-19\",\"1-Oct-19\",\"1-Nov-19\",\"1-Dec-19\",\"1-Jan-20\",\"1-Feb-20\",\"1-Mar-20\",\"1-Apr-20\",\"1-May-20\",\"1-Jun-20\",\"1-Jul-20\",\"1-Aug-20\",\"1-Sep-20\",\"1-Oct-20\",\"1-Nov-20\",\"1-Dec-20\",\"1-Jan-21\",\"1-Feb-21\",\"1-Mar-21\",\"1-Apr-21\",\"1-May-21\",\"1-Jun-21\",\"1-Jul-21\",\"1-Aug-21\",\"1-Sep-21\",\"1-Oct-21\",\"1-Nov-21\",\"1-Dec-21\",\"1-Jan-22\"],\"xaxis\":\"x\",\"y\":[0.0,0.0,0.0,0.0,0.0,0.0,0.0,0.0,0.237098562,0.235173615,0.234009512,0.233130201,0.232423444,0.231875598,0.231345797,0.230887024,0.230457587,0.230075243,0.229708108,0.229362623,0.229043343,0.228724264,0.228421124,0.228109265,0.227794388,0.227504488,0.227173018,0.226839226,0.226477319,0.226108706,0.225705819,0.225278954,0.224841944,0.224363583,0.223874693,0.223341143,0.222778773,0.222247312,0.221630138,0.221006019,0.220333077,0.219655983,0.218929426,0.218176739,0.217424637,0.216623077,0.21582538,0.214978632,0.214110405,0.213280068,0.212372962,0.0,0.0,0.0,0.0,0.0,0.0,0.0,0.0,0.0,0.0,0.0,0.0,0.0,0.0,0.0,0.0,0.0,0.0,0.0,0.0,0.0,0.0,0.0,0.0,0.0,0.0,0.0,0.0,0.0,0.0,0.0,0.0,0.0,0.0,0.0,0.0,0.0,0.0,0.0,0.0,0.0,0.0,0.0,0.0,0.0,0.0,0.0,0.0,0.0,0.0,0.0,0.0,0.0,0.0,0.0,0.0,0.0,0.0,0.0,0.0,0.0,0.0,0.0,0.0,0.0,0.0,0.0,0.0,0.0,0.0],\"yaxis\":\"y\",\"type\":\"scattergl\"},{\"hovertemplate\":\"variable=WOPR:WP34(bbl/day)<br>Date=%{x}<br>value=%{y}<extra></extra>\",\"legendgroup\":\"WOPR:WP34(bbl/day)\",\"line\":{\"color\":\"#FF97FF\",\"dash\":\"solid\"},\"marker\":{\"symbol\":\"circle\"},\"mode\":\"lines\",\"name\":\"WOPR:WP34(bbl/day)\",\"showlegend\":true,\"x\":[\"1-Jan-12\",\"1-Feb-12\",\"1-Mar-12\",\"1-Apr-12\",\"1-May-12\",\"1-Jun-12\",\"1-Jul-12\",\"1-Aug-12\",\"1-Sep-12\",\"1-Oct-12\",\"1-Nov-12\",\"1-Dec-12\",\"1-Jan-13\",\"1-Feb-13\",\"1-Mar-13\",\"1-Apr-13\",\"1-May-13\",\"1-Jun-13\",\"1-Jul-13\",\"1-Aug-13\",\"1-Sep-13\",\"1-Oct-13\",\"1-Nov-13\",\"1-Dec-13\",\"1-Jan-14\",\"1-Feb-14\",\"1-Mar-14\",\"1-Apr-14\",\"1-May-14\",\"1-Jun-14\",\"1-Jul-14\",\"1-Aug-14\",\"1-Sep-14\",\"1-Oct-14\",\"1-Nov-14\",\"1-Dec-14\",\"1-Jan-15\",\"1-Feb-15\",\"1-Mar-15\",\"1-Apr-15\",\"1-May-15\",\"1-Jun-15\",\"1-Jul-15\",\"1-Aug-15\",\"1-Sep-15\",\"1-Oct-15\",\"1-Nov-15\",\"1-Dec-15\",\"1-Jan-16\",\"1-Feb-16\",\"1-Mar-16\",\"1-Apr-16\",\"1-May-16\",\"1-Jun-16\",\"1-Jul-16\",\"1-Aug-16\",\"1-Sep-16\",\"1-Oct-16\",\"1-Nov-16\",\"1-Dec-16\",\"1-Jan-17\",\"1-Feb-17\",\"1-Mar-17\",\"1-Apr-17\",\"1-May-17\",\"1-Jun-17\",\"1-Jul-17\",\"1-Aug-17\",\"1-Sep-17\",\"1-Oct-17\",\"1-Nov-17\",\"1-Dec-17\",\"1-Jan-18\",\"1-Feb-18\",\"1-Mar-18\",\"1-Apr-18\",\"1-May-18\",\"1-Jun-18\",\"1-Jul-18\",\"1-Aug-18\",\"1-Sep-18\",\"1-Oct-18\",\"1-Nov-18\",\"1-Dec-18\",\"1-Jan-19\",\"1-Feb-19\",\"1-Mar-19\",\"1-Apr-19\",\"1-May-19\",\"1-Jun-19\",\"1-Jul-19\",\"1-Aug-19\",\"1-Sep-19\",\"1-Oct-19\",\"1-Nov-19\",\"1-Dec-19\",\"1-Jan-20\",\"1-Feb-20\",\"1-Mar-20\",\"1-Apr-20\",\"1-May-20\",\"1-Jun-20\",\"1-Jul-20\",\"1-Aug-20\",\"1-Sep-20\",\"1-Oct-20\",\"1-Nov-20\",\"1-Dec-20\",\"1-Jan-21\",\"1-Feb-21\",\"1-Mar-21\",\"1-Apr-21\",\"1-May-21\",\"1-Jun-21\",\"1-Jul-21\",\"1-Aug-21\",\"1-Sep-21\",\"1-Oct-21\",\"1-Nov-21\",\"1-Dec-21\",\"1-Jan-22\"],\"xaxis\":\"x\",\"y\":[0.0,0.0,0.0,0.0,0.0,0.0,0.0,0.0,0.0,0.0,0.0,0.0,0.0,0.0,0.0,0.0,0.0,0.0,0.0,0.0,0.0,0.0,0.0,0.0,0.0,0.0,0.0,0.0,0.0,0.0,0.0,0.0,0.0,0.0,0.0,0.0,0.0,0.0,0.0,0.0,0.0,0.0,0.0,0.0,0.0,0.0,0.0,0.0,0.0,0.0,0.0,0.0,0.0,1693.574449,1661.577722,1638.470904,1619.225642,1601.201459,1584.934387,1569.059873,1553.909465,1540.713233,1526.626527,1513.437844,1500.195318,1487.692119,1475.067271,1456.505167,1438.118553,1419.870257,1402.912542,1387.531039,1372.067389,1357.695179,1341.535603,1325.880108,1314.566914,1301.892752,1288.358056,0.0,0.0,0.0,0.0,0.0,0.0,0.0,0.0,0.0,0.0,0.0,0.0,0.0,0.0,0.0,0.0,0.0,0.0,0.0,0.0,0.0,0.0,0.0,0.0,0.0,0.0,0.0,0.0,0.0,0.0,0.0,0.0,0.0,0.0,0.0,0.0,0.0,0.0,0.0,0.0,0.0,0.0],\"yaxis\":\"y\",\"type\":\"scattergl\"},{\"hovertemplate\":\"variable=WOPR:WP35(bbl/day)<br>Date=%{x}<br>value=%{y}<extra></extra>\",\"legendgroup\":\"WOPR:WP35(bbl/day)\",\"line\":{\"color\":\"#FECB52\",\"dash\":\"solid\"},\"marker\":{\"symbol\":\"circle\"},\"mode\":\"lines\",\"name\":\"WOPR:WP35(bbl/day)\",\"showlegend\":true,\"x\":[\"1-Jan-12\",\"1-Feb-12\",\"1-Mar-12\",\"1-Apr-12\",\"1-May-12\",\"1-Jun-12\",\"1-Jul-12\",\"1-Aug-12\",\"1-Sep-12\",\"1-Oct-12\",\"1-Nov-12\",\"1-Dec-12\",\"1-Jan-13\",\"1-Feb-13\",\"1-Mar-13\",\"1-Apr-13\",\"1-May-13\",\"1-Jun-13\",\"1-Jul-13\",\"1-Aug-13\",\"1-Sep-13\",\"1-Oct-13\",\"1-Nov-13\",\"1-Dec-13\",\"1-Jan-14\",\"1-Feb-14\",\"1-Mar-14\",\"1-Apr-14\",\"1-May-14\",\"1-Jun-14\",\"1-Jul-14\",\"1-Aug-14\",\"1-Sep-14\",\"1-Oct-14\",\"1-Nov-14\",\"1-Dec-14\",\"1-Jan-15\",\"1-Feb-15\",\"1-Mar-15\",\"1-Apr-15\",\"1-May-15\",\"1-Jun-15\",\"1-Jul-15\",\"1-Aug-15\",\"1-Sep-15\",\"1-Oct-15\",\"1-Nov-15\",\"1-Dec-15\",\"1-Jan-16\",\"1-Feb-16\",\"1-Mar-16\",\"1-Apr-16\",\"1-May-16\",\"1-Jun-16\",\"1-Jul-16\",\"1-Aug-16\",\"1-Sep-16\",\"1-Oct-16\",\"1-Nov-16\",\"1-Dec-16\",\"1-Jan-17\",\"1-Feb-17\",\"1-Mar-17\",\"1-Apr-17\",\"1-May-17\",\"1-Jun-17\",\"1-Jul-17\",\"1-Aug-17\",\"1-Sep-17\",\"1-Oct-17\",\"1-Nov-17\",\"1-Dec-17\",\"1-Jan-18\",\"1-Feb-18\",\"1-Mar-18\",\"1-Apr-18\",\"1-May-18\",\"1-Jun-18\",\"1-Jul-18\",\"1-Aug-18\",\"1-Sep-18\",\"1-Oct-18\",\"1-Nov-18\",\"1-Dec-18\",\"1-Jan-19\",\"1-Feb-19\",\"1-Mar-19\",\"1-Apr-19\",\"1-May-19\",\"1-Jun-19\",\"1-Jul-19\",\"1-Aug-19\",\"1-Sep-19\",\"1-Oct-19\",\"1-Nov-19\",\"1-Dec-19\",\"1-Jan-20\",\"1-Feb-20\",\"1-Mar-20\",\"1-Apr-20\",\"1-May-20\",\"1-Jun-20\",\"1-Jul-20\",\"1-Aug-20\",\"1-Sep-20\",\"1-Oct-20\",\"1-Nov-20\",\"1-Dec-20\",\"1-Jan-21\",\"1-Feb-21\",\"1-Mar-21\",\"1-Apr-21\",\"1-May-21\",\"1-Jun-21\",\"1-Jul-21\",\"1-Aug-21\",\"1-Sep-21\",\"1-Oct-21\",\"1-Nov-21\",\"1-Dec-21\",\"1-Jan-22\"],\"xaxis\":\"x\",\"y\":[0.0,0.0,0.0,0.0,0.0,0.0,0.0,0.0,0.0,0.0,0.0,0.0,0.0,0.0,0.0,0.0,0.0,0.0,0.0,0.0,0.0,0.0,0.0,0.0,0.0,0.0,0.0,0.0,0.0,0.0,0.0,0.0,0.0,0.0,0.0,0.0,0.0,0.0,0.0,0.0,0.0,0.0,0.0,0.0,0.0,0.0,0.0,0.0,0.0,0.0,0.0,0.0,0.0,0.0,0.0,0.0,0.0,0.0,0.0,0.0,0.0,0.0,0.0,0.0,0.0,0.0,0.0,0.0,0.0,0.0,0.0,0.0,0.0,0.0,0.0,0.0,0.0,0.0,0.0,0.0,0.0,0.0,0.0,0.0,0.0,0.0,0.0,0.0,0.0,0.0,0.0,0.0,0.0,0.0,0.0,0.0,0.0,0.0,0.0,0.0,0.0,0.0,0.0,0.0,0.0,0.0,0.0,0.0,0.0,0.0,0.0,2.219788993,2.212678211,2.208464917,2.204942014,2.201790724,2.198943996,2.196150355,2.193553277,2.190964313,2.190964313],\"yaxis\":\"y\",\"type\":\"scattergl\"},{\"hovertemplate\":\"variable=WOPR:WP36(bbl/day)<br>Date=%{x}<br>value=%{y}<extra></extra>\",\"legendgroup\":\"WOPR:WP36(bbl/day)\",\"line\":{\"color\":\"#636efa\",\"dash\":\"solid\"},\"marker\":{\"symbol\":\"circle\"},\"mode\":\"lines\",\"name\":\"WOPR:WP36(bbl/day)\",\"showlegend\":true,\"x\":[\"1-Jan-12\",\"1-Feb-12\",\"1-Mar-12\",\"1-Apr-12\",\"1-May-12\",\"1-Jun-12\",\"1-Jul-12\",\"1-Aug-12\",\"1-Sep-12\",\"1-Oct-12\",\"1-Nov-12\",\"1-Dec-12\",\"1-Jan-13\",\"1-Feb-13\",\"1-Mar-13\",\"1-Apr-13\",\"1-May-13\",\"1-Jun-13\",\"1-Jul-13\",\"1-Aug-13\",\"1-Sep-13\",\"1-Oct-13\",\"1-Nov-13\",\"1-Dec-13\",\"1-Jan-14\",\"1-Feb-14\",\"1-Mar-14\",\"1-Apr-14\",\"1-May-14\",\"1-Jun-14\",\"1-Jul-14\",\"1-Aug-14\",\"1-Sep-14\",\"1-Oct-14\",\"1-Nov-14\",\"1-Dec-14\",\"1-Jan-15\",\"1-Feb-15\",\"1-Mar-15\",\"1-Apr-15\",\"1-May-15\",\"1-Jun-15\",\"1-Jul-15\",\"1-Aug-15\",\"1-Sep-15\",\"1-Oct-15\",\"1-Nov-15\",\"1-Dec-15\",\"1-Jan-16\",\"1-Feb-16\",\"1-Mar-16\",\"1-Apr-16\",\"1-May-16\",\"1-Jun-16\",\"1-Jul-16\",\"1-Aug-16\",\"1-Sep-16\",\"1-Oct-16\",\"1-Nov-16\",\"1-Dec-16\",\"1-Jan-17\",\"1-Feb-17\",\"1-Mar-17\",\"1-Apr-17\",\"1-May-17\",\"1-Jun-17\",\"1-Jul-17\",\"1-Aug-17\",\"1-Sep-17\",\"1-Oct-17\",\"1-Nov-17\",\"1-Dec-17\",\"1-Jan-18\",\"1-Feb-18\",\"1-Mar-18\",\"1-Apr-18\",\"1-May-18\",\"1-Jun-18\",\"1-Jul-18\",\"1-Aug-18\",\"1-Sep-18\",\"1-Oct-18\",\"1-Nov-18\",\"1-Dec-18\",\"1-Jan-19\",\"1-Feb-19\",\"1-Mar-19\",\"1-Apr-19\",\"1-May-19\",\"1-Jun-19\",\"1-Jul-19\",\"1-Aug-19\",\"1-Sep-19\",\"1-Oct-19\",\"1-Nov-19\",\"1-Dec-19\",\"1-Jan-20\",\"1-Feb-20\",\"1-Mar-20\",\"1-Apr-20\",\"1-May-20\",\"1-Jun-20\",\"1-Jul-20\",\"1-Aug-20\",\"1-Sep-20\",\"1-Oct-20\",\"1-Nov-20\",\"1-Dec-20\",\"1-Jan-21\",\"1-Feb-21\",\"1-Mar-21\",\"1-Apr-21\",\"1-May-21\",\"1-Jun-21\",\"1-Jul-21\",\"1-Aug-21\",\"1-Sep-21\",\"1-Oct-21\",\"1-Nov-21\",\"1-Dec-21\",\"1-Jan-22\"],\"xaxis\":\"x\",\"y\":[0.0,0.0,0.0,0.0,0.0,0.0,0.0,0.0,0.0,0.0,0.0,0.0,0.0,0.0,0.0,0.0,0.0,0.0,0.0,0.0,0.0,0.0,0.0,0.0,0.0,0.0,0.0,0.0,0.0,0.0,0.0,0.0,0.0,0.0,0.0,0.0,0.0,0.0,0.0,0.0,0.0,0.0,0.0,0.0,0.0,0.0,0.0,0.0,0.0,0.0,0.0,0.0,0.0,0.0,0.0,0.0,0.0,0.0,0.0,0.0,0.0,0.0,0.0,0.0,0.0,0.0,0.0,0.0,0.0,0.0,0.0,0.0,0.0,0.0,0.0,0.0,0.0,0.0,0.0,0.0,0.0,0.0,0.0,0.0,0.0,0.0,0.0,592.9962853,574.0736883,558.8990256,544.653811,526.2874073,508.3016995,490.6313283,474.4773503,458.7018667,443.7576948,430.4339652,416.8790718,404.3504171,391.9945486,380.5473021,369.2266042,358.3796753,348.2982394,338.2942586,328.9819199,319.7274555,310.8185574,303.0361039,294.7247872,286.9531023,279.1944753,271.9352681,264.6865211,265.0385913,263.003336,259.5426912,255.6060192,251.2367965,251.2367965],\"yaxis\":\"y\",\"type\":\"scattergl\"},{\"hovertemplate\":\"variable=WOPR:WP37(bbl/day)<br>Date=%{x}<br>value=%{y}<extra></extra>\",\"legendgroup\":\"WOPR:WP37(bbl/day)\",\"line\":{\"color\":\"#EF553B\",\"dash\":\"solid\"},\"marker\":{\"symbol\":\"circle\"},\"mode\":\"lines\",\"name\":\"WOPR:WP37(bbl/day)\",\"showlegend\":true,\"x\":[\"1-Jan-12\",\"1-Feb-12\",\"1-Mar-12\",\"1-Apr-12\",\"1-May-12\",\"1-Jun-12\",\"1-Jul-12\",\"1-Aug-12\",\"1-Sep-12\",\"1-Oct-12\",\"1-Nov-12\",\"1-Dec-12\",\"1-Jan-13\",\"1-Feb-13\",\"1-Mar-13\",\"1-Apr-13\",\"1-May-13\",\"1-Jun-13\",\"1-Jul-13\",\"1-Aug-13\",\"1-Sep-13\",\"1-Oct-13\",\"1-Nov-13\",\"1-Dec-13\",\"1-Jan-14\",\"1-Feb-14\",\"1-Mar-14\",\"1-Apr-14\",\"1-May-14\",\"1-Jun-14\",\"1-Jul-14\",\"1-Aug-14\",\"1-Sep-14\",\"1-Oct-14\",\"1-Nov-14\",\"1-Dec-14\",\"1-Jan-15\",\"1-Feb-15\",\"1-Mar-15\",\"1-Apr-15\",\"1-May-15\",\"1-Jun-15\",\"1-Jul-15\",\"1-Aug-15\",\"1-Sep-15\",\"1-Oct-15\",\"1-Nov-15\",\"1-Dec-15\",\"1-Jan-16\",\"1-Feb-16\",\"1-Mar-16\",\"1-Apr-16\",\"1-May-16\",\"1-Jun-16\",\"1-Jul-16\",\"1-Aug-16\",\"1-Sep-16\",\"1-Oct-16\",\"1-Nov-16\",\"1-Dec-16\",\"1-Jan-17\",\"1-Feb-17\",\"1-Mar-17\",\"1-Apr-17\",\"1-May-17\",\"1-Jun-17\",\"1-Jul-17\",\"1-Aug-17\",\"1-Sep-17\",\"1-Oct-17\",\"1-Nov-17\",\"1-Dec-17\",\"1-Jan-18\",\"1-Feb-18\",\"1-Mar-18\",\"1-Apr-18\",\"1-May-18\",\"1-Jun-18\",\"1-Jul-18\",\"1-Aug-18\",\"1-Sep-18\",\"1-Oct-18\",\"1-Nov-18\",\"1-Dec-18\",\"1-Jan-19\",\"1-Feb-19\",\"1-Mar-19\",\"1-Apr-19\",\"1-May-19\",\"1-Jun-19\",\"1-Jul-19\",\"1-Aug-19\",\"1-Sep-19\",\"1-Oct-19\",\"1-Nov-19\",\"1-Dec-19\",\"1-Jan-20\",\"1-Feb-20\",\"1-Mar-20\",\"1-Apr-20\",\"1-May-20\",\"1-Jun-20\",\"1-Jul-20\",\"1-Aug-20\",\"1-Sep-20\",\"1-Oct-20\",\"1-Nov-20\",\"1-Dec-20\",\"1-Jan-21\",\"1-Feb-21\",\"1-Mar-21\",\"1-Apr-21\",\"1-May-21\",\"1-Jun-21\",\"1-Jul-21\",\"1-Aug-21\",\"1-Sep-21\",\"1-Oct-21\",\"1-Nov-21\",\"1-Dec-21\",\"1-Jan-22\"],\"xaxis\":\"x\",\"y\":[0.0,0.0,0.0,0.0,0.0,0.0,0.0,0.0,0.0,0.0,0.0,0.0,0.0,0.0,0.0,0.0,0.0,0.0,0.0,0.0,0.0,0.0,0.0,0.0,0.0,0.0,0.0,0.0,0.0,0.0,0.0,0.0,0.0,0.0,0.0,0.0,534.5002728,529.6329513,525.6152767,522.2227464,518.995448,516.0312729,513.0777468,510.1969268,507.4561851,504.6596322,501.9779159,499.2270473,496.4924006,493.7791588,490.7179479,487.6733866,484.4936406,479.019548,473.0198315,467.2985481,462.0721305,456.9578573,452.2298971,447.5449793,443.0296587,439.072538,434.8225988,430.8194604,426.7884384,422.9774973,419.1411696,411.9039648,405.3054907,399.1435991,393.6058516,388.3530349,382.6071765,377.3578633,371.7130034,366.4459147,362.241056,358.0886936,353.887697,351.8308481,350.3415585,348.8369402,347.3437634,345.7653382,344.163011,342.7028064,341.076464,339.4969318,337.8618085,336.2785589,334.6429325,331.3061881,327.7667422,324.2135778,320.922329,317.6576681,314.5048936,311.6364335,308.6484507,305.1420211,301.1350457,297.1481984,293.0405705,288.9939745,285.1511682,281.8811796,279.0057376,276.1273141,273.2838755,270.7375389,267.9495027,265.2842724,262.5681498,259.9773491,257.3403609,254.742723,252.266111,249.7455885,247.3416323,244.8893311,244.8893311],\"yaxis\":\"y\",\"type\":\"scattergl\"},{\"hovertemplate\":\"variable=WOPR:WP38(bbl/day)<br>Date=%{x}<br>value=%{y}<extra></extra>\",\"legendgroup\":\"WOPR:WP38(bbl/day)\",\"line\":{\"color\":\"#00cc96\",\"dash\":\"solid\"},\"marker\":{\"symbol\":\"circle\"},\"mode\":\"lines\",\"name\":\"WOPR:WP38(bbl/day)\",\"showlegend\":true,\"x\":[\"1-Jan-12\",\"1-Feb-12\",\"1-Mar-12\",\"1-Apr-12\",\"1-May-12\",\"1-Jun-12\",\"1-Jul-12\",\"1-Aug-12\",\"1-Sep-12\",\"1-Oct-12\",\"1-Nov-12\",\"1-Dec-12\",\"1-Jan-13\",\"1-Feb-13\",\"1-Mar-13\",\"1-Apr-13\",\"1-May-13\",\"1-Jun-13\",\"1-Jul-13\",\"1-Aug-13\",\"1-Sep-13\",\"1-Oct-13\",\"1-Nov-13\",\"1-Dec-13\",\"1-Jan-14\",\"1-Feb-14\",\"1-Mar-14\",\"1-Apr-14\",\"1-May-14\",\"1-Jun-14\",\"1-Jul-14\",\"1-Aug-14\",\"1-Sep-14\",\"1-Oct-14\",\"1-Nov-14\",\"1-Dec-14\",\"1-Jan-15\",\"1-Feb-15\",\"1-Mar-15\",\"1-Apr-15\",\"1-May-15\",\"1-Jun-15\",\"1-Jul-15\",\"1-Aug-15\",\"1-Sep-15\",\"1-Oct-15\",\"1-Nov-15\",\"1-Dec-15\",\"1-Jan-16\",\"1-Feb-16\",\"1-Mar-16\",\"1-Apr-16\",\"1-May-16\",\"1-Jun-16\",\"1-Jul-16\",\"1-Aug-16\",\"1-Sep-16\",\"1-Oct-16\",\"1-Nov-16\",\"1-Dec-16\",\"1-Jan-17\",\"1-Feb-17\",\"1-Mar-17\",\"1-Apr-17\",\"1-May-17\",\"1-Jun-17\",\"1-Jul-17\",\"1-Aug-17\",\"1-Sep-17\",\"1-Oct-17\",\"1-Nov-17\",\"1-Dec-17\",\"1-Jan-18\",\"1-Feb-18\",\"1-Mar-18\",\"1-Apr-18\",\"1-May-18\",\"1-Jun-18\",\"1-Jul-18\",\"1-Aug-18\",\"1-Sep-18\",\"1-Oct-18\",\"1-Nov-18\",\"1-Dec-18\",\"1-Jan-19\",\"1-Feb-19\",\"1-Mar-19\",\"1-Apr-19\",\"1-May-19\",\"1-Jun-19\",\"1-Jul-19\",\"1-Aug-19\",\"1-Sep-19\",\"1-Oct-19\",\"1-Nov-19\",\"1-Dec-19\",\"1-Jan-20\",\"1-Feb-20\",\"1-Mar-20\",\"1-Apr-20\",\"1-May-20\",\"1-Jun-20\",\"1-Jul-20\",\"1-Aug-20\",\"1-Sep-20\",\"1-Oct-20\",\"1-Nov-20\",\"1-Dec-20\",\"1-Jan-21\",\"1-Feb-21\",\"1-Mar-21\",\"1-Apr-21\",\"1-May-21\",\"1-Jun-21\",\"1-Jul-21\",\"1-Aug-21\",\"1-Sep-21\",\"1-Oct-21\",\"1-Nov-21\",\"1-Dec-21\",\"1-Jan-22\"],\"xaxis\":\"x\",\"y\":[0.0,0.0,0.0,0.0,0.0,0.0,0.0,0.0,0.0,0.0,0.0,0.0,0.0,0.0,0.0,0.0,0.0,0.0,0.0,0.0,0.0,0.0,0.0,0.0,0.0,0.0,0.0,0.0,0.0,0.0,0.0,0.0,0.0,0.0,0.0,0.0,0.0,0.0,0.0,0.0,0.0,0.0,0.0,0.0,0.0,0.0,0.0,0.0,0.0,0.0,0.0,0.0,0.0,0.0,0.0,0.0,0.0,0.0,0.0,0.0,0.0,0.0,0.0,0.0,0.0,0.0,0.0,0.0,0.0,1490.368325,1461.262797,1432.894834,1405.119515,1381.077877,1355.802707,1332.436552,1309.26545,1287.607785,1265.917412,1244.831633,1220.778862,1196.418447,1173.891126,1151.599995,1130.121407,1111.286819,1091.036479,1071.061955,1050.124998,1029.873022,1009.067589,987.5140863,965.911899,943.136438,920.9816742,898.2097356,875.735943,855.0510893,833.397953,812.9010445,792.2477037,772.7571323,753.1512652,734.0762112,716.1063731,698.0474057,681.0458502,663.9670535,647.3631518,632.7409775,616.9990322,602.1677783,587.2559495,573.2061967,559.0798002,547.2337426,536.7735103,526.3397652,516.4004959,506.2536315,506.2536315],\"yaxis\":\"y\",\"type\":\"scattergl\"},{\"hovertemplate\":\"variable=WOPR:WP39(bbl/day)<br>Date=%{x}<br>value=%{y}<extra></extra>\",\"legendgroup\":\"WOPR:WP39(bbl/day)\",\"line\":{\"color\":\"#ab63fa\",\"dash\":\"solid\"},\"marker\":{\"symbol\":\"circle\"},\"mode\":\"lines\",\"name\":\"WOPR:WP39(bbl/day)\",\"showlegend\":true,\"x\":[\"1-Jan-12\",\"1-Feb-12\",\"1-Mar-12\",\"1-Apr-12\",\"1-May-12\",\"1-Jun-12\",\"1-Jul-12\",\"1-Aug-12\",\"1-Sep-12\",\"1-Oct-12\",\"1-Nov-12\",\"1-Dec-12\",\"1-Jan-13\",\"1-Feb-13\",\"1-Mar-13\",\"1-Apr-13\",\"1-May-13\",\"1-Jun-13\",\"1-Jul-13\",\"1-Aug-13\",\"1-Sep-13\",\"1-Oct-13\",\"1-Nov-13\",\"1-Dec-13\",\"1-Jan-14\",\"1-Feb-14\",\"1-Mar-14\",\"1-Apr-14\",\"1-May-14\",\"1-Jun-14\",\"1-Jul-14\",\"1-Aug-14\",\"1-Sep-14\",\"1-Oct-14\",\"1-Nov-14\",\"1-Dec-14\",\"1-Jan-15\",\"1-Feb-15\",\"1-Mar-15\",\"1-Apr-15\",\"1-May-15\",\"1-Jun-15\",\"1-Jul-15\",\"1-Aug-15\",\"1-Sep-15\",\"1-Oct-15\",\"1-Nov-15\",\"1-Dec-15\",\"1-Jan-16\",\"1-Feb-16\",\"1-Mar-16\",\"1-Apr-16\",\"1-May-16\",\"1-Jun-16\",\"1-Jul-16\",\"1-Aug-16\",\"1-Sep-16\",\"1-Oct-16\",\"1-Nov-16\",\"1-Dec-16\",\"1-Jan-17\",\"1-Feb-17\",\"1-Mar-17\",\"1-Apr-17\",\"1-May-17\",\"1-Jun-17\",\"1-Jul-17\",\"1-Aug-17\",\"1-Sep-17\",\"1-Oct-17\",\"1-Nov-17\",\"1-Dec-17\",\"1-Jan-18\",\"1-Feb-18\",\"1-Mar-18\",\"1-Apr-18\",\"1-May-18\",\"1-Jun-18\",\"1-Jul-18\",\"1-Aug-18\",\"1-Sep-18\",\"1-Oct-18\",\"1-Nov-18\",\"1-Dec-18\",\"1-Jan-19\",\"1-Feb-19\",\"1-Mar-19\",\"1-Apr-19\",\"1-May-19\",\"1-Jun-19\",\"1-Jul-19\",\"1-Aug-19\",\"1-Sep-19\",\"1-Oct-19\",\"1-Nov-19\",\"1-Dec-19\",\"1-Jan-20\",\"1-Feb-20\",\"1-Mar-20\",\"1-Apr-20\",\"1-May-20\",\"1-Jun-20\",\"1-Jul-20\",\"1-Aug-20\",\"1-Sep-20\",\"1-Oct-20\",\"1-Nov-20\",\"1-Dec-20\",\"1-Jan-21\",\"1-Feb-21\",\"1-Mar-21\",\"1-Apr-21\",\"1-May-21\",\"1-Jun-21\",\"1-Jul-21\",\"1-Aug-21\",\"1-Sep-21\",\"1-Oct-21\",\"1-Nov-21\",\"1-Dec-21\",\"1-Jan-22\"],\"xaxis\":\"x\",\"y\":[0.0,0.0,0.0,0.0,0.0,0.0,0.0,0.0,0.0,0.0,0.0,0.0,0.0,0.0,0.0,0.0,0.0,0.0,0.0,0.0,0.0,0.0,0.0,0.0,0.0,0.0,0.0,0.0,0.0,0.0,0.0,0.0,0.0,0.0,0.0,0.0,0.0,0.0,0.0,0.0,0.0,0.0,0.0,0.0,0.0,0.0,0.0,0.0,0.0,0.0,0.0,0.0,0.0,0.0,0.0,13.69533399,13.52795898,13.44010215,13.38406894,13.34083211,13.30567164,13.2780491,13.25075994,13.22648557,13.20302639,13.18145672,13.16008393,13.13942128,13.11995436,13.10029245,0.0,0.0,0.0,0.0,0.0,0.0,0.0,0.0,0.0,0.0,0.0,0.0,0.0,0.0,0.0,0.0,0.0,0.0,0.0,0.0,0.0,0.0,0.0,0.0,0.0,0.0,0.0,0.0,0.0,0.0,0.0,0.0,0.0,0.0,0.0,0.0,0.0,0.0,0.0,0.0,0.0,0.0,0.0,0.0,0.0,0.0,0.0,0.0,0.0,0.0,0.0],\"yaxis\":\"y\",\"type\":\"scattergl\"},{\"hovertemplate\":\"variable=WOPR:WP4(bbl/day)<br>Date=%{x}<br>value=%{y}<extra></extra>\",\"legendgroup\":\"WOPR:WP4(bbl/day)\",\"line\":{\"color\":\"#FFA15A\",\"dash\":\"solid\"},\"marker\":{\"symbol\":\"circle\"},\"mode\":\"lines\",\"name\":\"WOPR:WP4(bbl/day)\",\"showlegend\":true,\"x\":[\"1-Jan-12\",\"1-Feb-12\",\"1-Mar-12\",\"1-Apr-12\",\"1-May-12\",\"1-Jun-12\",\"1-Jul-12\",\"1-Aug-12\",\"1-Sep-12\",\"1-Oct-12\",\"1-Nov-12\",\"1-Dec-12\",\"1-Jan-13\",\"1-Feb-13\",\"1-Mar-13\",\"1-Apr-13\",\"1-May-13\",\"1-Jun-13\",\"1-Jul-13\",\"1-Aug-13\",\"1-Sep-13\",\"1-Oct-13\",\"1-Nov-13\",\"1-Dec-13\",\"1-Jan-14\",\"1-Feb-14\",\"1-Mar-14\",\"1-Apr-14\",\"1-May-14\",\"1-Jun-14\",\"1-Jul-14\",\"1-Aug-14\",\"1-Sep-14\",\"1-Oct-14\",\"1-Nov-14\",\"1-Dec-14\",\"1-Jan-15\",\"1-Feb-15\",\"1-Mar-15\",\"1-Apr-15\",\"1-May-15\",\"1-Jun-15\",\"1-Jul-15\",\"1-Aug-15\",\"1-Sep-15\",\"1-Oct-15\",\"1-Nov-15\",\"1-Dec-15\",\"1-Jan-16\",\"1-Feb-16\",\"1-Mar-16\",\"1-Apr-16\",\"1-May-16\",\"1-Jun-16\",\"1-Jul-16\",\"1-Aug-16\",\"1-Sep-16\",\"1-Oct-16\",\"1-Nov-16\",\"1-Dec-16\",\"1-Jan-17\",\"1-Feb-17\",\"1-Mar-17\",\"1-Apr-17\",\"1-May-17\",\"1-Jun-17\",\"1-Jul-17\",\"1-Aug-17\",\"1-Sep-17\",\"1-Oct-17\",\"1-Nov-17\",\"1-Dec-17\",\"1-Jan-18\",\"1-Feb-18\",\"1-Mar-18\",\"1-Apr-18\",\"1-May-18\",\"1-Jun-18\",\"1-Jul-18\",\"1-Aug-18\",\"1-Sep-18\",\"1-Oct-18\",\"1-Nov-18\",\"1-Dec-18\",\"1-Jan-19\",\"1-Feb-19\",\"1-Mar-19\",\"1-Apr-19\",\"1-May-19\",\"1-Jun-19\",\"1-Jul-19\",\"1-Aug-19\",\"1-Sep-19\",\"1-Oct-19\",\"1-Nov-19\",\"1-Dec-19\",\"1-Jan-20\",\"1-Feb-20\",\"1-Mar-20\",\"1-Apr-20\",\"1-May-20\",\"1-Jun-20\",\"1-Jul-20\",\"1-Aug-20\",\"1-Sep-20\",\"1-Oct-20\",\"1-Nov-20\",\"1-Dec-20\",\"1-Jan-21\",\"1-Feb-21\",\"1-Mar-21\",\"1-Apr-21\",\"1-May-21\",\"1-Jun-21\",\"1-Jul-21\",\"1-Aug-21\",\"1-Sep-21\",\"1-Oct-21\",\"1-Nov-21\",\"1-Dec-21\",\"1-Jan-22\"],\"xaxis\":\"x\",\"y\":[0.0,0.0,0.0,0.0,0.0,0.0,0.0,0.0,0.0,0.0,0.0,0.0,0.0,0.0,0.0,0.0,0.0,0.0,0.0,0.0,0.0,0.0,0.0,0.0,0.0,0.0,0.0,0.0,0.0,0.0,0.0,0.0,0.0,0.0,0.0,0.0,0.0,0.0,0.0,0.0,0.0,0.0,0.0,0.0,0.0,0.0,0.0,0.0,0.0,0.0,0.0,0.0,0.0,0.0,0.0,0.0,0.0,0.0,0.0,0.0,0.0,0.0,0.0,0.0,0.0,0.0,0.0,0.0,0.0,0.0,0.0,0.0,0.0,0.0,0.0,0.0,0.0,0.0,0.0,0.0,0.0,0.0,0.0,0.0,0.0,0.0,0.0,0.0,420.4759328,408.762852,398.0835265,376.6665608,360.0735597,345.4158343,332.6321453,320.4803748,309.1743388,299.2213195,289.2034504,280.0225978,271.0349489,262.7589758,254.6186716,246.8556983,239.6693859,232.5645793,225.9717976,219.4389973,213.1671628,207.6947496,201.8591329,196.4122445,190.9867295,185.920254,180.8704219,176.8135102,173.387668,170.0613902,166.9328512,163.7574956,163.7574956],\"yaxis\":\"y\",\"type\":\"scattergl\"},{\"hovertemplate\":\"variable=WOPR:WP40(bbl/day)<br>Date=%{x}<br>value=%{y}<extra></extra>\",\"legendgroup\":\"WOPR:WP40(bbl/day)\",\"line\":{\"color\":\"#19d3f3\",\"dash\":\"solid\"},\"marker\":{\"symbol\":\"circle\"},\"mode\":\"lines\",\"name\":\"WOPR:WP40(bbl/day)\",\"showlegend\":true,\"x\":[\"1-Jan-12\",\"1-Feb-12\",\"1-Mar-12\",\"1-Apr-12\",\"1-May-12\",\"1-Jun-12\",\"1-Jul-12\",\"1-Aug-12\",\"1-Sep-12\",\"1-Oct-12\",\"1-Nov-12\",\"1-Dec-12\",\"1-Jan-13\",\"1-Feb-13\",\"1-Mar-13\",\"1-Apr-13\",\"1-May-13\",\"1-Jun-13\",\"1-Jul-13\",\"1-Aug-13\",\"1-Sep-13\",\"1-Oct-13\",\"1-Nov-13\",\"1-Dec-13\",\"1-Jan-14\",\"1-Feb-14\",\"1-Mar-14\",\"1-Apr-14\",\"1-May-14\",\"1-Jun-14\",\"1-Jul-14\",\"1-Aug-14\",\"1-Sep-14\",\"1-Oct-14\",\"1-Nov-14\",\"1-Dec-14\",\"1-Jan-15\",\"1-Feb-15\",\"1-Mar-15\",\"1-Apr-15\",\"1-May-15\",\"1-Jun-15\",\"1-Jul-15\",\"1-Aug-15\",\"1-Sep-15\",\"1-Oct-15\",\"1-Nov-15\",\"1-Dec-15\",\"1-Jan-16\",\"1-Feb-16\",\"1-Mar-16\",\"1-Apr-16\",\"1-May-16\",\"1-Jun-16\",\"1-Jul-16\",\"1-Aug-16\",\"1-Sep-16\",\"1-Oct-16\",\"1-Nov-16\",\"1-Dec-16\",\"1-Jan-17\",\"1-Feb-17\",\"1-Mar-17\",\"1-Apr-17\",\"1-May-17\",\"1-Jun-17\",\"1-Jul-17\",\"1-Aug-17\",\"1-Sep-17\",\"1-Oct-17\",\"1-Nov-17\",\"1-Dec-17\",\"1-Jan-18\",\"1-Feb-18\",\"1-Mar-18\",\"1-Apr-18\",\"1-May-18\",\"1-Jun-18\",\"1-Jul-18\",\"1-Aug-18\",\"1-Sep-18\",\"1-Oct-18\",\"1-Nov-18\",\"1-Dec-18\",\"1-Jan-19\",\"1-Feb-19\",\"1-Mar-19\",\"1-Apr-19\",\"1-May-19\",\"1-Jun-19\",\"1-Jul-19\",\"1-Aug-19\",\"1-Sep-19\",\"1-Oct-19\",\"1-Nov-19\",\"1-Dec-19\",\"1-Jan-20\",\"1-Feb-20\",\"1-Mar-20\",\"1-Apr-20\",\"1-May-20\",\"1-Jun-20\",\"1-Jul-20\",\"1-Aug-20\",\"1-Sep-20\",\"1-Oct-20\",\"1-Nov-20\",\"1-Dec-20\",\"1-Jan-21\",\"1-Feb-21\",\"1-Mar-21\",\"1-Apr-21\",\"1-May-21\",\"1-Jun-21\",\"1-Jul-21\",\"1-Aug-21\",\"1-Sep-21\",\"1-Oct-21\",\"1-Nov-21\",\"1-Dec-21\",\"1-Jan-22\"],\"xaxis\":\"x\",\"y\":[0.0,0.0,0.0,0.0,0.0,0.0,0.0,0.0,0.0,0.0,0.0,0.0,0.0,0.0,0.0,0.0,0.0,0.0,0.0,0.0,0.0,0.0,0.0,0.0,0.0,0.0,0.0,0.0,0.0,0.0,0.0,0.0,0.0,0.0,0.0,0.0,0.0,0.0,0.0,0.0,0.0,0.0,0.0,0.0,0.0,0.0,0.0,0.0,0.0,0.0,0.0,0.0,0.0,0.0,0.0,0.0,0.0,0.0,0.0,0.0,0.0,0.0,0.0,0.0,0.0,0.0,0.0,0.0,0.0,0.0,0.0,0.0,0.0,0.0,0.0,0.0,0.0,0.0,0.0,0.0,0.0,0.0,0.0,0.0,0.0,0.0,0.0,0.0,0.0,0.0,0.0,0.0,0.0,0.0,0.0,0.0,0.0,0.0,0.0,0.0,0.0,0.0,0.0,0.0,0.0,0.0,0.0,0.0,0.0,0.0,0.0,0.0,0.0,0.0,0.0,0.0,0.0,0.0,0.0,49.51812375,49.51812375],\"yaxis\":\"y\",\"type\":\"scattergl\"},{\"hovertemplate\":\"variable=WOPR:WP41(bbl/day)<br>Date=%{x}<br>value=%{y}<extra></extra>\",\"legendgroup\":\"WOPR:WP41(bbl/day)\",\"line\":{\"color\":\"#FF6692\",\"dash\":\"solid\"},\"marker\":{\"symbol\":\"circle\"},\"mode\":\"lines\",\"name\":\"WOPR:WP41(bbl/day)\",\"showlegend\":true,\"x\":[\"1-Jan-12\",\"1-Feb-12\",\"1-Mar-12\",\"1-Apr-12\",\"1-May-12\",\"1-Jun-12\",\"1-Jul-12\",\"1-Aug-12\",\"1-Sep-12\",\"1-Oct-12\",\"1-Nov-12\",\"1-Dec-12\",\"1-Jan-13\",\"1-Feb-13\",\"1-Mar-13\",\"1-Apr-13\",\"1-May-13\",\"1-Jun-13\",\"1-Jul-13\",\"1-Aug-13\",\"1-Sep-13\",\"1-Oct-13\",\"1-Nov-13\",\"1-Dec-13\",\"1-Jan-14\",\"1-Feb-14\",\"1-Mar-14\",\"1-Apr-14\",\"1-May-14\",\"1-Jun-14\",\"1-Jul-14\",\"1-Aug-14\",\"1-Sep-14\",\"1-Oct-14\",\"1-Nov-14\",\"1-Dec-14\",\"1-Jan-15\",\"1-Feb-15\",\"1-Mar-15\",\"1-Apr-15\",\"1-May-15\",\"1-Jun-15\",\"1-Jul-15\",\"1-Aug-15\",\"1-Sep-15\",\"1-Oct-15\",\"1-Nov-15\",\"1-Dec-15\",\"1-Jan-16\",\"1-Feb-16\",\"1-Mar-16\",\"1-Apr-16\",\"1-May-16\",\"1-Jun-16\",\"1-Jul-16\",\"1-Aug-16\",\"1-Sep-16\",\"1-Oct-16\",\"1-Nov-16\",\"1-Dec-16\",\"1-Jan-17\",\"1-Feb-17\",\"1-Mar-17\",\"1-Apr-17\",\"1-May-17\",\"1-Jun-17\",\"1-Jul-17\",\"1-Aug-17\",\"1-Sep-17\",\"1-Oct-17\",\"1-Nov-17\",\"1-Dec-17\",\"1-Jan-18\",\"1-Feb-18\",\"1-Mar-18\",\"1-Apr-18\",\"1-May-18\",\"1-Jun-18\",\"1-Jul-18\",\"1-Aug-18\",\"1-Sep-18\",\"1-Oct-18\",\"1-Nov-18\",\"1-Dec-18\",\"1-Jan-19\",\"1-Feb-19\",\"1-Mar-19\",\"1-Apr-19\",\"1-May-19\",\"1-Jun-19\",\"1-Jul-19\",\"1-Aug-19\",\"1-Sep-19\",\"1-Oct-19\",\"1-Nov-19\",\"1-Dec-19\",\"1-Jan-20\",\"1-Feb-20\",\"1-Mar-20\",\"1-Apr-20\",\"1-May-20\",\"1-Jun-20\",\"1-Jul-20\",\"1-Aug-20\",\"1-Sep-20\",\"1-Oct-20\",\"1-Nov-20\",\"1-Dec-20\",\"1-Jan-21\",\"1-Feb-21\",\"1-Mar-21\",\"1-Apr-21\",\"1-May-21\",\"1-Jun-21\",\"1-Jul-21\",\"1-Aug-21\",\"1-Sep-21\",\"1-Oct-21\",\"1-Nov-21\",\"1-Dec-21\",\"1-Jan-22\"],\"xaxis\":\"x\",\"y\":[0.0,0.0,0.0,0.0,0.0,0.0,0.0,0.0,0.0,0.0,0.0,0.0,0.0,0.0,0.0,0.0,0.0,0.0,0.0,0.0,1188.527139,1166.619572,1152.648916,1141.057578,1130.960996,1122.621022,1114.048192,1106.159526,1098.323507,1090.960747,1083.530999,1076.243594,1069.299874,1062.219787,1055.445394,1048.516519,1041.65589,1035.506912,1028.761956,1022.289798,1015.647181,1009.263334,1002.712991,996.2086275,989.9568078,983.5411336,977.3735999,971.0417085,964.7488151,958.8932025,0.0,0.0,0.0,0.0,0.0,0.0,0.0,0.0,0.0,0.0,0.0,0.0,0.0,0.0,0.0,0.0,0.0,0.0,0.0,0.0,0.0,0.0,0.0,0.0,0.0,0.0,0.0,0.0,0.0,0.0,0.0,0.0,0.0,0.0,0.0,0.0,0.0,0.0,0.0,0.0,0.0,0.0,0.0,0.0,0.0,0.0,0.0,0.0,0.0,0.0,0.0,0.0,0.0,0.0,0.0,0.0,0.0,0.0,0.0,0.0,0.0,0.0,0.0,0.0,0.0,0.0,0.0,0.0,0.0,0.0,0.0],\"yaxis\":\"y\",\"type\":\"scattergl\"},{\"hovertemplate\":\"variable=WOPR:WP42(bbl/day)<br>Date=%{x}<br>value=%{y}<extra></extra>\",\"legendgroup\":\"WOPR:WP42(bbl/day)\",\"line\":{\"color\":\"#B6E880\",\"dash\":\"solid\"},\"marker\":{\"symbol\":\"circle\"},\"mode\":\"lines\",\"name\":\"WOPR:WP42(bbl/day)\",\"showlegend\":true,\"x\":[\"1-Jan-12\",\"1-Feb-12\",\"1-Mar-12\",\"1-Apr-12\",\"1-May-12\",\"1-Jun-12\",\"1-Jul-12\",\"1-Aug-12\",\"1-Sep-12\",\"1-Oct-12\",\"1-Nov-12\",\"1-Dec-12\",\"1-Jan-13\",\"1-Feb-13\",\"1-Mar-13\",\"1-Apr-13\",\"1-May-13\",\"1-Jun-13\",\"1-Jul-13\",\"1-Aug-13\",\"1-Sep-13\",\"1-Oct-13\",\"1-Nov-13\",\"1-Dec-13\",\"1-Jan-14\",\"1-Feb-14\",\"1-Mar-14\",\"1-Apr-14\",\"1-May-14\",\"1-Jun-14\",\"1-Jul-14\",\"1-Aug-14\",\"1-Sep-14\",\"1-Oct-14\",\"1-Nov-14\",\"1-Dec-14\",\"1-Jan-15\",\"1-Feb-15\",\"1-Mar-15\",\"1-Apr-15\",\"1-May-15\",\"1-Jun-15\",\"1-Jul-15\",\"1-Aug-15\",\"1-Sep-15\",\"1-Oct-15\",\"1-Nov-15\",\"1-Dec-15\",\"1-Jan-16\",\"1-Feb-16\",\"1-Mar-16\",\"1-Apr-16\",\"1-May-16\",\"1-Jun-16\",\"1-Jul-16\",\"1-Aug-16\",\"1-Sep-16\",\"1-Oct-16\",\"1-Nov-16\",\"1-Dec-16\",\"1-Jan-17\",\"1-Feb-17\",\"1-Mar-17\",\"1-Apr-17\",\"1-May-17\",\"1-Jun-17\",\"1-Jul-17\",\"1-Aug-17\",\"1-Sep-17\",\"1-Oct-17\",\"1-Nov-17\",\"1-Dec-17\",\"1-Jan-18\",\"1-Feb-18\",\"1-Mar-18\",\"1-Apr-18\",\"1-May-18\",\"1-Jun-18\",\"1-Jul-18\",\"1-Aug-18\",\"1-Sep-18\",\"1-Oct-18\",\"1-Nov-18\",\"1-Dec-18\",\"1-Jan-19\",\"1-Feb-19\",\"1-Mar-19\",\"1-Apr-19\",\"1-May-19\",\"1-Jun-19\",\"1-Jul-19\",\"1-Aug-19\",\"1-Sep-19\",\"1-Oct-19\",\"1-Nov-19\",\"1-Dec-19\",\"1-Jan-20\",\"1-Feb-20\",\"1-Mar-20\",\"1-Apr-20\",\"1-May-20\",\"1-Jun-20\",\"1-Jul-20\",\"1-Aug-20\",\"1-Sep-20\",\"1-Oct-20\",\"1-Nov-20\",\"1-Dec-20\",\"1-Jan-21\",\"1-Feb-21\",\"1-Mar-21\",\"1-Apr-21\",\"1-May-21\",\"1-Jun-21\",\"1-Jul-21\",\"1-Aug-21\",\"1-Sep-21\",\"1-Oct-21\",\"1-Nov-21\",\"1-Dec-21\",\"1-Jan-22\"],\"xaxis\":\"x\",\"y\":[0.0,0.0,0.0,0.0,0.0,0.0,0.0,0.0,0.0,0.0,0.0,0.0,0.0,0.0,0.0,0.0,0.0,0.0,0.0,0.0,0.0,0.0,0.0,0.0,0.0,0.0,0.0,0.0,0.0,0.0,0.0,0.0,0.0,0.0,0.0,0.0,0.0,0.0,0.0,0.0,0.0,0.0,0.0,0.0,0.0,0.0,0.0,0.0,0.0,0.0,0.0,0.0,0.0,0.0,0.0,0.0,0.0,0.0,0.0,0.0,0.0,0.0,0.0,0.0,0.0,0.0,0.0,1525.612453,1496.226391,1472.443523,1451.652369,1432.738968,1408.619585,1387.301769,1365.161786,1344.854836,1327.098166,1310.266818,1294.543516,1286.062646,1279.711633,1273.59008,1267.77466,1261.797462,1255.826113,1250.430425,1244.453038,1238.665358,1232.684889,1226.900793,1220.929256,1190.14543,1172.091557,1157.392268,1144.722006,1132.522174,1120.896618,1110.385525,1099.475772,1080.93694,1062.183431,1045.301826,1028.908513,1013.294155,998.7612353,988.8446729,979.6795768,969.9203902,959.9914994,950.9983719,941.1034471,931.628883,921.9726637,912.8191412,903.5331513,894.382019,885.6631355,876.7919711,868.3334936,859.7079537,859.7079537],\"yaxis\":\"y\",\"type\":\"scattergl\"},{\"hovertemplate\":\"variable=WOPR:WP43(bbl/day)<br>Date=%{x}<br>value=%{y}<extra></extra>\",\"legendgroup\":\"WOPR:WP43(bbl/day)\",\"line\":{\"color\":\"#FF97FF\",\"dash\":\"solid\"},\"marker\":{\"symbol\":\"circle\"},\"mode\":\"lines\",\"name\":\"WOPR:WP43(bbl/day)\",\"showlegend\":true,\"x\":[\"1-Jan-12\",\"1-Feb-12\",\"1-Mar-12\",\"1-Apr-12\",\"1-May-12\",\"1-Jun-12\",\"1-Jul-12\",\"1-Aug-12\",\"1-Sep-12\",\"1-Oct-12\",\"1-Nov-12\",\"1-Dec-12\",\"1-Jan-13\",\"1-Feb-13\",\"1-Mar-13\",\"1-Apr-13\",\"1-May-13\",\"1-Jun-13\",\"1-Jul-13\",\"1-Aug-13\",\"1-Sep-13\",\"1-Oct-13\",\"1-Nov-13\",\"1-Dec-13\",\"1-Jan-14\",\"1-Feb-14\",\"1-Mar-14\",\"1-Apr-14\",\"1-May-14\",\"1-Jun-14\",\"1-Jul-14\",\"1-Aug-14\",\"1-Sep-14\",\"1-Oct-14\",\"1-Nov-14\",\"1-Dec-14\",\"1-Jan-15\",\"1-Feb-15\",\"1-Mar-15\",\"1-Apr-15\",\"1-May-15\",\"1-Jun-15\",\"1-Jul-15\",\"1-Aug-15\",\"1-Sep-15\",\"1-Oct-15\",\"1-Nov-15\",\"1-Dec-15\",\"1-Jan-16\",\"1-Feb-16\",\"1-Mar-16\",\"1-Apr-16\",\"1-May-16\",\"1-Jun-16\",\"1-Jul-16\",\"1-Aug-16\",\"1-Sep-16\",\"1-Oct-16\",\"1-Nov-16\",\"1-Dec-16\",\"1-Jan-17\",\"1-Feb-17\",\"1-Mar-17\",\"1-Apr-17\",\"1-May-17\",\"1-Jun-17\",\"1-Jul-17\",\"1-Aug-17\",\"1-Sep-17\",\"1-Oct-17\",\"1-Nov-17\",\"1-Dec-17\",\"1-Jan-18\",\"1-Feb-18\",\"1-Mar-18\",\"1-Apr-18\",\"1-May-18\",\"1-Jun-18\",\"1-Jul-18\",\"1-Aug-18\",\"1-Sep-18\",\"1-Oct-18\",\"1-Nov-18\",\"1-Dec-18\",\"1-Jan-19\",\"1-Feb-19\",\"1-Mar-19\",\"1-Apr-19\",\"1-May-19\",\"1-Jun-19\",\"1-Jul-19\",\"1-Aug-19\",\"1-Sep-19\",\"1-Oct-19\",\"1-Nov-19\",\"1-Dec-19\",\"1-Jan-20\",\"1-Feb-20\",\"1-Mar-20\",\"1-Apr-20\",\"1-May-20\",\"1-Jun-20\",\"1-Jul-20\",\"1-Aug-20\",\"1-Sep-20\",\"1-Oct-20\",\"1-Nov-20\",\"1-Dec-20\",\"1-Jan-21\",\"1-Feb-21\",\"1-Mar-21\",\"1-Apr-21\",\"1-May-21\",\"1-Jun-21\",\"1-Jul-21\",\"1-Aug-21\",\"1-Sep-21\",\"1-Oct-21\",\"1-Nov-21\",\"1-Dec-21\",\"1-Jan-22\"],\"xaxis\":\"x\",\"y\":[0.0,0.0,0.0,0.0,0.0,0.0,0.0,0.0,0.0,0.0,0.0,0.0,0.0,0.0,3576.398644,3493.557142,3428.219704,3372.529931,3322.470589,3279.416482,3237.345629,3200.038255,3168.59096,3139.515434,3112.851118,3090.222025,3066.513946,3044.534673,3022.608551,3001.98427,2981.24463,2960.925729,2941.580645,2921.879485,2903.051313,2883.816808,2864.791696,2847.757936,2829.088713,2811.187373,2792.827932,2775.204107,2757.130924,2739.194989,2721.961962,2704.291716,2687.313056,2669.885039,2652.563134,2636.445575,2629.999142,2623.817582,2616.028235,2607.475847,2597.920708,2587.881428,2577.850199,2567.241988,2556.688815,2545.414682,2533.763023,2522.956677,2510.701996,2498.61249,2485.920591,2473.483751,2460.498361,2444.347025,2427.253384,2388.075993,2353.406708,2307.685579,2261.355766,2221.472763,2179.87737,2141.609262,2103.761766,2068.431591,2033.072607,1998.71279,1960.855293,1922.330741,1886.456355,1850.765889,1816.246935,1785.897937,1753.201951,1719.795572,1684.111773,1649.481675,1614.106149,1575.687898,1536.677129,1495.848236,1456.630275,1416.847912,1378.050563,1342.692397,1306.019684,1271.579041,1237.126635,1204.817484,1172.506823,1141.23678,1111.91626,1082.5797,1055.069252,1027.537545,1000.863228,977.4393933,952.2933571,928.6647834,904.9664536,882.6921169,860.3494708,843.4066639,828.49364,813.2683176,798.5060021,783.2611178,783.2611178],\"yaxis\":\"y\",\"type\":\"scattergl\"},{\"hovertemplate\":\"variable=WOPR:WP44(bbl/day)<br>Date=%{x}<br>value=%{y}<extra></extra>\",\"legendgroup\":\"WOPR:WP44(bbl/day)\",\"line\":{\"color\":\"#FECB52\",\"dash\":\"solid\"},\"marker\":{\"symbol\":\"circle\"},\"mode\":\"lines\",\"name\":\"WOPR:WP44(bbl/day)\",\"showlegend\":true,\"x\":[\"1-Jan-12\",\"1-Feb-12\",\"1-Mar-12\",\"1-Apr-12\",\"1-May-12\",\"1-Jun-12\",\"1-Jul-12\",\"1-Aug-12\",\"1-Sep-12\",\"1-Oct-12\",\"1-Nov-12\",\"1-Dec-12\",\"1-Jan-13\",\"1-Feb-13\",\"1-Mar-13\",\"1-Apr-13\",\"1-May-13\",\"1-Jun-13\",\"1-Jul-13\",\"1-Aug-13\",\"1-Sep-13\",\"1-Oct-13\",\"1-Nov-13\",\"1-Dec-13\",\"1-Jan-14\",\"1-Feb-14\",\"1-Mar-14\",\"1-Apr-14\",\"1-May-14\",\"1-Jun-14\",\"1-Jul-14\",\"1-Aug-14\",\"1-Sep-14\",\"1-Oct-14\",\"1-Nov-14\",\"1-Dec-14\",\"1-Jan-15\",\"1-Feb-15\",\"1-Mar-15\",\"1-Apr-15\",\"1-May-15\",\"1-Jun-15\",\"1-Jul-15\",\"1-Aug-15\",\"1-Sep-15\",\"1-Oct-15\",\"1-Nov-15\",\"1-Dec-15\",\"1-Jan-16\",\"1-Feb-16\",\"1-Mar-16\",\"1-Apr-16\",\"1-May-16\",\"1-Jun-16\",\"1-Jul-16\",\"1-Aug-16\",\"1-Sep-16\",\"1-Oct-16\",\"1-Nov-16\",\"1-Dec-16\",\"1-Jan-17\",\"1-Feb-17\",\"1-Mar-17\",\"1-Apr-17\",\"1-May-17\",\"1-Jun-17\",\"1-Jul-17\",\"1-Aug-17\",\"1-Sep-17\",\"1-Oct-17\",\"1-Nov-17\",\"1-Dec-17\",\"1-Jan-18\",\"1-Feb-18\",\"1-Mar-18\",\"1-Apr-18\",\"1-May-18\",\"1-Jun-18\",\"1-Jul-18\",\"1-Aug-18\",\"1-Sep-18\",\"1-Oct-18\",\"1-Nov-18\",\"1-Dec-18\",\"1-Jan-19\",\"1-Feb-19\",\"1-Mar-19\",\"1-Apr-19\",\"1-May-19\",\"1-Jun-19\",\"1-Jul-19\",\"1-Aug-19\",\"1-Sep-19\",\"1-Oct-19\",\"1-Nov-19\",\"1-Dec-19\",\"1-Jan-20\",\"1-Feb-20\",\"1-Mar-20\",\"1-Apr-20\",\"1-May-20\",\"1-Jun-20\",\"1-Jul-20\",\"1-Aug-20\",\"1-Sep-20\",\"1-Oct-20\",\"1-Nov-20\",\"1-Dec-20\",\"1-Jan-21\",\"1-Feb-21\",\"1-Mar-21\",\"1-Apr-21\",\"1-May-21\",\"1-Jun-21\",\"1-Jul-21\",\"1-Aug-21\",\"1-Sep-21\",\"1-Oct-21\",\"1-Nov-21\",\"1-Dec-21\",\"1-Jan-22\"],\"xaxis\":\"x\",\"y\":[0.0,0.0,0.0,0.0,0.0,0.0,0.0,0.0,0.0,0.0,0.0,0.0,0.0,0.0,0.0,0.0,0.0,0.0,0.0,0.0,0.0,0.0,0.0,0.0,0.0,0.0,0.0,0.0,0.0,0.0,0.0,0.0,0.0,0.0,0.0,0.0,0.0,0.0,0.0,0.0,0.0,0.0,0.0,0.0,0.0,0.0,0.0,0.0,0.0,0.0,0.0,0.0,0.0,0.0,0.0,0.0,0.0,0.0,0.0,0.0,0.0,0.0,0.0,0.0,0.0,0.0,0.0,698.5910504,685.4375282,674.8708314,665.1113303,655.02802,644.8219918,635.555438,625.3439186,615.5773161,605.6526837,596.2212815,586.6624692,577.2908158,563.013497,550.6597169,539.9831526,529.6854036,519.8611218,511.2791213,502.0706745,493.3206241,484.3868176,475.7694987,466.8894465,457.9295806,449.1226622,439.8658894,430.8074591,421.3994306,412.0073347,403.270619,394.0266652,385.1919073,376.2090137,367.6633631,359.0018758,350.5162632,342.4732277,334.3419685,326.6469021,318.8783118,311.2900243,304.5818211,297.331206,290.4761627,283.5591881,277.0223559,270.4299264,264.1566264,258.4219327,252.7994087,247.5814574,242.3755766,242.3755766],\"yaxis\":\"y\",\"type\":\"scattergl\"},{\"hovertemplate\":\"variable=WOPR:WP45(bbl/day)<br>Date=%{x}<br>value=%{y}<extra></extra>\",\"legendgroup\":\"WOPR:WP45(bbl/day)\",\"line\":{\"color\":\"#636efa\",\"dash\":\"solid\"},\"marker\":{\"symbol\":\"circle\"},\"mode\":\"lines\",\"name\":\"WOPR:WP45(bbl/day)\",\"showlegend\":true,\"x\":[\"1-Jan-12\",\"1-Feb-12\",\"1-Mar-12\",\"1-Apr-12\",\"1-May-12\",\"1-Jun-12\",\"1-Jul-12\",\"1-Aug-12\",\"1-Sep-12\",\"1-Oct-12\",\"1-Nov-12\",\"1-Dec-12\",\"1-Jan-13\",\"1-Feb-13\",\"1-Mar-13\",\"1-Apr-13\",\"1-May-13\",\"1-Jun-13\",\"1-Jul-13\",\"1-Aug-13\",\"1-Sep-13\",\"1-Oct-13\",\"1-Nov-13\",\"1-Dec-13\",\"1-Jan-14\",\"1-Feb-14\",\"1-Mar-14\",\"1-Apr-14\",\"1-May-14\",\"1-Jun-14\",\"1-Jul-14\",\"1-Aug-14\",\"1-Sep-14\",\"1-Oct-14\",\"1-Nov-14\",\"1-Dec-14\",\"1-Jan-15\",\"1-Feb-15\",\"1-Mar-15\",\"1-Apr-15\",\"1-May-15\",\"1-Jun-15\",\"1-Jul-15\",\"1-Aug-15\",\"1-Sep-15\",\"1-Oct-15\",\"1-Nov-15\",\"1-Dec-15\",\"1-Jan-16\",\"1-Feb-16\",\"1-Mar-16\",\"1-Apr-16\",\"1-May-16\",\"1-Jun-16\",\"1-Jul-16\",\"1-Aug-16\",\"1-Sep-16\",\"1-Oct-16\",\"1-Nov-16\",\"1-Dec-16\",\"1-Jan-17\",\"1-Feb-17\",\"1-Mar-17\",\"1-Apr-17\",\"1-May-17\",\"1-Jun-17\",\"1-Jul-17\",\"1-Aug-17\",\"1-Sep-17\",\"1-Oct-17\",\"1-Nov-17\",\"1-Dec-17\",\"1-Jan-18\",\"1-Feb-18\",\"1-Mar-18\",\"1-Apr-18\",\"1-May-18\",\"1-Jun-18\",\"1-Jul-18\",\"1-Aug-18\",\"1-Sep-18\",\"1-Oct-18\",\"1-Nov-18\",\"1-Dec-18\",\"1-Jan-19\",\"1-Feb-19\",\"1-Mar-19\",\"1-Apr-19\",\"1-May-19\",\"1-Jun-19\",\"1-Jul-19\",\"1-Aug-19\",\"1-Sep-19\",\"1-Oct-19\",\"1-Nov-19\",\"1-Dec-19\",\"1-Jan-20\",\"1-Feb-20\",\"1-Mar-20\",\"1-Apr-20\",\"1-May-20\",\"1-Jun-20\",\"1-Jul-20\",\"1-Aug-20\",\"1-Sep-20\",\"1-Oct-20\",\"1-Nov-20\",\"1-Dec-20\",\"1-Jan-21\",\"1-Feb-21\",\"1-Mar-21\",\"1-Apr-21\",\"1-May-21\",\"1-Jun-21\",\"1-Jul-21\",\"1-Aug-21\",\"1-Sep-21\",\"1-Oct-21\",\"1-Nov-21\",\"1-Dec-21\",\"1-Jan-22\"],\"xaxis\":\"x\",\"y\":[0.0,0.0,0.0,0.0,0.0,0.0,0.0,0.0,0.0,0.0,0.0,0.0,0.0,0.0,0.0,0.0,0.0,0.0,0.0,0.0,0.0,0.0,0.0,0.0,0.0,0.0,0.0,0.0,0.0,0.0,0.0,0.0,0.0,0.0,0.0,0.0,0.0,0.0,0.0,0.0,0.0,0.0,0.0,0.0,0.0,0.0,0.0,0.0,0.0,0.0,0.0,0.0,0.0,0.0,0.0,0.0,0.0,0.0,0.0,0.0,0.0,0.0,0.0,0.0,0.0,0.0,0.0,0.0,0.0,0.0,0.14864167,0.14684739,0.145856646,0.145254932,0.144772665,0.144409015,0.144104749,0.143857212,0.143637943,0.143446413,0.143281558,0.143128837,0.142994747,0.142868506,0.142752789,0.142655816,0.142556541,0.142467236,0.14238139,0.142303759,0.142228801,0.142158642,0.142094861,0.142032987,0.141976622,0.14192183,0.141870233,0.141824599,0.1417786,0.141736539,0.141695534,0.141657996,0.141621369,0.141586774,0.141555079,0.141524151,0.141495808,0.141468138,0.141441985,0.141419536,0.141396068,0.141374575,0.141353591,0.141334375,0.141315631,0.141297937,0.141281747,0.141265965,0.141251542,0.141237484,0.141237484],\"yaxis\":\"y\",\"type\":\"scattergl\"},{\"hovertemplate\":\"variable=WOPR:WP46(bbl/day)<br>Date=%{x}<br>value=%{y}<extra></extra>\",\"legendgroup\":\"WOPR:WP46(bbl/day)\",\"line\":{\"color\":\"#EF553B\",\"dash\":\"solid\"},\"marker\":{\"symbol\":\"circle\"},\"mode\":\"lines\",\"name\":\"WOPR:WP46(bbl/day)\",\"showlegend\":true,\"x\":[\"1-Jan-12\",\"1-Feb-12\",\"1-Mar-12\",\"1-Apr-12\",\"1-May-12\",\"1-Jun-12\",\"1-Jul-12\",\"1-Aug-12\",\"1-Sep-12\",\"1-Oct-12\",\"1-Nov-12\",\"1-Dec-12\",\"1-Jan-13\",\"1-Feb-13\",\"1-Mar-13\",\"1-Apr-13\",\"1-May-13\",\"1-Jun-13\",\"1-Jul-13\",\"1-Aug-13\",\"1-Sep-13\",\"1-Oct-13\",\"1-Nov-13\",\"1-Dec-13\",\"1-Jan-14\",\"1-Feb-14\",\"1-Mar-14\",\"1-Apr-14\",\"1-May-14\",\"1-Jun-14\",\"1-Jul-14\",\"1-Aug-14\",\"1-Sep-14\",\"1-Oct-14\",\"1-Nov-14\",\"1-Dec-14\",\"1-Jan-15\",\"1-Feb-15\",\"1-Mar-15\",\"1-Apr-15\",\"1-May-15\",\"1-Jun-15\",\"1-Jul-15\",\"1-Aug-15\",\"1-Sep-15\",\"1-Oct-15\",\"1-Nov-15\",\"1-Dec-15\",\"1-Jan-16\",\"1-Feb-16\",\"1-Mar-16\",\"1-Apr-16\",\"1-May-16\",\"1-Jun-16\",\"1-Jul-16\",\"1-Aug-16\",\"1-Sep-16\",\"1-Oct-16\",\"1-Nov-16\",\"1-Dec-16\",\"1-Jan-17\",\"1-Feb-17\",\"1-Mar-17\",\"1-Apr-17\",\"1-May-17\",\"1-Jun-17\",\"1-Jul-17\",\"1-Aug-17\",\"1-Sep-17\",\"1-Oct-17\",\"1-Nov-17\",\"1-Dec-17\",\"1-Jan-18\",\"1-Feb-18\",\"1-Mar-18\",\"1-Apr-18\",\"1-May-18\",\"1-Jun-18\",\"1-Jul-18\",\"1-Aug-18\",\"1-Sep-18\",\"1-Oct-18\",\"1-Nov-18\",\"1-Dec-18\",\"1-Jan-19\",\"1-Feb-19\",\"1-Mar-19\",\"1-Apr-19\",\"1-May-19\",\"1-Jun-19\",\"1-Jul-19\",\"1-Aug-19\",\"1-Sep-19\",\"1-Oct-19\",\"1-Nov-19\",\"1-Dec-19\",\"1-Jan-20\",\"1-Feb-20\",\"1-Mar-20\",\"1-Apr-20\",\"1-May-20\",\"1-Jun-20\",\"1-Jul-20\",\"1-Aug-20\",\"1-Sep-20\",\"1-Oct-20\",\"1-Nov-20\",\"1-Dec-20\",\"1-Jan-21\",\"1-Feb-21\",\"1-Mar-21\",\"1-Apr-21\",\"1-May-21\",\"1-Jun-21\",\"1-Jul-21\",\"1-Aug-21\",\"1-Sep-21\",\"1-Oct-21\",\"1-Nov-21\",\"1-Dec-21\",\"1-Jan-22\"],\"xaxis\":\"x\",\"y\":[0.0,0.0,0.0,0.0,0.0,0.0,0.0,0.0,0.0,0.0,0.0,0.0,0.0,0.0,0.0,0.0,0.0,0.0,0.0,0.0,0.0,0.0,0.0,0.0,0.0,0.0,0.0,0.0,0.0,0.0,0.0,0.0,0.0,0.0,0.0,0.0,0.0,0.0,0.0,0.0,0.0,0.0,0.0,0.0,0.0,0.0,0.0,0.0,0.0,0.0,0.0,0.0,0.0,0.0,0.0,0.0,0.0,0.0,0.0,0.0,0.0,0.0,0.0,0.0,0.0,0.0,0.0,0.0,0.0,0.0,0.0,0.0,0.0,0.0,0.0,0.0,0.0,0.0,0.0,0.0,0.0,0.0,0.0,0.0,0.0,0.0,0.0,0.0,0.0,0.0,0.0,0.0,0.0,0.0,0.0,0.0,0.0,0.0,0.0,1441.033779,1407.980521,1382.227311,1358.252662,1335.84699,1315.231578,1299.48255,1285.634109,1271.689996,1257.950561,1245.705252,1232.362023,1219.654084,1206.73845,1194.465025,1182.079197,1169.904902,1158.309413,1146.518933,1135.28166,1123.836187,1123.836187],\"yaxis\":\"y\",\"type\":\"scattergl\"},{\"hovertemplate\":\"variable=WOPR:WP47(bbl/day)<br>Date=%{x}<br>value=%{y}<extra></extra>\",\"legendgroup\":\"WOPR:WP47(bbl/day)\",\"line\":{\"color\":\"#00cc96\",\"dash\":\"solid\"},\"marker\":{\"symbol\":\"circle\"},\"mode\":\"lines\",\"name\":\"WOPR:WP47(bbl/day)\",\"showlegend\":true,\"x\":[\"1-Jan-12\",\"1-Feb-12\",\"1-Mar-12\",\"1-Apr-12\",\"1-May-12\",\"1-Jun-12\",\"1-Jul-12\",\"1-Aug-12\",\"1-Sep-12\",\"1-Oct-12\",\"1-Nov-12\",\"1-Dec-12\",\"1-Jan-13\",\"1-Feb-13\",\"1-Mar-13\",\"1-Apr-13\",\"1-May-13\",\"1-Jun-13\",\"1-Jul-13\",\"1-Aug-13\",\"1-Sep-13\",\"1-Oct-13\",\"1-Nov-13\",\"1-Dec-13\",\"1-Jan-14\",\"1-Feb-14\",\"1-Mar-14\",\"1-Apr-14\",\"1-May-14\",\"1-Jun-14\",\"1-Jul-14\",\"1-Aug-14\",\"1-Sep-14\",\"1-Oct-14\",\"1-Nov-14\",\"1-Dec-14\",\"1-Jan-15\",\"1-Feb-15\",\"1-Mar-15\",\"1-Apr-15\",\"1-May-15\",\"1-Jun-15\",\"1-Jul-15\",\"1-Aug-15\",\"1-Sep-15\",\"1-Oct-15\",\"1-Nov-15\",\"1-Dec-15\",\"1-Jan-16\",\"1-Feb-16\",\"1-Mar-16\",\"1-Apr-16\",\"1-May-16\",\"1-Jun-16\",\"1-Jul-16\",\"1-Aug-16\",\"1-Sep-16\",\"1-Oct-16\",\"1-Nov-16\",\"1-Dec-16\",\"1-Jan-17\",\"1-Feb-17\",\"1-Mar-17\",\"1-Apr-17\",\"1-May-17\",\"1-Jun-17\",\"1-Jul-17\",\"1-Aug-17\",\"1-Sep-17\",\"1-Oct-17\",\"1-Nov-17\",\"1-Dec-17\",\"1-Jan-18\",\"1-Feb-18\",\"1-Mar-18\",\"1-Apr-18\",\"1-May-18\",\"1-Jun-18\",\"1-Jul-18\",\"1-Aug-18\",\"1-Sep-18\",\"1-Oct-18\",\"1-Nov-18\",\"1-Dec-18\",\"1-Jan-19\",\"1-Feb-19\",\"1-Mar-19\",\"1-Apr-19\",\"1-May-19\",\"1-Jun-19\",\"1-Jul-19\",\"1-Aug-19\",\"1-Sep-19\",\"1-Oct-19\",\"1-Nov-19\",\"1-Dec-19\",\"1-Jan-20\",\"1-Feb-20\",\"1-Mar-20\",\"1-Apr-20\",\"1-May-20\",\"1-Jun-20\",\"1-Jul-20\",\"1-Aug-20\",\"1-Sep-20\",\"1-Oct-20\",\"1-Nov-20\",\"1-Dec-20\",\"1-Jan-21\",\"1-Feb-21\",\"1-Mar-21\",\"1-Apr-21\",\"1-May-21\",\"1-Jun-21\",\"1-Jul-21\",\"1-Aug-21\",\"1-Sep-21\",\"1-Oct-21\",\"1-Nov-21\",\"1-Dec-21\",\"1-Jan-22\"],\"xaxis\":\"x\",\"y\":[0.0,0.0,0.0,0.0,0.0,0.0,0.0,0.0,0.0,0.0,0.0,0.0,0.0,0.0,0.0,0.0,0.0,0.0,0.0,0.0,0.0,0.0,0.0,0.0,0.0,0.0,0.0,0.0,0.0,0.0,0.0,0.0,0.0,0.0,0.0,0.0,0.0,0.0,0.0,0.0,0.0,0.0,0.0,0.0,0.0,0.0,0.0,0.0,0.0,0.0,0.0,0.0,0.0,0.0,0.0,0.0,0.0,0.0,0.0,0.0,0.0,0.0,0.0,0.0,0.0,0.0,0.0,0.0,0.0,0.0,0.0,0.0,0.0,0.0,0.0,0.0,0.0,0.0,0.0,0.0,0.0,0.0,0.0,0.0,0.0,0.0,0.0,0.0,0.0,0.0,0.0,1454.967513,1431.777352,1413.637684,1398.063519,1383.07275,1368.785707,1355.866613,1342.457403,1313.096689,1287.650997,1266.00434,1245.421447,1226.001198,1208.01966,1195.633895,1184.21679,1172.17339,1160.005637,1149.027574,1136.97996,1125.461334,1113.72822,1102.56781,1091.299652,1080.202331,1069.630665,1058.876023,1048.622946,1038.169784,1038.169784],\"yaxis\":\"y\",\"type\":\"scattergl\"},{\"hovertemplate\":\"variable=WOPR:WP48(bbl/day)<br>Date=%{x}<br>value=%{y}<extra></extra>\",\"legendgroup\":\"WOPR:WP48(bbl/day)\",\"line\":{\"color\":\"#ab63fa\",\"dash\":\"solid\"},\"marker\":{\"symbol\":\"circle\"},\"mode\":\"lines\",\"name\":\"WOPR:WP48(bbl/day)\",\"showlegend\":true,\"x\":[\"1-Jan-12\",\"1-Feb-12\",\"1-Mar-12\",\"1-Apr-12\",\"1-May-12\",\"1-Jun-12\",\"1-Jul-12\",\"1-Aug-12\",\"1-Sep-12\",\"1-Oct-12\",\"1-Nov-12\",\"1-Dec-12\",\"1-Jan-13\",\"1-Feb-13\",\"1-Mar-13\",\"1-Apr-13\",\"1-May-13\",\"1-Jun-13\",\"1-Jul-13\",\"1-Aug-13\",\"1-Sep-13\",\"1-Oct-13\",\"1-Nov-13\",\"1-Dec-13\",\"1-Jan-14\",\"1-Feb-14\",\"1-Mar-14\",\"1-Apr-14\",\"1-May-14\",\"1-Jun-14\",\"1-Jul-14\",\"1-Aug-14\",\"1-Sep-14\",\"1-Oct-14\",\"1-Nov-14\",\"1-Dec-14\",\"1-Jan-15\",\"1-Feb-15\",\"1-Mar-15\",\"1-Apr-15\",\"1-May-15\",\"1-Jun-15\",\"1-Jul-15\",\"1-Aug-15\",\"1-Sep-15\",\"1-Oct-15\",\"1-Nov-15\",\"1-Dec-15\",\"1-Jan-16\",\"1-Feb-16\",\"1-Mar-16\",\"1-Apr-16\",\"1-May-16\",\"1-Jun-16\",\"1-Jul-16\",\"1-Aug-16\",\"1-Sep-16\",\"1-Oct-16\",\"1-Nov-16\",\"1-Dec-16\",\"1-Jan-17\",\"1-Feb-17\",\"1-Mar-17\",\"1-Apr-17\",\"1-May-17\",\"1-Jun-17\",\"1-Jul-17\",\"1-Aug-17\",\"1-Sep-17\",\"1-Oct-17\",\"1-Nov-17\",\"1-Dec-17\",\"1-Jan-18\",\"1-Feb-18\",\"1-Mar-18\",\"1-Apr-18\",\"1-May-18\",\"1-Jun-18\",\"1-Jul-18\",\"1-Aug-18\",\"1-Sep-18\",\"1-Oct-18\",\"1-Nov-18\",\"1-Dec-18\",\"1-Jan-19\",\"1-Feb-19\",\"1-Mar-19\",\"1-Apr-19\",\"1-May-19\",\"1-Jun-19\",\"1-Jul-19\",\"1-Aug-19\",\"1-Sep-19\",\"1-Oct-19\",\"1-Nov-19\",\"1-Dec-19\",\"1-Jan-20\",\"1-Feb-20\",\"1-Mar-20\",\"1-Apr-20\",\"1-May-20\",\"1-Jun-20\",\"1-Jul-20\",\"1-Aug-20\",\"1-Sep-20\",\"1-Oct-20\",\"1-Nov-20\",\"1-Dec-20\",\"1-Jan-21\",\"1-Feb-21\",\"1-Mar-21\",\"1-Apr-21\",\"1-May-21\",\"1-Jun-21\",\"1-Jul-21\",\"1-Aug-21\",\"1-Sep-21\",\"1-Oct-21\",\"1-Nov-21\",\"1-Dec-21\",\"1-Jan-22\"],\"xaxis\":\"x\",\"y\":[0.0,0.0,0.0,0.0,0.0,0.0,0.0,0.0,0.0,0.0,0.0,0.0,0.0,0.0,0.0,0.0,0.0,0.0,0.0,0.0,0.0,0.0,0.0,0.0,0.0,0.0,0.0,0.0,0.0,0.0,0.0,0.0,0.0,0.0,0.0,0.0,0.0,0.0,0.0,0.0,0.0,0.0,0.0,0.0,0.0,0.0,0.0,0.0,0.0,0.0,0.0,0.0,0.0,0.0,0.0,0.0,0.0,0.0,676.0684474,667.2176626,660.0618441,654.2000673,648.1271981,642.5450118,637.0144035,631.8483636,626.6858335,620.9564361,615.0331179,608.5894155,602.1068786,595.202094,588.1424999,581.6692282,574.4128263,567.3299529,559.9704768,552.8280497,545.440929,538.0635956,530.8505255,523.2992862,515.9235378,508.2689223,500.6139294,493.7160009,486.1180206,478.8065749,471.2999631,464.0814207,456.665171,449.283422,442.1686395,434.8336315,427.743034,420.4176748,413.098071,406.2544755,398.9486657,391.8899585,384.6204105,377.6120862,370.4530787,363.3623869,356.54609,349.5539876,342.8446899,335.977356,329.1813884,323.1037136,316.4551899,310.0985096,303.6161677,297.4273046,291.1236742,284.9214448,279.0270418,273.0613982,267.409676,261.7014444,261.7014444],\"yaxis\":\"y\",\"type\":\"scattergl\"},{\"hovertemplate\":\"variable=WOPR:WP49(bbl/day)<br>Date=%{x}<br>value=%{y}<extra></extra>\",\"legendgroup\":\"WOPR:WP49(bbl/day)\",\"line\":{\"color\":\"#FFA15A\",\"dash\":\"solid\"},\"marker\":{\"symbol\":\"circle\"},\"mode\":\"lines\",\"name\":\"WOPR:WP49(bbl/day)\",\"showlegend\":true,\"x\":[\"1-Jan-12\",\"1-Feb-12\",\"1-Mar-12\",\"1-Apr-12\",\"1-May-12\",\"1-Jun-12\",\"1-Jul-12\",\"1-Aug-12\",\"1-Sep-12\",\"1-Oct-12\",\"1-Nov-12\",\"1-Dec-12\",\"1-Jan-13\",\"1-Feb-13\",\"1-Mar-13\",\"1-Apr-13\",\"1-May-13\",\"1-Jun-13\",\"1-Jul-13\",\"1-Aug-13\",\"1-Sep-13\",\"1-Oct-13\",\"1-Nov-13\",\"1-Dec-13\",\"1-Jan-14\",\"1-Feb-14\",\"1-Mar-14\",\"1-Apr-14\",\"1-May-14\",\"1-Jun-14\",\"1-Jul-14\",\"1-Aug-14\",\"1-Sep-14\",\"1-Oct-14\",\"1-Nov-14\",\"1-Dec-14\",\"1-Jan-15\",\"1-Feb-15\",\"1-Mar-15\",\"1-Apr-15\",\"1-May-15\",\"1-Jun-15\",\"1-Jul-15\",\"1-Aug-15\",\"1-Sep-15\",\"1-Oct-15\",\"1-Nov-15\",\"1-Dec-15\",\"1-Jan-16\",\"1-Feb-16\",\"1-Mar-16\",\"1-Apr-16\",\"1-May-16\",\"1-Jun-16\",\"1-Jul-16\",\"1-Aug-16\",\"1-Sep-16\",\"1-Oct-16\",\"1-Nov-16\",\"1-Dec-16\",\"1-Jan-17\",\"1-Feb-17\",\"1-Mar-17\",\"1-Apr-17\",\"1-May-17\",\"1-Jun-17\",\"1-Jul-17\",\"1-Aug-17\",\"1-Sep-17\",\"1-Oct-17\",\"1-Nov-17\",\"1-Dec-17\",\"1-Jan-18\",\"1-Feb-18\",\"1-Mar-18\",\"1-Apr-18\",\"1-May-18\",\"1-Jun-18\",\"1-Jul-18\",\"1-Aug-18\",\"1-Sep-18\",\"1-Oct-18\",\"1-Nov-18\",\"1-Dec-18\",\"1-Jan-19\",\"1-Feb-19\",\"1-Mar-19\",\"1-Apr-19\",\"1-May-19\",\"1-Jun-19\",\"1-Jul-19\",\"1-Aug-19\",\"1-Sep-19\",\"1-Oct-19\",\"1-Nov-19\",\"1-Dec-19\",\"1-Jan-20\",\"1-Feb-20\",\"1-Mar-20\",\"1-Apr-20\",\"1-May-20\",\"1-Jun-20\",\"1-Jul-20\",\"1-Aug-20\",\"1-Sep-20\",\"1-Oct-20\",\"1-Nov-20\",\"1-Dec-20\",\"1-Jan-21\",\"1-Feb-21\",\"1-Mar-21\",\"1-Apr-21\",\"1-May-21\",\"1-Jun-21\",\"1-Jul-21\",\"1-Aug-21\",\"1-Sep-21\",\"1-Oct-21\",\"1-Nov-21\",\"1-Dec-21\",\"1-Jan-22\"],\"xaxis\":\"x\",\"y\":[0.0,0.0,0.0,0.0,0.0,0.0,0.0,0.0,0.0,0.0,0.0,0.0,0.0,0.0,0.0,0.0,0.0,0.0,0.0,0.0,0.0,0.0,0.0,0.0,0.0,0.0,0.0,0.0,0.0,0.0,0.0,0.0,0.0,0.0,0.0,0.0,0.0,0.0,0.0,0.0,0.0,0.0,0.0,0.0,0.0,0.0,0.0,0.0,0.0,0.0,0.0,0.0,0.0,0.0,0.0,0.0,0.0,0.0,0.0,0.0,0.0,0.0,0.0,0.0,0.0,0.0,0.0,512.6785268,501.5093486,493.5005307,486.8291176,480.4147329,474.2270901,468.7358634,462.7171952,456.9234007,450.9577068,445.2005767,439.267855,433.3561985,427.6067926,421.6116363,415.7639491,409.6936463,403.6175817,398.1366015,392.0921568,386.2700762,380.2894813,374.53727,368.6278717,362.7481746,357.0847907,351.2522184,345.6199071,339.8066073,334.0012707,328.5897573,322.8198836,317.246887,311.5054442,305.9667596,300.2814676,294.6366329,289.2047461,283.6269943,278.2700214,272.7814115,267.3437882,262.4766806,257.147107,252.0470177,246.8406526,241.866269,236.7955918,231.7988221,227.0415882,222.2163279,217.6364594,213.0024843,213.0024843],\"yaxis\":\"y\",\"type\":\"scattergl\"},{\"hovertemplate\":\"variable=WOPR:WP5(bbl/day)<br>Date=%{x}<br>value=%{y}<extra></extra>\",\"legendgroup\":\"WOPR:WP5(bbl/day)\",\"line\":{\"color\":\"#19d3f3\",\"dash\":\"solid\"},\"marker\":{\"symbol\":\"circle\"},\"mode\":\"lines\",\"name\":\"WOPR:WP5(bbl/day)\",\"showlegend\":true,\"x\":[\"1-Jan-12\",\"1-Feb-12\",\"1-Mar-12\",\"1-Apr-12\",\"1-May-12\",\"1-Jun-12\",\"1-Jul-12\",\"1-Aug-12\",\"1-Sep-12\",\"1-Oct-12\",\"1-Nov-12\",\"1-Dec-12\",\"1-Jan-13\",\"1-Feb-13\",\"1-Mar-13\",\"1-Apr-13\",\"1-May-13\",\"1-Jun-13\",\"1-Jul-13\",\"1-Aug-13\",\"1-Sep-13\",\"1-Oct-13\",\"1-Nov-13\",\"1-Dec-13\",\"1-Jan-14\",\"1-Feb-14\",\"1-Mar-14\",\"1-Apr-14\",\"1-May-14\",\"1-Jun-14\",\"1-Jul-14\",\"1-Aug-14\",\"1-Sep-14\",\"1-Oct-14\",\"1-Nov-14\",\"1-Dec-14\",\"1-Jan-15\",\"1-Feb-15\",\"1-Mar-15\",\"1-Apr-15\",\"1-May-15\",\"1-Jun-15\",\"1-Jul-15\",\"1-Aug-15\",\"1-Sep-15\",\"1-Oct-15\",\"1-Nov-15\",\"1-Dec-15\",\"1-Jan-16\",\"1-Feb-16\",\"1-Mar-16\",\"1-Apr-16\",\"1-May-16\",\"1-Jun-16\",\"1-Jul-16\",\"1-Aug-16\",\"1-Sep-16\",\"1-Oct-16\",\"1-Nov-16\",\"1-Dec-16\",\"1-Jan-17\",\"1-Feb-17\",\"1-Mar-17\",\"1-Apr-17\",\"1-May-17\",\"1-Jun-17\",\"1-Jul-17\",\"1-Aug-17\",\"1-Sep-17\",\"1-Oct-17\",\"1-Nov-17\",\"1-Dec-17\",\"1-Jan-18\",\"1-Feb-18\",\"1-Mar-18\",\"1-Apr-18\",\"1-May-18\",\"1-Jun-18\",\"1-Jul-18\",\"1-Aug-18\",\"1-Sep-18\",\"1-Oct-18\",\"1-Nov-18\",\"1-Dec-18\",\"1-Jan-19\",\"1-Feb-19\",\"1-Mar-19\",\"1-Apr-19\",\"1-May-19\",\"1-Jun-19\",\"1-Jul-19\",\"1-Aug-19\",\"1-Sep-19\",\"1-Oct-19\",\"1-Nov-19\",\"1-Dec-19\",\"1-Jan-20\",\"1-Feb-20\",\"1-Mar-20\",\"1-Apr-20\",\"1-May-20\",\"1-Jun-20\",\"1-Jul-20\",\"1-Aug-20\",\"1-Sep-20\",\"1-Oct-20\",\"1-Nov-20\",\"1-Dec-20\",\"1-Jan-21\",\"1-Feb-21\",\"1-Mar-21\",\"1-Apr-21\",\"1-May-21\",\"1-Jun-21\",\"1-Jul-21\",\"1-Aug-21\",\"1-Sep-21\",\"1-Oct-21\",\"1-Nov-21\",\"1-Dec-21\",\"1-Jan-22\"],\"xaxis\":\"x\",\"y\":[0.0,0.0,0.0,0.0,0.0,0.0,0.0,0.0,0.0,0.0,0.0,0.0,0.0,0.0,0.0,0.0,0.0,0.0,0.0,0.0,0.0,0.0,0.0,0.0,0.0,0.0,0.0,0.0,0.0,0.0,0.0,0.0,0.0,0.0,0.0,0.0,0.0,0.0,0.0,0.0,0.0,0.0,0.0,0.0,19.81721047,19.66317529,19.52989396,19.39685984,19.26611401,19.1451831,19.01757913,18.89600097,18.77276981,18.65589909,18.53770999,18.42197399,18.31213235,18.20079809,18.04352922,17.86466867,17.68726425,17.53210694,17.36732529,17.21435186,17.06293458,16.92179515,16.7808438,16.63942825,16.49832279,16.34461595,16.18754081,16.01702017,15.8397252,15.67513036,15.4886369,15.30511042,15.11313585,14.92585173,14.7313058,14.53632586,14.34609928,14.14721829,13.95272205,13.75032432,13.54730765,13.3639183,13.16144257,12.96625821,12.76560595,12.57248974,12.37397105,12.17632038,11.98581452,11.7894684,11.59972803,11.4037549,11.20794532,11.02485348,10.82934644,10.64038604,10.4456816,10.25787227,10.06465605,9.872460694,9.688687022,9.500497141,9.320249643,9.135621789,8.952778408,8.789159783,8.610054549,8.438707401,8.263854836,8.096835208,7.926624663,7.758984841,7.599480505,7.437834424,7.284527625,7.129533219,7.129533219],\"yaxis\":\"y\",\"type\":\"scattergl\"},{\"hovertemplate\":\"variable=WOPR:WP6(bbl/day)<br>Date=%{x}<br>value=%{y}<extra></extra>\",\"legendgroup\":\"WOPR:WP6(bbl/day)\",\"line\":{\"color\":\"#FF6692\",\"dash\":\"solid\"},\"marker\":{\"symbol\":\"circle\"},\"mode\":\"lines\",\"name\":\"WOPR:WP6(bbl/day)\",\"showlegend\":true,\"x\":[\"1-Jan-12\",\"1-Feb-12\",\"1-Mar-12\",\"1-Apr-12\",\"1-May-12\",\"1-Jun-12\",\"1-Jul-12\",\"1-Aug-12\",\"1-Sep-12\",\"1-Oct-12\",\"1-Nov-12\",\"1-Dec-12\",\"1-Jan-13\",\"1-Feb-13\",\"1-Mar-13\",\"1-Apr-13\",\"1-May-13\",\"1-Jun-13\",\"1-Jul-13\",\"1-Aug-13\",\"1-Sep-13\",\"1-Oct-13\",\"1-Nov-13\",\"1-Dec-13\",\"1-Jan-14\",\"1-Feb-14\",\"1-Mar-14\",\"1-Apr-14\",\"1-May-14\",\"1-Jun-14\",\"1-Jul-14\",\"1-Aug-14\",\"1-Sep-14\",\"1-Oct-14\",\"1-Nov-14\",\"1-Dec-14\",\"1-Jan-15\",\"1-Feb-15\",\"1-Mar-15\",\"1-Apr-15\",\"1-May-15\",\"1-Jun-15\",\"1-Jul-15\",\"1-Aug-15\",\"1-Sep-15\",\"1-Oct-15\",\"1-Nov-15\",\"1-Dec-15\",\"1-Jan-16\",\"1-Feb-16\",\"1-Mar-16\",\"1-Apr-16\",\"1-May-16\",\"1-Jun-16\",\"1-Jul-16\",\"1-Aug-16\",\"1-Sep-16\",\"1-Oct-16\",\"1-Nov-16\",\"1-Dec-16\",\"1-Jan-17\",\"1-Feb-17\",\"1-Mar-17\",\"1-Apr-17\",\"1-May-17\",\"1-Jun-17\",\"1-Jul-17\",\"1-Aug-17\",\"1-Sep-17\",\"1-Oct-17\",\"1-Nov-17\",\"1-Dec-17\",\"1-Jan-18\",\"1-Feb-18\",\"1-Mar-18\",\"1-Apr-18\",\"1-May-18\",\"1-Jun-18\",\"1-Jul-18\",\"1-Aug-18\",\"1-Sep-18\",\"1-Oct-18\",\"1-Nov-18\",\"1-Dec-18\",\"1-Jan-19\",\"1-Feb-19\",\"1-Mar-19\",\"1-Apr-19\",\"1-May-19\",\"1-Jun-19\",\"1-Jul-19\",\"1-Aug-19\",\"1-Sep-19\",\"1-Oct-19\",\"1-Nov-19\",\"1-Dec-19\",\"1-Jan-20\",\"1-Feb-20\",\"1-Mar-20\",\"1-Apr-20\",\"1-May-20\",\"1-Jun-20\",\"1-Jul-20\",\"1-Aug-20\",\"1-Sep-20\",\"1-Oct-20\",\"1-Nov-20\",\"1-Dec-20\",\"1-Jan-21\",\"1-Feb-21\",\"1-Mar-21\",\"1-Apr-21\",\"1-May-21\",\"1-Jun-21\",\"1-Jul-21\",\"1-Aug-21\",\"1-Sep-21\",\"1-Oct-21\",\"1-Nov-21\",\"1-Dec-21\",\"1-Jan-22\"],\"xaxis\":\"x\",\"y\":[0.0,0.0,0.0,0.0,0.0,0.0,0.0,0.0,0.0,0.0,0.0,0.0,0.0,0.0,0.0,0.0,0.0,0.0,0.0,0.0,0.0,0.0,0.0,0.0,0.0,0.0,0.0,0.0,0.0,0.0,0.0,0.0,0.0,0.0,0.0,0.0,0.0,0.0,0.0,0.0,0.0,0.0,0.0,0.0,0.0,0.0,0.0,0.0,0.0,0.0,0.0,0.0,0.0,0.0,0.0,0.0,0.0,0.0,0.0,0.0,0.0,0.0,0.0,0.0,0.0,0.0,0.0,0.0,0.0,0.0,0.0,0.0,0.0,0.0,0.0,0.0,0.0,0.0,0.0,0.0,0.0,0.0,0.0,0.0,0.0,0.0,0.0,0.0,0.0,0.0,0.0,1611.39346,1540.12581,1477.60667,1422.801837,1370.593139,1321.995026,1279.223781,1236.195589,1196.784525,1158.223994,1122.733424,1087.84053,1054.577689,1023.796253,993.3726552,965.1487333,937.1888027,910.3508194,886.9225193,861.940086,838.6302895,815.4200637,793.7513911,772.1596452,754.1650874,738.8352881,724.0970633,710.403922,696.6425342,696.6425342],\"yaxis\":\"y\",\"type\":\"scattergl\"},{\"hovertemplate\":\"variable=WOPR:WP7(bbl/day)<br>Date=%{x}<br>value=%{y}<extra></extra>\",\"legendgroup\":\"WOPR:WP7(bbl/day)\",\"line\":{\"color\":\"#B6E880\",\"dash\":\"solid\"},\"marker\":{\"symbol\":\"circle\"},\"mode\":\"lines\",\"name\":\"WOPR:WP7(bbl/day)\",\"showlegend\":true,\"x\":[\"1-Jan-12\",\"1-Feb-12\",\"1-Mar-12\",\"1-Apr-12\",\"1-May-12\",\"1-Jun-12\",\"1-Jul-12\",\"1-Aug-12\",\"1-Sep-12\",\"1-Oct-12\",\"1-Nov-12\",\"1-Dec-12\",\"1-Jan-13\",\"1-Feb-13\",\"1-Mar-13\",\"1-Apr-13\",\"1-May-13\",\"1-Jun-13\",\"1-Jul-13\",\"1-Aug-13\",\"1-Sep-13\",\"1-Oct-13\",\"1-Nov-13\",\"1-Dec-13\",\"1-Jan-14\",\"1-Feb-14\",\"1-Mar-14\",\"1-Apr-14\",\"1-May-14\",\"1-Jun-14\",\"1-Jul-14\",\"1-Aug-14\",\"1-Sep-14\",\"1-Oct-14\",\"1-Nov-14\",\"1-Dec-14\",\"1-Jan-15\",\"1-Feb-15\",\"1-Mar-15\",\"1-Apr-15\",\"1-May-15\",\"1-Jun-15\",\"1-Jul-15\",\"1-Aug-15\",\"1-Sep-15\",\"1-Oct-15\",\"1-Nov-15\",\"1-Dec-15\",\"1-Jan-16\",\"1-Feb-16\",\"1-Mar-16\",\"1-Apr-16\",\"1-May-16\",\"1-Jun-16\",\"1-Jul-16\",\"1-Aug-16\",\"1-Sep-16\",\"1-Oct-16\",\"1-Nov-16\",\"1-Dec-16\",\"1-Jan-17\",\"1-Feb-17\",\"1-Mar-17\",\"1-Apr-17\",\"1-May-17\",\"1-Jun-17\",\"1-Jul-17\",\"1-Aug-17\",\"1-Sep-17\",\"1-Oct-17\",\"1-Nov-17\",\"1-Dec-17\",\"1-Jan-18\",\"1-Feb-18\",\"1-Mar-18\",\"1-Apr-18\",\"1-May-18\",\"1-Jun-18\",\"1-Jul-18\",\"1-Aug-18\",\"1-Sep-18\",\"1-Oct-18\",\"1-Nov-18\",\"1-Dec-18\",\"1-Jan-19\",\"1-Feb-19\",\"1-Mar-19\",\"1-Apr-19\",\"1-May-19\",\"1-Jun-19\",\"1-Jul-19\",\"1-Aug-19\",\"1-Sep-19\",\"1-Oct-19\",\"1-Nov-19\",\"1-Dec-19\",\"1-Jan-20\",\"1-Feb-20\",\"1-Mar-20\",\"1-Apr-20\",\"1-May-20\",\"1-Jun-20\",\"1-Jul-20\",\"1-Aug-20\",\"1-Sep-20\",\"1-Oct-20\",\"1-Nov-20\",\"1-Dec-20\",\"1-Jan-21\",\"1-Feb-21\",\"1-Mar-21\",\"1-Apr-21\",\"1-May-21\",\"1-Jun-21\",\"1-Jul-21\",\"1-Aug-21\",\"1-Sep-21\",\"1-Oct-21\",\"1-Nov-21\",\"1-Dec-21\",\"1-Jan-22\"],\"xaxis\":\"x\",\"y\":[0.0,0.0,0.0,0.0,0.0,0.0,0.0,0.0,0.0,0.0,0.0,0.0,0.0,0.0,0.0,0.0,0.0,0.0,0.0,0.0,0.0,0.0,0.0,0.0,0.0,0.0,0.0,0.0,0.0,0.0,0.0,0.0,0.0,0.0,0.0,0.0,0.0,0.0,0.0,0.0,0.0,0.0,0.0,0.0,0.0,0.0,0.0,0.0,0.0,0.0,0.0,0.0,0.0,0.0,0.0,0.0,0.0,0.0,0.0,0.0,0.0,0.0,0.0,0.0,0.0,0.0,0.0,0.0,0.0,0.0,0.0,0.0,0.0,0.0,0.0,0.0,0.0,0.0,0.0,0.0,0.0,0.0,0.0,0.0,0.0,0.0,0.0,0.0,0.0,0.0,0.0,0.0,0.0,0.0,0.0,0.0,0.0,0.0,0.0,0.0,0.0,0.0,0.0,0.0,0.0,0.0,0.0,0.0,0.0,6.854248853,6.644356585,6.45807509,6.274752285,6.104423237,5.935167136,5.776630202,5.635710049,5.502796247,5.383982487,5.269145077,5.269145077],\"yaxis\":\"y\",\"type\":\"scattergl\"},{\"hovertemplate\":\"variable=WOPR:WP8(bbl/day)<br>Date=%{x}<br>value=%{y}<extra></extra>\",\"legendgroup\":\"WOPR:WP8(bbl/day)\",\"line\":{\"color\":\"#FF97FF\",\"dash\":\"solid\"},\"marker\":{\"symbol\":\"circle\"},\"mode\":\"lines\",\"name\":\"WOPR:WP8(bbl/day)\",\"showlegend\":true,\"x\":[\"1-Jan-12\",\"1-Feb-12\",\"1-Mar-12\",\"1-Apr-12\",\"1-May-12\",\"1-Jun-12\",\"1-Jul-12\",\"1-Aug-12\",\"1-Sep-12\",\"1-Oct-12\",\"1-Nov-12\",\"1-Dec-12\",\"1-Jan-13\",\"1-Feb-13\",\"1-Mar-13\",\"1-Apr-13\",\"1-May-13\",\"1-Jun-13\",\"1-Jul-13\",\"1-Aug-13\",\"1-Sep-13\",\"1-Oct-13\",\"1-Nov-13\",\"1-Dec-13\",\"1-Jan-14\",\"1-Feb-14\",\"1-Mar-14\",\"1-Apr-14\",\"1-May-14\",\"1-Jun-14\",\"1-Jul-14\",\"1-Aug-14\",\"1-Sep-14\",\"1-Oct-14\",\"1-Nov-14\",\"1-Dec-14\",\"1-Jan-15\",\"1-Feb-15\",\"1-Mar-15\",\"1-Apr-15\",\"1-May-15\",\"1-Jun-15\",\"1-Jul-15\",\"1-Aug-15\",\"1-Sep-15\",\"1-Oct-15\",\"1-Nov-15\",\"1-Dec-15\",\"1-Jan-16\",\"1-Feb-16\",\"1-Mar-16\",\"1-Apr-16\",\"1-May-16\",\"1-Jun-16\",\"1-Jul-16\",\"1-Aug-16\",\"1-Sep-16\",\"1-Oct-16\",\"1-Nov-16\",\"1-Dec-16\",\"1-Jan-17\",\"1-Feb-17\",\"1-Mar-17\",\"1-Apr-17\",\"1-May-17\",\"1-Jun-17\",\"1-Jul-17\",\"1-Aug-17\",\"1-Sep-17\",\"1-Oct-17\",\"1-Nov-17\",\"1-Dec-17\",\"1-Jan-18\",\"1-Feb-18\",\"1-Mar-18\",\"1-Apr-18\",\"1-May-18\",\"1-Jun-18\",\"1-Jul-18\",\"1-Aug-18\",\"1-Sep-18\",\"1-Oct-18\",\"1-Nov-18\",\"1-Dec-18\",\"1-Jan-19\",\"1-Feb-19\",\"1-Mar-19\",\"1-Apr-19\",\"1-May-19\",\"1-Jun-19\",\"1-Jul-19\",\"1-Aug-19\",\"1-Sep-19\",\"1-Oct-19\",\"1-Nov-19\",\"1-Dec-19\",\"1-Jan-20\",\"1-Feb-20\",\"1-Mar-20\",\"1-Apr-20\",\"1-May-20\",\"1-Jun-20\",\"1-Jul-20\",\"1-Aug-20\",\"1-Sep-20\",\"1-Oct-20\",\"1-Nov-20\",\"1-Dec-20\",\"1-Jan-21\",\"1-Feb-21\",\"1-Mar-21\",\"1-Apr-21\",\"1-May-21\",\"1-Jun-21\",\"1-Jul-21\",\"1-Aug-21\",\"1-Sep-21\",\"1-Oct-21\",\"1-Nov-21\",\"1-Dec-21\",\"1-Jan-22\"],\"xaxis\":\"x\",\"y\":[0.0,0.0,0.0,0.0,0.0,0.0,0.0,0.0,0.0,0.0,0.0,0.0,0.0,0.0,13.38587606,13.3212916,13.28467499,13.26023834,13.24098528,13.22527978,13.21224438,13.2003676,13.18996143,13.18008487,13.17089455,13.16305595,13.15484373,13.14726931,13.1397861,13.13282433,13.12589778,13.11920899,13.11293786,13.10665415,13.10074218,13.09479939,13.08900756,13.08389379,13.07836614,13.07313223,13.06783982,13.06282229,13.05774123,13.0527564,13.04802066,13.04321258,13.03863912,13.03399144,13.0294205,13.0252062,13.02077049,13.01653984,13.01223119,13.00811816,13.00392461,12.99978894,12.99583567,12.99180316,12.98794613,12.98400922,12.98011759,12.97664048,12.97283377,12.96918872,0.0,0.0,0.0,0.0,0.0,0.0,0.0,0.0,0.0,0.0,0.0,0.0,0.0,0.0,0.0,0.0,0.0,0.0,0.0,0.0,0.0,0.0,0.0,0.0,0.0,0.0,0.0,0.0,0.0,0.0,0.0,0.0,0.0,0.0,0.0,0.0,0.0,0.0,0.0,0.0,0.0,0.0,0.0,0.0,0.0,0.0,0.0,0.0,0.0,0.0,0.0,0.0,0.0,0.0,0.0,0.0,0.0],\"yaxis\":\"y\",\"type\":\"scattergl\"},{\"hovertemplate\":\"variable=WOPR:WP9(bbl/day)<br>Date=%{x}<br>value=%{y}<extra></extra>\",\"legendgroup\":\"WOPR:WP9(bbl/day)\",\"line\":{\"color\":\"#FECB52\",\"dash\":\"solid\"},\"marker\":{\"symbol\":\"circle\"},\"mode\":\"lines\",\"name\":\"WOPR:WP9(bbl/day)\",\"showlegend\":true,\"x\":[\"1-Jan-12\",\"1-Feb-12\",\"1-Mar-12\",\"1-Apr-12\",\"1-May-12\",\"1-Jun-12\",\"1-Jul-12\",\"1-Aug-12\",\"1-Sep-12\",\"1-Oct-12\",\"1-Nov-12\",\"1-Dec-12\",\"1-Jan-13\",\"1-Feb-13\",\"1-Mar-13\",\"1-Apr-13\",\"1-May-13\",\"1-Jun-13\",\"1-Jul-13\",\"1-Aug-13\",\"1-Sep-13\",\"1-Oct-13\",\"1-Nov-13\",\"1-Dec-13\",\"1-Jan-14\",\"1-Feb-14\",\"1-Mar-14\",\"1-Apr-14\",\"1-May-14\",\"1-Jun-14\",\"1-Jul-14\",\"1-Aug-14\",\"1-Sep-14\",\"1-Oct-14\",\"1-Nov-14\",\"1-Dec-14\",\"1-Jan-15\",\"1-Feb-15\",\"1-Mar-15\",\"1-Apr-15\",\"1-May-15\",\"1-Jun-15\",\"1-Jul-15\",\"1-Aug-15\",\"1-Sep-15\",\"1-Oct-15\",\"1-Nov-15\",\"1-Dec-15\",\"1-Jan-16\",\"1-Feb-16\",\"1-Mar-16\",\"1-Apr-16\",\"1-May-16\",\"1-Jun-16\",\"1-Jul-16\",\"1-Aug-16\",\"1-Sep-16\",\"1-Oct-16\",\"1-Nov-16\",\"1-Dec-16\",\"1-Jan-17\",\"1-Feb-17\",\"1-Mar-17\",\"1-Apr-17\",\"1-May-17\",\"1-Jun-17\",\"1-Jul-17\",\"1-Aug-17\",\"1-Sep-17\",\"1-Oct-17\",\"1-Nov-17\",\"1-Dec-17\",\"1-Jan-18\",\"1-Feb-18\",\"1-Mar-18\",\"1-Apr-18\",\"1-May-18\",\"1-Jun-18\",\"1-Jul-18\",\"1-Aug-18\",\"1-Sep-18\",\"1-Oct-18\",\"1-Nov-18\",\"1-Dec-18\",\"1-Jan-19\",\"1-Feb-19\",\"1-Mar-19\",\"1-Apr-19\",\"1-May-19\",\"1-Jun-19\",\"1-Jul-19\",\"1-Aug-19\",\"1-Sep-19\",\"1-Oct-19\",\"1-Nov-19\",\"1-Dec-19\",\"1-Jan-20\",\"1-Feb-20\",\"1-Mar-20\",\"1-Apr-20\",\"1-May-20\",\"1-Jun-20\",\"1-Jul-20\",\"1-Aug-20\",\"1-Sep-20\",\"1-Oct-20\",\"1-Nov-20\",\"1-Dec-20\",\"1-Jan-21\",\"1-Feb-21\",\"1-Mar-21\",\"1-Apr-21\",\"1-May-21\",\"1-Jun-21\",\"1-Jul-21\",\"1-Aug-21\",\"1-Sep-21\",\"1-Oct-21\",\"1-Nov-21\",\"1-Dec-21\",\"1-Jan-22\"],\"xaxis\":\"x\",\"y\":[0.0,0.0,0.0,0.0,7.598605566,7.567801549,7.535837656,7.490851576,7.437667739,7.377551064,7.31754698,7.255267803,7.193513212,7.138459987,7.059283983,6.966900866,6.863211474,6.761136096,6.661316941,6.571286913,6.499373972,6.436806084,6.38255106,6.33040067,6.280917366,6.237912573,6.191991673,6.148871018,6.105489832,6.064437958,6.022855586,5.981984047,5.943002086,5.903250796,5.865218814,5.826335481,5.787823257,5.753327073,5.715466871,5.679122056,5.641877016,5.606116291,5.569549879,5.533498995,5.498969852,0.0,0.0,0.0,0.0,0.0,0.0,0.0,0.0,0.0,0.0,0.0,0.0,0.0,0.0,0.0,0.0,0.0,0.0,0.0,0.0,0.0,0.0,0.0,0.0,0.0,0.0,0.0,0.0,0.0,0.0,0.0,0.0,0.0,0.0,0.0,0.0,0.0,0.0,0.0,0.0,0.0,0.0,0.0,0.0,0.0,0.0,0.0,0.0,0.0,0.0,0.0,0.0,0.0,0.0,0.0,0.0,0.0,0.0,0.0,0.0,0.0,0.0,0.0,0.0,0.0,0.0,0.0,0.0,0.0,0.0,0.0,0.0,0.0,0.0,0.0,0.0],\"yaxis\":\"y\",\"type\":\"scattergl\"},{\"hovertemplate\":\"variable=Total<br>Date=%{x}<br>value=%{y}<extra></extra>\",\"legendgroup\":\"Total\",\"line\":{\"color\":\"#636efa\",\"dash\":\"solid\"},\"marker\":{\"symbol\":\"circle\"},\"mode\":\"lines\",\"name\":\"Total\",\"showlegend\":true,\"x\":[\"1-Jan-12\",\"1-Feb-12\",\"1-Mar-12\",\"1-Apr-12\",\"1-May-12\",\"1-Jun-12\",\"1-Jul-12\",\"1-Aug-12\",\"1-Sep-12\",\"1-Oct-12\",\"1-Nov-12\",\"1-Dec-12\",\"1-Jan-13\",\"1-Feb-13\",\"1-Mar-13\",\"1-Apr-13\",\"1-May-13\",\"1-Jun-13\",\"1-Jul-13\",\"1-Aug-13\",\"1-Sep-13\",\"1-Oct-13\",\"1-Nov-13\",\"1-Dec-13\",\"1-Jan-14\",\"1-Feb-14\",\"1-Mar-14\",\"1-Apr-14\",\"1-May-14\",\"1-Jun-14\",\"1-Jul-14\",\"1-Aug-14\",\"1-Sep-14\",\"1-Oct-14\",\"1-Nov-14\",\"1-Dec-14\",\"1-Jan-15\",\"1-Feb-15\",\"1-Mar-15\",\"1-Apr-15\",\"1-May-15\",\"1-Jun-15\",\"1-Jul-15\",\"1-Aug-15\",\"1-Sep-15\",\"1-Oct-15\",\"1-Nov-15\",\"1-Dec-15\",\"1-Jan-16\",\"1-Feb-16\",\"1-Mar-16\",\"1-Apr-16\",\"1-May-16\",\"1-Jun-16\",\"1-Jul-16\",\"1-Aug-16\",\"1-Sep-16\",\"1-Oct-16\",\"1-Nov-16\",\"1-Dec-16\",\"1-Jan-17\",\"1-Feb-17\",\"1-Mar-17\",\"1-Apr-17\",\"1-May-17\",\"1-Jun-17\",\"1-Jul-17\",\"1-Aug-17\",\"1-Sep-17\",\"1-Oct-17\",\"1-Nov-17\",\"1-Dec-17\",\"1-Jan-18\",\"1-Feb-18\",\"1-Mar-18\",\"1-Apr-18\",\"1-May-18\",\"1-Jun-18\",\"1-Jul-18\",\"1-Aug-18\",\"1-Sep-18\",\"1-Oct-18\",\"1-Nov-18\",\"1-Dec-18\",\"1-Jan-19\",\"1-Feb-19\",\"1-Mar-19\",\"1-Apr-19\",\"1-May-19\",\"1-Jun-19\",\"1-Jul-19\",\"1-Aug-19\",\"1-Sep-19\",\"1-Oct-19\",\"1-Nov-19\",\"1-Dec-19\",\"1-Jan-20\",\"1-Feb-20\",\"1-Mar-20\",\"1-Apr-20\",\"1-May-20\",\"1-Jun-20\",\"1-Jul-20\",\"1-Aug-20\",\"1-Sep-20\",\"1-Oct-20\",\"1-Nov-20\",\"1-Dec-20\",\"1-Jan-21\",\"1-Feb-21\",\"1-Mar-21\",\"1-Apr-21\",\"1-May-21\",\"1-Jun-21\",\"1-Jul-21\",\"1-Aug-21\",\"1-Sep-21\",\"1-Oct-21\",\"1-Nov-21\",\"1-Dec-21\",\"1-Jan-22\"],\"xaxis\":\"x\",\"y\":[381.691951897,344.603662661,340.549643173,3821.070871407,3717.0770143930004,3643.750543029,3583.5409647779998,5006.796222629,4925.363607274,4850.677304166001,4784.5986249259995,4721.710425128999,4663.347464528,4613.811738443001,8140.282042380999,7992.989708601001,7860.214100465,7739.414488491,4930.97429386,4878.671480373,4767.5417335560005,4707.400451478,4661.143237114,6626.789746409,6515.908230974001,6452.182106716,6395.862843267,6347.874728443001,6302.418423994,6261.057427841,6667.292687176,6632.304584660999,6592.873976159,6553.0991033010005,6515.329530681001,6476.962153303,7126.783168067001,7088.184598409,7043.1349889640005,8406.47873058,8342.721790077,8313.217714703998,8259.83920311,8208.05841451,8178.835813767999,8123.417252986,8075.815412166,8027.251912938,7979.229381069999,8444.678571486,7448.1221755569995,7413.1185518990005,7376.20013784,7760.095110783,7679.114654010999,7629.987647258,7572.396901981,7515.020653451999,8176.183401094,8111.969902813,8050.280007236999,7995.731883769001,7936.429457973999,7889.3235663199985,7818.783003723001,7763.861252458001,7707.898647533999,10490.734478525,10359.075457633,11706.118191151998,11533.458827112003,12902.068041629,13674.068206769998,13452.401793515999,13228.911036542002,13024.249229546998,12536.429806738,12357.086642292,10987.015709868,9572.062174452,10090.067200632999,9936.123208476998,9800.313135245999,9666.164363841002,9495.668620060002,9379.101675506,9266.179139022002,9768.193656619003,10029.035296312,9869.092671765999,9709.550150415998,12559.899239369,12267.007406149,11988.551275184998,11732.451096588,11216.568331246004,10973.476440319,10753.890471514998,10527.465586904997,11759.482275573999,11485.694153973,11237.515717598002,10993.232127148,10758.855801455,10540.083794074,9634.630196383001,9456.358531068001,9276.785391352001,9101.611480271,8953.815671635999,8786.224142846999,8630.909304364,8335.79077507,8186.376085031,8036.2056262470005,7265.444493741,7162.21164391,7057.489525286999,6957.513723135001,8523.540722705,8523.540722705],\"yaxis\":\"y\",\"type\":\"scattergl\"}],                        {\"template\":{\"data\":{\"bar\":[{\"error_x\":{\"color\":\"#2a3f5f\"},\"error_y\":{\"color\":\"#2a3f5f\"},\"marker\":{\"line\":{\"color\":\"#E5ECF6\",\"width\":0.5},\"pattern\":{\"fillmode\":\"overlay\",\"size\":10,\"solidity\":0.2}},\"type\":\"bar\"}],\"barpolar\":[{\"marker\":{\"line\":{\"color\":\"#E5ECF6\",\"width\":0.5},\"pattern\":{\"fillmode\":\"overlay\",\"size\":10,\"solidity\":0.2}},\"type\":\"barpolar\"}],\"carpet\":[{\"aaxis\":{\"endlinecolor\":\"#2a3f5f\",\"gridcolor\":\"white\",\"linecolor\":\"white\",\"minorgridcolor\":\"white\",\"startlinecolor\":\"#2a3f5f\"},\"baxis\":{\"endlinecolor\":\"#2a3f5f\",\"gridcolor\":\"white\",\"linecolor\":\"white\",\"minorgridcolor\":\"white\",\"startlinecolor\":\"#2a3f5f\"},\"type\":\"carpet\"}],\"choropleth\":[{\"colorbar\":{\"outlinewidth\":0,\"ticks\":\"\"},\"type\":\"choropleth\"}],\"contour\":[{\"colorbar\":{\"outlinewidth\":0,\"ticks\":\"\"},\"colorscale\":[[0.0,\"#0d0887\"],[0.1111111111111111,\"#46039f\"],[0.2222222222222222,\"#7201a8\"],[0.3333333333333333,\"#9c179e\"],[0.4444444444444444,\"#bd3786\"],[0.5555555555555556,\"#d8576b\"],[0.6666666666666666,\"#ed7953\"],[0.7777777777777778,\"#fb9f3a\"],[0.8888888888888888,\"#fdca26\"],[1.0,\"#f0f921\"]],\"type\":\"contour\"}],\"contourcarpet\":[{\"colorbar\":{\"outlinewidth\":0,\"ticks\":\"\"},\"type\":\"contourcarpet\"}],\"heatmap\":[{\"colorbar\":{\"outlinewidth\":0,\"ticks\":\"\"},\"colorscale\":[[0.0,\"#0d0887\"],[0.1111111111111111,\"#46039f\"],[0.2222222222222222,\"#7201a8\"],[0.3333333333333333,\"#9c179e\"],[0.4444444444444444,\"#bd3786\"],[0.5555555555555556,\"#d8576b\"],[0.6666666666666666,\"#ed7953\"],[0.7777777777777778,\"#fb9f3a\"],[0.8888888888888888,\"#fdca26\"],[1.0,\"#f0f921\"]],\"type\":\"heatmap\"}],\"heatmapgl\":[{\"colorbar\":{\"outlinewidth\":0,\"ticks\":\"\"},\"colorscale\":[[0.0,\"#0d0887\"],[0.1111111111111111,\"#46039f\"],[0.2222222222222222,\"#7201a8\"],[0.3333333333333333,\"#9c179e\"],[0.4444444444444444,\"#bd3786\"],[0.5555555555555556,\"#d8576b\"],[0.6666666666666666,\"#ed7953\"],[0.7777777777777778,\"#fb9f3a\"],[0.8888888888888888,\"#fdca26\"],[1.0,\"#f0f921\"]],\"type\":\"heatmapgl\"}],\"histogram\":[{\"marker\":{\"pattern\":{\"fillmode\":\"overlay\",\"size\":10,\"solidity\":0.2}},\"type\":\"histogram\"}],\"histogram2d\":[{\"colorbar\":{\"outlinewidth\":0,\"ticks\":\"\"},\"colorscale\":[[0.0,\"#0d0887\"],[0.1111111111111111,\"#46039f\"],[0.2222222222222222,\"#7201a8\"],[0.3333333333333333,\"#9c179e\"],[0.4444444444444444,\"#bd3786\"],[0.5555555555555556,\"#d8576b\"],[0.6666666666666666,\"#ed7953\"],[0.7777777777777778,\"#fb9f3a\"],[0.8888888888888888,\"#fdca26\"],[1.0,\"#f0f921\"]],\"type\":\"histogram2d\"}],\"histogram2dcontour\":[{\"colorbar\":{\"outlinewidth\":0,\"ticks\":\"\"},\"colorscale\":[[0.0,\"#0d0887\"],[0.1111111111111111,\"#46039f\"],[0.2222222222222222,\"#7201a8\"],[0.3333333333333333,\"#9c179e\"],[0.4444444444444444,\"#bd3786\"],[0.5555555555555556,\"#d8576b\"],[0.6666666666666666,\"#ed7953\"],[0.7777777777777778,\"#fb9f3a\"],[0.8888888888888888,\"#fdca26\"],[1.0,\"#f0f921\"]],\"type\":\"histogram2dcontour\"}],\"mesh3d\":[{\"colorbar\":{\"outlinewidth\":0,\"ticks\":\"\"},\"type\":\"mesh3d\"}],\"parcoords\":[{\"line\":{\"colorbar\":{\"outlinewidth\":0,\"ticks\":\"\"}},\"type\":\"parcoords\"}],\"pie\":[{\"automargin\":true,\"type\":\"pie\"}],\"scatter\":[{\"marker\":{\"colorbar\":{\"outlinewidth\":0,\"ticks\":\"\"}},\"type\":\"scatter\"}],\"scatter3d\":[{\"line\":{\"colorbar\":{\"outlinewidth\":0,\"ticks\":\"\"}},\"marker\":{\"colorbar\":{\"outlinewidth\":0,\"ticks\":\"\"}},\"type\":\"scatter3d\"}],\"scattercarpet\":[{\"marker\":{\"colorbar\":{\"outlinewidth\":0,\"ticks\":\"\"}},\"type\":\"scattercarpet\"}],\"scattergeo\":[{\"marker\":{\"colorbar\":{\"outlinewidth\":0,\"ticks\":\"\"}},\"type\":\"scattergeo\"}],\"scattergl\":[{\"marker\":{\"colorbar\":{\"outlinewidth\":0,\"ticks\":\"\"}},\"type\":\"scattergl\"}],\"scattermapbox\":[{\"marker\":{\"colorbar\":{\"outlinewidth\":0,\"ticks\":\"\"}},\"type\":\"scattermapbox\"}],\"scatterpolar\":[{\"marker\":{\"colorbar\":{\"outlinewidth\":0,\"ticks\":\"\"}},\"type\":\"scatterpolar\"}],\"scatterpolargl\":[{\"marker\":{\"colorbar\":{\"outlinewidth\":0,\"ticks\":\"\"}},\"type\":\"scatterpolargl\"}],\"scatterternary\":[{\"marker\":{\"colorbar\":{\"outlinewidth\":0,\"ticks\":\"\"}},\"type\":\"scatterternary\"}],\"surface\":[{\"colorbar\":{\"outlinewidth\":0,\"ticks\":\"\"},\"colorscale\":[[0.0,\"#0d0887\"],[0.1111111111111111,\"#46039f\"],[0.2222222222222222,\"#7201a8\"],[0.3333333333333333,\"#9c179e\"],[0.4444444444444444,\"#bd3786\"],[0.5555555555555556,\"#d8576b\"],[0.6666666666666666,\"#ed7953\"],[0.7777777777777778,\"#fb9f3a\"],[0.8888888888888888,\"#fdca26\"],[1.0,\"#f0f921\"]],\"type\":\"surface\"}],\"table\":[{\"cells\":{\"fill\":{\"color\":\"#EBF0F8\"},\"line\":{\"color\":\"white\"}},\"header\":{\"fill\":{\"color\":\"#C8D4E3\"},\"line\":{\"color\":\"white\"}},\"type\":\"table\"}]},\"layout\":{\"annotationdefaults\":{\"arrowcolor\":\"#2a3f5f\",\"arrowhead\":0,\"arrowwidth\":1},\"autotypenumbers\":\"strict\",\"coloraxis\":{\"colorbar\":{\"outlinewidth\":0,\"ticks\":\"\"}},\"colorscale\":{\"diverging\":[[0,\"#8e0152\"],[0.1,\"#c51b7d\"],[0.2,\"#de77ae\"],[0.3,\"#f1b6da\"],[0.4,\"#fde0ef\"],[0.5,\"#f7f7f7\"],[0.6,\"#e6f5d0\"],[0.7,\"#b8e186\"],[0.8,\"#7fbc41\"],[0.9,\"#4d9221\"],[1,\"#276419\"]],\"sequential\":[[0.0,\"#0d0887\"],[0.1111111111111111,\"#46039f\"],[0.2222222222222222,\"#7201a8\"],[0.3333333333333333,\"#9c179e\"],[0.4444444444444444,\"#bd3786\"],[0.5555555555555556,\"#d8576b\"],[0.6666666666666666,\"#ed7953\"],[0.7777777777777778,\"#fb9f3a\"],[0.8888888888888888,\"#fdca26\"],[1.0,\"#f0f921\"]],\"sequentialminus\":[[0.0,\"#0d0887\"],[0.1111111111111111,\"#46039f\"],[0.2222222222222222,\"#7201a8\"],[0.3333333333333333,\"#9c179e\"],[0.4444444444444444,\"#bd3786\"],[0.5555555555555556,\"#d8576b\"],[0.6666666666666666,\"#ed7953\"],[0.7777777777777778,\"#fb9f3a\"],[0.8888888888888888,\"#fdca26\"],[1.0,\"#f0f921\"]]},\"colorway\":[\"#636efa\",\"#EF553B\",\"#00cc96\",\"#ab63fa\",\"#FFA15A\",\"#19d3f3\",\"#FF6692\",\"#B6E880\",\"#FF97FF\",\"#FECB52\"],\"font\":{\"color\":\"#2a3f5f\"},\"geo\":{\"bgcolor\":\"white\",\"lakecolor\":\"white\",\"landcolor\":\"#E5ECF6\",\"showlakes\":true,\"showland\":true,\"subunitcolor\":\"white\"},\"hoverlabel\":{\"align\":\"left\"},\"hovermode\":\"closest\",\"mapbox\":{\"style\":\"light\"},\"paper_bgcolor\":\"white\",\"plot_bgcolor\":\"#E5ECF6\",\"polar\":{\"angularaxis\":{\"gridcolor\":\"white\",\"linecolor\":\"white\",\"ticks\":\"\"},\"bgcolor\":\"#E5ECF6\",\"radialaxis\":{\"gridcolor\":\"white\",\"linecolor\":\"white\",\"ticks\":\"\"}},\"scene\":{\"xaxis\":{\"backgroundcolor\":\"#E5ECF6\",\"gridcolor\":\"white\",\"gridwidth\":2,\"linecolor\":\"white\",\"showbackground\":true,\"ticks\":\"\",\"zerolinecolor\":\"white\"},\"yaxis\":{\"backgroundcolor\":\"#E5ECF6\",\"gridcolor\":\"white\",\"gridwidth\":2,\"linecolor\":\"white\",\"showbackground\":true,\"ticks\":\"\",\"zerolinecolor\":\"white\"},\"zaxis\":{\"backgroundcolor\":\"#E5ECF6\",\"gridcolor\":\"white\",\"gridwidth\":2,\"linecolor\":\"white\",\"showbackground\":true,\"ticks\":\"\",\"zerolinecolor\":\"white\"}},\"shapedefaults\":{\"line\":{\"color\":\"#2a3f5f\"}},\"ternary\":{\"aaxis\":{\"gridcolor\":\"white\",\"linecolor\":\"white\",\"ticks\":\"\"},\"baxis\":{\"gridcolor\":\"white\",\"linecolor\":\"white\",\"ticks\":\"\"},\"bgcolor\":\"#E5ECF6\",\"caxis\":{\"gridcolor\":\"white\",\"linecolor\":\"white\",\"ticks\":\"\"}},\"title\":{\"x\":0.05},\"xaxis\":{\"automargin\":true,\"gridcolor\":\"white\",\"linecolor\":\"white\",\"ticks\":\"\",\"title\":{\"standoff\":15},\"zerolinecolor\":\"white\",\"zerolinewidth\":2},\"yaxis\":{\"automargin\":true,\"gridcolor\":\"white\",\"linecolor\":\"white\",\"ticks\":\"\",\"title\":{\"standoff\":15},\"zerolinecolor\":\"white\",\"zerolinewidth\":2}}},\"xaxis\":{\"anchor\":\"y\",\"domain\":[0.0,1.0],\"title\":{\"text\":\"Date\"}},\"yaxis\":{\"anchor\":\"x\",\"domain\":[0.0,1.0],\"title\":{\"text\":\"value\"}},\"legend\":{\"title\":{\"text\":\"variable\"},\"tracegroupgap\":0},\"margin\":{\"t\":60}},                        {\"responsive\": true}                    ).then(function(){\n                            \nvar gd = document.getElementById('990f6f7b-a137-4faf-ab11-5df5d8e1f0da');\nvar x = new MutationObserver(function (mutations, observer) {{\n        var display = window.getComputedStyle(gd).display;\n        if (!display || display === 'none') {{\n            console.log([gd, 'removed!']);\n            Plotly.purge(gd);\n            observer.disconnect();\n        }}\n}});\n\n// Listen for the removal of the full notebook cells\nvar notebookContainer = gd.closest('#notebook-container');\nif (notebookContainer) {{\n    x.observe(notebookContainer, {childList: true});\n}}\n\n// Listen for the clearing of the current output cell\nvar outputEl = gd.closest('.output');\nif (outputEl) {{\n    x.observe(outputEl, {childList: true});\n}}\n\n                        })                };                            </script>        </div>\n</body>\n</html>"
     },
     "metadata": {},
     "output_type": "display_data"
    }
   ]
  },
  {
   "cell_type": "code",
   "metadata": {
    "cell_id": "29542f7aeefa40d98a81f603f32ce4e9",
    "tags": [],
    "deepnote_to_be_reexecuted": false,
    "source_hash": "98bd4ce8",
    "execution_start": 1648305172113,
    "execution_millis": 53,
    "deepnote_cell_type": "code",
    "deepnote_cell_height": 80.60000610351562
   },
   "source": "well_time_series = [prod_df[prod_df[column] != 0][column].reset_index(drop=True) for column in prod_df.columns]",
   "execution_count": 14,
   "outputs": []
  },
  {
   "cell_type": "markdown",
   "source": "## Decline Curve Analysis DataFrame\n\nHas all 0 values removed, so that the initial, as well as the ",
   "metadata": {
    "cell_id": "70911b38a3a540379555b31b07402d8c",
    "tags": [],
    "deepnote_cell_type": "markdown",
    "deepnote_cell_height": 108
   }
  },
  {
   "cell_type": "code",
   "metadata": {
    "cell_id": "b0fcd8a9d92a422cb1e136fc95d8d6d2",
    "tags": [],
    "deepnote_to_be_reexecuted": false,
    "source_hash": "92afc416",
    "execution_start": 1648307226851,
    "execution_millis": 1332,
    "deepnote_table_state": {
     "pageSize": 10,
     "pageIndex": 0,
     "filters": [],
     "sortBy": []
    },
    "deepnote_table_loading": false,
    "deepnote_cell_type": "code",
    "deepnote_cell_height": 550
   },
   "source": "well_time_series_df = pd.concat(well_time_series, axis=1)\nwell_time_series_df.describe()",
   "execution_count": 43,
   "outputs": [
    {
     "output_type": "execute_result",
     "execution_count": 43,
     "data": {
      "application/vnd.deepnote.dataframe.v3+json": {
       "column_count": 51,
       "row_count": 8,
       "columns": [
        {
         "name": "WOPR:WP0(bbl/day)",
         "dtype": "float64",
         "stats": {
          "unique_count": 8,
          "nan_count": 0,
          "min": "0.024436608330682397",
          "max": "54.0",
          "histogram": [
           {
            "bin_start": 0.024436608330682397,
            "bin_end": 5.421992947497614,
            "count": 1
           },
           {
            "bin_start": 5.421992947497614,
            "bin_end": 10.819549286664547,
            "count": 6
           },
           {
            "bin_start": 10.819549286664547,
            "bin_end": 16.217105625831476,
            "count": 0
           },
           {
            "bin_start": 16.217105625831476,
            "bin_end": 21.614661964998408,
            "count": 0
           },
           {
            "bin_start": 21.614661964998408,
            "bin_end": 27.01221830416534,
            "count": 0
           },
           {
            "bin_start": 27.01221830416534,
            "bin_end": 32.40977464333227,
            "count": 0
           },
           {
            "bin_start": 32.40977464333227,
            "bin_end": 37.8073309824992,
            "count": 0
           },
           {
            "bin_start": 37.8073309824992,
            "bin_end": 43.204887321666135,
            "count": 0
           },
           {
            "bin_start": 43.204887321666135,
            "bin_end": 48.60244366083307,
            "count": 0
           },
           {
            "bin_start": 48.60244366083307,
            "bin_end": 54,
            "count": 1
           }
          ]
         }
        },
        {
         "name": "WOPR:WP1(bbl/day)",
         "dtype": "float64",
         "stats": {
          "unique_count": 8,
          "nan_count": 0,
          "min": "0.27177572869204253",
          "max": "39.39379636",
          "histogram": [
           {
            "bin_start": 0.27177572869204253,
            "bin_end": 4.183977791822839,
            "count": 1
           },
           {
            "bin_start": 4.183977791822839,
            "bin_end": 8.096179854953634,
            "count": 0
           },
           {
            "bin_start": 8.096179854953634,
            "bin_end": 12.008381918084432,
            "count": 0
           },
           {
            "bin_start": 12.008381918084432,
            "bin_end": 15.920583981215227,
            "count": 0
           },
           {
            "bin_start": 15.920583981215227,
            "bin_end": 19.832786044346022,
            "count": 0
           },
           {
            "bin_start": 19.832786044346022,
            "bin_end": 23.74498810747682,
            "count": 0
           },
           {
            "bin_start": 23.74498810747682,
            "bin_end": 27.657190170607617,
            "count": 1
           },
           {
            "bin_start": 27.657190170607617,
            "bin_end": 31.569392233738412,
            "count": 0
           },
           {
            "bin_start": 31.569392233738412,
            "bin_end": 35.48159429686921,
            "count": 0
           },
           {
            "bin_start": 35.48159429686921,
            "bin_end": 39.39379636,
            "count": 6
           }
          ]
         }
        },
        {
         "name": "WOPR:WP10(bbl/day)",
         "dtype": "float64",
         "stats": {
          "unique_count": 8,
          "nan_count": 0,
          "min": "0.6756044100948662",
          "max": "48.10991667",
          "histogram": [
           {
            "bin_start": 0.6756044100948662,
            "bin_end": 5.41903563608538,
            "count": 1
           },
           {
            "bin_start": 5.41903563608538,
            "bin_end": 10.162466862075894,
            "count": 0
           },
           {
            "bin_start": 10.162466862075894,
            "bin_end": 14.905898088066408,
            "count": 0
           },
           {
            "bin_start": 14.905898088066408,
            "bin_end": 19.64932931405692,
            "count": 0
           },
           {
            "bin_start": 19.64932931405692,
            "bin_end": 24.392760540047433,
            "count": 0
           },
           {
            "bin_start": 24.392760540047433,
            "bin_end": 29.13619176603795,
            "count": 0
           },
           {
            "bin_start": 29.13619176603795,
            "bin_end": 33.87962299202846,
            "count": 0
           },
           {
            "bin_start": 33.87962299202846,
            "bin_end": 38.62305421801897,
            "count": 1
           },
           {
            "bin_start": 38.62305421801897,
            "bin_end": 43.366485444009484,
            "count": 0
           },
           {
            "bin_start": 43.366485444009484,
            "bin_end": 48.10991667,
            "count": 6
           }
          ]
         }
        },
        {
         "name": "WOPR:WP11(bbl/day)",
         "dtype": "float64",
         "stats": {
          "unique_count": 1,
          "nan_count": 7,
          "min": "0.0",
          "max": "0.0",
          "histogram": [
           {
            "bin_start": -0.5,
            "bin_end": -0.4,
            "count": 0
           },
           {
            "bin_start": -0.4,
            "bin_end": -0.3,
            "count": 0
           },
           {
            "bin_start": -0.3,
            "bin_end": -0.19999999999999996,
            "count": 0
           },
           {
            "bin_start": -0.19999999999999996,
            "bin_end": -0.09999999999999998,
            "count": 0
           },
           {
            "bin_start": -0.09999999999999998,
            "bin_end": 0,
            "count": 0
           },
           {
            "bin_start": 0,
            "bin_end": 0.10000000000000009,
            "count": 1
           },
           {
            "bin_start": 0.10000000000000009,
            "bin_end": 0.20000000000000007,
            "count": 0
           },
           {
            "bin_start": 0.20000000000000007,
            "bin_end": 0.30000000000000004,
            "count": 0
           },
           {
            "bin_start": 0.30000000000000004,
            "bin_end": 0.4,
            "count": 0
           },
           {
            "bin_start": 0.4,
            "bin_end": 0.5,
            "count": 0
           }
          ]
         }
        },
        {
         "name": "WOPR:WP12(bbl/day)",
         "dtype": "float64",
         "stats": {
          "unique_count": 8,
          "nan_count": 0,
          "min": "0.044144796228091435",
          "max": "87.0",
          "histogram": [
           {
            "bin_start": 0.044144796228091435,
            "bin_end": 8.73973031660528,
            "count": 7
           },
           {
            "bin_start": 8.73973031660528,
            "bin_end": 17.435315836982472,
            "count": 0
           },
           {
            "bin_start": 17.435315836982472,
            "bin_end": 26.13090135735966,
            "count": 0
           },
           {
            "bin_start": 26.13090135735966,
            "bin_end": 34.82648687773685,
            "count": 0
           },
           {
            "bin_start": 34.82648687773685,
            "bin_end": 43.52207239811404,
            "count": 0
           },
           {
            "bin_start": 43.52207239811404,
            "bin_end": 52.21765791849123,
            "count": 0
           },
           {
            "bin_start": 52.21765791849123,
            "bin_end": 60.91324343886841,
            "count": 0
           },
           {
            "bin_start": 60.91324343886841,
            "bin_end": 69.60882895924561,
            "count": 0
           },
           {
            "bin_start": 69.60882895924561,
            "bin_end": 78.3044144796228,
            "count": 0
           },
           {
            "bin_start": 78.3044144796228,
            "bin_end": 87,
            "count": 1
           }
          ]
         }
        },
        {
         "name": "WOPR:WP13(bbl/day)",
         "dtype": "float64",
         "stats": {
          "unique_count": 8,
          "nan_count": 0,
          "min": "0.8677092020391565",
          "max": "80.0",
          "histogram": [
           {
            "bin_start": 0.8677092020391565,
            "bin_end": 8.78093828183524,
            "count": 1
           },
           {
            "bin_start": 8.78093828183524,
            "bin_end": 16.694167361631326,
            "count": 0
           },
           {
            "bin_start": 16.694167361631326,
            "bin_end": 24.607396441427408,
            "count": 6
           },
           {
            "bin_start": 24.607396441427408,
            "bin_end": 32.520625521223494,
            "count": 0
           },
           {
            "bin_start": 32.520625521223494,
            "bin_end": 40.43385460101958,
            "count": 0
           },
           {
            "bin_start": 40.43385460101958,
            "bin_end": 48.347083680815665,
            "count": 0
           },
           {
            "bin_start": 48.347083680815665,
            "bin_end": 56.260312760611754,
            "count": 0
           },
           {
            "bin_start": 56.260312760611754,
            "bin_end": 64.17354184040784,
            "count": 0
           },
           {
            "bin_start": 64.17354184040784,
            "bin_end": 72.08677092020392,
            "count": 0
           },
           {
            "bin_start": 72.08677092020392,
            "bin_end": 80,
            "count": 1
           }
          ]
         }
        },
        {
         "name": "WOPR:WP14(bbl/day)",
         "dtype": "float64",
         "stats": {
          "unique_count": 8,
          "nan_count": 0,
          "min": "45.89423234221004",
          "max": "447.0467609",
          "histogram": [
           {
            "bin_start": 45.89423234221004,
            "bin_end": 86.00948519798902,
            "count": 2
           },
           {
            "bin_start": 86.00948519798902,
            "bin_end": 126.12473805376803,
            "count": 0
           },
           {
            "bin_start": 126.12473805376803,
            "bin_end": 166.239990909547,
            "count": 0
           },
           {
            "bin_start": 166.239990909547,
            "bin_end": 206.355243765326,
            "count": 0
           },
           {
            "bin_start": 206.355243765326,
            "bin_end": 246.47049662110499,
            "count": 0
           },
           {
            "bin_start": 246.47049662110499,
            "bin_end": 286.58574947688396,
            "count": 0
           },
           {
            "bin_start": 286.58574947688396,
            "bin_end": 326.701002332663,
            "count": 1
           },
           {
            "bin_start": 326.701002332663,
            "bin_end": 366.81625518844197,
            "count": 1
           },
           {
            "bin_start": 366.81625518844197,
            "bin_end": 406.93150804422095,
            "count": 2
           },
           {
            "bin_start": 406.93150804422095,
            "bin_end": 447.0467609,
            "count": 2
           }
          ]
         }
        },
        {
         "name": "WOPR:WP15(bbl/day)",
         "dtype": "float64",
         "stats": {
          "unique_count": 8,
          "nan_count": 0,
          "min": "15.0",
          "max": "3483.552017",
          "histogram": [
           {
            "bin_start": 15,
            "bin_end": 361.8552017,
            "count": 2
           },
           {
            "bin_start": 361.8552017,
            "bin_end": 708.7104034,
            "count": 0
           },
           {
            "bin_start": 708.7104034,
            "bin_end": 1055.5656051,
            "count": 0
           },
           {
            "bin_start": 1055.5656051,
            "bin_end": 1402.4208068,
            "count": 0
           },
           {
            "bin_start": 1402.4208068,
            "bin_end": 1749.2760085,
            "count": 0
           },
           {
            "bin_start": 1749.2760085,
            "bin_end": 2096.1312102,
            "count": 0
           },
           {
            "bin_start": 2096.1312102,
            "bin_end": 2442.9864119,
            "count": 0
           },
           {
            "bin_start": 2442.9864119,
            "bin_end": 2789.8416136,
            "count": 1
           },
           {
            "bin_start": 2789.8416136,
            "bin_end": 3136.6968153000003,
            "count": 3
           },
           {
            "bin_start": 3136.6968153000003,
            "bin_end": 3483.552017,
            "count": 2
           }
          ]
         }
        },
        {
         "name": "WOPR:WP16(bbl/day)",
         "dtype": "float64",
         "stats": {
          "unique_count": 8,
          "nan_count": 0,
          "min": "44.0",
          "max": "1941.703124",
          "histogram": [
           {
            "bin_start": 44,
            "bin_end": 233.7703124,
            "count": 1
           },
           {
            "bin_start": 233.7703124,
            "bin_end": 423.5406248,
            "count": 1
           },
           {
            "bin_start": 423.5406248,
            "bin_end": 613.3109372,
            "count": 0
           },
           {
            "bin_start": 613.3109372,
            "bin_end": 803.0812496,
            "count": 1
           },
           {
            "bin_start": 803.0812496,
            "bin_end": 992.851562,
            "count": 1
           },
           {
            "bin_start": 992.851562,
            "bin_end": 1182.6218744,
            "count": 0
           },
           {
            "bin_start": 1182.6218744,
            "bin_end": 1372.3921868,
            "count": 2
           },
           {
            "bin_start": 1372.3921868,
            "bin_end": 1562.1624992,
            "count": 1
           },
           {
            "bin_start": 1562.1624992,
            "bin_end": 1751.9328116,
            "count": 0
           },
           {
            "bin_start": 1751.9328116,
            "bin_end": 1941.703124,
            "count": 1
           }
          ]
         }
        },
        {
         "name": "WOPR:WP17(bbl/day)",
         "dtype": "float64",
         "stats": {
          "unique_count": 8,
          "nan_count": 0,
          "min": "13.0",
          "max": "1484.466481",
          "histogram": [
           {
            "bin_start": 13,
            "bin_end": 160.1466481,
            "count": 2
           },
           {
            "bin_start": 160.1466481,
            "bin_end": 307.2932962,
            "count": 0
           },
           {
            "bin_start": 307.2932962,
            "bin_end": 454.4399443,
            "count": 0
           },
           {
            "bin_start": 454.4399443,
            "bin_end": 601.5865924,
            "count": 0
           },
           {
            "bin_start": 601.5865924,
            "bin_end": 748.7332405,
            "count": 0
           },
           {
            "bin_start": 748.7332405,
            "bin_end": 895.8798886,
            "count": 0
           },
           {
            "bin_start": 895.8798886,
            "bin_end": 1043.0265367,
            "count": 0
           },
           {
            "bin_start": 1043.0265367,
            "bin_end": 1190.1731848,
            "count": 0
           },
           {
            "bin_start": 1190.1731848,
            "bin_end": 1337.3198329,
            "count": 2
           },
           {
            "bin_start": 1337.3198329,
            "bin_end": 1484.466481,
            "count": 4
           }
          ]
         }
        },
        {
         "name": "WOPR:WP18(bbl/day)",
         "dtype": "float64",
         "stats": {
          "unique_count": 8,
          "nan_count": 0,
          "min": "20.26768479116295",
          "max": "372.7464441",
          "histogram": [
           {
            "bin_start": 20.26768479116295,
            "bin_end": 55.51556072204666,
            "count": 1
           },
           {
            "bin_start": 55.51556072204666,
            "bin_end": 90.76343665293037,
            "count": 0
           },
           {
            "bin_start": 90.76343665293037,
            "bin_end": 126.01131258381407,
            "count": 1
           },
           {
            "bin_start": 126.01131258381407,
            "bin_end": 161.25918851469777,
            "count": 0
           },
           {
            "bin_start": 161.25918851469777,
            "bin_end": 196.50706444558148,
            "count": 0
           },
           {
            "bin_start": 196.50706444558148,
            "bin_end": 231.75494037646519,
            "count": 0
           },
           {
            "bin_start": 231.75494037646519,
            "bin_end": 267.0028163073489,
            "count": 1
           },
           {
            "bin_start": 267.0028163073489,
            "bin_end": 302.2506922382326,
            "count": 3
           },
           {
            "bin_start": 302.2506922382326,
            "bin_end": 337.4985681691163,
            "count": 1
           },
           {
            "bin_start": 337.4985681691163,
            "bin_end": 372.7464441,
            "count": 1
           }
          ]
         }
        },
        {
         "name": "WOPR:WP19(bbl/day)",
         "dtype": "float64",
         "stats": {
          "unique_count": 8,
          "nan_count": 0,
          "min": "0.0718277034834549",
          "max": "50.0",
          "histogram": [
           {
            "bin_start": 0.0718277034834549,
            "bin_end": 5.064644933135109,
            "count": 1
           },
           {
            "bin_start": 5.064644933135109,
            "bin_end": 10.057462162786765,
            "count": 6
           },
           {
            "bin_start": 10.057462162786765,
            "bin_end": 15.05027939243842,
            "count": 0
           },
           {
            "bin_start": 15.05027939243842,
            "bin_end": 20.043096622090072,
            "count": 0
           },
           {
            "bin_start": 20.043096622090072,
            "bin_end": 25.03591385174173,
            "count": 0
           },
           {
            "bin_start": 25.03591385174173,
            "bin_end": 30.02873108139338,
            "count": 0
           },
           {
            "bin_start": 30.02873108139338,
            "bin_end": 35.02154831104504,
            "count": 0
           },
           {
            "bin_start": 35.02154831104504,
            "bin_end": 40.014365540696694,
            "count": 0
           },
           {
            "bin_start": 40.014365540696694,
            "bin_end": 45.00718277034835,
            "count": 0
           },
           {
            "bin_start": 45.00718277034835,
            "bin_end": 50,
            "count": 1
           }
          ]
         }
        },
        {
         "name": "WOPR:WP2(bbl/day)",
         "dtype": "float64",
         "stats": {
          "unique_count": 8,
          "nan_count": 0,
          "min": "0.12233830944752175",
          "max": "84.0",
          "histogram": [
           {
            "bin_start": 0.12233830944752175,
            "bin_end": 8.510104478502768,
            "count": 7
           },
           {
            "bin_start": 8.510104478502768,
            "bin_end": 16.897870647558015,
            "count": 0
           },
           {
            "bin_start": 16.897870647558015,
            "bin_end": 25.285636816613263,
            "count": 0
           },
           {
            "bin_start": 25.285636816613263,
            "bin_end": 33.67340298566851,
            "count": 0
           },
           {
            "bin_start": 33.67340298566851,
            "bin_end": 42.06116915472376,
            "count": 0
           },
           {
            "bin_start": 42.06116915472376,
            "bin_end": 50.448935323779004,
            "count": 0
           },
           {
            "bin_start": 50.448935323779004,
            "bin_end": 58.83670149283425,
            "count": 0
           },
           {
            "bin_start": 58.83670149283425,
            "bin_end": 67.2244676618895,
            "count": 0
           },
           {
            "bin_start": 67.2244676618895,
            "bin_end": 75.61223383094476,
            "count": 0
           },
           {
            "bin_start": 75.61223383094476,
            "bin_end": 84,
            "count": 1
           }
          ]
         }
        },
        {
         "name": "WOPR:WP20(bbl/day)",
         "dtype": "float64",
         "stats": {
          "unique_count": 8,
          "nan_count": 0,
          "min": "0.3517519370246988",
          "max": "40.38234912",
          "histogram": [
           {
            "bin_start": 0.3517519370246988,
            "bin_end": 4.354811655322229,
            "count": 1
           },
           {
            "bin_start": 4.354811655322229,
            "bin_end": 8.357871373619759,
            "count": 0
           },
           {
            "bin_start": 8.357871373619759,
            "bin_end": 12.360931091917289,
            "count": 0
           },
           {
            "bin_start": 12.360931091917289,
            "bin_end": 16.36399081021482,
            "count": 0
           },
           {
            "bin_start": 16.36399081021482,
            "bin_end": 20.367050528512348,
            "count": 0
           },
           {
            "bin_start": 20.367050528512348,
            "bin_end": 24.37011024680988,
            "count": 1
           },
           {
            "bin_start": 24.37011024680988,
            "bin_end": 28.37316996510741,
            "count": 0
           },
           {
            "bin_start": 28.37316996510741,
            "bin_end": 32.376229683404944,
            "count": 0
           },
           {
            "bin_start": 32.376229683404944,
            "bin_end": 36.37928940170247,
            "count": 0
           },
           {
            "bin_start": 36.37928940170247,
            "bin_end": 40.38234912,
            "count": 6
           }
          ]
         }
        },
        {
         "name": "WOPR:WP21(bbl/day)",
         "dtype": "float64",
         "stats": {
          "unique_count": 8,
          "nan_count": 0,
          "min": "0.025015717089230255",
          "max": "38.0",
          "histogram": [
           {
            "bin_start": 0.025015717089230255,
            "bin_end": 3.8225141453803073,
            "count": 7
           },
           {
            "bin_start": 3.8225141453803073,
            "bin_end": 7.620012573671384,
            "count": 0
           },
           {
            "bin_start": 7.620012573671384,
            "bin_end": 11.417511001962461,
            "count": 0
           },
           {
            "bin_start": 11.417511001962461,
            "bin_end": 15.215009430253538,
            "count": 0
           },
           {
            "bin_start": 15.215009430253538,
            "bin_end": 19.012507858544613,
            "count": 0
           },
           {
            "bin_start": 19.012507858544613,
            "bin_end": 22.81000628683569,
            "count": 0
           },
           {
            "bin_start": 22.81000628683569,
            "bin_end": 26.607504715126765,
            "count": 0
           },
           {
            "bin_start": 26.607504715126765,
            "bin_end": 30.405003143417844,
            "count": 0
           },
           {
            "bin_start": 30.405003143417844,
            "bin_end": 34.20250157170892,
            "count": 0
           },
           {
            "bin_start": 34.20250157170892,
            "bin_end": 38,
            "count": 1
           }
          ]
         }
        },
        {
         "name": "WOPR:WP22(bbl/day)",
         "dtype": "float64",
         "stats": {
          "unique_count": 8,
          "nan_count": 0,
          "min": "0.08310679188948346",
          "max": "26.0",
          "histogram": [
           {
            "bin_start": 0.08310679188948346,
            "bin_end": 2.6747961127005353,
            "count": 1
           },
           {
            "bin_start": 2.6747961127005353,
            "bin_end": 5.266485433511587,
            "count": 0
           },
           {
            "bin_start": 5.266485433511587,
            "bin_end": 7.858174754322639,
            "count": 0
           },
           {
            "bin_start": 7.858174754322639,
            "bin_end": 10.44986407513369,
            "count": 0
           },
           {
            "bin_start": 10.44986407513369,
            "bin_end": 13.04155339594474,
            "count": 0
           },
           {
            "bin_start": 13.04155339594474,
            "bin_end": 15.633242716755793,
            "count": 6
           },
           {
            "bin_start": 15.633242716755793,
            "bin_end": 18.224932037566845,
            "count": 0
           },
           {
            "bin_start": 18.224932037566845,
            "bin_end": 20.816621358377898,
            "count": 0
           },
           {
            "bin_start": 20.816621358377898,
            "bin_end": 23.40831067918895,
            "count": 0
           },
           {
            "bin_start": 23.40831067918895,
            "bin_end": 26,
            "count": 1
           }
          ]
         }
        },
        {
         "name": "WOPR:WP23(bbl/day)",
         "dtype": "float64",
         "stats": {
          "unique_count": 8,
          "nan_count": 0,
          "min": "0.07216445924492426",
          "max": "79.0",
          "histogram": [
           {
            "bin_start": 0.07216445924492426,
            "bin_end": 7.964948013320432,
            "count": 7
           },
           {
            "bin_start": 7.964948013320432,
            "bin_end": 15.857731567395938,
            "count": 0
           },
           {
            "bin_start": 15.857731567395938,
            "bin_end": 23.750515121471445,
            "count": 0
           },
           {
            "bin_start": 23.750515121471445,
            "bin_end": 31.64329867554695,
            "count": 0
           },
           {
            "bin_start": 31.64329867554695,
            "bin_end": 39.53608222962246,
            "count": 0
           },
           {
            "bin_start": 39.53608222962246,
            "bin_end": 47.428865783697965,
            "count": 0
           },
           {
            "bin_start": 47.428865783697965,
            "bin_end": 55.32164933777347,
            "count": 0
           },
           {
            "bin_start": 55.32164933777347,
            "bin_end": 63.21443289184898,
            "count": 0
           },
           {
            "bin_start": 63.21443289184898,
            "bin_end": 71.1072164459245,
            "count": 0
           },
           {
            "bin_start": 71.1072164459245,
            "bin_end": 79,
            "count": 1
           }
          ]
         }
        },
        {
         "name": "WOPR:WP24(bbl/day)",
         "dtype": "float64",
         "stats": {
          "unique_count": 8,
          "nan_count": 0,
          "min": "15.450181355576245",
          "max": "120.6842612",
          "histogram": [
           {
            "bin_start": 15.450181355576245,
            "bin_end": 25.97358934001862,
            "count": 1
           },
           {
            "bin_start": 25.97358934001862,
            "bin_end": 36.49699732446099,
            "count": 0
           },
           {
            "bin_start": 36.49699732446099,
            "bin_end": 47.02040530890337,
            "count": 0
           },
           {
            "bin_start": 47.02040530890337,
            "bin_end": 57.54381329334575,
            "count": 1
           },
           {
            "bin_start": 57.54381329334575,
            "bin_end": 68.06722127778812,
            "count": 1
           },
           {
            "bin_start": 68.06722127778812,
            "bin_end": 78.5906292622305,
            "count": 1
           },
           {
            "bin_start": 78.5906292622305,
            "bin_end": 89.11403724667288,
            "count": 0
           },
           {
            "bin_start": 89.11403724667288,
            "bin_end": 99.63744523111525,
            "count": 2
           },
           {
            "bin_start": 99.63744523111525,
            "bin_end": 110.16085321555762,
            "count": 1
           },
           {
            "bin_start": 110.16085321555762,
            "bin_end": 120.6842612,
            "count": 1
           }
          ]
         }
        },
        {
         "name": "WOPR:WP25(bbl/day)",
         "dtype": "float64",
         "stats": {
          "unique_count": 8,
          "nan_count": 0,
          "min": "14.0",
          "max": "1405.446092",
          "histogram": [
           {
            "bin_start": 14,
            "bin_end": 153.1446092,
            "count": 2
           },
           {
            "bin_start": 153.1446092,
            "bin_end": 292.2892184,
            "count": 0
           },
           {
            "bin_start": 292.2892184,
            "bin_end": 431.4338276,
            "count": 0
           },
           {
            "bin_start": 431.4338276,
            "bin_end": 570.5784368,
            "count": 0
           },
           {
            "bin_start": 570.5784368,
            "bin_end": 709.723046,
            "count": 0
           },
           {
            "bin_start": 709.723046,
            "bin_end": 848.8676552,
            "count": 0
           },
           {
            "bin_start": 848.8676552,
            "bin_end": 988.0122643999999,
            "count": 0
           },
           {
            "bin_start": 988.0122643999999,
            "bin_end": 1127.1568736,
            "count": 0
           },
           {
            "bin_start": 1127.1568736,
            "bin_end": 1266.3014828,
            "count": 0
           },
           {
            "bin_start": 1266.3014828,
            "bin_end": 1405.446092,
            "count": 6
           }
          ]
         }
        },
        {
         "name": "WOPR:WP26(bbl/day)",
         "dtype": "float64",
         "stats": {
          "unique_count": 8,
          "nan_count": 0,
          "min": "41.0",
          "max": "650.1969226",
          "histogram": [
           {
            "bin_start": 41,
            "bin_end": 101.91969226,
            "count": 1
           },
           {
            "bin_start": 101.91969226,
            "bin_end": 162.83938452,
            "count": 1
           },
           {
            "bin_start": 162.83938452,
            "bin_end": 223.75907678,
            "count": 0
           },
           {
            "bin_start": 223.75907678,
            "bin_end": 284.67876904,
            "count": 1
           },
           {
            "bin_start": 284.67876904,
            "bin_end": 345.5984613,
            "count": 1
           },
           {
            "bin_start": 345.5984613,
            "bin_end": 406.51815356,
            "count": 0
           },
           {
            "bin_start": 406.51815356,
            "bin_end": 467.43784582,
            "count": 2
           },
           {
            "bin_start": 467.43784582,
            "bin_end": 528.35753808,
            "count": 0
           },
           {
            "bin_start": 528.35753808,
            "bin_end": 589.27723034,
            "count": 1
           },
           {
            "bin_start": 589.27723034,
            "bin_end": 650.1969226,
            "count": 1
           }
          ]
         }
        },
        {
         "name": "WOPR:WP27(bbl/day)",
         "dtype": "float64",
         "stats": {
          "unique_count": 8,
          "nan_count": 0,
          "min": "0.08266062668860959",
          "max": "52.0",
          "histogram": [
           {
            "bin_start": 0.08266062668860959,
            "bin_end": 5.274394564019748,
            "count": 1
           },
           {
            "bin_start": 5.274394564019748,
            "bin_end": 10.466128501350887,
            "count": 6
           },
           {
            "bin_start": 10.466128501350887,
            "bin_end": 15.657862438682026,
            "count": 0
           },
           {
            "bin_start": 15.657862438682026,
            "bin_end": 20.849596376013167,
            "count": 0
           },
           {
            "bin_start": 20.849596376013167,
            "bin_end": 26.041330313344307,
            "count": 0
           },
           {
            "bin_start": 26.041330313344307,
            "bin_end": 31.233064250675444,
            "count": 0
           },
           {
            "bin_start": 31.233064250675444,
            "bin_end": 36.424798188006584,
            "count": 0
           },
           {
            "bin_start": 36.424798188006584,
            "bin_end": 41.61653212533772,
            "count": 0
           },
           {
            "bin_start": 41.61653212533772,
            "bin_end": 46.80826606266886,
            "count": 0
           },
           {
            "bin_start": 46.80826606266886,
            "bin_end": 52,
            "count": 1
           }
          ]
         }
        },
        {
         "name": "WOPR:WP28(bbl/day)",
         "dtype": "float64",
         "stats": {
          "unique_count": 8,
          "nan_count": 0,
          "min": "7.551168432934502",
          "max": "154.8495473",
          "histogram": [
           {
            "bin_start": 7.551168432934502,
            "bin_end": 22.281006319641055,
            "count": 1
           },
           {
            "bin_start": 22.281006319641055,
            "bin_end": 37.010844206347606,
            "count": 0
           },
           {
            "bin_start": 37.010844206347606,
            "bin_end": 51.74068209305416,
            "count": 0
           },
           {
            "bin_start": 51.74068209305416,
            "bin_end": 66.47051997976071,
            "count": 0
           },
           {
            "bin_start": 66.47051997976071,
            "bin_end": 81.20035786646726,
            "count": 1
           },
           {
            "bin_start": 81.20035786646726,
            "bin_end": 95.93019575317382,
            "count": 0
           },
           {
            "bin_start": 95.93019575317382,
            "bin_end": 110.66003363988037,
            "count": 0
           },
           {
            "bin_start": 110.66003363988037,
            "bin_end": 125.38987152658692,
            "count": 2
           },
           {
            "bin_start": 125.38987152658692,
            "bin_end": 140.11970941329346,
            "count": 3
           },
           {
            "bin_start": 140.11970941329346,
            "bin_end": 154.8495473,
            "count": 1
           }
          ]
         }
        },
        {
         "name": "WOPR:WP29(bbl/day)",
         "dtype": "float64",
         "stats": {
          "unique_count": 8,
          "nan_count": 0,
          "min": "33.0",
          "max": "1015.718069",
          "histogram": [
           {
            "bin_start": 33,
            "bin_end": 131.2718069,
            "count": 2
           },
           {
            "bin_start": 131.2718069,
            "bin_end": 229.5436138,
            "count": 0
           },
           {
            "bin_start": 229.5436138,
            "bin_end": 327.8154207,
            "count": 0
           },
           {
            "bin_start": 327.8154207,
            "bin_end": 426.0872276,
            "count": 0
           },
           {
            "bin_start": 426.0872276,
            "bin_end": 524.3590345,
            "count": 0
           },
           {
            "bin_start": 524.3590345,
            "bin_end": 622.6308414,
            "count": 0
           },
           {
            "bin_start": 622.6308414,
            "bin_end": 720.9026483,
            "count": 1
           },
           {
            "bin_start": 720.9026483,
            "bin_end": 819.1744552,
            "count": 1
           },
           {
            "bin_start": 819.1744552,
            "bin_end": 917.4462621,
            "count": 3
           },
           {
            "bin_start": 917.4462621,
            "bin_end": 1015.718069,
            "count": 1
           }
          ]
         }
        },
        {
         "name": "WOPR:WP3(bbl/day)",
         "dtype": "float64",
         "stats": {
          "unique_count": 8,
          "nan_count": 0,
          "min": "55.0",
          "max": "2006.424582",
          "histogram": [
           {
            "bin_start": 55,
            "bin_end": 250.14245820000002,
            "count": 2
           },
           {
            "bin_start": 250.14245820000002,
            "bin_end": 445.28491640000004,
            "count": 0
           },
           {
            "bin_start": 445.28491640000004,
            "bin_end": 640.4273746000001,
            "count": 0
           },
           {
            "bin_start": 640.4273746000001,
            "bin_end": 835.5698328000001,
            "count": 0
           },
           {
            "bin_start": 835.5698328000001,
            "bin_end": 1030.712291,
            "count": 0
           },
           {
            "bin_start": 1030.712291,
            "bin_end": 1225.8547492000002,
            "count": 1
           },
           {
            "bin_start": 1225.8547492000002,
            "bin_end": 1420.9972074000002,
            "count": 0
           },
           {
            "bin_start": 1420.9972074000002,
            "bin_end": 1616.1396656000002,
            "count": 2
           },
           {
            "bin_start": 1616.1396656000002,
            "bin_end": 1811.2821238000001,
            "count": 2
           },
           {
            "bin_start": 1811.2821238000001,
            "bin_end": 2006.424582,
            "count": 1
           }
          ]
         }
        },
        {
         "name": "WOPR:WP30(bbl/day)",
         "dtype": "float64",
         "stats": {
          "unique_count": 8,
          "nan_count": 0,
          "min": "0.007598912458658757",
          "max": "50.0",
          "histogram": [
           {
            "bin_start": 0.007598912458658757,
            "bin_end": 5.006839021212793,
            "count": 7
           },
           {
            "bin_start": 5.006839021212793,
            "bin_end": 10.006079129966928,
            "count": 0
           },
           {
            "bin_start": 10.006079129966928,
            "bin_end": 15.005319238721063,
            "count": 0
           },
           {
            "bin_start": 15.005319238721063,
            "bin_end": 20.004559347475194,
            "count": 0
           },
           {
            "bin_start": 20.004559347475194,
            "bin_end": 25.003799456229327,
            "count": 0
           },
           {
            "bin_start": 25.003799456229327,
            "bin_end": 30.003039564983464,
            "count": 0
           },
           {
            "bin_start": 30.003039564983464,
            "bin_end": 35.0022796737376,
            "count": 0
           },
           {
            "bin_start": 35.0022796737376,
            "bin_end": 40.001519782491734,
            "count": 0
           },
           {
            "bin_start": 40.001519782491734,
            "bin_end": 45.00075989124587,
            "count": 0
           },
           {
            "bin_start": 45.00075989124587,
            "bin_end": 50,
            "count": 1
           }
          ]
         }
        },
        {
         "name": "WOPR:WP31(bbl/day)",
         "dtype": "float64",
         "stats": {
          "unique_count": 8,
          "nan_count": 0,
          "min": "22.0",
          "max": "510.6204765",
          "histogram": [
           {
            "bin_start": 22,
            "bin_end": 70.86204765,
            "count": 2
           },
           {
            "bin_start": 70.86204765,
            "bin_end": 119.7240953,
            "count": 0
           },
           {
            "bin_start": 119.7240953,
            "bin_end": 168.58614295,
            "count": 0
           },
           {
            "bin_start": 168.58614295,
            "bin_end": 217.4481906,
            "count": 0
           },
           {
            "bin_start": 217.4481906,
            "bin_end": 266.31023825,
            "count": 0
           },
           {
            "bin_start": 266.31023825,
            "bin_end": 315.1722859,
            "count": 0
           },
           {
            "bin_start": 315.1722859,
            "bin_end": 364.03433355,
            "count": 0
           },
           {
            "bin_start": 364.03433355,
            "bin_end": 412.8963812,
            "count": 1
           },
           {
            "bin_start": 412.8963812,
            "bin_end": 461.75842885000003,
            "count": 3
           },
           {
            "bin_start": 461.75842885000003,
            "bin_end": 510.6204765,
            "count": 2
           }
          ]
         }
        },
        {
         "name": "WOPR:WP32(bbl/day)",
         "dtype": "float64",
         "stats": {
          "unique_count": 3,
          "nan_count": 0,
          "min": "0.0",
          "max": "1618.477384",
          "histogram": [
           {
            "bin_start": 0,
            "bin_end": 161.8477384,
            "count": 2
           },
           {
            "bin_start": 161.8477384,
            "bin_end": 323.6954768,
            "count": 0
           },
           {
            "bin_start": 323.6954768,
            "bin_end": 485.54321519999996,
            "count": 0
           },
           {
            "bin_start": 485.54321519999996,
            "bin_end": 647.3909536,
            "count": 0
           },
           {
            "bin_start": 647.3909536,
            "bin_end": 809.238692,
            "count": 0
           },
           {
            "bin_start": 809.238692,
            "bin_end": 971.0864303999999,
            "count": 0
           },
           {
            "bin_start": 971.0864303999999,
            "bin_end": 1132.9341688,
            "count": 0
           },
           {
            "bin_start": 1132.9341688,
            "bin_end": 1294.7819072,
            "count": 0
           },
           {
            "bin_start": 1294.7819072,
            "bin_end": 1456.6296456,
            "count": 0
           },
           {
            "bin_start": 1456.6296456,
            "bin_end": 1618.477384,
            "count": 6
           }
          ]
         }
        },
        {
         "name": "WOPR:WP33(bbl/day)",
         "dtype": "float64",
         "stats": {
          "unique_count": 8,
          "nan_count": 0,
          "min": "0.006275863668438125",
          "max": "43.0",
          "histogram": [
           {
            "bin_start": 0.006275863668438125,
            "bin_end": 4.305648277301594,
            "count": 7
           },
           {
            "bin_start": 4.305648277301594,
            "bin_end": 8.60502069093475,
            "count": 0
           },
           {
            "bin_start": 8.60502069093475,
            "bin_end": 12.904393104567907,
            "count": 0
           },
           {
            "bin_start": 12.904393104567907,
            "bin_end": 17.203765518201063,
            "count": 0
           },
           {
            "bin_start": 17.203765518201063,
            "bin_end": 21.50313793183422,
            "count": 0
           },
           {
            "bin_start": 21.50313793183422,
            "bin_end": 25.802510345467375,
            "count": 0
           },
           {
            "bin_start": 25.802510345467375,
            "bin_end": 30.10188275910053,
            "count": 0
           },
           {
            "bin_start": 30.10188275910053,
            "bin_end": 34.401255172733684,
            "count": 0
           },
           {
            "bin_start": 34.401255172733684,
            "bin_end": 38.70062758636684,
            "count": 0
           },
           {
            "bin_start": 38.70062758636684,
            "bin_end": 43,
            "count": 1
           }
          ]
         }
        },
        {
         "name": "WOPR:WP34(bbl/day)",
         "dtype": "float64",
         "stats": {
          "unique_count": 8,
          "nan_count": 0,
          "min": "26.0",
          "max": "1693.574449",
          "histogram": [
           {
            "bin_start": 26,
            "bin_end": 192.7574449,
            "count": 2
           },
           {
            "bin_start": 192.7574449,
            "bin_end": 359.5148898,
            "count": 0
           },
           {
            "bin_start": 359.5148898,
            "bin_end": 526.2723347,
            "count": 0
           },
           {
            "bin_start": 526.2723347,
            "bin_end": 693.0297796,
            "count": 0
           },
           {
            "bin_start": 693.0297796,
            "bin_end": 859.7872245,
            "count": 0
           },
           {
            "bin_start": 859.7872245,
            "bin_end": 1026.5446694,
            "count": 0
           },
           {
            "bin_start": 1026.5446694,
            "bin_end": 1193.3021143,
            "count": 0
           },
           {
            "bin_start": 1193.3021143,
            "bin_end": 1360.0595592,
            "count": 1
           },
           {
            "bin_start": 1360.0595592,
            "bin_end": 1526.8170040999998,
            "count": 3
           },
           {
            "bin_start": 1526.8170040999998,
            "bin_end": 1693.574449,
            "count": 2
           }
          ]
         }
        },
        {
         "name": "WOPR:WP35(bbl/day)",
         "dtype": "float64",
         "stats": {
          "unique_count": 8,
          "nan_count": 0,
          "min": "0.009655941751876401",
          "max": "10.0",
          "histogram": [
           {
            "bin_start": 0.009655941751876401,
            "bin_end": 1.0086903475766886,
            "count": 1
           },
           {
            "bin_start": 1.0086903475766886,
            "bin_end": 2.007724753401501,
            "count": 0
           },
           {
            "bin_start": 2.007724753401501,
            "bin_end": 3.006759159226313,
            "count": 6
           },
           {
            "bin_start": 3.006759159226313,
            "bin_end": 4.005793565051126,
            "count": 0
           },
           {
            "bin_start": 4.005793565051126,
            "bin_end": 5.004827970875938,
            "count": 0
           },
           {
            "bin_start": 5.004827970875938,
            "bin_end": 6.0038623767007495,
            "count": 0
           },
           {
            "bin_start": 6.0038623767007495,
            "bin_end": 7.002896782525562,
            "count": 0
           },
           {
            "bin_start": 7.002896782525562,
            "bin_end": 8.001931188350374,
            "count": 0
           },
           {
            "bin_start": 8.001931188350374,
            "bin_end": 9.000965594175188,
            "count": 0
           },
           {
            "bin_start": 9.000965594175188,
            "bin_end": 10,
            "count": 1
           }
          ]
         }
        },
        {
         "name": "WOPR:WP36(bbl/day)",
         "dtype": "float64",
         "stats": {
          "unique_count": 8,
          "nan_count": 0,
          "min": "34.0",
          "max": "592.9962853",
          "histogram": [
           {
            "bin_start": 34,
            "bin_end": 89.89962853,
            "count": 1
           },
           {
            "bin_start": 89.89962853,
            "bin_end": 145.79925706,
            "count": 1
           },
           {
            "bin_start": 145.79925706,
            "bin_end": 201.69888558999997,
            "count": 0
           },
           {
            "bin_start": 201.69888558999997,
            "bin_end": 257.59851412,
            "count": 1
           },
           {
            "bin_start": 257.59851412,
            "bin_end": 313.49814265,
            "count": 1
           },
           {
            "bin_start": 313.49814265,
            "bin_end": 369.39777117999995,
            "count": 1
           },
           {
            "bin_start": 369.39777117999995,
            "bin_end": 425.29739971,
            "count": 1
           },
           {
            "bin_start": 425.29739971,
            "bin_end": 481.19702823999995,
            "count": 1
           },
           {
            "bin_start": 481.19702823999995,
            "bin_end": 537.09665677,
            "count": 0
           },
           {
            "bin_start": 537.09665677,
            "bin_end": 592.9962853,
            "count": 1
           }
          ]
         }
        },
        {
         "name": "WOPR:WP37(bbl/day)",
         "dtype": "float64",
         "stats": {
          "unique_count": 8,
          "nan_count": 0,
          "min": "85.0",
          "max": "534.5002728",
          "histogram": [
           {
            "bin_start": 85,
            "bin_end": 129.95002728,
            "count": 2
           },
           {
            "bin_start": 129.95002728,
            "bin_end": 174.90005456,
            "count": 0
           },
           {
            "bin_start": 174.90005456,
            "bin_end": 219.85008183999997,
            "count": 0
           },
           {
            "bin_start": 219.85008183999997,
            "bin_end": 264.80010912,
            "count": 1
           },
           {
            "bin_start": 264.80010912,
            "bin_end": 309.7501364,
            "count": 1
           },
           {
            "bin_start": 309.7501364,
            "bin_end": 354.70016367999995,
            "count": 1
           },
           {
            "bin_start": 354.70016367999995,
            "bin_end": 399.65019096,
            "count": 1
           },
           {
            "bin_start": 399.65019096,
            "bin_end": 444.60021823999995,
            "count": 0
           },
           {
            "bin_start": 444.60021823999995,
            "bin_end": 489.5502455199999,
            "count": 1
           },
           {
            "bin_start": 489.5502455199999,
            "bin_end": 534.5002728,
            "count": 1
           }
          ]
         }
        },
        {
         "name": "WOPR:WP38(bbl/day)",
         "dtype": "float64",
         "stats": {
          "unique_count": 8,
          "nan_count": 0,
          "min": "52.0",
          "max": "1490.368325",
          "histogram": [
           {
            "bin_start": 52,
            "bin_end": 195.83683249999999,
            "count": 1
           },
           {
            "bin_start": 195.83683249999999,
            "bin_end": 339.67366499999997,
            "count": 1
           },
           {
            "bin_start": 339.67366499999997,
            "bin_end": 483.51049749999993,
            "count": 0
           },
           {
            "bin_start": 483.51049749999993,
            "bin_end": 627.3473299999999,
            "count": 1
           },
           {
            "bin_start": 627.3473299999999,
            "bin_end": 771.1841625,
            "count": 1
           },
           {
            "bin_start": 771.1841625,
            "bin_end": 915.0209949999999,
            "count": 1
           },
           {
            "bin_start": 915.0209949999999,
            "bin_end": 1058.8578275,
            "count": 1
           },
           {
            "bin_start": 1058.8578275,
            "bin_end": 1202.6946599999999,
            "count": 1
           },
           {
            "bin_start": 1202.6946599999999,
            "bin_end": 1346.5314924999998,
            "count": 0
           },
           {
            "bin_start": 1346.5314924999998,
            "bin_end": 1490.368325,
            "count": 1
           }
          ]
         }
        },
        {
         "name": "WOPR:WP39(bbl/day)",
         "dtype": "float64",
         "stats": {
          "unique_count": 8,
          "nan_count": 0,
          "min": "0.1657553663603252",
          "max": "15.0",
          "histogram": [
           {
            "bin_start": 0.1657553663603252,
            "bin_end": 1.6491798297242928,
            "count": 1
           },
           {
            "bin_start": 1.6491798297242928,
            "bin_end": 3.13260429308826,
            "count": 0
           },
           {
            "bin_start": 3.13260429308826,
            "bin_end": 4.616028756452228,
            "count": 0
           },
           {
            "bin_start": 4.616028756452228,
            "bin_end": 6.099453219816195,
            "count": 0
           },
           {
            "bin_start": 6.099453219816195,
            "bin_end": 7.582877683180162,
            "count": 0
           },
           {
            "bin_start": 7.582877683180162,
            "bin_end": 9.066302146544132,
            "count": 0
           },
           {
            "bin_start": 9.066302146544132,
            "bin_end": 10.549726609908099,
            "count": 0
           },
           {
            "bin_start": 10.549726609908099,
            "bin_end": 12.033151073272066,
            "count": 0
           },
           {
            "bin_start": 12.033151073272066,
            "bin_end": 13.516575536636033,
            "count": 5
           },
           {
            "bin_start": 13.516575536636033,
            "bin_end": 15,
            "count": 2
           }
          ]
         }
        },
        {
         "name": "WOPR:WP4(bbl/day)",
         "dtype": "float64",
         "stats": {
          "unique_count": 8,
          "nan_count": 0,
          "min": "33.0",
          "max": "420.4759328",
          "histogram": [
           {
            "bin_start": 33,
            "bin_end": 71.74759328,
            "count": 1
           },
           {
            "bin_start": 71.74759328,
            "bin_end": 110.49518656000001,
            "count": 1
           },
           {
            "bin_start": 110.49518656000001,
            "bin_end": 149.24277984000003,
            "count": 0
           },
           {
            "bin_start": 149.24277984000003,
            "bin_end": 187.99037312000002,
            "count": 1
           },
           {
            "bin_start": 187.99037312000002,
            "bin_end": 226.7379664,
            "count": 1
           },
           {
            "bin_start": 226.7379664,
            "bin_end": 265.48555968000005,
            "count": 2
           },
           {
            "bin_start": 265.48555968000005,
            "bin_end": 304.23315296000004,
            "count": 0
           },
           {
            "bin_start": 304.23315296000004,
            "bin_end": 342.98074624000003,
            "count": 1
           },
           {
            "bin_start": 342.98074624000003,
            "bin_end": 381.72833952,
            "count": 0
           },
           {
            "bin_start": 381.72833952,
            "bin_end": 420.4759328,
            "count": 1
           }
          ]
         }
        },
        {
         "name": "WOPR:WP40(bbl/day)",
         "dtype": "float64",
         "stats": {
          "unique_count": 3,
          "nan_count": 0,
          "min": "0.0",
          "max": "49.51812375",
          "histogram": [
           {
            "bin_start": 0,
            "bin_end": 4.951812375,
            "count": 2
           },
           {
            "bin_start": 4.951812375,
            "bin_end": 9.90362475,
            "count": 0
           },
           {
            "bin_start": 9.90362475,
            "bin_end": 14.855437125000002,
            "count": 0
           },
           {
            "bin_start": 14.855437125000002,
            "bin_end": 19.8072495,
            "count": 0
           },
           {
            "bin_start": 19.8072495,
            "bin_end": 24.759061875,
            "count": 0
           },
           {
            "bin_start": 24.759061875,
            "bin_end": 29.710874250000003,
            "count": 0
           },
           {
            "bin_start": 29.710874250000003,
            "bin_end": 34.662686625,
            "count": 0
           },
           {
            "bin_start": 34.662686625,
            "bin_end": 39.614499,
            "count": 0
           },
           {
            "bin_start": 39.614499,
            "bin_end": 44.566311375000005,
            "count": 0
           },
           {
            "bin_start": 44.566311375000005,
            "bin_end": 49.51812375,
            "count": 6
           }
          ]
         }
        },
        {
         "name": "WOPR:WP41(bbl/day)",
         "dtype": "float64",
         "stats": {
          "unique_count": 8,
          "nan_count": 0,
          "min": "30.0",
          "max": "1188.527139",
          "histogram": [
           {
            "bin_start": 30,
            "bin_end": 145.8527139,
            "count": 2
           },
           {
            "bin_start": 145.8527139,
            "bin_end": 261.7054278,
            "count": 0
           },
           {
            "bin_start": 261.7054278,
            "bin_end": 377.55814169999996,
            "count": 0
           },
           {
            "bin_start": 377.55814169999996,
            "bin_end": 493.4108556,
            "count": 0
           },
           {
            "bin_start": 493.4108556,
            "bin_end": 609.2635695,
            "count": 0
           },
           {
            "bin_start": 609.2635695,
            "bin_end": 725.1162833999999,
            "count": 0
           },
           {
            "bin_start": 725.1162833999999,
            "bin_end": 840.9689973,
            "count": 0
           },
           {
            "bin_start": 840.9689973,
            "bin_end": 956.8217112,
            "count": 0
           },
           {
            "bin_start": 956.8217112,
            "bin_end": 1072.6744251,
            "count": 4
           },
           {
            "bin_start": 1072.6744251,
            "bin_end": 1188.527139,
            "count": 2
           }
          ]
         }
        },
        {
         "name": "WOPR:WP42(bbl/day)",
         "dtype": "float64",
         "stats": {
          "unique_count": 8,
          "nan_count": 0,
          "min": "54.0",
          "max": "1525.612453",
          "histogram": [
           {
            "bin_start": 54,
            "bin_end": 201.1612453,
            "count": 2
           },
           {
            "bin_start": 201.1612453,
            "bin_end": 348.3224906,
            "count": 0
           },
           {
            "bin_start": 348.3224906,
            "bin_end": 495.48373589999994,
            "count": 0
           },
           {
            "bin_start": 495.48373589999994,
            "bin_end": 642.6449812,
            "count": 0
           },
           {
            "bin_start": 642.6449812,
            "bin_end": 789.8062265,
            "count": 0
           },
           {
            "bin_start": 789.8062265,
            "bin_end": 936.9674717999999,
            "count": 1
           },
           {
            "bin_start": 936.9674717999999,
            "bin_end": 1084.1287171,
            "count": 1
           },
           {
            "bin_start": 1084.1287171,
            "bin_end": 1231.2899624,
            "count": 2
           },
           {
            "bin_start": 1231.2899624,
            "bin_end": 1378.4512077,
            "count": 1
           },
           {
            "bin_start": 1378.4512077,
            "bin_end": 1525.612453,
            "count": 1
           }
          ]
         }
        },
        {
         "name": "WOPR:WP43(bbl/day)",
         "dtype": "float64",
         "stats": {
          "unique_count": 8,
          "nan_count": 0,
          "min": "107.0",
          "max": "3576.398644",
          "histogram": [
           {
            "bin_start": 107,
            "bin_end": 453.9398644,
            "count": 1
           },
           {
            "bin_start": 453.9398644,
            "bin_end": 800.8797288,
            "count": 2
           },
           {
            "bin_start": 800.8797288,
            "bin_end": 1147.8195931999999,
            "count": 0
           },
           {
            "bin_start": 1147.8195931999999,
            "bin_end": 1494.7594576,
            "count": 1
           },
           {
            "bin_start": 1494.7594576,
            "bin_end": 1841.699322,
            "count": 0
           },
           {
            "bin_start": 1841.699322,
            "bin_end": 2188.6391863999997,
            "count": 1
           },
           {
            "bin_start": 2188.6391863999997,
            "bin_end": 2535.5790508,
            "count": 1
           },
           {
            "bin_start": 2535.5790508,
            "bin_end": 2882.5189152,
            "count": 1
           },
           {
            "bin_start": 2882.5189152,
            "bin_end": 3229.4587795999996,
            "count": 0
           },
           {
            "bin_start": 3229.4587795999996,
            "bin_end": 3576.398644,
            "count": 1
           }
          ]
         }
        },
        {
         "name": "WOPR:WP44(bbl/day)",
         "dtype": "float64",
         "stats": {
          "unique_count": 8,
          "nan_count": 0,
          "min": "54.0",
          "max": "698.5910504",
          "histogram": [
           {
            "bin_start": 54,
            "bin_end": 118.45910504,
            "count": 1
           },
           {
            "bin_start": 118.45910504,
            "bin_end": 182.91821008,
            "count": 1
           },
           {
            "bin_start": 182.91821008,
            "bin_end": 247.37731512,
            "count": 1
           },
           {
            "bin_start": 247.37731512,
            "bin_end": 311.83642016,
            "count": 0
           },
           {
            "bin_start": 311.83642016,
            "bin_end": 376.2955252,
            "count": 1
           },
           {
            "bin_start": 376.2955252,
            "bin_end": 440.75463024,
            "count": 1
           },
           {
            "bin_start": 440.75463024,
            "bin_end": 505.21373528,
            "count": 1
           },
           {
            "bin_start": 505.21373528,
            "bin_end": 569.67284032,
            "count": 1
           },
           {
            "bin_start": 569.67284032,
            "bin_end": 634.1319453599999,
            "count": 0
           },
           {
            "bin_start": 634.1319453599999,
            "bin_end": 698.5910504,
            "count": 1
           }
          ]
         }
        },
        {
         "name": "WOPR:WP45(bbl/day)",
         "dtype": "float64",
         "stats": {
          "unique_count": 8,
          "nan_count": 0,
          "min": "0.001552342768960835",
          "max": "51.0",
          "histogram": [
           {
            "bin_start": 0.001552342768960835,
            "bin_end": 5.101397108492065,
            "count": 7
           },
           {
            "bin_start": 5.101397108492065,
            "bin_end": 10.201241874215167,
            "count": 0
           },
           {
            "bin_start": 10.201241874215167,
            "bin_end": 15.301086639938271,
            "count": 0
           },
           {
            "bin_start": 15.301086639938271,
            "bin_end": 20.400931405661375,
            "count": 0
           },
           {
            "bin_start": 20.400931405661375,
            "bin_end": 25.50077617138448,
            "count": 0
           },
           {
            "bin_start": 25.50077617138448,
            "bin_end": 30.600620937107582,
            "count": 0
           },
           {
            "bin_start": 30.600620937107582,
            "bin_end": 35.700465702830684,
            "count": 0
           },
           {
            "bin_start": 35.700465702830684,
            "bin_end": 40.80031046855379,
            "count": 0
           },
           {
            "bin_start": 40.80031046855379,
            "bin_end": 45.900155234276895,
            "count": 0
           },
           {
            "bin_start": 45.900155234276895,
            "bin_end": 51,
            "count": 1
           }
          ]
         }
        },
        {
         "name": "WOPR:WP46(bbl/day)",
         "dtype": "float64",
         "stats": {
          "unique_count": 8,
          "nan_count": 0,
          "min": "22.0",
          "max": "1441.033779",
          "histogram": [
           {
            "bin_start": 22,
            "bin_end": 163.9033779,
            "count": 2
           },
           {
            "bin_start": 163.9033779,
            "bin_end": 305.8067558,
            "count": 0
           },
           {
            "bin_start": 305.8067558,
            "bin_end": 447.71013370000003,
            "count": 0
           },
           {
            "bin_start": 447.71013370000003,
            "bin_end": 589.6135116,
            "count": 0
           },
           {
            "bin_start": 589.6135116,
            "bin_end": 731.5168895,
            "count": 0
           },
           {
            "bin_start": 731.5168895,
            "bin_end": 873.4202674000001,
            "count": 0
           },
           {
            "bin_start": 873.4202674000001,
            "bin_end": 1015.3236453000001,
            "count": 0
           },
           {
            "bin_start": 1015.3236453000001,
            "bin_end": 1157.2270232,
            "count": 1
           },
           {
            "bin_start": 1157.2270232,
            "bin_end": 1299.1304011000002,
            "count": 3
           },
           {
            "bin_start": 1299.1304011000002,
            "bin_end": 1441.033779,
            "count": 2
           }
          ]
         }
        },
        {
         "name": "WOPR:WP47(bbl/day)",
         "dtype": "float64",
         "stats": {
          "unique_count": 8,
          "nan_count": 0,
          "min": "30.0",
          "max": "1454.967513",
          "histogram": [
           {
            "bin_start": 30,
            "bin_end": 172.4967513,
            "count": 2
           },
           {
            "bin_start": 172.4967513,
            "bin_end": 314.9935026,
            "count": 0
           },
           {
            "bin_start": 314.9935026,
            "bin_end": 457.49025389999997,
            "count": 0
           },
           {
            "bin_start": 457.49025389999997,
            "bin_end": 599.9870052,
            "count": 0
           },
           {
            "bin_start": 599.9870052,
            "bin_end": 742.4837565,
            "count": 0
           },
           {
            "bin_start": 742.4837565,
            "bin_end": 884.9805077999999,
            "count": 0
           },
           {
            "bin_start": 884.9805077999999,
            "bin_end": 1027.4772591,
            "count": 0
           },
           {
            "bin_start": 1027.4772591,
            "bin_end": 1169.9740104,
            "count": 2
           },
           {
            "bin_start": 1169.9740104,
            "bin_end": 1312.4707617,
            "count": 2
           },
           {
            "bin_start": 1312.4707617,
            "bin_end": 1454.967513,
            "count": 2
           }
          ]
         }
        },
        {
         "name": "WOPR:WP48(bbl/day)",
         "dtype": "float64",
         "stats": {
          "unique_count": 8,
          "nan_count": 0,
          "min": "63.0",
          "max": "676.0684474",
          "histogram": [
           {
            "bin_start": 63,
            "bin_end": 124.30684474,
            "count": 1
           },
           {
            "bin_start": 124.30684474,
            "bin_end": 185.61368948,
            "count": 1
           },
           {
            "bin_start": 185.61368948,
            "bin_end": 246.92053421999998,
            "count": 0
           },
           {
            "bin_start": 246.92053421999998,
            "bin_end": 308.22737896,
            "count": 1
           },
           {
            "bin_start": 308.22737896,
            "bin_end": 369.5342237,
            "count": 1
           },
           {
            "bin_start": 369.5342237,
            "bin_end": 430.84106843999996,
            "count": 0
           },
           {
            "bin_start": 430.84106843999996,
            "bin_end": 492.14791318,
            "count": 2
           },
           {
            "bin_start": 492.14791318,
            "bin_end": 553.45475792,
            "count": 0
           },
           {
            "bin_start": 553.45475792,
            "bin_end": 614.76160266,
            "count": 1
           },
           {
            "bin_start": 614.76160266,
            "bin_end": 676.0684474,
            "count": 1
           }
          ]
         }
        },
        {
         "name": "WOPR:WP49(bbl/day)",
         "dtype": "float64",
         "stats": {
          "unique_count": 8,
          "nan_count": 0,
          "min": "54.0",
          "max": "512.6785268",
          "histogram": [
           {
            "bin_start": 54,
            "bin_end": 99.86785268,
            "count": 2
           },
           {
            "bin_start": 99.86785268,
            "bin_end": 145.73570536,
            "count": 0
           },
           {
            "bin_start": 145.73570536,
            "bin_end": 191.60355804,
            "count": 0
           },
           {
            "bin_start": 191.60355804,
            "bin_end": 237.47141072,
            "count": 1
           },
           {
            "bin_start": 237.47141072,
            "bin_end": 283.3392634,
            "count": 1
           },
           {
            "bin_start": 283.3392634,
            "bin_end": 329.20711608,
            "count": 0
           },
           {
            "bin_start": 329.20711608,
            "bin_end": 375.07496876,
            "count": 2
           },
           {
            "bin_start": 375.07496876,
            "bin_end": 420.94282144,
            "count": 0
           },
           {
            "bin_start": 420.94282144,
            "bin_end": 466.81067412,
            "count": 1
           },
           {
            "bin_start": 466.81067412,
            "bin_end": 512.6785268,
            "count": 1
           }
          ]
         }
        },
        {
         "name": "WOPR:WP5(bbl/day)",
         "dtype": "float64",
         "stats": {
          "unique_count": 8,
          "nan_count": 0,
          "min": "3.947068808318407",
          "max": "77.0",
          "histogram": [
           {
            "bin_start": 3.947068808318407,
            "bin_end": 11.252361927486566,
            "count": 3
           },
           {
            "bin_start": 11.252361927486566,
            "bin_end": 18.557655046654727,
            "count": 3
           },
           {
            "bin_start": 18.557655046654727,
            "bin_end": 25.862948165822885,
            "count": 1
           },
           {
            "bin_start": 25.862948165822885,
            "bin_end": 33.16824128499105,
            "count": 0
           },
           {
            "bin_start": 33.16824128499105,
            "bin_end": 40.4735344041592,
            "count": 0
           },
           {
            "bin_start": 40.4735344041592,
            "bin_end": 47.778827523327365,
            "count": 0
           },
           {
            "bin_start": 47.778827523327365,
            "bin_end": 55.08412064249552,
            "count": 0
           },
           {
            "bin_start": 55.08412064249552,
            "bin_end": 62.38941376166368,
            "count": 0
           },
           {
            "bin_start": 62.38941376166368,
            "bin_end": 69.69470688083184,
            "count": 0
           },
           {
            "bin_start": 69.69470688083184,
            "bin_end": 77,
            "count": 1
           }
          ]
         }
        },
        {
         "name": "WOPR:WP6(bbl/day)",
         "dtype": "float64",
         "stats": {
          "unique_count": 8,
          "nan_count": 0,
          "min": "30.0",
          "max": "1611.39346",
          "histogram": [
           {
            "bin_start": 30,
            "bin_end": 188.139346,
            "count": 1
           },
           {
            "bin_start": 188.139346,
            "bin_end": 346.278692,
            "count": 1
           },
           {
            "bin_start": 346.278692,
            "bin_end": 504.41803799999997,
            "count": 0
           },
           {
            "bin_start": 504.41803799999997,
            "bin_end": 662.557384,
            "count": 0
           },
           {
            "bin_start": 662.557384,
            "bin_end": 820.6967299999999,
            "count": 2
           },
           {
            "bin_start": 820.6967299999999,
            "bin_end": 978.8360759999999,
            "count": 0
           },
           {
            "bin_start": 978.8360759999999,
            "bin_end": 1136.975422,
            "count": 2
           },
           {
            "bin_start": 1136.975422,
            "bin_end": 1295.114768,
            "count": 1
           },
           {
            "bin_start": 1295.114768,
            "bin_end": 1453.2541139999998,
            "count": 0
           },
           {
            "bin_start": 1453.2541139999998,
            "bin_end": 1611.39346,
            "count": 1
           }
          ]
         }
        },
        {
         "name": "WOPR:WP7(bbl/day)",
         "dtype": "float64",
         "stats": {
          "unique_count": 8,
          "nan_count": 0,
          "min": "0.5441183673102954",
          "max": "12.0",
          "histogram": [
           {
            "bin_start": 0.5441183673102954,
            "bin_end": 1.6897065305792658,
            "count": 1
           },
           {
            "bin_start": 1.6897065305792658,
            "bin_end": 2.835294693848236,
            "count": 0
           },
           {
            "bin_start": 2.835294693848236,
            "bin_end": 3.980882857117207,
            "count": 0
           },
           {
            "bin_start": 3.980882857117207,
            "bin_end": 5.126471020386177,
            "count": 0
           },
           {
            "bin_start": 5.126471020386177,
            "bin_end": 6.272059183655147,
            "count": 4
           },
           {
            "bin_start": 6.272059183655147,
            "bin_end": 7.4176473469241175,
            "count": 2
           },
           {
            "bin_start": 7.4176473469241175,
            "bin_end": 8.563235510193088,
            "count": 0
           },
           {
            "bin_start": 8.563235510193088,
            "bin_end": 9.708823673462058,
            "count": 0
           },
           {
            "bin_start": 9.708823673462058,
            "bin_end": 10.854411836731028,
            "count": 0
           },
           {
            "bin_start": 10.854411836731028,
            "bin_end": 12,
            "count": 1
           }
          ]
         }
        },
        {
         "name": "WOPR:WP8(bbl/day)",
         "dtype": "float64",
         "stats": {
          "unique_count": 8,
          "nan_count": 0,
          "min": "0.09826202664543952",
          "max": "50.0",
          "histogram": [
           {
            "bin_start": 0.09826202664543952,
            "bin_end": 5.0884358239808964,
            "count": 1
           },
           {
            "bin_start": 5.0884358239808964,
            "bin_end": 10.078609621316353,
            "count": 0
           },
           {
            "bin_start": 10.078609621316353,
            "bin_end": 15.06878341865181,
            "count": 6
           },
           {
            "bin_start": 15.06878341865181,
            "bin_end": 20.058957215987267,
            "count": 0
           },
           {
            "bin_start": 20.058957215987267,
            "bin_end": 25.049131013322725,
            "count": 0
           },
           {
            "bin_start": 25.049131013322725,
            "bin_end": 30.03930481065818,
            "count": 0
           },
           {
            "bin_start": 30.03930481065818,
            "bin_end": 35.02947860799363,
            "count": 0
           },
           {
            "bin_start": 35.02947860799363,
            "bin_end": 40.01965240532909,
            "count": 0
           },
           {
            "bin_start": 40.01965240532909,
            "bin_end": 45.00982620266455,
            "count": 0
           },
           {
            "bin_start": 45.00982620266455,
            "bin_end": 50,
            "count": 1
           }
          ]
         }
        },
        {
         "name": "WOPR:WP9(bbl/day)",
         "dtype": "float64",
         "stats": {
          "unique_count": 8,
          "nan_count": 0,
          "min": "0.6745465093730799",
          "max": "41.0",
          "histogram": [
           {
            "bin_start": 0.6745465093730799,
            "bin_end": 4.707091858435772,
            "count": 1
           },
           {
            "bin_start": 4.707091858435772,
            "bin_end": 8.739637207498465,
            "count": 6
           },
           {
            "bin_start": 8.739637207498465,
            "bin_end": 12.772182556561157,
            "count": 0
           },
           {
            "bin_start": 12.772182556561157,
            "bin_end": 16.80472790562385,
            "count": 0
           },
           {
            "bin_start": 16.80472790562385,
            "bin_end": 20.837273254686544,
            "count": 0
           },
           {
            "bin_start": 20.837273254686544,
            "bin_end": 24.869818603749234,
            "count": 0
           },
           {
            "bin_start": 24.869818603749234,
            "bin_end": 28.902363952811925,
            "count": 0
           },
           {
            "bin_start": 28.902363952811925,
            "bin_end": 32.93490930187462,
            "count": 0
           },
           {
            "bin_start": 32.93490930187462,
            "bin_end": 36.96745465093731,
            "count": 0
           },
           {
            "bin_start": 36.96745465093731,
            "bin_end": 41,
            "count": 1
           }
          ]
         }
        },
        {
         "name": "Total",
         "dtype": "float64",
         "stats": {
          "unique_count": 8,
          "nan_count": 0,
          "min": "121.0",
          "max": "13674.068206769998",
          "histogram": [
           {
            "bin_start": 121,
            "bin_end": 1476.306820677,
            "count": 2
           },
           {
            "bin_start": 1476.306820677,
            "bin_end": 2831.613641354,
            "count": 1
           },
           {
            "bin_start": 2831.613641354,
            "bin_end": 4186.920462030999,
            "count": 0
           },
           {
            "bin_start": 4186.920462030999,
            "bin_end": 5542.227282708,
            "count": 0
           },
           {
            "bin_start": 5542.227282708,
            "bin_end": 6897.534103385,
            "count": 1
           },
           {
            "bin_start": 6897.534103385,
            "bin_end": 8252.840924061999,
            "count": 2
           },
           {
            "bin_start": 8252.840924061999,
            "bin_end": 9608.147744738999,
            "count": 0
           },
           {
            "bin_start": 9608.147744738999,
            "bin_end": 10963.454565416,
            "count": 1
           },
           {
            "bin_start": 10963.454565416,
            "bin_end": 12318.761386093,
            "count": 0
           },
           {
            "bin_start": 12318.761386093,
            "bin_end": 13674.068206769998,
            "count": 1
           }
          ]
         }
        },
        {
         "name": "_deepnote_index_column",
         "dtype": "object"
        }
       ],
       "rows": [
        {
         "WOPR:WP0(bbl/day)": 54,
         "WOPR:WP1(bbl/day)": 26,
         "WOPR:WP10(bbl/day)": 34,
         "WOPR:WP11(bbl/day)": 0,
         "WOPR:WP12(bbl/day)": 87,
         "WOPR:WP13(bbl/day)": 80,
         "WOPR:WP14(bbl/day)": 46,
         "WOPR:WP15(bbl/day)": 15,
         "WOPR:WP16(bbl/day)": 44,
         "WOPR:WP17(bbl/day)": 13,
         "WOPR:WP18(bbl/day)": 95,
         "WOPR:WP19(bbl/day)": 50,
         "WOPR:WP2(bbl/day)": 84,
         "WOPR:WP20(bbl/day)": 22,
         "WOPR:WP21(bbl/day)": 38,
         "WOPR:WP22(bbl/day)": 26,
         "WOPR:WP23(bbl/day)": 79,
         "WOPR:WP24(bbl/day)": 54,
         "WOPR:WP25(bbl/day)": 14,
         "WOPR:WP26(bbl/day)": 41,
         "WOPR:WP27(bbl/day)": 52,
         "WOPR:WP28(bbl/day)": 76,
         "WOPR:WP29(bbl/day)": 33,
         "WOPR:WP3(bbl/day)": 55,
         "WOPR:WP30(bbl/day)": 50,
         "WOPR:WP31(bbl/day)": 22,
         "WOPR:WP32(bbl/day)": 2,
         "WOPR:WP33(bbl/day)": 43,
         "WOPR:WP34(bbl/day)": 26,
         "WOPR:WP35(bbl/day)": 10,
         "WOPR:WP36(bbl/day)": 34,
         "WOPR:WP37(bbl/day)": 85,
         "WOPR:WP38(bbl/day)": 52,
         "WOPR:WP39(bbl/day)": 15,
         "WOPR:WP4(bbl/day)": 33,
         "WOPR:WP40(bbl/day)": 2,
         "WOPR:WP41(bbl/day)": 30,
         "WOPR:WP42(bbl/day)": 54,
         "WOPR:WP43(bbl/day)": 107,
         "WOPR:WP44(bbl/day)": 54,
         "WOPR:WP45(bbl/day)": 51,
         "WOPR:WP46(bbl/day)": 22,
         "WOPR:WP47(bbl/day)": 30,
         "WOPR:WP48(bbl/day)": 63,
         "WOPR:WP49(bbl/day)": 54,
         "WOPR:WP5(bbl/day)": 77,
         "WOPR:WP6(bbl/day)": 30,
         "WOPR:WP7(bbl/day)": 12,
         "WOPR:WP8(bbl/day)": 50,
         "WOPR:WP9(bbl/day)": 41,
         "Total": 121,
         "_deepnote_index_column": "count"
        },
        {
         "WOPR:WP0(bbl/day)": 8.809168144870371,
         "WOPR:WP1(bbl/day)": 38.675640862307695,
         "WOPR:WP10(bbl/day)": 46.36310126764706,
         "WOPR:WP11(bbl/day)": "nan",
         "WOPR:WP12(bbl/day)": 0.6646319248505747,
         "WOPR:WP13(bbl/day)": 22.342583499375003,
         "WOPR:WP14(bbl/day)": 381.1946277891304,
         "WOPR:WP15(bbl/day)": 3060.2059779333335,
         "WOPR:WP16(bbl/day)": 1221.2164488795454,
         "WOPR:WP17(bbl/day)": 1367.727037153846,
         "WOPR:WP18(bbl/day)": 291.0863714263158,
         "WOPR:WP19(bbl/day)": 7.0820974985,
         "WOPR:WP2(bbl/day)": 5.27653450525,
         "WOPR:WP20(bbl/day)": 39.545985544090904,
         "WOPR:WP21(bbl/day)": 1.5794482552105265,
         "WOPR:WP22(bbl/day)": 13.159516255,
         "WOPR:WP23(bbl/day)": 6.300323703772151,
         "WOPR:WP24(bbl/day)": 90.37428249722223,
         "WOPR:WP25(bbl/day)": 1328.4528927142858,
         "WOPR:WP26(bbl/day)": 439.33634223658544,
         "WOPR:WP27(bbl/day)": 9.066929787653846,
         "WOPR:WP28(bbl/day)": 131.2352545526316,
         "WOPR:WP29(bbl/day)": 859.5404205060605,
         "WOPR:WP3(bbl/day)": 1606.2794260727273,
         "WOPR:WP30(bbl/day)": 1.12512538538,
         "WOPR:WP31(bbl/day)": 460.6748424727273,
         "WOPR:WP32(bbl/day)": 1618.477384,
         "WOPR:WP33(bbl/day)": 0.2250818888139535,
         "WOPR:WP34(bbl/day)": 1475.8699912307695,
         "WOPR:WP35(bbl/day)": 2.2018241112999997,
         "WOPR:WP36(bbl/day)": 376.9678429647059,
         "WOPR:WP37(bbl/day)": 377.6215961858823,
         "WOPR:WP38(bbl/day)": 932.0029251346155,
         "WOPR:WP39(bbl/day)": 13.29023317,
         "WOPR:WP4(bbl/day)": 257.11353495151513,
         "WOPR:WP40(bbl/day)": 49.51812375,
         "WOPR:WP41(bbl/day)": 1056.8261772966666,
         "WOPR:WP42(bbl/day)": 1146.619301988889,
         "WOPR:WP43(bbl/day)": 2175.4934371990657,
         "WOPR:WP44(bbl/day)": 444.719212712963,
         "WOPR:WP45(bbl/day)": 0.14250306464705884,
         "WOPR:WP46(bbl/day)": 1249.7282440909091,
         "WOPR:WP47(bbl/day)": 1215.3196222333333,
         "WOPR:WP48(bbl/day)": 464.8824403285714,
         "WOPR:WP49(bbl/day)": 351.281915812963,
         "WOPR:WP5(bbl/day)": 13.723621814935065,
         "WOPR:WP6(bbl/day)": 1033.3187720533335,
         "WOPR:WP7(bbl/day)": 5.92570269375,
         "WOPR:WP8(bbl/day)": 13.095474331599998,
         "WOPR:WP9(bbl/day)": 6.434229017341464,
         "Total": 8168.554805725116,
         "_deepnote_index_column": "mean"
        },
        {
         "WOPR:WP0(bbl/day)": 0.024436608330682397,
         "WOPR:WP1(bbl/day)": 0.27177572869204253,
         "WOPR:WP10(bbl/day)": 0.6756044100948662,
         "WOPR:WP11(bbl/day)": "nan",
         "WOPR:WP12(bbl/day)": 0.044144796228091435,
         "WOPR:WP13(bbl/day)": 0.8677092020391565,
         "WOPR:WP14(bbl/day)": 45.89423234221004,
         "WOPR:WP15(bbl/day)": 223.213725179491,
         "WOPR:WP16(bbl/day)": 388.4031618954164,
         "WOPR:WP17(bbl/day)": 73.44109491370527,
         "WOPR:WP18(bbl/day)": 20.26768479116295,
         "WOPR:WP19(bbl/day)": 0.0718277034834549,
         "WOPR:WP2(bbl/day)": 0.12233830944752175,
         "WOPR:WP20(bbl/day)": 0.3517519370246988,
         "WOPR:WP21(bbl/day)": 0.025015717089230255,
         "WOPR:WP22(bbl/day)": 0.08310679188948346,
         "WOPR:WP23(bbl/day)": 0.07216445924492426,
         "WOPR:WP24(bbl/day)": 15.450181355576245,
         "WOPR:WP25(bbl/day)": 41.251440136754226,
         "WOPR:WP26(bbl/day)": 116.23265066183149,
         "WOPR:WP27(bbl/day)": 0.08266062668860959,
         "WOPR:WP28(bbl/day)": 7.551168432934502,
         "WOPR:WP29(bbl/day)": 77.09443483456374,
         "WOPR:WP3(bbl/day)": 195.87742780735832,
         "WOPR:WP30(bbl/day)": 0.007598912458658757,
         "WOPR:WP31(bbl/day)": 29.6738071534059,
         "WOPR:WP32(bbl/day)": 0,
         "WOPR:WP33(bbl/day)": 0.006275863668438125,
         "WOPR:WP34(bbl/day)": 119.15830040088484,
         "WOPR:WP35(bbl/day)": 0.009655941751876401,
         "WOPR:WP36(bbl/day)": 106.90539195685521,
         "WOPR:WP37(bbl/day)": 89.2180061161063,
         "WOPR:WP38(bbl/day)": 302.0217595839634,
         "WOPR:WP39(bbl/day)": 0.1657553663603252,
         "WOPR:WP4(bbl/day)": 77.98294240167803,
         "WOPR:WP40(bbl/day)": 0,
         "WOPR:WP41(bbl/day)": 64.39410616732683,
         "WOPR:WP42(bbl/day)": 190.42009702622838,
         "WOPR:WP43(bbl/day)": 793.9039182451248,
         "WOPR:WP44(bbl/day)": 139.72564840463008,
         "WOPR:WP45(bbl/day)": 0.001552342768960835,
         "WOPR:WP46(bbl/day)": 94.58547429344353,
         "WOPR:WP47(bbl/day)": 131.41945215287714,
         "WOPR:WP48(bbl/day)": 127.72229909369574,
         "WOPR:WP49(bbl/day)": 89.236190266081,
         "WOPR:WP5(bbl/day)": 3.947068808318407,
         "WOPR:WP6(bbl/day)": 273.9424823462667,
         "WOPR:WP7(bbl/day)": 0.5441183673102954,
         "WOPR:WP8(bbl/day)": 0.09826202664543952,
         "WOPR:WP9(bbl/day)": 0.6745465093730799,
         "Total": 2647.876209357642,
         "_deepnote_index_column": "std"
        },
        {
         "WOPR:WP0(bbl/day)": 8.785622287,
         "WOPR:WP1(bbl/day)": 38.34655854,
         "WOPR:WP10(bbl/day)": 45.50058376,
         "WOPR:WP11(bbl/day)": "nan",
         "WOPR:WP12(bbl/day)": 0.574007272,
         "WOPR:WP13(bbl/day)": 21.41726067,
         "WOPR:WP14(bbl/day)": 297.860478,
         "WOPR:WP15(bbl/day)": 2744.731762,
         "WOPR:WP16(bbl/day)": 650.7084254,
         "WOPR:WP17(bbl/day)": 1263.301841,
         "WOPR:WP18(bbl/day)": 262.9058724,
         "WOPR:WP19(bbl/day)": 6.951674034,
         "WOPR:WP2(bbl/day)": 5.046052552,
         "WOPR:WP20(bbl/day)": 39.1289578,
         "WOPR:WP21(bbl/day)": 1.545521813,
         "WOPR:WP22(bbl/day)": 13.08598584,
         "WOPR:WP23(bbl/day)": 6.242632715,
         "WOPR:WP24(bbl/day)": 66.6329263,
         "WOPR:WP25(bbl/day)": 1270.243674,
         "WOPR:WP26(bbl/day)": 275.0964397,
         "WOPR:WP27(bbl/day)": 8.976713116,
         "WOPR:WP28(bbl/day)": 123.4029313,
         "WOPR:WP29(bbl/day)": 713.608677,
         "WOPR:WP3(bbl/day)": 1214.517922,
         "WOPR:WP30(bbl/day)": 1.110735627,
         "WOPR:WP31(bbl/day)": 412.3680159,
         "WOPR:WP32(bbl/day)": 1618.477384,
         "WOPR:WP33(bbl/day)": 0.212372962,
         "WOPR:WP34(bbl/day)": 1288.358056,
         "WOPR:WP35(bbl/day)": 2.190964313,
         "WOPR:WP36(bbl/day)": 251.2367965,
         "WOPR:WP37(bbl/day)": 244.8893311,
         "WOPR:WP38(bbl/day)": 506.2536315,
         "WOPR:WP39(bbl/day)": 13.10029245,
         "WOPR:WP4(bbl/day)": 163.7574956,
         "WOPR:WP40(bbl/day)": 49.51812375,
         "WOPR:WP41(bbl/day)": 958.8932025,
         "WOPR:WP42(bbl/day)": 859.7079537,
         "WOPR:WP43(bbl/day)": 783.2611178,
         "WOPR:WP44(bbl/day)": 242.3755766,
         "WOPR:WP45(bbl/day)": 0.141237484,
         "WOPR:WP46(bbl/day)": 1123.836187,
         "WOPR:WP47(bbl/day)": 1038.169784,
         "WOPR:WP48(bbl/day)": 261.7014444,
         "WOPR:WP49(bbl/day)": 213.0024843,
         "WOPR:WP5(bbl/day)": 7.129533219,
         "WOPR:WP6(bbl/day)": 696.6425342,
         "WOPR:WP7(bbl/day)": 5.269145077,
         "WOPR:WP8(bbl/day)": 12.96918872,
         "WOPR:WP9(bbl/day)": 5.498969852,
         "Total": 340.549643173,
         "_deepnote_index_column": "min"
        },
        {
         "WOPR:WP0(bbl/day)": 8.79512600525,
         "WOPR:WP1(bbl/day)": 38.467456902500004,
         "WOPR:WP10(bbl/day)": 45.7958289675,
         "WOPR:WP11(bbl/day)": "nan",
         "WOPR:WP12(bbl/day)": 0.629549454,
         "WOPR:WP13(bbl/day)": 21.61325078,
         "WOPR:WP14(bbl/day)": 343.38750435000003,
         "WOPR:WP15(bbl/day)": 2890.1051724999998,
         "WOPR:WP16(bbl/day)": 869.892989025,
         "WOPR:WP17(bbl/day)": 1305.778714,
         "WOPR:WP18(bbl/day)": 274.43478200000004,
         "WOPR:WP19(bbl/day)": 7.024002744000001,
         "WOPR:WP2(bbl/day)": 5.1591928735,
         "WOPR:WP20(bbl/day)": 39.2671280275,
         "WOPR:WP21(bbl/day)": 1.55790881975,
         "WOPR:WP22(bbl/day)": 13.09964253,
         "WOPR:WP23(bbl/day)": 6.253417643500001,
         "WOPR:WP24(bbl/day)": 75.98856222500001,
         "WOPR:WP25(bbl/day)": 1296.57454125,
         "WOPR:WP26(bbl/day)": 336.8631578,
         "WOPR:WP27(bbl/day)": 9.0051511495,
         "WOPR:WP28(bbl/day)": 124.867167825,
         "WOPR:WP29(bbl/day)": 804.2276377,
         "WOPR:WP3(bbl/day)": 1461.8751594999999,
         "WOPR:WP30(bbl/day)": 1.1196291205,
         "WOPR:WP31(bbl/day)": 437.819562075,
         "WOPR:WP32(bbl/day)": 1618.477384,
         "WOPR:WP33(bbl/day)": 0.220669548,
         "WOPR:WP34(bbl/day)": 1375.9333015,
         "WOPR:WP35(bbl/day)": 2.1942025464999997,
         "WOPR:WP36(bbl/day)": 281.13413205,
         "WOPR:WP37(bbl/day)": 305.1420211,
         "WOPR:WP38(bbl/day)": 659.816078075,
         "WOPR:WP39(bbl/day)": 13.170770325,
         "WOPR:WP4(bbl/day)": 190.9867295,
         "WOPR:WP40(bbl/day)": 49.51812375,
         "WOPR:WP41(bbl/day)": 1004.35057675,
         "WOPR:WP42(bbl/day)": 972.36018685,
         "WOPR:WP43(bbl/day)": 1476.2392555000001,
         "WOPR:WP44(bbl/day)": 320.820459375,
         "WOPR:WP45(bbl/day)": 0.14145506149999998,
         "WOPR:WP46(bbl/day)": 1172.94847575,
         "WOPR:WP47(bbl/day)": 1105.3579125,
         "WOPR:WP48(bbl/day)": 353.05003880000004,
         "WOPR:WP49(bbl/day)": 274.153563975,
         "WOPR:WP5(bbl/day)": 10.25787227,
         "WOPR:WP6(bbl/day)": 799.16855925,
         "WOPR:WP7(bbl/day)": 5.4730928070000004,
         "WOPR:WP8(bbl/day)": 13.0175975025,
         "WOPR:WP9(bbl/day)": 5.865218814,
         "Total": 6632.304584660999,
         "_deepnote_index_column": "25%"
        },
        {
         "WOPR:WP0(bbl/day)": 8.804288491,
         "WOPR:WP1(bbl/day)": 38.61188772,
         "WOPR:WP10(bbl/day)": 46.25811205,
         "WOPR:WP11(bbl/day)": "nan",
         "WOPR:WP12(bbl/day)": 0.674357316,
         "WOPR:WP13(bbl/day)": 21.998419875000003,
         "WOPR:WP14(bbl/day)": 390.59655835,
         "WOPR:WP15(bbl/day)": 3030.348207,
         "WOPR:WP16(bbl/day)": 1199.8652095,
         "WOPR:WP17(bbl/day)": 1375.149992,
         "WOPR:WP18(bbl/day)": 288.9941695,
         "WOPR:WP19(bbl/day)": 7.087096475999999,
         "WOPR:WP2(bbl/day)": 5.3554695715000005,
         "WOPR:WP20(bbl/day)": 39.472971735,
         "WOPR:WP21(bbl/day)": 1.5762132384999998,
         "WOPR:WP22(bbl/day)": 13.132089655,
         "WOPR:WP23(bbl/day)": 6.270136746,
         "WOPR:WP24(bbl/day)": 92.240588745,
         "WOPR:WP25(bbl/day)": 1324.5040755,
         "WOPR:WP26(bbl/day)": 428.5928193,
         "WOPR:WP27(bbl/day)": 9.04556094,
         "WOPR:WP28(bbl/day)": 129.25991514999998,
         "WOPR:WP29(bbl/day)": 871.0155496,
         "WOPR:WP3(bbl/day)": 1627.488753,
         "WOPR:WP30(bbl/day)": 1.126174243,
         "WOPR:WP31(bbl/day)": 458.71851955,
         "WOPR:WP32(bbl/day)": 1618.477384,
         "WOPR:WP33(bbl/day)": 0.226108706,
         "WOPR:WP34(bbl/day)": 1481.379695,
         "WOPR:WP35(bbl/day)": 2.20036736,
         "WOPR:WP36(bbl/day)": 353.33895735,
         "WOPR:WP37(bbl/day)": 353.887697,
         "WOPR:WP38(bbl/day)": 909.5957049000001,
         "WOPR:WP39(bbl/day)": 13.25075994,
         "WOPR:WP4(bbl/day)": 239.6693859,
         "WOPR:WP40(bbl/day)": 49.51812375,
         "WOPR:WP41(bbl/day)": 1051.9809565,
         "WOPR:WP42(bbl/day)": 1151.057137,
         "WOPR:WP43(bbl/day)": 2444.347025,
         "WOPR:WP44(bbl/day)": 435.33667425,
         "WOPR:WP45(bbl/day)": 0.14192183,
         "WOPR:WP46(bbl/day)": 1239.0336375,
         "WOPR:WP47(bbl/day)": 1189.9253425,
         "WOPR:WP48(bbl/day)": 464.0814207,
         "WOPR:WP49(bbl/day)": 348.43606275,
         "WOPR:WP5(bbl/day)": 13.95272205,
         "WOPR:WP6(bbl/day)": 979.26069425,
         "WOPR:WP7(bbl/day)": 5.855898669,
         "WOPR:WP8(bbl/day)": 13.075749185,
         "WOPR:WP9(bbl/day)": 6.280917366,
         "Total": 8075.815412166,
         "_deepnote_index_column": "50%"
        },
        {
         "WOPR:WP0(bbl/day)": 8.81484295375,
         "WOPR:WP1(bbl/day)": 38.818827622499995,
         "WOPR:WP10(bbl/day)": 46.80309652,
         "WOPR:WP11(bbl/day)": "nan",
         "WOPR:WP12(bbl/day)": 0.70759355,
         "WOPR:WP13(bbl/day)": 22.9461953475,
         "WOPR:WP14(bbl/day)": 420.37197642499996,
         "WOPR:WP15(bbl/day)": 3215.3756965000002,
         "WOPR:WP16(bbl/day)": 1549.21931025,
         "WOPR:WP17(bbl/day)": 1421.757508,
         "WOPR:WP18(bbl/day)": 303.6975792,
         "WOPR:WP19(bbl/day)": 7.14186743725,
         "WOPR:WP2(bbl/day)": 5.36775986975,
         "WOPR:WP20(bbl/day)": 39.75070213,
         "WOPR:WP21(bbl/day)": 1.59868772325,
         "WOPR:WP22(bbl/day)": 13.1765630975,
         "WOPR:WP23(bbl/day)": 6.3177297795000005,
         "WOPR:WP24(bbl/day)": 100.2530360475,
         "WOPR:WP25(bbl/day)": 1356.28269675,
         "WOPR:WP26(bbl/day)": 537.3110789,
         "WOPR:WP27(bbl/day)": 9.10387348575,
         "WOPR:WP28(bbl/day)": 135.47261577499998,
         "WOPR:WP29(bbl/day)": 905.6097948,
         "WOPR:WP3(bbl/day)": 1755.056368,
         "WOPR:WP30(bbl/day)": 1.130591836,
         "WOPR:WP31(bbl/day)": 484.384468225,
         "WOPR:WP32(bbl/day)": 1618.477384,
         "WOPR:WP33(bbl/day)": 0.22953536549999998,
         "WOPR:WP34(bbl/day)": 1565.2722709999998,
         "WOPR:WP35(bbl/day)": 2.20758419125,
         "WOPR:WP36(bbl/day)": 454.965823725,
         "WOPR:WP37(bbl/day)": 456.9578573,
         "WOPR:WP38(bbl/day)": 1179.5229562499999,
         "WOPR:WP39(bbl/day)": 13.362450525,
         "WOPR:WP4(bbl/day)": 309.1743388,
         "WOPR:WP40(bbl/day)": 49.51812375,
         "WOPR:WP41(bbl/day)": 1104.2005212499998,
         "WOPR:WP42(bbl/day)": 1278.18124475,
         "WOPR:WP43(bbl/day)": 2784.0160195,
         "WOPR:WP44(bbl/day)": 559.9250519750001,
         "WOPR:WP45(bbl/day)": 0.14293162650000002,
         "WOPR:WP46(bbl/day)": 1311.2943209999999,
         "WOPR:WP47(bbl/day)": 1335.1172245,
         "WOPR:WP48(bbl/day)": 578.0410272500001,
         "WOPR:WP49(bbl/day)": 426.108003525,
         "WOPR:WP5(bbl/day)": 17.21435186,
         "WOPR:WP6(bbl/day)": 1226.342823,
         "WOPR:WP7(bbl/day)": 6.32058298625,
         "WOPR:WP8(bbl/day)": 13.152950125,
         "WOPR:WP9(bbl/day)": 7.059283983,
         "Total": 9800.313135245999,
         "_deepnote_index_column": "75%"
        },
        {
         "WOPR:WP0(bbl/day)": 8.945507797,
         "WOPR:WP1(bbl/day)": 39.39379636,
         "WOPR:WP10(bbl/day)": 48.10991667,
         "WOPR:WP11(bbl/day)": "nan",
         "WOPR:WP12(bbl/day)": 0.717781023,
         "WOPR:WP13(bbl/day)": 24.5296747,
         "WOPR:WP14(bbl/day)": 447.0467609,
         "WOPR:WP15(bbl/day)": 3483.552017,
         "WOPR:WP16(bbl/day)": 1941.703124,
         "WOPR:WP17(bbl/day)": 1484.466481,
         "WOPR:WP18(bbl/day)": 372.7464441,
         "WOPR:WP19(bbl/day)": 7.211017653,
         "WOPR:WP2(bbl/day)": 5.422370986,
         "WOPR:WP20(bbl/day)": 40.38234912,
         "WOPR:WP21(bbl/day)": 1.63135987,
         "WOPR:WP22(bbl/day)": 13.39152196,
         "WOPR:WP23(bbl/day)": 6.592738958,
         "WOPR:WP24(bbl/day)": 120.6842612,
         "WOPR:WP25(bbl/day)": 1405.446092,
         "WOPR:WP26(bbl/day)": 650.1969226,
         "WOPR:WP27(bbl/day)": 9.370701104,
         "WOPR:WP28(bbl/day)": 154.8495473,
         "WOPR:WP29(bbl/day)": 1015.718069,
         "WOPR:WP3(bbl/day)": 2006.424582,
         "WOPR:WP30(bbl/day)": 1.139608047,
         "WOPR:WP31(bbl/day)": 510.6204765,
         "WOPR:WP32(bbl/day)": 1618.477384,
         "WOPR:WP33(bbl/day)": 0.237098562,
         "WOPR:WP34(bbl/day)": 1693.574449,
         "WOPR:WP35(bbl/day)": 2.219788993,
         "WOPR:WP36(bbl/day)": 592.9962853,
         "WOPR:WP37(bbl/day)": 534.5002728,
         "WOPR:WP38(bbl/day)": 1490.368325,
         "WOPR:WP39(bbl/day)": 13.69533399,
         "WOPR:WP4(bbl/day)": 420.4759328,
         "WOPR:WP40(bbl/day)": 49.51812375,
         "WOPR:WP41(bbl/day)": 1188.527139,
         "WOPR:WP42(bbl/day)": 1525.612453,
         "WOPR:WP43(bbl/day)": 3576.398644,
         "WOPR:WP44(bbl/day)": 698.5910504,
         "WOPR:WP45(bbl/day)": 0.14864167,
         "WOPR:WP46(bbl/day)": 1441.033779,
         "WOPR:WP47(bbl/day)": 1454.967513,
         "WOPR:WP48(bbl/day)": 676.0684474,
         "WOPR:WP49(bbl/day)": 512.6785268,
         "WOPR:WP5(bbl/day)": 19.81721047,
         "WOPR:WP6(bbl/day)": 1611.39346,
         "WOPR:WP7(bbl/day)": 6.854248853,
         "WOPR:WP8(bbl/day)": 13.38587606,
         "WOPR:WP9(bbl/day)": 7.598605566,
         "Total": 13674.068206769998,
         "_deepnote_index_column": "max"
        }
       ]
      },
      "text/plain": "       WOPR:WP0(bbl/day)  WOPR:WP1(bbl/day)  WOPR:WP10(bbl/day)  \\\ncount          54.000000          26.000000           34.000000   \nmean            8.809168          38.675641           46.363101   \nstd             0.024437           0.271776            0.675604   \nmin             8.785622          38.346559           45.500584   \n25%             8.795126          38.467457           45.795829   \n50%             8.804288          38.611888           46.258112   \n75%             8.814843          38.818828           46.803097   \nmax             8.945508          39.393796           48.109917   \n\n       WOPR:WP11(bbl/day)  WOPR:WP12(bbl/day)  WOPR:WP13(bbl/day)  \\\ncount                 0.0           87.000000           80.000000   \nmean                  NaN            0.664632           22.342583   \nstd                   NaN            0.044145            0.867709   \nmin                   NaN            0.574007           21.417261   \n25%                   NaN            0.629549           21.613251   \n50%                   NaN            0.674357           21.998420   \n75%                   NaN            0.707594           22.946195   \nmax                   NaN            0.717781           24.529675   \n\n       WOPR:WP14(bbl/day)  WOPR:WP15(bbl/day)  WOPR:WP16(bbl/day)  \\\ncount           46.000000           15.000000           44.000000   \nmean           381.194628         3060.205978         1221.216449   \nstd             45.894232          223.213725          388.403162   \nmin            297.860478         2744.731762          650.708425   \n25%            343.387504         2890.105172          869.892989   \n50%            390.596558         3030.348207         1199.865209   \n75%            420.371976         3215.375697         1549.219310   \nmax            447.046761         3483.552017         1941.703124   \n\n       WOPR:WP17(bbl/day)  ...  WOPR:WP46(bbl/day)  WOPR:WP47(bbl/day)  \\\ncount           13.000000  ...           22.000000           30.000000   \nmean          1367.727037  ...         1249.728244         1215.319622   \nstd             73.441095  ...           94.585474          131.419452   \nmin           1263.301841  ...         1123.836187         1038.169784   \n25%           1305.778714  ...         1172.948476         1105.357913   \n50%           1375.149992  ...         1239.033637         1189.925342   \n75%           1421.757508  ...         1311.294321         1335.117225   \nmax           1484.466481  ...         1441.033779         1454.967513   \n\n       WOPR:WP48(bbl/day)  WOPR:WP49(bbl/day)  WOPR:WP5(bbl/day)  \\\ncount           63.000000           54.000000          77.000000   \nmean           464.882440          351.281916          13.723622   \nstd            127.722299           89.236190           3.947069   \nmin            261.701444          213.002484           7.129533   \n25%            353.050039          274.153564          10.257872   \n50%            464.081421          348.436063          13.952722   \n75%            578.041027          426.108004          17.214352   \nmax            676.068447          512.678527          19.817210   \n\n       WOPR:WP6(bbl/day)  WOPR:WP7(bbl/day)  WOPR:WP8(bbl/day)  \\\ncount          30.000000          12.000000          50.000000   \nmean         1033.318772           5.925703          13.095474   \nstd           273.942482           0.544118           0.098262   \nmin           696.642534           5.269145          12.969189   \n25%           799.168559           5.473093          13.017598   \n50%           979.260694           5.855899          13.075749   \n75%          1226.342823           6.320583          13.152950   \nmax          1611.393460           6.854249          13.385876   \n\n       WOPR:WP9(bbl/day)         Total  \ncount          41.000000    121.000000  \nmean            6.434229   8168.554806  \nstd             0.674547   2647.876209  \nmin             5.498970    340.549643  \n25%             5.865219   6632.304585  \n50%             6.280917   8075.815412  \n75%             7.059284   9800.313135  \nmax             7.598606  13674.068207  \n\n[8 rows x 51 columns]",
      "text/html": "<div>\n<style scoped>\n    .dataframe tbody tr th:only-of-type {\n        vertical-align: middle;\n    }\n\n    .dataframe tbody tr th {\n        vertical-align: top;\n    }\n\n    .dataframe thead th {\n        text-align: right;\n    }\n</style>\n<table border=\"1\" class=\"dataframe\">\n  <thead>\n    <tr style=\"text-align: right;\">\n      <th></th>\n      <th>WOPR:WP0(bbl/day)</th>\n      <th>WOPR:WP1(bbl/day)</th>\n      <th>WOPR:WP10(bbl/day)</th>\n      <th>WOPR:WP11(bbl/day)</th>\n      <th>WOPR:WP12(bbl/day)</th>\n      <th>WOPR:WP13(bbl/day)</th>\n      <th>WOPR:WP14(bbl/day)</th>\n      <th>WOPR:WP15(bbl/day)</th>\n      <th>WOPR:WP16(bbl/day)</th>\n      <th>WOPR:WP17(bbl/day)</th>\n      <th>...</th>\n      <th>WOPR:WP46(bbl/day)</th>\n      <th>WOPR:WP47(bbl/day)</th>\n      <th>WOPR:WP48(bbl/day)</th>\n      <th>WOPR:WP49(bbl/day)</th>\n      <th>WOPR:WP5(bbl/day)</th>\n      <th>WOPR:WP6(bbl/day)</th>\n      <th>WOPR:WP7(bbl/day)</th>\n      <th>WOPR:WP8(bbl/day)</th>\n      <th>WOPR:WP9(bbl/day)</th>\n      <th>Total</th>\n    </tr>\n  </thead>\n  <tbody>\n    <tr>\n      <th>count</th>\n      <td>54.000000</td>\n      <td>26.000000</td>\n      <td>34.000000</td>\n      <td>0.0</td>\n      <td>87.000000</td>\n      <td>80.000000</td>\n      <td>46.000000</td>\n      <td>15.000000</td>\n      <td>44.000000</td>\n      <td>13.000000</td>\n      <td>...</td>\n      <td>22.000000</td>\n      <td>30.000000</td>\n      <td>63.000000</td>\n      <td>54.000000</td>\n      <td>77.000000</td>\n      <td>30.000000</td>\n      <td>12.000000</td>\n      <td>50.000000</td>\n      <td>41.000000</td>\n      <td>121.000000</td>\n    </tr>\n    <tr>\n      <th>mean</th>\n      <td>8.809168</td>\n      <td>38.675641</td>\n      <td>46.363101</td>\n      <td>NaN</td>\n      <td>0.664632</td>\n      <td>22.342583</td>\n      <td>381.194628</td>\n      <td>3060.205978</td>\n      <td>1221.216449</td>\n      <td>1367.727037</td>\n      <td>...</td>\n      <td>1249.728244</td>\n      <td>1215.319622</td>\n      <td>464.882440</td>\n      <td>351.281916</td>\n      <td>13.723622</td>\n      <td>1033.318772</td>\n      <td>5.925703</td>\n      <td>13.095474</td>\n      <td>6.434229</td>\n      <td>8168.554806</td>\n    </tr>\n    <tr>\n      <th>std</th>\n      <td>0.024437</td>\n      <td>0.271776</td>\n      <td>0.675604</td>\n      <td>NaN</td>\n      <td>0.044145</td>\n      <td>0.867709</td>\n      <td>45.894232</td>\n      <td>223.213725</td>\n      <td>388.403162</td>\n      <td>73.441095</td>\n      <td>...</td>\n      <td>94.585474</td>\n      <td>131.419452</td>\n      <td>127.722299</td>\n      <td>89.236190</td>\n      <td>3.947069</td>\n      <td>273.942482</td>\n      <td>0.544118</td>\n      <td>0.098262</td>\n      <td>0.674547</td>\n      <td>2647.876209</td>\n    </tr>\n    <tr>\n      <th>min</th>\n      <td>8.785622</td>\n      <td>38.346559</td>\n      <td>45.500584</td>\n      <td>NaN</td>\n      <td>0.574007</td>\n      <td>21.417261</td>\n      <td>297.860478</td>\n      <td>2744.731762</td>\n      <td>650.708425</td>\n      <td>1263.301841</td>\n      <td>...</td>\n      <td>1123.836187</td>\n      <td>1038.169784</td>\n      <td>261.701444</td>\n      <td>213.002484</td>\n      <td>7.129533</td>\n      <td>696.642534</td>\n      <td>5.269145</td>\n      <td>12.969189</td>\n      <td>5.498970</td>\n      <td>340.549643</td>\n    </tr>\n    <tr>\n      <th>25%</th>\n      <td>8.795126</td>\n      <td>38.467457</td>\n      <td>45.795829</td>\n      <td>NaN</td>\n      <td>0.629549</td>\n      <td>21.613251</td>\n      <td>343.387504</td>\n      <td>2890.105172</td>\n      <td>869.892989</td>\n      <td>1305.778714</td>\n      <td>...</td>\n      <td>1172.948476</td>\n      <td>1105.357913</td>\n      <td>353.050039</td>\n      <td>274.153564</td>\n      <td>10.257872</td>\n      <td>799.168559</td>\n      <td>5.473093</td>\n      <td>13.017598</td>\n      <td>5.865219</td>\n      <td>6632.304585</td>\n    </tr>\n    <tr>\n      <th>50%</th>\n      <td>8.804288</td>\n      <td>38.611888</td>\n      <td>46.258112</td>\n      <td>NaN</td>\n      <td>0.674357</td>\n      <td>21.998420</td>\n      <td>390.596558</td>\n      <td>3030.348207</td>\n      <td>1199.865209</td>\n      <td>1375.149992</td>\n      <td>...</td>\n      <td>1239.033637</td>\n      <td>1189.925342</td>\n      <td>464.081421</td>\n      <td>348.436063</td>\n      <td>13.952722</td>\n      <td>979.260694</td>\n      <td>5.855899</td>\n      <td>13.075749</td>\n      <td>6.280917</td>\n      <td>8075.815412</td>\n    </tr>\n    <tr>\n      <th>75%</th>\n      <td>8.814843</td>\n      <td>38.818828</td>\n      <td>46.803097</td>\n      <td>NaN</td>\n      <td>0.707594</td>\n      <td>22.946195</td>\n      <td>420.371976</td>\n      <td>3215.375697</td>\n      <td>1549.219310</td>\n      <td>1421.757508</td>\n      <td>...</td>\n      <td>1311.294321</td>\n      <td>1335.117225</td>\n      <td>578.041027</td>\n      <td>426.108004</td>\n      <td>17.214352</td>\n      <td>1226.342823</td>\n      <td>6.320583</td>\n      <td>13.152950</td>\n      <td>7.059284</td>\n      <td>9800.313135</td>\n    </tr>\n    <tr>\n      <th>max</th>\n      <td>8.945508</td>\n      <td>39.393796</td>\n      <td>48.109917</td>\n      <td>NaN</td>\n      <td>0.717781</td>\n      <td>24.529675</td>\n      <td>447.046761</td>\n      <td>3483.552017</td>\n      <td>1941.703124</td>\n      <td>1484.466481</td>\n      <td>...</td>\n      <td>1441.033779</td>\n      <td>1454.967513</td>\n      <td>676.068447</td>\n      <td>512.678527</td>\n      <td>19.817210</td>\n      <td>1611.393460</td>\n      <td>6.854249</td>\n      <td>13.385876</td>\n      <td>7.598606</td>\n      <td>13674.068207</td>\n    </tr>\n  </tbody>\n</table>\n<p>8 rows × 51 columns</p>\n</div>"
     },
     "metadata": {}
    }
   ]
  },
  {
   "cell_type": "code",
   "metadata": {
    "cell_id": "1f846d9457784f3892485f227cddeb62",
    "tags": [],
    "deepnote_to_be_reexecuted": false,
    "source_hash": "bded00f7",
    "execution_start": 1648307402311,
    "execution_millis": 1,
    "deepnote_table_state": {
     "pageSize": 10,
     "pageIndex": 0,
     "filters": [],
     "sortBy": []
    },
    "deepnote_table_loading": false,
    "deepnote_cell_type": "code",
    "deepnote_cell_height": 80.60000610351562
   },
   "source": "two_year_well_df = well_time_series_df.loc[:, well_time_series_df.isnull().sum() < (121-24)].T",
   "execution_count": 47,
   "outputs": []
  },
  {
   "cell_type": "code",
   "metadata": {
    "cell_id": "952c887ff66147758b4e9fba69e5f08b",
    "tags": [],
    "deepnote_to_be_reexecuted": false,
    "source_hash": "550dacad",
    "execution_start": 1648308655081,
    "execution_millis": 216,
    "deepnote_cell_type": "code",
    "deepnote_cell_height": 749.4000244140625,
    "deepnote_output_heights": [
     527
    ]
   },
   "source": "two_year_well_df.columns = [str(x) for x in two_year_well_df.columns]\n# two_year_well_df = two_year_well_df.drop(\"Total\", axis=0)\ntwo_year_well_df[\"decline_init\"] = two_year_well_df[\"1\"] - two_year_well_df[\"0\"]\ntwo_year_well_df[\"sum\"] = two_year_well_df.loc[:, \"0\":\"24\"].sum(axis=1)\ntwo_year_X = two_year_well_df[[\"0\", \"decline_init\"]]\ntwo_year_y = two_year_well_df[\"sum\"]\ntrain_X, test_X, train_y, test_y = train_test_split(two_year_X, two_year_y, test_size=.2, random_state=SEED)\npx.scatter_3d(two_year_well_df, x=\"decline_init\", y=\"0\", z=\"sum\", hover_name=two_year_well_df.index)",
   "execution_count": 69,
   "outputs": [
    {
     "data": {
      "text/html": "<html>\n<head><meta charset=\"utf-8\" /></head>\n<body>\n    <div>            <script src=\"https://cdnjs.cloudflare.com/ajax/libs/mathjax/2.7.5/MathJax.js?config=TeX-AMS-MML_SVG\"></script><script type=\"text/javascript\">if (window.MathJax) {MathJax.Hub.Config({SVG: {font: \"STIX-Web\"}});}</script>                <script type=\"text/javascript\">window.PlotlyConfig = {MathJaxConfig: 'local'};</script>\n        <script src=\"https://cdn.plot.ly/plotly-2.9.0.min.js\"></script>                <div id=\"76adff40-8b8d-4b9f-8c82-6df8559994d5\" class=\"plotly-graph-div\" style=\"height:525px; width:100%;\"></div>            <script type=\"text/javascript\">                                    window.PLOTLYENV=window.PLOTLYENV || {};                                    if (document.getElementById(\"76adff40-8b8d-4b9f-8c82-6df8559994d5\")) {                    Plotly.newPlot(                        \"76adff40-8b8d-4b9f-8c82-6df8559994d5\",                        [{\"hovertemplate\":\"<b>%{hovertext}</b><br><br>decline_init=%{x}<br>0=%{y}<br>sum=%{z}<extra></extra>\",\"hovertext\":[\"WOPR:WP0(bbl/day)\",\"WOPR:WP1(bbl/day)\",\"WOPR:WP10(bbl/day)\",\"WOPR:WP12(bbl/day)\",\"WOPR:WP13(bbl/day)\",\"WOPR:WP14(bbl/day)\",\"WOPR:WP16(bbl/day)\",\"WOPR:WP18(bbl/day)\",\"WOPR:WP19(bbl/day)\",\"WOPR:WP2(bbl/day)\",\"WOPR:WP21(bbl/day)\",\"WOPR:WP22(bbl/day)\",\"WOPR:WP23(bbl/day)\",\"WOPR:WP24(bbl/day)\",\"WOPR:WP26(bbl/day)\",\"WOPR:WP27(bbl/day)\",\"WOPR:WP28(bbl/day)\",\"WOPR:WP29(bbl/day)\",\"WOPR:WP3(bbl/day)\",\"WOPR:WP30(bbl/day)\",\"WOPR:WP33(bbl/day)\",\"WOPR:WP34(bbl/day)\",\"WOPR:WP36(bbl/day)\",\"WOPR:WP37(bbl/day)\",\"WOPR:WP38(bbl/day)\",\"WOPR:WP4(bbl/day)\",\"WOPR:WP41(bbl/day)\",\"WOPR:WP42(bbl/day)\",\"WOPR:WP43(bbl/day)\",\"WOPR:WP44(bbl/day)\",\"WOPR:WP45(bbl/day)\",\"WOPR:WP47(bbl/day)\",\"WOPR:WP48(bbl/day)\",\"WOPR:WP49(bbl/day)\",\"WOPR:WP5(bbl/day)\",\"WOPR:WP6(bbl/day)\",\"WOPR:WP8(bbl/day)\",\"WOPR:WP9(bbl/day)\"],\"legendgroup\":\"\",\"marker\":{\"color\":\"#636efa\",\"symbol\":\"circle\"},\"mode\":\"markers\",\"name\":\"\",\"scene\":\"scene\",\"showlegend\":false,\"x\":[-0.09062883599999871,-0.20310410000000445,-0.4648775499999971,-0.0024736690000000117,-0.1966688000000012,-2.6833957000000055,-71.72052999999983,-36.99766040000003,-0.017967384999999503,-0.015916215999999928,-0.0069913980000000375,-0.05213969000000063,-0.06150928100000019,-2.147619800000001,-14.985610500000007,-0.09405688600000062,-3.874765800000006,-23.76531840000007,-73.31951100000015,-0.0023039639999999917,-0.0019249470000000102,-31.996726999999964,-18.922596999999996,-4.867321500000003,-29.105527999999822,-11.7130808,-21.907566999999972,-29.386062000000038,-82.84150199999976,-13.153522199999998,-0.0017942800000000092,-23.19016099999999,-8.850784799999929,-11.169178199999976,-0.1540351799999975,-71.26765,-0.06458445999999896,-0.030804016999999462],\"y\":[8.945507797,39.39379636,48.10991667,0.717781023,24.5296747,447.0467609,1941.703124,372.7464441,7.211017653,5.422370986,1.63135987,13.39152196,6.592738958,120.6842612,650.1969226,9.370701104,154.8495473,1015.718069,2006.424582,1.139608047,0.237098562,1693.574449,592.9962853,534.5002728,1490.368325,420.4759328,1188.527139,1525.612453,3576.398644,698.5910504,0.14864167,1454.967513,676.0684474,512.6785268,19.81721047,1611.39346,13.38587606,7.598605566],\"z\":[220.62356781000003,967.2201038799999,1165.74319755,17.758218033999995,586.7026962699999,10456.8876721,37745.757428,7935.172961899999,178.579386226,134.496097724,39.829815138,328.99046735,159.580913605,2604.45007444,12886.843013099999,228.26324896299997,3505.9627517999998,22318.2793949,44507.62819500001,28.281087117,5.737569171999999,37084.26171599999,10455.4261656,12317.9224072,30098.408009299998,7103.245566700002,26849.1868593,33045.49196299999,77690.93430800001,14361.0133302,3.588711726999999,31206.119464999996,14963.587681899999,10847.3133811,455.2458708899999,27432.9418198,329.32118614,171.41055365299997],\"type\":\"scatter3d\"}],                        {\"template\":{\"data\":{\"bar\":[{\"error_x\":{\"color\":\"#2a3f5f\"},\"error_y\":{\"color\":\"#2a3f5f\"},\"marker\":{\"line\":{\"color\":\"#E5ECF6\",\"width\":0.5},\"pattern\":{\"fillmode\":\"overlay\",\"size\":10,\"solidity\":0.2}},\"type\":\"bar\"}],\"barpolar\":[{\"marker\":{\"line\":{\"color\":\"#E5ECF6\",\"width\":0.5},\"pattern\":{\"fillmode\":\"overlay\",\"size\":10,\"solidity\":0.2}},\"type\":\"barpolar\"}],\"carpet\":[{\"aaxis\":{\"endlinecolor\":\"#2a3f5f\",\"gridcolor\":\"white\",\"linecolor\":\"white\",\"minorgridcolor\":\"white\",\"startlinecolor\":\"#2a3f5f\"},\"baxis\":{\"endlinecolor\":\"#2a3f5f\",\"gridcolor\":\"white\",\"linecolor\":\"white\",\"minorgridcolor\":\"white\",\"startlinecolor\":\"#2a3f5f\"},\"type\":\"carpet\"}],\"choropleth\":[{\"colorbar\":{\"outlinewidth\":0,\"ticks\":\"\"},\"type\":\"choropleth\"}],\"contour\":[{\"colorbar\":{\"outlinewidth\":0,\"ticks\":\"\"},\"colorscale\":[[0.0,\"#0d0887\"],[0.1111111111111111,\"#46039f\"],[0.2222222222222222,\"#7201a8\"],[0.3333333333333333,\"#9c179e\"],[0.4444444444444444,\"#bd3786\"],[0.5555555555555556,\"#d8576b\"],[0.6666666666666666,\"#ed7953\"],[0.7777777777777778,\"#fb9f3a\"],[0.8888888888888888,\"#fdca26\"],[1.0,\"#f0f921\"]],\"type\":\"contour\"}],\"contourcarpet\":[{\"colorbar\":{\"outlinewidth\":0,\"ticks\":\"\"},\"type\":\"contourcarpet\"}],\"heatmap\":[{\"colorbar\":{\"outlinewidth\":0,\"ticks\":\"\"},\"colorscale\":[[0.0,\"#0d0887\"],[0.1111111111111111,\"#46039f\"],[0.2222222222222222,\"#7201a8\"],[0.3333333333333333,\"#9c179e\"],[0.4444444444444444,\"#bd3786\"],[0.5555555555555556,\"#d8576b\"],[0.6666666666666666,\"#ed7953\"],[0.7777777777777778,\"#fb9f3a\"],[0.8888888888888888,\"#fdca26\"],[1.0,\"#f0f921\"]],\"type\":\"heatmap\"}],\"heatmapgl\":[{\"colorbar\":{\"outlinewidth\":0,\"ticks\":\"\"},\"colorscale\":[[0.0,\"#0d0887\"],[0.1111111111111111,\"#46039f\"],[0.2222222222222222,\"#7201a8\"],[0.3333333333333333,\"#9c179e\"],[0.4444444444444444,\"#bd3786\"],[0.5555555555555556,\"#d8576b\"],[0.6666666666666666,\"#ed7953\"],[0.7777777777777778,\"#fb9f3a\"],[0.8888888888888888,\"#fdca26\"],[1.0,\"#f0f921\"]],\"type\":\"heatmapgl\"}],\"histogram\":[{\"marker\":{\"pattern\":{\"fillmode\":\"overlay\",\"size\":10,\"solidity\":0.2}},\"type\":\"histogram\"}],\"histogram2d\":[{\"colorbar\":{\"outlinewidth\":0,\"ticks\":\"\"},\"colorscale\":[[0.0,\"#0d0887\"],[0.1111111111111111,\"#46039f\"],[0.2222222222222222,\"#7201a8\"],[0.3333333333333333,\"#9c179e\"],[0.4444444444444444,\"#bd3786\"],[0.5555555555555556,\"#d8576b\"],[0.6666666666666666,\"#ed7953\"],[0.7777777777777778,\"#fb9f3a\"],[0.8888888888888888,\"#fdca26\"],[1.0,\"#f0f921\"]],\"type\":\"histogram2d\"}],\"histogram2dcontour\":[{\"colorbar\":{\"outlinewidth\":0,\"ticks\":\"\"},\"colorscale\":[[0.0,\"#0d0887\"],[0.1111111111111111,\"#46039f\"],[0.2222222222222222,\"#7201a8\"],[0.3333333333333333,\"#9c179e\"],[0.4444444444444444,\"#bd3786\"],[0.5555555555555556,\"#d8576b\"],[0.6666666666666666,\"#ed7953\"],[0.7777777777777778,\"#fb9f3a\"],[0.8888888888888888,\"#fdca26\"],[1.0,\"#f0f921\"]],\"type\":\"histogram2dcontour\"}],\"mesh3d\":[{\"colorbar\":{\"outlinewidth\":0,\"ticks\":\"\"},\"type\":\"mesh3d\"}],\"parcoords\":[{\"line\":{\"colorbar\":{\"outlinewidth\":0,\"ticks\":\"\"}},\"type\":\"parcoords\"}],\"pie\":[{\"automargin\":true,\"type\":\"pie\"}],\"scatter\":[{\"marker\":{\"colorbar\":{\"outlinewidth\":0,\"ticks\":\"\"}},\"type\":\"scatter\"}],\"scatter3d\":[{\"line\":{\"colorbar\":{\"outlinewidth\":0,\"ticks\":\"\"}},\"marker\":{\"colorbar\":{\"outlinewidth\":0,\"ticks\":\"\"}},\"type\":\"scatter3d\"}],\"scattercarpet\":[{\"marker\":{\"colorbar\":{\"outlinewidth\":0,\"ticks\":\"\"}},\"type\":\"scattercarpet\"}],\"scattergeo\":[{\"marker\":{\"colorbar\":{\"outlinewidth\":0,\"ticks\":\"\"}},\"type\":\"scattergeo\"}],\"scattergl\":[{\"marker\":{\"colorbar\":{\"outlinewidth\":0,\"ticks\":\"\"}},\"type\":\"scattergl\"}],\"scattermapbox\":[{\"marker\":{\"colorbar\":{\"outlinewidth\":0,\"ticks\":\"\"}},\"type\":\"scattermapbox\"}],\"scatterpolar\":[{\"marker\":{\"colorbar\":{\"outlinewidth\":0,\"ticks\":\"\"}},\"type\":\"scatterpolar\"}],\"scatterpolargl\":[{\"marker\":{\"colorbar\":{\"outlinewidth\":0,\"ticks\":\"\"}},\"type\":\"scatterpolargl\"}],\"scatterternary\":[{\"marker\":{\"colorbar\":{\"outlinewidth\":0,\"ticks\":\"\"}},\"type\":\"scatterternary\"}],\"surface\":[{\"colorbar\":{\"outlinewidth\":0,\"ticks\":\"\"},\"colorscale\":[[0.0,\"#0d0887\"],[0.1111111111111111,\"#46039f\"],[0.2222222222222222,\"#7201a8\"],[0.3333333333333333,\"#9c179e\"],[0.4444444444444444,\"#bd3786\"],[0.5555555555555556,\"#d8576b\"],[0.6666666666666666,\"#ed7953\"],[0.7777777777777778,\"#fb9f3a\"],[0.8888888888888888,\"#fdca26\"],[1.0,\"#f0f921\"]],\"type\":\"surface\"}],\"table\":[{\"cells\":{\"fill\":{\"color\":\"#EBF0F8\"},\"line\":{\"color\":\"white\"}},\"header\":{\"fill\":{\"color\":\"#C8D4E3\"},\"line\":{\"color\":\"white\"}},\"type\":\"table\"}]},\"layout\":{\"annotationdefaults\":{\"arrowcolor\":\"#2a3f5f\",\"arrowhead\":0,\"arrowwidth\":1},\"autotypenumbers\":\"strict\",\"coloraxis\":{\"colorbar\":{\"outlinewidth\":0,\"ticks\":\"\"}},\"colorscale\":{\"diverging\":[[0,\"#8e0152\"],[0.1,\"#c51b7d\"],[0.2,\"#de77ae\"],[0.3,\"#f1b6da\"],[0.4,\"#fde0ef\"],[0.5,\"#f7f7f7\"],[0.6,\"#e6f5d0\"],[0.7,\"#b8e186\"],[0.8,\"#7fbc41\"],[0.9,\"#4d9221\"],[1,\"#276419\"]],\"sequential\":[[0.0,\"#0d0887\"],[0.1111111111111111,\"#46039f\"],[0.2222222222222222,\"#7201a8\"],[0.3333333333333333,\"#9c179e\"],[0.4444444444444444,\"#bd3786\"],[0.5555555555555556,\"#d8576b\"],[0.6666666666666666,\"#ed7953\"],[0.7777777777777778,\"#fb9f3a\"],[0.8888888888888888,\"#fdca26\"],[1.0,\"#f0f921\"]],\"sequentialminus\":[[0.0,\"#0d0887\"],[0.1111111111111111,\"#46039f\"],[0.2222222222222222,\"#7201a8\"],[0.3333333333333333,\"#9c179e\"],[0.4444444444444444,\"#bd3786\"],[0.5555555555555556,\"#d8576b\"],[0.6666666666666666,\"#ed7953\"],[0.7777777777777778,\"#fb9f3a\"],[0.8888888888888888,\"#fdca26\"],[1.0,\"#f0f921\"]]},\"colorway\":[\"#636efa\",\"#EF553B\",\"#00cc96\",\"#ab63fa\",\"#FFA15A\",\"#19d3f3\",\"#FF6692\",\"#B6E880\",\"#FF97FF\",\"#FECB52\"],\"font\":{\"color\":\"#2a3f5f\"},\"geo\":{\"bgcolor\":\"white\",\"lakecolor\":\"white\",\"landcolor\":\"#E5ECF6\",\"showlakes\":true,\"showland\":true,\"subunitcolor\":\"white\"},\"hoverlabel\":{\"align\":\"left\"},\"hovermode\":\"closest\",\"mapbox\":{\"style\":\"light\"},\"paper_bgcolor\":\"white\",\"plot_bgcolor\":\"#E5ECF6\",\"polar\":{\"angularaxis\":{\"gridcolor\":\"white\",\"linecolor\":\"white\",\"ticks\":\"\"},\"bgcolor\":\"#E5ECF6\",\"radialaxis\":{\"gridcolor\":\"white\",\"linecolor\":\"white\",\"ticks\":\"\"}},\"scene\":{\"xaxis\":{\"backgroundcolor\":\"#E5ECF6\",\"gridcolor\":\"white\",\"gridwidth\":2,\"linecolor\":\"white\",\"showbackground\":true,\"ticks\":\"\",\"zerolinecolor\":\"white\"},\"yaxis\":{\"backgroundcolor\":\"#E5ECF6\",\"gridcolor\":\"white\",\"gridwidth\":2,\"linecolor\":\"white\",\"showbackground\":true,\"ticks\":\"\",\"zerolinecolor\":\"white\"},\"zaxis\":{\"backgroundcolor\":\"#E5ECF6\",\"gridcolor\":\"white\",\"gridwidth\":2,\"linecolor\":\"white\",\"showbackground\":true,\"ticks\":\"\",\"zerolinecolor\":\"white\"}},\"shapedefaults\":{\"line\":{\"color\":\"#2a3f5f\"}},\"ternary\":{\"aaxis\":{\"gridcolor\":\"white\",\"linecolor\":\"white\",\"ticks\":\"\"},\"baxis\":{\"gridcolor\":\"white\",\"linecolor\":\"white\",\"ticks\":\"\"},\"bgcolor\":\"#E5ECF6\",\"caxis\":{\"gridcolor\":\"white\",\"linecolor\":\"white\",\"ticks\":\"\"}},\"title\":{\"x\":0.05},\"xaxis\":{\"automargin\":true,\"gridcolor\":\"white\",\"linecolor\":\"white\",\"ticks\":\"\",\"title\":{\"standoff\":15},\"zerolinecolor\":\"white\",\"zerolinewidth\":2},\"yaxis\":{\"automargin\":true,\"gridcolor\":\"white\",\"linecolor\":\"white\",\"ticks\":\"\",\"title\":{\"standoff\":15},\"zerolinecolor\":\"white\",\"zerolinewidth\":2}}},\"scene\":{\"domain\":{\"x\":[0.0,1.0],\"y\":[0.0,1.0]},\"xaxis\":{\"title\":{\"text\":\"decline_init\"}},\"yaxis\":{\"title\":{\"text\":\"0\"}},\"zaxis\":{\"title\":{\"text\":\"sum\"}}},\"legend\":{\"tracegroupgap\":0},\"margin\":{\"t\":60}},                        {\"responsive\": true}                    ).then(function(){\n                            \nvar gd = document.getElementById('76adff40-8b8d-4b9f-8c82-6df8559994d5');\nvar x = new MutationObserver(function (mutations, observer) {{\n        var display = window.getComputedStyle(gd).display;\n        if (!display || display === 'none') {{\n            console.log([gd, 'removed!']);\n            Plotly.purge(gd);\n            observer.disconnect();\n        }}\n}});\n\n// Listen for the removal of the full notebook cells\nvar notebookContainer = gd.closest('#notebook-container');\nif (notebookContainer) {{\n    x.observe(notebookContainer, {childList: true});\n}}\n\n// Listen for the clearing of the current output cell\nvar outputEl = gd.closest('.output');\nif (outputEl) {{\n    x.observe(outputEl, {childList: true});\n}}\n\n                        })                };                            </script>        </div>\n</body>\n</html>"
     },
     "metadata": {},
     "output_type": "display_data"
    }
   ]
  },
  {
   "cell_type": "code",
   "metadata": {
    "cell_id": "e93c230ac3c6406bb848e3ad56eca69a",
    "tags": [],
    "deepnote_to_be_reexecuted": false,
    "source_hash": "16f2496c",
    "execution_start": 1648308682935,
    "execution_millis": 49,
    "deepnote_cell_type": "code",
    "deepnote_cell_height": 134.60000610351562,
    "deepnote_output_heights": [
     611
    ]
   },
   "source": "two_year_model = LinearRegression()\n\ntwo_year_model.fit(train_X, train_y)\ntwo_year_preds = two_year_model.predict(test_X)",
   "execution_count": 70,
   "outputs": []
  },
  {
   "cell_type": "code",
   "metadata": {
    "cell_id": "82d5e188396541f282c208092c39cff3",
    "tags": [],
    "deepnote_to_be_reexecuted": false,
    "source_hash": "dcdbb078",
    "execution_start": 1648308689425,
    "execution_millis": 27,
    "deepnote_cell_type": "code",
    "deepnote_cell_height": 153.39999389648438,
    "deepnote_output_heights": [
     21
    ]
   },
   "source": "error = mean_absolute_percentage_error(two_year_preds, test_y)\nr2_scored = r2_score(two_year_preds, test_y)\nr2_scored",
   "execution_count": 71,
   "outputs": [
    {
     "output_type": "execute_result",
     "execution_count": 71,
     "data": {
      "text/plain": "0.9975131313830568"
     },
     "metadata": {}
    }
   ]
  },
  {
   "cell_type": "code",
   "metadata": {
    "cell_id": "c3e4c7a52dfe4b278f5770a7142e4cab",
    "tags": [],
    "deepnote_to_be_reexecuted": true,
    "source_hash": "b69a740b",
    "execution_start": 1648272139568,
    "execution_millis": 22,
    "deepnote_cell_type": "code",
    "deepnote_cell_height": 849.2000122070312,
    "deepnote_output_heights": [
     null,
     611
    ]
   },
   "source": "# I don't know what I'm trying to do here and the math is obviously wrong too.\nwell_mean_decline_factor = {well.name: (1 - (well.iloc[0] - well.iloc[-1]) ** (1/ well.shape[0])) for well in well_time_series if well.get(0)}\nwell_mean_decline_factor",
   "execution_count": null,
   "outputs": [
    {
     "name": "stderr",
     "text": "/shared-libs/python3.7/py-core/lib/python3.7/site-packages/ipykernel_launcher.py:2: RuntimeWarning:\n\ninvalid value encountered in double_scalars\n\n",
     "output_type": "stream"
    },
    {
     "output_type": "execute_result",
     "execution_count": 91,
     "data": {
      "text/plain": "{'WOPR:WP0(bbl/day)': 0.03338011693272547,\n 'WOPR:WP1(bbl/day)': -0.0017768093629044746,\n 'WOPR:WP10(bbl/day)': -0.02861029665315029,\n 'WOPR:WP12(bbl/day)': 0.02204661025897181,\n 'WOPR:WP13(bbl/day)': -0.012068401578415822,\n 'WOPR:WP14(bbl/day)': -0.11494893222843094,\n 'WOPR:WP15(bbl/day)': -0.5532305342342627,\n 'WOPR:WP16(bbl/day)': -0.17680045764116303,\n 'WOPR:WP17(bbl/day)': -0.5148259825319825,\n 'WOPR:WP18(bbl/day)': -0.05070721267759781,\n 'WOPR:WP19(bbl/day)': 0.02663099846443351,\n 'WOPR:WP2(bbl/day)': 0.011567335031054893,\n 'WOPR:WP20(bbl/day)': -0.01031891904055593,\n 'WOPR:WP21(bbl/day)': 0.06256979212629499,\n 'WOPR:WP22(bbl/day)': 0.05424319710998837,\n 'WOPR:WP23(bbl/day)': 0.013197189081264882,\n 'WOPR:WP24(bbl/day)': -0.0766858558029837,\n 'WOPR:WP25(bbl/day)': -0.4197542441673068,\n 'WOPR:WP26(bbl/day)': -0.1555376181812389,\n 'WOPR:WP27(bbl/day)': 0.01775273875839123,\n 'WOPR:WP28(bbl/day)': -0.046417321467089545,\n 'WOPR:WP29(bbl/day)': -0.1889305641597574,\n 'WOPR:WP3(bbl/day)': -0.12902397297084955,\n 'WOPR:WP30(bbl/day)': 0.06844250637658511,\n 'WOPR:WP31(bbl/day)': -0.231859182734937,\n 'WOPR:WP32(bbl/day)': 1.0,\n 'WOPR:WP33(bbl/day)': 0.08244665703784027,\n 'WOPR:WP34(bbl/day)': -0.259782740604954,\n 'WOPR:WP35(bbl/day)': 0.29858273844599514,\n 'WOPR:WP36(bbl/day)': -0.1871926346302364,\n 'WOPR:WP37(bbl/day)': -0.06896264499178684,\n 'WOPR:WP38(bbl/day)': -0.14171727282844415,\n 'WOPR:WP39(bbl/day)': 0.03401625372793915,\n 'WOPR:WP4(bbl/day)': -0.1830792853214498,\n 'WOPR:WP40(bbl/day)': 1.0,\n 'WOPR:WP41(bbl/day)': -0.19867432306820443,\n 'WOPR:WP42(bbl/day)': -0.12793846300603273,\n 'WOPR:WP43(bbl/day)': -0.07697710342154762,\n 'WOPR:WP44(bbl/day)': -0.12006670880476378,\n 'WOPR:WP45(bbl/day)': 0.09170892766991678,\n 'WOPR:WP46(bbl/day)': -0.29926222779334744,\n 'WOPR:WP47(bbl/day)': -0.22273077968870747,\n 'WOPR:WP48(bbl/day)': -0.10038787483794143,\n 'WOPR:WP49(bbl/day)': -0.11138345286351248,\n 'WOPR:WP5(bbl/day)': -0.03354558931421292,\n 'WOPR:WP6(bbl/day)': -0.2551918053647666,\n 'WOPR:WP7(bbl/day)': -0.03913380874962957,\n 'WOPR:WP8(bbl/day)': 0.017356001335301796,\n 'WOPR:WP9(bbl/day)': -0.01825644953536454,\n 'Total': nan}"
     },
     "metadata": {}
    }
   ]
  },
  {
   "cell_type": "markdown",
   "source": "## Average Production relative to position",
   "metadata": {
    "cell_id": "c60e9544fc5d4a16ac602f8e5c38c6b4",
    "tags": [],
    "deepnote_cell_type": "markdown",
    "deepnote_cell_height": 69.60000610351562
   }
  },
  {
   "cell_type": "code",
   "metadata": {
    "cell_id": "157e2184dba647c9a5b211d6548b75b7",
    "tags": [],
    "deepnote_to_be_reexecuted": false,
    "source_hash": "41e0cd93",
    "execution_start": 1648273520794,
    "execution_millis": 10,
    "deepnote_cell_type": "code",
    "deepnote_cell_height": 80.60000610351562
   },
   "source": "well_time_series_df.columns = [name[5:-9] for name in well_time_series_df.columns]",
   "execution_count": null,
   "outputs": []
  },
  {
   "cell_type": "code",
   "metadata": {
    "cell_id": "7a564530a9c64df2b4df92b705a1ed96",
    "tags": [],
    "deepnote_to_be_reexecuted": false,
    "source_hash": "99ce8173",
    "execution_start": 1648273527473,
    "execution_millis": 70,
    "deepnote_cell_type": "code",
    "deepnote_cell_height": 725.4000244140625,
    "deepnote_output_heights": [
     611
    ]
   },
   "source": "avg_prod_df = well_time_series_df.mean().rename(\"Average_Production\")\navg_prod_df",
   "execution_count": null,
   "outputs": [
    {
     "output_type": "execute_result",
     "execution_count": 129,
     "data": {
      "text/plain": "WP0        8.809168\nWP1       38.675641\nWP10      46.363101\nWP11            NaN\nWP12       0.664632\nWP13      22.342583\nWP14     381.194628\nWP15    3060.205978\nWP16    1221.216449\nWP17    1367.727037\nWP18     291.086371\nWP19       7.082097\nWP2        5.276535\nWP20      39.545986\nWP21       1.579448\nWP22      13.159516\nWP23       6.300324\nWP24      90.374282\nWP25    1328.452893\nWP26     439.336342\nWP27       9.066930\nWP28     131.235255\nWP29     859.540421\nWP3     1606.279426\nWP30       1.125125\nWP31     460.674842\nWP32    1618.477384\nWP33       0.225082\nWP34    1475.869991\nWP35       2.201824\nWP36     376.967843\nWP37     377.621596\nWP38     932.002925\nWP39      13.290233\nWP4      257.113535\nWP40      49.518124\nWP41    1056.826177\nWP42    1146.619302\nWP43    2175.493437\nWP44     444.719213\nWP45       0.142503\nWP46    1249.728244\nWP47    1215.319622\nWP48     464.882440\nWP49     351.281916\nWP5       13.723622\nWP6     1033.318772\nWP7        5.925703\nWP8       13.095474\nWP9        6.434229\n        8168.554806\nName: Average_Production, dtype: float64"
     },
     "metadata": {}
    }
   ]
  },
  {
   "cell_type": "code",
   "metadata": {
    "cell_id": "7e188605c6b547ec8f6d832aa3c05ab2",
    "tags": [],
    "deepnote_to_be_reexecuted": false,
    "source_hash": "ce60bf3",
    "execution_start": 1648276620053,
    "execution_millis": 23,
    "deepnote_cell_type": "code",
    "deepnote_cell_height": 116.60000610351562
   },
   "source": "sum_prod_df = well_time_series_df.sum().rename(\"Sum_Production\")\nnew_df = pd.concat([well_positional_df, sum_prod_df], axis=1).dropna(subset=[\"X(ft)\"], axis=0)\nnew_df.to_csv('new_df2.csv')",
   "execution_count": null,
   "outputs": []
  },
  {
   "cell_type": "code",
   "metadata": {
    "cell_id": "067291d842aa414398b5295e7dfa5216",
    "tags": [],
    "deepnote_to_be_reexecuted": false,
    "source_hash": "f57c9d6a",
    "execution_start": 1648273669903,
    "execution_millis": 20,
    "deepnote_table_state": {
     "pageSize": 10,
     "pageIndex": 1,
     "filters": [],
     "sortBy": []
    },
    "deepnote_table_loading": false,
    "deepnote_cell_type": "code",
    "deepnote_cell_height": 615.2000122070312
   },
   "source": "new_df = pd.concat([well_positional_df, avg_prod_df], axis=1).dropna(subset=[\"X(ft)\"], axis=0)\nnew_df",
   "execution_count": null,
   "outputs": [
    {
     "output_type": "execute_result",
     "execution_count": 163,
     "data": {
      "application/vnd.deepnote.dataframe.v3+json": {
       "column_count": 5,
       "row_count": 50,
       "columns": [
        {
         "name": "X(ft)",
         "dtype": "float64",
         "stats": {
          "unique_count": 50,
          "nan_count": 0,
          "min": "109560.26",
          "max": "142095.82",
          "histogram": [
           {
            "bin_start": 109560.26,
            "bin_end": 112813.81599999999,
            "count": 8
           },
           {
            "bin_start": 112813.81599999999,
            "bin_end": 116067.372,
            "count": 6
           },
           {
            "bin_start": 116067.372,
            "bin_end": 119320.928,
            "count": 5
           },
           {
            "bin_start": 119320.928,
            "bin_end": 122574.484,
            "count": 3
           },
           {
            "bin_start": 122574.484,
            "bin_end": 125828.04000000001,
            "count": 4
           },
           {
            "bin_start": 125828.04000000001,
            "bin_end": 129081.596,
            "count": 4
           },
           {
            "bin_start": 129081.596,
            "bin_end": 132335.152,
            "count": 3
           },
           {
            "bin_start": 132335.152,
            "bin_end": 135588.708,
            "count": 8
           },
           {
            "bin_start": 135588.708,
            "bin_end": 138842.264,
            "count": 5
           },
           {
            "bin_start": 138842.264,
            "bin_end": 142095.82,
            "count": 4
           }
          ]
         }
        },
        {
         "name": "Y(ft)",
         "dtype": "float64",
         "stats": {
          "unique_count": 50,
          "nan_count": 0,
          "min": "81747.12",
          "max": "93691.55",
          "histogram": [
           {
            "bin_start": 81747.12,
            "bin_end": 82941.563,
            "count": 5
           },
           {
            "bin_start": 82941.563,
            "bin_end": 84136.006,
            "count": 5
           },
           {
            "bin_start": 84136.006,
            "bin_end": 85330.449,
            "count": 5
           },
           {
            "bin_start": 85330.449,
            "bin_end": 86524.89199999999,
            "count": 5
           },
           {
            "bin_start": 86524.89199999999,
            "bin_end": 87719.33499999999,
            "count": 4
           },
           {
            "bin_start": 87719.33499999999,
            "bin_end": 88913.778,
            "count": 6
           },
           {
            "bin_start": 88913.778,
            "bin_end": 90108.221,
            "count": 7
           },
           {
            "bin_start": 90108.221,
            "bin_end": 91302.664,
            "count": 5
           },
           {
            "bin_start": 91302.664,
            "bin_end": 92497.107,
            "count": 6
           },
           {
            "bin_start": 92497.107,
            "bin_end": 93691.55,
            "count": 2
           }
          ]
         }
        },
        {
         "name": "Completion",
         "dtype": "object",
         "stats": {
          "unique_count": 2,
          "nan_count": 0,
          "categories": [
           {
            "name": "Lower",
            "count": 30
           },
           {
            "name": "Upper",
            "count": 20
           }
          ]
         }
        },
        {
         "name": "Elevation Kelly Bushing (ft)",
         "dtype": "float64",
         "stats": {
          "unique_count": 49,
          "nan_count": 0,
          "min": "160.22",
          "max": "203.85",
          "histogram": [
           {
            "bin_start": 160.22,
            "bin_end": 164.583,
            "count": 3
           },
           {
            "bin_start": 164.583,
            "bin_end": 168.946,
            "count": 1
           },
           {
            "bin_start": 168.946,
            "bin_end": 173.309,
            "count": 6
           },
           {
            "bin_start": 173.309,
            "bin_end": 177.672,
            "count": 8
           },
           {
            "bin_start": 177.672,
            "bin_end": 182.035,
            "count": 10
           },
           {
            "bin_start": 182.035,
            "bin_end": 186.398,
            "count": 10
           },
           {
            "bin_start": 186.398,
            "bin_end": 190.761,
            "count": 3
           },
           {
            "bin_start": 190.761,
            "bin_end": 195.124,
            "count": 7
           },
           {
            "bin_start": 195.124,
            "bin_end": 199.487,
            "count": 1
           },
           {
            "bin_start": 199.487,
            "bin_end": 203.85,
            "count": 1
           }
          ]
         }
        },
        {
         "name": "Average_Production",
         "dtype": "float64",
         "stats": {
          "unique_count": 49,
          "nan_count": 1,
          "min": "0.14250306464705884",
          "max": "3060.2059779333335",
          "histogram": [
           {
            "bin_start": 0.14250306464705884,
            "bin_end": 306.1488505515157,
            "count": 26
           },
           {
            "bin_start": 306.1488505515157,
            "bin_end": 612.1551980383844,
            "count": 8
           },
           {
            "bin_start": 612.1551980383844,
            "bin_end": 918.161545525253,
            "count": 1
           },
           {
            "bin_start": 918.161545525253,
            "bin_end": 1224.1678930121218,
            "count": 6
           },
           {
            "bin_start": 1224.1678930121218,
            "bin_end": 1530.1742404989905,
            "count": 4
           },
           {
            "bin_start": 1530.1742404989905,
            "bin_end": 1836.1805879858591,
            "count": 2
           },
           {
            "bin_start": 1836.1805879858591,
            "bin_end": 2142.186935472728,
            "count": 0
           },
           {
            "bin_start": 2142.186935472728,
            "bin_end": 2448.193282959596,
            "count": 1
           },
           {
            "bin_start": 2448.193282959596,
            "bin_end": 2754.1996304464647,
            "count": 0
           },
           {
            "bin_start": 2754.1996304464647,
            "bin_end": 3060.2059779333335,
            "count": 1
           }
          ]
         }
        },
        {
         "name": "_deepnote_index_column",
         "dtype": "object"
        }
       ],
       "rows": [
        {
         "X(ft)": 134042.86,
         "Y(ft)": 82411.27,
         "Completion": "Upper",
         "Elevation Kelly Bushing (ft)": 184.33,
         "Average_Production": 46.36310126764706,
         "_deepnote_index_column": "WP10"
        },
        {
         "X(ft)": 115725.49,
         "Y(ft)": 86866.6,
         "Completion": "Upper",
         "Elevation Kelly Bushing (ft)": 192.03,
         "Average_Production": "nan",
         "_deepnote_index_column": "WP11"
        },
        {
         "X(ft)": 133136.98,
         "Y(ft)": 93691.55,
         "Completion": "Lower",
         "Elevation Kelly Bushing (ft)": 170.35,
         "Average_Production": 0.6646319248505747,
         "_deepnote_index_column": "WP12"
        },
        {
         "X(ft)": 119311.27,
         "Y(ft)": 89234.02,
         "Completion": "Upper",
         "Elevation Kelly Bushing (ft)": 190.28,
         "Average_Production": 22.342583499375003,
         "_deepnote_index_column": "WP13"
        },
        {
         "X(ft)": 134837.26,
         "Y(ft)": 83865.82,
         "Completion": "Lower",
         "Elevation Kelly Bushing (ft)": 182.29,
         "Average_Production": 381.1946277891304,
         "_deepnote_index_column": "WP14"
        },
        {
         "X(ft)": 109560.26,
         "Y(ft)": 86833.62,
         "Completion": "Lower",
         "Elevation Kelly Bushing (ft)": 184.45,
         "Average_Production": 3060.2059779333335,
         "_deepnote_index_column": "WP15"
        },
        {
         "X(ft)": 112898.58,
         "Y(ft)": 91601.46,
         "Completion": "Lower",
         "Elevation Kelly Bushing (ft)": 168.63,
         "Average_Production": 1221.2164488795454,
         "_deepnote_index_column": "WP16"
        },
        {
         "X(ft)": 112766.46,
         "Y(ft)": 88549.74,
         "Completion": "Lower",
         "Elevation Kelly Bushing (ft)": 181.35,
         "Average_Production": 1367.727037153846,
         "_deepnote_index_column": "WP17"
        },
        {
         "X(ft)": 117798.78,
         "Y(ft)": 90645.7,
         "Completion": "Upper",
         "Elevation Kelly Bushing (ft)": 194.85,
         "Average_Production": 291.0863714263158,
         "_deepnote_index_column": "WP18"
        },
        {
         "X(ft)": 110189.22,
         "Y(ft)": 86209.71,
         "Completion": "Upper",
         "Elevation Kelly Bushing (ft)": 169.2,
         "Average_Production": 7.0820974985,
         "_deepnote_index_column": "WP19"
        }
       ]
      },
      "text/plain": "          X(ft)     Y(ft) Completion  Elevation Kelly Bushing (ft)  \\\nWP0   137106.82  83818.47      Upper                        193.32   \nWP1   132460.98  85832.77      Upper                        187.15   \nWP2   133634.00  82144.52      Upper                        164.55   \nWP3   140892.57  81747.12      Lower                        179.92   \nWP4   109951.43  89343.45      Lower                        186.21   \nWP5   123950.95  92227.31      Lower                        172.80   \nWP6   111035.32  88692.32      Lower                        182.66   \nWP7   112439.69  85560.85      Lower                        181.09   \nWP8   127369.74  91739.99      Upper                        180.04   \nWP9   115943.69  86730.44      Lower                        178.25   \nWP10  134042.86  82411.27      Upper                        184.33   \nWP11  115725.49  86866.60      Upper                        192.03   \nWP12  133136.98  93691.55      Lower                        170.35   \nWP13  119311.27  89234.02      Upper                        190.28   \nWP14  134837.26  83865.82      Lower                        182.29   \nWP15  109560.26  86833.62      Lower                        184.45   \nWP16  112898.58  91601.46      Lower                        168.63   \nWP17  112766.46  88549.74      Lower                        181.35   \nWP18  117798.78  90645.70      Upper                        194.85   \nWP19  110189.22  86209.71      Upper                        169.20   \nWP20  133687.47  83554.44      Upper                        160.22   \nWP21  121120.49  87804.64      Upper                        162.57   \nWP22  115987.29  91854.91      Upper                        182.66   \nWP23  139326.01  84776.42      Upper                        203.85   \nWP24  142095.82  86042.02      Lower                        191.24   \nWP25  128136.21  89359.95      Lower                        196.73   \nWP26  118170.11  89488.69      Lower                        180.99   \nWP27  129829.39  87756.99      Upper                        193.98   \nWP28  120522.78  89987.00      Upper                        177.29   \nWP29  138541.42  82281.79      Lower                        186.13   \nWP30  131123.52  84356.27      Upper                        177.33   \nWP31  136285.14  86479.95      Lower                        174.51   \nWP32  128675.17  89882.13      Lower                        181.33   \nWP33  123960.21  85279.28      Lower                        175.24   \nWP34  134053.71  84658.45      Lower                        193.08   \nWP35  122230.81  87539.37      Upper                        181.95   \nWP36  111749.78  91050.01      Lower                        184.00   \nWP37  134902.25  82632.62      Lower                        176.62   \nWP38  116803.31  91177.75      Lower                        192.56   \nWP39  111890.88  91708.68      Upper                        172.68   \nWP40  126601.30  90679.21      Upper                        186.60   \nWP41  114333.01  91616.66      Lower                        176.49   \nWP42  136532.27  83571.51      Lower                        170.61   \nWP43  115684.27  89895.78      Lower                        175.11   \nWP44  118629.90  88703.87      Lower                        171.95   \nWP45  129176.30  93171.14      Upper                        177.87   \nWP46  139046.81  84476.47      Lower                        176.61   \nWP47  137407.15  84099.13      Lower                        183.12   \nWP48  124094.80  90648.76      Lower                        185.65   \nWP49  123188.65  88556.29      Lower                        178.53   \n\n      Average_Production  \nWP0             8.809168  \nWP1            38.675641  \nWP2             5.276535  \nWP3          1606.279426  \nWP4           257.113535  \nWP5            13.723622  \nWP6          1033.318772  \nWP7             5.925703  \nWP8            13.095474  \nWP9             6.434229  \nWP10           46.363101  \nWP11                 NaN  \nWP12            0.664632  \nWP13           22.342583  \nWP14          381.194628  \nWP15         3060.205978  \nWP16         1221.216449  \nWP17         1367.727037  \nWP18          291.086371  \nWP19            7.082097  \nWP20           39.545986  \nWP21            1.579448  \nWP22           13.159516  \nWP23            6.300324  \nWP24           90.374282  \nWP25         1328.452893  \nWP26          439.336342  \nWP27            9.066930  \nWP28          131.235255  \nWP29          859.540421  \nWP30            1.125125  \nWP31          460.674842  \nWP32         1618.477384  \nWP33            0.225082  \nWP34         1475.869991  \nWP35            2.201824  \nWP36          376.967843  \nWP37          377.621596  \nWP38          932.002925  \nWP39           13.290233  \nWP40           49.518124  \nWP41         1056.826177  \nWP42         1146.619302  \nWP43         2175.493437  \nWP44          444.719213  \nWP45            0.142503  \nWP46         1249.728244  \nWP47         1215.319622  \nWP48          464.882440  \nWP49          351.281916  ",
      "text/html": "<div>\n<style scoped>\n    .dataframe tbody tr th:only-of-type {\n        vertical-align: middle;\n    }\n\n    .dataframe tbody tr th {\n        vertical-align: top;\n    }\n\n    .dataframe thead th {\n        text-align: right;\n    }\n</style>\n<table border=\"1\" class=\"dataframe\">\n  <thead>\n    <tr style=\"text-align: right;\">\n      <th></th>\n      <th>X(ft)</th>\n      <th>Y(ft)</th>\n      <th>Completion</th>\n      <th>Elevation Kelly Bushing (ft)</th>\n      <th>Average_Production</th>\n    </tr>\n  </thead>\n  <tbody>\n    <tr>\n      <th>WP0</th>\n      <td>137106.82</td>\n      <td>83818.47</td>\n      <td>Upper</td>\n      <td>193.32</td>\n      <td>8.809168</td>\n    </tr>\n    <tr>\n      <th>WP1</th>\n      <td>132460.98</td>\n      <td>85832.77</td>\n      <td>Upper</td>\n      <td>187.15</td>\n      <td>38.675641</td>\n    </tr>\n    <tr>\n      <th>WP2</th>\n      <td>133634.00</td>\n      <td>82144.52</td>\n      <td>Upper</td>\n      <td>164.55</td>\n      <td>5.276535</td>\n    </tr>\n    <tr>\n      <th>WP3</th>\n      <td>140892.57</td>\n      <td>81747.12</td>\n      <td>Lower</td>\n      <td>179.92</td>\n      <td>1606.279426</td>\n    </tr>\n    <tr>\n      <th>WP4</th>\n      <td>109951.43</td>\n      <td>89343.45</td>\n      <td>Lower</td>\n      <td>186.21</td>\n      <td>257.113535</td>\n    </tr>\n    <tr>\n      <th>WP5</th>\n      <td>123950.95</td>\n      <td>92227.31</td>\n      <td>Lower</td>\n      <td>172.80</td>\n      <td>13.723622</td>\n    </tr>\n    <tr>\n      <th>WP6</th>\n      <td>111035.32</td>\n      <td>88692.32</td>\n      <td>Lower</td>\n      <td>182.66</td>\n      <td>1033.318772</td>\n    </tr>\n    <tr>\n      <th>WP7</th>\n      <td>112439.69</td>\n      <td>85560.85</td>\n      <td>Lower</td>\n      <td>181.09</td>\n      <td>5.925703</td>\n    </tr>\n    <tr>\n      <th>WP8</th>\n      <td>127369.74</td>\n      <td>91739.99</td>\n      <td>Upper</td>\n      <td>180.04</td>\n      <td>13.095474</td>\n    </tr>\n    <tr>\n      <th>WP9</th>\n      <td>115943.69</td>\n      <td>86730.44</td>\n      <td>Lower</td>\n      <td>178.25</td>\n      <td>6.434229</td>\n    </tr>\n    <tr>\n      <th>WP10</th>\n      <td>134042.86</td>\n      <td>82411.27</td>\n      <td>Upper</td>\n      <td>184.33</td>\n      <td>46.363101</td>\n    </tr>\n    <tr>\n      <th>WP11</th>\n      <td>115725.49</td>\n      <td>86866.60</td>\n      <td>Upper</td>\n      <td>192.03</td>\n      <td>NaN</td>\n    </tr>\n    <tr>\n      <th>WP12</th>\n      <td>133136.98</td>\n      <td>93691.55</td>\n      <td>Lower</td>\n      <td>170.35</td>\n      <td>0.664632</td>\n    </tr>\n    <tr>\n      <th>WP13</th>\n      <td>119311.27</td>\n      <td>89234.02</td>\n      <td>Upper</td>\n      <td>190.28</td>\n      <td>22.342583</td>\n    </tr>\n    <tr>\n      <th>WP14</th>\n      <td>134837.26</td>\n      <td>83865.82</td>\n      <td>Lower</td>\n      <td>182.29</td>\n      <td>381.194628</td>\n    </tr>\n    <tr>\n      <th>WP15</th>\n      <td>109560.26</td>\n      <td>86833.62</td>\n      <td>Lower</td>\n      <td>184.45</td>\n      <td>3060.205978</td>\n    </tr>\n    <tr>\n      <th>WP16</th>\n      <td>112898.58</td>\n      <td>91601.46</td>\n      <td>Lower</td>\n      <td>168.63</td>\n      <td>1221.216449</td>\n    </tr>\n    <tr>\n      <th>WP17</th>\n      <td>112766.46</td>\n      <td>88549.74</td>\n      <td>Lower</td>\n      <td>181.35</td>\n      <td>1367.727037</td>\n    </tr>\n    <tr>\n      <th>WP18</th>\n      <td>117798.78</td>\n      <td>90645.70</td>\n      <td>Upper</td>\n      <td>194.85</td>\n      <td>291.086371</td>\n    </tr>\n    <tr>\n      <th>WP19</th>\n      <td>110189.22</td>\n      <td>86209.71</td>\n      <td>Upper</td>\n      <td>169.20</td>\n      <td>7.082097</td>\n    </tr>\n    <tr>\n      <th>WP20</th>\n      <td>133687.47</td>\n      <td>83554.44</td>\n      <td>Upper</td>\n      <td>160.22</td>\n      <td>39.545986</td>\n    </tr>\n    <tr>\n      <th>WP21</th>\n      <td>121120.49</td>\n      <td>87804.64</td>\n      <td>Upper</td>\n      <td>162.57</td>\n      <td>1.579448</td>\n    </tr>\n    <tr>\n      <th>WP22</th>\n      <td>115987.29</td>\n      <td>91854.91</td>\n      <td>Upper</td>\n      <td>182.66</td>\n      <td>13.159516</td>\n    </tr>\n    <tr>\n      <th>WP23</th>\n      <td>139326.01</td>\n      <td>84776.42</td>\n      <td>Upper</td>\n      <td>203.85</td>\n      <td>6.300324</td>\n    </tr>\n    <tr>\n      <th>WP24</th>\n      <td>142095.82</td>\n      <td>86042.02</td>\n      <td>Lower</td>\n      <td>191.24</td>\n      <td>90.374282</td>\n    </tr>\n    <tr>\n      <th>WP25</th>\n      <td>128136.21</td>\n      <td>89359.95</td>\n      <td>Lower</td>\n      <td>196.73</td>\n      <td>1328.452893</td>\n    </tr>\n    <tr>\n      <th>WP26</th>\n      <td>118170.11</td>\n      <td>89488.69</td>\n      <td>Lower</td>\n      <td>180.99</td>\n      <td>439.336342</td>\n    </tr>\n    <tr>\n      <th>WP27</th>\n      <td>129829.39</td>\n      <td>87756.99</td>\n      <td>Upper</td>\n      <td>193.98</td>\n      <td>9.066930</td>\n    </tr>\n    <tr>\n      <th>WP28</th>\n      <td>120522.78</td>\n      <td>89987.00</td>\n      <td>Upper</td>\n      <td>177.29</td>\n      <td>131.235255</td>\n    </tr>\n    <tr>\n      <th>WP29</th>\n      <td>138541.42</td>\n      <td>82281.79</td>\n      <td>Lower</td>\n      <td>186.13</td>\n      <td>859.540421</td>\n    </tr>\n    <tr>\n      <th>WP30</th>\n      <td>131123.52</td>\n      <td>84356.27</td>\n      <td>Upper</td>\n      <td>177.33</td>\n      <td>1.125125</td>\n    </tr>\n    <tr>\n      <th>WP31</th>\n      <td>136285.14</td>\n      <td>86479.95</td>\n      <td>Lower</td>\n      <td>174.51</td>\n      <td>460.674842</td>\n    </tr>\n    <tr>\n      <th>WP32</th>\n      <td>128675.17</td>\n      <td>89882.13</td>\n      <td>Lower</td>\n      <td>181.33</td>\n      <td>1618.477384</td>\n    </tr>\n    <tr>\n      <th>WP33</th>\n      <td>123960.21</td>\n      <td>85279.28</td>\n      <td>Lower</td>\n      <td>175.24</td>\n      <td>0.225082</td>\n    </tr>\n    <tr>\n      <th>WP34</th>\n      <td>134053.71</td>\n      <td>84658.45</td>\n      <td>Lower</td>\n      <td>193.08</td>\n      <td>1475.869991</td>\n    </tr>\n    <tr>\n      <th>WP35</th>\n      <td>122230.81</td>\n      <td>87539.37</td>\n      <td>Upper</td>\n      <td>181.95</td>\n      <td>2.201824</td>\n    </tr>\n    <tr>\n      <th>WP36</th>\n      <td>111749.78</td>\n      <td>91050.01</td>\n      <td>Lower</td>\n      <td>184.00</td>\n      <td>376.967843</td>\n    </tr>\n    <tr>\n      <th>WP37</th>\n      <td>134902.25</td>\n      <td>82632.62</td>\n      <td>Lower</td>\n      <td>176.62</td>\n      <td>377.621596</td>\n    </tr>\n    <tr>\n      <th>WP38</th>\n      <td>116803.31</td>\n      <td>91177.75</td>\n      <td>Lower</td>\n      <td>192.56</td>\n      <td>932.002925</td>\n    </tr>\n    <tr>\n      <th>WP39</th>\n      <td>111890.88</td>\n      <td>91708.68</td>\n      <td>Upper</td>\n      <td>172.68</td>\n      <td>13.290233</td>\n    </tr>\n    <tr>\n      <th>WP40</th>\n      <td>126601.30</td>\n      <td>90679.21</td>\n      <td>Upper</td>\n      <td>186.60</td>\n      <td>49.518124</td>\n    </tr>\n    <tr>\n      <th>WP41</th>\n      <td>114333.01</td>\n      <td>91616.66</td>\n      <td>Lower</td>\n      <td>176.49</td>\n      <td>1056.826177</td>\n    </tr>\n    <tr>\n      <th>WP42</th>\n      <td>136532.27</td>\n      <td>83571.51</td>\n      <td>Lower</td>\n      <td>170.61</td>\n      <td>1146.619302</td>\n    </tr>\n    <tr>\n      <th>WP43</th>\n      <td>115684.27</td>\n      <td>89895.78</td>\n      <td>Lower</td>\n      <td>175.11</td>\n      <td>2175.493437</td>\n    </tr>\n    <tr>\n      <th>WP44</th>\n      <td>118629.90</td>\n      <td>88703.87</td>\n      <td>Lower</td>\n      <td>171.95</td>\n      <td>444.719213</td>\n    </tr>\n    <tr>\n      <th>WP45</th>\n      <td>129176.30</td>\n      <td>93171.14</td>\n      <td>Upper</td>\n      <td>177.87</td>\n      <td>0.142503</td>\n    </tr>\n    <tr>\n      <th>WP46</th>\n      <td>139046.81</td>\n      <td>84476.47</td>\n      <td>Lower</td>\n      <td>176.61</td>\n      <td>1249.728244</td>\n    </tr>\n    <tr>\n      <th>WP47</th>\n      <td>137407.15</td>\n      <td>84099.13</td>\n      <td>Lower</td>\n      <td>183.12</td>\n      <td>1215.319622</td>\n    </tr>\n    <tr>\n      <th>WP48</th>\n      <td>124094.80</td>\n      <td>90648.76</td>\n      <td>Lower</td>\n      <td>185.65</td>\n      <td>464.882440</td>\n    </tr>\n    <tr>\n      <th>WP49</th>\n      <td>123188.65</td>\n      <td>88556.29</td>\n      <td>Lower</td>\n      <td>178.53</td>\n      <td>351.281916</td>\n    </tr>\n  </tbody>\n</table>\n</div>"
     },
     "metadata": {}
    }
   ]
  },
  {
   "cell_type": "code",
   "metadata": {
    "cell_id": "835318d58bfc46d5914ce6685168944b",
    "tags": [],
    "deepnote_to_be_reexecuted": false,
    "source_hash": "91d81b27",
    "execution_start": 1648276752875,
    "execution_millis": 52,
    "deepnote_cell_type": "code",
    "deepnote_cell_height": 623.4000244140625,
    "deepnote_output_heights": [
     527
    ]
   },
   "source": "px.scatter_3d(new_df, x=\"X(ft)\", y=\"Y(ft)\", z=\"Sum_Production\", color=\"Sum_Production\")",
   "execution_count": null,
   "outputs": [
    {
     "data": {
      "text/html": "<html>\n<head><meta charset=\"utf-8\" /></head>\n<body>\n    <div>            <script src=\"https://cdnjs.cloudflare.com/ajax/libs/mathjax/2.7.5/MathJax.js?config=TeX-AMS-MML_SVG\"></script><script type=\"text/javascript\">if (window.MathJax) {MathJax.Hub.Config({SVG: {font: \"STIX-Web\"}});}</script>                <script type=\"text/javascript\">window.PlotlyConfig = {MathJaxConfig: 'local'};</script>\n        <script src=\"https://cdn.plot.ly/plotly-2.9.0.min.js\"></script>                <div id=\"123be51a-a980-4742-923e-84d89260afa7\" class=\"plotly-graph-div\" style=\"height:525px; width:100%;\"></div>            <script type=\"text/javascript\">                                    window.PLOTLYENV=window.PLOTLYENV || {};                                    if (document.getElementById(\"123be51a-a980-4742-923e-84d89260afa7\")) {                    Plotly.newPlot(                        \"123be51a-a980-4742-923e-84d89260afa7\",                        [{\"hovertemplate\":\"X(ft)=%{x}<br>Y(ft)=%{y}<br>Sum_Production=%{marker.color}<extra></extra>\",\"legendgroup\":\"\",\"marker\":{\"color\":[475.695079823,1005.5666624200001,443.22889844099996,88345.368434,8484.7466534,1056.71887975,30999.563161600003,71.108432325,654.7737165799999,263.803389711,1576.3454431,0.0,57.822977462,1787.4066799500001,17534.9528783,45903.089669,53733.5237507,17780.451482999997,27653.2052855,354.104874925,870.0116819699999,60.019033698,342.14742263,497.725572598,4880.21125485,18598.340498,18012.790031700002,471.48034895800004,9973.879346000002,28364.8338767,56.256269269,10134.8465344,3236.954768,9.678521219,38372.619772000005,22.018241113,12816.9066608,32097.835675799997,48464.152107,199.35349755000001,99.0362475,31704.7853189,61917.4423074,232777.79778030002,24014.8374865,7.267656297,27494.021370000002,36459.588667,29287.5937407,18969.223453900002],\"coloraxis\":\"coloraxis\",\"symbol\":\"circle\"},\"mode\":\"markers\",\"name\":\"\",\"scene\":\"scene\",\"showlegend\":false,\"x\":[137106.82,132460.98,133634.0,140892.57,109951.43,123950.95,111035.32,112439.69,127369.74,115943.69,134042.86,115725.49,133136.98,119311.27,134837.26,109560.26,112898.58,112766.46,117798.78,110189.22,133687.47,121120.49,115987.29,139326.01,142095.82,128136.21,118170.11,129829.39,120522.78,138541.42,131123.52,136285.14,128675.17,123960.21,134053.71,122230.81,111749.78,134902.25,116803.31,111890.88,126601.3,114333.01,136532.27,115684.27,118629.9,129176.3,139046.81,137407.15,124094.8,123188.65],\"y\":[83818.47,85832.77,82144.52,81747.12,89343.45,92227.31,88692.32,85560.85,91739.99,86730.44,82411.27,86866.6,93691.55,89234.02,83865.82,86833.62,91601.46,88549.74,90645.7,86209.71,83554.44,87804.64,91854.91,84776.42,86042.02,89359.95,89488.69,87756.99,89987.0,82281.79,84356.27,86479.95,89882.13,85279.28,84658.45,87539.37,91050.01,82632.62,91177.75,91708.68,90679.21,91616.66,83571.51,89895.78,88703.87,93171.14,84476.47,84099.13,90648.76,88556.29],\"z\":[475.695079823,1005.5666624200001,443.22889844099996,88345.368434,8484.7466534,1056.71887975,30999.563161600003,71.108432325,654.7737165799999,263.803389711,1576.3454431,0.0,57.822977462,1787.4066799500001,17534.9528783,45903.089669,53733.5237507,17780.451482999997,27653.2052855,354.104874925,870.0116819699999,60.019033698,342.14742263,497.725572598,4880.21125485,18598.340498,18012.790031700002,471.48034895800004,9973.879346000002,28364.8338767,56.256269269,10134.8465344,3236.954768,9.678521219,38372.619772000005,22.018241113,12816.9066608,32097.835675799997,48464.152107,199.35349755000001,99.0362475,31704.7853189,61917.4423074,232777.79778030002,24014.8374865,7.267656297,27494.021370000002,36459.588667,29287.5937407,18969.223453900002],\"type\":\"scatter3d\"}],                        {\"template\":{\"data\":{\"bar\":[{\"error_x\":{\"color\":\"#2a3f5f\"},\"error_y\":{\"color\":\"#2a3f5f\"},\"marker\":{\"line\":{\"color\":\"#E5ECF6\",\"width\":0.5},\"pattern\":{\"fillmode\":\"overlay\",\"size\":10,\"solidity\":0.2}},\"type\":\"bar\"}],\"barpolar\":[{\"marker\":{\"line\":{\"color\":\"#E5ECF6\",\"width\":0.5},\"pattern\":{\"fillmode\":\"overlay\",\"size\":10,\"solidity\":0.2}},\"type\":\"barpolar\"}],\"carpet\":[{\"aaxis\":{\"endlinecolor\":\"#2a3f5f\",\"gridcolor\":\"white\",\"linecolor\":\"white\",\"minorgridcolor\":\"white\",\"startlinecolor\":\"#2a3f5f\"},\"baxis\":{\"endlinecolor\":\"#2a3f5f\",\"gridcolor\":\"white\",\"linecolor\":\"white\",\"minorgridcolor\":\"white\",\"startlinecolor\":\"#2a3f5f\"},\"type\":\"carpet\"}],\"choropleth\":[{\"colorbar\":{\"outlinewidth\":0,\"ticks\":\"\"},\"type\":\"choropleth\"}],\"contour\":[{\"colorbar\":{\"outlinewidth\":0,\"ticks\":\"\"},\"colorscale\":[[0.0,\"#0d0887\"],[0.1111111111111111,\"#46039f\"],[0.2222222222222222,\"#7201a8\"],[0.3333333333333333,\"#9c179e\"],[0.4444444444444444,\"#bd3786\"],[0.5555555555555556,\"#d8576b\"],[0.6666666666666666,\"#ed7953\"],[0.7777777777777778,\"#fb9f3a\"],[0.8888888888888888,\"#fdca26\"],[1.0,\"#f0f921\"]],\"type\":\"contour\"}],\"contourcarpet\":[{\"colorbar\":{\"outlinewidth\":0,\"ticks\":\"\"},\"type\":\"contourcarpet\"}],\"heatmap\":[{\"colorbar\":{\"outlinewidth\":0,\"ticks\":\"\"},\"colorscale\":[[0.0,\"#0d0887\"],[0.1111111111111111,\"#46039f\"],[0.2222222222222222,\"#7201a8\"],[0.3333333333333333,\"#9c179e\"],[0.4444444444444444,\"#bd3786\"],[0.5555555555555556,\"#d8576b\"],[0.6666666666666666,\"#ed7953\"],[0.7777777777777778,\"#fb9f3a\"],[0.8888888888888888,\"#fdca26\"],[1.0,\"#f0f921\"]],\"type\":\"heatmap\"}],\"heatmapgl\":[{\"colorbar\":{\"outlinewidth\":0,\"ticks\":\"\"},\"colorscale\":[[0.0,\"#0d0887\"],[0.1111111111111111,\"#46039f\"],[0.2222222222222222,\"#7201a8\"],[0.3333333333333333,\"#9c179e\"],[0.4444444444444444,\"#bd3786\"],[0.5555555555555556,\"#d8576b\"],[0.6666666666666666,\"#ed7953\"],[0.7777777777777778,\"#fb9f3a\"],[0.8888888888888888,\"#fdca26\"],[1.0,\"#f0f921\"]],\"type\":\"heatmapgl\"}],\"histogram\":[{\"marker\":{\"pattern\":{\"fillmode\":\"overlay\",\"size\":10,\"solidity\":0.2}},\"type\":\"histogram\"}],\"histogram2d\":[{\"colorbar\":{\"outlinewidth\":0,\"ticks\":\"\"},\"colorscale\":[[0.0,\"#0d0887\"],[0.1111111111111111,\"#46039f\"],[0.2222222222222222,\"#7201a8\"],[0.3333333333333333,\"#9c179e\"],[0.4444444444444444,\"#bd3786\"],[0.5555555555555556,\"#d8576b\"],[0.6666666666666666,\"#ed7953\"],[0.7777777777777778,\"#fb9f3a\"],[0.8888888888888888,\"#fdca26\"],[1.0,\"#f0f921\"]],\"type\":\"histogram2d\"}],\"histogram2dcontour\":[{\"colorbar\":{\"outlinewidth\":0,\"ticks\":\"\"},\"colorscale\":[[0.0,\"#0d0887\"],[0.1111111111111111,\"#46039f\"],[0.2222222222222222,\"#7201a8\"],[0.3333333333333333,\"#9c179e\"],[0.4444444444444444,\"#bd3786\"],[0.5555555555555556,\"#d8576b\"],[0.6666666666666666,\"#ed7953\"],[0.7777777777777778,\"#fb9f3a\"],[0.8888888888888888,\"#fdca26\"],[1.0,\"#f0f921\"]],\"type\":\"histogram2dcontour\"}],\"mesh3d\":[{\"colorbar\":{\"outlinewidth\":0,\"ticks\":\"\"},\"type\":\"mesh3d\"}],\"parcoords\":[{\"line\":{\"colorbar\":{\"outlinewidth\":0,\"ticks\":\"\"}},\"type\":\"parcoords\"}],\"pie\":[{\"automargin\":true,\"type\":\"pie\"}],\"scatter\":[{\"marker\":{\"colorbar\":{\"outlinewidth\":0,\"ticks\":\"\"}},\"type\":\"scatter\"}],\"scatter3d\":[{\"line\":{\"colorbar\":{\"outlinewidth\":0,\"ticks\":\"\"}},\"marker\":{\"colorbar\":{\"outlinewidth\":0,\"ticks\":\"\"}},\"type\":\"scatter3d\"}],\"scattercarpet\":[{\"marker\":{\"colorbar\":{\"outlinewidth\":0,\"ticks\":\"\"}},\"type\":\"scattercarpet\"}],\"scattergeo\":[{\"marker\":{\"colorbar\":{\"outlinewidth\":0,\"ticks\":\"\"}},\"type\":\"scattergeo\"}],\"scattergl\":[{\"marker\":{\"colorbar\":{\"outlinewidth\":0,\"ticks\":\"\"}},\"type\":\"scattergl\"}],\"scattermapbox\":[{\"marker\":{\"colorbar\":{\"outlinewidth\":0,\"ticks\":\"\"}},\"type\":\"scattermapbox\"}],\"scatterpolar\":[{\"marker\":{\"colorbar\":{\"outlinewidth\":0,\"ticks\":\"\"}},\"type\":\"scatterpolar\"}],\"scatterpolargl\":[{\"marker\":{\"colorbar\":{\"outlinewidth\":0,\"ticks\":\"\"}},\"type\":\"scatterpolargl\"}],\"scatterternary\":[{\"marker\":{\"colorbar\":{\"outlinewidth\":0,\"ticks\":\"\"}},\"type\":\"scatterternary\"}],\"surface\":[{\"colorbar\":{\"outlinewidth\":0,\"ticks\":\"\"},\"colorscale\":[[0.0,\"#0d0887\"],[0.1111111111111111,\"#46039f\"],[0.2222222222222222,\"#7201a8\"],[0.3333333333333333,\"#9c179e\"],[0.4444444444444444,\"#bd3786\"],[0.5555555555555556,\"#d8576b\"],[0.6666666666666666,\"#ed7953\"],[0.7777777777777778,\"#fb9f3a\"],[0.8888888888888888,\"#fdca26\"],[1.0,\"#f0f921\"]],\"type\":\"surface\"}],\"table\":[{\"cells\":{\"fill\":{\"color\":\"#EBF0F8\"},\"line\":{\"color\":\"white\"}},\"header\":{\"fill\":{\"color\":\"#C8D4E3\"},\"line\":{\"color\":\"white\"}},\"type\":\"table\"}]},\"layout\":{\"annotationdefaults\":{\"arrowcolor\":\"#2a3f5f\",\"arrowhead\":0,\"arrowwidth\":1},\"autotypenumbers\":\"strict\",\"coloraxis\":{\"colorbar\":{\"outlinewidth\":0,\"ticks\":\"\"}},\"colorscale\":{\"diverging\":[[0,\"#8e0152\"],[0.1,\"#c51b7d\"],[0.2,\"#de77ae\"],[0.3,\"#f1b6da\"],[0.4,\"#fde0ef\"],[0.5,\"#f7f7f7\"],[0.6,\"#e6f5d0\"],[0.7,\"#b8e186\"],[0.8,\"#7fbc41\"],[0.9,\"#4d9221\"],[1,\"#276419\"]],\"sequential\":[[0.0,\"#0d0887\"],[0.1111111111111111,\"#46039f\"],[0.2222222222222222,\"#7201a8\"],[0.3333333333333333,\"#9c179e\"],[0.4444444444444444,\"#bd3786\"],[0.5555555555555556,\"#d8576b\"],[0.6666666666666666,\"#ed7953\"],[0.7777777777777778,\"#fb9f3a\"],[0.8888888888888888,\"#fdca26\"],[1.0,\"#f0f921\"]],\"sequentialminus\":[[0.0,\"#0d0887\"],[0.1111111111111111,\"#46039f\"],[0.2222222222222222,\"#7201a8\"],[0.3333333333333333,\"#9c179e\"],[0.4444444444444444,\"#bd3786\"],[0.5555555555555556,\"#d8576b\"],[0.6666666666666666,\"#ed7953\"],[0.7777777777777778,\"#fb9f3a\"],[0.8888888888888888,\"#fdca26\"],[1.0,\"#f0f921\"]]},\"colorway\":[\"#636efa\",\"#EF553B\",\"#00cc96\",\"#ab63fa\",\"#FFA15A\",\"#19d3f3\",\"#FF6692\",\"#B6E880\",\"#FF97FF\",\"#FECB52\"],\"font\":{\"color\":\"#2a3f5f\"},\"geo\":{\"bgcolor\":\"white\",\"lakecolor\":\"white\",\"landcolor\":\"#E5ECF6\",\"showlakes\":true,\"showland\":true,\"subunitcolor\":\"white\"},\"hoverlabel\":{\"align\":\"left\"},\"hovermode\":\"closest\",\"mapbox\":{\"style\":\"light\"},\"paper_bgcolor\":\"white\",\"plot_bgcolor\":\"#E5ECF6\",\"polar\":{\"angularaxis\":{\"gridcolor\":\"white\",\"linecolor\":\"white\",\"ticks\":\"\"},\"bgcolor\":\"#E5ECF6\",\"radialaxis\":{\"gridcolor\":\"white\",\"linecolor\":\"white\",\"ticks\":\"\"}},\"scene\":{\"xaxis\":{\"backgroundcolor\":\"#E5ECF6\",\"gridcolor\":\"white\",\"gridwidth\":2,\"linecolor\":\"white\",\"showbackground\":true,\"ticks\":\"\",\"zerolinecolor\":\"white\"},\"yaxis\":{\"backgroundcolor\":\"#E5ECF6\",\"gridcolor\":\"white\",\"gridwidth\":2,\"linecolor\":\"white\",\"showbackground\":true,\"ticks\":\"\",\"zerolinecolor\":\"white\"},\"zaxis\":{\"backgroundcolor\":\"#E5ECF6\",\"gridcolor\":\"white\",\"gridwidth\":2,\"linecolor\":\"white\",\"showbackground\":true,\"ticks\":\"\",\"zerolinecolor\":\"white\"}},\"shapedefaults\":{\"line\":{\"color\":\"#2a3f5f\"}},\"ternary\":{\"aaxis\":{\"gridcolor\":\"white\",\"linecolor\":\"white\",\"ticks\":\"\"},\"baxis\":{\"gridcolor\":\"white\",\"linecolor\":\"white\",\"ticks\":\"\"},\"bgcolor\":\"#E5ECF6\",\"caxis\":{\"gridcolor\":\"white\",\"linecolor\":\"white\",\"ticks\":\"\"}},\"title\":{\"x\":0.05},\"xaxis\":{\"automargin\":true,\"gridcolor\":\"white\",\"linecolor\":\"white\",\"ticks\":\"\",\"title\":{\"standoff\":15},\"zerolinecolor\":\"white\",\"zerolinewidth\":2},\"yaxis\":{\"automargin\":true,\"gridcolor\":\"white\",\"linecolor\":\"white\",\"ticks\":\"\",\"title\":{\"standoff\":15},\"zerolinecolor\":\"white\",\"zerolinewidth\":2}}},\"scene\":{\"domain\":{\"x\":[0.0,1.0],\"y\":[0.0,1.0]},\"xaxis\":{\"title\":{\"text\":\"X(ft)\"}},\"yaxis\":{\"title\":{\"text\":\"Y(ft)\"}},\"zaxis\":{\"title\":{\"text\":\"Sum_Production\"}}},\"coloraxis\":{\"colorbar\":{\"title\":{\"text\":\"Sum_Production\"}},\"colorscale\":[[0.0,\"#0d0887\"],[0.1111111111111111,\"#46039f\"],[0.2222222222222222,\"#7201a8\"],[0.3333333333333333,\"#9c179e\"],[0.4444444444444444,\"#bd3786\"],[0.5555555555555556,\"#d8576b\"],[0.6666666666666666,\"#ed7953\"],[0.7777777777777778,\"#fb9f3a\"],[0.8888888888888888,\"#fdca26\"],[1.0,\"#f0f921\"]]},\"legend\":{\"tracegroupgap\":0},\"margin\":{\"t\":60}},                        {\"responsive\": true}                    ).then(function(){\n                            \nvar gd = document.getElementById('123be51a-a980-4742-923e-84d89260afa7');\nvar x = new MutationObserver(function (mutations, observer) {{\n        var display = window.getComputedStyle(gd).display;\n        if (!display || display === 'none') {{\n            console.log([gd, 'removed!']);\n            Plotly.purge(gd);\n            observer.disconnect();\n        }}\n}});\n\n// Listen for the removal of the full notebook cells\nvar notebookContainer = gd.closest('#notebook-container');\nif (notebookContainer) {{\n    x.observe(notebookContainer, {childList: true});\n}}\n\n// Listen for the clearing of the current output cell\nvar outputEl = gd.closest('.output');\nif (outputEl) {{\n    x.observe(outputEl, {childList: true});\n}}\n\n                        })                };                            </script>        </div>\n</body>\n</html>"
     },
     "metadata": {},
     "output_type": "display_data"
    }
   ]
  },
  {
   "cell_type": "code",
   "metadata": {
    "cell_id": "552fa02aec6a4576942e91a4e75ce238",
    "tags": [],
    "deepnote_to_be_reexecuted": false,
    "source_hash": "4881e808",
    "execution_start": 1648274786708,
    "execution_millis": 64,
    "allow_embed": false,
    "deepnote_cell_type": "code",
    "deepnote_cell_height": 695.4000244140625,
    "deepnote_output_heights": [
     527
    ]
   },
   "source": "import plotly.graph_objects as go\n\nfig = go.Figure(data=[go.Surface(z=np.diag(new_df[\"Average_Production\"].values), x=new_df[\"X(ft)\"].values, y=new_df[\"Y(ft)\"].values)])\n\nfig.show()",
   "execution_count": null,
   "outputs": [
    {
     "data": {
      "text/html": "<html>\n<head><meta charset=\"utf-8\" /></head>\n<body>\n    <div>            <script src=\"https://cdnjs.cloudflare.com/ajax/libs/mathjax/2.7.5/MathJax.js?config=TeX-AMS-MML_SVG\"></script><script type=\"text/javascript\">if (window.MathJax) {MathJax.Hub.Config({SVG: {font: \"STIX-Web\"}});}</script>                <script type=\"text/javascript\">window.PlotlyConfig = {MathJaxConfig: 'local'};</script>\n        <script src=\"https://cdn.plot.ly/plotly-2.9.0.min.js\"></script>                <div id=\"2c0875c2-ad49-4ff3-8844-62bae4df06c9\" class=\"plotly-graph-div\" style=\"height:525px; width:100%;\"></div>            <script type=\"text/javascript\">                                    window.PLOTLYENV=window.PLOTLYENV || {};                                    if (document.getElementById(\"2c0875c2-ad49-4ff3-8844-62bae4df06c9\")) {                    Plotly.newPlot(                        \"2c0875c2-ad49-4ff3-8844-62bae4df06c9\",                        [{\"x\":[137106.82,132460.98,133634.0,140892.57,109951.43,123950.95,111035.32,112439.69,127369.74,115943.69,134042.86,115725.49,133136.98,119311.27,134837.26,109560.26,112898.58,112766.46,117798.78,110189.22,133687.47,121120.49,115987.29,139326.01,142095.82,128136.21,118170.11,129829.39,120522.78,138541.42,131123.52,136285.14,128675.17,123960.21,134053.71,122230.81,111749.78,134902.25,116803.31,111890.88,126601.3,114333.01,136532.27,115684.27,118629.9,129176.3,139046.81,137407.15,124094.8,123188.65],\"y\":[83818.47,85832.77,82144.52,81747.12,89343.45,92227.31,88692.32,85560.85,91739.99,86730.44,82411.27,86866.6,93691.55,89234.02,83865.82,86833.62,91601.46,88549.74,90645.7,86209.71,83554.44,87804.64,91854.91,84776.42,86042.02,89359.95,89488.69,87756.99,89987.0,82281.79,84356.27,86479.95,89882.13,85279.28,84658.45,87539.37,91050.01,82632.62,91177.75,91708.68,90679.21,91616.66,83571.51,89895.78,88703.87,93171.14,84476.47,84099.13,90648.76,88556.29],\"z\":[[8.809168144870371,0.0,0.0,0.0,0.0,0.0,0.0,0.0,0.0,0.0,0.0,0.0,0.0,0.0,0.0,0.0,0.0,0.0,0.0,0.0,0.0,0.0,0.0,0.0,0.0,0.0,0.0,0.0,0.0,0.0,0.0,0.0,0.0,0.0,0.0,0.0,0.0,0.0,0.0,0.0,0.0,0.0,0.0,0.0,0.0,0.0,0.0,0.0,0.0,0.0],[0.0,38.675640862307695,0.0,0.0,0.0,0.0,0.0,0.0,0.0,0.0,0.0,0.0,0.0,0.0,0.0,0.0,0.0,0.0,0.0,0.0,0.0,0.0,0.0,0.0,0.0,0.0,0.0,0.0,0.0,0.0,0.0,0.0,0.0,0.0,0.0,0.0,0.0,0.0,0.0,0.0,0.0,0.0,0.0,0.0,0.0,0.0,0.0,0.0,0.0,0.0],[0.0,0.0,5.27653450525,0.0,0.0,0.0,0.0,0.0,0.0,0.0,0.0,0.0,0.0,0.0,0.0,0.0,0.0,0.0,0.0,0.0,0.0,0.0,0.0,0.0,0.0,0.0,0.0,0.0,0.0,0.0,0.0,0.0,0.0,0.0,0.0,0.0,0.0,0.0,0.0,0.0,0.0,0.0,0.0,0.0,0.0,0.0,0.0,0.0,0.0,0.0],[0.0,0.0,0.0,1606.2794260727273,0.0,0.0,0.0,0.0,0.0,0.0,0.0,0.0,0.0,0.0,0.0,0.0,0.0,0.0,0.0,0.0,0.0,0.0,0.0,0.0,0.0,0.0,0.0,0.0,0.0,0.0,0.0,0.0,0.0,0.0,0.0,0.0,0.0,0.0,0.0,0.0,0.0,0.0,0.0,0.0,0.0,0.0,0.0,0.0,0.0,0.0],[0.0,0.0,0.0,0.0,257.11353495151513,0.0,0.0,0.0,0.0,0.0,0.0,0.0,0.0,0.0,0.0,0.0,0.0,0.0,0.0,0.0,0.0,0.0,0.0,0.0,0.0,0.0,0.0,0.0,0.0,0.0,0.0,0.0,0.0,0.0,0.0,0.0,0.0,0.0,0.0,0.0,0.0,0.0,0.0,0.0,0.0,0.0,0.0,0.0,0.0,0.0],[0.0,0.0,0.0,0.0,0.0,13.723621814935065,0.0,0.0,0.0,0.0,0.0,0.0,0.0,0.0,0.0,0.0,0.0,0.0,0.0,0.0,0.0,0.0,0.0,0.0,0.0,0.0,0.0,0.0,0.0,0.0,0.0,0.0,0.0,0.0,0.0,0.0,0.0,0.0,0.0,0.0,0.0,0.0,0.0,0.0,0.0,0.0,0.0,0.0,0.0,0.0],[0.0,0.0,0.0,0.0,0.0,0.0,1033.3187720533335,0.0,0.0,0.0,0.0,0.0,0.0,0.0,0.0,0.0,0.0,0.0,0.0,0.0,0.0,0.0,0.0,0.0,0.0,0.0,0.0,0.0,0.0,0.0,0.0,0.0,0.0,0.0,0.0,0.0,0.0,0.0,0.0,0.0,0.0,0.0,0.0,0.0,0.0,0.0,0.0,0.0,0.0,0.0],[0.0,0.0,0.0,0.0,0.0,0.0,0.0,5.92570269375,0.0,0.0,0.0,0.0,0.0,0.0,0.0,0.0,0.0,0.0,0.0,0.0,0.0,0.0,0.0,0.0,0.0,0.0,0.0,0.0,0.0,0.0,0.0,0.0,0.0,0.0,0.0,0.0,0.0,0.0,0.0,0.0,0.0,0.0,0.0,0.0,0.0,0.0,0.0,0.0,0.0,0.0],[0.0,0.0,0.0,0.0,0.0,0.0,0.0,0.0,13.095474331599998,0.0,0.0,0.0,0.0,0.0,0.0,0.0,0.0,0.0,0.0,0.0,0.0,0.0,0.0,0.0,0.0,0.0,0.0,0.0,0.0,0.0,0.0,0.0,0.0,0.0,0.0,0.0,0.0,0.0,0.0,0.0,0.0,0.0,0.0,0.0,0.0,0.0,0.0,0.0,0.0,0.0],[0.0,0.0,0.0,0.0,0.0,0.0,0.0,0.0,0.0,6.434229017341464,0.0,0.0,0.0,0.0,0.0,0.0,0.0,0.0,0.0,0.0,0.0,0.0,0.0,0.0,0.0,0.0,0.0,0.0,0.0,0.0,0.0,0.0,0.0,0.0,0.0,0.0,0.0,0.0,0.0,0.0,0.0,0.0,0.0,0.0,0.0,0.0,0.0,0.0,0.0,0.0],[0.0,0.0,0.0,0.0,0.0,0.0,0.0,0.0,0.0,0.0,46.36310126764706,0.0,0.0,0.0,0.0,0.0,0.0,0.0,0.0,0.0,0.0,0.0,0.0,0.0,0.0,0.0,0.0,0.0,0.0,0.0,0.0,0.0,0.0,0.0,0.0,0.0,0.0,0.0,0.0,0.0,0.0,0.0,0.0,0.0,0.0,0.0,0.0,0.0,0.0,0.0],[0.0,0.0,0.0,0.0,0.0,0.0,0.0,0.0,0.0,0.0,0.0,null,0.0,0.0,0.0,0.0,0.0,0.0,0.0,0.0,0.0,0.0,0.0,0.0,0.0,0.0,0.0,0.0,0.0,0.0,0.0,0.0,0.0,0.0,0.0,0.0,0.0,0.0,0.0,0.0,0.0,0.0,0.0,0.0,0.0,0.0,0.0,0.0,0.0,0.0],[0.0,0.0,0.0,0.0,0.0,0.0,0.0,0.0,0.0,0.0,0.0,0.0,0.6646319248505747,0.0,0.0,0.0,0.0,0.0,0.0,0.0,0.0,0.0,0.0,0.0,0.0,0.0,0.0,0.0,0.0,0.0,0.0,0.0,0.0,0.0,0.0,0.0,0.0,0.0,0.0,0.0,0.0,0.0,0.0,0.0,0.0,0.0,0.0,0.0,0.0,0.0],[0.0,0.0,0.0,0.0,0.0,0.0,0.0,0.0,0.0,0.0,0.0,0.0,0.0,22.342583499375003,0.0,0.0,0.0,0.0,0.0,0.0,0.0,0.0,0.0,0.0,0.0,0.0,0.0,0.0,0.0,0.0,0.0,0.0,0.0,0.0,0.0,0.0,0.0,0.0,0.0,0.0,0.0,0.0,0.0,0.0,0.0,0.0,0.0,0.0,0.0,0.0],[0.0,0.0,0.0,0.0,0.0,0.0,0.0,0.0,0.0,0.0,0.0,0.0,0.0,0.0,381.1946277891304,0.0,0.0,0.0,0.0,0.0,0.0,0.0,0.0,0.0,0.0,0.0,0.0,0.0,0.0,0.0,0.0,0.0,0.0,0.0,0.0,0.0,0.0,0.0,0.0,0.0,0.0,0.0,0.0,0.0,0.0,0.0,0.0,0.0,0.0,0.0],[0.0,0.0,0.0,0.0,0.0,0.0,0.0,0.0,0.0,0.0,0.0,0.0,0.0,0.0,0.0,3060.2059779333335,0.0,0.0,0.0,0.0,0.0,0.0,0.0,0.0,0.0,0.0,0.0,0.0,0.0,0.0,0.0,0.0,0.0,0.0,0.0,0.0,0.0,0.0,0.0,0.0,0.0,0.0,0.0,0.0,0.0,0.0,0.0,0.0,0.0,0.0],[0.0,0.0,0.0,0.0,0.0,0.0,0.0,0.0,0.0,0.0,0.0,0.0,0.0,0.0,0.0,0.0,1221.2164488795454,0.0,0.0,0.0,0.0,0.0,0.0,0.0,0.0,0.0,0.0,0.0,0.0,0.0,0.0,0.0,0.0,0.0,0.0,0.0,0.0,0.0,0.0,0.0,0.0,0.0,0.0,0.0,0.0,0.0,0.0,0.0,0.0,0.0],[0.0,0.0,0.0,0.0,0.0,0.0,0.0,0.0,0.0,0.0,0.0,0.0,0.0,0.0,0.0,0.0,0.0,1367.727037153846,0.0,0.0,0.0,0.0,0.0,0.0,0.0,0.0,0.0,0.0,0.0,0.0,0.0,0.0,0.0,0.0,0.0,0.0,0.0,0.0,0.0,0.0,0.0,0.0,0.0,0.0,0.0,0.0,0.0,0.0,0.0,0.0],[0.0,0.0,0.0,0.0,0.0,0.0,0.0,0.0,0.0,0.0,0.0,0.0,0.0,0.0,0.0,0.0,0.0,0.0,291.0863714263158,0.0,0.0,0.0,0.0,0.0,0.0,0.0,0.0,0.0,0.0,0.0,0.0,0.0,0.0,0.0,0.0,0.0,0.0,0.0,0.0,0.0,0.0,0.0,0.0,0.0,0.0,0.0,0.0,0.0,0.0,0.0],[0.0,0.0,0.0,0.0,0.0,0.0,0.0,0.0,0.0,0.0,0.0,0.0,0.0,0.0,0.0,0.0,0.0,0.0,0.0,7.0820974985,0.0,0.0,0.0,0.0,0.0,0.0,0.0,0.0,0.0,0.0,0.0,0.0,0.0,0.0,0.0,0.0,0.0,0.0,0.0,0.0,0.0,0.0,0.0,0.0,0.0,0.0,0.0,0.0,0.0,0.0],[0.0,0.0,0.0,0.0,0.0,0.0,0.0,0.0,0.0,0.0,0.0,0.0,0.0,0.0,0.0,0.0,0.0,0.0,0.0,0.0,39.545985544090904,0.0,0.0,0.0,0.0,0.0,0.0,0.0,0.0,0.0,0.0,0.0,0.0,0.0,0.0,0.0,0.0,0.0,0.0,0.0,0.0,0.0,0.0,0.0,0.0,0.0,0.0,0.0,0.0,0.0],[0.0,0.0,0.0,0.0,0.0,0.0,0.0,0.0,0.0,0.0,0.0,0.0,0.0,0.0,0.0,0.0,0.0,0.0,0.0,0.0,0.0,1.5794482552105265,0.0,0.0,0.0,0.0,0.0,0.0,0.0,0.0,0.0,0.0,0.0,0.0,0.0,0.0,0.0,0.0,0.0,0.0,0.0,0.0,0.0,0.0,0.0,0.0,0.0,0.0,0.0,0.0],[0.0,0.0,0.0,0.0,0.0,0.0,0.0,0.0,0.0,0.0,0.0,0.0,0.0,0.0,0.0,0.0,0.0,0.0,0.0,0.0,0.0,0.0,13.159516255,0.0,0.0,0.0,0.0,0.0,0.0,0.0,0.0,0.0,0.0,0.0,0.0,0.0,0.0,0.0,0.0,0.0,0.0,0.0,0.0,0.0,0.0,0.0,0.0,0.0,0.0,0.0],[0.0,0.0,0.0,0.0,0.0,0.0,0.0,0.0,0.0,0.0,0.0,0.0,0.0,0.0,0.0,0.0,0.0,0.0,0.0,0.0,0.0,0.0,0.0,6.300323703772151,0.0,0.0,0.0,0.0,0.0,0.0,0.0,0.0,0.0,0.0,0.0,0.0,0.0,0.0,0.0,0.0,0.0,0.0,0.0,0.0,0.0,0.0,0.0,0.0,0.0,0.0],[0.0,0.0,0.0,0.0,0.0,0.0,0.0,0.0,0.0,0.0,0.0,0.0,0.0,0.0,0.0,0.0,0.0,0.0,0.0,0.0,0.0,0.0,0.0,0.0,90.37428249722223,0.0,0.0,0.0,0.0,0.0,0.0,0.0,0.0,0.0,0.0,0.0,0.0,0.0,0.0,0.0,0.0,0.0,0.0,0.0,0.0,0.0,0.0,0.0,0.0,0.0],[0.0,0.0,0.0,0.0,0.0,0.0,0.0,0.0,0.0,0.0,0.0,0.0,0.0,0.0,0.0,0.0,0.0,0.0,0.0,0.0,0.0,0.0,0.0,0.0,0.0,1328.4528927142858,0.0,0.0,0.0,0.0,0.0,0.0,0.0,0.0,0.0,0.0,0.0,0.0,0.0,0.0,0.0,0.0,0.0,0.0,0.0,0.0,0.0,0.0,0.0,0.0],[0.0,0.0,0.0,0.0,0.0,0.0,0.0,0.0,0.0,0.0,0.0,0.0,0.0,0.0,0.0,0.0,0.0,0.0,0.0,0.0,0.0,0.0,0.0,0.0,0.0,0.0,439.33634223658544,0.0,0.0,0.0,0.0,0.0,0.0,0.0,0.0,0.0,0.0,0.0,0.0,0.0,0.0,0.0,0.0,0.0,0.0,0.0,0.0,0.0,0.0,0.0],[0.0,0.0,0.0,0.0,0.0,0.0,0.0,0.0,0.0,0.0,0.0,0.0,0.0,0.0,0.0,0.0,0.0,0.0,0.0,0.0,0.0,0.0,0.0,0.0,0.0,0.0,0.0,9.066929787653846,0.0,0.0,0.0,0.0,0.0,0.0,0.0,0.0,0.0,0.0,0.0,0.0,0.0,0.0,0.0,0.0,0.0,0.0,0.0,0.0,0.0,0.0],[0.0,0.0,0.0,0.0,0.0,0.0,0.0,0.0,0.0,0.0,0.0,0.0,0.0,0.0,0.0,0.0,0.0,0.0,0.0,0.0,0.0,0.0,0.0,0.0,0.0,0.0,0.0,0.0,131.2352545526316,0.0,0.0,0.0,0.0,0.0,0.0,0.0,0.0,0.0,0.0,0.0,0.0,0.0,0.0,0.0,0.0,0.0,0.0,0.0,0.0,0.0],[0.0,0.0,0.0,0.0,0.0,0.0,0.0,0.0,0.0,0.0,0.0,0.0,0.0,0.0,0.0,0.0,0.0,0.0,0.0,0.0,0.0,0.0,0.0,0.0,0.0,0.0,0.0,0.0,0.0,859.5404205060605,0.0,0.0,0.0,0.0,0.0,0.0,0.0,0.0,0.0,0.0,0.0,0.0,0.0,0.0,0.0,0.0,0.0,0.0,0.0,0.0],[0.0,0.0,0.0,0.0,0.0,0.0,0.0,0.0,0.0,0.0,0.0,0.0,0.0,0.0,0.0,0.0,0.0,0.0,0.0,0.0,0.0,0.0,0.0,0.0,0.0,0.0,0.0,0.0,0.0,0.0,1.12512538538,0.0,0.0,0.0,0.0,0.0,0.0,0.0,0.0,0.0,0.0,0.0,0.0,0.0,0.0,0.0,0.0,0.0,0.0,0.0],[0.0,0.0,0.0,0.0,0.0,0.0,0.0,0.0,0.0,0.0,0.0,0.0,0.0,0.0,0.0,0.0,0.0,0.0,0.0,0.0,0.0,0.0,0.0,0.0,0.0,0.0,0.0,0.0,0.0,0.0,0.0,460.6748424727273,0.0,0.0,0.0,0.0,0.0,0.0,0.0,0.0,0.0,0.0,0.0,0.0,0.0,0.0,0.0,0.0,0.0,0.0],[0.0,0.0,0.0,0.0,0.0,0.0,0.0,0.0,0.0,0.0,0.0,0.0,0.0,0.0,0.0,0.0,0.0,0.0,0.0,0.0,0.0,0.0,0.0,0.0,0.0,0.0,0.0,0.0,0.0,0.0,0.0,0.0,1618.477384,0.0,0.0,0.0,0.0,0.0,0.0,0.0,0.0,0.0,0.0,0.0,0.0,0.0,0.0,0.0,0.0,0.0],[0.0,0.0,0.0,0.0,0.0,0.0,0.0,0.0,0.0,0.0,0.0,0.0,0.0,0.0,0.0,0.0,0.0,0.0,0.0,0.0,0.0,0.0,0.0,0.0,0.0,0.0,0.0,0.0,0.0,0.0,0.0,0.0,0.0,0.2250818888139535,0.0,0.0,0.0,0.0,0.0,0.0,0.0,0.0,0.0,0.0,0.0,0.0,0.0,0.0,0.0,0.0],[0.0,0.0,0.0,0.0,0.0,0.0,0.0,0.0,0.0,0.0,0.0,0.0,0.0,0.0,0.0,0.0,0.0,0.0,0.0,0.0,0.0,0.0,0.0,0.0,0.0,0.0,0.0,0.0,0.0,0.0,0.0,0.0,0.0,0.0,1475.8699912307695,0.0,0.0,0.0,0.0,0.0,0.0,0.0,0.0,0.0,0.0,0.0,0.0,0.0,0.0,0.0],[0.0,0.0,0.0,0.0,0.0,0.0,0.0,0.0,0.0,0.0,0.0,0.0,0.0,0.0,0.0,0.0,0.0,0.0,0.0,0.0,0.0,0.0,0.0,0.0,0.0,0.0,0.0,0.0,0.0,0.0,0.0,0.0,0.0,0.0,0.0,2.2018241112999997,0.0,0.0,0.0,0.0,0.0,0.0,0.0,0.0,0.0,0.0,0.0,0.0,0.0,0.0],[0.0,0.0,0.0,0.0,0.0,0.0,0.0,0.0,0.0,0.0,0.0,0.0,0.0,0.0,0.0,0.0,0.0,0.0,0.0,0.0,0.0,0.0,0.0,0.0,0.0,0.0,0.0,0.0,0.0,0.0,0.0,0.0,0.0,0.0,0.0,0.0,376.9678429647059,0.0,0.0,0.0,0.0,0.0,0.0,0.0,0.0,0.0,0.0,0.0,0.0,0.0],[0.0,0.0,0.0,0.0,0.0,0.0,0.0,0.0,0.0,0.0,0.0,0.0,0.0,0.0,0.0,0.0,0.0,0.0,0.0,0.0,0.0,0.0,0.0,0.0,0.0,0.0,0.0,0.0,0.0,0.0,0.0,0.0,0.0,0.0,0.0,0.0,0.0,377.6215961858823,0.0,0.0,0.0,0.0,0.0,0.0,0.0,0.0,0.0,0.0,0.0,0.0],[0.0,0.0,0.0,0.0,0.0,0.0,0.0,0.0,0.0,0.0,0.0,0.0,0.0,0.0,0.0,0.0,0.0,0.0,0.0,0.0,0.0,0.0,0.0,0.0,0.0,0.0,0.0,0.0,0.0,0.0,0.0,0.0,0.0,0.0,0.0,0.0,0.0,0.0,932.0029251346155,0.0,0.0,0.0,0.0,0.0,0.0,0.0,0.0,0.0,0.0,0.0],[0.0,0.0,0.0,0.0,0.0,0.0,0.0,0.0,0.0,0.0,0.0,0.0,0.0,0.0,0.0,0.0,0.0,0.0,0.0,0.0,0.0,0.0,0.0,0.0,0.0,0.0,0.0,0.0,0.0,0.0,0.0,0.0,0.0,0.0,0.0,0.0,0.0,0.0,0.0,13.29023317,0.0,0.0,0.0,0.0,0.0,0.0,0.0,0.0,0.0,0.0],[0.0,0.0,0.0,0.0,0.0,0.0,0.0,0.0,0.0,0.0,0.0,0.0,0.0,0.0,0.0,0.0,0.0,0.0,0.0,0.0,0.0,0.0,0.0,0.0,0.0,0.0,0.0,0.0,0.0,0.0,0.0,0.0,0.0,0.0,0.0,0.0,0.0,0.0,0.0,0.0,49.51812375,0.0,0.0,0.0,0.0,0.0,0.0,0.0,0.0,0.0],[0.0,0.0,0.0,0.0,0.0,0.0,0.0,0.0,0.0,0.0,0.0,0.0,0.0,0.0,0.0,0.0,0.0,0.0,0.0,0.0,0.0,0.0,0.0,0.0,0.0,0.0,0.0,0.0,0.0,0.0,0.0,0.0,0.0,0.0,0.0,0.0,0.0,0.0,0.0,0.0,0.0,1056.8261772966666,0.0,0.0,0.0,0.0,0.0,0.0,0.0,0.0],[0.0,0.0,0.0,0.0,0.0,0.0,0.0,0.0,0.0,0.0,0.0,0.0,0.0,0.0,0.0,0.0,0.0,0.0,0.0,0.0,0.0,0.0,0.0,0.0,0.0,0.0,0.0,0.0,0.0,0.0,0.0,0.0,0.0,0.0,0.0,0.0,0.0,0.0,0.0,0.0,0.0,0.0,1146.619301988889,0.0,0.0,0.0,0.0,0.0,0.0,0.0],[0.0,0.0,0.0,0.0,0.0,0.0,0.0,0.0,0.0,0.0,0.0,0.0,0.0,0.0,0.0,0.0,0.0,0.0,0.0,0.0,0.0,0.0,0.0,0.0,0.0,0.0,0.0,0.0,0.0,0.0,0.0,0.0,0.0,0.0,0.0,0.0,0.0,0.0,0.0,0.0,0.0,0.0,0.0,2175.4934371990657,0.0,0.0,0.0,0.0,0.0,0.0],[0.0,0.0,0.0,0.0,0.0,0.0,0.0,0.0,0.0,0.0,0.0,0.0,0.0,0.0,0.0,0.0,0.0,0.0,0.0,0.0,0.0,0.0,0.0,0.0,0.0,0.0,0.0,0.0,0.0,0.0,0.0,0.0,0.0,0.0,0.0,0.0,0.0,0.0,0.0,0.0,0.0,0.0,0.0,0.0,444.719212712963,0.0,0.0,0.0,0.0,0.0],[0.0,0.0,0.0,0.0,0.0,0.0,0.0,0.0,0.0,0.0,0.0,0.0,0.0,0.0,0.0,0.0,0.0,0.0,0.0,0.0,0.0,0.0,0.0,0.0,0.0,0.0,0.0,0.0,0.0,0.0,0.0,0.0,0.0,0.0,0.0,0.0,0.0,0.0,0.0,0.0,0.0,0.0,0.0,0.0,0.0,0.14250306464705884,0.0,0.0,0.0,0.0],[0.0,0.0,0.0,0.0,0.0,0.0,0.0,0.0,0.0,0.0,0.0,0.0,0.0,0.0,0.0,0.0,0.0,0.0,0.0,0.0,0.0,0.0,0.0,0.0,0.0,0.0,0.0,0.0,0.0,0.0,0.0,0.0,0.0,0.0,0.0,0.0,0.0,0.0,0.0,0.0,0.0,0.0,0.0,0.0,0.0,0.0,1249.7282440909091,0.0,0.0,0.0],[0.0,0.0,0.0,0.0,0.0,0.0,0.0,0.0,0.0,0.0,0.0,0.0,0.0,0.0,0.0,0.0,0.0,0.0,0.0,0.0,0.0,0.0,0.0,0.0,0.0,0.0,0.0,0.0,0.0,0.0,0.0,0.0,0.0,0.0,0.0,0.0,0.0,0.0,0.0,0.0,0.0,0.0,0.0,0.0,0.0,0.0,0.0,1215.3196222333333,0.0,0.0],[0.0,0.0,0.0,0.0,0.0,0.0,0.0,0.0,0.0,0.0,0.0,0.0,0.0,0.0,0.0,0.0,0.0,0.0,0.0,0.0,0.0,0.0,0.0,0.0,0.0,0.0,0.0,0.0,0.0,0.0,0.0,0.0,0.0,0.0,0.0,0.0,0.0,0.0,0.0,0.0,0.0,0.0,0.0,0.0,0.0,0.0,0.0,0.0,464.8824403285714,0.0],[0.0,0.0,0.0,0.0,0.0,0.0,0.0,0.0,0.0,0.0,0.0,0.0,0.0,0.0,0.0,0.0,0.0,0.0,0.0,0.0,0.0,0.0,0.0,0.0,0.0,0.0,0.0,0.0,0.0,0.0,0.0,0.0,0.0,0.0,0.0,0.0,0.0,0.0,0.0,0.0,0.0,0.0,0.0,0.0,0.0,0.0,0.0,0.0,0.0,351.281915812963]],\"type\":\"surface\"}],                        {\"template\":{\"data\":{\"bar\":[{\"error_x\":{\"color\":\"#2a3f5f\"},\"error_y\":{\"color\":\"#2a3f5f\"},\"marker\":{\"line\":{\"color\":\"#E5ECF6\",\"width\":0.5},\"pattern\":{\"fillmode\":\"overlay\",\"size\":10,\"solidity\":0.2}},\"type\":\"bar\"}],\"barpolar\":[{\"marker\":{\"line\":{\"color\":\"#E5ECF6\",\"width\":0.5},\"pattern\":{\"fillmode\":\"overlay\",\"size\":10,\"solidity\":0.2}},\"type\":\"barpolar\"}],\"carpet\":[{\"aaxis\":{\"endlinecolor\":\"#2a3f5f\",\"gridcolor\":\"white\",\"linecolor\":\"white\",\"minorgridcolor\":\"white\",\"startlinecolor\":\"#2a3f5f\"},\"baxis\":{\"endlinecolor\":\"#2a3f5f\",\"gridcolor\":\"white\",\"linecolor\":\"white\",\"minorgridcolor\":\"white\",\"startlinecolor\":\"#2a3f5f\"},\"type\":\"carpet\"}],\"choropleth\":[{\"colorbar\":{\"outlinewidth\":0,\"ticks\":\"\"},\"type\":\"choropleth\"}],\"contour\":[{\"colorbar\":{\"outlinewidth\":0,\"ticks\":\"\"},\"colorscale\":[[0.0,\"#0d0887\"],[0.1111111111111111,\"#46039f\"],[0.2222222222222222,\"#7201a8\"],[0.3333333333333333,\"#9c179e\"],[0.4444444444444444,\"#bd3786\"],[0.5555555555555556,\"#d8576b\"],[0.6666666666666666,\"#ed7953\"],[0.7777777777777778,\"#fb9f3a\"],[0.8888888888888888,\"#fdca26\"],[1.0,\"#f0f921\"]],\"type\":\"contour\"}],\"contourcarpet\":[{\"colorbar\":{\"outlinewidth\":0,\"ticks\":\"\"},\"type\":\"contourcarpet\"}],\"heatmap\":[{\"colorbar\":{\"outlinewidth\":0,\"ticks\":\"\"},\"colorscale\":[[0.0,\"#0d0887\"],[0.1111111111111111,\"#46039f\"],[0.2222222222222222,\"#7201a8\"],[0.3333333333333333,\"#9c179e\"],[0.4444444444444444,\"#bd3786\"],[0.5555555555555556,\"#d8576b\"],[0.6666666666666666,\"#ed7953\"],[0.7777777777777778,\"#fb9f3a\"],[0.8888888888888888,\"#fdca26\"],[1.0,\"#f0f921\"]],\"type\":\"heatmap\"}],\"heatmapgl\":[{\"colorbar\":{\"outlinewidth\":0,\"ticks\":\"\"},\"colorscale\":[[0.0,\"#0d0887\"],[0.1111111111111111,\"#46039f\"],[0.2222222222222222,\"#7201a8\"],[0.3333333333333333,\"#9c179e\"],[0.4444444444444444,\"#bd3786\"],[0.5555555555555556,\"#d8576b\"],[0.6666666666666666,\"#ed7953\"],[0.7777777777777778,\"#fb9f3a\"],[0.8888888888888888,\"#fdca26\"],[1.0,\"#f0f921\"]],\"type\":\"heatmapgl\"}],\"histogram\":[{\"marker\":{\"pattern\":{\"fillmode\":\"overlay\",\"size\":10,\"solidity\":0.2}},\"type\":\"histogram\"}],\"histogram2d\":[{\"colorbar\":{\"outlinewidth\":0,\"ticks\":\"\"},\"colorscale\":[[0.0,\"#0d0887\"],[0.1111111111111111,\"#46039f\"],[0.2222222222222222,\"#7201a8\"],[0.3333333333333333,\"#9c179e\"],[0.4444444444444444,\"#bd3786\"],[0.5555555555555556,\"#d8576b\"],[0.6666666666666666,\"#ed7953\"],[0.7777777777777778,\"#fb9f3a\"],[0.8888888888888888,\"#fdca26\"],[1.0,\"#f0f921\"]],\"type\":\"histogram2d\"}],\"histogram2dcontour\":[{\"colorbar\":{\"outlinewidth\":0,\"ticks\":\"\"},\"colorscale\":[[0.0,\"#0d0887\"],[0.1111111111111111,\"#46039f\"],[0.2222222222222222,\"#7201a8\"],[0.3333333333333333,\"#9c179e\"],[0.4444444444444444,\"#bd3786\"],[0.5555555555555556,\"#d8576b\"],[0.6666666666666666,\"#ed7953\"],[0.7777777777777778,\"#fb9f3a\"],[0.8888888888888888,\"#fdca26\"],[1.0,\"#f0f921\"]],\"type\":\"histogram2dcontour\"}],\"mesh3d\":[{\"colorbar\":{\"outlinewidth\":0,\"ticks\":\"\"},\"type\":\"mesh3d\"}],\"parcoords\":[{\"line\":{\"colorbar\":{\"outlinewidth\":0,\"ticks\":\"\"}},\"type\":\"parcoords\"}],\"pie\":[{\"automargin\":true,\"type\":\"pie\"}],\"scatter\":[{\"marker\":{\"colorbar\":{\"outlinewidth\":0,\"ticks\":\"\"}},\"type\":\"scatter\"}],\"scatter3d\":[{\"line\":{\"colorbar\":{\"outlinewidth\":0,\"ticks\":\"\"}},\"marker\":{\"colorbar\":{\"outlinewidth\":0,\"ticks\":\"\"}},\"type\":\"scatter3d\"}],\"scattercarpet\":[{\"marker\":{\"colorbar\":{\"outlinewidth\":0,\"ticks\":\"\"}},\"type\":\"scattercarpet\"}],\"scattergeo\":[{\"marker\":{\"colorbar\":{\"outlinewidth\":0,\"ticks\":\"\"}},\"type\":\"scattergeo\"}],\"scattergl\":[{\"marker\":{\"colorbar\":{\"outlinewidth\":0,\"ticks\":\"\"}},\"type\":\"scattergl\"}],\"scattermapbox\":[{\"marker\":{\"colorbar\":{\"outlinewidth\":0,\"ticks\":\"\"}},\"type\":\"scattermapbox\"}],\"scatterpolar\":[{\"marker\":{\"colorbar\":{\"outlinewidth\":0,\"ticks\":\"\"}},\"type\":\"scatterpolar\"}],\"scatterpolargl\":[{\"marker\":{\"colorbar\":{\"outlinewidth\":0,\"ticks\":\"\"}},\"type\":\"scatterpolargl\"}],\"scatterternary\":[{\"marker\":{\"colorbar\":{\"outlinewidth\":0,\"ticks\":\"\"}},\"type\":\"scatterternary\"}],\"surface\":[{\"colorbar\":{\"outlinewidth\":0,\"ticks\":\"\"},\"colorscale\":[[0.0,\"#0d0887\"],[0.1111111111111111,\"#46039f\"],[0.2222222222222222,\"#7201a8\"],[0.3333333333333333,\"#9c179e\"],[0.4444444444444444,\"#bd3786\"],[0.5555555555555556,\"#d8576b\"],[0.6666666666666666,\"#ed7953\"],[0.7777777777777778,\"#fb9f3a\"],[0.8888888888888888,\"#fdca26\"],[1.0,\"#f0f921\"]],\"type\":\"surface\"}],\"table\":[{\"cells\":{\"fill\":{\"color\":\"#EBF0F8\"},\"line\":{\"color\":\"white\"}},\"header\":{\"fill\":{\"color\":\"#C8D4E3\"},\"line\":{\"color\":\"white\"}},\"type\":\"table\"}]},\"layout\":{\"annotationdefaults\":{\"arrowcolor\":\"#2a3f5f\",\"arrowhead\":0,\"arrowwidth\":1},\"autotypenumbers\":\"strict\",\"coloraxis\":{\"colorbar\":{\"outlinewidth\":0,\"ticks\":\"\"}},\"colorscale\":{\"diverging\":[[0,\"#8e0152\"],[0.1,\"#c51b7d\"],[0.2,\"#de77ae\"],[0.3,\"#f1b6da\"],[0.4,\"#fde0ef\"],[0.5,\"#f7f7f7\"],[0.6,\"#e6f5d0\"],[0.7,\"#b8e186\"],[0.8,\"#7fbc41\"],[0.9,\"#4d9221\"],[1,\"#276419\"]],\"sequential\":[[0.0,\"#0d0887\"],[0.1111111111111111,\"#46039f\"],[0.2222222222222222,\"#7201a8\"],[0.3333333333333333,\"#9c179e\"],[0.4444444444444444,\"#bd3786\"],[0.5555555555555556,\"#d8576b\"],[0.6666666666666666,\"#ed7953\"],[0.7777777777777778,\"#fb9f3a\"],[0.8888888888888888,\"#fdca26\"],[1.0,\"#f0f921\"]],\"sequentialminus\":[[0.0,\"#0d0887\"],[0.1111111111111111,\"#46039f\"],[0.2222222222222222,\"#7201a8\"],[0.3333333333333333,\"#9c179e\"],[0.4444444444444444,\"#bd3786\"],[0.5555555555555556,\"#d8576b\"],[0.6666666666666666,\"#ed7953\"],[0.7777777777777778,\"#fb9f3a\"],[0.8888888888888888,\"#fdca26\"],[1.0,\"#f0f921\"]]},\"colorway\":[\"#636efa\",\"#EF553B\",\"#00cc96\",\"#ab63fa\",\"#FFA15A\",\"#19d3f3\",\"#FF6692\",\"#B6E880\",\"#FF97FF\",\"#FECB52\"],\"font\":{\"color\":\"#2a3f5f\"},\"geo\":{\"bgcolor\":\"white\",\"lakecolor\":\"white\",\"landcolor\":\"#E5ECF6\",\"showlakes\":true,\"showland\":true,\"subunitcolor\":\"white\"},\"hoverlabel\":{\"align\":\"left\"},\"hovermode\":\"closest\",\"mapbox\":{\"style\":\"light\"},\"paper_bgcolor\":\"white\",\"plot_bgcolor\":\"#E5ECF6\",\"polar\":{\"angularaxis\":{\"gridcolor\":\"white\",\"linecolor\":\"white\",\"ticks\":\"\"},\"bgcolor\":\"#E5ECF6\",\"radialaxis\":{\"gridcolor\":\"white\",\"linecolor\":\"white\",\"ticks\":\"\"}},\"scene\":{\"xaxis\":{\"backgroundcolor\":\"#E5ECF6\",\"gridcolor\":\"white\",\"gridwidth\":2,\"linecolor\":\"white\",\"showbackground\":true,\"ticks\":\"\",\"zerolinecolor\":\"white\"},\"yaxis\":{\"backgroundcolor\":\"#E5ECF6\",\"gridcolor\":\"white\",\"gridwidth\":2,\"linecolor\":\"white\",\"showbackground\":true,\"ticks\":\"\",\"zerolinecolor\":\"white\"},\"zaxis\":{\"backgroundcolor\":\"#E5ECF6\",\"gridcolor\":\"white\",\"gridwidth\":2,\"linecolor\":\"white\",\"showbackground\":true,\"ticks\":\"\",\"zerolinecolor\":\"white\"}},\"shapedefaults\":{\"line\":{\"color\":\"#2a3f5f\"}},\"ternary\":{\"aaxis\":{\"gridcolor\":\"white\",\"linecolor\":\"white\",\"ticks\":\"\"},\"baxis\":{\"gridcolor\":\"white\",\"linecolor\":\"white\",\"ticks\":\"\"},\"bgcolor\":\"#E5ECF6\",\"caxis\":{\"gridcolor\":\"white\",\"linecolor\":\"white\",\"ticks\":\"\"}},\"title\":{\"x\":0.05},\"xaxis\":{\"automargin\":true,\"gridcolor\":\"white\",\"linecolor\":\"white\",\"ticks\":\"\",\"title\":{\"standoff\":15},\"zerolinecolor\":\"white\",\"zerolinewidth\":2},\"yaxis\":{\"automargin\":true,\"gridcolor\":\"white\",\"linecolor\":\"white\",\"ticks\":\"\",\"title\":{\"standoff\":15},\"zerolinecolor\":\"white\",\"zerolinewidth\":2}}},\"xaxis\":{\"title\":{\"text\":\"X (ft)\"}}},                        {\"responsive\": true}                    ).then(function(){\n                            \nvar gd = document.getElementById('2c0875c2-ad49-4ff3-8844-62bae4df06c9');\nvar x = new MutationObserver(function (mutations, observer) {{\n        var display = window.getComputedStyle(gd).display;\n        if (!display || display === 'none') {{\n            console.log([gd, 'removed!']);\n            Plotly.purge(gd);\n            observer.disconnect();\n        }}\n}});\n\n// Listen for the removal of the full notebook cells\nvar notebookContainer = gd.closest('#notebook-container');\nif (notebookContainer) {{\n    x.observe(notebookContainer, {childList: true});\n}}\n\n// Listen for the clearing of the current output cell\nvar outputEl = gd.closest('.output');\nif (outputEl) {{\n    x.observe(outputEl, {childList: true});\n}}\n\n                        })                };                            </script>        </div>\n</body>\n</html>"
     },
     "metadata": {},
     "output_type": "display_data"
    }
   ]
  },
  {
   "cell_type": "code",
   "metadata": {
    "cell_id": "4bdbf9d0ae3b4af09dcbab71cf5434a1",
    "tags": [],
    "deepnote_to_be_reexecuted": false,
    "source_hash": "606630c",
    "execution_start": 1648274605624,
    "execution_millis": 15,
    "deepnote_cell_type": "code",
    "deepnote_cell_height": 348.3999938964844,
    "deepnote_output_heights": [
     252
    ]
   },
   "source": "np.diag(new_df[\"Average_Production\"].values)",
   "execution_count": null,
   "outputs": [
    {
     "output_type": "execute_result",
     "execution_count": 151,
     "data": {
      "text/plain": "array([[   8.80916814,    0.        ,    0.        , ...,    0.        ,\n           0.        ,    0.        ],\n       [   0.        ,   38.67564086,    0.        , ...,    0.        ,\n           0.        ,    0.        ],\n       [   0.        ,    0.        ,    5.27653451, ...,    0.        ,\n           0.        ,    0.        ],\n       ...,\n       [   0.        ,    0.        ,    0.        , ..., 1215.31962223,\n           0.        ,    0.        ],\n       [   0.        ,    0.        ,    0.        , ...,    0.        ,\n         464.88244033,    0.        ],\n       [   0.        ,    0.        ,    0.        , ...,    0.        ,\n           0.        ,  351.28191581]])"
     },
     "metadata": {}
    }
   ]
  },
  {
   "cell_type": "code",
   "metadata": {
    "cell_id": "95bd9d577e9a4437a574374b87d904ca",
    "tags": [],
    "deepnote_to_be_reexecuted": false,
    "source_hash": "84693ffe",
    "execution_start": 1648275273028,
    "execution_millis": 1,
    "deepnote_cell_type": "code",
    "deepnote_cell_height": 80.60000610351562
   },
   "source": "new_df.to_csv('new_df.csv')",
   "execution_count": null,
   "outputs": []
  },
  {
   "cell_type": "markdown",
   "source": "<a style='text-decoration:none;line-height:16px;display:flex;color:#5B5B62;padding:10px;justify-content:end;' href='https://deepnote.com?utm_source=created-in-deepnote-cell&projectId=6b71fecc-b405-4b93-bce3-c5ed6c21c449' target=\"_blank\">\n<img alt='Created in deepnote.com' style='display:inline;max-height:16px;margin:0px;margin-right:7.5px;' src='data:image/svg+xml;base64,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' > </img>\nCreated in <span style='font-weight:600;margin-left:4px;'>Deepnote</span></a>",
   "metadata": {
    "tags": [],
    "created_in_deepnote_cell": true,
    "deepnote_cell_type": "markdown"
   }
  }
 ],
 "nbformat": 4,
 "nbformat_minor": 2,
 "metadata": {
  "orig_nbformat": 2,
  "deepnote": {
   "is_reactive": false
  },
  "deepnote_notebook_id": "09ad8526-198a-444c-9d33-bd6e4f64de5e",
  "deepnote_execution_queue": []
 }
}