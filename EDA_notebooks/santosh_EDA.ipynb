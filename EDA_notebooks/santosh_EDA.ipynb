{
 "cells": [
  {
   "cell_type": "code",
   "metadata": {
    "tags": [],
    "cell_id": "6051d233-624d-4f55-b62f-613e98c42a61",
    "deepnote_to_be_reexecuted": false,
    "source_hash": "3d8fb240",
    "execution_start": 1648388542944,
    "execution_millis": 0,
    "deepnote_cell_type": "code",
    "deepnote_cell_height": 153
   },
   "source": "import numpy as np\nimport pandas as pd\nimport matplotlib.pyplot as plt\nimport plotly.express as px\nimport plotly.graph_objects as go",
   "execution_count": 7,
   "outputs": []
  },
  {
   "cell_type": "code",
   "metadata": {
    "cell_id": "dd1115d2c7134cb8ad01ff7ad9e64ad1",
    "tags": [],
    "deepnote_to_be_reexecuted": false,
    "source_hash": "ce67defe",
    "execution_start": 1648388467064,
    "execution_millis": 106,
    "deepnote_cell_type": "code",
    "deepnote_cell_height": 352.203125
   },
   "source": "wells = pd.read_csv('/work/Carpe-Datum-2022/Well_Head_and_Completion.csv')\nwm = pd.read_csv('/work/Carpe-Datum-2022/Well_Log/WELL_MASTER_AI.csv')\nwells = wells.merge(wm, how='left', left_on='WELL', right_on='well_id',).drop_duplicates('WELL')\nnew = pd.read_csv('new_df2.csv')\nwells = wells.merge(new, how='left', left_on='WELL', right_on='Unnamed: 0', suffixes=(None,'_y'))\nwells['line'] = -.29*wells['Y(ft)']+154670\ntime = pd.read_csv('/work/Carpe-Datum-2022/Production_History_Field.csv')\nz = pd.DataFrame()\nz['Start Date'] = time['Date'].iloc[time.drop('Date',axis=1).ne(0).idxmax()]\nz['Well'] = time.drop('Date', axis=1).columns\nz['Well'] = z['Well'].str.replace('WOPR:','').str.replace('\\(bbl/day\\)','')\nz['Age'] = (pd.to_datetime('today') - pd.to_datetime(z['Start Date'])).dt.days\nwells = wells.merge(z, how='left', left_on='WELL', right_on='Well')",
   "execution_count": 2,
   "outputs": [
    {
     "name": "stderr",
     "text": "/shared-libs/python3.7/py-core/lib/python3.7/site-packages/ipykernel_launcher.py:11: FutureWarning: The default value of regex will change from True to False in a future version.\n  # This is added back by InteractiveShellApp.init_path()\n",
     "output_type": "stream"
    }
   ]
  },
  {
   "cell_type": "code",
   "metadata": {
    "cell_id": "ea51760a65684e638026252d805fbb1c",
    "tags": [],
    "deepnote_to_be_reexecuted": false,
    "source_hash": "34509582",
    "execution_start": 1648388475489,
    "execution_millis": 305,
    "deepnote_table_state": {
     "pageSize": 10,
     "pageIndex": 0,
     "filters": [],
     "sortBy": []
    },
    "deepnote_table_loading": false,
    "deepnote_cell_type": "code",
    "deepnote_cell_height": 613.265625
   },
   "source": "wells",
   "execution_count": 3,
   "outputs": [
    {
     "output_type": "execute_result",
     "execution_count": 3,
     "data": {
      "application/vnd.deepnote.dataframe.v3+json": {
       "column_count": 37,
       "row_count": 50,
       "columns": [
        {
         "name": "WELL",
         "dtype": "object",
         "stats": {
          "unique_count": 50,
          "nan_count": 0,
          "categories": [
           {
            "name": "WP0",
            "count": 1
           },
           {
            "name": "WP1",
            "count": 1
           },
           {
            "name": "48 others",
            "count": 48
           }
          ]
         }
        },
        {
         "name": "X(ft)",
         "dtype": "float64",
         "stats": {
          "unique_count": 50,
          "nan_count": 0,
          "min": "109560.26",
          "max": "142095.82",
          "histogram": [
           {
            "bin_start": 109560.26,
            "bin_end": 112813.81599999999,
            "count": 8
           },
           {
            "bin_start": 112813.81599999999,
            "bin_end": 116067.372,
            "count": 6
           },
           {
            "bin_start": 116067.372,
            "bin_end": 119320.928,
            "count": 5
           },
           {
            "bin_start": 119320.928,
            "bin_end": 122574.484,
            "count": 3
           },
           {
            "bin_start": 122574.484,
            "bin_end": 125828.04000000001,
            "count": 4
           },
           {
            "bin_start": 125828.04000000001,
            "bin_end": 129081.596,
            "count": 4
           },
           {
            "bin_start": 129081.596,
            "bin_end": 132335.152,
            "count": 3
           },
           {
            "bin_start": 132335.152,
            "bin_end": 135588.708,
            "count": 8
           },
           {
            "bin_start": 135588.708,
            "bin_end": 138842.264,
            "count": 5
           },
           {
            "bin_start": 138842.264,
            "bin_end": 142095.82,
            "count": 4
           }
          ]
         }
        },
        {
         "name": "Y(ft)",
         "dtype": "float64",
         "stats": {
          "unique_count": 50,
          "nan_count": 0,
          "min": "81747.12",
          "max": "93691.55",
          "histogram": [
           {
            "bin_start": 81747.12,
            "bin_end": 82941.563,
            "count": 5
           },
           {
            "bin_start": 82941.563,
            "bin_end": 84136.006,
            "count": 5
           },
           {
            "bin_start": 84136.006,
            "bin_end": 85330.449,
            "count": 5
           },
           {
            "bin_start": 85330.449,
            "bin_end": 86524.89199999999,
            "count": 5
           },
           {
            "bin_start": 86524.89199999999,
            "bin_end": 87719.33499999999,
            "count": 4
           },
           {
            "bin_start": 87719.33499999999,
            "bin_end": 88913.778,
            "count": 6
           },
           {
            "bin_start": 88913.778,
            "bin_end": 90108.221,
            "count": 7
           },
           {
            "bin_start": 90108.221,
            "bin_end": 91302.664,
            "count": 5
           },
           {
            "bin_start": 91302.664,
            "bin_end": 92497.107,
            "count": 6
           },
           {
            "bin_start": 92497.107,
            "bin_end": 93691.55,
            "count": 2
           }
          ]
         }
        },
        {
         "name": "Completion",
         "dtype": "object",
         "stats": {
          "unique_count": 2,
          "nan_count": 0,
          "categories": [
           {
            "name": "Lower",
            "count": 30
           },
           {
            "name": "Upper",
            "count": 20
           }
          ]
         }
        },
        {
         "name": "Elevation Kelly Bushing (ft)",
         "dtype": "float64",
         "stats": {
          "unique_count": 49,
          "nan_count": 0,
          "min": "160.22",
          "max": "203.85",
          "histogram": [
           {
            "bin_start": 160.22,
            "bin_end": 164.583,
            "count": 3
           },
           {
            "bin_start": 164.583,
            "bin_end": 168.946,
            "count": 1
           },
           {
            "bin_start": 168.946,
            "bin_end": 173.309,
            "count": 6
           },
           {
            "bin_start": 173.309,
            "bin_end": 177.672,
            "count": 8
           },
           {
            "bin_start": 177.672,
            "bin_end": 182.035,
            "count": 10
           },
           {
            "bin_start": 182.035,
            "bin_end": 186.398,
            "count": 10
           },
           {
            "bin_start": 186.398,
            "bin_end": 190.761,
            "count": 3
           },
           {
            "bin_start": 190.761,
            "bin_end": 195.124,
            "count": 7
           },
           {
            "bin_start": 195.124,
            "bin_end": 199.487,
            "count": 1
           },
           {
            "bin_start": 199.487,
            "bin_end": 203.85,
            "count": 1
           }
          ]
         }
        },
        {
         "name": "Unnamed: 0",
         "dtype": "int64",
         "stats": {
          "unique_count": 50,
          "nan_count": 0,
          "min": "0",
          "max": "1920",
          "histogram": [
           {
            "bin_start": 0,
            "bin_end": 192,
            "count": 7
           },
           {
            "bin_start": 192,
            "bin_end": 384,
            "count": 4
           },
           {
            "bin_start": 384,
            "bin_end": 576,
            "count": 5
           },
           {
            "bin_start": 576,
            "bin_end": 768,
            "count": 4
           },
           {
            "bin_start": 768,
            "bin_end": 960,
            "count": 5
           },
           {
            "bin_start": 960,
            "bin_end": 1152,
            "count": 6
           },
           {
            "bin_start": 1152,
            "bin_end": 1344,
            "count": 4
           },
           {
            "bin_start": 1344,
            "bin_end": 1536,
            "count": 5
           },
           {
            "bin_start": 1536,
            "bin_end": 1728,
            "count": 4
           },
           {
            "bin_start": 1728,
            "bin_end": 1920,
            "count": 6
           }
          ]
         }
        },
        {
         "name": "MD(ft)",
         "dtype": "float64",
         "stats": {
          "unique_count": 50,
          "nan_count": 0,
          "min": "4228.00568344",
          "max": "4801.50279384",
          "histogram": [
           {
            "bin_start": 4228.00568344,
            "bin_end": 4285.3553944800005,
            "count": 2
           },
           {
            "bin_start": 4285.3553944800005,
            "bin_end": 4342.70510552,
            "count": 0
           },
           {
            "bin_start": 4342.70510552,
            "bin_end": 4400.05481656,
            "count": 6
           },
           {
            "bin_start": 4400.05481656,
            "bin_end": 4457.4045276,
            "count": 10
           },
           {
            "bin_start": 4457.4045276,
            "bin_end": 4514.75423864,
            "count": 6
           },
           {
            "bin_start": 4514.75423864,
            "bin_end": 4572.10394968,
            "count": 2
           },
           {
            "bin_start": 4572.10394968,
            "bin_end": 4629.45366072,
            "count": 7
           },
           {
            "bin_start": 4629.45366072,
            "bin_end": 4686.80337176,
            "count": 6
           },
           {
            "bin_start": 4686.80337176,
            "bin_end": 4744.1530827999995,
            "count": 8
           },
           {
            "bin_start": 4744.1530827999995,
            "bin_end": 4801.50279384,
            "count": 3
           }
          ]
         }
        },
        {
         "name": "PORO(v/v)",
         "dtype": "float64",
         "stats": {
          "unique_count": 10,
          "nan_count": 40,
          "min": "0.039348",
          "max": "0.124279",
          "histogram": [
           {
            "bin_start": 0.039348,
            "bin_end": 0.0478411,
            "count": 2
           },
           {
            "bin_start": 0.0478411,
            "bin_end": 0.0563342,
            "count": 1
           },
           {
            "bin_start": 0.0563342,
            "bin_end": 0.0648273,
            "count": 0
           },
           {
            "bin_start": 0.0648273,
            "bin_end": 0.07332040000000001,
            "count": 2
           },
           {
            "bin_start": 0.07332040000000001,
            "bin_end": 0.08181350000000001,
            "count": 0
           },
           {
            "bin_start": 0.08181350000000001,
            "bin_end": 0.0903066,
            "count": 2
           },
           {
            "bin_start": 0.0903066,
            "bin_end": 0.09879969999999999,
            "count": 1
           },
           {
            "bin_start": 0.09879969999999999,
            "bin_end": 0.1072928,
            "count": 0
           },
           {
            "bin_start": 0.1072928,
            "bin_end": 0.1157859,
            "count": 1
           },
           {
            "bin_start": 0.1157859,
            "bin_end": 0.124279,
            "count": 1
           }
          ]
         }
        },
        {
         "name": "Permeability(mD)",
         "dtype": "float64",
         "stats": {
          "unique_count": 5,
          "nan_count": 45,
          "min": "0.003393",
          "max": "1.867752",
          "histogram": [
           {
            "bin_start": 0.003393,
            "bin_end": 0.18982890000000002,
            "count": 4
           },
           {
            "bin_start": 0.18982890000000002,
            "bin_end": 0.3762648,
            "count": 0
           },
           {
            "bin_start": 0.3762648,
            "bin_end": 0.5627007,
            "count": 0
           },
           {
            "bin_start": 0.5627007,
            "bin_end": 0.7491366,
            "count": 0
           },
           {
            "bin_start": 0.7491366,
            "bin_end": 0.9355725,
            "count": 0
           },
           {
            "bin_start": 0.9355725,
            "bin_end": 1.1220084000000001,
            "count": 0
           },
           {
            "bin_start": 1.1220084000000001,
            "bin_end": 1.3084443000000001,
            "count": 0
           },
           {
            "bin_start": 1.3084443000000001,
            "bin_end": 1.4948802,
            "count": 0
           },
           {
            "bin_start": 1.4948802,
            "bin_end": 1.6813161,
            "count": 0
           },
           {
            "bin_start": 1.6813161,
            "bin_end": 1.867752,
            "count": 1
           }
          ]
         }
        },
        {
         "name": "RHOB(g/cm3)",
         "dtype": "float64",
         "stats": {
          "unique_count": 49,
          "nan_count": 1,
          "min": "2.2923039222853587",
          "max": "2.980176128748262",
          "histogram": [
           {
            "bin_start": 2.2923039222853587,
            "bin_end": 2.3610911429316492,
            "count": 2
           },
           {
            "bin_start": 2.3610911429316492,
            "bin_end": 2.4298783635779393,
            "count": 3
           },
           {
            "bin_start": 2.4298783635779393,
            "bin_end": 2.49866558422423,
            "count": 5
           },
           {
            "bin_start": 2.49866558422423,
            "bin_end": 2.56745280487052,
            "count": 16
           },
           {
            "bin_start": 2.56745280487052,
            "bin_end": 2.6362400255168104,
            "count": 4
           },
           {
            "bin_start": 2.6362400255168104,
            "bin_end": 2.705027246163101,
            "count": 3
           },
           {
            "bin_start": 2.705027246163101,
            "bin_end": 2.773814466809391,
            "count": 9
           },
           {
            "bin_start": 2.773814466809391,
            "bin_end": 2.8426016874556814,
            "count": 1
           },
           {
            "bin_start": 2.8426016874556814,
            "bin_end": 2.9113889081019715,
            "count": 1
           },
           {
            "bin_start": 2.9113889081019715,
            "bin_end": 2.980176128748262,
            "count": 5
           }
          ]
         }
        },
        {
         "name": "DTS(us/ft)",
         "dtype": "float64",
         "stats": {
          "unique_count": 28,
          "nan_count": 22,
          "min": "-999.0000000000002",
          "max": "146.4114765657358",
          "histogram": [
           {
            "bin_start": -999.0000000000002,
            "bin_end": -884.4588523434267,
            "count": 1
           },
           {
            "bin_start": -884.4588523434267,
            "bin_end": -769.9177046868531,
            "count": 0
           },
           {
            "bin_start": -769.9177046868531,
            "bin_end": -655.3765570302794,
            "count": 0
           },
           {
            "bin_start": -655.3765570302794,
            "bin_end": -540.8354093737058,
            "count": 0
           },
           {
            "bin_start": -540.8354093737058,
            "bin_end": -426.29426171713226,
            "count": 0
           },
           {
            "bin_start": -426.29426171713226,
            "bin_end": -311.7531140605586,
            "count": 0
           },
           {
            "bin_start": -311.7531140605586,
            "bin_end": -197.211966403985,
            "count": 0
           },
           {
            "bin_start": -197.211966403985,
            "bin_end": -82.67081874741143,
            "count": 0
           },
           {
            "bin_start": -82.67081874741143,
            "bin_end": 31.870328909162254,
            "count": 0
           },
           {
            "bin_start": 31.870328909162254,
            "bin_end": 146.4114765657358,
            "count": 27
           }
          ]
         }
        },
        {
         "name": "DT(us/ft)",
         "dtype": "float64",
         "stats": {
          "unique_count": 49,
          "nan_count": 1,
          "min": "2.94847346406139",
          "max": "82.63865603920694",
          "histogram": [
           {
            "bin_start": 2.94847346406139,
            "bin_end": 10.917491721575944,
            "count": 1
           },
           {
            "bin_start": 10.917491721575944,
            "bin_end": 18.886509979090498,
            "count": 0
           },
           {
            "bin_start": 18.886509979090498,
            "bin_end": 26.85552823660505,
            "count": 0
           },
           {
            "bin_start": 26.85552823660505,
            "bin_end": 34.8245464941196,
            "count": 0
           },
           {
            "bin_start": 34.8245464941196,
            "bin_end": 42.793564751634165,
            "count": 0
           },
           {
            "bin_start": 42.793564751634165,
            "bin_end": 50.76258300914871,
            "count": 1
           },
           {
            "bin_start": 50.76258300914871,
            "bin_end": 58.73160126666326,
            "count": 7
           },
           {
            "bin_start": 58.73160126666326,
            "bin_end": 66.70061952417782,
            "count": 20
           },
           {
            "bin_start": 66.70061952417782,
            "bin_end": 74.66963778169237,
            "count": 9
           },
           {
            "bin_start": 74.66963778169237,
            "bin_end": 82.63865603920694,
            "count": 11
           }
          ]
         }
        },
        {
         "name": "PEF(B/E)",
         "dtype": "float64",
         "stats": {
          "unique_count": 43,
          "nan_count": 7,
          "min": "0.0335468649424322",
          "max": "11.469750128781858",
          "histogram": [
           {
            "bin_start": 0.0335468649424322,
            "bin_end": 1.1771671913263748,
            "count": 6
           },
           {
            "bin_start": 1.1771671913263748,
            "bin_end": 2.3207875177103174,
            "count": 0
           },
           {
            "bin_start": 2.3207875177103174,
            "bin_end": 3.4644078440942603,
            "count": 1
           },
           {
            "bin_start": 3.4644078440942603,
            "bin_end": 4.608028170478203,
            "count": 1
           },
           {
            "bin_start": 4.608028170478203,
            "bin_end": 5.7516484968621455,
            "count": 6
           },
           {
            "bin_start": 5.7516484968621455,
            "bin_end": 6.895268823246088,
            "count": 16
           },
           {
            "bin_start": 6.895268823246088,
            "bin_end": 8.03888914963003,
            "count": 4
           },
           {
            "bin_start": 8.03888914963003,
            "bin_end": 9.182509476013973,
            "count": 5
           },
           {
            "bin_start": 9.182509476013973,
            "bin_end": 10.326129802397915,
            "count": 2
           },
           {
            "bin_start": 10.326129802397915,
            "bin_end": 11.469750128781858,
            "count": 2
           }
          ]
         }
        },
        {
         "name": "RD(OHMM)",
         "dtype": "float64",
         "stats": {
          "unique_count": 46,
          "nan_count": 4,
          "min": "14.986940069335407",
          "max": "774.7437792016825",
          "histogram": [
           {
            "bin_start": 14.986940069335407,
            "bin_end": 90.96262398257011,
            "count": 6
           },
           {
            "bin_start": 90.96262398257011,
            "bin_end": 166.93830789580483,
            "count": 17
           },
           {
            "bin_start": 166.93830789580483,
            "bin_end": 242.91399180903952,
            "count": 13
           },
           {
            "bin_start": 242.91399180903952,
            "bin_end": 318.8896757222742,
            "count": 1
           },
           {
            "bin_start": 318.8896757222742,
            "bin_end": 394.8653596355089,
            "count": 1
           },
           {
            "bin_start": 394.8653596355089,
            "bin_end": 470.8410435487436,
            "count": 0
           },
           {
            "bin_start": 470.8410435487436,
            "bin_end": 546.8167274619784,
            "count": 2
           },
           {
            "bin_start": 546.8167274619784,
            "bin_end": 622.7924113752131,
            "count": 2
           },
           {
            "bin_start": 622.7924113752131,
            "bin_end": 698.7680952884477,
            "count": 0
           },
           {
            "bin_start": 698.7680952884477,
            "bin_end": 774.7437792016825,
            "count": 4
           }
          ]
         }
        },
        {
         "name": "RS(OHMM)",
         "dtype": "float64",
         "stats": {
          "unique_count": 46,
          "nan_count": 4,
          "min": "23.51207184580301",
          "max": "4523.252884467523",
          "histogram": [
           {
            "bin_start": 23.51207184580301,
            "bin_end": 473.486153107975,
            "count": 38
           },
           {
            "bin_start": 473.486153107975,
            "bin_end": 923.460234370147,
            "count": 6
           },
           {
            "bin_start": 923.460234370147,
            "bin_end": 1373.434315632319,
            "count": 0
           },
           {
            "bin_start": 1373.434315632319,
            "bin_end": 1823.408396894491,
            "count": 0
           },
           {
            "bin_start": 1823.408396894491,
            "bin_end": 2273.3824781566627,
            "count": 0
           },
           {
            "bin_start": 2273.3824781566627,
            "bin_end": 2723.356559418835,
            "count": 0
           },
           {
            "bin_start": 2723.356559418835,
            "bin_end": 3173.3306406810066,
            "count": 0
           },
           {
            "bin_start": 3173.3306406810066,
            "bin_end": 3623.3047219431787,
            "count": 0
           },
           {
            "bin_start": 3623.3047219431787,
            "bin_end": 4073.278803205351,
            "count": 1
           },
           {
            "bin_start": 4073.278803205351,
            "bin_end": 4523.252884467523,
            "count": 1
           }
          ]
         }
        },
        {
         "name": "ROP",
         "dtype": "float64",
         "stats": {
          "unique_count": 44,
          "nan_count": 6,
          "min": "4.209865270812502",
          "max": "29.956492185897183",
          "histogram": [
           {
            "bin_start": 4.209865270812502,
            "bin_end": 6.78452796232097,
            "count": 1
           },
           {
            "bin_start": 6.78452796232097,
            "bin_end": 9.359190653829438,
            "count": 2
           },
           {
            "bin_start": 9.359190653829438,
            "bin_end": 11.933853345337907,
            "count": 6
           },
           {
            "bin_start": 11.933853345337907,
            "bin_end": 14.508516036846375,
            "count": 3
           },
           {
            "bin_start": 14.508516036846375,
            "bin_end": 17.083178728354845,
            "count": 7
           },
           {
            "bin_start": 17.083178728354845,
            "bin_end": 19.65784141986331,
            "count": 3
           },
           {
            "bin_start": 19.65784141986331,
            "bin_end": 22.23250411137178,
            "count": 10
           },
           {
            "bin_start": 22.23250411137178,
            "bin_end": 24.807166802880246,
            "count": 3
           },
           {
            "bin_start": 24.807166802880246,
            "bin_end": 27.381829494388718,
            "count": 6
           },
           {
            "bin_start": 27.381829494388718,
            "bin_end": 29.956492185897183,
            "count": 3
           }
          ]
         }
        },
        {
         "name": "DENC(g/cm3)",
         "dtype": "float64",
         "stats": {
          "unique_count": 43,
          "nan_count": 7,
          "min": "-0.0045143839598518",
          "max": "0.1215127423397332",
          "histogram": [
           {
            "bin_start": -0.0045143839598518,
            "bin_end": 0.008088328670106702,
            "count": 1
           },
           {
            "bin_start": 0.008088328670106702,
            "bin_end": 0.020691041300065202,
            "count": 6
           },
           {
            "bin_start": 0.020691041300065202,
            "bin_end": 0.0332937539300237,
            "count": 4
           },
           {
            "bin_start": 0.0332937539300237,
            "bin_end": 0.0458964665599822,
            "count": 3
           },
           {
            "bin_start": 0.0458964665599822,
            "bin_end": 0.05849917918994071,
            "count": 5
           },
           {
            "bin_start": 0.05849917918994071,
            "bin_end": 0.07110189181989919,
            "count": 16
           },
           {
            "bin_start": 0.07110189181989919,
            "bin_end": 0.0837046044498577,
            "count": 4
           },
           {
            "bin_start": 0.0837046044498577,
            "bin_end": 0.0963073170798162,
            "count": 1
           },
           {
            "bin_start": 0.0963073170798162,
            "bin_end": 0.1089100297097747,
            "count": 1
           },
           {
            "bin_start": 0.1089100297097747,
            "bin_end": 0.1215127423397332,
            "count": 2
           }
          ]
         }
        },
        {
         "name": "NPHI(v/v)",
         "dtype": "float64",
         "stats": {
          "unique_count": 50,
          "nan_count": 0,
          "min": "-0.0019002511365949",
          "max": "0.3651933834280377",
          "histogram": [
           {
            "bin_start": -0.0019002511365949,
            "bin_end": 0.034809112319868364,
            "count": 2
           },
           {
            "bin_start": 0.034809112319868364,
            "bin_end": 0.07151847577633164,
            "count": 5
           },
           {
            "bin_start": 0.07151847577633164,
            "bin_end": 0.1082278392327949,
            "count": 14
           },
           {
            "bin_start": 0.1082278392327949,
            "bin_end": 0.14493720268925817,
            "count": 15
           },
           {
            "bin_start": 0.14493720268925817,
            "bin_end": 0.18164656614572142,
            "count": 2
           },
           {
            "bin_start": 0.18164656614572142,
            "bin_end": 0.2183559296021847,
            "count": 2
           },
           {
            "bin_start": 0.2183559296021847,
            "bin_end": 0.25506529305864795,
            "count": 1
           },
           {
            "bin_start": 0.25506529305864795,
            "bin_end": 0.2917746565151112,
            "count": 3
           },
           {
            "bin_start": 0.2917746565151112,
            "bin_end": 0.32848401997157445,
            "count": 4
           },
           {
            "bin_start": 0.32848401997157445,
            "bin_end": 0.3651933834280377,
            "count": 2
           }
          ]
         }
        },
        {
         "name": "Zone",
         "dtype": "object",
         "stats": {
          "unique_count": 1,
          "nan_count": 2,
          "categories": [
           {
            "name": "Upper",
            "count": 48
           },
           {
            "name": "Missing",
            "count": 2
           }
          ]
         }
        },
        {
         "name": "well_id",
         "dtype": "object",
         "stats": {
          "unique_count": 50,
          "nan_count": 0,
          "categories": [
           {
            "name": "WP0",
            "count": 1
           },
           {
            "name": "WP1",
            "count": 1
           },
           {
            "name": "48 others",
            "count": 48
           }
          ]
         }
        },
        {
         "name": "X",
         "dtype": "float64",
         "stats": {
          "unique_count": 50,
          "nan_count": 0,
          "min": "109560.26",
          "max": "142095.82",
          "histogram": [
           {
            "bin_start": 109560.26,
            "bin_end": 112813.81599999999,
            "count": 8
           },
           {
            "bin_start": 112813.81599999999,
            "bin_end": 116067.372,
            "count": 6
           },
           {
            "bin_start": 116067.372,
            "bin_end": 119320.928,
            "count": 5
           },
           {
            "bin_start": 119320.928,
            "bin_end": 122574.484,
            "count": 3
           },
           {
            "bin_start": 122574.484,
            "bin_end": 125828.04000000001,
            "count": 4
           },
           {
            "bin_start": 125828.04000000001,
            "bin_end": 129081.596,
            "count": 4
           },
           {
            "bin_start": 129081.596,
            "bin_end": 132335.152,
            "count": 3
           },
           {
            "bin_start": 132335.152,
            "bin_end": 135588.708,
            "count": 8
           },
           {
            "bin_start": 135588.708,
            "bin_end": 138842.264,
            "count": 5
           },
           {
            "bin_start": 138842.264,
            "bin_end": 142095.82,
            "count": 4
           }
          ]
         }
        },
        {
         "name": "Y",
         "dtype": "float64",
         "stats": {
          "unique_count": 50,
          "nan_count": 0,
          "min": "81747.12",
          "max": "93691.55",
          "histogram": [
           {
            "bin_start": 81747.12,
            "bin_end": 82941.563,
            "count": 5
           },
           {
            "bin_start": 82941.563,
            "bin_end": 84136.006,
            "count": 5
           },
           {
            "bin_start": 84136.006,
            "bin_end": 85330.449,
            "count": 5
           },
           {
            "bin_start": 85330.449,
            "bin_end": 86524.89199999999,
            "count": 5
           },
           {
            "bin_start": 86524.89199999999,
            "bin_end": 87719.33499999999,
            "count": 4
           },
           {
            "bin_start": 87719.33499999999,
            "bin_end": 88913.778,
            "count": 6
           },
           {
            "bin_start": 88913.778,
            "bin_end": 90108.221,
            "count": 7
           },
           {
            "bin_start": 90108.221,
            "bin_end": 91302.664,
            "count": 5
           },
           {
            "bin_start": 91302.664,
            "bin_end": 92497.107,
            "count": 6
           },
           {
            "bin_start": 92497.107,
            "bin_end": 93691.55,
            "count": 2
           }
          ]
         }
        },
        {
         "name": "Completion Zone",
         "dtype": "object",
         "stats": {
          "unique_count": 2,
          "nan_count": 0,
          "categories": [
           {
            "name": "Lower",
            "count": 30
           },
           {
            "name": "Upper",
            "count": 20
           }
          ]
         }
        },
        {
         "name": "AI_lower(2012-01-01)",
         "dtype": "float64",
         "stats": {
          "unique_count": 50,
          "nan_count": 0,
          "min": "6349.281454903185",
          "max": "6582.065934451697",
          "histogram": [
           {
            "bin_start": 6349.281454903185,
            "bin_end": 6372.5599028580355,
            "count": 1
           },
           {
            "bin_start": 6372.5599028580355,
            "bin_end": 6395.838350812887,
            "count": 1
           },
           {
            "bin_start": 6395.838350812887,
            "bin_end": 6419.116798767738,
            "count": 0
           },
           {
            "bin_start": 6419.116798767738,
            "bin_end": 6442.39524672259,
            "count": 2
           },
           {
            "bin_start": 6442.39524672259,
            "bin_end": 6465.673694677441,
            "count": 3
           },
           {
            "bin_start": 6465.673694677441,
            "bin_end": 6488.952142632292,
            "count": 5
           },
           {
            "bin_start": 6488.952142632292,
            "bin_end": 6512.2305905871435,
            "count": 6
           },
           {
            "bin_start": 6512.2305905871435,
            "bin_end": 6535.509038541994,
            "count": 9
           },
           {
            "bin_start": 6535.509038541994,
            "bin_end": 6558.787486496846,
            "count": 12
           },
           {
            "bin_start": 6558.787486496846,
            "bin_end": 6582.065934451697,
            "count": 11
           }
          ]
         }
        },
        {
         "name": "AI_lower(2021-12-20)",
         "dtype": "float64",
         "stats": {
          "unique_count": 50,
          "nan_count": 0,
          "min": "6362.714848353495",
          "max": "6677.045989447589",
          "histogram": [
           {
            "bin_start": 6362.714848353495,
            "bin_end": 6394.147962462905,
            "count": 1
           },
           {
            "bin_start": 6394.147962462905,
            "bin_end": 6425.581076572314,
            "count": 1
           },
           {
            "bin_start": 6425.581076572314,
            "bin_end": 6457.0141906817225,
            "count": 0
           },
           {
            "bin_start": 6457.0141906817225,
            "bin_end": 6488.447304791132,
            "count": 2
           },
           {
            "bin_start": 6488.447304791132,
            "bin_end": 6519.880418900542,
            "count": 5
           },
           {
            "bin_start": 6519.880418900542,
            "bin_end": 6551.313533009951,
            "count": 2
           },
           {
            "bin_start": 6551.313533009951,
            "bin_end": 6582.74664711936,
            "count": 4
           },
           {
            "bin_start": 6582.74664711936,
            "bin_end": 6614.17976122877,
            "count": 14
           },
           {
            "bin_start": 6614.17976122877,
            "bin_end": 6645.61287533818,
            "count": 11
           },
           {
            "bin_start": 6645.61287533818,
            "bin_end": 6677.045989447589,
            "count": 10
           }
          ]
         }
        },
        {
         "name": "AI_upper(2012-01-01)",
         "dtype": "float64",
         "stats": {
          "unique_count": 50,
          "nan_count": 0,
          "min": "6313.629292802599",
          "max": "6540.072143926137",
          "histogram": [
           {
            "bin_start": 6313.629292802599,
            "bin_end": 6336.2735779149525,
            "count": 1
           },
           {
            "bin_start": 6336.2735779149525,
            "bin_end": 6358.917863027306,
            "count": 0
           },
           {
            "bin_start": 6358.917863027306,
            "bin_end": 6381.56214813966,
            "count": 0
           },
           {
            "bin_start": 6381.56214813966,
            "bin_end": 6404.206433252014,
            "count": 4
           },
           {
            "bin_start": 6404.206433252014,
            "bin_end": 6426.850718364368,
            "count": 2
           },
           {
            "bin_start": 6426.850718364368,
            "bin_end": 6449.495003476722,
            "count": 0
           },
           {
            "bin_start": 6449.495003476722,
            "bin_end": 6472.1392885890755,
            "count": 5
           },
           {
            "bin_start": 6472.1392885890755,
            "bin_end": 6494.783573701429,
            "count": 10
           },
           {
            "bin_start": 6494.783573701429,
            "bin_end": 6517.427858813783,
            "count": 15
           },
           {
            "bin_start": 6517.427858813783,
            "bin_end": 6540.072143926137,
            "count": 13
           }
          ]
         }
        },
        {
         "name": "AI_upper(2021-12-20)",
         "dtype": "float64",
         "stats": {
          "unique_count": 50,
          "nan_count": 0,
          "min": "6322.47120464086",
          "max": "6546.876237249978",
          "histogram": [
           {
            "bin_start": 6322.47120464086,
            "bin_end": 6344.911707901772,
            "count": 1
           },
           {
            "bin_start": 6344.911707901772,
            "bin_end": 6367.3522111626835,
            "count": 0
           },
           {
            "bin_start": 6367.3522111626835,
            "bin_end": 6389.7927144235955,
            "count": 2
           },
           {
            "bin_start": 6389.7927144235955,
            "bin_end": 6412.2332176845075,
            "count": 2
           },
           {
            "bin_start": 6412.2332176845075,
            "bin_end": 6434.673720945419,
            "count": 2
           },
           {
            "bin_start": 6434.673720945419,
            "bin_end": 6457.114224206331,
            "count": 3
           },
           {
            "bin_start": 6457.114224206331,
            "bin_end": 6479.554727467243,
            "count": 5
           },
           {
            "bin_start": 6479.554727467243,
            "bin_end": 6501.995230728155,
            "count": 10
           },
           {
            "bin_start": 6501.995230728155,
            "bin_end": 6524.435733989066,
            "count": 11
           },
           {
            "bin_start": 6524.435733989066,
            "bin_end": 6546.876237249978,
            "count": 14
           }
          ]
         }
        },
        {
         "name": "Unnamed: 0_y",
         "dtype": "object",
         "stats": {
          "unique_count": 50,
          "nan_count": 0,
          "categories": [
           {
            "name": "WP0",
            "count": 1
           },
           {
            "name": "WP1",
            "count": 1
           },
           {
            "name": "48 others",
            "count": 48
           }
          ]
         }
        },
        {
         "name": "X(ft)_y",
         "dtype": "float64",
         "stats": {
          "unique_count": 50,
          "nan_count": 0,
          "min": "109560.26",
          "max": "142095.82",
          "histogram": [
           {
            "bin_start": 109560.26,
            "bin_end": 112813.81599999999,
            "count": 8
           },
           {
            "bin_start": 112813.81599999999,
            "bin_end": 116067.372,
            "count": 6
           },
           {
            "bin_start": 116067.372,
            "bin_end": 119320.928,
            "count": 5
           },
           {
            "bin_start": 119320.928,
            "bin_end": 122574.484,
            "count": 3
           },
           {
            "bin_start": 122574.484,
            "bin_end": 125828.04000000001,
            "count": 4
           },
           {
            "bin_start": 125828.04000000001,
            "bin_end": 129081.596,
            "count": 4
           },
           {
            "bin_start": 129081.596,
            "bin_end": 132335.152,
            "count": 3
           },
           {
            "bin_start": 132335.152,
            "bin_end": 135588.708,
            "count": 8
           },
           {
            "bin_start": 135588.708,
            "bin_end": 138842.264,
            "count": 5
           },
           {
            "bin_start": 138842.264,
            "bin_end": 142095.82,
            "count": 4
           }
          ]
         }
        },
        {
         "name": "Y(ft)_y",
         "dtype": "float64",
         "stats": {
          "unique_count": 50,
          "nan_count": 0,
          "min": "81747.12",
          "max": "93691.55",
          "histogram": [
           {
            "bin_start": 81747.12,
            "bin_end": 82941.563,
            "count": 5
           },
           {
            "bin_start": 82941.563,
            "bin_end": 84136.006,
            "count": 5
           },
           {
            "bin_start": 84136.006,
            "bin_end": 85330.449,
            "count": 5
           },
           {
            "bin_start": 85330.449,
            "bin_end": 86524.89199999999,
            "count": 5
           },
           {
            "bin_start": 86524.89199999999,
            "bin_end": 87719.33499999999,
            "count": 4
           },
           {
            "bin_start": 87719.33499999999,
            "bin_end": 88913.778,
            "count": 6
           },
           {
            "bin_start": 88913.778,
            "bin_end": 90108.221,
            "count": 7
           },
           {
            "bin_start": 90108.221,
            "bin_end": 91302.664,
            "count": 5
           },
           {
            "bin_start": 91302.664,
            "bin_end": 92497.107,
            "count": 6
           },
           {
            "bin_start": 92497.107,
            "bin_end": 93691.55,
            "count": 2
           }
          ]
         }
        },
        {
         "name": "Completion_y",
         "dtype": "object",
         "stats": {
          "unique_count": 2,
          "nan_count": 0,
          "categories": [
           {
            "name": "Lower",
            "count": 30
           },
           {
            "name": "Upper",
            "count": 20
           }
          ]
         }
        },
        {
         "name": "Elevation Kelly Bushing (ft)_y",
         "dtype": "float64",
         "stats": {
          "unique_count": 49,
          "nan_count": 0,
          "min": "160.22",
          "max": "203.85",
          "histogram": [
           {
            "bin_start": 160.22,
            "bin_end": 164.583,
            "count": 3
           },
           {
            "bin_start": 164.583,
            "bin_end": 168.946,
            "count": 1
           },
           {
            "bin_start": 168.946,
            "bin_end": 173.309,
            "count": 6
           },
           {
            "bin_start": 173.309,
            "bin_end": 177.672,
            "count": 8
           },
           {
            "bin_start": 177.672,
            "bin_end": 182.035,
            "count": 10
           },
           {
            "bin_start": 182.035,
            "bin_end": 186.398,
            "count": 10
           },
           {
            "bin_start": 186.398,
            "bin_end": 190.761,
            "count": 3
           },
           {
            "bin_start": 190.761,
            "bin_end": 195.124,
            "count": 7
           },
           {
            "bin_start": 195.124,
            "bin_end": 199.487,
            "count": 1
           },
           {
            "bin_start": 199.487,
            "bin_end": 203.85,
            "count": 1
           }
          ]
         }
        },
        {
         "name": "Sum_Production",
         "dtype": "float64",
         "stats": {
          "unique_count": 50,
          "nan_count": 0,
          "min": "0.0",
          "max": "232777.7977803",
          "histogram": [
           {
            "bin_start": 0,
            "bin_end": 23277.77977803,
            "count": 34
           },
           {
            "bin_start": 23277.77977803,
            "bin_end": 46555.55955606,
            "count": 11
           },
           {
            "bin_start": 46555.55955606,
            "bin_end": 69833.33933409,
            "count": 3
           },
           {
            "bin_start": 69833.33933409,
            "bin_end": 93111.11911212,
            "count": 1
           },
           {
            "bin_start": 93111.11911212,
            "bin_end": 116388.89889015,
            "count": 0
           },
           {
            "bin_start": 116388.89889015,
            "bin_end": 139666.67866818,
            "count": 0
           },
           {
            "bin_start": 139666.67866818,
            "bin_end": 162944.45844621,
            "count": 0
           },
           {
            "bin_start": 162944.45844621,
            "bin_end": 186222.23822424,
            "count": 0
           },
           {
            "bin_start": 186222.23822424,
            "bin_end": 209500.01800227,
            "count": 0
           },
           {
            "bin_start": 209500.01800227,
            "bin_end": 232777.7977803,
            "count": 1
           }
          ]
         }
        },
        {
         "name": "line",
         "dtype": "float64",
         "stats": {
          "unique_count": 50,
          "nan_count": 0,
          "min": "127499.4505",
          "max": "130963.3352",
          "histogram": [
           {
            "bin_start": 127499.4505,
            "bin_end": 127845.83897000001,
            "count": 2
           },
           {
            "bin_start": 127845.83897000001,
            "bin_end": 128192.22744,
            "count": 6
           },
           {
            "bin_start": 128192.22744,
            "bin_end": 128538.61591000001,
            "count": 5
           },
           {
            "bin_start": 128538.61591000001,
            "bin_end": 128885.00438,
            "count": 7
           },
           {
            "bin_start": 128885.00438,
            "bin_end": 129231.39285,
            "count": 6
           },
           {
            "bin_start": 129231.39285,
            "bin_end": 129577.78132000001,
            "count": 4
           },
           {
            "bin_start": 129577.78132000001,
            "bin_end": 129924.16979,
            "count": 5
           },
           {
            "bin_start": 129924.16979,
            "bin_end": 130270.55826,
            "count": 5
           },
           {
            "bin_start": 130270.55826,
            "bin_end": 130616.94673,
            "count": 5
           },
           {
            "bin_start": 130616.94673,
            "bin_end": 130963.3352,
            "count": 5
           }
          ]
         }
        },
        {
         "name": "Start Date",
         "dtype": "object",
         "stats": {
          "unique_count": 35,
          "nan_count": 0,
          "categories": [
           {
            "name": "1-Aug-17",
            "count": 4
           },
           {
            "name": "1-Jan-12",
            "count": 3
           },
           {
            "name": "33 others",
            "count": 43
           }
          ]
         }
        },
        {
         "name": "Well",
         "dtype": "object",
         "stats": {
          "unique_count": 50,
          "nan_count": 0,
          "categories": [
           {
            "name": "WP0",
            "count": 1
           },
           {
            "name": "WP1",
            "count": 1
           },
           {
            "name": "48 others",
            "count": 48
           }
          ]
         }
        },
        {
         "name": "Age",
         "dtype": "int64",
         "stats": {
          "unique_count": 35,
          "nan_count": 0,
          "min": "116",
          "max": "3738",
          "histogram": [
           {
            "bin_start": 116,
            "bin_end": 478.2,
            "count": 4
           },
           {
            "bin_start": 478.2,
            "bin_end": 840.4,
            "count": 2
           },
           {
            "bin_start": 840.4,
            "bin_end": 1202.6,
            "count": 6
           },
           {
            "bin_start": 1202.6,
            "bin_end": 1564.8,
            "count": 3
           },
           {
            "bin_start": 1564.8,
            "bin_end": 1927,
            "count": 9
           },
           {
            "bin_start": 1927,
            "bin_end": 2289.2,
            "count": 5
           },
           {
            "bin_start": 2289.2,
            "bin_end": 2651.4,
            "count": 6
           },
           {
            "bin_start": 2651.4,
            "bin_end": 3013.6,
            "count": 2
           },
           {
            "bin_start": 3013.6,
            "bin_end": 3375.7999999999997,
            "count": 6
           },
           {
            "bin_start": 3375.7999999999997,
            "bin_end": 3738,
            "count": 7
           }
          ]
         }
        },
        {
         "name": "_deepnote_index_column",
         "dtype": "int64"
        }
       ],
       "rows": [
        {
         "WELL": "WP0",
         "X(ft)": 137106.82,
         "Y(ft)": 83818.47,
         "Completion": "Upper",
         "Elevation Kelly Bushing (ft)": 193.32,
         "Unnamed: 0": 169,
         "MD(ft)": 4597.47173864,
         "PORO(v/v)": "nan",
         "Permeability(mD)": "nan",
         "RHOB(g/cm3)": 2.7006995833738747,
         "DTS(us/ft)": 75.0567607767724,
         "DT(us/ft)": 51.23243765402245,
         "PEF(B/E)": 6.12995677990447,
         "RD(OHMM)": "nan",
         "RS(OHMM)": "nan",
         "ROP": 10.71090544333721,
         "DENC(g/cm3)": 0.0742507290957192,
         "NPHI(v/v)": -0.0019002083130626,
         "Zone": "Upper",
         "well_id": "WP0",
         "X": 137106.82,
         "Y": 83818.47,
         "Completion Zone": "Upper",
         "AI_lower(2012-01-01)": 6557.579122129865,
         "AI_lower(2021-12-20)": 6634.826845287822,
         "AI_upper(2012-01-01)": 6530.399584115218,
         "AI_upper(2021-12-20)": 6527.288321148047,
         "Unnamed: 0_y": "WP0",
         "X(ft)_y": 137106.82,
         "Y(ft)_y": 83818.47,
         "Completion_y": "Upper",
         "Elevation Kelly Bushing (ft)_y": 193.32,
         "Sum_Production": 475.695079823,
         "line": 130362.6437,
         "Start Date": "1-Jan-12",
         "Well": "WP0",
         "Age": 3738,
         "_deepnote_index_column": 0
        },
        {
         "WELL": "WP1",
         "X(ft)": 132460.98,
         "Y(ft)": 85832.77,
         "Completion": "Upper",
         "Elevation Kelly Bushing (ft)": 187.15,
         "Unnamed: 0": 473,
         "MD(ft)": 4731.14054544,
         "PORO(v/v)": "nan",
         "Permeability(mD)": "nan",
         "RHOB(g/cm3)": 2.5642484669576984,
         "DTS(us/ft)": "nan",
         "DT(us/ft)": 2.94847346406139,
         "PEF(B/E)": "nan",
         "RD(OHMM)": 149.8891800953427,
         "RS(OHMM)": 160.0014898790773,
         "ROP": "nan",
         "DENC(g/cm3)": "nan",
         "NPHI(v/v)": 0.1005566711547895,
         "Zone": "nan",
         "well_id": "WP1",
         "X": 132460.98,
         "Y": 85832.77,
         "Completion Zone": "Upper",
         "AI_lower(2012-01-01)": 6539.368494929654,
         "AI_lower(2021-12-20)": 6609.504273550571,
         "AI_upper(2012-01-01)": 6522.790055221699,
         "AI_upper(2021-12-20)": 6523.5260633966645,
         "Unnamed: 0_y": "WP1",
         "X(ft)_y": 132460.98,
         "Y(ft)_y": 85832.77,
         "Completion_y": "Upper",
         "Elevation Kelly Bushing (ft)_y": 187.15,
         "Sum_Production": 1005.56666242,
         "line": 129778.4967,
         "Start Date": "1-Nov-16",
         "Well": "WP1",
         "Age": 1972,
         "_deepnote_index_column": 1
        },
        {
         "WELL": "WP2",
         "X(ft)": 133634,
         "Y(ft)": 82144.52,
         "Completion": "Upper",
         "Elevation Kelly Bushing (ft)": 164.55,
         "Unnamed: 0": 1228,
         "MD(ft)": 4687.021905039999,
         "PORO(v/v)": 0.068448,
         "Permeability(mD)": 0.01006,
         "RHOB(g/cm3)": 2.5748265978615263,
         "DTS(us/ft)": "nan",
         "DT(us/ft)": 65.75224797575488,
         "PEF(B/E)": 6.1618949808548775,
         "RD(OHMM)": "nan",
         "RS(OHMM)": "nan",
         "ROP": 14.69066402626796,
         "DENC(g/cm3)": 0.0611131959438036,
         "NPHI(v/v)": 0.0827365636919711,
         "Zone": "nan",
         "well_id": "WP2",
         "X": 133634,
         "Y": 82144.52,
         "Completion Zone": "Upper",
         "AI_lower(2012-01-01)": 6449.432465184377,
         "AI_lower(2021-12-20)": 6489.6928098135895,
         "AI_upper(2012-01-01)": 6474.268627558761,
         "AI_upper(2021-12-20)": 6454.475166631363,
         "Unnamed: 0_y": "WP2",
         "X(ft)_y": 133634,
         "Y(ft)_y": 82144.52,
         "Completion_y": "Upper",
         "Elevation Kelly Bushing (ft)_y": 164.55,
         "Sum_Production": 443.228898441,
         "line": 130848.0892,
         "Start Date": "1-Feb-15",
         "Well": "WP2",
         "Age": 2611,
         "_deepnote_index_column": 2
        },
        {
         "WELL": "WP3",
         "X(ft)": 140892.57,
         "Y(ft)": 81747.12,
         "Completion": "Lower",
         "Elevation Kelly Bushing (ft)": 179.92,
         "Unnamed: 0": 1875,
         "MD(ft)": 4734.05018424,
         "PORO(v/v)": 0.039348,
         "Permeability(mD)": "nan",
         "RHOB(g/cm3)": 2.690694132424912,
         "DTS(us/ft)": "nan",
         "DT(us/ft)": 71.004134787314,
         "PEF(B/E)": 6.8148824495418,
         "RD(OHMM)": 487.0650021077624,
         "RS(OHMM)": 702.5232104749978,
         "ROP": 16.644710015324907,
         "DENC(g/cm3)": 0.0627079212263687,
         "NPHI(v/v)": 0.0717521269959693,
         "Zone": "Upper",
         "well_id": "WP3",
         "X": 140892.57,
         "Y": 81747.12,
         "Completion Zone": "Lower",
         "AI_lower(2012-01-01)": 6518.87875012402,
         "AI_lower(2021-12-20)": 6586.112456245834,
         "AI_upper(2012-01-01)": 6490.674048657715,
         "AI_upper(2021-12-20)": 6505.0346677456,
         "Unnamed: 0_y": "WP3",
         "X(ft)_y": 140892.57,
         "Y(ft)_y": 81747.12,
         "Completion_y": "Lower",
         "Elevation Kelly Bushing (ft)_y": 179.92,
         "Sum_Production": 88345.368434,
         "line": 130963.3352,
         "Start Date": "1-Dec-13",
         "Well": "WP3",
         "Age": 3038,
         "_deepnote_index_column": 3
        },
        {
         "WELL": "WP4",
         "X(ft)": 109951.43,
         "Y(ft)": 89343.45,
         "Completion": "Lower",
         "Elevation Kelly Bushing (ft)": 186.21,
         "Unnamed: 0": 1920,
         "MD(ft)": 4372.42938392,
         "PORO(v/v)": "nan",
         "Permeability(mD)": "nan",
         "RHOB(g/cm3)": 2.7302676390663727,
         "DTS(us/ft)": 138.11848610857805,
         "DT(us/ft)": "nan",
         "PEF(B/E)": 0.0683011123279399,
         "RD(OHMM)": 196.09692340452,
         "RS(OHMM)": 336.5805771532051,
         "ROP": 27.34223576078364,
         "DENC(g/cm3)": 0.0683011123279399,
         "NPHI(v/v)": 0.1156348583480431,
         "Zone": "Upper",
         "well_id": "WP4",
         "X": 109951.43,
         "Y": 89343.45,
         "Completion Zone": "Lower",
         "AI_lower(2012-01-01)": 6520.969108884763,
         "AI_lower(2021-12-20)": 6611.813169321757,
         "AI_upper(2012-01-01)": 6497.152925849494,
         "AI_upper(2021-12-20)": 6500.953740996641,
         "Unnamed: 0_y": "WP4",
         "X(ft)_y": 109951.43,
         "Y(ft)_y": 89343.45,
         "Completion_y": "Lower",
         "Elevation Kelly Bushing (ft)_y": 186.21,
         "Sum_Production": 8484.7466534,
         "line": 128760.3995,
         "Start Date": "1-May-19",
         "Well": "WP4",
         "Age": 1061,
         "_deepnote_index_column": 4
        },
        {
         "WELL": "WP5",
         "X(ft)": 123950.95,
         "Y(ft)": 92227.31,
         "Completion": "Lower",
         "Elevation Kelly Bushing (ft)": 172.8,
         "Unnamed: 0": 1188,
         "MD(ft)": 4602.6620008,
         "PORO(v/v)": "nan",
         "Permeability(mD)": "nan",
         "RHOB(g/cm3)": 2.4653822551842235,
         "DTS(us/ft)": "nan",
         "DT(us/ft)": 58.66156119534286,
         "PEF(B/E)": "nan",
         "RD(OHMM)": 156.89530854868207,
         "RS(OHMM)": 226.6502777112397,
         "ROP": 14.90036022034836,
         "DENC(g/cm3)": 0.0263702812828025,
         "NPHI(v/v)": 0.045718701299265,
         "Zone": "Upper",
         "well_id": "WP5",
         "X": 123950.95,
         "Y": 92227.31,
         "Completion Zone": "Lower",
         "AI_lower(2012-01-01)": 6515.812070018329,
         "AI_lower(2021-12-20)": 6582.968018991749,
         "AI_upper(2012-01-01)": 6457.752297023458,
         "AI_upper(2021-12-20)": 6450.780934356976,
         "Unnamed: 0_y": "WP5",
         "X(ft)_y": 123950.95,
         "Y(ft)_y": 92227.31,
         "Completion_y": "Lower",
         "Elevation Kelly Bushing (ft)_y": 172.8,
         "Sum_Production": 1056.71887975,
         "line": 127924.0801,
         "Start Date": "1-Sep-15",
         "Well": "WP5",
         "Age": 2399,
         "_deepnote_index_column": 5
        },
        {
         "WELL": "WP6",
         "X(ft)": 111035.32,
         "Y(ft)": 88692.32,
         "Completion": "Lower",
         "Elevation Kelly Bushing (ft)": 182.66,
         "Unnamed: 0": 557,
         "MD(ft)": 4369.44767696,
         "PORO(v/v)": "nan",
         "Permeability(mD)": "nan",
         "RHOB(g/cm3)": "nan",
         "DTS(us/ft)": 75.05666020570676,
         "DT(us/ft)": 51.232332329544725,
         "PEF(B/E)": 6.12993761637376,
         "RD(OHMM)": 612.5130474044834,
         "RS(OHMM)": 4523.252884467523,
         "ROP": 10.710629038847896,
         "DENC(g/cm3)": "nan",
         "NPHI(v/v)": -0.0019002511365949,
         "Zone": "Upper",
         "well_id": "WP6",
         "X": 111035.32,
         "Y": 88692.32,
         "Completion Zone": "Lower",
         "AI_lower(2012-01-01)": 6543.452650221747,
         "AI_lower(2021-12-20)": 6647.156890674162,
         "AI_upper(2012-01-01)": 6514.925925445015,
         "AI_upper(2021-12-20)": 6529.617077596657,
         "Unnamed: 0_y": "WP6",
         "X(ft)_y": 111035.32,
         "Y(ft)_y": 88692.32,
         "Completion_y": "Lower",
         "Elevation Kelly Bushing (ft)_y": 182.66,
         "Sum_Production": 30999.563161600003,
         "line": 128949.2272,
         "Start Date": "1-Aug-19",
         "Well": "WP6",
         "Age": 969,
         "_deepnote_index_column": 6
        },
        {
         "WELL": "WP7",
         "X(ft)": 112439.69,
         "Y(ft)": 85560.85,
         "Completion": "Lower",
         "Elevation Kelly Bushing (ft)": 181.09,
         "Unnamed: 0": 145,
         "MD(ft)": 4434.4855276,
         "PORO(v/v)": 0.046906,
         "Permeability(mD)": "nan",
         "RHOB(g/cm3)": 2.711619072110712,
         "DTS(us/ft)": 140.4461961222227,
         "DT(us/ft)": 76.25289115773855,
         "PEF(B/E)": 0.1044942783667862,
         "RD(OHMM)": 194.3766046515248,
         "RS(OHMM)": 324.75365665680687,
         "ROP": 27.33252766624974,
         "DENC(g/cm3)": 0.1044942783667862,
         "NPHI(v/v)": 0.1300942783667862,
         "Zone": "Upper",
         "well_id": "WP7",
         "X": 112439.69,
         "Y": 85560.85,
         "Completion Zone": "Lower",
         "AI_lower(2012-01-01)": 6438.783226179554,
         "AI_lower(2021-12-20)": 6486.432394523543,
         "AI_upper(2012-01-01)": 6403.508051481458,
         "AI_upper(2021-12-20)": 6400.975612811262,
         "Unnamed: 0_y": "WP7",
         "X(ft)_y": 112439.69,
         "Y(ft)_y": 85560.85,
         "Completion_y": "Lower",
         "Elevation Kelly Bushing (ft)_y": 181.09,
         "Sum_Production": 71.108432325,
         "line": 129857.3535,
         "Start Date": "1-Feb-21",
         "Well": "WP7",
         "Age": 419,
         "_deepnote_index_column": 7
        },
        {
         "WELL": "WP8",
         "X(ft)": 127369.74,
         "Y(ft)": 91739.99,
         "Completion": "Upper",
         "Elevation Kelly Bushing (ft)": 180.04,
         "Unnamed: 0": 602,
         "MD(ft)": 4665.31913232,
         "PORO(v/v)": "nan",
         "Permeability(mD)": "nan",
         "RHOB(g/cm3)": 2.5220498977127934,
         "DTS(us/ft)": 108.39271151165282,
         "DT(us/ft)": 65.52736057277761,
         "PEF(B/E)": 6.220704277465001,
         "RD(OHMM)": 233.07493211849007,
         "RS(OHMM)": 222.61509577802067,
         "ROP": 22.37109899572561,
         "DENC(g/cm3)": 0.0609495815523368,
         "NPHI(v/v)": 0.0922497117360542,
         "Zone": "Upper",
         "well_id": "WP8",
         "X": 127369.74,
         "Y": 91739.99,
         "Completion Zone": "Upper",
         "AI_lower(2012-01-01)": 6536.424734406401,
         "AI_lower(2021-12-20)": 6600.354460047708,
         "AI_upper(2012-01-01)": 6501.718770804836,
         "AI_upper(2021-12-20)": 6500.1586499284695,
         "Unnamed: 0_y": "WP8",
         "X(ft)_y": 127369.74,
         "Y(ft)_y": 91739.99,
         "Completion_y": "Upper",
         "Elevation Kelly Bushing (ft)_y": 180.04,
         "Sum_Production": 654.7737165799999,
         "line": 128065.4029,
         "Start Date": "1-Mar-13",
         "Well": "WP8",
         "Age": 3313,
         "_deepnote_index_column": 8
        },
        {
         "WELL": "WP9",
         "X(ft)": 115943.69,
         "Y(ft)": 86730.44,
         "Completion": "Lower",
         "Elevation Kelly Bushing (ft)": 178.25,
         "Unnamed: 0": 105,
         "MD(ft)": 4593.035410719999,
         "PORO(v/v)": "nan",
         "Permeability(mD)": "nan",
         "RHOB(g/cm3)": 2.528577622373051,
         "DTS(us/ft)": "nan",
         "DT(us/ft)": 60.245580197061386,
         "PEF(B/E)": 5.909239732981968,
         "RD(OHMM)": 222.4287094700395,
         "RS(OHMM)": 309.7504831451382,
         "ROP": 20.02818397965344,
         "DENC(g/cm3)": 0.0549002542912153,
         "NPHI(v/v)": 0.1025544500962682,
         "Zone": "Upper",
         "well_id": "WP9",
         "X": 115943.69,
         "Y": 86730.44,
         "Completion Zone": "Lower",
         "AI_lower(2012-01-01)": 6457.397616798923,
         "AI_lower(2021-12-20)": 6510.109097547526,
         "AI_upper(2012-01-01)": 6411.997248681275,
         "AI_upper(2021-12-20)": 6423.840537227891,
         "Unnamed: 0_y": "WP9",
         "X(ft)_y": 115943.69,
         "Y(ft)_y": 86730.44,
         "Completion_y": "Lower",
         "Elevation Kelly Bushing (ft)_y": 178.25,
         "Sum_Production": 263.803389711,
         "line": 129518.1724,
         "Start Date": "1-May-12",
         "Well": "WP9",
         "Age": 3617,
         "_deepnote_index_column": 9
        }
       ]
      },
      "text/plain": "    WELL      X(ft)     Y(ft) Completion  Elevation Kelly Bushing (ft)  \\\n0    WP0  137106.82  83818.47      Upper                        193.32   \n1    WP1  132460.98  85832.77      Upper                        187.15   \n2    WP2  133634.00  82144.52      Upper                        164.55   \n3    WP3  140892.57  81747.12      Lower                        179.92   \n4    WP4  109951.43  89343.45      Lower                        186.21   \n5    WP5  123950.95  92227.31      Lower                        172.80   \n6    WP6  111035.32  88692.32      Lower                        182.66   \n7    WP7  112439.69  85560.85      Lower                        181.09   \n8    WP8  127369.74  91739.99      Upper                        180.04   \n9    WP9  115943.69  86730.44      Lower                        178.25   \n10  WP10  134042.86  82411.27      Upper                        184.33   \n11  WP11  115725.49  86866.60      Upper                        192.03   \n12  WP12  133136.98  93691.55      Lower                        170.35   \n13  WP13  119311.27  89234.02      Upper                        190.28   \n14  WP14  134837.26  83865.82      Lower                        182.29   \n15  WP15  109560.26  86833.62      Lower                        184.45   \n16  WP16  112898.58  91601.46      Lower                        168.63   \n17  WP17  112766.46  88549.74      Lower                        181.35   \n18  WP18  117798.78  90645.70      Upper                        194.85   \n19  WP19  110189.22  86209.71      Upper                        169.20   \n20  WP20  133687.47  83554.44      Upper                        160.22   \n21  WP21  121120.49  87804.64      Upper                        162.57   \n22  WP22  115987.29  91854.91      Upper                        182.66   \n23  WP23  139326.01  84776.42      Upper                        203.85   \n24  WP24  142095.82  86042.02      Lower                        191.24   \n25  WP25  128136.21  89359.95      Lower                        196.73   \n26  WP26  118170.11  89488.69      Lower                        180.99   \n27  WP27  129829.39  87756.99      Upper                        193.98   \n28  WP28  120522.78  89987.00      Upper                        177.29   \n29  WP29  138541.42  82281.79      Lower                        186.13   \n30  WP30  131123.52  84356.27      Upper                        177.33   \n31  WP31  136285.14  86479.95      Lower                        174.51   \n32  WP32  128675.17  89882.13      Lower                        181.33   \n33  WP33  123960.21  85279.28      Lower                        175.24   \n34  WP34  134053.71  84658.45      Lower                        193.08   \n35  WP35  122230.81  87539.37      Upper                        181.95   \n36  WP36  111749.78  91050.01      Lower                        184.00   \n37  WP37  134902.25  82632.62      Lower                        176.62   \n38  WP38  116803.31  91177.75      Lower                        192.56   \n39  WP39  111890.88  91708.68      Upper                        172.68   \n40  WP40  126601.30  90679.21      Upper                        186.60   \n41  WP41  114333.01  91616.66      Lower                        176.49   \n42  WP42  136532.27  83571.51      Lower                        170.61   \n43  WP43  115684.27  89895.78      Lower                        175.11   \n44  WP44  118629.90  88703.87      Lower                        171.95   \n45  WP45  129176.30  93171.14      Upper                        177.87   \n46  WP46  139046.81  84476.47      Lower                        176.61   \n47  WP47  137407.15  84099.13      Lower                        183.12   \n48  WP48  124094.80  90648.76      Lower                        185.65   \n49  WP49  123188.65  88556.29      Lower                        178.53   \n\n    Unnamed: 0       MD(ft)  PORO(v/v)  Permeability(mD)  RHOB(g/cm3)  ...  \\\n0          169  4597.471739        NaN               NaN     2.700700  ...   \n1          473  4731.140545        NaN               NaN     2.564248  ...   \n2         1228  4687.021905   0.068448          0.010060     2.574827  ...   \n3         1875  4734.050184   0.039348               NaN     2.690694  ...   \n4         1920  4372.429384        NaN               NaN     2.730268  ...   \n5         1188  4602.662001        NaN               NaN     2.465382  ...   \n6          557  4369.447677        NaN               NaN          NaN  ...   \n7          145  4434.485528   0.046906               NaN     2.711619  ...   \n8          602  4665.319132        NaN               NaN     2.522050  ...   \n9          105  4593.035411        NaN               NaN     2.528578  ...   \n10         645  4683.694657        NaN               NaN     2.516155  ...   \n11         124  4595.509023        NaN               NaN     2.974076  ...   \n12        1823  4785.310995        NaN               NaN     2.415313  ...   \n13        1311  4387.671055        NaN               NaN     2.756594  ...   \n14        1269  4647.122978        NaN               NaN     2.528518  ...   \n15        1831  4264.801183        NaN               NaN     2.518762  ...   \n16          65  4435.008038   0.124279               NaN     2.515232  ...   \n17         687  4452.999989        NaN               NaN     2.507533  ...   \n18         209  4407.886377   0.111971               NaN     2.292304  ...   \n19         516  4228.005683   0.066728          0.022170     2.914309  ...   \n20        1735  4690.730722        NaN               NaN     2.672096  ...   \n21        1401  4399.473771        NaN               NaN     2.365943  ...   \n22         733  4461.531112        NaN               NaN     2.454220  ...   \n23          27  4494.588966        NaN               NaN     2.742443  ...   \n24           0  4494.121710        NaN               NaN     2.772266  ...   \n25         772  4755.778183        NaN               NaN     2.725119  ...   \n26        1356  4378.793994        NaN               NaN     2.729460  ...   \n27        1777  4801.502794        NaN               NaN     2.948346  ...   \n28        1443  4449.730000   0.084210          1.867752     2.497648  ...   \n29        1689  4708.704256        NaN               NaN     2.553667  ...   \n30        1105  4722.806016        NaN               NaN     2.522051  ...   \n31        1528  4582.487521        NaN               NaN     2.980176  ...   \n32         254  4737.267323   0.054707          0.003393     2.869471  ...   \n33         987  4464.996094        NaN               NaN     2.355620  ...   \n34         899  4667.341505        NaN               NaN     2.730281  ...   \n35         300  4448.031544        NaN               NaN     2.392885  ...   \n36        1489  4400.517188        NaN               NaN     2.541571  ...   \n37        1146  4670.408495   0.086999               NaN     2.533129  ...   \n38        1603  4427.087511        NaN               NaN     2.955643  ...   \n39        1008  4414.798722        NaN               NaN     2.602440  ...   \n40         427  4696.310967        NaN               NaN     2.485574  ...   \n41         818  4469.508895        NaN               NaN     2.566796  ...   \n42        1065  4617.357539        NaN               NaN     2.565888  ...   \n43        1558  4444.615011   0.094476          0.058904     2.504679  ...   \n44        1646  4368.415868        NaN               NaN     2.509171  ...   \n45        1044  4677.518233        NaN               NaN     2.806890  ...   \n46         859  4514.767050        NaN               NaN     2.569489  ...   \n47         388  4580.744218        NaN               NaN     2.633396  ...   \n48         941  4545.026572        NaN               NaN     2.436966  ...   \n49         342  4499.985829        NaN               NaN     2.740638  ...   \n\n    Unnamed: 0_y    X(ft)_y   Y(ft)_y  Completion_y  \\\n0            WP0  137106.82  83818.47         Upper   \n1            WP1  132460.98  85832.77         Upper   \n2            WP2  133634.00  82144.52         Upper   \n3            WP3  140892.57  81747.12         Lower   \n4            WP4  109951.43  89343.45         Lower   \n5            WP5  123950.95  92227.31         Lower   \n6            WP6  111035.32  88692.32         Lower   \n7            WP7  112439.69  85560.85         Lower   \n8            WP8  127369.74  91739.99         Upper   \n9            WP9  115943.69  86730.44         Lower   \n10          WP10  134042.86  82411.27         Upper   \n11          WP11  115725.49  86866.60         Upper   \n12          WP12  133136.98  93691.55         Lower   \n13          WP13  119311.27  89234.02         Upper   \n14          WP14  134837.26  83865.82         Lower   \n15          WP15  109560.26  86833.62         Lower   \n16          WP16  112898.58  91601.46         Lower   \n17          WP17  112766.46  88549.74         Lower   \n18          WP18  117798.78  90645.70         Upper   \n19          WP19  110189.22  86209.71         Upper   \n20          WP20  133687.47  83554.44         Upper   \n21          WP21  121120.49  87804.64         Upper   \n22          WP22  115987.29  91854.91         Upper   \n23          WP23  139326.01  84776.42         Upper   \n24          WP24  142095.82  86042.02         Lower   \n25          WP25  128136.21  89359.95         Lower   \n26          WP26  118170.11  89488.69         Lower   \n27          WP27  129829.39  87756.99         Upper   \n28          WP28  120522.78  89987.00         Upper   \n29          WP29  138541.42  82281.79         Lower   \n30          WP30  131123.52  84356.27         Upper   \n31          WP31  136285.14  86479.95         Lower   \n32          WP32  128675.17  89882.13         Lower   \n33          WP33  123960.21  85279.28         Lower   \n34          WP34  134053.71  84658.45         Lower   \n35          WP35  122230.81  87539.37         Upper   \n36          WP36  111749.78  91050.01         Lower   \n37          WP37  134902.25  82632.62         Lower   \n38          WP38  116803.31  91177.75         Lower   \n39          WP39  111890.88  91708.68         Upper   \n40          WP40  126601.30  90679.21         Upper   \n41          WP41  114333.01  91616.66         Lower   \n42          WP42  136532.27  83571.51         Lower   \n43          WP43  115684.27  89895.78         Lower   \n44          WP44  118629.90  88703.87         Lower   \n45          WP45  129176.30  93171.14         Upper   \n46          WP46  139046.81  84476.47         Lower   \n47          WP47  137407.15  84099.13         Lower   \n48          WP48  124094.80  90648.76         Lower   \n49          WP49  123188.65  88556.29         Lower   \n\n    Elevation Kelly Bushing (ft)_y  Sum_Production         line  Start Date  \\\n0                           193.32      475.695080  130362.6437    1-Jan-12   \n1                           187.15     1005.566662  129778.4967    1-Nov-16   \n2                           164.55      443.228898  130848.0892    1-Feb-15   \n3                           179.92    88345.368434  130963.3352    1-Dec-13   \n4                           186.21     8484.746653  128760.3995    1-May-19   \n5                           172.80     1056.718880  127924.0801    1-Sep-15   \n6                           182.66    30999.563162  128949.2272    1-Aug-19   \n7                           181.09       71.108432  129857.3535    1-Feb-21   \n8                           180.04      654.773717  128065.4029    1-Mar-13   \n9                           178.25      263.803390  129518.1724    1-May-12   \n10                          184.33     1576.345443  130770.7317    1-Apr-19   \n11                          192.03        0.000000  129478.6860    1-Jan-12   \n12                          170.35       57.822977  127499.4505    1-Dec-13   \n13                          190.28     1787.406680  128792.1342    1-Jun-15   \n14                          182.29    17534.952878  130348.9122    1-Jul-14   \n15                          184.45    45903.089669  129488.2502    1-Apr-12   \n16                          168.63    53733.523751  128105.5766    1-Dec-17   \n17                          181.35    17780.451483  128990.5754    1-Aug-12   \n18                          194.85    27653.205286  128382.7470    1-Jan-12   \n19                          169.20      354.104875  129669.1841    1-Aug-14   \n20                          160.22      870.011682  130439.2124    1-Apr-20   \n21                          162.57       60.019034  129206.6544    1-Dec-18   \n22                          182.66      342.147423  128032.0761    1-Mar-19   \n23                          203.85      497.725573  130084.8382    1-Sep-13   \n24                          191.24     4880.211255  129717.8142    1-Aug-17   \n25                          196.73    18598.340498  128755.6145    1-Apr-15   \n26                          180.99    18012.790032  128718.2799    1-Sep-18   \n27                          193.98      471.480349  129220.4729    1-Apr-17   \n28                          177.29     9973.879346  128573.7700    1-Jan-15   \n29                          186.13    28364.833877  130808.2809    1-Jan-18   \n30                          177.33       56.256269  130206.6817    1-Dec-17   \n31                          174.51    10134.846534  129590.8145    1-Feb-16   \n32                          181.33     3236.954768  128604.1823    1-Dec-21   \n33                          175.24        9.678521  129939.0088    1-Sep-12   \n34                          193.08    38372.619772  130119.0495    1-Jun-16   \n35                          181.95       22.018241  129283.5827    1-Apr-21   \n36                          184.00    12816.906661  128265.4971    1-Apr-19   \n37                          176.62    32097.835676  130706.5402    1-Jan-15   \n38                          192.56    48464.152107  128228.4525    1-Oct-17   \n39                          172.68      199.353498  128074.4828    1-Aug-16   \n40                          186.60       99.036248  128373.0291    1-Dec-21   \n41                          176.49    31704.785319  128101.1686    1-Sep-13   \n42                          170.61    61917.442307  130434.2621    1-Aug-17   \n43                          175.11   232777.797780  128600.2238    1-Mar-13   \n44                          171.95    24014.837487  128945.8777    1-Aug-17   \n45                          177.87        7.267656  127650.3694    1-Nov-17   \n46                          176.61    27494.021370  130171.8237    1-Apr-20   \n47                          183.12    36459.588667  130281.2523    1-Aug-19   \n48                          185.65    29287.593741  128381.8596    1-Nov-16   \n49                          178.53    18969.223454  128988.6759    1-Aug-17   \n\n    Well   Age  \n0    WP0  3738  \n1    WP1  1972  \n2    WP2  2611  \n3    WP3  3038  \n4    WP4  1061  \n5    WP5  2399  \n6    WP6   969  \n7    WP7   419  \n8    WP8  3313  \n9    WP9  3617  \n10  WP10  1091  \n11  WP11  3738  \n12  WP12  3038  \n13  WP13  2491  \n14  WP14  2826  \n15  WP15  3647  \n16  WP16  1577  \n17  WP17  3525  \n18  WP18  3738  \n19  WP19  2795  \n20  WP20   725  \n21  WP21  1212  \n22  WP22  1122  \n23  WP23  3129  \n24  WP24  1699  \n25  WP25  2552  \n26  WP26  1303  \n27  WP27  1821  \n28  WP28  2642  \n29  WP29  1546  \n30  WP30  1577  \n31  WP31  2246  \n32  WP32   116  \n33  WP33  3494  \n34  WP34  2125  \n35  WP35   360  \n36  WP36  1091  \n37  WP37  2642  \n38  WP38  1638  \n39  WP39  2064  \n40  WP40   116  \n41  WP41  3129  \n42  WP42  1699  \n43  WP43  3313  \n44  WP44  1699  \n45  WP45  1607  \n46  WP46   725  \n47  WP47   969  \n48  WP48  1972  \n49  WP49  1699  \n\n[50 rows x 37 columns]",
      "text/html": "<div>\n<style scoped>\n    .dataframe tbody tr th:only-of-type {\n        vertical-align: middle;\n    }\n\n    .dataframe tbody tr th {\n        vertical-align: top;\n    }\n\n    .dataframe thead th {\n        text-align: right;\n    }\n</style>\n<table border=\"1\" class=\"dataframe\">\n  <thead>\n    <tr style=\"text-align: right;\">\n      <th></th>\n      <th>WELL</th>\n      <th>X(ft)</th>\n      <th>Y(ft)</th>\n      <th>Completion</th>\n      <th>Elevation Kelly Bushing (ft)</th>\n      <th>Unnamed: 0</th>\n      <th>MD(ft)</th>\n      <th>PORO(v/v)</th>\n      <th>Permeability(mD)</th>\n      <th>RHOB(g/cm3)</th>\n      <th>...</th>\n      <th>Unnamed: 0_y</th>\n      <th>X(ft)_y</th>\n      <th>Y(ft)_y</th>\n      <th>Completion_y</th>\n      <th>Elevation Kelly Bushing (ft)_y</th>\n      <th>Sum_Production</th>\n      <th>line</th>\n      <th>Start Date</th>\n      <th>Well</th>\n      <th>Age</th>\n    </tr>\n  </thead>\n  <tbody>\n    <tr>\n      <th>0</th>\n      <td>WP0</td>\n      <td>137106.82</td>\n      <td>83818.47</td>\n      <td>Upper</td>\n      <td>193.32</td>\n      <td>169</td>\n      <td>4597.471739</td>\n      <td>NaN</td>\n      <td>NaN</td>\n      <td>2.700700</td>\n      <td>...</td>\n      <td>WP0</td>\n      <td>137106.82</td>\n      <td>83818.47</td>\n      <td>Upper</td>\n      <td>193.32</td>\n      <td>475.695080</td>\n      <td>130362.6437</td>\n      <td>1-Jan-12</td>\n      <td>WP0</td>\n      <td>3738</td>\n    </tr>\n    <tr>\n      <th>1</th>\n      <td>WP1</td>\n      <td>132460.98</td>\n      <td>85832.77</td>\n      <td>Upper</td>\n      <td>187.15</td>\n      <td>473</td>\n      <td>4731.140545</td>\n      <td>NaN</td>\n      <td>NaN</td>\n      <td>2.564248</td>\n      <td>...</td>\n      <td>WP1</td>\n      <td>132460.98</td>\n      <td>85832.77</td>\n      <td>Upper</td>\n      <td>187.15</td>\n      <td>1005.566662</td>\n      <td>129778.4967</td>\n      <td>1-Nov-16</td>\n      <td>WP1</td>\n      <td>1972</td>\n    </tr>\n    <tr>\n      <th>2</th>\n      <td>WP2</td>\n      <td>133634.00</td>\n      <td>82144.52</td>\n      <td>Upper</td>\n      <td>164.55</td>\n      <td>1228</td>\n      <td>4687.021905</td>\n      <td>0.068448</td>\n      <td>0.010060</td>\n      <td>2.574827</td>\n      <td>...</td>\n      <td>WP2</td>\n      <td>133634.00</td>\n      <td>82144.52</td>\n      <td>Upper</td>\n      <td>164.55</td>\n      <td>443.228898</td>\n      <td>130848.0892</td>\n      <td>1-Feb-15</td>\n      <td>WP2</td>\n      <td>2611</td>\n    </tr>\n    <tr>\n      <th>3</th>\n      <td>WP3</td>\n      <td>140892.57</td>\n      <td>81747.12</td>\n      <td>Lower</td>\n      <td>179.92</td>\n      <td>1875</td>\n      <td>4734.050184</td>\n      <td>0.039348</td>\n      <td>NaN</td>\n      <td>2.690694</td>\n      <td>...</td>\n      <td>WP3</td>\n      <td>140892.57</td>\n      <td>81747.12</td>\n      <td>Lower</td>\n      <td>179.92</td>\n      <td>88345.368434</td>\n      <td>130963.3352</td>\n      <td>1-Dec-13</td>\n      <td>WP3</td>\n      <td>3038</td>\n    </tr>\n    <tr>\n      <th>4</th>\n      <td>WP4</td>\n      <td>109951.43</td>\n      <td>89343.45</td>\n      <td>Lower</td>\n      <td>186.21</td>\n      <td>1920</td>\n      <td>4372.429384</td>\n      <td>NaN</td>\n      <td>NaN</td>\n      <td>2.730268</td>\n      <td>...</td>\n      <td>WP4</td>\n      <td>109951.43</td>\n      <td>89343.45</td>\n      <td>Lower</td>\n      <td>186.21</td>\n      <td>8484.746653</td>\n      <td>128760.3995</td>\n      <td>1-May-19</td>\n      <td>WP4</td>\n      <td>1061</td>\n    </tr>\n    <tr>\n      <th>5</th>\n      <td>WP5</td>\n      <td>123950.95</td>\n      <td>92227.31</td>\n      <td>Lower</td>\n      <td>172.80</td>\n      <td>1188</td>\n      <td>4602.662001</td>\n      <td>NaN</td>\n      <td>NaN</td>\n      <td>2.465382</td>\n      <td>...</td>\n      <td>WP5</td>\n      <td>123950.95</td>\n      <td>92227.31</td>\n      <td>Lower</td>\n      <td>172.80</td>\n      <td>1056.718880</td>\n      <td>127924.0801</td>\n      <td>1-Sep-15</td>\n      <td>WP5</td>\n      <td>2399</td>\n    </tr>\n    <tr>\n      <th>6</th>\n      <td>WP6</td>\n      <td>111035.32</td>\n      <td>88692.32</td>\n      <td>Lower</td>\n      <td>182.66</td>\n      <td>557</td>\n      <td>4369.447677</td>\n      <td>NaN</td>\n      <td>NaN</td>\n      <td>NaN</td>\n      <td>...</td>\n      <td>WP6</td>\n      <td>111035.32</td>\n      <td>88692.32</td>\n      <td>Lower</td>\n      <td>182.66</td>\n      <td>30999.563162</td>\n      <td>128949.2272</td>\n      <td>1-Aug-19</td>\n      <td>WP6</td>\n      <td>969</td>\n    </tr>\n    <tr>\n      <th>7</th>\n      <td>WP7</td>\n      <td>112439.69</td>\n      <td>85560.85</td>\n      <td>Lower</td>\n      <td>181.09</td>\n      <td>145</td>\n      <td>4434.485528</td>\n      <td>0.046906</td>\n      <td>NaN</td>\n      <td>2.711619</td>\n      <td>...</td>\n      <td>WP7</td>\n      <td>112439.69</td>\n      <td>85560.85</td>\n      <td>Lower</td>\n      <td>181.09</td>\n      <td>71.108432</td>\n      <td>129857.3535</td>\n      <td>1-Feb-21</td>\n      <td>WP7</td>\n      <td>419</td>\n    </tr>\n    <tr>\n      <th>8</th>\n      <td>WP8</td>\n      <td>127369.74</td>\n      <td>91739.99</td>\n      <td>Upper</td>\n      <td>180.04</td>\n      <td>602</td>\n      <td>4665.319132</td>\n      <td>NaN</td>\n      <td>NaN</td>\n      <td>2.522050</td>\n      <td>...</td>\n      <td>WP8</td>\n      <td>127369.74</td>\n      <td>91739.99</td>\n      <td>Upper</td>\n      <td>180.04</td>\n      <td>654.773717</td>\n      <td>128065.4029</td>\n      <td>1-Mar-13</td>\n      <td>WP8</td>\n      <td>3313</td>\n    </tr>\n    <tr>\n      <th>9</th>\n      <td>WP9</td>\n      <td>115943.69</td>\n      <td>86730.44</td>\n      <td>Lower</td>\n      <td>178.25</td>\n      <td>105</td>\n      <td>4593.035411</td>\n      <td>NaN</td>\n      <td>NaN</td>\n      <td>2.528578</td>\n      <td>...</td>\n      <td>WP9</td>\n      <td>115943.69</td>\n      <td>86730.44</td>\n      <td>Lower</td>\n      <td>178.25</td>\n      <td>263.803390</td>\n      <td>129518.1724</td>\n      <td>1-May-12</td>\n      <td>WP9</td>\n      <td>3617</td>\n    </tr>\n    <tr>\n      <th>10</th>\n      <td>WP10</td>\n      <td>134042.86</td>\n      <td>82411.27</td>\n      <td>Upper</td>\n      <td>184.33</td>\n      <td>645</td>\n      <td>4683.694657</td>\n      <td>NaN</td>\n      <td>NaN</td>\n      <td>2.516155</td>\n      <td>...</td>\n      <td>WP10</td>\n      <td>134042.86</td>\n      <td>82411.27</td>\n      <td>Upper</td>\n      <td>184.33</td>\n      <td>1576.345443</td>\n      <td>130770.7317</td>\n      <td>1-Apr-19</td>\n      <td>WP10</td>\n      <td>1091</td>\n    </tr>\n    <tr>\n      <th>11</th>\n      <td>WP11</td>\n      <td>115725.49</td>\n      <td>86866.60</td>\n      <td>Upper</td>\n      <td>192.03</td>\n      <td>124</td>\n      <td>4595.509023</td>\n      <td>NaN</td>\n      <td>NaN</td>\n      <td>2.974076</td>\n      <td>...</td>\n      <td>WP11</td>\n      <td>115725.49</td>\n      <td>86866.60</td>\n      <td>Upper</td>\n      <td>192.03</td>\n      <td>0.000000</td>\n      <td>129478.6860</td>\n      <td>1-Jan-12</td>\n      <td>WP11</td>\n      <td>3738</td>\n    </tr>\n    <tr>\n      <th>12</th>\n      <td>WP12</td>\n      <td>133136.98</td>\n      <td>93691.55</td>\n      <td>Lower</td>\n      <td>170.35</td>\n      <td>1823</td>\n      <td>4785.310995</td>\n      <td>NaN</td>\n      <td>NaN</td>\n      <td>2.415313</td>\n      <td>...</td>\n      <td>WP12</td>\n      <td>133136.98</td>\n      <td>93691.55</td>\n      <td>Lower</td>\n      <td>170.35</td>\n      <td>57.822977</td>\n      <td>127499.4505</td>\n      <td>1-Dec-13</td>\n      <td>WP12</td>\n      <td>3038</td>\n    </tr>\n    <tr>\n      <th>13</th>\n      <td>WP13</td>\n      <td>119311.27</td>\n      <td>89234.02</td>\n      <td>Upper</td>\n      <td>190.28</td>\n      <td>1311</td>\n      <td>4387.671055</td>\n      <td>NaN</td>\n      <td>NaN</td>\n      <td>2.756594</td>\n      <td>...</td>\n      <td>WP13</td>\n      <td>119311.27</td>\n      <td>89234.02</td>\n      <td>Upper</td>\n      <td>190.28</td>\n      <td>1787.406680</td>\n      <td>128792.1342</td>\n      <td>1-Jun-15</td>\n      <td>WP13</td>\n      <td>2491</td>\n    </tr>\n    <tr>\n      <th>14</th>\n      <td>WP14</td>\n      <td>134837.26</td>\n      <td>83865.82</td>\n      <td>Lower</td>\n      <td>182.29</td>\n      <td>1269</td>\n      <td>4647.122978</td>\n      <td>NaN</td>\n      <td>NaN</td>\n      <td>2.528518</td>\n      <td>...</td>\n      <td>WP14</td>\n      <td>134837.26</td>\n      <td>83865.82</td>\n      <td>Lower</td>\n      <td>182.29</td>\n      <td>17534.952878</td>\n      <td>130348.9122</td>\n      <td>1-Jul-14</td>\n      <td>WP14</td>\n      <td>2826</td>\n    </tr>\n    <tr>\n      <th>15</th>\n      <td>WP15</td>\n      <td>109560.26</td>\n      <td>86833.62</td>\n      <td>Lower</td>\n      <td>184.45</td>\n      <td>1831</td>\n      <td>4264.801183</td>\n      <td>NaN</td>\n      <td>NaN</td>\n      <td>2.518762</td>\n      <td>...</td>\n      <td>WP15</td>\n      <td>109560.26</td>\n      <td>86833.62</td>\n      <td>Lower</td>\n      <td>184.45</td>\n      <td>45903.089669</td>\n      <td>129488.2502</td>\n      <td>1-Apr-12</td>\n      <td>WP15</td>\n      <td>3647</td>\n    </tr>\n    <tr>\n      <th>16</th>\n      <td>WP16</td>\n      <td>112898.58</td>\n      <td>91601.46</td>\n      <td>Lower</td>\n      <td>168.63</td>\n      <td>65</td>\n      <td>4435.008038</td>\n      <td>0.124279</td>\n      <td>NaN</td>\n      <td>2.515232</td>\n      <td>...</td>\n      <td>WP16</td>\n      <td>112898.58</td>\n      <td>91601.46</td>\n      <td>Lower</td>\n      <td>168.63</td>\n      <td>53733.523751</td>\n      <td>128105.5766</td>\n      <td>1-Dec-17</td>\n      <td>WP16</td>\n      <td>1577</td>\n    </tr>\n    <tr>\n      <th>17</th>\n      <td>WP17</td>\n      <td>112766.46</td>\n      <td>88549.74</td>\n      <td>Lower</td>\n      <td>181.35</td>\n      <td>687</td>\n      <td>4452.999989</td>\n      <td>NaN</td>\n      <td>NaN</td>\n      <td>2.507533</td>\n      <td>...</td>\n      <td>WP17</td>\n      <td>112766.46</td>\n      <td>88549.74</td>\n      <td>Lower</td>\n      <td>181.35</td>\n      <td>17780.451483</td>\n      <td>128990.5754</td>\n      <td>1-Aug-12</td>\n      <td>WP17</td>\n      <td>3525</td>\n    </tr>\n    <tr>\n      <th>18</th>\n      <td>WP18</td>\n      <td>117798.78</td>\n      <td>90645.70</td>\n      <td>Upper</td>\n      <td>194.85</td>\n      <td>209</td>\n      <td>4407.886377</td>\n      <td>0.111971</td>\n      <td>NaN</td>\n      <td>2.292304</td>\n      <td>...</td>\n      <td>WP18</td>\n      <td>117798.78</td>\n      <td>90645.70</td>\n      <td>Upper</td>\n      <td>194.85</td>\n      <td>27653.205286</td>\n      <td>128382.7470</td>\n      <td>1-Jan-12</td>\n      <td>WP18</td>\n      <td>3738</td>\n    </tr>\n    <tr>\n      <th>19</th>\n      <td>WP19</td>\n      <td>110189.22</td>\n      <td>86209.71</td>\n      <td>Upper</td>\n      <td>169.20</td>\n      <td>516</td>\n      <td>4228.005683</td>\n      <td>0.066728</td>\n      <td>0.022170</td>\n      <td>2.914309</td>\n      <td>...</td>\n      <td>WP19</td>\n      <td>110189.22</td>\n      <td>86209.71</td>\n      <td>Upper</td>\n      <td>169.20</td>\n      <td>354.104875</td>\n      <td>129669.1841</td>\n      <td>1-Aug-14</td>\n      <td>WP19</td>\n      <td>2795</td>\n    </tr>\n    <tr>\n      <th>20</th>\n      <td>WP20</td>\n      <td>133687.47</td>\n      <td>83554.44</td>\n      <td>Upper</td>\n      <td>160.22</td>\n      <td>1735</td>\n      <td>4690.730722</td>\n      <td>NaN</td>\n      <td>NaN</td>\n      <td>2.672096</td>\n      <td>...</td>\n      <td>WP20</td>\n      <td>133687.47</td>\n      <td>83554.44</td>\n      <td>Upper</td>\n      <td>160.22</td>\n      <td>870.011682</td>\n      <td>130439.2124</td>\n      <td>1-Apr-20</td>\n      <td>WP20</td>\n      <td>725</td>\n    </tr>\n    <tr>\n      <th>21</th>\n      <td>WP21</td>\n      <td>121120.49</td>\n      <td>87804.64</td>\n      <td>Upper</td>\n      <td>162.57</td>\n      <td>1401</td>\n      <td>4399.473771</td>\n      <td>NaN</td>\n      <td>NaN</td>\n      <td>2.365943</td>\n      <td>...</td>\n      <td>WP21</td>\n      <td>121120.49</td>\n      <td>87804.64</td>\n      <td>Upper</td>\n      <td>162.57</td>\n      <td>60.019034</td>\n      <td>129206.6544</td>\n      <td>1-Dec-18</td>\n      <td>WP21</td>\n      <td>1212</td>\n    </tr>\n    <tr>\n      <th>22</th>\n      <td>WP22</td>\n      <td>115987.29</td>\n      <td>91854.91</td>\n      <td>Upper</td>\n      <td>182.66</td>\n      <td>733</td>\n      <td>4461.531112</td>\n      <td>NaN</td>\n      <td>NaN</td>\n      <td>2.454220</td>\n      <td>...</td>\n      <td>WP22</td>\n      <td>115987.29</td>\n      <td>91854.91</td>\n      <td>Upper</td>\n      <td>182.66</td>\n      <td>342.147423</td>\n      <td>128032.0761</td>\n      <td>1-Mar-19</td>\n      <td>WP22</td>\n      <td>1122</td>\n    </tr>\n    <tr>\n      <th>23</th>\n      <td>WP23</td>\n      <td>139326.01</td>\n      <td>84776.42</td>\n      <td>Upper</td>\n      <td>203.85</td>\n      <td>27</td>\n      <td>4494.588966</td>\n      <td>NaN</td>\n      <td>NaN</td>\n      <td>2.742443</td>\n      <td>...</td>\n      <td>WP23</td>\n      <td>139326.01</td>\n      <td>84776.42</td>\n      <td>Upper</td>\n      <td>203.85</td>\n      <td>497.725573</td>\n      <td>130084.8382</td>\n      <td>1-Sep-13</td>\n      <td>WP23</td>\n      <td>3129</td>\n    </tr>\n    <tr>\n      <th>24</th>\n      <td>WP24</td>\n      <td>142095.82</td>\n      <td>86042.02</td>\n      <td>Lower</td>\n      <td>191.24</td>\n      <td>0</td>\n      <td>4494.121710</td>\n      <td>NaN</td>\n      <td>NaN</td>\n      <td>2.772266</td>\n      <td>...</td>\n      <td>WP24</td>\n      <td>142095.82</td>\n      <td>86042.02</td>\n      <td>Lower</td>\n      <td>191.24</td>\n      <td>4880.211255</td>\n      <td>129717.8142</td>\n      <td>1-Aug-17</td>\n      <td>WP24</td>\n      <td>1699</td>\n    </tr>\n    <tr>\n      <th>25</th>\n      <td>WP25</td>\n      <td>128136.21</td>\n      <td>89359.95</td>\n      <td>Lower</td>\n      <td>196.73</td>\n      <td>772</td>\n      <td>4755.778183</td>\n      <td>NaN</td>\n      <td>NaN</td>\n      <td>2.725119</td>\n      <td>...</td>\n      <td>WP25</td>\n      <td>128136.21</td>\n      <td>89359.95</td>\n      <td>Lower</td>\n      <td>196.73</td>\n      <td>18598.340498</td>\n      <td>128755.6145</td>\n      <td>1-Apr-15</td>\n      <td>WP25</td>\n      <td>2552</td>\n    </tr>\n    <tr>\n      <th>26</th>\n      <td>WP26</td>\n      <td>118170.11</td>\n      <td>89488.69</td>\n      <td>Lower</td>\n      <td>180.99</td>\n      <td>1356</td>\n      <td>4378.793994</td>\n      <td>NaN</td>\n      <td>NaN</td>\n      <td>2.729460</td>\n      <td>...</td>\n      <td>WP26</td>\n      <td>118170.11</td>\n      <td>89488.69</td>\n      <td>Lower</td>\n      <td>180.99</td>\n      <td>18012.790032</td>\n      <td>128718.2799</td>\n      <td>1-Sep-18</td>\n      <td>WP26</td>\n      <td>1303</td>\n    </tr>\n    <tr>\n      <th>27</th>\n      <td>WP27</td>\n      <td>129829.39</td>\n      <td>87756.99</td>\n      <td>Upper</td>\n      <td>193.98</td>\n      <td>1777</td>\n      <td>4801.502794</td>\n      <td>NaN</td>\n      <td>NaN</td>\n      <td>2.948346</td>\n      <td>...</td>\n      <td>WP27</td>\n      <td>129829.39</td>\n      <td>87756.99</td>\n      <td>Upper</td>\n      <td>193.98</td>\n      <td>471.480349</td>\n      <td>129220.4729</td>\n      <td>1-Apr-17</td>\n      <td>WP27</td>\n      <td>1821</td>\n    </tr>\n    <tr>\n      <th>28</th>\n      <td>WP28</td>\n      <td>120522.78</td>\n      <td>89987.00</td>\n      <td>Upper</td>\n      <td>177.29</td>\n      <td>1443</td>\n      <td>4449.730000</td>\n      <td>0.084210</td>\n      <td>1.867752</td>\n      <td>2.497648</td>\n      <td>...</td>\n      <td>WP28</td>\n      <td>120522.78</td>\n      <td>89987.00</td>\n      <td>Upper</td>\n      <td>177.29</td>\n      <td>9973.879346</td>\n      <td>128573.7700</td>\n      <td>1-Jan-15</td>\n      <td>WP28</td>\n      <td>2642</td>\n    </tr>\n    <tr>\n      <th>29</th>\n      <td>WP29</td>\n      <td>138541.42</td>\n      <td>82281.79</td>\n      <td>Lower</td>\n      <td>186.13</td>\n      <td>1689</td>\n      <td>4708.704256</td>\n      <td>NaN</td>\n      <td>NaN</td>\n      <td>2.553667</td>\n      <td>...</td>\n      <td>WP29</td>\n      <td>138541.42</td>\n      <td>82281.79</td>\n      <td>Lower</td>\n      <td>186.13</td>\n      <td>28364.833877</td>\n      <td>130808.2809</td>\n      <td>1-Jan-18</td>\n      <td>WP29</td>\n      <td>1546</td>\n    </tr>\n    <tr>\n      <th>30</th>\n      <td>WP30</td>\n      <td>131123.52</td>\n      <td>84356.27</td>\n      <td>Upper</td>\n      <td>177.33</td>\n      <td>1105</td>\n      <td>4722.806016</td>\n      <td>NaN</td>\n      <td>NaN</td>\n      <td>2.522051</td>\n      <td>...</td>\n      <td>WP30</td>\n      <td>131123.52</td>\n      <td>84356.27</td>\n      <td>Upper</td>\n      <td>177.33</td>\n      <td>56.256269</td>\n      <td>130206.6817</td>\n      <td>1-Dec-17</td>\n      <td>WP30</td>\n      <td>1577</td>\n    </tr>\n    <tr>\n      <th>31</th>\n      <td>WP31</td>\n      <td>136285.14</td>\n      <td>86479.95</td>\n      <td>Lower</td>\n      <td>174.51</td>\n      <td>1528</td>\n      <td>4582.487521</td>\n      <td>NaN</td>\n      <td>NaN</td>\n      <td>2.980176</td>\n      <td>...</td>\n      <td>WP31</td>\n      <td>136285.14</td>\n      <td>86479.95</td>\n      <td>Lower</td>\n      <td>174.51</td>\n      <td>10134.846534</td>\n      <td>129590.8145</td>\n      <td>1-Feb-16</td>\n      <td>WP31</td>\n      <td>2246</td>\n    </tr>\n    <tr>\n      <th>32</th>\n      <td>WP32</td>\n      <td>128675.17</td>\n      <td>89882.13</td>\n      <td>Lower</td>\n      <td>181.33</td>\n      <td>254</td>\n      <td>4737.267323</td>\n      <td>0.054707</td>\n      <td>0.003393</td>\n      <td>2.869471</td>\n      <td>...</td>\n      <td>WP32</td>\n      <td>128675.17</td>\n      <td>89882.13</td>\n      <td>Lower</td>\n      <td>181.33</td>\n      <td>3236.954768</td>\n      <td>128604.1823</td>\n      <td>1-Dec-21</td>\n      <td>WP32</td>\n      <td>116</td>\n    </tr>\n    <tr>\n      <th>33</th>\n      <td>WP33</td>\n      <td>123960.21</td>\n      <td>85279.28</td>\n      <td>Lower</td>\n      <td>175.24</td>\n      <td>987</td>\n      <td>4464.996094</td>\n      <td>NaN</td>\n      <td>NaN</td>\n      <td>2.355620</td>\n      <td>...</td>\n      <td>WP33</td>\n      <td>123960.21</td>\n      <td>85279.28</td>\n      <td>Lower</td>\n      <td>175.24</td>\n      <td>9.678521</td>\n      <td>129939.0088</td>\n      <td>1-Sep-12</td>\n      <td>WP33</td>\n      <td>3494</td>\n    </tr>\n    <tr>\n      <th>34</th>\n      <td>WP34</td>\n      <td>134053.71</td>\n      <td>84658.45</td>\n      <td>Lower</td>\n      <td>193.08</td>\n      <td>899</td>\n      <td>4667.341505</td>\n      <td>NaN</td>\n      <td>NaN</td>\n      <td>2.730281</td>\n      <td>...</td>\n      <td>WP34</td>\n      <td>134053.71</td>\n      <td>84658.45</td>\n      <td>Lower</td>\n      <td>193.08</td>\n      <td>38372.619772</td>\n      <td>130119.0495</td>\n      <td>1-Jun-16</td>\n      <td>WP34</td>\n      <td>2125</td>\n    </tr>\n    <tr>\n      <th>35</th>\n      <td>WP35</td>\n      <td>122230.81</td>\n      <td>87539.37</td>\n      <td>Upper</td>\n      <td>181.95</td>\n      <td>300</td>\n      <td>4448.031544</td>\n      <td>NaN</td>\n      <td>NaN</td>\n      <td>2.392885</td>\n      <td>...</td>\n      <td>WP35</td>\n      <td>122230.81</td>\n      <td>87539.37</td>\n      <td>Upper</td>\n      <td>181.95</td>\n      <td>22.018241</td>\n      <td>129283.5827</td>\n      <td>1-Apr-21</td>\n      <td>WP35</td>\n      <td>360</td>\n    </tr>\n    <tr>\n      <th>36</th>\n      <td>WP36</td>\n      <td>111749.78</td>\n      <td>91050.01</td>\n      <td>Lower</td>\n      <td>184.00</td>\n      <td>1489</td>\n      <td>4400.517188</td>\n      <td>NaN</td>\n      <td>NaN</td>\n      <td>2.541571</td>\n      <td>...</td>\n      <td>WP36</td>\n      <td>111749.78</td>\n      <td>91050.01</td>\n      <td>Lower</td>\n      <td>184.00</td>\n      <td>12816.906661</td>\n      <td>128265.4971</td>\n      <td>1-Apr-19</td>\n      <td>WP36</td>\n      <td>1091</td>\n    </tr>\n    <tr>\n      <th>37</th>\n      <td>WP37</td>\n      <td>134902.25</td>\n      <td>82632.62</td>\n      <td>Lower</td>\n      <td>176.62</td>\n      <td>1146</td>\n      <td>4670.408495</td>\n      <td>0.086999</td>\n      <td>NaN</td>\n      <td>2.533129</td>\n      <td>...</td>\n      <td>WP37</td>\n      <td>134902.25</td>\n      <td>82632.62</td>\n      <td>Lower</td>\n      <td>176.62</td>\n      <td>32097.835676</td>\n      <td>130706.5402</td>\n      <td>1-Jan-15</td>\n      <td>WP37</td>\n      <td>2642</td>\n    </tr>\n    <tr>\n      <th>38</th>\n      <td>WP38</td>\n      <td>116803.31</td>\n      <td>91177.75</td>\n      <td>Lower</td>\n      <td>192.56</td>\n      <td>1603</td>\n      <td>4427.087511</td>\n      <td>NaN</td>\n      <td>NaN</td>\n      <td>2.955643</td>\n      <td>...</td>\n      <td>WP38</td>\n      <td>116803.31</td>\n      <td>91177.75</td>\n      <td>Lower</td>\n      <td>192.56</td>\n      <td>48464.152107</td>\n      <td>128228.4525</td>\n      <td>1-Oct-17</td>\n      <td>WP38</td>\n      <td>1638</td>\n    </tr>\n    <tr>\n      <th>39</th>\n      <td>WP39</td>\n      <td>111890.88</td>\n      <td>91708.68</td>\n      <td>Upper</td>\n      <td>172.68</td>\n      <td>1008</td>\n      <td>4414.798722</td>\n      <td>NaN</td>\n      <td>NaN</td>\n      <td>2.602440</td>\n      <td>...</td>\n      <td>WP39</td>\n      <td>111890.88</td>\n      <td>91708.68</td>\n      <td>Upper</td>\n      <td>172.68</td>\n      <td>199.353498</td>\n      <td>128074.4828</td>\n      <td>1-Aug-16</td>\n      <td>WP39</td>\n      <td>2064</td>\n    </tr>\n    <tr>\n      <th>40</th>\n      <td>WP40</td>\n      <td>126601.30</td>\n      <td>90679.21</td>\n      <td>Upper</td>\n      <td>186.60</td>\n      <td>427</td>\n      <td>4696.310967</td>\n      <td>NaN</td>\n      <td>NaN</td>\n      <td>2.485574</td>\n      <td>...</td>\n      <td>WP40</td>\n      <td>126601.30</td>\n      <td>90679.21</td>\n      <td>Upper</td>\n      <td>186.60</td>\n      <td>99.036248</td>\n      <td>128373.0291</td>\n      <td>1-Dec-21</td>\n      <td>WP40</td>\n      <td>116</td>\n    </tr>\n    <tr>\n      <th>41</th>\n      <td>WP41</td>\n      <td>114333.01</td>\n      <td>91616.66</td>\n      <td>Lower</td>\n      <td>176.49</td>\n      <td>818</td>\n      <td>4469.508895</td>\n      <td>NaN</td>\n      <td>NaN</td>\n      <td>2.566796</td>\n      <td>...</td>\n      <td>WP41</td>\n      <td>114333.01</td>\n      <td>91616.66</td>\n      <td>Lower</td>\n      <td>176.49</td>\n      <td>31704.785319</td>\n      <td>128101.1686</td>\n      <td>1-Sep-13</td>\n      <td>WP41</td>\n      <td>3129</td>\n    </tr>\n    <tr>\n      <th>42</th>\n      <td>WP42</td>\n      <td>136532.27</td>\n      <td>83571.51</td>\n      <td>Lower</td>\n      <td>170.61</td>\n      <td>1065</td>\n      <td>4617.357539</td>\n      <td>NaN</td>\n      <td>NaN</td>\n      <td>2.565888</td>\n      <td>...</td>\n      <td>WP42</td>\n      <td>136532.27</td>\n      <td>83571.51</td>\n      <td>Lower</td>\n      <td>170.61</td>\n      <td>61917.442307</td>\n      <td>130434.2621</td>\n      <td>1-Aug-17</td>\n      <td>WP42</td>\n      <td>1699</td>\n    </tr>\n    <tr>\n      <th>43</th>\n      <td>WP43</td>\n      <td>115684.27</td>\n      <td>89895.78</td>\n      <td>Lower</td>\n      <td>175.11</td>\n      <td>1558</td>\n      <td>4444.615011</td>\n      <td>0.094476</td>\n      <td>0.058904</td>\n      <td>2.504679</td>\n      <td>...</td>\n      <td>WP43</td>\n      <td>115684.27</td>\n      <td>89895.78</td>\n      <td>Lower</td>\n      <td>175.11</td>\n      <td>232777.797780</td>\n      <td>128600.2238</td>\n      <td>1-Mar-13</td>\n      <td>WP43</td>\n      <td>3313</td>\n    </tr>\n    <tr>\n      <th>44</th>\n      <td>WP44</td>\n      <td>118629.90</td>\n      <td>88703.87</td>\n      <td>Lower</td>\n      <td>171.95</td>\n      <td>1646</td>\n      <td>4368.415868</td>\n      <td>NaN</td>\n      <td>NaN</td>\n      <td>2.509171</td>\n      <td>...</td>\n      <td>WP44</td>\n      <td>118629.90</td>\n      <td>88703.87</td>\n      <td>Lower</td>\n      <td>171.95</td>\n      <td>24014.837487</td>\n      <td>128945.8777</td>\n      <td>1-Aug-17</td>\n      <td>WP44</td>\n      <td>1699</td>\n    </tr>\n    <tr>\n      <th>45</th>\n      <td>WP45</td>\n      <td>129176.30</td>\n      <td>93171.14</td>\n      <td>Upper</td>\n      <td>177.87</td>\n      <td>1044</td>\n      <td>4677.518233</td>\n      <td>NaN</td>\n      <td>NaN</td>\n      <td>2.806890</td>\n      <td>...</td>\n      <td>WP45</td>\n      <td>129176.30</td>\n      <td>93171.14</td>\n      <td>Upper</td>\n      <td>177.87</td>\n      <td>7.267656</td>\n      <td>127650.3694</td>\n      <td>1-Nov-17</td>\n      <td>WP45</td>\n      <td>1607</td>\n    </tr>\n    <tr>\n      <th>46</th>\n      <td>WP46</td>\n      <td>139046.81</td>\n      <td>84476.47</td>\n      <td>Lower</td>\n      <td>176.61</td>\n      <td>859</td>\n      <td>4514.767050</td>\n      <td>NaN</td>\n      <td>NaN</td>\n      <td>2.569489</td>\n      <td>...</td>\n      <td>WP46</td>\n      <td>139046.81</td>\n      <td>84476.47</td>\n      <td>Lower</td>\n      <td>176.61</td>\n      <td>27494.021370</td>\n      <td>130171.8237</td>\n      <td>1-Apr-20</td>\n      <td>WP46</td>\n      <td>725</td>\n    </tr>\n    <tr>\n      <th>47</th>\n      <td>WP47</td>\n      <td>137407.15</td>\n      <td>84099.13</td>\n      <td>Lower</td>\n      <td>183.12</td>\n      <td>388</td>\n      <td>4580.744218</td>\n      <td>NaN</td>\n      <td>NaN</td>\n      <td>2.633396</td>\n      <td>...</td>\n      <td>WP47</td>\n      <td>137407.15</td>\n      <td>84099.13</td>\n      <td>Lower</td>\n      <td>183.12</td>\n      <td>36459.588667</td>\n      <td>130281.2523</td>\n      <td>1-Aug-19</td>\n      <td>WP47</td>\n      <td>969</td>\n    </tr>\n    <tr>\n      <th>48</th>\n      <td>WP48</td>\n      <td>124094.80</td>\n      <td>90648.76</td>\n      <td>Lower</td>\n      <td>185.65</td>\n      <td>941</td>\n      <td>4545.026572</td>\n      <td>NaN</td>\n      <td>NaN</td>\n      <td>2.436966</td>\n      <td>...</td>\n      <td>WP48</td>\n      <td>124094.80</td>\n      <td>90648.76</td>\n      <td>Lower</td>\n      <td>185.65</td>\n      <td>29287.593741</td>\n      <td>128381.8596</td>\n      <td>1-Nov-16</td>\n      <td>WP48</td>\n      <td>1972</td>\n    </tr>\n    <tr>\n      <th>49</th>\n      <td>WP49</td>\n      <td>123188.65</td>\n      <td>88556.29</td>\n      <td>Lower</td>\n      <td>178.53</td>\n      <td>342</td>\n      <td>4499.985829</td>\n      <td>NaN</td>\n      <td>NaN</td>\n      <td>2.740638</td>\n      <td>...</td>\n      <td>WP49</td>\n      <td>123188.65</td>\n      <td>88556.29</td>\n      <td>Lower</td>\n      <td>178.53</td>\n      <td>18969.223454</td>\n      <td>128988.6759</td>\n      <td>1-Aug-17</td>\n      <td>WP49</td>\n      <td>1699</td>\n    </tr>\n  </tbody>\n</table>\n<p>50 rows × 37 columns</p>\n</div>"
     },
     "metadata": {}
    }
   ]
  },
  {
   "cell_type": "code",
   "metadata": {
    "cell_id": "a0263eb0583d4426accb8a97f8f8ce0b",
    "tags": [],
    "deepnote_to_be_reexecuted": false,
    "source_hash": "ce579582",
    "execution_start": 1648388483740,
    "execution_millis": 2529,
    "is_code_hidden": false,
    "is_output_hidden": false,
    "deepnote_cell_type": "code",
    "deepnote_cell_height": 830,
    "deepnote_output_heights": [
     606.625
    ]
   },
   "source": "fig1 = px.scatter(wells, x='Y(ft)', y='X(ft)', hover_name='WELL', color='Completion', width=800, height=800)\nfig2 = px.line(wells, x='Y(ft)', y='line', title='Fault Line')\nfig = go.Figure(data=fig1.data+fig2.data)\nfig.update_layout(\n    autosize=False,\n    width=800,\n    height=800,)\nfig1.show()",
   "execution_count": 4,
   "outputs": [
    {
     "data": {
      "text/html": "<html>\n<head><meta charset=\"utf-8\" /></head>\n<body>\n    <div>            <script src=\"https://cdnjs.cloudflare.com/ajax/libs/mathjax/2.7.5/MathJax.js?config=TeX-AMS-MML_SVG\"></script><script type=\"text/javascript\">if (window.MathJax) {MathJax.Hub.Config({SVG: {font: \"STIX-Web\"}});}</script>                <script type=\"text/javascript\">window.PlotlyConfig = {MathJaxConfig: 'local'};</script>\n        <script src=\"https://cdn.plot.ly/plotly-2.9.0.min.js\"></script>                <div id=\"3b2849d4-a0a9-401f-8e19-87ddd92ddd66\" class=\"plotly-graph-div\" style=\"height:800px; width:800px;\"></div>            <script type=\"text/javascript\">                                    window.PLOTLYENV=window.PLOTLYENV || {};                                    if (document.getElementById(\"3b2849d4-a0a9-401f-8e19-87ddd92ddd66\")) {                    Plotly.newPlot(                        \"3b2849d4-a0a9-401f-8e19-87ddd92ddd66\",                        [{\"hovertemplate\":\"<b>%{hovertext}</b><br><br>Completion=Upper<br>Y(ft)=%{x}<br>X(ft)=%{y}<extra></extra>\",\"hovertext\":[\"WP0\",\"WP1\",\"WP2\",\"WP8\",\"WP10\",\"WP11\",\"WP13\",\"WP18\",\"WP19\",\"WP20\",\"WP21\",\"WP22\",\"WP23\",\"WP27\",\"WP28\",\"WP30\",\"WP35\",\"WP39\",\"WP40\",\"WP45\"],\"legendgroup\":\"Upper\",\"marker\":{\"color\":\"#636efa\",\"symbol\":\"circle\"},\"mode\":\"markers\",\"name\":\"Upper\",\"orientation\":\"v\",\"showlegend\":true,\"x\":[83818.47,85832.77,82144.52,91739.99,82411.27,86866.6,89234.02,90645.7,86209.71,83554.44,87804.64,91854.91,84776.42,87756.99,89987.0,84356.27,87539.37,91708.68,90679.21,93171.14],\"xaxis\":\"x\",\"y\":[137106.82,132460.98,133634.0,127369.74,134042.86,115725.49,119311.27,117798.78,110189.22,133687.47,121120.49,115987.29,139326.01,129829.39,120522.78,131123.52,122230.81,111890.88,126601.3,129176.3],\"yaxis\":\"y\",\"type\":\"scatter\"},{\"hovertemplate\":\"<b>%{hovertext}</b><br><br>Completion=Lower<br>Y(ft)=%{x}<br>X(ft)=%{y}<extra></extra>\",\"hovertext\":[\"WP3\",\"WP4\",\"WP5\",\"WP6\",\"WP7\",\"WP9\",\"WP12\",\"WP14\",\"WP15\",\"WP16\",\"WP17\",\"WP24\",\"WP25\",\"WP26\",\"WP29\",\"WP31\",\"WP32\",\"WP33\",\"WP34\",\"WP36\",\"WP37\",\"WP38\",\"WP41\",\"WP42\",\"WP43\",\"WP44\",\"WP46\",\"WP47\",\"WP48\",\"WP49\"],\"legendgroup\":\"Lower\",\"marker\":{\"color\":\"#EF553B\",\"symbol\":\"circle\"},\"mode\":\"markers\",\"name\":\"Lower\",\"orientation\":\"v\",\"showlegend\":true,\"x\":[81747.12,89343.45,92227.31,88692.32,85560.85,86730.44,93691.55,83865.82,86833.62,91601.46,88549.74,86042.02,89359.95,89488.69,82281.79,86479.95,89882.13,85279.28,84658.45,91050.01,82632.62,91177.75,91616.66,83571.51,89895.78,88703.87,84476.47,84099.13,90648.76,88556.29],\"xaxis\":\"x\",\"y\":[140892.57,109951.43,123950.95,111035.32,112439.69,115943.69,133136.98,134837.26,109560.26,112898.58,112766.46,142095.82,128136.21,118170.11,138541.42,136285.14,128675.17,123960.21,134053.71,111749.78,134902.25,116803.31,114333.01,136532.27,115684.27,118629.9,139046.81,137407.15,124094.8,123188.65],\"yaxis\":\"y\",\"type\":\"scatter\"}],                        {\"template\":{\"data\":{\"bar\":[{\"error_x\":{\"color\":\"#2a3f5f\"},\"error_y\":{\"color\":\"#2a3f5f\"},\"marker\":{\"line\":{\"color\":\"#E5ECF6\",\"width\":0.5},\"pattern\":{\"fillmode\":\"overlay\",\"size\":10,\"solidity\":0.2}},\"type\":\"bar\"}],\"barpolar\":[{\"marker\":{\"line\":{\"color\":\"#E5ECF6\",\"width\":0.5},\"pattern\":{\"fillmode\":\"overlay\",\"size\":10,\"solidity\":0.2}},\"type\":\"barpolar\"}],\"carpet\":[{\"aaxis\":{\"endlinecolor\":\"#2a3f5f\",\"gridcolor\":\"white\",\"linecolor\":\"white\",\"minorgridcolor\":\"white\",\"startlinecolor\":\"#2a3f5f\"},\"baxis\":{\"endlinecolor\":\"#2a3f5f\",\"gridcolor\":\"white\",\"linecolor\":\"white\",\"minorgridcolor\":\"white\",\"startlinecolor\":\"#2a3f5f\"},\"type\":\"carpet\"}],\"choropleth\":[{\"colorbar\":{\"outlinewidth\":0,\"ticks\":\"\"},\"type\":\"choropleth\"}],\"contour\":[{\"colorbar\":{\"outlinewidth\":0,\"ticks\":\"\"},\"colorscale\":[[0.0,\"#0d0887\"],[0.1111111111111111,\"#46039f\"],[0.2222222222222222,\"#7201a8\"],[0.3333333333333333,\"#9c179e\"],[0.4444444444444444,\"#bd3786\"],[0.5555555555555556,\"#d8576b\"],[0.6666666666666666,\"#ed7953\"],[0.7777777777777778,\"#fb9f3a\"],[0.8888888888888888,\"#fdca26\"],[1.0,\"#f0f921\"]],\"type\":\"contour\"}],\"contourcarpet\":[{\"colorbar\":{\"outlinewidth\":0,\"ticks\":\"\"},\"type\":\"contourcarpet\"}],\"heatmap\":[{\"colorbar\":{\"outlinewidth\":0,\"ticks\":\"\"},\"colorscale\":[[0.0,\"#0d0887\"],[0.1111111111111111,\"#46039f\"],[0.2222222222222222,\"#7201a8\"],[0.3333333333333333,\"#9c179e\"],[0.4444444444444444,\"#bd3786\"],[0.5555555555555556,\"#d8576b\"],[0.6666666666666666,\"#ed7953\"],[0.7777777777777778,\"#fb9f3a\"],[0.8888888888888888,\"#fdca26\"],[1.0,\"#f0f921\"]],\"type\":\"heatmap\"}],\"heatmapgl\":[{\"colorbar\":{\"outlinewidth\":0,\"ticks\":\"\"},\"colorscale\":[[0.0,\"#0d0887\"],[0.1111111111111111,\"#46039f\"],[0.2222222222222222,\"#7201a8\"],[0.3333333333333333,\"#9c179e\"],[0.4444444444444444,\"#bd3786\"],[0.5555555555555556,\"#d8576b\"],[0.6666666666666666,\"#ed7953\"],[0.7777777777777778,\"#fb9f3a\"],[0.8888888888888888,\"#fdca26\"],[1.0,\"#f0f921\"]],\"type\":\"heatmapgl\"}],\"histogram\":[{\"marker\":{\"pattern\":{\"fillmode\":\"overlay\",\"size\":10,\"solidity\":0.2}},\"type\":\"histogram\"}],\"histogram2d\":[{\"colorbar\":{\"outlinewidth\":0,\"ticks\":\"\"},\"colorscale\":[[0.0,\"#0d0887\"],[0.1111111111111111,\"#46039f\"],[0.2222222222222222,\"#7201a8\"],[0.3333333333333333,\"#9c179e\"],[0.4444444444444444,\"#bd3786\"],[0.5555555555555556,\"#d8576b\"],[0.6666666666666666,\"#ed7953\"],[0.7777777777777778,\"#fb9f3a\"],[0.8888888888888888,\"#fdca26\"],[1.0,\"#f0f921\"]],\"type\":\"histogram2d\"}],\"histogram2dcontour\":[{\"colorbar\":{\"outlinewidth\":0,\"ticks\":\"\"},\"colorscale\":[[0.0,\"#0d0887\"],[0.1111111111111111,\"#46039f\"],[0.2222222222222222,\"#7201a8\"],[0.3333333333333333,\"#9c179e\"],[0.4444444444444444,\"#bd3786\"],[0.5555555555555556,\"#d8576b\"],[0.6666666666666666,\"#ed7953\"],[0.7777777777777778,\"#fb9f3a\"],[0.8888888888888888,\"#fdca26\"],[1.0,\"#f0f921\"]],\"type\":\"histogram2dcontour\"}],\"mesh3d\":[{\"colorbar\":{\"outlinewidth\":0,\"ticks\":\"\"},\"type\":\"mesh3d\"}],\"parcoords\":[{\"line\":{\"colorbar\":{\"outlinewidth\":0,\"ticks\":\"\"}},\"type\":\"parcoords\"}],\"pie\":[{\"automargin\":true,\"type\":\"pie\"}],\"scatter\":[{\"marker\":{\"colorbar\":{\"outlinewidth\":0,\"ticks\":\"\"}},\"type\":\"scatter\"}],\"scatter3d\":[{\"line\":{\"colorbar\":{\"outlinewidth\":0,\"ticks\":\"\"}},\"marker\":{\"colorbar\":{\"outlinewidth\":0,\"ticks\":\"\"}},\"type\":\"scatter3d\"}],\"scattercarpet\":[{\"marker\":{\"colorbar\":{\"outlinewidth\":0,\"ticks\":\"\"}},\"type\":\"scattercarpet\"}],\"scattergeo\":[{\"marker\":{\"colorbar\":{\"outlinewidth\":0,\"ticks\":\"\"}},\"type\":\"scattergeo\"}],\"scattergl\":[{\"marker\":{\"colorbar\":{\"outlinewidth\":0,\"ticks\":\"\"}},\"type\":\"scattergl\"}],\"scattermapbox\":[{\"marker\":{\"colorbar\":{\"outlinewidth\":0,\"ticks\":\"\"}},\"type\":\"scattermapbox\"}],\"scatterpolar\":[{\"marker\":{\"colorbar\":{\"outlinewidth\":0,\"ticks\":\"\"}},\"type\":\"scatterpolar\"}],\"scatterpolargl\":[{\"marker\":{\"colorbar\":{\"outlinewidth\":0,\"ticks\":\"\"}},\"type\":\"scatterpolargl\"}],\"scatterternary\":[{\"marker\":{\"colorbar\":{\"outlinewidth\":0,\"ticks\":\"\"}},\"type\":\"scatterternary\"}],\"surface\":[{\"colorbar\":{\"outlinewidth\":0,\"ticks\":\"\"},\"colorscale\":[[0.0,\"#0d0887\"],[0.1111111111111111,\"#46039f\"],[0.2222222222222222,\"#7201a8\"],[0.3333333333333333,\"#9c179e\"],[0.4444444444444444,\"#bd3786\"],[0.5555555555555556,\"#d8576b\"],[0.6666666666666666,\"#ed7953\"],[0.7777777777777778,\"#fb9f3a\"],[0.8888888888888888,\"#fdca26\"],[1.0,\"#f0f921\"]],\"type\":\"surface\"}],\"table\":[{\"cells\":{\"fill\":{\"color\":\"#EBF0F8\"},\"line\":{\"color\":\"white\"}},\"header\":{\"fill\":{\"color\":\"#C8D4E3\"},\"line\":{\"color\":\"white\"}},\"type\":\"table\"}]},\"layout\":{\"annotationdefaults\":{\"arrowcolor\":\"#2a3f5f\",\"arrowhead\":0,\"arrowwidth\":1},\"autotypenumbers\":\"strict\",\"coloraxis\":{\"colorbar\":{\"outlinewidth\":0,\"ticks\":\"\"}},\"colorscale\":{\"diverging\":[[0,\"#8e0152\"],[0.1,\"#c51b7d\"],[0.2,\"#de77ae\"],[0.3,\"#f1b6da\"],[0.4,\"#fde0ef\"],[0.5,\"#f7f7f7\"],[0.6,\"#e6f5d0\"],[0.7,\"#b8e186\"],[0.8,\"#7fbc41\"],[0.9,\"#4d9221\"],[1,\"#276419\"]],\"sequential\":[[0.0,\"#0d0887\"],[0.1111111111111111,\"#46039f\"],[0.2222222222222222,\"#7201a8\"],[0.3333333333333333,\"#9c179e\"],[0.4444444444444444,\"#bd3786\"],[0.5555555555555556,\"#d8576b\"],[0.6666666666666666,\"#ed7953\"],[0.7777777777777778,\"#fb9f3a\"],[0.8888888888888888,\"#fdca26\"],[1.0,\"#f0f921\"]],\"sequentialminus\":[[0.0,\"#0d0887\"],[0.1111111111111111,\"#46039f\"],[0.2222222222222222,\"#7201a8\"],[0.3333333333333333,\"#9c179e\"],[0.4444444444444444,\"#bd3786\"],[0.5555555555555556,\"#d8576b\"],[0.6666666666666666,\"#ed7953\"],[0.7777777777777778,\"#fb9f3a\"],[0.8888888888888888,\"#fdca26\"],[1.0,\"#f0f921\"]]},\"colorway\":[\"#636efa\",\"#EF553B\",\"#00cc96\",\"#ab63fa\",\"#FFA15A\",\"#19d3f3\",\"#FF6692\",\"#B6E880\",\"#FF97FF\",\"#FECB52\"],\"font\":{\"color\":\"#2a3f5f\"},\"geo\":{\"bgcolor\":\"white\",\"lakecolor\":\"white\",\"landcolor\":\"#E5ECF6\",\"showlakes\":true,\"showland\":true,\"subunitcolor\":\"white\"},\"hoverlabel\":{\"align\":\"left\"},\"hovermode\":\"closest\",\"mapbox\":{\"style\":\"light\"},\"paper_bgcolor\":\"white\",\"plot_bgcolor\":\"#E5ECF6\",\"polar\":{\"angularaxis\":{\"gridcolor\":\"white\",\"linecolor\":\"white\",\"ticks\":\"\"},\"bgcolor\":\"#E5ECF6\",\"radialaxis\":{\"gridcolor\":\"white\",\"linecolor\":\"white\",\"ticks\":\"\"}},\"scene\":{\"xaxis\":{\"backgroundcolor\":\"#E5ECF6\",\"gridcolor\":\"white\",\"gridwidth\":2,\"linecolor\":\"white\",\"showbackground\":true,\"ticks\":\"\",\"zerolinecolor\":\"white\"},\"yaxis\":{\"backgroundcolor\":\"#E5ECF6\",\"gridcolor\":\"white\",\"gridwidth\":2,\"linecolor\":\"white\",\"showbackground\":true,\"ticks\":\"\",\"zerolinecolor\":\"white\"},\"zaxis\":{\"backgroundcolor\":\"#E5ECF6\",\"gridcolor\":\"white\",\"gridwidth\":2,\"linecolor\":\"white\",\"showbackground\":true,\"ticks\":\"\",\"zerolinecolor\":\"white\"}},\"shapedefaults\":{\"line\":{\"color\":\"#2a3f5f\"}},\"ternary\":{\"aaxis\":{\"gridcolor\":\"white\",\"linecolor\":\"white\",\"ticks\":\"\"},\"baxis\":{\"gridcolor\":\"white\",\"linecolor\":\"white\",\"ticks\":\"\"},\"bgcolor\":\"#E5ECF6\",\"caxis\":{\"gridcolor\":\"white\",\"linecolor\":\"white\",\"ticks\":\"\"}},\"title\":{\"x\":0.05},\"xaxis\":{\"automargin\":true,\"gridcolor\":\"white\",\"linecolor\":\"white\",\"ticks\":\"\",\"title\":{\"standoff\":15},\"zerolinecolor\":\"white\",\"zerolinewidth\":2},\"yaxis\":{\"automargin\":true,\"gridcolor\":\"white\",\"linecolor\":\"white\",\"ticks\":\"\",\"title\":{\"standoff\":15},\"zerolinecolor\":\"white\",\"zerolinewidth\":2}}},\"xaxis\":{\"anchor\":\"y\",\"domain\":[0.0,1.0],\"title\":{\"text\":\"Y(ft)\"}},\"yaxis\":{\"anchor\":\"x\",\"domain\":[0.0,1.0],\"title\":{\"text\":\"X(ft)\"}},\"legend\":{\"title\":{\"text\":\"Completion\"},\"tracegroupgap\":0},\"margin\":{\"t\":60},\"height\":800,\"width\":800},                        {\"responsive\": true}                    ).then(function(){\n                            \nvar gd = document.getElementById('3b2849d4-a0a9-401f-8e19-87ddd92ddd66');\nvar x = new MutationObserver(function (mutations, observer) {{\n        var display = window.getComputedStyle(gd).display;\n        if (!display || display === 'none') {{\n            console.log([gd, 'removed!']);\n            Plotly.purge(gd);\n            observer.disconnect();\n        }}\n}});\n\n// Listen for the removal of the full notebook cells\nvar notebookContainer = gd.closest('#notebook-container');\nif (notebookContainer) {{\n    x.observe(notebookContainer, {childList: true});\n}}\n\n// Listen for the clearing of the current output cell\nvar outputEl = gd.closest('.output');\nif (outputEl) {{\n    x.observe(outputEl, {childList: true});\n}}\n\n                        })                };                            </script>        </div>\n</body>\n</html>"
     },
     "metadata": {},
     "output_type": "display_data"
    }
   ]
  },
  {
   "cell_type": "code",
   "metadata": {
    "cell_id": "d63e9e9372354c579c50bca8fe2f8670",
    "tags": [],
    "deepnote_to_be_reexecuted": true,
    "source_hash": "b623e53d",
    "execution_start": 1648332414188,
    "execution_millis": 47,
    "deepnote_cell_type": "code",
    "deepnote_cell_height": 144.1875
   },
   "source": "",
   "execution_count": null,
   "outputs": [
    {
     "output_type": "error",
     "ename": "FileNotFoundError",
     "evalue": "[Errno 2] No such file or directory: 'Carpe-Datum-2022/AI.csv'",
     "traceback": [
      "\u001b[0;31m---------------------------------------------------------------------------\u001b[0m",
      "\u001b[0;31mFileNotFoundError\u001b[0m                         Traceback (most recent call last)",
      "\u001b[0;32m<ipython-input-54-60b700e90fd1>\u001b[0m in \u001b[0;36m<module>\u001b[0;34m\u001b[0m\n\u001b[0;32m----> 1\u001b[0;31m \u001b[0mai\u001b[0m \u001b[0;34m=\u001b[0m \u001b[0mpd\u001b[0m\u001b[0;34m.\u001b[0m\u001b[0mread_csv\u001b[0m\u001b[0;34m(\u001b[0m\u001b[0;34m'Carpe-Datum-2022/AI.csv'\u001b[0m\u001b[0;34m)\u001b[0m\u001b[0;34m\u001b[0m\u001b[0;34m\u001b[0m\u001b[0m\n\u001b[0m",
      "\u001b[0;32m/shared-libs/python3.7/py/lib/python3.7/site-packages/pandas/io/parsers.py\u001b[0m in \u001b[0;36mread_csv\u001b[0;34m(filepath_or_buffer, sep, delimiter, header, names, index_col, usecols, squeeze, prefix, mangle_dupe_cols, dtype, engine, converters, true_values, false_values, skipinitialspace, skiprows, skipfooter, nrows, na_values, keep_default_na, na_filter, verbose, skip_blank_lines, parse_dates, infer_datetime_format, keep_date_col, date_parser, dayfirst, cache_dates, iterator, chunksize, compression, thousands, decimal, lineterminator, quotechar, quoting, doublequote, escapechar, comment, encoding, dialect, error_bad_lines, warn_bad_lines, delim_whitespace, low_memory, memory_map, float_precision, storage_options)\u001b[0m\n\u001b[1;32m    608\u001b[0m     \u001b[0mkwds\u001b[0m\u001b[0;34m.\u001b[0m\u001b[0mupdate\u001b[0m\u001b[0;34m(\u001b[0m\u001b[0mkwds_defaults\u001b[0m\u001b[0;34m)\u001b[0m\u001b[0;34m\u001b[0m\u001b[0;34m\u001b[0m\u001b[0m\n\u001b[1;32m    609\u001b[0m \u001b[0;34m\u001b[0m\u001b[0m\n\u001b[0;32m--> 610\u001b[0;31m     \u001b[0;32mreturn\u001b[0m \u001b[0m_read\u001b[0m\u001b[0;34m(\u001b[0m\u001b[0mfilepath_or_buffer\u001b[0m\u001b[0;34m,\u001b[0m \u001b[0mkwds\u001b[0m\u001b[0;34m)\u001b[0m\u001b[0;34m\u001b[0m\u001b[0;34m\u001b[0m\u001b[0m\n\u001b[0m\u001b[1;32m    611\u001b[0m \u001b[0;34m\u001b[0m\u001b[0m\n\u001b[1;32m    612\u001b[0m \u001b[0;34m\u001b[0m\u001b[0m\n",
      "\u001b[0;32m/shared-libs/python3.7/py/lib/python3.7/site-packages/pandas/io/parsers.py\u001b[0m in \u001b[0;36m_read\u001b[0;34m(filepath_or_buffer, kwds)\u001b[0m\n\u001b[1;32m    460\u001b[0m \u001b[0;34m\u001b[0m\u001b[0m\n\u001b[1;32m    461\u001b[0m     \u001b[0;31m# Create the parser.\u001b[0m\u001b[0;34m\u001b[0m\u001b[0;34m\u001b[0m\u001b[0;34m\u001b[0m\u001b[0m\n\u001b[0;32m--> 462\u001b[0;31m     \u001b[0mparser\u001b[0m \u001b[0;34m=\u001b[0m \u001b[0mTextFileReader\u001b[0m\u001b[0;34m(\u001b[0m\u001b[0mfilepath_or_buffer\u001b[0m\u001b[0;34m,\u001b[0m \u001b[0;34m**\u001b[0m\u001b[0mkwds\u001b[0m\u001b[0;34m)\u001b[0m\u001b[0;34m\u001b[0m\u001b[0;34m\u001b[0m\u001b[0m\n\u001b[0m\u001b[1;32m    463\u001b[0m \u001b[0;34m\u001b[0m\u001b[0m\n\u001b[1;32m    464\u001b[0m     \u001b[0;32mif\u001b[0m \u001b[0mchunksize\u001b[0m \u001b[0;32mor\u001b[0m \u001b[0miterator\u001b[0m\u001b[0;34m:\u001b[0m\u001b[0;34m\u001b[0m\u001b[0;34m\u001b[0m\u001b[0m\n",
      "\u001b[0;32m/shared-libs/python3.7/py/lib/python3.7/site-packages/pandas/io/parsers.py\u001b[0m in \u001b[0;36m__init__\u001b[0;34m(self, f, engine, **kwds)\u001b[0m\n\u001b[1;32m    817\u001b[0m             \u001b[0mself\u001b[0m\u001b[0;34m.\u001b[0m\u001b[0moptions\u001b[0m\u001b[0;34m[\u001b[0m\u001b[0;34m\"has_index_names\"\u001b[0m\u001b[0;34m]\u001b[0m \u001b[0;34m=\u001b[0m \u001b[0mkwds\u001b[0m\u001b[0;34m[\u001b[0m\u001b[0;34m\"has_index_names\"\u001b[0m\u001b[0;34m]\u001b[0m\u001b[0;34m\u001b[0m\u001b[0;34m\u001b[0m\u001b[0m\n\u001b[1;32m    818\u001b[0m \u001b[0;34m\u001b[0m\u001b[0m\n\u001b[0;32m--> 819\u001b[0;31m         \u001b[0mself\u001b[0m\u001b[0;34m.\u001b[0m\u001b[0m_engine\u001b[0m \u001b[0;34m=\u001b[0m \u001b[0mself\u001b[0m\u001b[0;34m.\u001b[0m\u001b[0m_make_engine\u001b[0m\u001b[0;34m(\u001b[0m\u001b[0mself\u001b[0m\u001b[0;34m.\u001b[0m\u001b[0mengine\u001b[0m\u001b[0;34m)\u001b[0m\u001b[0;34m\u001b[0m\u001b[0;34m\u001b[0m\u001b[0m\n\u001b[0m\u001b[1;32m    820\u001b[0m \u001b[0;34m\u001b[0m\u001b[0m\n\u001b[1;32m    821\u001b[0m     \u001b[0;32mdef\u001b[0m \u001b[0mclose\u001b[0m\u001b[0;34m(\u001b[0m\u001b[0mself\u001b[0m\u001b[0;34m)\u001b[0m\u001b[0;34m:\u001b[0m\u001b[0;34m\u001b[0m\u001b[0;34m\u001b[0m\u001b[0m\n",
      "\u001b[0;32m/shared-libs/python3.7/py/lib/python3.7/site-packages/pandas/io/parsers.py\u001b[0m in \u001b[0;36m_make_engine\u001b[0;34m(self, engine)\u001b[0m\n\u001b[1;32m   1048\u001b[0m             )\n\u001b[1;32m   1049\u001b[0m         \u001b[0;31m# error: Too many arguments for \"ParserBase\"\u001b[0m\u001b[0;34m\u001b[0m\u001b[0;34m\u001b[0m\u001b[0;34m\u001b[0m\u001b[0m\n\u001b[0;32m-> 1050\u001b[0;31m         \u001b[0;32mreturn\u001b[0m \u001b[0mmapping\u001b[0m\u001b[0;34m[\u001b[0m\u001b[0mengine\u001b[0m\u001b[0;34m]\u001b[0m\u001b[0;34m(\u001b[0m\u001b[0mself\u001b[0m\u001b[0;34m.\u001b[0m\u001b[0mf\u001b[0m\u001b[0;34m,\u001b[0m \u001b[0;34m**\u001b[0m\u001b[0mself\u001b[0m\u001b[0;34m.\u001b[0m\u001b[0moptions\u001b[0m\u001b[0;34m)\u001b[0m  \u001b[0;31m# type: ignore[call-arg]\u001b[0m\u001b[0;34m\u001b[0m\u001b[0;34m\u001b[0m\u001b[0m\n\u001b[0m\u001b[1;32m   1051\u001b[0m \u001b[0;34m\u001b[0m\u001b[0m\n\u001b[1;32m   1052\u001b[0m     \u001b[0;32mdef\u001b[0m \u001b[0m_failover_to_python\u001b[0m\u001b[0;34m(\u001b[0m\u001b[0mself\u001b[0m\u001b[0;34m)\u001b[0m\u001b[0;34m:\u001b[0m\u001b[0;34m\u001b[0m\u001b[0;34m\u001b[0m\u001b[0m\n",
      "\u001b[0;32m/shared-libs/python3.7/py/lib/python3.7/site-packages/pandas/io/parsers.py\u001b[0m in \u001b[0;36m__init__\u001b[0;34m(self, src, **kwds)\u001b[0m\n\u001b[1;32m   1865\u001b[0m \u001b[0;34m\u001b[0m\u001b[0m\n\u001b[1;32m   1866\u001b[0m         \u001b[0;31m# open handles\u001b[0m\u001b[0;34m\u001b[0m\u001b[0;34m\u001b[0m\u001b[0;34m\u001b[0m\u001b[0m\n\u001b[0;32m-> 1867\u001b[0;31m         \u001b[0mself\u001b[0m\u001b[0;34m.\u001b[0m\u001b[0m_open_handles\u001b[0m\u001b[0;34m(\u001b[0m\u001b[0msrc\u001b[0m\u001b[0;34m,\u001b[0m \u001b[0mkwds\u001b[0m\u001b[0;34m)\u001b[0m\u001b[0;34m\u001b[0m\u001b[0;34m\u001b[0m\u001b[0m\n\u001b[0m\u001b[1;32m   1868\u001b[0m         \u001b[0;32massert\u001b[0m \u001b[0mself\u001b[0m\u001b[0;34m.\u001b[0m\u001b[0mhandles\u001b[0m \u001b[0;32mis\u001b[0m \u001b[0;32mnot\u001b[0m \u001b[0;32mNone\u001b[0m\u001b[0;34m\u001b[0m\u001b[0;34m\u001b[0m\u001b[0m\n\u001b[1;32m   1869\u001b[0m         \u001b[0;32mfor\u001b[0m \u001b[0mkey\u001b[0m \u001b[0;32min\u001b[0m \u001b[0;34m(\u001b[0m\u001b[0;34m\"storage_options\"\u001b[0m\u001b[0;34m,\u001b[0m \u001b[0;34m\"encoding\"\u001b[0m\u001b[0;34m,\u001b[0m \u001b[0;34m\"memory_map\"\u001b[0m\u001b[0;34m,\u001b[0m \u001b[0;34m\"compression\"\u001b[0m\u001b[0;34m)\u001b[0m\u001b[0;34m:\u001b[0m\u001b[0;34m\u001b[0m\u001b[0;34m\u001b[0m\u001b[0m\n",
      "\u001b[0;32m/shared-libs/python3.7/py/lib/python3.7/site-packages/pandas/io/parsers.py\u001b[0m in \u001b[0;36m_open_handles\u001b[0;34m(self, src, kwds)\u001b[0m\n\u001b[1;32m   1366\u001b[0m             \u001b[0mcompression\u001b[0m\u001b[0;34m=\u001b[0m\u001b[0mkwds\u001b[0m\u001b[0;34m.\u001b[0m\u001b[0mget\u001b[0m\u001b[0;34m(\u001b[0m\u001b[0;34m\"compression\"\u001b[0m\u001b[0;34m,\u001b[0m \u001b[0;32mNone\u001b[0m\u001b[0;34m)\u001b[0m\u001b[0;34m,\u001b[0m\u001b[0;34m\u001b[0m\u001b[0;34m\u001b[0m\u001b[0m\n\u001b[1;32m   1367\u001b[0m             \u001b[0mmemory_map\u001b[0m\u001b[0;34m=\u001b[0m\u001b[0mkwds\u001b[0m\u001b[0;34m.\u001b[0m\u001b[0mget\u001b[0m\u001b[0;34m(\u001b[0m\u001b[0;34m\"memory_map\"\u001b[0m\u001b[0;34m,\u001b[0m \u001b[0;32mFalse\u001b[0m\u001b[0;34m)\u001b[0m\u001b[0;34m,\u001b[0m\u001b[0;34m\u001b[0m\u001b[0;34m\u001b[0m\u001b[0m\n\u001b[0;32m-> 1368\u001b[0;31m             \u001b[0mstorage_options\u001b[0m\u001b[0;34m=\u001b[0m\u001b[0mkwds\u001b[0m\u001b[0;34m.\u001b[0m\u001b[0mget\u001b[0m\u001b[0;34m(\u001b[0m\u001b[0;34m\"storage_options\"\u001b[0m\u001b[0;34m,\u001b[0m \u001b[0;32mNone\u001b[0m\u001b[0;34m)\u001b[0m\u001b[0;34m,\u001b[0m\u001b[0;34m\u001b[0m\u001b[0;34m\u001b[0m\u001b[0m\n\u001b[0m\u001b[1;32m   1369\u001b[0m         )\n\u001b[1;32m   1370\u001b[0m \u001b[0;34m\u001b[0m\u001b[0m\n",
      "\u001b[0;32m/shared-libs/python3.7/py/lib/python3.7/site-packages/pandas/io/common.py\u001b[0m in \u001b[0;36mget_handle\u001b[0;34m(path_or_buf, mode, encoding, compression, memory_map, is_text, errors, storage_options)\u001b[0m\n\u001b[1;32m    650\u001b[0m                 \u001b[0mencoding\u001b[0m\u001b[0;34m=\u001b[0m\u001b[0mioargs\u001b[0m\u001b[0;34m.\u001b[0m\u001b[0mencoding\u001b[0m\u001b[0;34m,\u001b[0m\u001b[0;34m\u001b[0m\u001b[0;34m\u001b[0m\u001b[0m\n\u001b[1;32m    651\u001b[0m                 \u001b[0merrors\u001b[0m\u001b[0;34m=\u001b[0m\u001b[0merrors\u001b[0m\u001b[0;34m,\u001b[0m\u001b[0;34m\u001b[0m\u001b[0;34m\u001b[0m\u001b[0m\n\u001b[0;32m--> 652\u001b[0;31m                 \u001b[0mnewline\u001b[0m\u001b[0;34m=\u001b[0m\u001b[0;34m\"\"\u001b[0m\u001b[0;34m,\u001b[0m\u001b[0;34m\u001b[0m\u001b[0;34m\u001b[0m\u001b[0m\n\u001b[0m\u001b[1;32m    653\u001b[0m             )\n\u001b[1;32m    654\u001b[0m         \u001b[0;32melse\u001b[0m\u001b[0;34m:\u001b[0m\u001b[0;34m\u001b[0m\u001b[0;34m\u001b[0m\u001b[0m\n",
      "\u001b[0;31mFileNotFoundError\u001b[0m: [Errno 2] No such file or directory: 'Carpe-Datum-2022/AI.csv'"
     ]
    }
   ]
  },
  {
   "cell_type": "code",
   "metadata": {
    "cell_id": "60648c1b33464ff5826f6bf8dfc39be8",
    "tags": [],
    "deepnote_to_be_reexecuted": false,
    "source_hash": "34509582",
    "execution_start": 1648388497962,
    "execution_millis": 211,
    "deepnote_cell_type": "code",
    "deepnote_cell_height": 613.265625
   },
   "source": "wells",
   "execution_count": 5,
   "outputs": [
    {
     "output_type": "execute_result",
     "execution_count": 5,
     "data": {
      "application/vnd.deepnote.dataframe.v3+json": {
       "column_count": 37,
       "row_count": 50,
       "columns": [
        {
         "name": "WELL",
         "dtype": "object",
         "stats": {
          "unique_count": 50,
          "nan_count": 0,
          "categories": [
           {
            "name": "WP0",
            "count": 1
           },
           {
            "name": "WP1",
            "count": 1
           },
           {
            "name": "48 others",
            "count": 48
           }
          ]
         }
        },
        {
         "name": "X(ft)",
         "dtype": "float64",
         "stats": {
          "unique_count": 50,
          "nan_count": 0,
          "min": "109560.26",
          "max": "142095.82",
          "histogram": [
           {
            "bin_start": 109560.26,
            "bin_end": 112813.81599999999,
            "count": 8
           },
           {
            "bin_start": 112813.81599999999,
            "bin_end": 116067.372,
            "count": 6
           },
           {
            "bin_start": 116067.372,
            "bin_end": 119320.928,
            "count": 5
           },
           {
            "bin_start": 119320.928,
            "bin_end": 122574.484,
            "count": 3
           },
           {
            "bin_start": 122574.484,
            "bin_end": 125828.04000000001,
            "count": 4
           },
           {
            "bin_start": 125828.04000000001,
            "bin_end": 129081.596,
            "count": 4
           },
           {
            "bin_start": 129081.596,
            "bin_end": 132335.152,
            "count": 3
           },
           {
            "bin_start": 132335.152,
            "bin_end": 135588.708,
            "count": 8
           },
           {
            "bin_start": 135588.708,
            "bin_end": 138842.264,
            "count": 5
           },
           {
            "bin_start": 138842.264,
            "bin_end": 142095.82,
            "count": 4
           }
          ]
         }
        },
        {
         "name": "Y(ft)",
         "dtype": "float64",
         "stats": {
          "unique_count": 50,
          "nan_count": 0,
          "min": "81747.12",
          "max": "93691.55",
          "histogram": [
           {
            "bin_start": 81747.12,
            "bin_end": 82941.563,
            "count": 5
           },
           {
            "bin_start": 82941.563,
            "bin_end": 84136.006,
            "count": 5
           },
           {
            "bin_start": 84136.006,
            "bin_end": 85330.449,
            "count": 5
           },
           {
            "bin_start": 85330.449,
            "bin_end": 86524.89199999999,
            "count": 5
           },
           {
            "bin_start": 86524.89199999999,
            "bin_end": 87719.33499999999,
            "count": 4
           },
           {
            "bin_start": 87719.33499999999,
            "bin_end": 88913.778,
            "count": 6
           },
           {
            "bin_start": 88913.778,
            "bin_end": 90108.221,
            "count": 7
           },
           {
            "bin_start": 90108.221,
            "bin_end": 91302.664,
            "count": 5
           },
           {
            "bin_start": 91302.664,
            "bin_end": 92497.107,
            "count": 6
           },
           {
            "bin_start": 92497.107,
            "bin_end": 93691.55,
            "count": 2
           }
          ]
         }
        },
        {
         "name": "Completion",
         "dtype": "object",
         "stats": {
          "unique_count": 2,
          "nan_count": 0,
          "categories": [
           {
            "name": "Lower",
            "count": 30
           },
           {
            "name": "Upper",
            "count": 20
           }
          ]
         }
        },
        {
         "name": "Elevation Kelly Bushing (ft)",
         "dtype": "float64",
         "stats": {
          "unique_count": 49,
          "nan_count": 0,
          "min": "160.22",
          "max": "203.85",
          "histogram": [
           {
            "bin_start": 160.22,
            "bin_end": 164.583,
            "count": 3
           },
           {
            "bin_start": 164.583,
            "bin_end": 168.946,
            "count": 1
           },
           {
            "bin_start": 168.946,
            "bin_end": 173.309,
            "count": 6
           },
           {
            "bin_start": 173.309,
            "bin_end": 177.672,
            "count": 8
           },
           {
            "bin_start": 177.672,
            "bin_end": 182.035,
            "count": 10
           },
           {
            "bin_start": 182.035,
            "bin_end": 186.398,
            "count": 10
           },
           {
            "bin_start": 186.398,
            "bin_end": 190.761,
            "count": 3
           },
           {
            "bin_start": 190.761,
            "bin_end": 195.124,
            "count": 7
           },
           {
            "bin_start": 195.124,
            "bin_end": 199.487,
            "count": 1
           },
           {
            "bin_start": 199.487,
            "bin_end": 203.85,
            "count": 1
           }
          ]
         }
        },
        {
         "name": "Unnamed: 0",
         "dtype": "int64",
         "stats": {
          "unique_count": 50,
          "nan_count": 0,
          "min": "0",
          "max": "1920",
          "histogram": [
           {
            "bin_start": 0,
            "bin_end": 192,
            "count": 7
           },
           {
            "bin_start": 192,
            "bin_end": 384,
            "count": 4
           },
           {
            "bin_start": 384,
            "bin_end": 576,
            "count": 5
           },
           {
            "bin_start": 576,
            "bin_end": 768,
            "count": 4
           },
           {
            "bin_start": 768,
            "bin_end": 960,
            "count": 5
           },
           {
            "bin_start": 960,
            "bin_end": 1152,
            "count": 6
           },
           {
            "bin_start": 1152,
            "bin_end": 1344,
            "count": 4
           },
           {
            "bin_start": 1344,
            "bin_end": 1536,
            "count": 5
           },
           {
            "bin_start": 1536,
            "bin_end": 1728,
            "count": 4
           },
           {
            "bin_start": 1728,
            "bin_end": 1920,
            "count": 6
           }
          ]
         }
        },
        {
         "name": "MD(ft)",
         "dtype": "float64",
         "stats": {
          "unique_count": 50,
          "nan_count": 0,
          "min": "4228.00568344",
          "max": "4801.50279384",
          "histogram": [
           {
            "bin_start": 4228.00568344,
            "bin_end": 4285.3553944800005,
            "count": 2
           },
           {
            "bin_start": 4285.3553944800005,
            "bin_end": 4342.70510552,
            "count": 0
           },
           {
            "bin_start": 4342.70510552,
            "bin_end": 4400.05481656,
            "count": 6
           },
           {
            "bin_start": 4400.05481656,
            "bin_end": 4457.4045276,
            "count": 10
           },
           {
            "bin_start": 4457.4045276,
            "bin_end": 4514.75423864,
            "count": 6
           },
           {
            "bin_start": 4514.75423864,
            "bin_end": 4572.10394968,
            "count": 2
           },
           {
            "bin_start": 4572.10394968,
            "bin_end": 4629.45366072,
            "count": 7
           },
           {
            "bin_start": 4629.45366072,
            "bin_end": 4686.80337176,
            "count": 6
           },
           {
            "bin_start": 4686.80337176,
            "bin_end": 4744.1530827999995,
            "count": 8
           },
           {
            "bin_start": 4744.1530827999995,
            "bin_end": 4801.50279384,
            "count": 3
           }
          ]
         }
        },
        {
         "name": "PORO(v/v)",
         "dtype": "float64",
         "stats": {
          "unique_count": 10,
          "nan_count": 40,
          "min": "0.039348",
          "max": "0.124279",
          "histogram": [
           {
            "bin_start": 0.039348,
            "bin_end": 0.0478411,
            "count": 2
           },
           {
            "bin_start": 0.0478411,
            "bin_end": 0.0563342,
            "count": 1
           },
           {
            "bin_start": 0.0563342,
            "bin_end": 0.0648273,
            "count": 0
           },
           {
            "bin_start": 0.0648273,
            "bin_end": 0.07332040000000001,
            "count": 2
           },
           {
            "bin_start": 0.07332040000000001,
            "bin_end": 0.08181350000000001,
            "count": 0
           },
           {
            "bin_start": 0.08181350000000001,
            "bin_end": 0.0903066,
            "count": 2
           },
           {
            "bin_start": 0.0903066,
            "bin_end": 0.09879969999999999,
            "count": 1
           },
           {
            "bin_start": 0.09879969999999999,
            "bin_end": 0.1072928,
            "count": 0
           },
           {
            "bin_start": 0.1072928,
            "bin_end": 0.1157859,
            "count": 1
           },
           {
            "bin_start": 0.1157859,
            "bin_end": 0.124279,
            "count": 1
           }
          ]
         }
        },
        {
         "name": "Permeability(mD)",
         "dtype": "float64",
         "stats": {
          "unique_count": 5,
          "nan_count": 45,
          "min": "0.003393",
          "max": "1.867752",
          "histogram": [
           {
            "bin_start": 0.003393,
            "bin_end": 0.18982890000000002,
            "count": 4
           },
           {
            "bin_start": 0.18982890000000002,
            "bin_end": 0.3762648,
            "count": 0
           },
           {
            "bin_start": 0.3762648,
            "bin_end": 0.5627007,
            "count": 0
           },
           {
            "bin_start": 0.5627007,
            "bin_end": 0.7491366,
            "count": 0
           },
           {
            "bin_start": 0.7491366,
            "bin_end": 0.9355725,
            "count": 0
           },
           {
            "bin_start": 0.9355725,
            "bin_end": 1.1220084000000001,
            "count": 0
           },
           {
            "bin_start": 1.1220084000000001,
            "bin_end": 1.3084443000000001,
            "count": 0
           },
           {
            "bin_start": 1.3084443000000001,
            "bin_end": 1.4948802,
            "count": 0
           },
           {
            "bin_start": 1.4948802,
            "bin_end": 1.6813161,
            "count": 0
           },
           {
            "bin_start": 1.6813161,
            "bin_end": 1.867752,
            "count": 1
           }
          ]
         }
        },
        {
         "name": "RHOB(g/cm3)",
         "dtype": "float64",
         "stats": {
          "unique_count": 49,
          "nan_count": 1,
          "min": "2.2923039222853587",
          "max": "2.980176128748262",
          "histogram": [
           {
            "bin_start": 2.2923039222853587,
            "bin_end": 2.3610911429316492,
            "count": 2
           },
           {
            "bin_start": 2.3610911429316492,
            "bin_end": 2.4298783635779393,
            "count": 3
           },
           {
            "bin_start": 2.4298783635779393,
            "bin_end": 2.49866558422423,
            "count": 5
           },
           {
            "bin_start": 2.49866558422423,
            "bin_end": 2.56745280487052,
            "count": 16
           },
           {
            "bin_start": 2.56745280487052,
            "bin_end": 2.6362400255168104,
            "count": 4
           },
           {
            "bin_start": 2.6362400255168104,
            "bin_end": 2.705027246163101,
            "count": 3
           },
           {
            "bin_start": 2.705027246163101,
            "bin_end": 2.773814466809391,
            "count": 9
           },
           {
            "bin_start": 2.773814466809391,
            "bin_end": 2.8426016874556814,
            "count": 1
           },
           {
            "bin_start": 2.8426016874556814,
            "bin_end": 2.9113889081019715,
            "count": 1
           },
           {
            "bin_start": 2.9113889081019715,
            "bin_end": 2.980176128748262,
            "count": 5
           }
          ]
         }
        },
        {
         "name": "DTS(us/ft)",
         "dtype": "float64",
         "stats": {
          "unique_count": 28,
          "nan_count": 22,
          "min": "-999.0000000000002",
          "max": "146.4114765657358",
          "histogram": [
           {
            "bin_start": -999.0000000000002,
            "bin_end": -884.4588523434267,
            "count": 1
           },
           {
            "bin_start": -884.4588523434267,
            "bin_end": -769.9177046868531,
            "count": 0
           },
           {
            "bin_start": -769.9177046868531,
            "bin_end": -655.3765570302794,
            "count": 0
           },
           {
            "bin_start": -655.3765570302794,
            "bin_end": -540.8354093737058,
            "count": 0
           },
           {
            "bin_start": -540.8354093737058,
            "bin_end": -426.29426171713226,
            "count": 0
           },
           {
            "bin_start": -426.29426171713226,
            "bin_end": -311.7531140605586,
            "count": 0
           },
           {
            "bin_start": -311.7531140605586,
            "bin_end": -197.211966403985,
            "count": 0
           },
           {
            "bin_start": -197.211966403985,
            "bin_end": -82.67081874741143,
            "count": 0
           },
           {
            "bin_start": -82.67081874741143,
            "bin_end": 31.870328909162254,
            "count": 0
           },
           {
            "bin_start": 31.870328909162254,
            "bin_end": 146.4114765657358,
            "count": 27
           }
          ]
         }
        },
        {
         "name": "DT(us/ft)",
         "dtype": "float64",
         "stats": {
          "unique_count": 49,
          "nan_count": 1,
          "min": "2.94847346406139",
          "max": "82.63865603920694",
          "histogram": [
           {
            "bin_start": 2.94847346406139,
            "bin_end": 10.917491721575944,
            "count": 1
           },
           {
            "bin_start": 10.917491721575944,
            "bin_end": 18.886509979090498,
            "count": 0
           },
           {
            "bin_start": 18.886509979090498,
            "bin_end": 26.85552823660505,
            "count": 0
           },
           {
            "bin_start": 26.85552823660505,
            "bin_end": 34.8245464941196,
            "count": 0
           },
           {
            "bin_start": 34.8245464941196,
            "bin_end": 42.793564751634165,
            "count": 0
           },
           {
            "bin_start": 42.793564751634165,
            "bin_end": 50.76258300914871,
            "count": 1
           },
           {
            "bin_start": 50.76258300914871,
            "bin_end": 58.73160126666326,
            "count": 7
           },
           {
            "bin_start": 58.73160126666326,
            "bin_end": 66.70061952417782,
            "count": 20
           },
           {
            "bin_start": 66.70061952417782,
            "bin_end": 74.66963778169237,
            "count": 9
           },
           {
            "bin_start": 74.66963778169237,
            "bin_end": 82.63865603920694,
            "count": 11
           }
          ]
         }
        },
        {
         "name": "PEF(B/E)",
         "dtype": "float64",
         "stats": {
          "unique_count": 43,
          "nan_count": 7,
          "min": "0.0335468649424322",
          "max": "11.469750128781858",
          "histogram": [
           {
            "bin_start": 0.0335468649424322,
            "bin_end": 1.1771671913263748,
            "count": 6
           },
           {
            "bin_start": 1.1771671913263748,
            "bin_end": 2.3207875177103174,
            "count": 0
           },
           {
            "bin_start": 2.3207875177103174,
            "bin_end": 3.4644078440942603,
            "count": 1
           },
           {
            "bin_start": 3.4644078440942603,
            "bin_end": 4.608028170478203,
            "count": 1
           },
           {
            "bin_start": 4.608028170478203,
            "bin_end": 5.7516484968621455,
            "count": 6
           },
           {
            "bin_start": 5.7516484968621455,
            "bin_end": 6.895268823246088,
            "count": 16
           },
           {
            "bin_start": 6.895268823246088,
            "bin_end": 8.03888914963003,
            "count": 4
           },
           {
            "bin_start": 8.03888914963003,
            "bin_end": 9.182509476013973,
            "count": 5
           },
           {
            "bin_start": 9.182509476013973,
            "bin_end": 10.326129802397915,
            "count": 2
           },
           {
            "bin_start": 10.326129802397915,
            "bin_end": 11.469750128781858,
            "count": 2
           }
          ]
         }
        },
        {
         "name": "RD(OHMM)",
         "dtype": "float64",
         "stats": {
          "unique_count": 46,
          "nan_count": 4,
          "min": "14.986940069335407",
          "max": "774.7437792016825",
          "histogram": [
           {
            "bin_start": 14.986940069335407,
            "bin_end": 90.96262398257011,
            "count": 6
           },
           {
            "bin_start": 90.96262398257011,
            "bin_end": 166.93830789580483,
            "count": 17
           },
           {
            "bin_start": 166.93830789580483,
            "bin_end": 242.91399180903952,
            "count": 13
           },
           {
            "bin_start": 242.91399180903952,
            "bin_end": 318.8896757222742,
            "count": 1
           },
           {
            "bin_start": 318.8896757222742,
            "bin_end": 394.8653596355089,
            "count": 1
           },
           {
            "bin_start": 394.8653596355089,
            "bin_end": 470.8410435487436,
            "count": 0
           },
           {
            "bin_start": 470.8410435487436,
            "bin_end": 546.8167274619784,
            "count": 2
           },
           {
            "bin_start": 546.8167274619784,
            "bin_end": 622.7924113752131,
            "count": 2
           },
           {
            "bin_start": 622.7924113752131,
            "bin_end": 698.7680952884477,
            "count": 0
           },
           {
            "bin_start": 698.7680952884477,
            "bin_end": 774.7437792016825,
            "count": 4
           }
          ]
         }
        },
        {
         "name": "RS(OHMM)",
         "dtype": "float64",
         "stats": {
          "unique_count": 46,
          "nan_count": 4,
          "min": "23.51207184580301",
          "max": "4523.252884467523",
          "histogram": [
           {
            "bin_start": 23.51207184580301,
            "bin_end": 473.486153107975,
            "count": 38
           },
           {
            "bin_start": 473.486153107975,
            "bin_end": 923.460234370147,
            "count": 6
           },
           {
            "bin_start": 923.460234370147,
            "bin_end": 1373.434315632319,
            "count": 0
           },
           {
            "bin_start": 1373.434315632319,
            "bin_end": 1823.408396894491,
            "count": 0
           },
           {
            "bin_start": 1823.408396894491,
            "bin_end": 2273.3824781566627,
            "count": 0
           },
           {
            "bin_start": 2273.3824781566627,
            "bin_end": 2723.356559418835,
            "count": 0
           },
           {
            "bin_start": 2723.356559418835,
            "bin_end": 3173.3306406810066,
            "count": 0
           },
           {
            "bin_start": 3173.3306406810066,
            "bin_end": 3623.3047219431787,
            "count": 0
           },
           {
            "bin_start": 3623.3047219431787,
            "bin_end": 4073.278803205351,
            "count": 1
           },
           {
            "bin_start": 4073.278803205351,
            "bin_end": 4523.252884467523,
            "count": 1
           }
          ]
         }
        },
        {
         "name": "ROP",
         "dtype": "float64",
         "stats": {
          "unique_count": 44,
          "nan_count": 6,
          "min": "4.209865270812502",
          "max": "29.956492185897183",
          "histogram": [
           {
            "bin_start": 4.209865270812502,
            "bin_end": 6.78452796232097,
            "count": 1
           },
           {
            "bin_start": 6.78452796232097,
            "bin_end": 9.359190653829438,
            "count": 2
           },
           {
            "bin_start": 9.359190653829438,
            "bin_end": 11.933853345337907,
            "count": 6
           },
           {
            "bin_start": 11.933853345337907,
            "bin_end": 14.508516036846375,
            "count": 3
           },
           {
            "bin_start": 14.508516036846375,
            "bin_end": 17.083178728354845,
            "count": 7
           },
           {
            "bin_start": 17.083178728354845,
            "bin_end": 19.65784141986331,
            "count": 3
           },
           {
            "bin_start": 19.65784141986331,
            "bin_end": 22.23250411137178,
            "count": 10
           },
           {
            "bin_start": 22.23250411137178,
            "bin_end": 24.807166802880246,
            "count": 3
           },
           {
            "bin_start": 24.807166802880246,
            "bin_end": 27.381829494388718,
            "count": 6
           },
           {
            "bin_start": 27.381829494388718,
            "bin_end": 29.956492185897183,
            "count": 3
           }
          ]
         }
        },
        {
         "name": "DENC(g/cm3)",
         "dtype": "float64",
         "stats": {
          "unique_count": 43,
          "nan_count": 7,
          "min": "-0.0045143839598518",
          "max": "0.1215127423397332",
          "histogram": [
           {
            "bin_start": -0.0045143839598518,
            "bin_end": 0.008088328670106702,
            "count": 1
           },
           {
            "bin_start": 0.008088328670106702,
            "bin_end": 0.020691041300065202,
            "count": 6
           },
           {
            "bin_start": 0.020691041300065202,
            "bin_end": 0.0332937539300237,
            "count": 4
           },
           {
            "bin_start": 0.0332937539300237,
            "bin_end": 0.0458964665599822,
            "count": 3
           },
           {
            "bin_start": 0.0458964665599822,
            "bin_end": 0.05849917918994071,
            "count": 5
           },
           {
            "bin_start": 0.05849917918994071,
            "bin_end": 0.07110189181989919,
            "count": 16
           },
           {
            "bin_start": 0.07110189181989919,
            "bin_end": 0.0837046044498577,
            "count": 4
           },
           {
            "bin_start": 0.0837046044498577,
            "bin_end": 0.0963073170798162,
            "count": 1
           },
           {
            "bin_start": 0.0963073170798162,
            "bin_end": 0.1089100297097747,
            "count": 1
           },
           {
            "bin_start": 0.1089100297097747,
            "bin_end": 0.1215127423397332,
            "count": 2
           }
          ]
         }
        },
        {
         "name": "NPHI(v/v)",
         "dtype": "float64",
         "stats": {
          "unique_count": 50,
          "nan_count": 0,
          "min": "-0.0019002511365949",
          "max": "0.3651933834280377",
          "histogram": [
           {
            "bin_start": -0.0019002511365949,
            "bin_end": 0.034809112319868364,
            "count": 2
           },
           {
            "bin_start": 0.034809112319868364,
            "bin_end": 0.07151847577633164,
            "count": 5
           },
           {
            "bin_start": 0.07151847577633164,
            "bin_end": 0.1082278392327949,
            "count": 14
           },
           {
            "bin_start": 0.1082278392327949,
            "bin_end": 0.14493720268925817,
            "count": 15
           },
           {
            "bin_start": 0.14493720268925817,
            "bin_end": 0.18164656614572142,
            "count": 2
           },
           {
            "bin_start": 0.18164656614572142,
            "bin_end": 0.2183559296021847,
            "count": 2
           },
           {
            "bin_start": 0.2183559296021847,
            "bin_end": 0.25506529305864795,
            "count": 1
           },
           {
            "bin_start": 0.25506529305864795,
            "bin_end": 0.2917746565151112,
            "count": 3
           },
           {
            "bin_start": 0.2917746565151112,
            "bin_end": 0.32848401997157445,
            "count": 4
           },
           {
            "bin_start": 0.32848401997157445,
            "bin_end": 0.3651933834280377,
            "count": 2
           }
          ]
         }
        },
        {
         "name": "Zone",
         "dtype": "object",
         "stats": {
          "unique_count": 1,
          "nan_count": 2,
          "categories": [
           {
            "name": "Upper",
            "count": 48
           },
           {
            "name": "Missing",
            "count": 2
           }
          ]
         }
        },
        {
         "name": "well_id",
         "dtype": "object",
         "stats": {
          "unique_count": 50,
          "nan_count": 0,
          "categories": [
           {
            "name": "WP0",
            "count": 1
           },
           {
            "name": "WP1",
            "count": 1
           },
           {
            "name": "48 others",
            "count": 48
           }
          ]
         }
        },
        {
         "name": "X",
         "dtype": "float64",
         "stats": {
          "unique_count": 50,
          "nan_count": 0,
          "min": "109560.26",
          "max": "142095.82",
          "histogram": [
           {
            "bin_start": 109560.26,
            "bin_end": 112813.81599999999,
            "count": 8
           },
           {
            "bin_start": 112813.81599999999,
            "bin_end": 116067.372,
            "count": 6
           },
           {
            "bin_start": 116067.372,
            "bin_end": 119320.928,
            "count": 5
           },
           {
            "bin_start": 119320.928,
            "bin_end": 122574.484,
            "count": 3
           },
           {
            "bin_start": 122574.484,
            "bin_end": 125828.04000000001,
            "count": 4
           },
           {
            "bin_start": 125828.04000000001,
            "bin_end": 129081.596,
            "count": 4
           },
           {
            "bin_start": 129081.596,
            "bin_end": 132335.152,
            "count": 3
           },
           {
            "bin_start": 132335.152,
            "bin_end": 135588.708,
            "count": 8
           },
           {
            "bin_start": 135588.708,
            "bin_end": 138842.264,
            "count": 5
           },
           {
            "bin_start": 138842.264,
            "bin_end": 142095.82,
            "count": 4
           }
          ]
         }
        },
        {
         "name": "Y",
         "dtype": "float64",
         "stats": {
          "unique_count": 50,
          "nan_count": 0,
          "min": "81747.12",
          "max": "93691.55",
          "histogram": [
           {
            "bin_start": 81747.12,
            "bin_end": 82941.563,
            "count": 5
           },
           {
            "bin_start": 82941.563,
            "bin_end": 84136.006,
            "count": 5
           },
           {
            "bin_start": 84136.006,
            "bin_end": 85330.449,
            "count": 5
           },
           {
            "bin_start": 85330.449,
            "bin_end": 86524.89199999999,
            "count": 5
           },
           {
            "bin_start": 86524.89199999999,
            "bin_end": 87719.33499999999,
            "count": 4
           },
           {
            "bin_start": 87719.33499999999,
            "bin_end": 88913.778,
            "count": 6
           },
           {
            "bin_start": 88913.778,
            "bin_end": 90108.221,
            "count": 7
           },
           {
            "bin_start": 90108.221,
            "bin_end": 91302.664,
            "count": 5
           },
           {
            "bin_start": 91302.664,
            "bin_end": 92497.107,
            "count": 6
           },
           {
            "bin_start": 92497.107,
            "bin_end": 93691.55,
            "count": 2
           }
          ]
         }
        },
        {
         "name": "Completion Zone",
         "dtype": "object",
         "stats": {
          "unique_count": 2,
          "nan_count": 0,
          "categories": [
           {
            "name": "Lower",
            "count": 30
           },
           {
            "name": "Upper",
            "count": 20
           }
          ]
         }
        },
        {
         "name": "AI_lower(2012-01-01)",
         "dtype": "float64",
         "stats": {
          "unique_count": 50,
          "nan_count": 0,
          "min": "6349.281454903185",
          "max": "6582.065934451697",
          "histogram": [
           {
            "bin_start": 6349.281454903185,
            "bin_end": 6372.5599028580355,
            "count": 1
           },
           {
            "bin_start": 6372.5599028580355,
            "bin_end": 6395.838350812887,
            "count": 1
           },
           {
            "bin_start": 6395.838350812887,
            "bin_end": 6419.116798767738,
            "count": 0
           },
           {
            "bin_start": 6419.116798767738,
            "bin_end": 6442.39524672259,
            "count": 2
           },
           {
            "bin_start": 6442.39524672259,
            "bin_end": 6465.673694677441,
            "count": 3
           },
           {
            "bin_start": 6465.673694677441,
            "bin_end": 6488.952142632292,
            "count": 5
           },
           {
            "bin_start": 6488.952142632292,
            "bin_end": 6512.2305905871435,
            "count": 6
           },
           {
            "bin_start": 6512.2305905871435,
            "bin_end": 6535.509038541994,
            "count": 9
           },
           {
            "bin_start": 6535.509038541994,
            "bin_end": 6558.787486496846,
            "count": 12
           },
           {
            "bin_start": 6558.787486496846,
            "bin_end": 6582.065934451697,
            "count": 11
           }
          ]
         }
        },
        {
         "name": "AI_lower(2021-12-20)",
         "dtype": "float64",
         "stats": {
          "unique_count": 50,
          "nan_count": 0,
          "min": "6362.714848353495",
          "max": "6677.045989447589",
          "histogram": [
           {
            "bin_start": 6362.714848353495,
            "bin_end": 6394.147962462905,
            "count": 1
           },
           {
            "bin_start": 6394.147962462905,
            "bin_end": 6425.581076572314,
            "count": 1
           },
           {
            "bin_start": 6425.581076572314,
            "bin_end": 6457.0141906817225,
            "count": 0
           },
           {
            "bin_start": 6457.0141906817225,
            "bin_end": 6488.447304791132,
            "count": 2
           },
           {
            "bin_start": 6488.447304791132,
            "bin_end": 6519.880418900542,
            "count": 5
           },
           {
            "bin_start": 6519.880418900542,
            "bin_end": 6551.313533009951,
            "count": 2
           },
           {
            "bin_start": 6551.313533009951,
            "bin_end": 6582.74664711936,
            "count": 4
           },
           {
            "bin_start": 6582.74664711936,
            "bin_end": 6614.17976122877,
            "count": 14
           },
           {
            "bin_start": 6614.17976122877,
            "bin_end": 6645.61287533818,
            "count": 11
           },
           {
            "bin_start": 6645.61287533818,
            "bin_end": 6677.045989447589,
            "count": 10
           }
          ]
         }
        },
        {
         "name": "AI_upper(2012-01-01)",
         "dtype": "float64",
         "stats": {
          "unique_count": 50,
          "nan_count": 0,
          "min": "6313.629292802599",
          "max": "6540.072143926137",
          "histogram": [
           {
            "bin_start": 6313.629292802599,
            "bin_end": 6336.2735779149525,
            "count": 1
           },
           {
            "bin_start": 6336.2735779149525,
            "bin_end": 6358.917863027306,
            "count": 0
           },
           {
            "bin_start": 6358.917863027306,
            "bin_end": 6381.56214813966,
            "count": 0
           },
           {
            "bin_start": 6381.56214813966,
            "bin_end": 6404.206433252014,
            "count": 4
           },
           {
            "bin_start": 6404.206433252014,
            "bin_end": 6426.850718364368,
            "count": 2
           },
           {
            "bin_start": 6426.850718364368,
            "bin_end": 6449.495003476722,
            "count": 0
           },
           {
            "bin_start": 6449.495003476722,
            "bin_end": 6472.1392885890755,
            "count": 5
           },
           {
            "bin_start": 6472.1392885890755,
            "bin_end": 6494.783573701429,
            "count": 10
           },
           {
            "bin_start": 6494.783573701429,
            "bin_end": 6517.427858813783,
            "count": 15
           },
           {
            "bin_start": 6517.427858813783,
            "bin_end": 6540.072143926137,
            "count": 13
           }
          ]
         }
        },
        {
         "name": "AI_upper(2021-12-20)",
         "dtype": "float64",
         "stats": {
          "unique_count": 50,
          "nan_count": 0,
          "min": "6322.47120464086",
          "max": "6546.876237249978",
          "histogram": [
           {
            "bin_start": 6322.47120464086,
            "bin_end": 6344.911707901772,
            "count": 1
           },
           {
            "bin_start": 6344.911707901772,
            "bin_end": 6367.3522111626835,
            "count": 0
           },
           {
            "bin_start": 6367.3522111626835,
            "bin_end": 6389.7927144235955,
            "count": 2
           },
           {
            "bin_start": 6389.7927144235955,
            "bin_end": 6412.2332176845075,
            "count": 2
           },
           {
            "bin_start": 6412.2332176845075,
            "bin_end": 6434.673720945419,
            "count": 2
           },
           {
            "bin_start": 6434.673720945419,
            "bin_end": 6457.114224206331,
            "count": 3
           },
           {
            "bin_start": 6457.114224206331,
            "bin_end": 6479.554727467243,
            "count": 5
           },
           {
            "bin_start": 6479.554727467243,
            "bin_end": 6501.995230728155,
            "count": 10
           },
           {
            "bin_start": 6501.995230728155,
            "bin_end": 6524.435733989066,
            "count": 11
           },
           {
            "bin_start": 6524.435733989066,
            "bin_end": 6546.876237249978,
            "count": 14
           }
          ]
         }
        },
        {
         "name": "Unnamed: 0_y",
         "dtype": "object",
         "stats": {
          "unique_count": 50,
          "nan_count": 0,
          "categories": [
           {
            "name": "WP0",
            "count": 1
           },
           {
            "name": "WP1",
            "count": 1
           },
           {
            "name": "48 others",
            "count": 48
           }
          ]
         }
        },
        {
         "name": "X(ft)_y",
         "dtype": "float64",
         "stats": {
          "unique_count": 50,
          "nan_count": 0,
          "min": "109560.26",
          "max": "142095.82",
          "histogram": [
           {
            "bin_start": 109560.26,
            "bin_end": 112813.81599999999,
            "count": 8
           },
           {
            "bin_start": 112813.81599999999,
            "bin_end": 116067.372,
            "count": 6
           },
           {
            "bin_start": 116067.372,
            "bin_end": 119320.928,
            "count": 5
           },
           {
            "bin_start": 119320.928,
            "bin_end": 122574.484,
            "count": 3
           },
           {
            "bin_start": 122574.484,
            "bin_end": 125828.04000000001,
            "count": 4
           },
           {
            "bin_start": 125828.04000000001,
            "bin_end": 129081.596,
            "count": 4
           },
           {
            "bin_start": 129081.596,
            "bin_end": 132335.152,
            "count": 3
           },
           {
            "bin_start": 132335.152,
            "bin_end": 135588.708,
            "count": 8
           },
           {
            "bin_start": 135588.708,
            "bin_end": 138842.264,
            "count": 5
           },
           {
            "bin_start": 138842.264,
            "bin_end": 142095.82,
            "count": 4
           }
          ]
         }
        },
        {
         "name": "Y(ft)_y",
         "dtype": "float64",
         "stats": {
          "unique_count": 50,
          "nan_count": 0,
          "min": "81747.12",
          "max": "93691.55",
          "histogram": [
           {
            "bin_start": 81747.12,
            "bin_end": 82941.563,
            "count": 5
           },
           {
            "bin_start": 82941.563,
            "bin_end": 84136.006,
            "count": 5
           },
           {
            "bin_start": 84136.006,
            "bin_end": 85330.449,
            "count": 5
           },
           {
            "bin_start": 85330.449,
            "bin_end": 86524.89199999999,
            "count": 5
           },
           {
            "bin_start": 86524.89199999999,
            "bin_end": 87719.33499999999,
            "count": 4
           },
           {
            "bin_start": 87719.33499999999,
            "bin_end": 88913.778,
            "count": 6
           },
           {
            "bin_start": 88913.778,
            "bin_end": 90108.221,
            "count": 7
           },
           {
            "bin_start": 90108.221,
            "bin_end": 91302.664,
            "count": 5
           },
           {
            "bin_start": 91302.664,
            "bin_end": 92497.107,
            "count": 6
           },
           {
            "bin_start": 92497.107,
            "bin_end": 93691.55,
            "count": 2
           }
          ]
         }
        },
        {
         "name": "Completion_y",
         "dtype": "object",
         "stats": {
          "unique_count": 2,
          "nan_count": 0,
          "categories": [
           {
            "name": "Lower",
            "count": 30
           },
           {
            "name": "Upper",
            "count": 20
           }
          ]
         }
        },
        {
         "name": "Elevation Kelly Bushing (ft)_y",
         "dtype": "float64",
         "stats": {
          "unique_count": 49,
          "nan_count": 0,
          "min": "160.22",
          "max": "203.85",
          "histogram": [
           {
            "bin_start": 160.22,
            "bin_end": 164.583,
            "count": 3
           },
           {
            "bin_start": 164.583,
            "bin_end": 168.946,
            "count": 1
           },
           {
            "bin_start": 168.946,
            "bin_end": 173.309,
            "count": 6
           },
           {
            "bin_start": 173.309,
            "bin_end": 177.672,
            "count": 8
           },
           {
            "bin_start": 177.672,
            "bin_end": 182.035,
            "count": 10
           },
           {
            "bin_start": 182.035,
            "bin_end": 186.398,
            "count": 10
           },
           {
            "bin_start": 186.398,
            "bin_end": 190.761,
            "count": 3
           },
           {
            "bin_start": 190.761,
            "bin_end": 195.124,
            "count": 7
           },
           {
            "bin_start": 195.124,
            "bin_end": 199.487,
            "count": 1
           },
           {
            "bin_start": 199.487,
            "bin_end": 203.85,
            "count": 1
           }
          ]
         }
        },
        {
         "name": "Sum_Production",
         "dtype": "float64",
         "stats": {
          "unique_count": 50,
          "nan_count": 0,
          "min": "0.0",
          "max": "232777.7977803",
          "histogram": [
           {
            "bin_start": 0,
            "bin_end": 23277.77977803,
            "count": 34
           },
           {
            "bin_start": 23277.77977803,
            "bin_end": 46555.55955606,
            "count": 11
           },
           {
            "bin_start": 46555.55955606,
            "bin_end": 69833.33933409,
            "count": 3
           },
           {
            "bin_start": 69833.33933409,
            "bin_end": 93111.11911212,
            "count": 1
           },
           {
            "bin_start": 93111.11911212,
            "bin_end": 116388.89889015,
            "count": 0
           },
           {
            "bin_start": 116388.89889015,
            "bin_end": 139666.67866818,
            "count": 0
           },
           {
            "bin_start": 139666.67866818,
            "bin_end": 162944.45844621,
            "count": 0
           },
           {
            "bin_start": 162944.45844621,
            "bin_end": 186222.23822424,
            "count": 0
           },
           {
            "bin_start": 186222.23822424,
            "bin_end": 209500.01800227,
            "count": 0
           },
           {
            "bin_start": 209500.01800227,
            "bin_end": 232777.7977803,
            "count": 1
           }
          ]
         }
        },
        {
         "name": "line",
         "dtype": "float64",
         "stats": {
          "unique_count": 50,
          "nan_count": 0,
          "min": "127499.4505",
          "max": "130963.3352",
          "histogram": [
           {
            "bin_start": 127499.4505,
            "bin_end": 127845.83897000001,
            "count": 2
           },
           {
            "bin_start": 127845.83897000001,
            "bin_end": 128192.22744,
            "count": 6
           },
           {
            "bin_start": 128192.22744,
            "bin_end": 128538.61591000001,
            "count": 5
           },
           {
            "bin_start": 128538.61591000001,
            "bin_end": 128885.00438,
            "count": 7
           },
           {
            "bin_start": 128885.00438,
            "bin_end": 129231.39285,
            "count": 6
           },
           {
            "bin_start": 129231.39285,
            "bin_end": 129577.78132000001,
            "count": 4
           },
           {
            "bin_start": 129577.78132000001,
            "bin_end": 129924.16979,
            "count": 5
           },
           {
            "bin_start": 129924.16979,
            "bin_end": 130270.55826,
            "count": 5
           },
           {
            "bin_start": 130270.55826,
            "bin_end": 130616.94673,
            "count": 5
           },
           {
            "bin_start": 130616.94673,
            "bin_end": 130963.3352,
            "count": 5
           }
          ]
         }
        },
        {
         "name": "Start Date",
         "dtype": "object",
         "stats": {
          "unique_count": 35,
          "nan_count": 0,
          "categories": [
           {
            "name": "1-Aug-17",
            "count": 4
           },
           {
            "name": "1-Jan-12",
            "count": 3
           },
           {
            "name": "33 others",
            "count": 43
           }
          ]
         }
        },
        {
         "name": "Well",
         "dtype": "object",
         "stats": {
          "unique_count": 50,
          "nan_count": 0,
          "categories": [
           {
            "name": "WP0",
            "count": 1
           },
           {
            "name": "WP1",
            "count": 1
           },
           {
            "name": "48 others",
            "count": 48
           }
          ]
         }
        },
        {
         "name": "Age",
         "dtype": "int64",
         "stats": {
          "unique_count": 35,
          "nan_count": 0,
          "min": "116",
          "max": "3738",
          "histogram": [
           {
            "bin_start": 116,
            "bin_end": 478.2,
            "count": 4
           },
           {
            "bin_start": 478.2,
            "bin_end": 840.4,
            "count": 2
           },
           {
            "bin_start": 840.4,
            "bin_end": 1202.6,
            "count": 6
           },
           {
            "bin_start": 1202.6,
            "bin_end": 1564.8,
            "count": 3
           },
           {
            "bin_start": 1564.8,
            "bin_end": 1927,
            "count": 9
           },
           {
            "bin_start": 1927,
            "bin_end": 2289.2,
            "count": 5
           },
           {
            "bin_start": 2289.2,
            "bin_end": 2651.4,
            "count": 6
           },
           {
            "bin_start": 2651.4,
            "bin_end": 3013.6,
            "count": 2
           },
           {
            "bin_start": 3013.6,
            "bin_end": 3375.7999999999997,
            "count": 6
           },
           {
            "bin_start": 3375.7999999999997,
            "bin_end": 3738,
            "count": 7
           }
          ]
         }
        },
        {
         "name": "_deepnote_index_column",
         "dtype": "int64"
        }
       ],
       "rows": [
        {
         "WELL": "WP0",
         "X(ft)": 137106.82,
         "Y(ft)": 83818.47,
         "Completion": "Upper",
         "Elevation Kelly Bushing (ft)": 193.32,
         "Unnamed: 0": 169,
         "MD(ft)": 4597.47173864,
         "PORO(v/v)": "nan",
         "Permeability(mD)": "nan",
         "RHOB(g/cm3)": 2.7006995833738747,
         "DTS(us/ft)": 75.0567607767724,
         "DT(us/ft)": 51.23243765402245,
         "PEF(B/E)": 6.12995677990447,
         "RD(OHMM)": "nan",
         "RS(OHMM)": "nan",
         "ROP": 10.71090544333721,
         "DENC(g/cm3)": 0.0742507290957192,
         "NPHI(v/v)": -0.0019002083130626,
         "Zone": "Upper",
         "well_id": "WP0",
         "X": 137106.82,
         "Y": 83818.47,
         "Completion Zone": "Upper",
         "AI_lower(2012-01-01)": 6557.579122129865,
         "AI_lower(2021-12-20)": 6634.826845287822,
         "AI_upper(2012-01-01)": 6530.399584115218,
         "AI_upper(2021-12-20)": 6527.288321148047,
         "Unnamed: 0_y": "WP0",
         "X(ft)_y": 137106.82,
         "Y(ft)_y": 83818.47,
         "Completion_y": "Upper",
         "Elevation Kelly Bushing (ft)_y": 193.32,
         "Sum_Production": 475.695079823,
         "line": 130362.6437,
         "Start Date": "1-Jan-12",
         "Well": "WP0",
         "Age": 3738,
         "_deepnote_index_column": 0
        },
        {
         "WELL": "WP1",
         "X(ft)": 132460.98,
         "Y(ft)": 85832.77,
         "Completion": "Upper",
         "Elevation Kelly Bushing (ft)": 187.15,
         "Unnamed: 0": 473,
         "MD(ft)": 4731.14054544,
         "PORO(v/v)": "nan",
         "Permeability(mD)": "nan",
         "RHOB(g/cm3)": 2.5642484669576984,
         "DTS(us/ft)": "nan",
         "DT(us/ft)": 2.94847346406139,
         "PEF(B/E)": "nan",
         "RD(OHMM)": 149.8891800953427,
         "RS(OHMM)": 160.0014898790773,
         "ROP": "nan",
         "DENC(g/cm3)": "nan",
         "NPHI(v/v)": 0.1005566711547895,
         "Zone": "nan",
         "well_id": "WP1",
         "X": 132460.98,
         "Y": 85832.77,
         "Completion Zone": "Upper",
         "AI_lower(2012-01-01)": 6539.368494929654,
         "AI_lower(2021-12-20)": 6609.504273550571,
         "AI_upper(2012-01-01)": 6522.790055221699,
         "AI_upper(2021-12-20)": 6523.5260633966645,
         "Unnamed: 0_y": "WP1",
         "X(ft)_y": 132460.98,
         "Y(ft)_y": 85832.77,
         "Completion_y": "Upper",
         "Elevation Kelly Bushing (ft)_y": 187.15,
         "Sum_Production": 1005.56666242,
         "line": 129778.4967,
         "Start Date": "1-Nov-16",
         "Well": "WP1",
         "Age": 1972,
         "_deepnote_index_column": 1
        },
        {
         "WELL": "WP2",
         "X(ft)": 133634,
         "Y(ft)": 82144.52,
         "Completion": "Upper",
         "Elevation Kelly Bushing (ft)": 164.55,
         "Unnamed: 0": 1228,
         "MD(ft)": 4687.021905039999,
         "PORO(v/v)": 0.068448,
         "Permeability(mD)": 0.01006,
         "RHOB(g/cm3)": 2.5748265978615263,
         "DTS(us/ft)": "nan",
         "DT(us/ft)": 65.75224797575488,
         "PEF(B/E)": 6.1618949808548775,
         "RD(OHMM)": "nan",
         "RS(OHMM)": "nan",
         "ROP": 14.69066402626796,
         "DENC(g/cm3)": 0.0611131959438036,
         "NPHI(v/v)": 0.0827365636919711,
         "Zone": "nan",
         "well_id": "WP2",
         "X": 133634,
         "Y": 82144.52,
         "Completion Zone": "Upper",
         "AI_lower(2012-01-01)": 6449.432465184377,
         "AI_lower(2021-12-20)": 6489.6928098135895,
         "AI_upper(2012-01-01)": 6474.268627558761,
         "AI_upper(2021-12-20)": 6454.475166631363,
         "Unnamed: 0_y": "WP2",
         "X(ft)_y": 133634,
         "Y(ft)_y": 82144.52,
         "Completion_y": "Upper",
         "Elevation Kelly Bushing (ft)_y": 164.55,
         "Sum_Production": 443.228898441,
         "line": 130848.0892,
         "Start Date": "1-Feb-15",
         "Well": "WP2",
         "Age": 2611,
         "_deepnote_index_column": 2
        },
        {
         "WELL": "WP3",
         "X(ft)": 140892.57,
         "Y(ft)": 81747.12,
         "Completion": "Lower",
         "Elevation Kelly Bushing (ft)": 179.92,
         "Unnamed: 0": 1875,
         "MD(ft)": 4734.05018424,
         "PORO(v/v)": 0.039348,
         "Permeability(mD)": "nan",
         "RHOB(g/cm3)": 2.690694132424912,
         "DTS(us/ft)": "nan",
         "DT(us/ft)": 71.004134787314,
         "PEF(B/E)": 6.8148824495418,
         "RD(OHMM)": 487.0650021077624,
         "RS(OHMM)": 702.5232104749978,
         "ROP": 16.644710015324907,
         "DENC(g/cm3)": 0.0627079212263687,
         "NPHI(v/v)": 0.0717521269959693,
         "Zone": "Upper",
         "well_id": "WP3",
         "X": 140892.57,
         "Y": 81747.12,
         "Completion Zone": "Lower",
         "AI_lower(2012-01-01)": 6518.87875012402,
         "AI_lower(2021-12-20)": 6586.112456245834,
         "AI_upper(2012-01-01)": 6490.674048657715,
         "AI_upper(2021-12-20)": 6505.0346677456,
         "Unnamed: 0_y": "WP3",
         "X(ft)_y": 140892.57,
         "Y(ft)_y": 81747.12,
         "Completion_y": "Lower",
         "Elevation Kelly Bushing (ft)_y": 179.92,
         "Sum_Production": 88345.368434,
         "line": 130963.3352,
         "Start Date": "1-Dec-13",
         "Well": "WP3",
         "Age": 3038,
         "_deepnote_index_column": 3
        },
        {
         "WELL": "WP4",
         "X(ft)": 109951.43,
         "Y(ft)": 89343.45,
         "Completion": "Lower",
         "Elevation Kelly Bushing (ft)": 186.21,
         "Unnamed: 0": 1920,
         "MD(ft)": 4372.42938392,
         "PORO(v/v)": "nan",
         "Permeability(mD)": "nan",
         "RHOB(g/cm3)": 2.7302676390663727,
         "DTS(us/ft)": 138.11848610857805,
         "DT(us/ft)": "nan",
         "PEF(B/E)": 0.0683011123279399,
         "RD(OHMM)": 196.09692340452,
         "RS(OHMM)": 336.5805771532051,
         "ROP": 27.34223576078364,
         "DENC(g/cm3)": 0.0683011123279399,
         "NPHI(v/v)": 0.1156348583480431,
         "Zone": "Upper",
         "well_id": "WP4",
         "X": 109951.43,
         "Y": 89343.45,
         "Completion Zone": "Lower",
         "AI_lower(2012-01-01)": 6520.969108884763,
         "AI_lower(2021-12-20)": 6611.813169321757,
         "AI_upper(2012-01-01)": 6497.152925849494,
         "AI_upper(2021-12-20)": 6500.953740996641,
         "Unnamed: 0_y": "WP4",
         "X(ft)_y": 109951.43,
         "Y(ft)_y": 89343.45,
         "Completion_y": "Lower",
         "Elevation Kelly Bushing (ft)_y": 186.21,
         "Sum_Production": 8484.7466534,
         "line": 128760.3995,
         "Start Date": "1-May-19",
         "Well": "WP4",
         "Age": 1061,
         "_deepnote_index_column": 4
        },
        {
         "WELL": "WP5",
         "X(ft)": 123950.95,
         "Y(ft)": 92227.31,
         "Completion": "Lower",
         "Elevation Kelly Bushing (ft)": 172.8,
         "Unnamed: 0": 1188,
         "MD(ft)": 4602.6620008,
         "PORO(v/v)": "nan",
         "Permeability(mD)": "nan",
         "RHOB(g/cm3)": 2.4653822551842235,
         "DTS(us/ft)": "nan",
         "DT(us/ft)": 58.66156119534286,
         "PEF(B/E)": "nan",
         "RD(OHMM)": 156.89530854868207,
         "RS(OHMM)": 226.6502777112397,
         "ROP": 14.90036022034836,
         "DENC(g/cm3)": 0.0263702812828025,
         "NPHI(v/v)": 0.045718701299265,
         "Zone": "Upper",
         "well_id": "WP5",
         "X": 123950.95,
         "Y": 92227.31,
         "Completion Zone": "Lower",
         "AI_lower(2012-01-01)": 6515.812070018329,
         "AI_lower(2021-12-20)": 6582.968018991749,
         "AI_upper(2012-01-01)": 6457.752297023458,
         "AI_upper(2021-12-20)": 6450.780934356976,
         "Unnamed: 0_y": "WP5",
         "X(ft)_y": 123950.95,
         "Y(ft)_y": 92227.31,
         "Completion_y": "Lower",
         "Elevation Kelly Bushing (ft)_y": 172.8,
         "Sum_Production": 1056.71887975,
         "line": 127924.0801,
         "Start Date": "1-Sep-15",
         "Well": "WP5",
         "Age": 2399,
         "_deepnote_index_column": 5
        },
        {
         "WELL": "WP6",
         "X(ft)": 111035.32,
         "Y(ft)": 88692.32,
         "Completion": "Lower",
         "Elevation Kelly Bushing (ft)": 182.66,
         "Unnamed: 0": 557,
         "MD(ft)": 4369.44767696,
         "PORO(v/v)": "nan",
         "Permeability(mD)": "nan",
         "RHOB(g/cm3)": "nan",
         "DTS(us/ft)": 75.05666020570676,
         "DT(us/ft)": 51.232332329544725,
         "PEF(B/E)": 6.12993761637376,
         "RD(OHMM)": 612.5130474044834,
         "RS(OHMM)": 4523.252884467523,
         "ROP": 10.710629038847896,
         "DENC(g/cm3)": "nan",
         "NPHI(v/v)": -0.0019002511365949,
         "Zone": "Upper",
         "well_id": "WP6",
         "X": 111035.32,
         "Y": 88692.32,
         "Completion Zone": "Lower",
         "AI_lower(2012-01-01)": 6543.452650221747,
         "AI_lower(2021-12-20)": 6647.156890674162,
         "AI_upper(2012-01-01)": 6514.925925445015,
         "AI_upper(2021-12-20)": 6529.617077596657,
         "Unnamed: 0_y": "WP6",
         "X(ft)_y": 111035.32,
         "Y(ft)_y": 88692.32,
         "Completion_y": "Lower",
         "Elevation Kelly Bushing (ft)_y": 182.66,
         "Sum_Production": 30999.563161600003,
         "line": 128949.2272,
         "Start Date": "1-Aug-19",
         "Well": "WP6",
         "Age": 969,
         "_deepnote_index_column": 6
        },
        {
         "WELL": "WP7",
         "X(ft)": 112439.69,
         "Y(ft)": 85560.85,
         "Completion": "Lower",
         "Elevation Kelly Bushing (ft)": 181.09,
         "Unnamed: 0": 145,
         "MD(ft)": 4434.4855276,
         "PORO(v/v)": 0.046906,
         "Permeability(mD)": "nan",
         "RHOB(g/cm3)": 2.711619072110712,
         "DTS(us/ft)": 140.4461961222227,
         "DT(us/ft)": 76.25289115773855,
         "PEF(B/E)": 0.1044942783667862,
         "RD(OHMM)": 194.3766046515248,
         "RS(OHMM)": 324.75365665680687,
         "ROP": 27.33252766624974,
         "DENC(g/cm3)": 0.1044942783667862,
         "NPHI(v/v)": 0.1300942783667862,
         "Zone": "Upper",
         "well_id": "WP7",
         "X": 112439.69,
         "Y": 85560.85,
         "Completion Zone": "Lower",
         "AI_lower(2012-01-01)": 6438.783226179554,
         "AI_lower(2021-12-20)": 6486.432394523543,
         "AI_upper(2012-01-01)": 6403.508051481458,
         "AI_upper(2021-12-20)": 6400.975612811262,
         "Unnamed: 0_y": "WP7",
         "X(ft)_y": 112439.69,
         "Y(ft)_y": 85560.85,
         "Completion_y": "Lower",
         "Elevation Kelly Bushing (ft)_y": 181.09,
         "Sum_Production": 71.108432325,
         "line": 129857.3535,
         "Start Date": "1-Feb-21",
         "Well": "WP7",
         "Age": 419,
         "_deepnote_index_column": 7
        },
        {
         "WELL": "WP8",
         "X(ft)": 127369.74,
         "Y(ft)": 91739.99,
         "Completion": "Upper",
         "Elevation Kelly Bushing (ft)": 180.04,
         "Unnamed: 0": 602,
         "MD(ft)": 4665.31913232,
         "PORO(v/v)": "nan",
         "Permeability(mD)": "nan",
         "RHOB(g/cm3)": 2.5220498977127934,
         "DTS(us/ft)": 108.39271151165282,
         "DT(us/ft)": 65.52736057277761,
         "PEF(B/E)": 6.220704277465001,
         "RD(OHMM)": 233.07493211849007,
         "RS(OHMM)": 222.61509577802067,
         "ROP": 22.37109899572561,
         "DENC(g/cm3)": 0.0609495815523368,
         "NPHI(v/v)": 0.0922497117360542,
         "Zone": "Upper",
         "well_id": "WP8",
         "X": 127369.74,
         "Y": 91739.99,
         "Completion Zone": "Upper",
         "AI_lower(2012-01-01)": 6536.424734406401,
         "AI_lower(2021-12-20)": 6600.354460047708,
         "AI_upper(2012-01-01)": 6501.718770804836,
         "AI_upper(2021-12-20)": 6500.1586499284695,
         "Unnamed: 0_y": "WP8",
         "X(ft)_y": 127369.74,
         "Y(ft)_y": 91739.99,
         "Completion_y": "Upper",
         "Elevation Kelly Bushing (ft)_y": 180.04,
         "Sum_Production": 654.7737165799999,
         "line": 128065.4029,
         "Start Date": "1-Mar-13",
         "Well": "WP8",
         "Age": 3313,
         "_deepnote_index_column": 8
        },
        {
         "WELL": "WP9",
         "X(ft)": 115943.69,
         "Y(ft)": 86730.44,
         "Completion": "Lower",
         "Elevation Kelly Bushing (ft)": 178.25,
         "Unnamed: 0": 105,
         "MD(ft)": 4593.035410719999,
         "PORO(v/v)": "nan",
         "Permeability(mD)": "nan",
         "RHOB(g/cm3)": 2.528577622373051,
         "DTS(us/ft)": "nan",
         "DT(us/ft)": 60.245580197061386,
         "PEF(B/E)": 5.909239732981968,
         "RD(OHMM)": 222.4287094700395,
         "RS(OHMM)": 309.7504831451382,
         "ROP": 20.02818397965344,
         "DENC(g/cm3)": 0.0549002542912153,
         "NPHI(v/v)": 0.1025544500962682,
         "Zone": "Upper",
         "well_id": "WP9",
         "X": 115943.69,
         "Y": 86730.44,
         "Completion Zone": "Lower",
         "AI_lower(2012-01-01)": 6457.397616798923,
         "AI_lower(2021-12-20)": 6510.109097547526,
         "AI_upper(2012-01-01)": 6411.997248681275,
         "AI_upper(2021-12-20)": 6423.840537227891,
         "Unnamed: 0_y": "WP9",
         "X(ft)_y": 115943.69,
         "Y(ft)_y": 86730.44,
         "Completion_y": "Lower",
         "Elevation Kelly Bushing (ft)_y": 178.25,
         "Sum_Production": 263.803389711,
         "line": 129518.1724,
         "Start Date": "1-May-12",
         "Well": "WP9",
         "Age": 3617,
         "_deepnote_index_column": 9
        }
       ]
      },
      "text/plain": "    WELL      X(ft)     Y(ft) Completion  Elevation Kelly Bushing (ft)  \\\n0    WP0  137106.82  83818.47      Upper                        193.32   \n1    WP1  132460.98  85832.77      Upper                        187.15   \n2    WP2  133634.00  82144.52      Upper                        164.55   \n3    WP3  140892.57  81747.12      Lower                        179.92   \n4    WP4  109951.43  89343.45      Lower                        186.21   \n5    WP5  123950.95  92227.31      Lower                        172.80   \n6    WP6  111035.32  88692.32      Lower                        182.66   \n7    WP7  112439.69  85560.85      Lower                        181.09   \n8    WP8  127369.74  91739.99      Upper                        180.04   \n9    WP9  115943.69  86730.44      Lower                        178.25   \n10  WP10  134042.86  82411.27      Upper                        184.33   \n11  WP11  115725.49  86866.60      Upper                        192.03   \n12  WP12  133136.98  93691.55      Lower                        170.35   \n13  WP13  119311.27  89234.02      Upper                        190.28   \n14  WP14  134837.26  83865.82      Lower                        182.29   \n15  WP15  109560.26  86833.62      Lower                        184.45   \n16  WP16  112898.58  91601.46      Lower                        168.63   \n17  WP17  112766.46  88549.74      Lower                        181.35   \n18  WP18  117798.78  90645.70      Upper                        194.85   \n19  WP19  110189.22  86209.71      Upper                        169.20   \n20  WP20  133687.47  83554.44      Upper                        160.22   \n21  WP21  121120.49  87804.64      Upper                        162.57   \n22  WP22  115987.29  91854.91      Upper                        182.66   \n23  WP23  139326.01  84776.42      Upper                        203.85   \n24  WP24  142095.82  86042.02      Lower                        191.24   \n25  WP25  128136.21  89359.95      Lower                        196.73   \n26  WP26  118170.11  89488.69      Lower                        180.99   \n27  WP27  129829.39  87756.99      Upper                        193.98   \n28  WP28  120522.78  89987.00      Upper                        177.29   \n29  WP29  138541.42  82281.79      Lower                        186.13   \n30  WP30  131123.52  84356.27      Upper                        177.33   \n31  WP31  136285.14  86479.95      Lower                        174.51   \n32  WP32  128675.17  89882.13      Lower                        181.33   \n33  WP33  123960.21  85279.28      Lower                        175.24   \n34  WP34  134053.71  84658.45      Lower                        193.08   \n35  WP35  122230.81  87539.37      Upper                        181.95   \n36  WP36  111749.78  91050.01      Lower                        184.00   \n37  WP37  134902.25  82632.62      Lower                        176.62   \n38  WP38  116803.31  91177.75      Lower                        192.56   \n39  WP39  111890.88  91708.68      Upper                        172.68   \n40  WP40  126601.30  90679.21      Upper                        186.60   \n41  WP41  114333.01  91616.66      Lower                        176.49   \n42  WP42  136532.27  83571.51      Lower                        170.61   \n43  WP43  115684.27  89895.78      Lower                        175.11   \n44  WP44  118629.90  88703.87      Lower                        171.95   \n45  WP45  129176.30  93171.14      Upper                        177.87   \n46  WP46  139046.81  84476.47      Lower                        176.61   \n47  WP47  137407.15  84099.13      Lower                        183.12   \n48  WP48  124094.80  90648.76      Lower                        185.65   \n49  WP49  123188.65  88556.29      Lower                        178.53   \n\n    Unnamed: 0       MD(ft)  PORO(v/v)  Permeability(mD)  RHOB(g/cm3)  ...  \\\n0          169  4597.471739        NaN               NaN     2.700700  ...   \n1          473  4731.140545        NaN               NaN     2.564248  ...   \n2         1228  4687.021905   0.068448          0.010060     2.574827  ...   \n3         1875  4734.050184   0.039348               NaN     2.690694  ...   \n4         1920  4372.429384        NaN               NaN     2.730268  ...   \n5         1188  4602.662001        NaN               NaN     2.465382  ...   \n6          557  4369.447677        NaN               NaN          NaN  ...   \n7          145  4434.485528   0.046906               NaN     2.711619  ...   \n8          602  4665.319132        NaN               NaN     2.522050  ...   \n9          105  4593.035411        NaN               NaN     2.528578  ...   \n10         645  4683.694657        NaN               NaN     2.516155  ...   \n11         124  4595.509023        NaN               NaN     2.974076  ...   \n12        1823  4785.310995        NaN               NaN     2.415313  ...   \n13        1311  4387.671055        NaN               NaN     2.756594  ...   \n14        1269  4647.122978        NaN               NaN     2.528518  ...   \n15        1831  4264.801183        NaN               NaN     2.518762  ...   \n16          65  4435.008038   0.124279               NaN     2.515232  ...   \n17         687  4452.999989        NaN               NaN     2.507533  ...   \n18         209  4407.886377   0.111971               NaN     2.292304  ...   \n19         516  4228.005683   0.066728          0.022170     2.914309  ...   \n20        1735  4690.730722        NaN               NaN     2.672096  ...   \n21        1401  4399.473771        NaN               NaN     2.365943  ...   \n22         733  4461.531112        NaN               NaN     2.454220  ...   \n23          27  4494.588966        NaN               NaN     2.742443  ...   \n24           0  4494.121710        NaN               NaN     2.772266  ...   \n25         772  4755.778183        NaN               NaN     2.725119  ...   \n26        1356  4378.793994        NaN               NaN     2.729460  ...   \n27        1777  4801.502794        NaN               NaN     2.948346  ...   \n28        1443  4449.730000   0.084210          1.867752     2.497648  ...   \n29        1689  4708.704256        NaN               NaN     2.553667  ...   \n30        1105  4722.806016        NaN               NaN     2.522051  ...   \n31        1528  4582.487521        NaN               NaN     2.980176  ...   \n32         254  4737.267323   0.054707          0.003393     2.869471  ...   \n33         987  4464.996094        NaN               NaN     2.355620  ...   \n34         899  4667.341505        NaN               NaN     2.730281  ...   \n35         300  4448.031544        NaN               NaN     2.392885  ...   \n36        1489  4400.517188        NaN               NaN     2.541571  ...   \n37        1146  4670.408495   0.086999               NaN     2.533129  ...   \n38        1603  4427.087511        NaN               NaN     2.955643  ...   \n39        1008  4414.798722        NaN               NaN     2.602440  ...   \n40         427  4696.310967        NaN               NaN     2.485574  ...   \n41         818  4469.508895        NaN               NaN     2.566796  ...   \n42        1065  4617.357539        NaN               NaN     2.565888  ...   \n43        1558  4444.615011   0.094476          0.058904     2.504679  ...   \n44        1646  4368.415868        NaN               NaN     2.509171  ...   \n45        1044  4677.518233        NaN               NaN     2.806890  ...   \n46         859  4514.767050        NaN               NaN     2.569489  ...   \n47         388  4580.744218        NaN               NaN     2.633396  ...   \n48         941  4545.026572        NaN               NaN     2.436966  ...   \n49         342  4499.985829        NaN               NaN     2.740638  ...   \n\n    Unnamed: 0_y    X(ft)_y   Y(ft)_y  Completion_y  \\\n0            WP0  137106.82  83818.47         Upper   \n1            WP1  132460.98  85832.77         Upper   \n2            WP2  133634.00  82144.52         Upper   \n3            WP3  140892.57  81747.12         Lower   \n4            WP4  109951.43  89343.45         Lower   \n5            WP5  123950.95  92227.31         Lower   \n6            WP6  111035.32  88692.32         Lower   \n7            WP7  112439.69  85560.85         Lower   \n8            WP8  127369.74  91739.99         Upper   \n9            WP9  115943.69  86730.44         Lower   \n10          WP10  134042.86  82411.27         Upper   \n11          WP11  115725.49  86866.60         Upper   \n12          WP12  133136.98  93691.55         Lower   \n13          WP13  119311.27  89234.02         Upper   \n14          WP14  134837.26  83865.82         Lower   \n15          WP15  109560.26  86833.62         Lower   \n16          WP16  112898.58  91601.46         Lower   \n17          WP17  112766.46  88549.74         Lower   \n18          WP18  117798.78  90645.70         Upper   \n19          WP19  110189.22  86209.71         Upper   \n20          WP20  133687.47  83554.44         Upper   \n21          WP21  121120.49  87804.64         Upper   \n22          WP22  115987.29  91854.91         Upper   \n23          WP23  139326.01  84776.42         Upper   \n24          WP24  142095.82  86042.02         Lower   \n25          WP25  128136.21  89359.95         Lower   \n26          WP26  118170.11  89488.69         Lower   \n27          WP27  129829.39  87756.99         Upper   \n28          WP28  120522.78  89987.00         Upper   \n29          WP29  138541.42  82281.79         Lower   \n30          WP30  131123.52  84356.27         Upper   \n31          WP31  136285.14  86479.95         Lower   \n32          WP32  128675.17  89882.13         Lower   \n33          WP33  123960.21  85279.28         Lower   \n34          WP34  134053.71  84658.45         Lower   \n35          WP35  122230.81  87539.37         Upper   \n36          WP36  111749.78  91050.01         Lower   \n37          WP37  134902.25  82632.62         Lower   \n38          WP38  116803.31  91177.75         Lower   \n39          WP39  111890.88  91708.68         Upper   \n40          WP40  126601.30  90679.21         Upper   \n41          WP41  114333.01  91616.66         Lower   \n42          WP42  136532.27  83571.51         Lower   \n43          WP43  115684.27  89895.78         Lower   \n44          WP44  118629.90  88703.87         Lower   \n45          WP45  129176.30  93171.14         Upper   \n46          WP46  139046.81  84476.47         Lower   \n47          WP47  137407.15  84099.13         Lower   \n48          WP48  124094.80  90648.76         Lower   \n49          WP49  123188.65  88556.29         Lower   \n\n    Elevation Kelly Bushing (ft)_y  Sum_Production         line  Start Date  \\\n0                           193.32      475.695080  130362.6437    1-Jan-12   \n1                           187.15     1005.566662  129778.4967    1-Nov-16   \n2                           164.55      443.228898  130848.0892    1-Feb-15   \n3                           179.92    88345.368434  130963.3352    1-Dec-13   \n4                           186.21     8484.746653  128760.3995    1-May-19   \n5                           172.80     1056.718880  127924.0801    1-Sep-15   \n6                           182.66    30999.563162  128949.2272    1-Aug-19   \n7                           181.09       71.108432  129857.3535    1-Feb-21   \n8                           180.04      654.773717  128065.4029    1-Mar-13   \n9                           178.25      263.803390  129518.1724    1-May-12   \n10                          184.33     1576.345443  130770.7317    1-Apr-19   \n11                          192.03        0.000000  129478.6860    1-Jan-12   \n12                          170.35       57.822977  127499.4505    1-Dec-13   \n13                          190.28     1787.406680  128792.1342    1-Jun-15   \n14                          182.29    17534.952878  130348.9122    1-Jul-14   \n15                          184.45    45903.089669  129488.2502    1-Apr-12   \n16                          168.63    53733.523751  128105.5766    1-Dec-17   \n17                          181.35    17780.451483  128990.5754    1-Aug-12   \n18                          194.85    27653.205286  128382.7470    1-Jan-12   \n19                          169.20      354.104875  129669.1841    1-Aug-14   \n20                          160.22      870.011682  130439.2124    1-Apr-20   \n21                          162.57       60.019034  129206.6544    1-Dec-18   \n22                          182.66      342.147423  128032.0761    1-Mar-19   \n23                          203.85      497.725573  130084.8382    1-Sep-13   \n24                          191.24     4880.211255  129717.8142    1-Aug-17   \n25                          196.73    18598.340498  128755.6145    1-Apr-15   \n26                          180.99    18012.790032  128718.2799    1-Sep-18   \n27                          193.98      471.480349  129220.4729    1-Apr-17   \n28                          177.29     9973.879346  128573.7700    1-Jan-15   \n29                          186.13    28364.833877  130808.2809    1-Jan-18   \n30                          177.33       56.256269  130206.6817    1-Dec-17   \n31                          174.51    10134.846534  129590.8145    1-Feb-16   \n32                          181.33     3236.954768  128604.1823    1-Dec-21   \n33                          175.24        9.678521  129939.0088    1-Sep-12   \n34                          193.08    38372.619772  130119.0495    1-Jun-16   \n35                          181.95       22.018241  129283.5827    1-Apr-21   \n36                          184.00    12816.906661  128265.4971    1-Apr-19   \n37                          176.62    32097.835676  130706.5402    1-Jan-15   \n38                          192.56    48464.152107  128228.4525    1-Oct-17   \n39                          172.68      199.353498  128074.4828    1-Aug-16   \n40                          186.60       99.036248  128373.0291    1-Dec-21   \n41                          176.49    31704.785319  128101.1686    1-Sep-13   \n42                          170.61    61917.442307  130434.2621    1-Aug-17   \n43                          175.11   232777.797780  128600.2238    1-Mar-13   \n44                          171.95    24014.837487  128945.8777    1-Aug-17   \n45                          177.87        7.267656  127650.3694    1-Nov-17   \n46                          176.61    27494.021370  130171.8237    1-Apr-20   \n47                          183.12    36459.588667  130281.2523    1-Aug-19   \n48                          185.65    29287.593741  128381.8596    1-Nov-16   \n49                          178.53    18969.223454  128988.6759    1-Aug-17   \n\n    Well   Age  \n0    WP0  3738  \n1    WP1  1972  \n2    WP2  2611  \n3    WP3  3038  \n4    WP4  1061  \n5    WP5  2399  \n6    WP6   969  \n7    WP7   419  \n8    WP8  3313  \n9    WP9  3617  \n10  WP10  1091  \n11  WP11  3738  \n12  WP12  3038  \n13  WP13  2491  \n14  WP14  2826  \n15  WP15  3647  \n16  WP16  1577  \n17  WP17  3525  \n18  WP18  3738  \n19  WP19  2795  \n20  WP20   725  \n21  WP21  1212  \n22  WP22  1122  \n23  WP23  3129  \n24  WP24  1699  \n25  WP25  2552  \n26  WP26  1303  \n27  WP27  1821  \n28  WP28  2642  \n29  WP29  1546  \n30  WP30  1577  \n31  WP31  2246  \n32  WP32   116  \n33  WP33  3494  \n34  WP34  2125  \n35  WP35   360  \n36  WP36  1091  \n37  WP37  2642  \n38  WP38  1638  \n39  WP39  2064  \n40  WP40   116  \n41  WP41  3129  \n42  WP42  1699  \n43  WP43  3313  \n44  WP44  1699  \n45  WP45  1607  \n46  WP46   725  \n47  WP47   969  \n48  WP48  1972  \n49  WP49  1699  \n\n[50 rows x 37 columns]",
      "text/html": "<div>\n<style scoped>\n    .dataframe tbody tr th:only-of-type {\n        vertical-align: middle;\n    }\n\n    .dataframe tbody tr th {\n        vertical-align: top;\n    }\n\n    .dataframe thead th {\n        text-align: right;\n    }\n</style>\n<table border=\"1\" class=\"dataframe\">\n  <thead>\n    <tr style=\"text-align: right;\">\n      <th></th>\n      <th>WELL</th>\n      <th>X(ft)</th>\n      <th>Y(ft)</th>\n      <th>Completion</th>\n      <th>Elevation Kelly Bushing (ft)</th>\n      <th>Unnamed: 0</th>\n      <th>MD(ft)</th>\n      <th>PORO(v/v)</th>\n      <th>Permeability(mD)</th>\n      <th>RHOB(g/cm3)</th>\n      <th>...</th>\n      <th>Unnamed: 0_y</th>\n      <th>X(ft)_y</th>\n      <th>Y(ft)_y</th>\n      <th>Completion_y</th>\n      <th>Elevation Kelly Bushing (ft)_y</th>\n      <th>Sum_Production</th>\n      <th>line</th>\n      <th>Start Date</th>\n      <th>Well</th>\n      <th>Age</th>\n    </tr>\n  </thead>\n  <tbody>\n    <tr>\n      <th>0</th>\n      <td>WP0</td>\n      <td>137106.82</td>\n      <td>83818.47</td>\n      <td>Upper</td>\n      <td>193.32</td>\n      <td>169</td>\n      <td>4597.471739</td>\n      <td>NaN</td>\n      <td>NaN</td>\n      <td>2.700700</td>\n      <td>...</td>\n      <td>WP0</td>\n      <td>137106.82</td>\n      <td>83818.47</td>\n      <td>Upper</td>\n      <td>193.32</td>\n      <td>475.695080</td>\n      <td>130362.6437</td>\n      <td>1-Jan-12</td>\n      <td>WP0</td>\n      <td>3738</td>\n    </tr>\n    <tr>\n      <th>1</th>\n      <td>WP1</td>\n      <td>132460.98</td>\n      <td>85832.77</td>\n      <td>Upper</td>\n      <td>187.15</td>\n      <td>473</td>\n      <td>4731.140545</td>\n      <td>NaN</td>\n      <td>NaN</td>\n      <td>2.564248</td>\n      <td>...</td>\n      <td>WP1</td>\n      <td>132460.98</td>\n      <td>85832.77</td>\n      <td>Upper</td>\n      <td>187.15</td>\n      <td>1005.566662</td>\n      <td>129778.4967</td>\n      <td>1-Nov-16</td>\n      <td>WP1</td>\n      <td>1972</td>\n    </tr>\n    <tr>\n      <th>2</th>\n      <td>WP2</td>\n      <td>133634.00</td>\n      <td>82144.52</td>\n      <td>Upper</td>\n      <td>164.55</td>\n      <td>1228</td>\n      <td>4687.021905</td>\n      <td>0.068448</td>\n      <td>0.010060</td>\n      <td>2.574827</td>\n      <td>...</td>\n      <td>WP2</td>\n      <td>133634.00</td>\n      <td>82144.52</td>\n      <td>Upper</td>\n      <td>164.55</td>\n      <td>443.228898</td>\n      <td>130848.0892</td>\n      <td>1-Feb-15</td>\n      <td>WP2</td>\n      <td>2611</td>\n    </tr>\n    <tr>\n      <th>3</th>\n      <td>WP3</td>\n      <td>140892.57</td>\n      <td>81747.12</td>\n      <td>Lower</td>\n      <td>179.92</td>\n      <td>1875</td>\n      <td>4734.050184</td>\n      <td>0.039348</td>\n      <td>NaN</td>\n      <td>2.690694</td>\n      <td>...</td>\n      <td>WP3</td>\n      <td>140892.57</td>\n      <td>81747.12</td>\n      <td>Lower</td>\n      <td>179.92</td>\n      <td>88345.368434</td>\n      <td>130963.3352</td>\n      <td>1-Dec-13</td>\n      <td>WP3</td>\n      <td>3038</td>\n    </tr>\n    <tr>\n      <th>4</th>\n      <td>WP4</td>\n      <td>109951.43</td>\n      <td>89343.45</td>\n      <td>Lower</td>\n      <td>186.21</td>\n      <td>1920</td>\n      <td>4372.429384</td>\n      <td>NaN</td>\n      <td>NaN</td>\n      <td>2.730268</td>\n      <td>...</td>\n      <td>WP4</td>\n      <td>109951.43</td>\n      <td>89343.45</td>\n      <td>Lower</td>\n      <td>186.21</td>\n      <td>8484.746653</td>\n      <td>128760.3995</td>\n      <td>1-May-19</td>\n      <td>WP4</td>\n      <td>1061</td>\n    </tr>\n    <tr>\n      <th>5</th>\n      <td>WP5</td>\n      <td>123950.95</td>\n      <td>92227.31</td>\n      <td>Lower</td>\n      <td>172.80</td>\n      <td>1188</td>\n      <td>4602.662001</td>\n      <td>NaN</td>\n      <td>NaN</td>\n      <td>2.465382</td>\n      <td>...</td>\n      <td>WP5</td>\n      <td>123950.95</td>\n      <td>92227.31</td>\n      <td>Lower</td>\n      <td>172.80</td>\n      <td>1056.718880</td>\n      <td>127924.0801</td>\n      <td>1-Sep-15</td>\n      <td>WP5</td>\n      <td>2399</td>\n    </tr>\n    <tr>\n      <th>6</th>\n      <td>WP6</td>\n      <td>111035.32</td>\n      <td>88692.32</td>\n      <td>Lower</td>\n      <td>182.66</td>\n      <td>557</td>\n      <td>4369.447677</td>\n      <td>NaN</td>\n      <td>NaN</td>\n      <td>NaN</td>\n      <td>...</td>\n      <td>WP6</td>\n      <td>111035.32</td>\n      <td>88692.32</td>\n      <td>Lower</td>\n      <td>182.66</td>\n      <td>30999.563162</td>\n      <td>128949.2272</td>\n      <td>1-Aug-19</td>\n      <td>WP6</td>\n      <td>969</td>\n    </tr>\n    <tr>\n      <th>7</th>\n      <td>WP7</td>\n      <td>112439.69</td>\n      <td>85560.85</td>\n      <td>Lower</td>\n      <td>181.09</td>\n      <td>145</td>\n      <td>4434.485528</td>\n      <td>0.046906</td>\n      <td>NaN</td>\n      <td>2.711619</td>\n      <td>...</td>\n      <td>WP7</td>\n      <td>112439.69</td>\n      <td>85560.85</td>\n      <td>Lower</td>\n      <td>181.09</td>\n      <td>71.108432</td>\n      <td>129857.3535</td>\n      <td>1-Feb-21</td>\n      <td>WP7</td>\n      <td>419</td>\n    </tr>\n    <tr>\n      <th>8</th>\n      <td>WP8</td>\n      <td>127369.74</td>\n      <td>91739.99</td>\n      <td>Upper</td>\n      <td>180.04</td>\n      <td>602</td>\n      <td>4665.319132</td>\n      <td>NaN</td>\n      <td>NaN</td>\n      <td>2.522050</td>\n      <td>...</td>\n      <td>WP8</td>\n      <td>127369.74</td>\n      <td>91739.99</td>\n      <td>Upper</td>\n      <td>180.04</td>\n      <td>654.773717</td>\n      <td>128065.4029</td>\n      <td>1-Mar-13</td>\n      <td>WP8</td>\n      <td>3313</td>\n    </tr>\n    <tr>\n      <th>9</th>\n      <td>WP9</td>\n      <td>115943.69</td>\n      <td>86730.44</td>\n      <td>Lower</td>\n      <td>178.25</td>\n      <td>105</td>\n      <td>4593.035411</td>\n      <td>NaN</td>\n      <td>NaN</td>\n      <td>2.528578</td>\n      <td>...</td>\n      <td>WP9</td>\n      <td>115943.69</td>\n      <td>86730.44</td>\n      <td>Lower</td>\n      <td>178.25</td>\n      <td>263.803390</td>\n      <td>129518.1724</td>\n      <td>1-May-12</td>\n      <td>WP9</td>\n      <td>3617</td>\n    </tr>\n    <tr>\n      <th>10</th>\n      <td>WP10</td>\n      <td>134042.86</td>\n      <td>82411.27</td>\n      <td>Upper</td>\n      <td>184.33</td>\n      <td>645</td>\n      <td>4683.694657</td>\n      <td>NaN</td>\n      <td>NaN</td>\n      <td>2.516155</td>\n      <td>...</td>\n      <td>WP10</td>\n      <td>134042.86</td>\n      <td>82411.27</td>\n      <td>Upper</td>\n      <td>184.33</td>\n      <td>1576.345443</td>\n      <td>130770.7317</td>\n      <td>1-Apr-19</td>\n      <td>WP10</td>\n      <td>1091</td>\n    </tr>\n    <tr>\n      <th>11</th>\n      <td>WP11</td>\n      <td>115725.49</td>\n      <td>86866.60</td>\n      <td>Upper</td>\n      <td>192.03</td>\n      <td>124</td>\n      <td>4595.509023</td>\n      <td>NaN</td>\n      <td>NaN</td>\n      <td>2.974076</td>\n      <td>...</td>\n      <td>WP11</td>\n      <td>115725.49</td>\n      <td>86866.60</td>\n      <td>Upper</td>\n      <td>192.03</td>\n      <td>0.000000</td>\n      <td>129478.6860</td>\n      <td>1-Jan-12</td>\n      <td>WP11</td>\n      <td>3738</td>\n    </tr>\n    <tr>\n      <th>12</th>\n      <td>WP12</td>\n      <td>133136.98</td>\n      <td>93691.55</td>\n      <td>Lower</td>\n      <td>170.35</td>\n      <td>1823</td>\n      <td>4785.310995</td>\n      <td>NaN</td>\n      <td>NaN</td>\n      <td>2.415313</td>\n      <td>...</td>\n      <td>WP12</td>\n      <td>133136.98</td>\n      <td>93691.55</td>\n      <td>Lower</td>\n      <td>170.35</td>\n      <td>57.822977</td>\n      <td>127499.4505</td>\n      <td>1-Dec-13</td>\n      <td>WP12</td>\n      <td>3038</td>\n    </tr>\n    <tr>\n      <th>13</th>\n      <td>WP13</td>\n      <td>119311.27</td>\n      <td>89234.02</td>\n      <td>Upper</td>\n      <td>190.28</td>\n      <td>1311</td>\n      <td>4387.671055</td>\n      <td>NaN</td>\n      <td>NaN</td>\n      <td>2.756594</td>\n      <td>...</td>\n      <td>WP13</td>\n      <td>119311.27</td>\n      <td>89234.02</td>\n      <td>Upper</td>\n      <td>190.28</td>\n      <td>1787.406680</td>\n      <td>128792.1342</td>\n      <td>1-Jun-15</td>\n      <td>WP13</td>\n      <td>2491</td>\n    </tr>\n    <tr>\n      <th>14</th>\n      <td>WP14</td>\n      <td>134837.26</td>\n      <td>83865.82</td>\n      <td>Lower</td>\n      <td>182.29</td>\n      <td>1269</td>\n      <td>4647.122978</td>\n      <td>NaN</td>\n      <td>NaN</td>\n      <td>2.528518</td>\n      <td>...</td>\n      <td>WP14</td>\n      <td>134837.26</td>\n      <td>83865.82</td>\n      <td>Lower</td>\n      <td>182.29</td>\n      <td>17534.952878</td>\n      <td>130348.9122</td>\n      <td>1-Jul-14</td>\n      <td>WP14</td>\n      <td>2826</td>\n    </tr>\n    <tr>\n      <th>15</th>\n      <td>WP15</td>\n      <td>109560.26</td>\n      <td>86833.62</td>\n      <td>Lower</td>\n      <td>184.45</td>\n      <td>1831</td>\n      <td>4264.801183</td>\n      <td>NaN</td>\n      <td>NaN</td>\n      <td>2.518762</td>\n      <td>...</td>\n      <td>WP15</td>\n      <td>109560.26</td>\n      <td>86833.62</td>\n      <td>Lower</td>\n      <td>184.45</td>\n      <td>45903.089669</td>\n      <td>129488.2502</td>\n      <td>1-Apr-12</td>\n      <td>WP15</td>\n      <td>3647</td>\n    </tr>\n    <tr>\n      <th>16</th>\n      <td>WP16</td>\n      <td>112898.58</td>\n      <td>91601.46</td>\n      <td>Lower</td>\n      <td>168.63</td>\n      <td>65</td>\n      <td>4435.008038</td>\n      <td>0.124279</td>\n      <td>NaN</td>\n      <td>2.515232</td>\n      <td>...</td>\n      <td>WP16</td>\n      <td>112898.58</td>\n      <td>91601.46</td>\n      <td>Lower</td>\n      <td>168.63</td>\n      <td>53733.523751</td>\n      <td>128105.5766</td>\n      <td>1-Dec-17</td>\n      <td>WP16</td>\n      <td>1577</td>\n    </tr>\n    <tr>\n      <th>17</th>\n      <td>WP17</td>\n      <td>112766.46</td>\n      <td>88549.74</td>\n      <td>Lower</td>\n      <td>181.35</td>\n      <td>687</td>\n      <td>4452.999989</td>\n      <td>NaN</td>\n      <td>NaN</td>\n      <td>2.507533</td>\n      <td>...</td>\n      <td>WP17</td>\n      <td>112766.46</td>\n      <td>88549.74</td>\n      <td>Lower</td>\n      <td>181.35</td>\n      <td>17780.451483</td>\n      <td>128990.5754</td>\n      <td>1-Aug-12</td>\n      <td>WP17</td>\n      <td>3525</td>\n    </tr>\n    <tr>\n      <th>18</th>\n      <td>WP18</td>\n      <td>117798.78</td>\n      <td>90645.70</td>\n      <td>Upper</td>\n      <td>194.85</td>\n      <td>209</td>\n      <td>4407.886377</td>\n      <td>0.111971</td>\n      <td>NaN</td>\n      <td>2.292304</td>\n      <td>...</td>\n      <td>WP18</td>\n      <td>117798.78</td>\n      <td>90645.70</td>\n      <td>Upper</td>\n      <td>194.85</td>\n      <td>27653.205286</td>\n      <td>128382.7470</td>\n      <td>1-Jan-12</td>\n      <td>WP18</td>\n      <td>3738</td>\n    </tr>\n    <tr>\n      <th>19</th>\n      <td>WP19</td>\n      <td>110189.22</td>\n      <td>86209.71</td>\n      <td>Upper</td>\n      <td>169.20</td>\n      <td>516</td>\n      <td>4228.005683</td>\n      <td>0.066728</td>\n      <td>0.022170</td>\n      <td>2.914309</td>\n      <td>...</td>\n      <td>WP19</td>\n      <td>110189.22</td>\n      <td>86209.71</td>\n      <td>Upper</td>\n      <td>169.20</td>\n      <td>354.104875</td>\n      <td>129669.1841</td>\n      <td>1-Aug-14</td>\n      <td>WP19</td>\n      <td>2795</td>\n    </tr>\n    <tr>\n      <th>20</th>\n      <td>WP20</td>\n      <td>133687.47</td>\n      <td>83554.44</td>\n      <td>Upper</td>\n      <td>160.22</td>\n      <td>1735</td>\n      <td>4690.730722</td>\n      <td>NaN</td>\n      <td>NaN</td>\n      <td>2.672096</td>\n      <td>...</td>\n      <td>WP20</td>\n      <td>133687.47</td>\n      <td>83554.44</td>\n      <td>Upper</td>\n      <td>160.22</td>\n      <td>870.011682</td>\n      <td>130439.2124</td>\n      <td>1-Apr-20</td>\n      <td>WP20</td>\n      <td>725</td>\n    </tr>\n    <tr>\n      <th>21</th>\n      <td>WP21</td>\n      <td>121120.49</td>\n      <td>87804.64</td>\n      <td>Upper</td>\n      <td>162.57</td>\n      <td>1401</td>\n      <td>4399.473771</td>\n      <td>NaN</td>\n      <td>NaN</td>\n      <td>2.365943</td>\n      <td>...</td>\n      <td>WP21</td>\n      <td>121120.49</td>\n      <td>87804.64</td>\n      <td>Upper</td>\n      <td>162.57</td>\n      <td>60.019034</td>\n      <td>129206.6544</td>\n      <td>1-Dec-18</td>\n      <td>WP21</td>\n      <td>1212</td>\n    </tr>\n    <tr>\n      <th>22</th>\n      <td>WP22</td>\n      <td>115987.29</td>\n      <td>91854.91</td>\n      <td>Upper</td>\n      <td>182.66</td>\n      <td>733</td>\n      <td>4461.531112</td>\n      <td>NaN</td>\n      <td>NaN</td>\n      <td>2.454220</td>\n      <td>...</td>\n      <td>WP22</td>\n      <td>115987.29</td>\n      <td>91854.91</td>\n      <td>Upper</td>\n      <td>182.66</td>\n      <td>342.147423</td>\n      <td>128032.0761</td>\n      <td>1-Mar-19</td>\n      <td>WP22</td>\n      <td>1122</td>\n    </tr>\n    <tr>\n      <th>23</th>\n      <td>WP23</td>\n      <td>139326.01</td>\n      <td>84776.42</td>\n      <td>Upper</td>\n      <td>203.85</td>\n      <td>27</td>\n      <td>4494.588966</td>\n      <td>NaN</td>\n      <td>NaN</td>\n      <td>2.742443</td>\n      <td>...</td>\n      <td>WP23</td>\n      <td>139326.01</td>\n      <td>84776.42</td>\n      <td>Upper</td>\n      <td>203.85</td>\n      <td>497.725573</td>\n      <td>130084.8382</td>\n      <td>1-Sep-13</td>\n      <td>WP23</td>\n      <td>3129</td>\n    </tr>\n    <tr>\n      <th>24</th>\n      <td>WP24</td>\n      <td>142095.82</td>\n      <td>86042.02</td>\n      <td>Lower</td>\n      <td>191.24</td>\n      <td>0</td>\n      <td>4494.121710</td>\n      <td>NaN</td>\n      <td>NaN</td>\n      <td>2.772266</td>\n      <td>...</td>\n      <td>WP24</td>\n      <td>142095.82</td>\n      <td>86042.02</td>\n      <td>Lower</td>\n      <td>191.24</td>\n      <td>4880.211255</td>\n      <td>129717.8142</td>\n      <td>1-Aug-17</td>\n      <td>WP24</td>\n      <td>1699</td>\n    </tr>\n    <tr>\n      <th>25</th>\n      <td>WP25</td>\n      <td>128136.21</td>\n      <td>89359.95</td>\n      <td>Lower</td>\n      <td>196.73</td>\n      <td>772</td>\n      <td>4755.778183</td>\n      <td>NaN</td>\n      <td>NaN</td>\n      <td>2.725119</td>\n      <td>...</td>\n      <td>WP25</td>\n      <td>128136.21</td>\n      <td>89359.95</td>\n      <td>Lower</td>\n      <td>196.73</td>\n      <td>18598.340498</td>\n      <td>128755.6145</td>\n      <td>1-Apr-15</td>\n      <td>WP25</td>\n      <td>2552</td>\n    </tr>\n    <tr>\n      <th>26</th>\n      <td>WP26</td>\n      <td>118170.11</td>\n      <td>89488.69</td>\n      <td>Lower</td>\n      <td>180.99</td>\n      <td>1356</td>\n      <td>4378.793994</td>\n      <td>NaN</td>\n      <td>NaN</td>\n      <td>2.729460</td>\n      <td>...</td>\n      <td>WP26</td>\n      <td>118170.11</td>\n      <td>89488.69</td>\n      <td>Lower</td>\n      <td>180.99</td>\n      <td>18012.790032</td>\n      <td>128718.2799</td>\n      <td>1-Sep-18</td>\n      <td>WP26</td>\n      <td>1303</td>\n    </tr>\n    <tr>\n      <th>27</th>\n      <td>WP27</td>\n      <td>129829.39</td>\n      <td>87756.99</td>\n      <td>Upper</td>\n      <td>193.98</td>\n      <td>1777</td>\n      <td>4801.502794</td>\n      <td>NaN</td>\n      <td>NaN</td>\n      <td>2.948346</td>\n      <td>...</td>\n      <td>WP27</td>\n      <td>129829.39</td>\n      <td>87756.99</td>\n      <td>Upper</td>\n      <td>193.98</td>\n      <td>471.480349</td>\n      <td>129220.4729</td>\n      <td>1-Apr-17</td>\n      <td>WP27</td>\n      <td>1821</td>\n    </tr>\n    <tr>\n      <th>28</th>\n      <td>WP28</td>\n      <td>120522.78</td>\n      <td>89987.00</td>\n      <td>Upper</td>\n      <td>177.29</td>\n      <td>1443</td>\n      <td>4449.730000</td>\n      <td>0.084210</td>\n      <td>1.867752</td>\n      <td>2.497648</td>\n      <td>...</td>\n      <td>WP28</td>\n      <td>120522.78</td>\n      <td>89987.00</td>\n      <td>Upper</td>\n      <td>177.29</td>\n      <td>9973.879346</td>\n      <td>128573.7700</td>\n      <td>1-Jan-15</td>\n      <td>WP28</td>\n      <td>2642</td>\n    </tr>\n    <tr>\n      <th>29</th>\n      <td>WP29</td>\n      <td>138541.42</td>\n      <td>82281.79</td>\n      <td>Lower</td>\n      <td>186.13</td>\n      <td>1689</td>\n      <td>4708.704256</td>\n      <td>NaN</td>\n      <td>NaN</td>\n      <td>2.553667</td>\n      <td>...</td>\n      <td>WP29</td>\n      <td>138541.42</td>\n      <td>82281.79</td>\n      <td>Lower</td>\n      <td>186.13</td>\n      <td>28364.833877</td>\n      <td>130808.2809</td>\n      <td>1-Jan-18</td>\n      <td>WP29</td>\n      <td>1546</td>\n    </tr>\n    <tr>\n      <th>30</th>\n      <td>WP30</td>\n      <td>131123.52</td>\n      <td>84356.27</td>\n      <td>Upper</td>\n      <td>177.33</td>\n      <td>1105</td>\n      <td>4722.806016</td>\n      <td>NaN</td>\n      <td>NaN</td>\n      <td>2.522051</td>\n      <td>...</td>\n      <td>WP30</td>\n      <td>131123.52</td>\n      <td>84356.27</td>\n      <td>Upper</td>\n      <td>177.33</td>\n      <td>56.256269</td>\n      <td>130206.6817</td>\n      <td>1-Dec-17</td>\n      <td>WP30</td>\n      <td>1577</td>\n    </tr>\n    <tr>\n      <th>31</th>\n      <td>WP31</td>\n      <td>136285.14</td>\n      <td>86479.95</td>\n      <td>Lower</td>\n      <td>174.51</td>\n      <td>1528</td>\n      <td>4582.487521</td>\n      <td>NaN</td>\n      <td>NaN</td>\n      <td>2.980176</td>\n      <td>...</td>\n      <td>WP31</td>\n      <td>136285.14</td>\n      <td>86479.95</td>\n      <td>Lower</td>\n      <td>174.51</td>\n      <td>10134.846534</td>\n      <td>129590.8145</td>\n      <td>1-Feb-16</td>\n      <td>WP31</td>\n      <td>2246</td>\n    </tr>\n    <tr>\n      <th>32</th>\n      <td>WP32</td>\n      <td>128675.17</td>\n      <td>89882.13</td>\n      <td>Lower</td>\n      <td>181.33</td>\n      <td>254</td>\n      <td>4737.267323</td>\n      <td>0.054707</td>\n      <td>0.003393</td>\n      <td>2.869471</td>\n      <td>...</td>\n      <td>WP32</td>\n      <td>128675.17</td>\n      <td>89882.13</td>\n      <td>Lower</td>\n      <td>181.33</td>\n      <td>3236.954768</td>\n      <td>128604.1823</td>\n      <td>1-Dec-21</td>\n      <td>WP32</td>\n      <td>116</td>\n    </tr>\n    <tr>\n      <th>33</th>\n      <td>WP33</td>\n      <td>123960.21</td>\n      <td>85279.28</td>\n      <td>Lower</td>\n      <td>175.24</td>\n      <td>987</td>\n      <td>4464.996094</td>\n      <td>NaN</td>\n      <td>NaN</td>\n      <td>2.355620</td>\n      <td>...</td>\n      <td>WP33</td>\n      <td>123960.21</td>\n      <td>85279.28</td>\n      <td>Lower</td>\n      <td>175.24</td>\n      <td>9.678521</td>\n      <td>129939.0088</td>\n      <td>1-Sep-12</td>\n      <td>WP33</td>\n      <td>3494</td>\n    </tr>\n    <tr>\n      <th>34</th>\n      <td>WP34</td>\n      <td>134053.71</td>\n      <td>84658.45</td>\n      <td>Lower</td>\n      <td>193.08</td>\n      <td>899</td>\n      <td>4667.341505</td>\n      <td>NaN</td>\n      <td>NaN</td>\n      <td>2.730281</td>\n      <td>...</td>\n      <td>WP34</td>\n      <td>134053.71</td>\n      <td>84658.45</td>\n      <td>Lower</td>\n      <td>193.08</td>\n      <td>38372.619772</td>\n      <td>130119.0495</td>\n      <td>1-Jun-16</td>\n      <td>WP34</td>\n      <td>2125</td>\n    </tr>\n    <tr>\n      <th>35</th>\n      <td>WP35</td>\n      <td>122230.81</td>\n      <td>87539.37</td>\n      <td>Upper</td>\n      <td>181.95</td>\n      <td>300</td>\n      <td>4448.031544</td>\n      <td>NaN</td>\n      <td>NaN</td>\n      <td>2.392885</td>\n      <td>...</td>\n      <td>WP35</td>\n      <td>122230.81</td>\n      <td>87539.37</td>\n      <td>Upper</td>\n      <td>181.95</td>\n      <td>22.018241</td>\n      <td>129283.5827</td>\n      <td>1-Apr-21</td>\n      <td>WP35</td>\n      <td>360</td>\n    </tr>\n    <tr>\n      <th>36</th>\n      <td>WP36</td>\n      <td>111749.78</td>\n      <td>91050.01</td>\n      <td>Lower</td>\n      <td>184.00</td>\n      <td>1489</td>\n      <td>4400.517188</td>\n      <td>NaN</td>\n      <td>NaN</td>\n      <td>2.541571</td>\n      <td>...</td>\n      <td>WP36</td>\n      <td>111749.78</td>\n      <td>91050.01</td>\n      <td>Lower</td>\n      <td>184.00</td>\n      <td>12816.906661</td>\n      <td>128265.4971</td>\n      <td>1-Apr-19</td>\n      <td>WP36</td>\n      <td>1091</td>\n    </tr>\n    <tr>\n      <th>37</th>\n      <td>WP37</td>\n      <td>134902.25</td>\n      <td>82632.62</td>\n      <td>Lower</td>\n      <td>176.62</td>\n      <td>1146</td>\n      <td>4670.408495</td>\n      <td>0.086999</td>\n      <td>NaN</td>\n      <td>2.533129</td>\n      <td>...</td>\n      <td>WP37</td>\n      <td>134902.25</td>\n      <td>82632.62</td>\n      <td>Lower</td>\n      <td>176.62</td>\n      <td>32097.835676</td>\n      <td>130706.5402</td>\n      <td>1-Jan-15</td>\n      <td>WP37</td>\n      <td>2642</td>\n    </tr>\n    <tr>\n      <th>38</th>\n      <td>WP38</td>\n      <td>116803.31</td>\n      <td>91177.75</td>\n      <td>Lower</td>\n      <td>192.56</td>\n      <td>1603</td>\n      <td>4427.087511</td>\n      <td>NaN</td>\n      <td>NaN</td>\n      <td>2.955643</td>\n      <td>...</td>\n      <td>WP38</td>\n      <td>116803.31</td>\n      <td>91177.75</td>\n      <td>Lower</td>\n      <td>192.56</td>\n      <td>48464.152107</td>\n      <td>128228.4525</td>\n      <td>1-Oct-17</td>\n      <td>WP38</td>\n      <td>1638</td>\n    </tr>\n    <tr>\n      <th>39</th>\n      <td>WP39</td>\n      <td>111890.88</td>\n      <td>91708.68</td>\n      <td>Upper</td>\n      <td>172.68</td>\n      <td>1008</td>\n      <td>4414.798722</td>\n      <td>NaN</td>\n      <td>NaN</td>\n      <td>2.602440</td>\n      <td>...</td>\n      <td>WP39</td>\n      <td>111890.88</td>\n      <td>91708.68</td>\n      <td>Upper</td>\n      <td>172.68</td>\n      <td>199.353498</td>\n      <td>128074.4828</td>\n      <td>1-Aug-16</td>\n      <td>WP39</td>\n      <td>2064</td>\n    </tr>\n    <tr>\n      <th>40</th>\n      <td>WP40</td>\n      <td>126601.30</td>\n      <td>90679.21</td>\n      <td>Upper</td>\n      <td>186.60</td>\n      <td>427</td>\n      <td>4696.310967</td>\n      <td>NaN</td>\n      <td>NaN</td>\n      <td>2.485574</td>\n      <td>...</td>\n      <td>WP40</td>\n      <td>126601.30</td>\n      <td>90679.21</td>\n      <td>Upper</td>\n      <td>186.60</td>\n      <td>99.036248</td>\n      <td>128373.0291</td>\n      <td>1-Dec-21</td>\n      <td>WP40</td>\n      <td>116</td>\n    </tr>\n    <tr>\n      <th>41</th>\n      <td>WP41</td>\n      <td>114333.01</td>\n      <td>91616.66</td>\n      <td>Lower</td>\n      <td>176.49</td>\n      <td>818</td>\n      <td>4469.508895</td>\n      <td>NaN</td>\n      <td>NaN</td>\n      <td>2.566796</td>\n      <td>...</td>\n      <td>WP41</td>\n      <td>114333.01</td>\n      <td>91616.66</td>\n      <td>Lower</td>\n      <td>176.49</td>\n      <td>31704.785319</td>\n      <td>128101.1686</td>\n      <td>1-Sep-13</td>\n      <td>WP41</td>\n      <td>3129</td>\n    </tr>\n    <tr>\n      <th>42</th>\n      <td>WP42</td>\n      <td>136532.27</td>\n      <td>83571.51</td>\n      <td>Lower</td>\n      <td>170.61</td>\n      <td>1065</td>\n      <td>4617.357539</td>\n      <td>NaN</td>\n      <td>NaN</td>\n      <td>2.565888</td>\n      <td>...</td>\n      <td>WP42</td>\n      <td>136532.27</td>\n      <td>83571.51</td>\n      <td>Lower</td>\n      <td>170.61</td>\n      <td>61917.442307</td>\n      <td>130434.2621</td>\n      <td>1-Aug-17</td>\n      <td>WP42</td>\n      <td>1699</td>\n    </tr>\n    <tr>\n      <th>43</th>\n      <td>WP43</td>\n      <td>115684.27</td>\n      <td>89895.78</td>\n      <td>Lower</td>\n      <td>175.11</td>\n      <td>1558</td>\n      <td>4444.615011</td>\n      <td>0.094476</td>\n      <td>0.058904</td>\n      <td>2.504679</td>\n      <td>...</td>\n      <td>WP43</td>\n      <td>115684.27</td>\n      <td>89895.78</td>\n      <td>Lower</td>\n      <td>175.11</td>\n      <td>232777.797780</td>\n      <td>128600.2238</td>\n      <td>1-Mar-13</td>\n      <td>WP43</td>\n      <td>3313</td>\n    </tr>\n    <tr>\n      <th>44</th>\n      <td>WP44</td>\n      <td>118629.90</td>\n      <td>88703.87</td>\n      <td>Lower</td>\n      <td>171.95</td>\n      <td>1646</td>\n      <td>4368.415868</td>\n      <td>NaN</td>\n      <td>NaN</td>\n      <td>2.509171</td>\n      <td>...</td>\n      <td>WP44</td>\n      <td>118629.90</td>\n      <td>88703.87</td>\n      <td>Lower</td>\n      <td>171.95</td>\n      <td>24014.837487</td>\n      <td>128945.8777</td>\n      <td>1-Aug-17</td>\n      <td>WP44</td>\n      <td>1699</td>\n    </tr>\n    <tr>\n      <th>45</th>\n      <td>WP45</td>\n      <td>129176.30</td>\n      <td>93171.14</td>\n      <td>Upper</td>\n      <td>177.87</td>\n      <td>1044</td>\n      <td>4677.518233</td>\n      <td>NaN</td>\n      <td>NaN</td>\n      <td>2.806890</td>\n      <td>...</td>\n      <td>WP45</td>\n      <td>129176.30</td>\n      <td>93171.14</td>\n      <td>Upper</td>\n      <td>177.87</td>\n      <td>7.267656</td>\n      <td>127650.3694</td>\n      <td>1-Nov-17</td>\n      <td>WP45</td>\n      <td>1607</td>\n    </tr>\n    <tr>\n      <th>46</th>\n      <td>WP46</td>\n      <td>139046.81</td>\n      <td>84476.47</td>\n      <td>Lower</td>\n      <td>176.61</td>\n      <td>859</td>\n      <td>4514.767050</td>\n      <td>NaN</td>\n      <td>NaN</td>\n      <td>2.569489</td>\n      <td>...</td>\n      <td>WP46</td>\n      <td>139046.81</td>\n      <td>84476.47</td>\n      <td>Lower</td>\n      <td>176.61</td>\n      <td>27494.021370</td>\n      <td>130171.8237</td>\n      <td>1-Apr-20</td>\n      <td>WP46</td>\n      <td>725</td>\n    </tr>\n    <tr>\n      <th>47</th>\n      <td>WP47</td>\n      <td>137407.15</td>\n      <td>84099.13</td>\n      <td>Lower</td>\n      <td>183.12</td>\n      <td>388</td>\n      <td>4580.744218</td>\n      <td>NaN</td>\n      <td>NaN</td>\n      <td>2.633396</td>\n      <td>...</td>\n      <td>WP47</td>\n      <td>137407.15</td>\n      <td>84099.13</td>\n      <td>Lower</td>\n      <td>183.12</td>\n      <td>36459.588667</td>\n      <td>130281.2523</td>\n      <td>1-Aug-19</td>\n      <td>WP47</td>\n      <td>969</td>\n    </tr>\n    <tr>\n      <th>48</th>\n      <td>WP48</td>\n      <td>124094.80</td>\n      <td>90648.76</td>\n      <td>Lower</td>\n      <td>185.65</td>\n      <td>941</td>\n      <td>4545.026572</td>\n      <td>NaN</td>\n      <td>NaN</td>\n      <td>2.436966</td>\n      <td>...</td>\n      <td>WP48</td>\n      <td>124094.80</td>\n      <td>90648.76</td>\n      <td>Lower</td>\n      <td>185.65</td>\n      <td>29287.593741</td>\n      <td>128381.8596</td>\n      <td>1-Nov-16</td>\n      <td>WP48</td>\n      <td>1972</td>\n    </tr>\n    <tr>\n      <th>49</th>\n      <td>WP49</td>\n      <td>123188.65</td>\n      <td>88556.29</td>\n      <td>Lower</td>\n      <td>178.53</td>\n      <td>342</td>\n      <td>4499.985829</td>\n      <td>NaN</td>\n      <td>NaN</td>\n      <td>2.740638</td>\n      <td>...</td>\n      <td>WP49</td>\n      <td>123188.65</td>\n      <td>88556.29</td>\n      <td>Lower</td>\n      <td>178.53</td>\n      <td>18969.223454</td>\n      <td>128988.6759</td>\n      <td>1-Aug-17</td>\n      <td>WP49</td>\n      <td>1699</td>\n    </tr>\n  </tbody>\n</table>\n<p>50 rows × 37 columns</p>\n</div>"
     },
     "metadata": {}
    }
   ]
  },
  {
   "cell_type": "code",
   "metadata": {
    "cell_id": "a706588c4c31486f8d1f30ef80bb9a0c",
    "tags": [],
    "deepnote_to_be_reexecuted": false,
    "source_hash": "d372fbf0",
    "execution_start": 1648388505947,
    "execution_millis": 2485,
    "is_output_hidden": false,
    "deepnote_cell_type": "code",
    "deepnote_cell_height": 1570.875,
    "deepnote_output_heights": [
     517.90625,
     513.703125
    ]
   },
   "source": "t = np.linspace(75000, 97500, 100)\nfault = -.29*t + 154670\n\nfig, ax = plt.subplots(2, 3, figsize=(30,20))\nai['Y(ft)'] = ai['Y']\nai['X(ft)'] = ai['X']\n\n#ax[0][0] = plt.figure(figsize=(10,10))\nax[0][0].scatter(ai['Y(ft)'], ai['X(ft)'], c=ai['AI_upper(2012-01-01)'], )\nuppers = wells[wells['Completion'] == 'Upper']\nax[0][0].scatter(uppers['Y(ft)'], uppers['X(ft)'], s=uppers['Sum_Production']/50, c=uppers['Age'], cmap='gray')\nax[0][0].scatter(t, fault, s=5, c='black', marker='x', label='faultline')\nax[0][0].set_title('UPPER - 2012', fontsize=30)\n\n#ax[1][0] = plt.figure(figsize=(10,10))\nax[1][0].scatter(ai['Y(ft)'], ai['X(ft)'], c=ai['AI_lower(2012-01-01)'], )\nlowers = wells[wells['Completion'] == 'Lower']\nax[1][0].scatter(lowers['Y(ft)'], lowers['X(ft)'], s=lowers['Sum_Production']/50, c=lowers['Age'], cmap='gray')\nax[1][0].set_title('LOWER - 2012', fontsize=30)\nax[1][0].scatter(t, fault, s=5, c='black', marker='x', label='faultline')\n\n#ax[0][1] = plt.figure(figsize=(10,10))\nax[0][1].scatter(ai['Y(ft)'], ai['X(ft)'], c=ai['AI_upper(2021-12-20)'], )\nuppers = wells[wells['Completion'] == 'Upper']\nax[0][1].scatter(uppers['Y(ft)'], uppers['X(ft)'], s=uppers['Sum_Production']/50, c=uppers['Age'], cmap='gray')\nax[0][1].set_title('UPPER - 2021', fontsize=30)\nax[0][1].scatter(t, fault, s=5, c='black', marker='x', label='faultline')\n\n#ax[1][1] = plt.figure(figsize=(10,10))\nax[1][1].scatter(ai['Y(ft)'], ai['X(ft)'], c=ai['AI_lower(2021-12-20)'], )\nlowers = wells[wells['Completion'] == 'Lower']\nax[1][1].scatter(lowers['Y(ft)'], lowers['X(ft)'], s=lowers['Sum_Production']/50, c=lowers['Age'], cmap='gray')\nax[1][1].set_title('Lower - 2021', fontsize=30)\nax[1][1].scatter(t, fault, s=5, c='black', marker='x', label='faultline')\n\n#ax[0][2] = plt.figure(figsize=(10,10))\nax[1][2].scatter(ai['Y(ft)'], ai['X(ft)'], c= -ai['AI_lower(2012-01-01)'] + ai['AI_lower(2021-12-20)'], )\nlowers = wells[wells['Completion'] == 'Lower']\nax[1][2].scatter(lowers['Y(ft)'], lowers['X(ft)'], s=lowers['Sum_Production']/50, c=lowers['Age'], cmap='gray')\nax[1][2].set_title('LOWER - Difference', fontsize=30)\nax[1][2].scatter(t, fault, s=5, c='black', marker='x', label='faultline')\n\n#ax[1][2] = plt.figure(figsize=(10,10))\nax[0][2].scatter(ai['Y(ft)'], ai['X(ft)'], c=-ai['AI_upper(2012-01-01)'] + ai['AI_upper(2021-12-20)'], )\nuppers = wells[wells['Completion'] == 'Upper']\nax[0][2].scatter(uppers['Y(ft)'], uppers['X(ft)'], s=uppers['Sum_Production']/50, c=uppers['Age'], cmap='gray')\nax[0][2].set_title('UPPER - Difference', fontsize=30)\nax[0][2].scatter(t, fault, s=5, c='black', marker='x', label='faultline')\n# validate using existing wells\nplt.show()",
   "execution_count": 6,
   "outputs": [
    {
     "output_type": "error",
     "ename": "NameError",
     "evalue": "name 'ai' is not defined",
     "traceback": [
      "\u001b[0;31m---------------------------------------------------------------------------\u001b[0m",
      "\u001b[0;31mNameError\u001b[0m                                 Traceback (most recent call last)",
      "\u001b[0;32m<ipython-input-6-ea639d97e44f>\u001b[0m in \u001b[0;36m<module>\u001b[0;34m\u001b[0m\n\u001b[1;32m      3\u001b[0m \u001b[0;34m\u001b[0m\u001b[0m\n\u001b[1;32m      4\u001b[0m \u001b[0mfig\u001b[0m\u001b[0;34m,\u001b[0m \u001b[0max\u001b[0m \u001b[0;34m=\u001b[0m \u001b[0mplt\u001b[0m\u001b[0;34m.\u001b[0m\u001b[0msubplots\u001b[0m\u001b[0;34m(\u001b[0m\u001b[0;36m2\u001b[0m\u001b[0;34m,\u001b[0m \u001b[0;36m3\u001b[0m\u001b[0;34m,\u001b[0m \u001b[0mfigsize\u001b[0m\u001b[0;34m=\u001b[0m\u001b[0;34m(\u001b[0m\u001b[0;36m30\u001b[0m\u001b[0;34m,\u001b[0m\u001b[0;36m20\u001b[0m\u001b[0;34m)\u001b[0m\u001b[0;34m)\u001b[0m\u001b[0;34m\u001b[0m\u001b[0;34m\u001b[0m\u001b[0m\n\u001b[0;32m----> 5\u001b[0;31m \u001b[0mai\u001b[0m\u001b[0;34m[\u001b[0m\u001b[0;34m'Y(ft)'\u001b[0m\u001b[0;34m]\u001b[0m \u001b[0;34m=\u001b[0m \u001b[0mai\u001b[0m\u001b[0;34m[\u001b[0m\u001b[0;34m'Y'\u001b[0m\u001b[0;34m]\u001b[0m\u001b[0;34m\u001b[0m\u001b[0;34m\u001b[0m\u001b[0m\n\u001b[0m\u001b[1;32m      6\u001b[0m \u001b[0mai\u001b[0m\u001b[0;34m[\u001b[0m\u001b[0;34m'X(ft)'\u001b[0m\u001b[0;34m]\u001b[0m \u001b[0;34m=\u001b[0m \u001b[0mai\u001b[0m\u001b[0;34m[\u001b[0m\u001b[0;34m'X'\u001b[0m\u001b[0;34m]\u001b[0m\u001b[0;34m\u001b[0m\u001b[0;34m\u001b[0m\u001b[0m\n\u001b[1;32m      7\u001b[0m \u001b[0;34m\u001b[0m\u001b[0m\n",
      "\u001b[0;31mNameError\u001b[0m: name 'ai' is not defined"
     ]
    },
    {
     "data": {
      "text/plain": "<Figure size 2160x1440 with 6 Axes>",
      "image/png": "[encoded data removed]"
     },
     "metadata": {
      "needs_background": "light",
      "image/png": {
       "width": 1719,
       "height": 1122
      }
     },
     "output_type": "display_data"
    }
   ]
  },
  {
   "cell_type": "code",
   "metadata": {
    "cell_id": "93a8f092938f464fae90e238b964adfe",
    "tags": [],
    "deepnote_to_be_reexecuted": true,
    "source_hash": "32b3c3f6",
    "execution_start": 1648324399054,
    "execution_millis": 31,
    "deepnote_cell_type": "code",
    "deepnote_cell_height": 155.375,
    "deepnote_output_heights": [
     40.375
    ]
   },
   "source": "keep = wm[wm['PORO(v/v)'].notna()]\nnp.corrcoef(keep['AI_upper(2012-01-01)'], keep['PORO(v/v)'])",
   "execution_count": null,
   "outputs": [
    {
     "output_type": "execute_result",
     "execution_count": 103,
     "data": {
      "text/plain": "array([[1.        , 0.25983493],\n       [0.25983493, 1.        ]])"
     },
     "metadata": {}
    }
   ]
  },
  {
   "cell_type": "code",
   "metadata": {
    "cell_id": "402dbfa879e74b70ae4e30368b2b3dee",
    "tags": [],
    "deepnote_to_be_reexecuted": true,
    "source_hash": "11643c69",
    "allow_embed": false,
    "execution_start": 1648324434035,
    "execution_millis": 794,
    "deepnote_cell_type": "code",
    "deepnote_cell_height": 399.171875,
    "deepnote_output_heights": [
     21.1875,
     250
    ]
   },
   "source": "plt.scatter(keep['AI_upper(2012-01-01)'], keep['PORO(v/v)'])",
   "execution_count": null,
   "outputs": [
    {
     "output_type": "execute_result",
     "execution_count": 104,
     "data": {
      "text/plain": "<matplotlib.collections.PathCollection at 0x7f0033136ed0>"
     },
     "metadata": {}
    },
    {
     "data": {
      "text/plain": "<Figure size 432x288 with 1 Axes>",
      "image/png": "[encoded data removed]"
     },
     "metadata": {
      "needs_background": "light",
      "image/png": {
       "width": 378,
       "height": 248
      }
     },
     "output_type": "display_data"
    }
   ]
  },
  {
   "cell_type": "code",
   "metadata": {
    "cell_id": "7e84fd643e9f4092a8c2cd7cd18cf6a9",
    "tags": [],
    "deepnote_to_be_reexecuted": true,
    "source_hash": "e7a6b980",
    "execution_start": 1648272015216,
    "execution_millis": 388943,
    "deepnote_cell_type": "code",
    "deepnote_cell_height": 459
   },
   "source": "for well in wm['well_id'].unique():\n    w = wells[wells['WELL'] == well]\n    x = w['X(ft)'].iloc[0]\n    y = w['Y(ft)'].iloc[0]\n    min_dist = 9999999999\n    min_loc = 0\n    for i, pt in enumerate(ai.iterrows()):\n        dist = np.linalg.norm(np.array([x,y]) - np.array([pt[1]['X(ft)'], pt[1]['Y(ft)']]))\n        if dist < min_dist:\n            min_loc = i\n            min_dist = dist\n\n    wells.loc[wells['WELL']==well, 'AI_lower(2012-01-01)'] = ai.iloc[min_loc]['AI_lower(2012-01-01)']\n    wells.loc[wells['WELL']==well, 'AI_lower(2021-12-20)'] = ai.iloc[min_loc]['AI_lower(2021-12-20)']\n    wells.loc[wells['WELL']==well, 'AI_upper(2012-01-01)'] = ai.iloc[min_loc]['AI_upper(2012-01-01)']\n    wells.loc[wells['WELL']==well, 'AI_upper(2021-12-20)'] = ai.iloc[min_loc]['AI_upper(2021-12-20)']\n    wells.loc[wells['WELL']==well, 'nearest AI X(ft)'] = ai.iloc[min_loc]['X(ft)']\n    wells.loc[wells['WELL']==well, 'nearest AI Y(ft)'] = ai.iloc[min_loc]['Y(ft)']\n    \n    #ai_local = ai[(ai['X(ft)'] == x) & (ai['Y(ft)'] == y)]\n\n    #print(ai_local)",
   "execution_count": null,
   "outputs": []
  },
  {
   "cell_type": "code",
   "metadata": {
    "cell_id": "f7fc16056d3d472c89f682a3f22ccc8c",
    "tags": [],
    "deepnote_to_be_reexecuted": true,
    "source_hash": "34509582",
    "execution_start": 1648273952680,
    "execution_millis": 112,
    "deepnote_table_state": {
     "pageSize": 10,
     "pageIndex": 0,
     "filters": [],
     "sortBy": []
    },
    "deepnote_table_loading": false,
    "deepnote_cell_type": "code",
    "deepnote_cell_height": 613.265625
   },
   "source": "wells",
   "execution_count": null,
   "outputs": [
    {
     "output_type": "execute_result",
     "execution_count": 112,
     "data": {
      "application/vnd.deepnote.dataframe.v3+json": {
       "column_count": 12,
       "row_count": 50,
       "columns": [
        {
         "name": "WELL",
         "dtype": "object",
         "stats": {
          "unique_count": 50,
          "nan_count": 0,
          "categories": [
           {
            "name": "WP0",
            "count": 1
           },
           {
            "name": "WP1",
            "count": 1
           },
           {
            "name": "48 others",
            "count": 48
           }
          ]
         }
        },
        {
         "name": "X(ft)",
         "dtype": "float64",
         "stats": {
          "unique_count": 50,
          "nan_count": 0,
          "min": "109560.26",
          "max": "142095.82",
          "histogram": [
           {
            "bin_start": 109560.26,
            "bin_end": 112813.81599999999,
            "count": 8
           },
           {
            "bin_start": 112813.81599999999,
            "bin_end": 116067.372,
            "count": 6
           },
           {
            "bin_start": 116067.372,
            "bin_end": 119320.928,
            "count": 5
           },
           {
            "bin_start": 119320.928,
            "bin_end": 122574.484,
            "count": 3
           },
           {
            "bin_start": 122574.484,
            "bin_end": 125828.04000000001,
            "count": 4
           },
           {
            "bin_start": 125828.04000000001,
            "bin_end": 129081.596,
            "count": 4
           },
           {
            "bin_start": 129081.596,
            "bin_end": 132335.152,
            "count": 3
           },
           {
            "bin_start": 132335.152,
            "bin_end": 135588.708,
            "count": 8
           },
           {
            "bin_start": 135588.708,
            "bin_end": 138842.264,
            "count": 5
           },
           {
            "bin_start": 138842.264,
            "bin_end": 142095.82,
            "count": 4
           }
          ]
         }
        },
        {
         "name": "Y(ft)",
         "dtype": "float64",
         "stats": {
          "unique_count": 50,
          "nan_count": 0,
          "min": "81747.12",
          "max": "93691.55",
          "histogram": [
           {
            "bin_start": 81747.12,
            "bin_end": 82941.563,
            "count": 5
           },
           {
            "bin_start": 82941.563,
            "bin_end": 84136.006,
            "count": 5
           },
           {
            "bin_start": 84136.006,
            "bin_end": 85330.449,
            "count": 5
           },
           {
            "bin_start": 85330.449,
            "bin_end": 86524.89199999999,
            "count": 5
           },
           {
            "bin_start": 86524.89199999999,
            "bin_end": 87719.33499999999,
            "count": 4
           },
           {
            "bin_start": 87719.33499999999,
            "bin_end": 88913.778,
            "count": 6
           },
           {
            "bin_start": 88913.778,
            "bin_end": 90108.221,
            "count": 7
           },
           {
            "bin_start": 90108.221,
            "bin_end": 91302.664,
            "count": 5
           },
           {
            "bin_start": 91302.664,
            "bin_end": 92497.107,
            "count": 6
           },
           {
            "bin_start": 92497.107,
            "bin_end": 93691.55,
            "count": 2
           }
          ]
         }
        },
        {
         "name": "Completion",
         "dtype": "object",
         "stats": {
          "unique_count": 2,
          "nan_count": 0,
          "categories": [
           {
            "name": "Lower",
            "count": 30
           },
           {
            "name": "Upper",
            "count": 20
           }
          ]
         }
        },
        {
         "name": "Elevation Kelly Bushing (ft)",
         "dtype": "float64",
         "stats": {
          "unique_count": 49,
          "nan_count": 0,
          "min": "160.22",
          "max": "203.85",
          "histogram": [
           {
            "bin_start": 160.22,
            "bin_end": 164.583,
            "count": 3
           },
           {
            "bin_start": 164.583,
            "bin_end": 168.946,
            "count": 1
           },
           {
            "bin_start": 168.946,
            "bin_end": 173.309,
            "count": 6
           },
           {
            "bin_start": 173.309,
            "bin_end": 177.672,
            "count": 8
           },
           {
            "bin_start": 177.672,
            "bin_end": 182.035,
            "count": 10
           },
           {
            "bin_start": 182.035,
            "bin_end": 186.398,
            "count": 10
           },
           {
            "bin_start": 186.398,
            "bin_end": 190.761,
            "count": 3
           },
           {
            "bin_start": 190.761,
            "bin_end": 195.124,
            "count": 7
           },
           {
            "bin_start": 195.124,
            "bin_end": 199.487,
            "count": 1
           },
           {
            "bin_start": 199.487,
            "bin_end": 203.85,
            "count": 1
           }
          ]
         }
        },
        {
         "name": "line",
         "dtype": "float64",
         "stats": {
          "unique_count": 50,
          "nan_count": 0,
          "min": "151208.1235",
          "max": "206510.83440000005",
          "histogram": [
           {
            "bin_start": 151208.1235,
            "bin_end": 156738.39458999998,
            "count": 2
           },
           {
            "bin_start": 156738.39458999998,
            "bin_end": 162268.66568,
            "count": 6
           },
           {
            "bin_start": 162268.66568,
            "bin_end": 167798.93677,
            "count": 5
           },
           {
            "bin_start": 167798.93677,
            "bin_end": 173329.20786000002,
            "count": 7
           },
           {
            "bin_start": 173329.20786000002,
            "bin_end": 178859.47895000002,
            "count": 6
           },
           {
            "bin_start": 178859.47895000002,
            "bin_end": 184389.75004,
            "count": 4
           },
           {
            "bin_start": 184389.75004,
            "bin_end": 189920.02113000004,
            "count": 5
           },
           {
            "bin_start": 189920.02113000004,
            "bin_end": 195450.29222000003,
            "count": 5
           },
           {
            "bin_start": 195450.29222000003,
            "bin_end": 200980.56331000006,
            "count": 5
           },
           {
            "bin_start": 200980.56331000006,
            "bin_end": 206510.83440000005,
            "count": 5
           }
          ]
         }
        },
        {
         "name": "AI_lower(2012-01-01)",
         "dtype": "float64",
         "stats": {
          "unique_count": 50,
          "nan_count": 0,
          "min": "6349.281454903185",
          "max": "6582.065934451697",
          "histogram": [
           {
            "bin_start": 6349.281454903185,
            "bin_end": 6372.5599028580355,
            "count": 1
           },
           {
            "bin_start": 6372.5599028580355,
            "bin_end": 6395.838350812887,
            "count": 1
           },
           {
            "bin_start": 6395.838350812887,
            "bin_end": 6419.116798767738,
            "count": 0
           },
           {
            "bin_start": 6419.116798767738,
            "bin_end": 6442.39524672259,
            "count": 2
           },
           {
            "bin_start": 6442.39524672259,
            "bin_end": 6465.673694677441,
            "count": 3
           },
           {
            "bin_start": 6465.673694677441,
            "bin_end": 6488.952142632292,
            "count": 5
           },
           {
            "bin_start": 6488.952142632292,
            "bin_end": 6512.2305905871435,
            "count": 6
           },
           {
            "bin_start": 6512.2305905871435,
            "bin_end": 6535.509038541994,
            "count": 9
           },
           {
            "bin_start": 6535.509038541994,
            "bin_end": 6558.787486496846,
            "count": 12
           },
           {
            "bin_start": 6558.787486496846,
            "bin_end": 6582.065934451697,
            "count": 11
           }
          ]
         }
        },
        {
         "name": "AI_lower(2021-12-20)",
         "dtype": "float64",
         "stats": {
          "unique_count": 50,
          "nan_count": 0,
          "min": "6362.714848353495",
          "max": "6677.045989447589",
          "histogram": [
           {
            "bin_start": 6362.714848353495,
            "bin_end": 6394.147962462905,
            "count": 1
           },
           {
            "bin_start": 6394.147962462905,
            "bin_end": 6425.581076572314,
            "count": 1
           },
           {
            "bin_start": 6425.581076572314,
            "bin_end": 6457.0141906817225,
            "count": 0
           },
           {
            "bin_start": 6457.0141906817225,
            "bin_end": 6488.447304791132,
            "count": 2
           },
           {
            "bin_start": 6488.447304791132,
            "bin_end": 6519.880418900542,
            "count": 5
           },
           {
            "bin_start": 6519.880418900542,
            "bin_end": 6551.313533009951,
            "count": 2
           },
           {
            "bin_start": 6551.313533009951,
            "bin_end": 6582.74664711936,
            "count": 4
           },
           {
            "bin_start": 6582.74664711936,
            "bin_end": 6614.17976122877,
            "count": 14
           },
           {
            "bin_start": 6614.17976122877,
            "bin_end": 6645.61287533818,
            "count": 11
           },
           {
            "bin_start": 6645.61287533818,
            "bin_end": 6677.045989447589,
            "count": 10
           }
          ]
         }
        },
        {
         "name": "AI_upper(2012-01-01)",
         "dtype": "float64",
         "stats": {
          "unique_count": 50,
          "nan_count": 0,
          "min": "6313.629292802599",
          "max": "6540.072143926137",
          "histogram": [
           {
            "bin_start": 6313.629292802599,
            "bin_end": 6336.2735779149525,
            "count": 1
           },
           {
            "bin_start": 6336.2735779149525,
            "bin_end": 6358.917863027306,
            "count": 0
           },
           {
            "bin_start": 6358.917863027306,
            "bin_end": 6381.56214813966,
            "count": 0
           },
           {
            "bin_start": 6381.56214813966,
            "bin_end": 6404.206433252014,
            "count": 4
           },
           {
            "bin_start": 6404.206433252014,
            "bin_end": 6426.850718364368,
            "count": 2
           },
           {
            "bin_start": 6426.850718364368,
            "bin_end": 6449.495003476722,
            "count": 0
           },
           {
            "bin_start": 6449.495003476722,
            "bin_end": 6472.1392885890755,
            "count": 5
           },
           {
            "bin_start": 6472.1392885890755,
            "bin_end": 6494.783573701429,
            "count": 10
           },
           {
            "bin_start": 6494.783573701429,
            "bin_end": 6517.427858813783,
            "count": 15
           },
           {
            "bin_start": 6517.427858813783,
            "bin_end": 6540.072143926137,
            "count": 13
           }
          ]
         }
        },
        {
         "name": "AI_upper(2021-12-20)",
         "dtype": "float64",
         "stats": {
          "unique_count": 50,
          "nan_count": 0,
          "min": "6322.47120464086",
          "max": "6546.876237249978",
          "histogram": [
           {
            "bin_start": 6322.47120464086,
            "bin_end": 6344.911707901772,
            "count": 1
           },
           {
            "bin_start": 6344.911707901772,
            "bin_end": 6367.3522111626835,
            "count": 0
           },
           {
            "bin_start": 6367.3522111626835,
            "bin_end": 6389.7927144235955,
            "count": 2
           },
           {
            "bin_start": 6389.7927144235955,
            "bin_end": 6412.2332176845075,
            "count": 2
           },
           {
            "bin_start": 6412.2332176845075,
            "bin_end": 6434.673720945419,
            "count": 2
           },
           {
            "bin_start": 6434.673720945419,
            "bin_end": 6457.114224206331,
            "count": 3
           },
           {
            "bin_start": 6457.114224206331,
            "bin_end": 6479.554727467243,
            "count": 5
           },
           {
            "bin_start": 6479.554727467243,
            "bin_end": 6501.995230728155,
            "count": 10
           },
           {
            "bin_start": 6501.995230728155,
            "bin_end": 6524.435733989066,
            "count": 11
           },
           {
            "bin_start": 6524.435733989066,
            "bin_end": 6546.876237249978,
            "count": 14
           }
          ]
         }
        },
        {
         "name": "nearest AI X(ft)",
         "dtype": "float64",
         "stats": {
          "unique_count": 44,
          "nan_count": 0,
          "min": "109529.04",
          "max": "142066.63999999998",
          "histogram": [
           {
            "bin_start": 109529.04,
            "bin_end": 112782.79999999999,
            "count": 7
           },
           {
            "bin_start": 112782.79999999999,
            "bin_end": 116036.56,
            "count": 7
           },
           {
            "bin_start": 116036.56,
            "bin_end": 119290.31999999999,
            "count": 4
           },
           {
            "bin_start": 119290.31999999999,
            "bin_end": 122544.07999999999,
            "count": 4
           },
           {
            "bin_start": 122544.07999999999,
            "bin_end": 125797.84,
            "count": 4
           },
           {
            "bin_start": 125797.84,
            "bin_end": 129051.59999999999,
            "count": 4
           },
           {
            "bin_start": 129051.59999999999,
            "bin_end": 132305.36,
            "count": 3
           },
           {
            "bin_start": 132305.36,
            "bin_end": 135559.12,
            "count": 8
           },
           {
            "bin_start": 135559.12,
            "bin_end": 138812.87999999998,
            "count": 5
           },
           {
            "bin_start": 138812.87999999998,
            "bin_end": 142066.63999999998,
            "count": 4
           }
          ]
         }
        },
        {
         "name": "nearest AI Y(ft)",
         "dtype": "float64",
         "stats": {
          "unique_count": 38,
          "nan_count": 0,
          "min": "81744.15999999999",
          "max": "93683.36",
          "histogram": [
           {
            "bin_start": 81744.15999999999,
            "bin_end": 82938.07999999999,
            "count": 5
           },
           {
            "bin_start": 82938.07999999999,
            "bin_end": 84131.99999999999,
            "count": 5
           },
           {
            "bin_start": 84131.99999999999,
            "bin_end": 85325.92,
            "count": 5
           },
           {
            "bin_start": 85325.92,
            "bin_end": 86519.84,
            "count": 5
           },
           {
            "bin_start": 86519.84,
            "bin_end": 87713.76,
            "count": 4
           },
           {
            "bin_start": 87713.76,
            "bin_end": 88907.68,
            "count": 6
           },
           {
            "bin_start": 88907.68,
            "bin_end": 90101.59999999999,
            "count": 7
           },
           {
            "bin_start": 90101.59999999999,
            "bin_end": 91295.52,
            "count": 5
           },
           {
            "bin_start": 91295.52,
            "bin_end": 92489.44,
            "count": 6
           },
           {
            "bin_start": 92489.44,
            "bin_end": 93683.36,
            "count": 2
           }
          ]
         }
        },
        {
         "name": "_deepnote_index_column",
         "dtype": "int64"
        }
       ],
       "rows": [
        {
         "WELL": "WP0",
         "X(ft)": 137106.82,
         "Y(ft)": 83818.47,
         "Completion": "Upper",
         "Elevation Kelly Bushing (ft)": 193.32,
         "line": 196920.4839,
         "AI_lower(2012-01-01)": 6557.579122129865,
         "AI_lower(2021-12-20)": 6634.826845287822,
         "AI_upper(2012-01-01)": 6530.399584115218,
         "AI_upper(2021-12-20)": 6527.288321148047,
         "nearest AI X(ft)": 137081.03999999998,
         "nearest AI Y(ft)": 83843.36,
         "_deepnote_index_column": 0
        },
        {
         "WELL": "WP1",
         "X(ft)": 132460.98,
         "Y(ft)": 85832.77,
         "Completion": "Upper",
         "Elevation Kelly Bushing (ft)": 187.15,
         "line": 187594.27490000002,
         "AI_lower(2012-01-01)": 6539.368494929654,
         "AI_lower(2021-12-20)": 6609.504273550571,
         "AI_upper(2012-01-01)": 6522.790055221699,
         "AI_upper(2021-12-20)": 6523.5260633966645,
         "nearest AI X(ft)": 132489.03999999998,
         "nearest AI Y(ft)": 85811.36,
         "_deepnote_index_column": 1
        },
        {
         "WELL": "WP2",
         "X(ft)": 133634,
         "Y(ft)": 82144.52,
         "Completion": "Upper",
         "Elevation Kelly Bushing (ft)": 164.55,
         "line": 204670.8724,
         "AI_lower(2012-01-01)": 6449.432465184377,
         "AI_lower(2021-12-20)": 6489.6928098135895,
         "AI_upper(2012-01-01)": 6474.268627558761,
         "AI_upper(2021-12-20)": 6454.475166631363,
         "nearest AI X(ft)": 133669.84,
         "nearest AI Y(ft)": 82137.76,
         "_deepnote_index_column": 2
        },
        {
         "WELL": "WP3",
         "X(ft)": 140892.57,
         "Y(ft)": 81747.12,
         "Completion": "Lower",
         "Elevation Kelly Bushing (ft)": 179.92,
         "line": 206510.83440000005,
         "AI_lower(2012-01-01)": 6518.87875012402,
         "AI_lower(2021-12-20)": 6586.112456245834,
         "AI_upper(2012-01-01)": 6490.674048657715,
         "AI_upper(2021-12-20)": 6505.0346677456,
         "nearest AI X(ft)": 140885.84,
         "nearest AI Y(ft)": 81744.15999999999,
         "_deepnote_index_column": 3
        },
        {
         "WELL": "WP4",
         "X(ft)": 109951.43,
         "Y(ft)": 89343.45,
         "Completion": "Lower",
         "Elevation Kelly Bushing (ft)": 186.21,
         "line": 171339.82650000002,
         "AI_lower(2012-01-01)": 6520.969108884763,
         "AI_lower(2021-12-20)": 6611.813169321757,
         "AI_upper(2012-01-01)": 6497.152925849494,
         "AI_upper(2021-12-20)": 6500.953740996641,
         "nearest AI X(ft)": 109922.64,
         "nearest AI Y(ft)": 89353.76,
         "_deepnote_index_column": 4
        },
        {
         "WELL": "WP5",
         "X(ft)": 123950.95,
         "Y(ft)": 92227.31,
         "Completion": "Lower",
         "Elevation Kelly Bushing (ft)": 172.8,
         "line": 157987.55470000004,
         "AI_lower(2012-01-01)": 6515.812070018329,
         "AI_lower(2021-12-20)": 6582.968018991749,
         "AI_upper(2012-01-01)": 6457.752297023458,
         "AI_upper(2021-12-20)": 6450.780934356976,
         "nearest AI X(ft)": 123961.04,
         "nearest AI Y(ft)": 92240.16,
         "_deepnote_index_column": 5
        },
        {
         "WELL": "WP6",
         "X(ft)": 111035.32,
         "Y(ft)": 88692.32,
         "Completion": "Lower",
         "Elevation Kelly Bushing (ft)": 182.66,
         "line": 174354.55839999998,
         "AI_lower(2012-01-01)": 6543.452650221747,
         "AI_lower(2021-12-20)": 6647.156890674162,
         "AI_upper(2012-01-01)": 6514.925925445015,
         "AI_upper(2021-12-20)": 6529.617077596657,
         "nearest AI X(ft)": 110972.24,
         "nearest AI Y(ft)": 88697.76,
         "_deepnote_index_column": 6
        },
        {
         "WELL": "WP7",
         "X(ft)": 112439.69,
         "Y(ft)": 85560.85,
         "Completion": "Lower",
         "Elevation Kelly Bushing (ft)": 181.09,
         "line": 188853.2645,
         "AI_lower(2012-01-01)": 6438.783226179554,
         "AI_lower(2021-12-20)": 6486.432394523543,
         "AI_upper(2012-01-01)": 6403.508051481458,
         "AI_upper(2021-12-20)": 6400.975612811262,
         "nearest AI X(ft)": 112415.44,
         "nearest AI Y(ft)": 85548.95999999999,
         "_deepnote_index_column": 7
        },
        {
         "WELL": "WP8",
         "X(ft)": 127369.74,
         "Y(ft)": 91739.99,
         "Completion": "Upper",
         "Elevation Kelly Bushing (ft)": 180.04,
         "line": 160243.84629999998,
         "AI_lower(2012-01-01)": 6536.424734406401,
         "AI_lower(2021-12-20)": 6600.354460047708,
         "AI_upper(2012-01-01)": 6501.718770804836,
         "AI_upper(2021-12-20)": 6500.1586499284695,
         "nearest AI X(ft)": 127372.24,
         "nearest AI Y(ft)": 91715.36,
         "_deepnote_index_column": 8
        },
        {
         "WELL": "WP9",
         "X(ft)": 115943.69,
         "Y(ft)": 86730.44,
         "Completion": "Lower",
         "Elevation Kelly Bushing (ft)": 178.25,
         "line": 183438.0628,
         "AI_lower(2012-01-01)": 6457.397616798923,
         "AI_lower(2021-12-20)": 6510.109097547526,
         "AI_upper(2012-01-01)": 6411.997248681275,
         "AI_upper(2021-12-20)": 6423.840537227891,
         "nearest AI X(ft)": 115957.84,
         "nearest AI Y(ft)": 86729.76,
         "_deepnote_index_column": 9
        }
       ]
      },
      "text/plain": "    WELL      X(ft)     Y(ft) Completion  Elevation Kelly Bushing (ft)  \\\n0    WP0  137106.82  83818.47      Upper                        193.32   \n1    WP1  132460.98  85832.77      Upper                        187.15   \n2    WP2  133634.00  82144.52      Upper                        164.55   \n3    WP3  140892.57  81747.12      Lower                        179.92   \n4    WP4  109951.43  89343.45      Lower                        186.21   \n5    WP5  123950.95  92227.31      Lower                        172.80   \n6    WP6  111035.32  88692.32      Lower                        182.66   \n7    WP7  112439.69  85560.85      Lower                        181.09   \n8    WP8  127369.74  91739.99      Upper                        180.04   \n9    WP9  115943.69  86730.44      Lower                        178.25   \n10  WP10  134042.86  82411.27      Upper                        184.33   \n11  WP11  115725.49  86866.60      Upper                        192.03   \n12  WP12  133136.98  93691.55      Lower                        170.35   \n13  WP13  119311.27  89234.02      Upper                        190.28   \n14  WP14  134837.26  83865.82      Lower                        182.29   \n15  WP15  109560.26  86833.62      Lower                        184.45   \n16  WP16  112898.58  91601.46      Lower                        168.63   \n17  WP17  112766.46  88549.74      Lower                        181.35   \n18  WP18  117798.78  90645.70      Upper                        194.85   \n19  WP19  110189.22  86209.71      Upper                        169.20   \n20  WP20  133687.47  83554.44      Upper                        160.22   \n21  WP21  121120.49  87804.64      Upper                        162.57   \n22  WP22  115987.29  91854.91      Upper                        182.66   \n23  WP23  139326.01  84776.42      Upper                        203.85   \n24  WP24  142095.82  86042.02      Lower                        191.24   \n25  WP25  128136.21  89359.95      Lower                        196.73   \n26  WP26  118170.11  89488.69      Lower                        180.99   \n27  WP27  129829.39  87756.99      Upper                        193.98   \n28  WP28  120522.78  89987.00      Upper                        177.29   \n29  WP29  138541.42  82281.79      Lower                        186.13   \n30  WP30  131123.52  84356.27      Upper                        177.33   \n31  WP31  136285.14  86479.95      Lower                        174.51   \n32  WP32  128675.17  89882.13      Lower                        181.33   \n33  WP33  123960.21  85279.28      Lower                        175.24   \n34  WP34  134053.71  84658.45      Lower                        193.08   \n35  WP35  122230.81  87539.37      Upper                        181.95   \n36  WP36  111749.78  91050.01      Lower                        184.00   \n37  WP37  134902.25  82632.62      Lower                        176.62   \n38  WP38  116803.31  91177.75      Lower                        192.56   \n39  WP39  111890.88  91708.68      Upper                        172.68   \n40  WP40  126601.30  90679.21      Upper                        186.60   \n41  WP41  114333.01  91616.66      Lower                        176.49   \n42  WP42  136532.27  83571.51      Lower                        170.61   \n43  WP43  115684.27  89895.78      Lower                        175.11   \n44  WP44  118629.90  88703.87      Lower                        171.95   \n45  WP45  129176.30  93171.14      Upper                        177.87   \n46  WP46  139046.81  84476.47      Lower                        176.61   \n47  WP47  137407.15  84099.13      Lower                        183.12   \n48  WP48  124094.80  90648.76      Lower                        185.65   \n49  WP49  123188.65  88556.29      Lower                        178.53   \n\n           line  AI_lower(2012-01-01)  AI_lower(2021-12-20)  \\\n0   196920.4839           6557.579122           6634.826845   \n1   187594.2749           6539.368495           6609.504274   \n2   204670.8724           6449.432465           6489.692810   \n3   206510.8344           6518.878750           6586.112456   \n4   171339.8265           6520.969109           6611.813169   \n5   157987.5547           6515.812070           6582.968019   \n6   174354.5584           6543.452650           6647.156891   \n7   188853.2645           6438.783226           6486.432395   \n8   160243.8463           6536.424734           6600.354460   \n9   183438.0628           6457.397617           6510.109098   \n10  203435.8199           6468.987992           6514.223678   \n11  182807.6420           6466.099300           6522.612730   \n12  151208.1235           6349.281455           6362.714848   \n13  171846.4874           6554.840495           6657.276667   \n14  196701.2534           6530.778695           6602.638484   \n15  182960.3394           6503.989099           6592.567556   \n16  160885.2402           6503.448604           6597.023095   \n17  175014.7038           6552.727363           6655.082291   \n18  165310.4090           6571.418544           6661.113652   \n19  185849.0427           6485.844872           6551.939513   \n20  198142.9428           6499.046515           6561.711258   \n21  178464.5168           6513.730268           6587.838779   \n22  159711.7667           6529.563629           6615.094090   \n23  192485.1754           6556.336310           6640.732745   \n24  186625.4474           6477.023914           6514.933678   \n25  171263.4315           6564.189310           6633.693628   \n26  170667.3653           6564.426490           6661.780730   \n27  178685.1363           6539.767139           6599.162758   \n28  168360.1900           6566.938186           6663.114205   \n29  204035.3123           6528.546799           6588.430241   \n30  194430.4699           6461.691188           6505.800681   \n31  184597.8315           6543.896231           6611.436361   \n32  168845.7381           6562.247143           6630.297019   \n33  190156.9336           6385.016133           6424.713817   \n34  193031.3765           6532.878431           6613.128042   \n35  179692.7169           6502.379015           6571.511640   \n36  163438.4537           6506.872642           6591.681278   \n37  202410.9694           6493.373015           6548.179020   \n38  162847.0175           6560.883016           6647.429659   \n39  160388.8116           6476.576459           6557.771840   \n40  165155.2577           6569.147874           6644.540834   \n41  160814.8642           6526.871014           6623.273759   \n42  198063.9087           6547.128480           6620.383663   \n43  168782.5386           6582.065934           6677.045989   \n44  174301.0819           6541.312762           6636.265853   \n45  153617.6218           6441.467369           6486.625233   \n46  193873.9439           6562.221268           6649.857918   \n47  195621.0281           6562.865415           6642.461267   \n48  165296.2412           6580.348172           6653.786210   \n49  174984.3773           6549.223320           6627.454609   \n\n    AI_upper(2012-01-01)  AI_upper(2021-12-20)  nearest AI X(ft)  \\\n0            6530.399584           6527.288321         137081.04   \n1            6522.790055           6523.526063         132489.04   \n2            6474.268628           6454.475167         133669.84   \n3            6490.674049           6505.034668         140885.84   \n4            6497.152926           6500.953741         109922.64   \n5            6457.752297           6450.780934         123961.04   \n6            6514.925925           6529.617078         110972.24   \n7            6403.508051           6400.975613         112415.44   \n8            6501.718771           6500.158650         127372.24   \n9            6411.997249           6423.840537         115957.84   \n10           6495.084466           6473.198759         134063.44   \n11           6417.272188           6430.629923         115695.44   \n12           6313.629293           6322.471205         133145.04   \n13           6507.044237           6535.346304         119369.04   \n14           6540.072144           6519.101266         134850.64   \n15           6492.416064           6492.129181         109529.04   \n16           6481.076195           6499.212770         112940.24   \n17           6508.705833           6535.026461         112809.04   \n18           6499.372500           6535.257654         117794.64   \n19           6463.457331           6468.760916         110185.04   \n20           6512.439042           6493.089944         133669.84   \n21           6504.063198           6504.434349         121074.64   \n22           6482.113375           6501.698982         115957.84   \n23           6472.809210           6469.654446         139311.44   \n24           6385.215332           6388.769126         142066.64   \n25           6536.074831           6545.755839         128159.44   \n26           6504.801893           6540.649839         118188.24   \n27           6522.300712           6530.400862         129865.04   \n28           6501.345493           6528.779268         120549.84   \n29           6534.334080           6520.258518         138524.24   \n30           6450.903132           6436.910693         131177.04   \n31           6461.567139           6466.409235         136293.84   \n32           6533.869148           6546.876237         128684.24   \n33           6383.276524           6383.412585         123961.04   \n34           6539.716253           6519.091382         134063.44   \n35           6492.547633           6494.525521         122255.44   \n36           6478.950791           6498.591029         111759.44   \n37           6522.804645           6500.732040         134850.64   \n38           6499.311846           6523.936608         116745.04   \n39           6456.361202           6469.378107         111890.64   \n40           6531.841197           6541.952538         126585.04   \n41           6491.381469           6514.690249         114383.44   \n42           6539.381263           6532.580282         136556.24   \n43           6515.430974           6544.130229         115695.44   \n44           6501.033573           6524.194323         118581.84   \n45           6404.197124           6390.293204         129209.04   \n46           6488.485296           6483.275381         139049.04   \n47           6520.586641           6519.366886         137343.44   \n48           6513.715705           6526.511575         124092.24   \n49           6518.517712           6524.231344         123173.84   \n\n    nearest AI Y(ft)  \n0           83843.36  \n1           85811.36  \n2           82137.76  \n3           81744.16  \n4           89353.76  \n5           92240.16  \n6           88697.76  \n7           85548.96  \n8           91715.36  \n9           86729.76  \n10          82400.16  \n11          86860.96  \n12          93683.36  \n13          89222.56  \n14          83843.36  \n15          86860.96  \n16          91584.16  \n17          88566.56  \n18          90665.76  \n19          86204.96  \n20          83580.96  \n21          87779.36  \n22          91846.56  \n23          84761.76  \n24          86073.76  \n25          89353.76  \n26          89484.96  \n27          87779.36  \n28          90009.76  \n29          82268.96  \n30          84368.16  \n31          86467.36  \n32          89878.56  \n33          85286.56  \n34          84630.56  \n35          87516.96  \n36          91059.36  \n37          82662.56  \n38          91190.56  \n39          91715.36  \n40          90665.76  \n41          91584.16  \n42          83580.96  \n43          89878.56  \n44          88697.76  \n45          93158.56  \n46          84499.36  \n47          84105.76  \n48          90665.76  \n49          88566.56  ",
      "text/html": "<div>\n<style scoped>\n    .dataframe tbody tr th:only-of-type {\n        vertical-align: middle;\n    }\n\n    .dataframe tbody tr th {\n        vertical-align: top;\n    }\n\n    .dataframe thead th {\n        text-align: right;\n    }\n</style>\n<table border=\"1\" class=\"dataframe\">\n  <thead>\n    <tr style=\"text-align: right;\">\n      <th></th>\n      <th>WELL</th>\n      <th>X(ft)</th>\n      <th>Y(ft)</th>\n      <th>Completion</th>\n      <th>Elevation Kelly Bushing (ft)</th>\n      <th>line</th>\n      <th>AI_lower(2012-01-01)</th>\n      <th>AI_lower(2021-12-20)</th>\n      <th>AI_upper(2012-01-01)</th>\n      <th>AI_upper(2021-12-20)</th>\n      <th>nearest AI X(ft)</th>\n      <th>nearest AI Y(ft)</th>\n    </tr>\n  </thead>\n  <tbody>\n    <tr>\n      <th>0</th>\n      <td>WP0</td>\n      <td>137106.82</td>\n      <td>83818.47</td>\n      <td>Upper</td>\n      <td>193.32</td>\n      <td>196920.4839</td>\n      <td>6557.579122</td>\n      <td>6634.826845</td>\n      <td>6530.399584</td>\n      <td>6527.288321</td>\n      <td>137081.04</td>\n      <td>83843.36</td>\n    </tr>\n    <tr>\n      <th>1</th>\n      <td>WP1</td>\n      <td>132460.98</td>\n      <td>85832.77</td>\n      <td>Upper</td>\n      <td>187.15</td>\n      <td>187594.2749</td>\n      <td>6539.368495</td>\n      <td>6609.504274</td>\n      <td>6522.790055</td>\n      <td>6523.526063</td>\n      <td>132489.04</td>\n      <td>85811.36</td>\n    </tr>\n    <tr>\n      <th>2</th>\n      <td>WP2</td>\n      <td>133634.00</td>\n      <td>82144.52</td>\n      <td>Upper</td>\n      <td>164.55</td>\n      <td>204670.8724</td>\n      <td>6449.432465</td>\n      <td>6489.692810</td>\n      <td>6474.268628</td>\n      <td>6454.475167</td>\n      <td>133669.84</td>\n      <td>82137.76</td>\n    </tr>\n    <tr>\n      <th>3</th>\n      <td>WP3</td>\n      <td>140892.57</td>\n      <td>81747.12</td>\n      <td>Lower</td>\n      <td>179.92</td>\n      <td>206510.8344</td>\n      <td>6518.878750</td>\n      <td>6586.112456</td>\n      <td>6490.674049</td>\n      <td>6505.034668</td>\n      <td>140885.84</td>\n      <td>81744.16</td>\n    </tr>\n    <tr>\n      <th>4</th>\n      <td>WP4</td>\n      <td>109951.43</td>\n      <td>89343.45</td>\n      <td>Lower</td>\n      <td>186.21</td>\n      <td>171339.8265</td>\n      <td>6520.969109</td>\n      <td>6611.813169</td>\n      <td>6497.152926</td>\n      <td>6500.953741</td>\n      <td>109922.64</td>\n      <td>89353.76</td>\n    </tr>\n    <tr>\n      <th>5</th>\n      <td>WP5</td>\n      <td>123950.95</td>\n      <td>92227.31</td>\n      <td>Lower</td>\n      <td>172.80</td>\n      <td>157987.5547</td>\n      <td>6515.812070</td>\n      <td>6582.968019</td>\n      <td>6457.752297</td>\n      <td>6450.780934</td>\n      <td>123961.04</td>\n      <td>92240.16</td>\n    </tr>\n    <tr>\n      <th>6</th>\n      <td>WP6</td>\n      <td>111035.32</td>\n      <td>88692.32</td>\n      <td>Lower</td>\n      <td>182.66</td>\n      <td>174354.5584</td>\n      <td>6543.452650</td>\n      <td>6647.156891</td>\n      <td>6514.925925</td>\n      <td>6529.617078</td>\n      <td>110972.24</td>\n      <td>88697.76</td>\n    </tr>\n    <tr>\n      <th>7</th>\n      <td>WP7</td>\n      <td>112439.69</td>\n      <td>85560.85</td>\n      <td>Lower</td>\n      <td>181.09</td>\n      <td>188853.2645</td>\n      <td>6438.783226</td>\n      <td>6486.432395</td>\n      <td>6403.508051</td>\n      <td>6400.975613</td>\n      <td>112415.44</td>\n      <td>85548.96</td>\n    </tr>\n    <tr>\n      <th>8</th>\n      <td>WP8</td>\n      <td>127369.74</td>\n      <td>91739.99</td>\n      <td>Upper</td>\n      <td>180.04</td>\n      <td>160243.8463</td>\n      <td>6536.424734</td>\n      <td>6600.354460</td>\n      <td>6501.718771</td>\n      <td>6500.158650</td>\n      <td>127372.24</td>\n      <td>91715.36</td>\n    </tr>\n    <tr>\n      <th>9</th>\n      <td>WP9</td>\n      <td>115943.69</td>\n      <td>86730.44</td>\n      <td>Lower</td>\n      <td>178.25</td>\n      <td>183438.0628</td>\n      <td>6457.397617</td>\n      <td>6510.109098</td>\n      <td>6411.997249</td>\n      <td>6423.840537</td>\n      <td>115957.84</td>\n      <td>86729.76</td>\n    </tr>\n    <tr>\n      <th>10</th>\n      <td>WP10</td>\n      <td>134042.86</td>\n      <td>82411.27</td>\n      <td>Upper</td>\n      <td>184.33</td>\n      <td>203435.8199</td>\n      <td>6468.987992</td>\n      <td>6514.223678</td>\n      <td>6495.084466</td>\n      <td>6473.198759</td>\n      <td>134063.44</td>\n      <td>82400.16</td>\n    </tr>\n    <tr>\n      <th>11</th>\n      <td>WP11</td>\n      <td>115725.49</td>\n      <td>86866.60</td>\n      <td>Upper</td>\n      <td>192.03</td>\n      <td>182807.6420</td>\n      <td>6466.099300</td>\n      <td>6522.612730</td>\n      <td>6417.272188</td>\n      <td>6430.629923</td>\n      <td>115695.44</td>\n      <td>86860.96</td>\n    </tr>\n    <tr>\n      <th>12</th>\n      <td>WP12</td>\n      <td>133136.98</td>\n      <td>93691.55</td>\n      <td>Lower</td>\n      <td>170.35</td>\n      <td>151208.1235</td>\n      <td>6349.281455</td>\n      <td>6362.714848</td>\n      <td>6313.629293</td>\n      <td>6322.471205</td>\n      <td>133145.04</td>\n      <td>93683.36</td>\n    </tr>\n    <tr>\n      <th>13</th>\n      <td>WP13</td>\n      <td>119311.27</td>\n      <td>89234.02</td>\n      <td>Upper</td>\n      <td>190.28</td>\n      <td>171846.4874</td>\n      <td>6554.840495</td>\n      <td>6657.276667</td>\n      <td>6507.044237</td>\n      <td>6535.346304</td>\n      <td>119369.04</td>\n      <td>89222.56</td>\n    </tr>\n    <tr>\n      <th>14</th>\n      <td>WP14</td>\n      <td>134837.26</td>\n      <td>83865.82</td>\n      <td>Lower</td>\n      <td>182.29</td>\n      <td>196701.2534</td>\n      <td>6530.778695</td>\n      <td>6602.638484</td>\n      <td>6540.072144</td>\n      <td>6519.101266</td>\n      <td>134850.64</td>\n      <td>83843.36</td>\n    </tr>\n    <tr>\n      <th>15</th>\n      <td>WP15</td>\n      <td>109560.26</td>\n      <td>86833.62</td>\n      <td>Lower</td>\n      <td>184.45</td>\n      <td>182960.3394</td>\n      <td>6503.989099</td>\n      <td>6592.567556</td>\n      <td>6492.416064</td>\n      <td>6492.129181</td>\n      <td>109529.04</td>\n      <td>86860.96</td>\n    </tr>\n    <tr>\n      <th>16</th>\n      <td>WP16</td>\n      <td>112898.58</td>\n      <td>91601.46</td>\n      <td>Lower</td>\n      <td>168.63</td>\n      <td>160885.2402</td>\n      <td>6503.448604</td>\n      <td>6597.023095</td>\n      <td>6481.076195</td>\n      <td>6499.212770</td>\n      <td>112940.24</td>\n      <td>91584.16</td>\n    </tr>\n    <tr>\n      <th>17</th>\n      <td>WP17</td>\n      <td>112766.46</td>\n      <td>88549.74</td>\n      <td>Lower</td>\n      <td>181.35</td>\n      <td>175014.7038</td>\n      <td>6552.727363</td>\n      <td>6655.082291</td>\n      <td>6508.705833</td>\n      <td>6535.026461</td>\n      <td>112809.04</td>\n      <td>88566.56</td>\n    </tr>\n    <tr>\n      <th>18</th>\n      <td>WP18</td>\n      <td>117798.78</td>\n      <td>90645.70</td>\n      <td>Upper</td>\n      <td>194.85</td>\n      <td>165310.4090</td>\n      <td>6571.418544</td>\n      <td>6661.113652</td>\n      <td>6499.372500</td>\n      <td>6535.257654</td>\n      <td>117794.64</td>\n      <td>90665.76</td>\n    </tr>\n    <tr>\n      <th>19</th>\n      <td>WP19</td>\n      <td>110189.22</td>\n      <td>86209.71</td>\n      <td>Upper</td>\n      <td>169.20</td>\n      <td>185849.0427</td>\n      <td>6485.844872</td>\n      <td>6551.939513</td>\n      <td>6463.457331</td>\n      <td>6468.760916</td>\n      <td>110185.04</td>\n      <td>86204.96</td>\n    </tr>\n    <tr>\n      <th>20</th>\n      <td>WP20</td>\n      <td>133687.47</td>\n      <td>83554.44</td>\n      <td>Upper</td>\n      <td>160.22</td>\n      <td>198142.9428</td>\n      <td>6499.046515</td>\n      <td>6561.711258</td>\n      <td>6512.439042</td>\n      <td>6493.089944</td>\n      <td>133669.84</td>\n      <td>83580.96</td>\n    </tr>\n    <tr>\n      <th>21</th>\n      <td>WP21</td>\n      <td>121120.49</td>\n      <td>87804.64</td>\n      <td>Upper</td>\n      <td>162.57</td>\n      <td>178464.5168</td>\n      <td>6513.730268</td>\n      <td>6587.838779</td>\n      <td>6504.063198</td>\n      <td>6504.434349</td>\n      <td>121074.64</td>\n      <td>87779.36</td>\n    </tr>\n    <tr>\n      <th>22</th>\n      <td>WP22</td>\n      <td>115987.29</td>\n      <td>91854.91</td>\n      <td>Upper</td>\n      <td>182.66</td>\n      <td>159711.7667</td>\n      <td>6529.563629</td>\n      <td>6615.094090</td>\n      <td>6482.113375</td>\n      <td>6501.698982</td>\n      <td>115957.84</td>\n      <td>91846.56</td>\n    </tr>\n    <tr>\n      <th>23</th>\n      <td>WP23</td>\n      <td>139326.01</td>\n      <td>84776.42</td>\n      <td>Upper</td>\n      <td>203.85</td>\n      <td>192485.1754</td>\n      <td>6556.336310</td>\n      <td>6640.732745</td>\n      <td>6472.809210</td>\n      <td>6469.654446</td>\n      <td>139311.44</td>\n      <td>84761.76</td>\n    </tr>\n    <tr>\n      <th>24</th>\n      <td>WP24</td>\n      <td>142095.82</td>\n      <td>86042.02</td>\n      <td>Lower</td>\n      <td>191.24</td>\n      <td>186625.4474</td>\n      <td>6477.023914</td>\n      <td>6514.933678</td>\n      <td>6385.215332</td>\n      <td>6388.769126</td>\n      <td>142066.64</td>\n      <td>86073.76</td>\n    </tr>\n    <tr>\n      <th>25</th>\n      <td>WP25</td>\n      <td>128136.21</td>\n      <td>89359.95</td>\n      <td>Lower</td>\n      <td>196.73</td>\n      <td>171263.4315</td>\n      <td>6564.189310</td>\n      <td>6633.693628</td>\n      <td>6536.074831</td>\n      <td>6545.755839</td>\n      <td>128159.44</td>\n      <td>89353.76</td>\n    </tr>\n    <tr>\n      <th>26</th>\n      <td>WP26</td>\n      <td>118170.11</td>\n      <td>89488.69</td>\n      <td>Lower</td>\n      <td>180.99</td>\n      <td>170667.3653</td>\n      <td>6564.426490</td>\n      <td>6661.780730</td>\n      <td>6504.801893</td>\n      <td>6540.649839</td>\n      <td>118188.24</td>\n      <td>89484.96</td>\n    </tr>\n    <tr>\n      <th>27</th>\n      <td>WP27</td>\n      <td>129829.39</td>\n      <td>87756.99</td>\n      <td>Upper</td>\n      <td>193.98</td>\n      <td>178685.1363</td>\n      <td>6539.767139</td>\n      <td>6599.162758</td>\n      <td>6522.300712</td>\n      <td>6530.400862</td>\n      <td>129865.04</td>\n      <td>87779.36</td>\n    </tr>\n    <tr>\n      <th>28</th>\n      <td>WP28</td>\n      <td>120522.78</td>\n      <td>89987.00</td>\n      <td>Upper</td>\n      <td>177.29</td>\n      <td>168360.1900</td>\n      <td>6566.938186</td>\n      <td>6663.114205</td>\n      <td>6501.345493</td>\n      <td>6528.779268</td>\n      <td>120549.84</td>\n      <td>90009.76</td>\n    </tr>\n    <tr>\n      <th>29</th>\n      <td>WP29</td>\n      <td>138541.42</td>\n      <td>82281.79</td>\n      <td>Lower</td>\n      <td>186.13</td>\n      <td>204035.3123</td>\n      <td>6528.546799</td>\n      <td>6588.430241</td>\n      <td>6534.334080</td>\n      <td>6520.258518</td>\n      <td>138524.24</td>\n      <td>82268.96</td>\n    </tr>\n    <tr>\n      <th>30</th>\n      <td>WP30</td>\n      <td>131123.52</td>\n      <td>84356.27</td>\n      <td>Upper</td>\n      <td>177.33</td>\n      <td>194430.4699</td>\n      <td>6461.691188</td>\n      <td>6505.800681</td>\n      <td>6450.903132</td>\n      <td>6436.910693</td>\n      <td>131177.04</td>\n      <td>84368.16</td>\n    </tr>\n    <tr>\n      <th>31</th>\n      <td>WP31</td>\n      <td>136285.14</td>\n      <td>86479.95</td>\n      <td>Lower</td>\n      <td>174.51</td>\n      <td>184597.8315</td>\n      <td>6543.896231</td>\n      <td>6611.436361</td>\n      <td>6461.567139</td>\n      <td>6466.409235</td>\n      <td>136293.84</td>\n      <td>86467.36</td>\n    </tr>\n    <tr>\n      <th>32</th>\n      <td>WP32</td>\n      <td>128675.17</td>\n      <td>89882.13</td>\n      <td>Lower</td>\n      <td>181.33</td>\n      <td>168845.7381</td>\n      <td>6562.247143</td>\n      <td>6630.297019</td>\n      <td>6533.869148</td>\n      <td>6546.876237</td>\n      <td>128684.24</td>\n      <td>89878.56</td>\n    </tr>\n    <tr>\n      <th>33</th>\n      <td>WP33</td>\n      <td>123960.21</td>\n      <td>85279.28</td>\n      <td>Lower</td>\n      <td>175.24</td>\n      <td>190156.9336</td>\n      <td>6385.016133</td>\n      <td>6424.713817</td>\n      <td>6383.276524</td>\n      <td>6383.412585</td>\n      <td>123961.04</td>\n      <td>85286.56</td>\n    </tr>\n    <tr>\n      <th>34</th>\n      <td>WP34</td>\n      <td>134053.71</td>\n      <td>84658.45</td>\n      <td>Lower</td>\n      <td>193.08</td>\n      <td>193031.3765</td>\n      <td>6532.878431</td>\n      <td>6613.128042</td>\n      <td>6539.716253</td>\n      <td>6519.091382</td>\n      <td>134063.44</td>\n      <td>84630.56</td>\n    </tr>\n    <tr>\n      <th>35</th>\n      <td>WP35</td>\n      <td>122230.81</td>\n      <td>87539.37</td>\n      <td>Upper</td>\n      <td>181.95</td>\n      <td>179692.7169</td>\n      <td>6502.379015</td>\n      <td>6571.511640</td>\n      <td>6492.547633</td>\n      <td>6494.525521</td>\n      <td>122255.44</td>\n      <td>87516.96</td>\n    </tr>\n    <tr>\n      <th>36</th>\n      <td>WP36</td>\n      <td>111749.78</td>\n      <td>91050.01</td>\n      <td>Lower</td>\n      <td>184.00</td>\n      <td>163438.4537</td>\n      <td>6506.872642</td>\n      <td>6591.681278</td>\n      <td>6478.950791</td>\n      <td>6498.591029</td>\n      <td>111759.44</td>\n      <td>91059.36</td>\n    </tr>\n    <tr>\n      <th>37</th>\n      <td>WP37</td>\n      <td>134902.25</td>\n      <td>82632.62</td>\n      <td>Lower</td>\n      <td>176.62</td>\n      <td>202410.9694</td>\n      <td>6493.373015</td>\n      <td>6548.179020</td>\n      <td>6522.804645</td>\n      <td>6500.732040</td>\n      <td>134850.64</td>\n      <td>82662.56</td>\n    </tr>\n    <tr>\n      <th>38</th>\n      <td>WP38</td>\n      <td>116803.31</td>\n      <td>91177.75</td>\n      <td>Lower</td>\n      <td>192.56</td>\n      <td>162847.0175</td>\n      <td>6560.883016</td>\n      <td>6647.429659</td>\n      <td>6499.311846</td>\n      <td>6523.936608</td>\n      <td>116745.04</td>\n      <td>91190.56</td>\n    </tr>\n    <tr>\n      <th>39</th>\n      <td>WP39</td>\n      <td>111890.88</td>\n      <td>91708.68</td>\n      <td>Upper</td>\n      <td>172.68</td>\n      <td>160388.8116</td>\n      <td>6476.576459</td>\n      <td>6557.771840</td>\n      <td>6456.361202</td>\n      <td>6469.378107</td>\n      <td>111890.64</td>\n      <td>91715.36</td>\n    </tr>\n    <tr>\n      <th>40</th>\n      <td>WP40</td>\n      <td>126601.30</td>\n      <td>90679.21</td>\n      <td>Upper</td>\n      <td>186.60</td>\n      <td>165155.2577</td>\n      <td>6569.147874</td>\n      <td>6644.540834</td>\n      <td>6531.841197</td>\n      <td>6541.952538</td>\n      <td>126585.04</td>\n      <td>90665.76</td>\n    </tr>\n    <tr>\n      <th>41</th>\n      <td>WP41</td>\n      <td>114333.01</td>\n      <td>91616.66</td>\n      <td>Lower</td>\n      <td>176.49</td>\n      <td>160814.8642</td>\n      <td>6526.871014</td>\n      <td>6623.273759</td>\n      <td>6491.381469</td>\n      <td>6514.690249</td>\n      <td>114383.44</td>\n      <td>91584.16</td>\n    </tr>\n    <tr>\n      <th>42</th>\n      <td>WP42</td>\n      <td>136532.27</td>\n      <td>83571.51</td>\n      <td>Lower</td>\n      <td>170.61</td>\n      <td>198063.9087</td>\n      <td>6547.128480</td>\n      <td>6620.383663</td>\n      <td>6539.381263</td>\n      <td>6532.580282</td>\n      <td>136556.24</td>\n      <td>83580.96</td>\n    </tr>\n    <tr>\n      <th>43</th>\n      <td>WP43</td>\n      <td>115684.27</td>\n      <td>89895.78</td>\n      <td>Lower</td>\n      <td>175.11</td>\n      <td>168782.5386</td>\n      <td>6582.065934</td>\n      <td>6677.045989</td>\n      <td>6515.430974</td>\n      <td>6544.130229</td>\n      <td>115695.44</td>\n      <td>89878.56</td>\n    </tr>\n    <tr>\n      <th>44</th>\n      <td>WP44</td>\n      <td>118629.90</td>\n      <td>88703.87</td>\n      <td>Lower</td>\n      <td>171.95</td>\n      <td>174301.0819</td>\n      <td>6541.312762</td>\n      <td>6636.265853</td>\n      <td>6501.033573</td>\n      <td>6524.194323</td>\n      <td>118581.84</td>\n      <td>88697.76</td>\n    </tr>\n    <tr>\n      <th>45</th>\n      <td>WP45</td>\n      <td>129176.30</td>\n      <td>93171.14</td>\n      <td>Upper</td>\n      <td>177.87</td>\n      <td>153617.6218</td>\n      <td>6441.467369</td>\n      <td>6486.625233</td>\n      <td>6404.197124</td>\n      <td>6390.293204</td>\n      <td>129209.04</td>\n      <td>93158.56</td>\n    </tr>\n    <tr>\n      <th>46</th>\n      <td>WP46</td>\n      <td>139046.81</td>\n      <td>84476.47</td>\n      <td>Lower</td>\n      <td>176.61</td>\n      <td>193873.9439</td>\n      <td>6562.221268</td>\n      <td>6649.857918</td>\n      <td>6488.485296</td>\n      <td>6483.275381</td>\n      <td>139049.04</td>\n      <td>84499.36</td>\n    </tr>\n    <tr>\n      <th>47</th>\n      <td>WP47</td>\n      <td>137407.15</td>\n      <td>84099.13</td>\n      <td>Lower</td>\n      <td>183.12</td>\n      <td>195621.0281</td>\n      <td>6562.865415</td>\n      <td>6642.461267</td>\n      <td>6520.586641</td>\n      <td>6519.366886</td>\n      <td>137343.44</td>\n      <td>84105.76</td>\n    </tr>\n    <tr>\n      <th>48</th>\n      <td>WP48</td>\n      <td>124094.80</td>\n      <td>90648.76</td>\n      <td>Lower</td>\n      <td>185.65</td>\n      <td>165296.2412</td>\n      <td>6580.348172</td>\n      <td>6653.786210</td>\n      <td>6513.715705</td>\n      <td>6526.511575</td>\n      <td>124092.24</td>\n      <td>90665.76</td>\n    </tr>\n    <tr>\n      <th>49</th>\n      <td>WP49</td>\n      <td>123188.65</td>\n      <td>88556.29</td>\n      <td>Lower</td>\n      <td>178.53</td>\n      <td>174984.3773</td>\n      <td>6549.223320</td>\n      <td>6627.454609</td>\n      <td>6518.517712</td>\n      <td>6524.231344</td>\n      <td>123173.84</td>\n      <td>88566.56</td>\n    </tr>\n  </tbody>\n</table>\n</div>"
     },
     "metadata": {}
    }
   ]
  },
  {
   "cell_type": "code",
   "metadata": {
    "cell_id": "0a31932d26e34784a165c7df0a4ed2ff",
    "tags": [],
    "deepnote_to_be_reexecuted": true,
    "source_hash": "1bc5dde7",
    "execution_start": 1648305970641,
    "execution_millis": 1661,
    "deepnote_cell_type": "code",
    "deepnote_cell_height": 1240.375,
    "deepnote_output_heights": [
     412.203125,
     412.203125
    ]
   },
   "source": "plt.figure(figsize=(20,10))\nplt.title('Uppers')\nu = wells[wells['Completion'] == 'Upper']\nplt.scatter(u['WELL'], u['AI_upper(2012-01-01)'], label='before')\nplt.scatter(u['WELL'], u['AI_upper(2021-12-20)'], label='after')\nplt.xticks(rotation=45)\nplt.legend()\nplt.show()\n\nplt.figure(figsize=(20,10))\nplt.title('Lowers')\nl = wells[wells['Completion'] == 'Lower']\nplt.scatter(l['WELL'], l['AI_lower(2012-01-01)'], label='before')\nplt.scatter(l['WELL'], l['AI_lower(2021-12-20)'], label='after')\nplt.xticks(rotation=45)\nplt.legend()\nplt.show()",
   "execution_count": null,
   "outputs": [
    {
     "data": {
      "text/plain": "<Figure size 1440x720 with 1 Axes>",
      "image/png": "[encoded data removed]"
     },
     "metadata": {
      "needs_background": "light",
      "image/png": {
       "width": 1162,
       "height": 608
      }
     },
     "output_type": "display_data"
    },
    {
     "data": {
      "text/plain": "<Figure size 1440x720 with 1 Axes>",
      "image/png": "[encoded data removed]"
     },
     "metadata": {
      "needs_background": "light",
      "image/png": {
       "width": 1162,
       "height": 608
      }
     },
     "output_type": "display_data"
    }
   ]
  },
  {
   "cell_type": "code",
   "metadata": {
    "cell_id": "2f7f6cad630942fba2b35697135dc05f",
    "tags": [],
    "deepnote_to_be_reexecuted": true,
    "source_hash": "d9e575d2",
    "execution_start": 1648272859595,
    "execution_millis": 297,
    "deepnote_table_state": {
     "pageSize": 10,
     "pageIndex": 5119,
     "filters": [],
     "sortBy": []
    },
    "deepnote_table_loading": false,
    "deepnote_cell_type": "code",
    "deepnote_cell_height": 153
   },
   "source": "for well in wm['well_id'].unique():\n    wm.loc[wm['well_id']==well, 'AI_lower(2012-01-01)'] = wells.loc[wells['WELL']==well, 'AI_lower(2012-01-01)'].iloc[0]\n    wm.loc[wm['well_id']==well, 'AI_lower(2021-12-20)'] = wells.loc[wells['WELL']==well, 'AI_lower(2021-12-20)'].iloc[0]\n    wm.loc[wm['well_id']==well, 'AI_upper(2012-01-01)'] = wells.loc[wells['WELL']==well, 'AI_upper(2012-01-01)'].iloc[0]\n    wm.loc[wm['well_id']==well, 'AI_upper(2021-12-20)'] = wells.loc[wells['WELL']==well, 'AI_upper(2021-12-20)'].iloc[0]",
   "execution_count": null,
   "outputs": []
  },
  {
   "cell_type": "code",
   "metadata": {
    "cell_id": "b3c30069147d47ce9e7dc1fd39150984",
    "tags": [],
    "deepnote_to_be_reexecuted": true,
    "source_hash": "7dc5fbe",
    "execution_start": 1648273188479,
    "execution_millis": 71,
    "deepnote_table_state": {
     "pageSize": 10,
     "pageIndex": 15,
     "filters": [],
     "sortBy": []
    },
    "deepnote_table_loading": false,
    "deepnote_table_invalid": false,
    "deepnote_cell_type": "code",
    "deepnote_cell_height": 81
   },
   "source": "wm.to_csv('Carpe-Datum-2022/Well_Log/WELL_MASTER_AI.csv')",
   "execution_count": null,
   "outputs": []
  },
  {
   "cell_type": "code",
   "metadata": {
    "cell_id": "7d5c6a80ebae467b88d96cc8c7466c08",
    "tags": [],
    "deepnote_to_be_reexecuted": true,
    "source_hash": "eb698417",
    "execution_start": 1648273049161,
    "execution_millis": 53,
    "deepnote_cell_type": "code",
    "deepnote_cell_height": 244.265625
   },
   "source": "ai[(ai['X(ft)']==112415.44) & (ai['Y(ft)']==85548.95999999999)]",
   "execution_count": null,
   "outputs": [
    {
     "output_type": "execute_result",
     "execution_count": 100,
     "data": {
      "application/vnd.deepnote.dataframe.v3+json": {
       "column_count": 6,
       "row_count": 1,
       "columns": [
        {
         "name": "X(ft)",
         "dtype": "float64",
         "stats": {
          "unique_count": 1,
          "nan_count": 0,
          "min": "112415.44",
          "max": "112415.44",
          "histogram": [
           {
            "bin_start": 112414.94,
            "bin_end": 112415.04000000001,
            "count": 0
           },
           {
            "bin_start": 112415.04000000001,
            "bin_end": 112415.14,
            "count": 0
           },
           {
            "bin_start": 112415.14,
            "bin_end": 112415.24,
            "count": 0
           },
           {
            "bin_start": 112415.24,
            "bin_end": 112415.34,
            "count": 0
           },
           {
            "bin_start": 112415.34,
            "bin_end": 112415.44,
            "count": 0
           },
           {
            "bin_start": 112415.44,
            "bin_end": 112415.54000000001,
            "count": 1
           },
           {
            "bin_start": 112415.54000000001,
            "bin_end": 112415.64,
            "count": 0
           },
           {
            "bin_start": 112415.64,
            "bin_end": 112415.74,
            "count": 0
           },
           {
            "bin_start": 112415.74,
            "bin_end": 112415.84,
            "count": 0
           },
           {
            "bin_start": 112415.84,
            "bin_end": 112415.94,
            "count": 0
           }
          ]
         }
        },
        {
         "name": "Y(ft)",
         "dtype": "float64",
         "stats": {
          "unique_count": 1,
          "nan_count": 0,
          "min": "85548.95999999999",
          "max": "85548.95999999999",
          "histogram": [
           {
            "bin_start": 85548.45999999999,
            "bin_end": 85548.56,
            "count": 0
           },
           {
            "bin_start": 85548.56,
            "bin_end": 85548.65999999999,
            "count": 0
           },
           {
            "bin_start": 85548.65999999999,
            "bin_end": 85548.76,
            "count": 0
           },
           {
            "bin_start": 85548.76,
            "bin_end": 85548.85999999999,
            "count": 0
           },
           {
            "bin_start": 85548.85999999999,
            "bin_end": 85548.95999999999,
            "count": 0
           },
           {
            "bin_start": 85548.95999999999,
            "bin_end": 85549.06,
            "count": 1
           },
           {
            "bin_start": 85549.06,
            "bin_end": 85549.15999999999,
            "count": 0
           },
           {
            "bin_start": 85549.15999999999,
            "bin_end": 85549.26,
            "count": 0
           },
           {
            "bin_start": 85549.26,
            "bin_end": 85549.35999999999,
            "count": 0
           },
           {
            "bin_start": 85549.35999999999,
            "bin_end": 85549.45999999999,
            "count": 0
           }
          ]
         }
        },
        {
         "name": "AI_lower(2012-01-01)",
         "dtype": "float64",
         "stats": {
          "unique_count": 1,
          "nan_count": 0,
          "min": "6438.783226179554",
          "max": "6438.783226179554",
          "histogram": [
           {
            "bin_start": 6438.283226179554,
            "bin_end": 6438.383226179554,
            "count": 0
           },
           {
            "bin_start": 6438.383226179554,
            "bin_end": 6438.483226179554,
            "count": 0
           },
           {
            "bin_start": 6438.483226179554,
            "bin_end": 6438.583226179554,
            "count": 0
           },
           {
            "bin_start": 6438.583226179554,
            "bin_end": 6438.6832261795535,
            "count": 0
           },
           {
            "bin_start": 6438.6832261795535,
            "bin_end": 6438.783226179554,
            "count": 0
           },
           {
            "bin_start": 6438.783226179554,
            "bin_end": 6438.883226179554,
            "count": 1
           },
           {
            "bin_start": 6438.883226179554,
            "bin_end": 6438.983226179554,
            "count": 0
           },
           {
            "bin_start": 6438.983226179554,
            "bin_end": 6439.083226179554,
            "count": 0
           },
           {
            "bin_start": 6439.083226179554,
            "bin_end": 6439.1832261795535,
            "count": 0
           },
           {
            "bin_start": 6439.1832261795535,
            "bin_end": 6439.283226179554,
            "count": 0
           }
          ]
         }
        },
        {
         "name": "AI_upper(2012-01-01)",
         "dtype": "float64",
         "stats": {
          "unique_count": 1,
          "nan_count": 0,
          "min": "6403.508051481458",
          "max": "6403.508051481458",
          "histogram": [
           {
            "bin_start": 6403.008051481458,
            "bin_end": 6403.1080514814585,
            "count": 0
           },
           {
            "bin_start": 6403.1080514814585,
            "bin_end": 6403.208051481458,
            "count": 0
           },
           {
            "bin_start": 6403.208051481458,
            "bin_end": 6403.308051481458,
            "count": 0
           },
           {
            "bin_start": 6403.308051481458,
            "bin_end": 6403.408051481458,
            "count": 0
           },
           {
            "bin_start": 6403.408051481458,
            "bin_end": 6403.508051481458,
            "count": 0
           },
           {
            "bin_start": 6403.508051481458,
            "bin_end": 6403.6080514814585,
            "count": 1
           },
           {
            "bin_start": 6403.6080514814585,
            "bin_end": 6403.708051481458,
            "count": 0
           },
           {
            "bin_start": 6403.708051481458,
            "bin_end": 6403.808051481458,
            "count": 0
           },
           {
            "bin_start": 6403.808051481458,
            "bin_end": 6403.908051481458,
            "count": 0
           },
           {
            "bin_start": 6403.908051481458,
            "bin_end": 6404.008051481458,
            "count": 0
           }
          ]
         }
        },
        {
         "name": "AI_lower(2021-12-20)",
         "dtype": "float64",
         "stats": {
          "unique_count": 1,
          "nan_count": 0,
          "min": "6486.432394523543",
          "max": "6486.432394523543",
          "histogram": [
           {
            "bin_start": 6485.932394523543,
            "bin_end": 6486.032394523543,
            "count": 0
           },
           {
            "bin_start": 6486.032394523543,
            "bin_end": 6486.132394523543,
            "count": 0
           },
           {
            "bin_start": 6486.132394523543,
            "bin_end": 6486.232394523543,
            "count": 0
           },
           {
            "bin_start": 6486.232394523543,
            "bin_end": 6486.3323945235425,
            "count": 0
           },
           {
            "bin_start": 6486.3323945235425,
            "bin_end": 6486.432394523543,
            "count": 0
           },
           {
            "bin_start": 6486.432394523543,
            "bin_end": 6486.532394523543,
            "count": 1
           },
           {
            "bin_start": 6486.532394523543,
            "bin_end": 6486.632394523543,
            "count": 0
           },
           {
            "bin_start": 6486.632394523543,
            "bin_end": 6486.732394523543,
            "count": 0
           },
           {
            "bin_start": 6486.732394523543,
            "bin_end": 6486.8323945235425,
            "count": 0
           },
           {
            "bin_start": 6486.8323945235425,
            "bin_end": 6486.932394523543,
            "count": 0
           }
          ]
         }
        },
        {
         "name": "AI_upper(2021-12-20)",
         "dtype": "float64",
         "stats": {
          "unique_count": 1,
          "nan_count": 0,
          "min": "6400.975612811262",
          "max": "6400.975612811262",
          "histogram": [
           {
            "bin_start": 6400.475612811262,
            "bin_end": 6400.5756128112625,
            "count": 0
           },
           {
            "bin_start": 6400.5756128112625,
            "bin_end": 6400.675612811262,
            "count": 0
           },
           {
            "bin_start": 6400.675612811262,
            "bin_end": 6400.775612811262,
            "count": 0
           },
           {
            "bin_start": 6400.775612811262,
            "bin_end": 6400.875612811262,
            "count": 0
           },
           {
            "bin_start": 6400.875612811262,
            "bin_end": 6400.975612811262,
            "count": 0
           },
           {
            "bin_start": 6400.975612811262,
            "bin_end": 6401.0756128112625,
            "count": 1
           },
           {
            "bin_start": 6401.0756128112625,
            "bin_end": 6401.175612811262,
            "count": 0
           },
           {
            "bin_start": 6401.175612811262,
            "bin_end": 6401.275612811262,
            "count": 0
           },
           {
            "bin_start": 6401.275612811262,
            "bin_end": 6401.375612811262,
            "count": 0
           },
           {
            "bin_start": 6401.375612811262,
            "bin_end": 6401.475612811262,
            "count": 0
           }
          ]
         }
        },
        {
         "name": "_deepnote_index_column",
         "dtype": "int64"
        }
       ],
       "rows": [
        {
         "X(ft)": 112415.44,
         "Y(ft)": 85548.95999999999,
         "AI_lower(2012-01-01)": 6438.783226179554,
         "AI_upper(2012-01-01)": 6403.508051481458,
         "AI_lower(2021-12-20)": 6486.432394523543,
         "AI_upper(2021-12-20)": 6400.975612811262,
         "_deepnote_index_column": 4704
        }
       ]
      },
      "text/plain": "          X(ft)     Y(ft)  AI_lower(2012-01-01)  AI_upper(2012-01-01)  \\\n4704  112415.44  85548.96           6438.783226           6403.508051   \n\n      AI_lower(2021-12-20)  AI_upper(2021-12-20)  \n4704           6486.432395           6400.975613  ",
      "text/html": "<div>\n<style scoped>\n    .dataframe tbody tr th:only-of-type {\n        vertical-align: middle;\n    }\n\n    .dataframe tbody tr th {\n        vertical-align: top;\n    }\n\n    .dataframe thead th {\n        text-align: right;\n    }\n</style>\n<table border=\"1\" class=\"dataframe\">\n  <thead>\n    <tr style=\"text-align: right;\">\n      <th></th>\n      <th>X(ft)</th>\n      <th>Y(ft)</th>\n      <th>AI_lower(2012-01-01)</th>\n      <th>AI_upper(2012-01-01)</th>\n      <th>AI_lower(2021-12-20)</th>\n      <th>AI_upper(2021-12-20)</th>\n    </tr>\n  </thead>\n  <tbody>\n    <tr>\n      <th>4704</th>\n      <td>112415.44</td>\n      <td>85548.96</td>\n      <td>6438.783226</td>\n      <td>6403.508051</td>\n      <td>6486.432395</td>\n      <td>6400.975613</td>\n    </tr>\n  </tbody>\n</table>\n</div>"
     },
     "metadata": {}
    }
   ]
  },
  {
   "cell_type": "code",
   "metadata": {
    "cell_id": "4104c2201d1d443fac90784ff9c06d61",
    "tags": [],
    "deepnote_to_be_reexecuted": true,
    "source_hash": "aa9b80e9",
    "execution_start": 1648270477175,
    "execution_millis": 2328,
    "deepnote_cell_type": "code",
    "deepnote_cell_height": 797.1875
   },
   "source": "for pt in ai.iterrows():\n    print(pt[1])",
   "execution_count": null,
   "outputs": [
    {
     "name": "stdout",
     "text": "AI_lower(2012-01-01)      6297.470578\nAI_upper(2012-01-01)      6285.239008\nAI_lower(2021-12-20)      6280.966257\nAI_upper(2021-12-20)      6305.771121\nName: 796, dtype: float64\nX(ft)                   109791.440000\nY(ft)                    73347.360000\nAI_lower(2012-01-01)      6297.830303\nAI_upper(2012-01-01)      6286.163096\nAI_lower(2021-12-20)      6281.432762\nAI_upper(2021-12-20)      6307.373057\nName: 797, dtype: float64\nX(ft)                   109791.440000\nY(ft)                    73216.160000\nAI_lower(2012-01-01)      6298.209241\nAI_upper(2012-01-01)      6287.119828\nAI_lower(2021-12-20)      6281.871408\nAI_upper(2021-12-20)      6308.745330\nName: 798, dtype: float64\nX(ft)                   109791.440000\nY(ft)                    73084.960000\nAI_lower(2012-01-01)      6298.606636\nAI_upper(2012-01-01)      6288.111141\nAI_lower(2021-12-20)      6282.289104\nAI_upper(2021-12-20)      6309.875600\nName: 799, dtype: float64\nX(ft)                   109922.640000\nY(ft)                    99193.760000\nAI_lower(2012-01-01)      6247.472811\nAI_upper(2012-01-01)      6266.094844\nAI_lower(2021-12-20)      6249.219626\nAI_upper(2021-12-20)      6288.977660\nName: 800, dtype: float64\nX(ft)                   109922.640000\nY(ft)                    99062.560000\nAI_lower(2012-01-01)      6247.758544\nAI_upper(2012-01-01)      6266.220041\nAI_lower(2021-12-20)      6249.643877\nAI_upper(2021-12-20)      6289.066052\nName: 801, dtype: float64\nX(ft)                   109922.640000\nY(ft)                    98931.360000\nAI_lower(2012-01-01)      6248.181530\nAI_upper(2012-01-01)      6266.266935\nAI_lower(2021-12-20)      6250.263508\nAI_upper(2021-12-20)      6288.995261\nName: 802, dtype: float64\nX(ft)                   109922.640000\nY(ft)                    98800.160000\nAI_lower(2012-01-01)      6248.734879\nAI_upper(2012-01-01)      6266.235531\nAI_lower(2021-12-20)      6251.076931\nAI_upper(2021-12-20)      6288.773340\nName: 803, dtype: float64\nX(ft)                   109922.640000\nY(ft)                    98668.960000\nAI_lower(2012-01-01)      6249.412745\nAI_upper(2012-01-01)      6266.136802\nAI_lower(2021-12-20)      6252.085727\nAI_upper(2021-12-20)      6288.411175\nName: 804, dtype: float64\nX(ft)                   109922.640000\nY(ft)                    98537.760000\nAI_lower(2012-01-01)      6250.211254\nAI_upper(2012-01-01)      6265.984723\nAI_lower(2021-12-20)      6253.287987\nAI_upper(2021-12-20)      6287.925590\nName: 805, dtype: float64\nX(ft)                   109922.640000\nY(ft)                    98406.560000\nAI_lower(2012-01-01)      6251.116730\nAI_upper(2012-01-01)      6265.788270\nAI_lower(2021-12-20)      6254.681446\nAI_upper(2021-12-20)      6287.335068\nName: 806, dtype: float64\nX(ft)                   109922.640000\nY(ft)                    98275.360000\nAI_lower(2012-01-01)      6252.122225\nAI_upper(2012-01-01)      6265.563130\nAI_lower(2021-12-20)      6256.260194\nAI_upper(2021-12-20)      6286.661238\nName: 807, dtype: float64\nX(ft)                   109922.640000\nY(ft)                    98144.160000\nAI_lower(2012-01-01)      6253.213258\nAI_upper(2012-01-01)      6265.321687\nAI_lower(2021-12-20)      6258.020624\nAI_upper(2021-12-20)      6285.928905\nName: 808, dtype: float64\nX(ft)                   109922.640000\nY(ft)                    98012.960000\nAI_lower(2012-01-01)      6254.380569\nAI_upper(2012-01-01)      6265.083115\nAI_lower(2021-12-20)      6259.960252\nAI_upper(2021-12-20)      6285.164465\nName: 809, dtype: float64\nX(ft)                   109922.640000\nY(ft)                    97881.760000\nAI_lower(2012-01-01)      6255.609305\nAI_upper(2012-01-01)      6264.860271\nAI_lower(2021-12-20)      6262.070119\nAI_upper(2021-12-20)      6284.394952\nName: 810, dtype: float64\nX(ft)                   109922.640000\nY(ft)                    97750.560000\nAI_lower(2012-01-01)      6256.891696\nAI_upper(2012-01-01)      6264.672474\nAI_lower(2021-12-20)      6264.346835\nAI_upper(2021-12-20)      6283.647700\nName: 811, dtype: float64\nX(ft)                   109922.640000\nY(ft)                    97619.360000\nAI_lower(2012-01-01)      6258.219448\nAI_upper(2012-01-01)      6264.532799\nAI_lower(2021-12-20)      6266.781425\nAI_upper(2021-12-20)      6282.949931\nName: 812, dtype: float64\nX(ft)                   109922.640000\nY(ft)                    97488.160000\nAI_lower(2012-01-01)      6259.583747\nAI_upper(2012-01-01)      6264.458396\nAI_lower(2021-12-20)      6269.365461\nAI_upper(2021-12-20)      6282.330198\nName: 813, dtype: float64\nX(ft)                   109922.640000\nY(ft)                    97356.960000\nAI_lower(2012-01-01)      6260.982616\nAI_upper(2012-01-01)      6264.461637\nAI_lower(2021-12-20)      6272.089468\nAI_upper(2021-12-20)      6281.810784\nName: 814, dtype: float64\nX(ft)                   109922.640000\nY(ft)                    97225.760000\nAI_lower(2012-01-01)      6262.413868\nAI_upper(2012-01-01)      6264.555001\nAI_lower(2021-12-20)      6274.943750\nAI_upper(2021-12-20)      6281.415719\nName: 815, dtype: float64\nX(ft)                   109922.640000\nY(ft)                    97094.560000\nAI_lower(2012-01-01)      6263.885197\nAI_upper(2012-01-01)      6264.758348\nAI_lower(2021-12-20)      6277.918231\nAI_upper(2021-12-20)      6281.167422\nName: 816, dtype: float64\nX(ft)                   109922.640000\nY(ft)                    96963.360000\nAI_lower(2012-01-01)      6265.395861\nAI_upper(2012-01-01)      6265.081755\nAI_lower(2021-12-20)      6280.999310\nAI_upper(2021-12-20)      6281.083341\nName: 817, dtype: float64\nX(ft)                   109922.640000\nY(ft)                    96832.160000\nAI_lower(2012-01-01)      6266.958490\nAI_upper(2012-01-01)      6265.539782\nAI_lower(2021-12-20)      6284.174346\nAI_upper(2021-12-20)      6281.175119\nName: 818, dtype: float64\nX(ft)                   109922.640000\nY(ft)                    96700.960000\nAI_lower(2012-01-01)      6268.582939\nAI_upper(2012-01-01)      6266.143451\nAI_lower(2021-12-20)      6287.431724\nAI_upper(2021-12-20)      6281.457957\nName: 819, dtype: float64\nX(ft)                   109922.640000\nY(ft)                    96569.760000\nAI_lower(2012-01-01)      6270.281532\nAI_upper(2012-01-01)      6266.908324\nAI_lower(2021-12-20)      6290.755992\nAI_upper(2021-12-20)      6281.937375\nName: 820, dtype: float64\nX(ft)                   109922.640000\nY(ft)                    96438.560000\nAI_lower(2012-01-01)      6272.066197\nAI_upper(2012-01-01)      6267.846037\nAI_lower(2021-12-20)      6294.130116\nAI_upper(2021-12-20)      6282.619255\nName: 821, dtype: float64\nX(ft)                   109922.640000\nY(ft)                    96307.360000\nAI_lower(2012-01-01)      6273.951428\nAI_upper(2012-01-01)      6268.970448\nAI_lower(2021-12-20)      6297.545076\nAI_upper(2021-12-20)      6283.506785\nName: 822, dtype: float64\nX(ft)                   109922.640000\nY(ft)                    96176.160000\nAI_lower(2012-01-01)      6275.948762\nAI_upper(2012-01-01)      6270.294592\nAI_lower(2021-12-20)      6300.984554\nAI_upper(2021-12-20)      6284.598650\nName: 823, dtype: float64\nX(ft)                   109922.640000\nY(ft)                    96044.960000\nAI_lower(2012-01-01)      6278.069876\nAI_upper(2012-01-01)      6271.828204\nAI_lower(2021-12-20)      6304.439439\nAI_upper(2021-12-20)      6285.889932\nName: 824, dtype: float64\nX(ft)                   109922.640000\nY(ft)                    95913.760000\nAI_lower(2012-01-01)      6280.325100\nAI_upper(2012-01-01)      6273.582563\nAI_lower(2021-12-20)      6307.902725\nAI_upper(2021-12-20)      6287.372623\nName: 825, dtype: float64\nX(ft)                   109922.640000\nY(ft)                    95782.560000\nAI_lower(2012-01-01)      6282.717616\nAI_upper(2012-01-01)      6275.563826\nAI_lower(2021-12-20)      6311.370976\nAI_upper(2021-12-20)      6289.044611\nName: 826, dtype: float64\nX(ft)                   109922.640000\nY(ft)                    95651.360000\nAI_lower(2012-01-01)      6285.254342\nAI_upper(2012-01-01)      6277.781267\nAI_lower(2021-12-20)      6314.846655\nAI_upper(2021-12-20)      6290.891908\nName: 827, dtype: float64\nX(ft)                   109922.640000\nY(ft)                    95520.160000\nAI_lower(2012-01-01)      6287.938028\nAI_upper(2012-01-01)      6280.233605\nAI_lower(2021-12-20)      6318.332208\nAI_upper(2021-12-20)      6292.908687\nName: 828, dtype: float64\nX(ft)                   109922.640000\nY(ft)                    95388.960000\nAI_lower(2012-01-01)      6290.765208\nAI_upper(2012-01-01)      6282.921667\nAI_lower(2021-12-20)      6321.837977\nAI_upper(2021-12-20)      6295.078208\nName: 829, dtype: float64\nX(ft)                   109922.640000\nY(ft)                    95257.760000\nAI_lower(2012-01-01)      6293.736655\nAI_upper(2012-01-01)      6285.840064\nAI_lower(2021-12-20)      6325.375059\nAI_upper(2021-12-20)      6297.393362\nName: 830, dtype: float64\nX(ft)                   109922.640000\nY(ft)                    95126.560000\nAI_lower(2012-01-01)      6296.844124\nAI_upper(2012-01-01)      6288.981524\nAI_lower(2021-12-20)      6328.964572\nAI_upper(2021-12-20)      6299.840550\nName: 831, dtype: float64\nX(ft)                   109922.640000\nY(ft)                    94995.360000\nAI_lower(2012-01-01)      6300.085686\nAI_upper(2012-01-01)      6292.333521\nAI_lower(2021-12-20)      6332.624653\nAI_upper(2021-12-20)      6302.413818\nName: 832, dtype: float64\nX(ft)                   109922.640000\nY(ft)                    94864.160000\nAI_lower(2012-01-01)      6303.456186\nAI_upper(2012-01-01)      6295.880234\nAI_lower(2021-12-20)      6336.379355\nAI_upper(2021-12-20)      6305.104385\nName: 833, dtype: float64\nX(ft)                   109922.640000\nY(ft)                    94732.960000\nAI_lower(2012-01-01)      6306.954623\nAI_upper(2012-01-01)      6299.604590\nAI_lower(2021-12-20)      6340.254208\nAI_upper(2021-12-20)      6307.902960\nName: 834, dtype: float64\nX(ft)                   109922.640000\nY(ft)                    94601.760000\nAI_lower(2012-01-01)      6310.576363\nAI_upper(2012-01-01)      6303.486623\nAI_lower(2021-12-20)      6344.277437\nAI_upper(2021-12-20)      6310.806750\nName: 835, dtype: float64\nX(ft)                   109922.640000\nY(ft)                    94470.560000\nAI_lower(2012-01-01)      6314.318816\nAI_upper(2012-01-01)      6307.505660\nAI_lower(2021-12-20)      6348.472552\nAI_upper(2021-12-20)      6313.814304\nName: 836, dtype: float64\nX(ft)                   109922.640000\nY(ft)                    94339.360000\nAI_lower(2012-01-01)      6318.182592\nAI_upper(2012-01-01)      6311.641671\nAI_lower(2021-12-20)      6352.864153\nAI_upper(2021-12-20)      6316.927052\nName: 837, dtype: float64\nX(ft)                   109922.640000\nY(ft)                    94208.160000\nAI_lower(2012-01-01)      6322.172691\nAI_upper(2012-01-01)      6315.874534\nAI_lower(2021-12-20)      6357.472790\nAI_upper(2021-12-20)      6320.149960\nName: 838, dtype: float64\nX(ft)                   109922.640000\nY(ft)                    94076.960000\nAI_lower(2012-01-01)      6326.291252\nAI_upper(2012-01-01)      6320.184095\nAI_lower(2021-12-20)      6362.317744\nAI_upper(2021-12-20)      6323.489481\nName: 839, dtype: float64\nX(ft)                   109922.640000\nY(ft)                    93945.760000\nAI_lower(2012-01-01)      6330.546691\nAI_upper(2012-01-01)      6324.557263\nAI_lower(2021-12-20)      6367.412270\nAI_upper(2021-12-20)      6326.955558\nName: 840, dtype: float64\nX(ft)                   109922.640000\nY(ft)                    93814.560000\nAI_lower(2012-01-01)      6334.945422\nAI_upper(2012-01-01)      6328.981857\nAI_lower(2021-12-20)      6372.762863\nAI_upper(2021-12-20)      6330.560612\nName: 841, dtype: float64\nX(ft)                   109922.640000\nY(ft)                    93683.360000\nAI_lower(2012-01-01)      6339.492986\nAI_upper(2012-01-01)      6333.447819\nAI_lower(2021-12-20)      6378.376440\nAI_upper(2021-12-20)      6334.318451\nName: 842, dtype: float64\nX(ft)                   109922.640000\nY(ft)                    93552.160000\nAI_lower(2012-01-01)      6344.197155\nAI_upper(2012-01-01)      6337.949284\nAI_lower(2021-12-20)      6384.247483\nAI_upper(2021-12-20)      6338.247344\nName: 843, dtype: float64\nX(ft)                   109922.640000\nY(ft)                    93420.960000\nAI_lower(2012-01-01)      6349.065056\nAI_upper(2012-01-01)      6342.489691\nAI_lower(2021-12-20)      6390.370465\nAI_upper(2021-12-20)      6342.362854\nName: 844, dtype: float64\nX(ft)                   109922.640000\nY(ft)                    93289.760000\nAI_lower(2012-01-01)      6354.101049\nAI_upper(2012-01-01)      6347.068240\nAI_lower(2021-12-20)      6396.733437\nAI_upper(2021-12-20)      6346.677977\nName: 845, dtype: float64\nX(ft)                   109922.640000\nY(ft)                    93158.560000\nAI_lower(2012-01-01)      6359.308035\nAI_upper(2012-01-01)      6351.689267\nAI_lower(2021-12-20)      6403.319140\nAI_upper(2021-12-20)      6351.207625\nName: 846, dtype: float64\nX(ft)                   109922.640000\nY(ft)                    93027.360000\nAI_lower(2012-01-01)      6364.683479\nAI_upper(2012-01-01)      6356.361951\nAI_lower(2021-12-20)      6410.105025\nAI_upper(2021-12-20)      6355.962252\nName: 847, dtype: float64\nX(ft)                   109922.640000\nY(ft)                    92896.160000\nAI_lower(2012-01-01)      6370.226581\nAI_upper(2012-01-01)      6361.095365\nAI_lower(2021-12-20)      6417.072884\nAI_upper(2021-12-20)      6360.946367\nName: 848, dtype: float64\nX(ft)                   109922.640000\nY(ft)                    92764.960000\nAI_lower(2012-01-01)      6375.929610\nAI_upper(2012-01-01)      6365.900186\nAI_lower(2021-12-20)      6424.194407\nAI_upper(2021-12-20)      6366.165044\nName: 849, dtype: float64\nX(ft)                   109922.640000\nY(ft)                    92633.760000\nAI_lower(2012-01-01)      6381.787154\nAI_upper(2012-01-01)      6370.783471\nAI_lower(2021-12-20)      6431.447840\nAI_upper(2021-12-20)      6371.612440\nName: 850, dtype: float64\nX(ft)                   109922.640000\nY(ft)                    92502.560000\nAI_lower(2012-01-01)      6387.784597\nAI_upper(2012-01-01)      6375.751002\nAI_lower(2021-12-20)      6438.809346\nAI_upper(2021-12-20)      6377.281004\nName: 851, dtype: float64\nX(ft)                   109922.640000\nY(ft)                    92371.360000\nAI_lower(2012-01-01)      6393.907776\nAI_upper(2012-01-01)      6380.811776\nAI_lower(2021-12-20)      6446.256587\nAI_upper(2021-12-20)      6383.154993\nName: 852, dtype: float64\nX(ft)                   109922.640000\nY(ft)                    92240.160000\nAI_lower(2012-01-01)      6400.136645\nAI_upper(2012-01-01)      6385.970083\nAI_lower(2021-12-20)      6453.769148\nAI_upper(2021-12-20)      6389.212968\nName: 853, dtype: float64\nX(ft)                   109922.640000\nY(ft)                    92108.960000\nAI_lower(2012-01-01)      6406.455841\nAI_upper(2012-01-01)      6391.226161\nAI_lower(2021-12-20)      6461.327236\nAI_upper(2021-12-20)      6395.428863\nName: 854, dtype: float64\nX(ft)                   109922.640000\nY(ft)                    91977.760000\nAI_lower(2012-01-01)      6412.842804\nAI_upper(2012-01-01)      6396.577768\nAI_lower(2021-12-20)      6468.920493\nAI_upper(2021-12-20)      6401.768131\nName: 855, dtype: float64\nX(ft)                   109922.640000\nY(ft)                    91846.560000\nAI_lower(2012-01-01)      6419.273844\nAI_upper(2012-01-01)      6402.017714\nAI_lower(2021-12-20)      6476.532513\nAI_upper(2021-12-20)      6408.194878\nName: 856, dtype: float64\nX(ft)                   109922.640000\nY(ft)                    91715.360000\nAI_lower(2012-01-01)      6425.729851\nAI_upper(2012-01-01)      6407.541896\nAI_lower(2021-12-20)      6484.158245\nAI_upper(2021-12-20)      6414.669076\nName: 857, dtype: float64\nX(ft)                   109922.640000\nY(ft)                    91584.160000\nAI_lower(2012-01-01)      6432.183808\nAI_upper(2012-01-01)      6413.134458\nAI_lower(2021-12-20)      6491.790111\nAI_upper(2021-12-20)      6421.149697\nName: 858, dtype: float64\nX(ft)                   109922.640000\nY(ft)                    91452.960000\nAI_lower(2012-01-01)      6438.613071\nAI_upper(2012-01-01)      6418.784826\nAI_lower(2021-12-20)      6499.423417\nAI_upper(2021-12-20)      6427.590958\nName: 859, dtype: float64\nX(ft)                   109922.640000\nY(ft)                    91321.760000\nAI_lower(2012-01-01)      6444.995730\nAI_upper(2012-01-01)      6424.471000\nAI_lower(2021-12-20)      6507.052012\nAI_upper(2021-12-20)      6433.950318\nName: 860, dtype: float64\nX(ft)                   109922.640000\nY(ft)                    91190.560000\nAI_lower(2012-01-01)      6451.307569\nAI_upper(2012-01-01)      6430.173119\nAI_lower(2021-12-20)      6514.674760\nAI_upper(2021-12-20)      6440.187383\nName: 861, dtype: float64\nX(ft)                   109922.640000\nY(ft)                    91059.360000\nAI_lower(2012-01-01)      6457.528354\nAI_upper(2012-01-01)      6435.865708\nAI_lower(2021-12-20)      6522.287590\nAI_upper(2021-12-20)      6446.262633\nName: 862, dtype: float64\nX(ft)                   109922.640000\nY(ft)                    90928.160000\nAI_lower(2012-01-01)      6463.635483\nAI_upper(2012-01-01)      6441.525700\nAI_lower(2021-12-20)      6529.882051\nAI_upper(2021-12-20)      6452.143119\nName: 863, dtype: float64\nX(ft)                   109922.640000\nY(ft)                    90796.960000\nAI_lower(2012-01-01)      6469.608427\nAI_upper(2012-01-01)      6447.127536\nAI_lower(2021-12-20)      6537.449439\nAI_upper(2021-12-20)      6457.793852\nName: 864, dtype: float64\nX(ft)                   109922.640000\nY(ft)                    90665.760000\nAI_lower(2012-01-01)      6475.428748\nAI_upper(2012-01-01)      6452.639040\nAI_lower(2021-12-20)      6544.973848\nAI_upper(2021-12-20)      6463.193224\nName: 865, dtype: float64\nX(ft)                   109922.640000\nY(ft)                    90534.560000\nAI_lower(2012-01-01)      6481.077275\nAI_upper(2012-01-01)      6458.034183\nAI_lower(2021-12-20)      6552.442244\nAI_upper(2021-12-20)      6468.318069\nName: 866, dtype: float64\nX(ft)                   109922.640000\nY(ft)                    90403.360000\nAI_lower(2012-01-01)      6486.533105\nAI_upper(2012-01-01)      6463.281550\nAI_lower(2021-12-20)      6559.830558\nAI_upper(2021-12-20)      6473.151672\nName: 867, dtype: float64\nX(ft)                   109922.640000\nY(ft)                    90272.160000\nAI_lower(2012-01-01)      6491.779642\nAI_upper(2012-01-01)      6468.358884\nAI_lower(2021-12-20)      6567.108441\nAI_upper(2021-12-20)      6477.685896\nName: 868, dtype: float64\nX(ft)                   109922.640000\nY(ft)                    90140.960000\nAI_lower(2012-01-01)      6496.797263\nAI_upper(2012-01-01)      6473.236528\nAI_lower(2021-12-20)      6574.246204\nAI_upper(2021-12-20)      6481.915578\nName: 869, dtype: float64\nX(ft)                   109922.640000\nY(ft)                    90009.760000\nAI_lower(2012-01-01)      6501.565246\nAI_upper(2012-01-01)      6477.889044\nAI_lower(2021-12-20)      6581.207070\nAI_upper(2021-12-20)      6485.835682\nName: 870, dtype: float64\nX(ft)                   109922.640000\nY(ft)                    89878.560000\nAI_lower(2012-01-01)      6506.065226\nAI_upper(2012-01-01)      6482.298242\nAI_lower(2021-12-20)      6587.948406\nAI_upper(2021-12-20)      6489.452686\nName: 871, dtype: float64\nX(ft)                   109922.640000\nY(ft)                    89747.360000\nAI_lower(2012-01-01)      6510.275690\nAI_upper(2012-01-01)      6486.440830\nAI_lower(2021-12-20)      6594.427603\nAI_upper(2021-12-20)      6492.766247\nName: 872, dtype: float64\nX(ft)                   109922.640000\nY(ft)                    89616.160000\nAI_lower(2012-01-01)      6514.177962\nAI_upper(2012-01-01)      6490.306914\nAI_lower(2021-12-20)      6600.598216\nAI_upper(2021-12-20)      6495.783379\nName: 873, dtype: float64\nX(ft)                   109922.640000\nY(ft)                    89484.960000\nAI_lower(2012-01-01)      6517.750526\nAI_upper(2012-01-01)      6493.880290\nAI_lower(2021-12-20)      6606.409554\nAI_upper(2021-12-20)      6498.510285\nName: 874, dtype: float64\nX(ft)                   109922.640000\nY(ft)                    89353.760000\nAI_lower(2012-01-01)      6520.969109\nAI_upper(2012-01-01)      6497.152926\nAI_lower(2021-12-20)      6611.813169\nAI_upper(2021-12-20)      6500.953741\nName: 875, dtype: float64\nX(ft)                   109922.640000\nY(ft)                    89222.560000\nAI_lower(2012-01-01)      6523.815840\nAI_upper(2012-01-01)      6500.115033\nAI_lower(2021-12-20)      6616.763891\nAI_upper(2021-12-20)      6503.119934\nName: 876, dtype: float64\nX(ft)                   109922.640000\nY(ft)                    89091.360000\nAI_lower(2012-01-01)      6526.275649\nAI_upper(2012-01-01)      6502.762623\nAI_lower(2021-12-20)      6621.211495\nAI_upper(2021-12-20)      6505.011729\nName: 877, dtype: float64\nX(ft)                   109922.640000\nY(ft)                    88960.160000\nAI_lower(2012-01-01)      6528.327095\nAI_upper(2012-01-01)      6505.089737\nAI_lower(2021-12-20)      6625.112336\nAI_upper(2021-12-20)      6506.632842\nName: 878, dtype: float64\nX(ft)                   109922.640000\nY(ft)                    88828.960000\nAI_lower(2012-01-01)      6529.955466\nAI_upper(2012-01-01)      6507.090918\nAI_lower(2021-12-20)      6628.427935\nAI_upper(2021-12-20)      6507.982893\nName: 879, dtype: float64\nX(ft)                   109922.640000\nY(ft)                    88697.760000\nAI_lower(2012-01-01)      6531.155337\nAI_upper(2012-01-01)      6508.768087\nAI_lower(2021-12-20)      6631.123833\nAI_upper(2021-12-20)      6509.059855\nName: 880, dtype: float64\nX(ft)                   109922.640000\nY(ft)                    88566.560000\nAI_lower(2012-01-01)      6531.914027\nAI_upper(2012-01-01)      6510.105768\nAI_lower(2021-12-20)      6633.164919\nAI_upper(2021-12-20)      6509.863868\nName: 881, dtype: float64\nX(ft)                   109922.640000\nY(ft)                    88435.360000\nAI_lower(2012-01-01)      6532.235215\nAI_upper(2012-01-01)      6511.100259\nAI_lower(2021-12-20)      6634.525867\nAI_upper(2021-12-20)      6510.387285\nName: 882, dtype: float64\nX(ft)                   109922.640000\nY(ft)                    88304.160000\nAI_lower(2012-01-01)      6532.116193\nAI_upper(2012-01-01)      6511.740488\nAI_lower(2021-12-20)      6635.184538\nAI_upper(2021-12-20)      6510.621860\nName: 883, dtype: float64\nX(ft)                   109922.640000\nY(ft)                    88172.960000\nAI_lower(2012-01-01)      6531.565669\nAI_upper(2012-01-01)      6512.016210\nAI_lower(2021-12-20)      6635.126166\nAI_upper(2021-12-20)      6510.556639\nName: 884, dtype: float64\nX(ft)                   109922.640000\nY(ft)                    88041.760000\nAI_lower(2012-01-01)      6530.598251\nAI_upper(2012-01-01)      6511.909656\nAI_lower(2021-12-20)      6634.339563\nAI_upper(2021-12-20)      6510.184483\nName: 885, dtype: float64\nX(ft)                   109922.640000\nY(ft)                    87910.560000\nAI_lower(2012-01-01)      6529.227279\nAI_upper(2012-01-01)      6511.404759\nAI_lower(2021-12-20)      6632.819812\nAI_upper(2021-12-20)      6509.495366\nName: 886, dtype: float64\nX(ft)                   109922.640000\nY(ft)                    87779.360000\nAI_lower(2012-01-01)      6527.474878\nAI_upper(2012-01-01)      6510.485835\nAI_lower(2021-12-20)      6630.565205\nAI_upper(2021-12-20)      6508.480321\nName: 887, dtype: float64\nX(ft)                   109922.640000\nY(ft)                    87648.160000\nAI_lower(2012-01-01)      6525.361510\nAI_upper(2012-01-01)      6509.133942\nAI_lower(2021-12-20)      6627.577343\nAI_upper(2021-12-20)      6507.128423\nName: 888, dtype: float64\nX(ft)                   109922.640000\nY(ft)                    87516.960000\nAI_lower(2012-01-01)      6522.915498\nAI_upper(2012-01-01)      6507.336425\nAI_lower(2021-12-20)      6623.866906\nAI_upper(2021-12-20)      6505.435509\nName: 889, dtype: float64\nX(ft)                   109922.640000\nY(ft)                    87385.760000\nAI_lower(2012-01-01)      6520.160428\nAI_upper(2012-01-01)      6505.080445\nAI_lower(2021-12-20)      6619.441728\nAI_upper(2021-12-20)      6503.397233\nName: 890, dtype: float64\nX(ft)                   109922.640000\nY(ft)                    87254.560000\nAI_lower(2012-01-01)      6517.123861\nAI_upper(2012-01-01)      6502.361633\nAI_lower(2021-12-20)      6614.322148\nAI_upper(2021-12-20)      6501.014616\nName: 891, dtype: float64\nX(ft)                   109922.640000\nY(ft)                    87123.360000\nAI_lower(2012-01-01)      6513.828270\nAI_upper(2012-01-01)      6499.176500\nAI_lower(2021-12-20)      6608.525118\nAI_upper(2021-12-20)      6498.286114\nName: 892, dtype: float64\nX(ft)                   109922.640000\nY(ft)                    86992.160000\nAI_lower(2012-01-01)      6510.300198\nAI_upper(2012-01-01)      6495.530841\nAI_lower(2021-12-20)      6602.075198\nAI_upper(2021-12-20)      6495.217639\nName: 893, dtype: float64\nX(ft)                   109922.640000\nY(ft)                    86860.960000\nAI_lower(2012-01-01)      6506.559097\nAI_upper(2012-01-01)      6491.436366\nAI_lower(2021-12-20)      6595.004419\nAI_upper(2021-12-20)      6491.817803\nName: 894, dtype: float64\nX(ft)                   109922.640000\nY(ft)                    86729.760000\nAI_lower(2012-01-01)      6502.623826\nAI_upper(2012-01-01)      6486.918244\nAI_lower(2021-12-20)      6587.341277\nAI_upper(2021-12-20)      6488.099836\nName: 895, dtype: float64\nX(ft)                   109922.640000\nY(ft)                    86598.560000\nAI_lower(2012-01-01)      6498.510322\nAI_upper(2012-01-01)      6482.003262\nAI_lower(2021-12-20)      6579.128614\nAI_upper(2021-12-20)      6484.080512\nName: 896, dtype: float64\nX(ft)                   109922.640000\nY(ft)                    86467.360000\nAI_lower(2012-01-01)      6494.229473\nAI_upper(2012-01-01)      6476.722933\nAI_lower(2021-12-20)      6570.402926\nAI_upper(2021-12-20)      6479.778420\nName: 897, dtype: float64\nX(ft)                   109922.640000\nY(ft)                    86336.160000\nAI_lower(2012-01-01)      6489.795886\nAI_upper(2012-01-01)      6471.126400\nAI_lower(2021-12-20)      6561.211462\nAI_upper(2021-12-20)      6475.213745\nName: 898, dtype: float64\nX(ft)                   109922.640000\nY(ft)                    86204.960000\nAI_lower(2012-01-01)      6485.216679\nAI_upper(2012-01-01)      6465.256971\nAI_lower(2021-12-20)      6551.606206\nAI_upper(2021-12-20)      6470.412476\nName: 899, dtype: float64\nX(ft)                   109922.640000\nY(ft)                    86073.760000\nAI_lower(2012-01-01)      6480.498652\nAI_upper(2012-01-01)      6459.168384\nAI_lower(2021-12-20)      6541.638900\nAI_upper(2021-12-20)      6465.398367\nName: 900, dtype: float64\nX(ft)                   109922.640000\nY(ft)                    85942.560000\nAI_lower(2012-01-01)      6475.645962\nAI_upper(2012-01-01)      6452.912654\nAI_lower(2021-12-20)      6531.368445\nAI_upper(2021-12-20)      6460.200532\nName: 901, dtype: float64\nX(ft)                   109922.640000\nY(ft)                    85811.360000\nAI_lower(2012-01-01)      6470.666116\nAI_upper(2012-01-01)      6446.542931\nAI_lower(2021-12-20)      6520.854939\nAI_upper(2021-12-20)      6454.845704\nName: 902, dtype: float64\nX(ft)                   109922.640000\nY(ft)                    85680.160000\nAI_lower(2012-01-01)      6465.567058\nAI_upper(2012-01-01)      6440.109026\nAI_lower(2021-12-20)      6510.157984\nAI_upper(2021-12-20)      6449.356750\nName: 903, dtype: float64\nX(ft)                   109922.640000\nY(ft)                    85548.960000\nAI_lower(2012-01-01)      6460.352698\nAI_upper(2012-01-01)      6433.660139\nAI_lower(2021-12-20)      6499.341690\nAI_upper(2021-12-20)      6443.762847\nName: 904, dtype: float64\nX(ft)                   109922.640000\nY(ft)                    85417.760000\nAI_lower(2012-01-01)      6455.030478\nAI_upper(2012-01-01)      6427.234335\nAI_lower(2021-12-20)      6488.466087\nAI_upper(2021-12-20)      6438.090084\nName: 905, dtype: float64\nX(ft)                   109922.640000\nY(ft)                    85286.560000\nAI_lower(2012-01-01)      6449.607755\nAI_upper(2012-01-01)      6420.874494\nAI_lower(2021-12-20)      6477.590448\nAI_upper(2021-12-20)      6432.357421\nName: 906, dtype: float64\nX(ft)                   109922.640000\nY(ft)                    85155.360000\nAI_lower(2012-01-01)      6444.092620\nAI_upper(2012-01-01)      6414.608006\nAI_lower(2021-12-20)      6466.769749\nAI_upper(2021-12-20)      6426.586377\nName: 907, dtype: float64\nX(ft)                   109922.640000\nY(ft)                    85024.160000\nAI_lower(2012-01-01)      6438.493515\nAI_upper(2012-01-01)      6408.458917\nAI_lower(2021-12-20)      6456.059021\nAI_upper(2021-12-20)      6420.796068\nName: 908, dtype: float64\nX(ft)                   109922.640000\nY(ft)                    84892.960000\nAI_lower(2012-01-01)      6432.820019\nAI_upper(2012-01-01)      6402.443805\nAI_lower(2021-12-20)      6445.508963\nAI_upper(2021-12-20)      6414.997647\nName: 909, dtype: float64\nX(ft)                   109922.640000\nY(ft)                    84761.760000\nAI_lower(2012-01-01)      6427.083268\nAI_upper(2012-01-01)      6396.566692\nAI_lower(2021-12-20)      6435.162424\nAI_upper(2021-12-20)      6409.204981\nName: 910, dtype: float64\nX(ft)                   109922.640000\nY(ft)                    84630.560000\nAI_lower(2012-01-01)      6421.289556\nAI_upper(2012-01-01)      6390.835298\nAI_lower(2021-12-20)      6425.059106\nAI_upper(2021-12-20)      6403.423817\nName: 911, dtype: float64\nX(ft)                   109922.640000\nY(ft)                    84499.360000\nAI_lower(2012-01-01)      6415.450566\nAI_upper(2012-01-01)      6385.249738\nAI_lower(2021-12-20)      6415.230388\nAI_upper(2021-12-20)      6397.662652\nName: 912, dtype: float64\nX(ft)                   109922.640000\nY(ft)                    84368.160000\nAI_lower(2012-01-01)      6409.575180\nAI_upper(2012-01-01)      6379.799926\nAI_lower(2021-12-20)      6405.706495\nAI_upper(2021-12-20)      6391.925497\nName: 913, dtype: float64\nX(ft)                   109922.640000\nY(ft)                    84236.960000\nAI_lower(2012-01-01)      6403.672066\nAI_upper(2012-01-01)      6374.481031\nAI_lower(2021-12-20)      6396.507539\nAI_upper(2021-12-20)      6386.213648\nName: 914, dtype: float64\nX(ft)                   109922.640000\nY(ft)                    84105.760000\nAI_lower(2012-01-01)      6397.747778\nAI_upper(2012-01-01)      6369.284192\nAI_lower(2021-12-20)      6387.655187\nAI_upper(2021-12-20)      6380.529589\nName: 915, dtype: float64\nX(ft)                   109922.640000\nY(ft)                    83974.560000\nAI_lower(2012-01-01)      6391.816550\nAI_upper(2012-01-01)      6364.197085\nAI_lower(2021-12-20)      6379.158965\nAI_upper(2021-12-20)      6374.870528\nName: 916, dtype: float64\nX(ft)                   109922.640000\nY(ft)                    83843.360000\nAI_lower(2012-01-01)      6385.885892\nAI_upper(2012-01-01)      6359.214395\nAI_lower(2021-12-20)      6371.037003\nAI_upper(2021-12-20)      6369.240106\nName: 917, dtype: float64\nX(ft)                   109922.640000\nY(ft)                    83712.160000\nAI_lower(2012-01-01)      6379.968131\nAI_upper(2012-01-01)      6354.327158\nAI_lower(2021-12-20)      6363.295023\nAI_upper(2021-12-20)      6363.640136\nName: 918, dtype: float64\nX(ft)                   109922.640000\nY(ft)                    83580.960000\nAI_lower(2012-01-01)      6374.074102\nAI_upper(2012-01-01)      6349.532227\nAI_lower(2021-12-20)      6355.943891\nAI_upper(2021-12-20)      6358.073125\nName: 919, dtype: float64\nX(ft)                   109922.640000\nY(ft)                    83449.760000\nAI_lower(2012-01-01)      6368.221822\nAI_upper(2012-01-01)      6344.827969\nAI_lower(2021-12-20)      6348.990386\nAI_upper(2021-12-20)      6352.546623\nName: 920, dtype: float64\nX(ft)                   109922.640000\nY(ft)                    83318.560000\nAI_lower(2012-01-01)      6362.424377\nAI_upper(2012-01-01)      6340.216264\nAI_lower(2021-12-20)      6342.443347\nAI_upper(2021-12-20)      6347.068168\nName: 921, dtype: float64\nX(ft)                   109922.640000\nY(ft)                    83187.360000\nAI_lower(2012-01-01)      6356.701866\nAI_upper(2012-01-01)      6335.703628\nAI_lower(2021-12-20)      6336.311279\nAI_upper(2021-12-20)      6341.653044\nName: 922, dtype: float64\nX(ft)                   109922.640000\nY(ft)                    83056.160000\nAI_lower(2012-01-01)      6351.075833\nAI_upper(2012-01-01)      6331.297240\nAI_lower(2021-12-20)      6330.596610\nAI_upper(2021-12-20)      6336.313539\nName: 923, dtype: float64\nX(ft)                   109922.640000\nY(ft)                    82924.960000\nAI_lower(2012-01-01)      6345.568266\nAI_upper(2012-01-01)      6327.011117\nAI_lower(2021-12-20)      6325.308632\nAI_upper(2021-12-20)      6331.067496\nName: 924, dtype: float64\nX(ft)                   109922.640000\nY(ft)                    82793.760000\nAI_lower(2012-01-01)      6340.201788\nAI_upper(2012-01-01)      6322.855147\nAI_lower(2021-12-20)      6320.453926\nAI_upper(2021-12-20)      6325.936315\nName: 925, dtype: float64\nX(ft)                   109922.640000\nY(ft)                    82662.560000\nAI_lower(2012-01-01)      6335.002729\nAI_upper(2012-01-01)      6318.845010\nAI_lower(2021-12-20)      6316.033145\nAI_upper(2021-12-20)      6320.946743\nName: 926, dtype: float64\nX(ft)                   109922.640000\nY(ft)                    82531.360000\nAI_lower(2012-01-01)      6329.993102\nAI_upper(2012-01-01)      6315.000531\nAI_lower(2021-12-20)      6312.048216\nAI_upper(2021-12-20)      6316.121572\nName: 927, dtype: float64\nX(ft)                   109922.640000\nY(ft)                    82400.160000\nAI_lower(2012-01-01)      6325.200056\nAI_upper(2012-01-01)      6311.335151\nAI_lower(2021-12-20)      6308.494700\nAI_upper(2021-12-20)      6311.489392\nName: 928, dtype: float64\nX(ft)                   109922.640000\nY(ft)                    82268.960000\nAI_lower(2012-01-01)      6320.642666\nAI_upper(2012-01-01)      6307.862899\nAI_lower(2021-12-20)      6305.365487\nAI_upper(2021-12-20)      6307.074161\nName: 929, dtype: float64\nX(ft)                   109922.640000\nY(ft)                    82137.760000\nAI_lower(2012-01-01)      6316.344705\nAI_upper(2012-01-01)      6304.600088\nAI_lower(2021-12-20)      6302.651556\nAI_upper(2021-12-20)      6302.900116\nName: 930, dtype: float64\nX(ft)                   109922.640000\nY(ft)                    82006.560000\nAI_lower(2012-01-01)      6312.316764\nAI_upper(2012-01-01)      6301.561106\nAI_lower(2021-12-20)      6300.329391\nAI_upper(2021-12-20)      6298.987710\nName: 931, dtype: float64\nX(ft)                   109922.640000\nY(ft)                    81875.360000\nAI_lower(2012-01-01)      6308.574833\nAI_upper(2012-01-01)      6298.758800\nAI_lower(2021-12-20)      6298.376956\nAI_upper(2021-12-20)      6295.356482\nName: 932, dtype: float64\nX(ft)                   109922.640000\nY(ft)                    81744.160000\nAI_lower(2012-01-01)      6305.128522\nAI_upper(2012-01-01)      6296.198726\nAI_lower(2021-12-20)      6296.761029\nAI_upper(2021-12-20)      6292.023556\nName: 933, dtype: float64\nX(ft)                   109922.640000\nY(ft)                    81612.960000\nAI_lower(2012-01-01)      6301.983095\nAI_upper(2012-01-01)      6293.886988\nAI_lower(2021-12-20)      6295.449540\nAI_upper(2021-12-20)      6288.992832\nName: 934, dtype: float64\nX(ft)                   109922.640000\nY(ft)                    81481.760000\nAI_lower(2012-01-01)      6299.132347\nAI_upper(2012-01-01)      6291.823749\nAI_lower(2021-12-20)      6294.400304\nAI_upper(2021-12-20)      6286.267292\nName: 935, dtype: float64\nX(ft)                   109922.640000\nY(ft)                    81350.560000\nAI_lower(2012-01-01)      6296.574589\nAI_upper(2012-01-01)      6290.009053\nAI_lower(2021-12-20)      6293.564286\nAI_upper(2021-12-20)      6283.844528\nName: 936, dtype: float64\nX(ft)                   109922.640000\nY(ft)                    81219.360000\nAI_lower(2012-01-01)      6294.297374\nAI_upper(2012-01-01)      6288.439092\nAI_lower(2021-12-20)      6292.894889\nAI_upper(2021-12-20)      6281.717468\nName: 937, dtype: float64\nX(ft)                   109922.640000\nY(ft)                    81088.160000\nAI_lower(2012-01-01)      6292.286379\nAI_upper(2012-01-01)      6287.103427\nAI_lower(2021-12-20)      6292.340834\nAI_upper(2021-12-20)      6279.869883\nName: 938, dtype: float64\n",
     "output_type": "stream"
    },
    {
     "output_type": "error",
     "ename": "KeyboardInterrupt",
     "evalue": "",
     "traceback": [
      "\u001b[0;31m---------------------------------------------------------------------------\u001b[0m",
      "\u001b[0;31mKeyboardInterrupt\u001b[0m                         Traceback (most recent call last)",
      "\u001b[0;32m<ipython-input-54-933eb88bf624>\u001b[0m in \u001b[0;36m<module>\u001b[0;34m\u001b[0m\n\u001b[1;32m      1\u001b[0m \u001b[0;32mfor\u001b[0m \u001b[0mpt\u001b[0m \u001b[0;32min\u001b[0m \u001b[0mai\u001b[0m\u001b[0;34m.\u001b[0m\u001b[0miterrows\u001b[0m\u001b[0;34m(\u001b[0m\u001b[0;34m)\u001b[0m\u001b[0;34m:\u001b[0m\u001b[0;34m\u001b[0m\u001b[0;34m\u001b[0m\u001b[0m\n\u001b[0;32m----> 2\u001b[0;31m     \u001b[0mprint\u001b[0m\u001b[0;34m(\u001b[0m\u001b[0mpt\u001b[0m\u001b[0;34m[\u001b[0m\u001b[0;36m1\u001b[0m\u001b[0;34m]\u001b[0m\u001b[0;34m)\u001b[0m\u001b[0;34m\u001b[0m\u001b[0;34m\u001b[0m\u001b[0m\n\u001b[0m",
      "\u001b[0;32m/shared-libs/python3.7/py/lib/python3.7/site-packages/pandas/core/series.py\u001b[0m in \u001b[0;36m__repr__\u001b[0;34m(self)\u001b[0m\n\u001b[1;32m   1305\u001b[0m             \u001b[0mmin_rows\u001b[0m\u001b[0;34m=\u001b[0m\u001b[0mmin_rows\u001b[0m\u001b[0;34m,\u001b[0m\u001b[0;34m\u001b[0m\u001b[0;34m\u001b[0m\u001b[0m\n\u001b[1;32m   1306\u001b[0m             \u001b[0mmax_rows\u001b[0m\u001b[0;34m=\u001b[0m\u001b[0mmax_rows\u001b[0m\u001b[0;34m,\u001b[0m\u001b[0;34m\u001b[0m\u001b[0;34m\u001b[0m\u001b[0m\n\u001b[0;32m-> 1307\u001b[0;31m             \u001b[0mlength\u001b[0m\u001b[0;34m=\u001b[0m\u001b[0mshow_dimensions\u001b[0m\u001b[0;34m,\u001b[0m\u001b[0;34m\u001b[0m\u001b[0;34m\u001b[0m\u001b[0m\n\u001b[0m\u001b[1;32m   1308\u001b[0m         )\n\u001b[1;32m   1309\u001b[0m         \u001b[0mresult\u001b[0m \u001b[0;34m=\u001b[0m \u001b[0mbuf\u001b[0m\u001b[0;34m.\u001b[0m\u001b[0mgetvalue\u001b[0m\u001b[0;34m(\u001b[0m\u001b[0;34m)\u001b[0m\u001b[0;34m\u001b[0m\u001b[0;34m\u001b[0m\u001b[0m\n",
      "\u001b[0;32m/shared-libs/python3.7/py/lib/python3.7/site-packages/pandas/core/series.py\u001b[0m in \u001b[0;36mto_string\u001b[0;34m(self, buf, na_rep, float_format, header, index, length, dtype, name, max_rows, min_rows)\u001b[0m\n\u001b[1;32m   1370\u001b[0m             \u001b[0mmax_rows\u001b[0m\u001b[0;34m=\u001b[0m\u001b[0mmax_rows\u001b[0m\u001b[0;34m,\u001b[0m\u001b[0;34m\u001b[0m\u001b[0;34m\u001b[0m\u001b[0m\n\u001b[1;32m   1371\u001b[0m         )\n\u001b[0;32m-> 1372\u001b[0;31m         \u001b[0mresult\u001b[0m \u001b[0;34m=\u001b[0m \u001b[0mformatter\u001b[0m\u001b[0;34m.\u001b[0m\u001b[0mto_string\u001b[0m\u001b[0;34m(\u001b[0m\u001b[0;34m)\u001b[0m\u001b[0;34m\u001b[0m\u001b[0;34m\u001b[0m\u001b[0m\n\u001b[0m\u001b[1;32m   1373\u001b[0m \u001b[0;34m\u001b[0m\u001b[0m\n\u001b[1;32m   1374\u001b[0m         \u001b[0;31m# catch contract violations\u001b[0m\u001b[0;34m\u001b[0m\u001b[0;34m\u001b[0m\u001b[0;34m\u001b[0m\u001b[0m\n",
      "\u001b[0;32m/shared-libs/python3.7/py/lib/python3.7/site-packages/pandas/io/formats/format.py\u001b[0m in \u001b[0;36mto_string\u001b[0;34m(self)\u001b[0m\n\u001b[1;32m    367\u001b[0m             \u001b[0;32mreturn\u001b[0m \u001b[0;34mf\"{type(self.series).__name__}([], {footer})\"\u001b[0m\u001b[0;34m\u001b[0m\u001b[0;34m\u001b[0m\u001b[0m\n\u001b[1;32m    368\u001b[0m \u001b[0;34m\u001b[0m\u001b[0m\n\u001b[0;32m--> 369\u001b[0;31m         \u001b[0mfmt_index\u001b[0m\u001b[0;34m,\u001b[0m \u001b[0mhave_header\u001b[0m \u001b[0;34m=\u001b[0m \u001b[0mself\u001b[0m\u001b[0;34m.\u001b[0m\u001b[0m_get_formatted_index\u001b[0m\u001b[0;34m(\u001b[0m\u001b[0;34m)\u001b[0m\u001b[0;34m\u001b[0m\u001b[0;34m\u001b[0m\u001b[0m\n\u001b[0m\u001b[1;32m    370\u001b[0m         \u001b[0mfmt_values\u001b[0m \u001b[0;34m=\u001b[0m \u001b[0mself\u001b[0m\u001b[0;34m.\u001b[0m\u001b[0m_get_formatted_values\u001b[0m\u001b[0;34m(\u001b[0m\u001b[0;34m)\u001b[0m\u001b[0;34m\u001b[0m\u001b[0;34m\u001b[0m\u001b[0m\n\u001b[1;32m    371\u001b[0m \u001b[0;34m\u001b[0m\u001b[0m\n",
      "\u001b[0;32m/shared-libs/python3.7/py/lib/python3.7/site-packages/pandas/io/formats/format.py\u001b[0m in \u001b[0;36m_get_formatted_index\u001b[0;34m(self)\u001b[0m\n\u001b[1;32m    348\u001b[0m         \u001b[0;32melse\u001b[0m\u001b[0;34m:\u001b[0m\u001b[0;34m\u001b[0m\u001b[0;34m\u001b[0m\u001b[0m\n\u001b[1;32m    349\u001b[0m             \u001b[0mhave_header\u001b[0m \u001b[0;34m=\u001b[0m \u001b[0mindex\u001b[0m\u001b[0;34m.\u001b[0m\u001b[0mname\u001b[0m \u001b[0;32mis\u001b[0m \u001b[0;32mnot\u001b[0m \u001b[0;32mNone\u001b[0m\u001b[0;34m\u001b[0m\u001b[0;34m\u001b[0m\u001b[0m\n\u001b[0;32m--> 350\u001b[0;31m             \u001b[0mfmt_index\u001b[0m \u001b[0;34m=\u001b[0m \u001b[0mindex\u001b[0m\u001b[0;34m.\u001b[0m\u001b[0mformat\u001b[0m\u001b[0;34m(\u001b[0m\u001b[0mname\u001b[0m\u001b[0;34m=\u001b[0m\u001b[0;32mTrue\u001b[0m\u001b[0;34m)\u001b[0m\u001b[0;34m\u001b[0m\u001b[0;34m\u001b[0m\u001b[0m\n\u001b[0m\u001b[1;32m    351\u001b[0m         \u001b[0;32mreturn\u001b[0m \u001b[0mfmt_index\u001b[0m\u001b[0;34m,\u001b[0m \u001b[0mhave_header\u001b[0m\u001b[0;34m\u001b[0m\u001b[0;34m\u001b[0m\u001b[0m\n\u001b[1;32m    352\u001b[0m \u001b[0;34m\u001b[0m\u001b[0m\n",
      "\u001b[0;32m/shared-libs/python3.7/py/lib/python3.7/site-packages/pandas/core/indexes/base.py\u001b[0m in \u001b[0;36mformat\u001b[0;34m(self, name, formatter, na_rep)\u001b[0m\n\u001b[1;32m    976\u001b[0m             \u001b[0;32mreturn\u001b[0m \u001b[0mheader\u001b[0m \u001b[0;34m+\u001b[0m \u001b[0mlist\u001b[0m\u001b[0;34m(\u001b[0m\u001b[0mself\u001b[0m\u001b[0;34m.\u001b[0m\u001b[0mmap\u001b[0m\u001b[0;34m(\u001b[0m\u001b[0mformatter\u001b[0m\u001b[0;34m)\u001b[0m\u001b[0;34m)\u001b[0m\u001b[0;34m\u001b[0m\u001b[0;34m\u001b[0m\u001b[0m\n\u001b[1;32m    977\u001b[0m \u001b[0;34m\u001b[0m\u001b[0m\n\u001b[0;32m--> 978\u001b[0;31m         \u001b[0;32mreturn\u001b[0m \u001b[0mself\u001b[0m\u001b[0;34m.\u001b[0m\u001b[0m_format_with_header\u001b[0m\u001b[0;34m(\u001b[0m\u001b[0mheader\u001b[0m\u001b[0;34m,\u001b[0m \u001b[0mna_rep\u001b[0m\u001b[0;34m=\u001b[0m\u001b[0mna_rep\u001b[0m\u001b[0;34m)\u001b[0m\u001b[0;34m\u001b[0m\u001b[0;34m\u001b[0m\u001b[0m\n\u001b[0m\u001b[1;32m    979\u001b[0m \u001b[0;34m\u001b[0m\u001b[0m\n\u001b[1;32m    980\u001b[0m     def _format_with_header(\n",
      "\u001b[0;32m/shared-libs/python3.7/py/lib/python3.7/site-packages/pandas/core/indexes/base.py\u001b[0m in \u001b[0;36m_format_with_header\u001b[0;34m(self, header, na_rep)\u001b[0m\n\u001b[1;32m    992\u001b[0m \u001b[0;34m\u001b[0m\u001b[0m\n\u001b[1;32m    993\u001b[0m             \u001b[0;31m# could have nans\u001b[0m\u001b[0;34m\u001b[0m\u001b[0;34m\u001b[0m\u001b[0;34m\u001b[0m\u001b[0m\n\u001b[0;32m--> 994\u001b[0;31m             \u001b[0mmask\u001b[0m \u001b[0;34m=\u001b[0m \u001b[0misna\u001b[0m\u001b[0;34m(\u001b[0m\u001b[0mvalues\u001b[0m\u001b[0;34m)\u001b[0m\u001b[0;34m\u001b[0m\u001b[0;34m\u001b[0m\u001b[0m\n\u001b[0m\u001b[1;32m    995\u001b[0m             \u001b[0;32mif\u001b[0m \u001b[0mmask\u001b[0m\u001b[0;34m.\u001b[0m\u001b[0many\u001b[0m\u001b[0;34m(\u001b[0m\u001b[0;34m)\u001b[0m\u001b[0;34m:\u001b[0m\u001b[0;34m\u001b[0m\u001b[0;34m\u001b[0m\u001b[0m\n\u001b[1;32m    996\u001b[0m                 \u001b[0mresult_arr\u001b[0m \u001b[0;34m=\u001b[0m \u001b[0mnp\u001b[0m\u001b[0;34m.\u001b[0m\u001b[0marray\u001b[0m\u001b[0;34m(\u001b[0m\u001b[0mresult\u001b[0m\u001b[0;34m)\u001b[0m\u001b[0;34m\u001b[0m\u001b[0;34m\u001b[0m\u001b[0m\n",
      "\u001b[0;32m/shared-libs/python3.7/py/lib/python3.7/site-packages/pandas/core/dtypes/missing.py\u001b[0m in \u001b[0;36misna\u001b[0;34m(obj)\u001b[0m\n\u001b[1;32m    125\u001b[0m     \u001b[0mName\u001b[0m\u001b[0;34m:\u001b[0m \u001b[0;36m1\u001b[0m\u001b[0;34m,\u001b[0m \u001b[0mdtype\u001b[0m\u001b[0;34m:\u001b[0m \u001b[0mbool\u001b[0m\u001b[0;34m\u001b[0m\u001b[0;34m\u001b[0m\u001b[0m\n\u001b[1;32m    126\u001b[0m     \"\"\"\n\u001b[0;32m--> 127\u001b[0;31m     \u001b[0;32mreturn\u001b[0m \u001b[0m_isna\u001b[0m\u001b[0;34m(\u001b[0m\u001b[0mobj\u001b[0m\u001b[0;34m)\u001b[0m\u001b[0;34m\u001b[0m\u001b[0;34m\u001b[0m\u001b[0m\n\u001b[0m\u001b[1;32m    128\u001b[0m \u001b[0;34m\u001b[0m\u001b[0m\n\u001b[1;32m    129\u001b[0m \u001b[0;34m\u001b[0m\u001b[0m\n",
      "\u001b[0;32m/shared-libs/python3.7/py/lib/python3.7/site-packages/pandas/core/dtypes/missing.py\u001b[0m in \u001b[0;36m_isna\u001b[0;34m(obj, inf_as_na)\u001b[0m\n\u001b[1;32m    158\u001b[0m         \u001b[0;32mreturn\u001b[0m \u001b[0;32mFalse\u001b[0m\u001b[0;34m\u001b[0m\u001b[0;34m\u001b[0m\u001b[0m\n\u001b[1;32m    159\u001b[0m     \u001b[0;32melif\u001b[0m \u001b[0misinstance\u001b[0m\u001b[0;34m(\u001b[0m\u001b[0mobj\u001b[0m\u001b[0;34m,\u001b[0m \u001b[0;34m(\u001b[0m\u001b[0mABCSeries\u001b[0m\u001b[0;34m,\u001b[0m \u001b[0mnp\u001b[0m\u001b[0;34m.\u001b[0m\u001b[0mndarray\u001b[0m\u001b[0;34m,\u001b[0m \u001b[0mABCIndexClass\u001b[0m\u001b[0;34m,\u001b[0m \u001b[0mABCExtensionArray\u001b[0m\u001b[0;34m)\u001b[0m\u001b[0;34m)\u001b[0m\u001b[0;34m:\u001b[0m\u001b[0;34m\u001b[0m\u001b[0;34m\u001b[0m\u001b[0m\n\u001b[0;32m--> 160\u001b[0;31m         \u001b[0;32mreturn\u001b[0m \u001b[0m_isna_ndarraylike\u001b[0m\u001b[0;34m(\u001b[0m\u001b[0mobj\u001b[0m\u001b[0;34m,\u001b[0m \u001b[0minf_as_na\u001b[0m\u001b[0;34m=\u001b[0m\u001b[0minf_as_na\u001b[0m\u001b[0;34m)\u001b[0m\u001b[0;34m\u001b[0m\u001b[0;34m\u001b[0m\u001b[0m\n\u001b[0m\u001b[1;32m    161\u001b[0m     \u001b[0;32melif\u001b[0m \u001b[0misinstance\u001b[0m\u001b[0;34m(\u001b[0m\u001b[0mobj\u001b[0m\u001b[0;34m,\u001b[0m \u001b[0mABCDataFrame\u001b[0m\u001b[0;34m)\u001b[0m\u001b[0;34m:\u001b[0m\u001b[0;34m\u001b[0m\u001b[0;34m\u001b[0m\u001b[0m\n\u001b[1;32m    162\u001b[0m         \u001b[0;32mreturn\u001b[0m \u001b[0mobj\u001b[0m\u001b[0;34m.\u001b[0m\u001b[0misna\u001b[0m\u001b[0;34m(\u001b[0m\u001b[0;34m)\u001b[0m\u001b[0;34m\u001b[0m\u001b[0;34m\u001b[0m\u001b[0m\n",
      "\u001b[0;32m/shared-libs/python3.7/py/lib/python3.7/site-packages/pandas/core/dtypes/missing.py\u001b[0m in \u001b[0;36m_isna_ndarraylike\u001b[0;34m(obj, inf_as_na)\u001b[0m\n\u001b[1;32m    224\u001b[0m         \u001b[0;32melse\u001b[0m\u001b[0;34m:\u001b[0m\u001b[0;34m\u001b[0m\u001b[0;34m\u001b[0m\u001b[0m\n\u001b[1;32m    225\u001b[0m             \u001b[0mresult\u001b[0m \u001b[0;34m=\u001b[0m \u001b[0mvalues\u001b[0m\u001b[0;34m.\u001b[0m\u001b[0misna\u001b[0m\u001b[0;34m(\u001b[0m\u001b[0;34m)\u001b[0m\u001b[0;34m\u001b[0m\u001b[0;34m\u001b[0m\u001b[0m\n\u001b[0;32m--> 226\u001b[0;31m     \u001b[0;32melif\u001b[0m \u001b[0mis_string_dtype\u001b[0m\u001b[0;34m(\u001b[0m\u001b[0mdtype\u001b[0m\u001b[0;34m)\u001b[0m\u001b[0;34m:\u001b[0m\u001b[0;34m\u001b[0m\u001b[0;34m\u001b[0m\u001b[0m\n\u001b[0m\u001b[1;32m    227\u001b[0m         \u001b[0mresult\u001b[0m \u001b[0;34m=\u001b[0m \u001b[0m_isna_string_dtype\u001b[0m\u001b[0;34m(\u001b[0m\u001b[0mvalues\u001b[0m\u001b[0;34m,\u001b[0m \u001b[0mdtype\u001b[0m\u001b[0;34m,\u001b[0m \u001b[0minf_as_na\u001b[0m\u001b[0;34m=\u001b[0m\u001b[0minf_as_na\u001b[0m\u001b[0;34m)\u001b[0m\u001b[0;34m\u001b[0m\u001b[0;34m\u001b[0m\u001b[0m\n\u001b[1;32m    228\u001b[0m     \u001b[0;32melif\u001b[0m \u001b[0mneeds_i8_conversion\u001b[0m\u001b[0;34m(\u001b[0m\u001b[0mdtype\u001b[0m\u001b[0;34m)\u001b[0m\u001b[0;34m:\u001b[0m\u001b[0;34m\u001b[0m\u001b[0;34m\u001b[0m\u001b[0m\n",
      "\u001b[0;32m/shared-libs/python3.7/py/lib/python3.7/site-packages/pandas/core/dtypes/common.py\u001b[0m in \u001b[0;36mis_string_dtype\u001b[0;34m(arr_or_dtype)\u001b[0m\n\u001b[1;32m    610\u001b[0m         \u001b[0;32mreturn\u001b[0m \u001b[0many\u001b[0m\u001b[0;34m(\u001b[0m\u001b[0mis_excluded\u001b[0m\u001b[0;34m(\u001b[0m\u001b[0mdtype\u001b[0m\u001b[0;34m)\u001b[0m \u001b[0;32mfor\u001b[0m \u001b[0mis_excluded\u001b[0m \u001b[0;32min\u001b[0m \u001b[0mis_excluded_checks\u001b[0m\u001b[0;34m)\u001b[0m\u001b[0;34m\u001b[0m\u001b[0;34m\u001b[0m\u001b[0m\n\u001b[1;32m    611\u001b[0m \u001b[0;34m\u001b[0m\u001b[0m\n\u001b[0;32m--> 612\u001b[0;31m     \u001b[0;32mreturn\u001b[0m \u001b[0m_is_dtype\u001b[0m\u001b[0;34m(\u001b[0m\u001b[0marr_or_dtype\u001b[0m\u001b[0;34m,\u001b[0m \u001b[0mcondition\u001b[0m\u001b[0;34m)\u001b[0m\u001b[0;34m\u001b[0m\u001b[0;34m\u001b[0m\u001b[0m\n\u001b[0m\u001b[1;32m    613\u001b[0m \u001b[0;34m\u001b[0m\u001b[0m\n\u001b[1;32m    614\u001b[0m \u001b[0;34m\u001b[0m\u001b[0m\n",
      "\u001b[0;32m/shared-libs/python3.7/py/lib/python3.7/site-packages/pandas/core/dtypes/common.py\u001b[0m in \u001b[0;36m_is_dtype\u001b[0;34m(arr_or_dtype, condition)\u001b[0m\n\u001b[1;32m   1570\u001b[0m     \u001b[0;32mexcept\u001b[0m \u001b[0;34m(\u001b[0m\u001b[0mTypeError\u001b[0m\u001b[0;34m,\u001b[0m \u001b[0mValueError\u001b[0m\u001b[0;34m,\u001b[0m \u001b[0mUnicodeEncodeError\u001b[0m\u001b[0;34m)\u001b[0m\u001b[0;34m:\u001b[0m\u001b[0;34m\u001b[0m\u001b[0;34m\u001b[0m\u001b[0m\n\u001b[1;32m   1571\u001b[0m         \u001b[0;32mreturn\u001b[0m \u001b[0;32mFalse\u001b[0m\u001b[0;34m\u001b[0m\u001b[0;34m\u001b[0m\u001b[0m\n\u001b[0;32m-> 1572\u001b[0;31m     \u001b[0;32mreturn\u001b[0m \u001b[0mcondition\u001b[0m\u001b[0;34m(\u001b[0m\u001b[0mdtype\u001b[0m\u001b[0;34m)\u001b[0m\u001b[0;34m\u001b[0m\u001b[0;34m\u001b[0m\u001b[0m\n\u001b[0m\u001b[1;32m   1573\u001b[0m \u001b[0;34m\u001b[0m\u001b[0m\n\u001b[1;32m   1574\u001b[0m \u001b[0;34m\u001b[0m\u001b[0m\n",
      "\u001b[0;32m/shared-libs/python3.7/py/lib/python3.7/site-packages/pandas/core/dtypes/common.py\u001b[0m in \u001b[0;36mcondition\u001b[0;34m(dtype)\u001b[0m\n\u001b[1;32m    601\u001b[0m     \u001b[0;31m# TODO: gh-15585: consider making the checks stricter.\u001b[0m\u001b[0;34m\u001b[0m\u001b[0;34m\u001b[0m\u001b[0;34m\u001b[0m\u001b[0m\n\u001b[1;32m    602\u001b[0m     \u001b[0;32mdef\u001b[0m \u001b[0mcondition\u001b[0m\u001b[0;34m(\u001b[0m\u001b[0mdtype\u001b[0m\u001b[0;34m)\u001b[0m \u001b[0;34m->\u001b[0m \u001b[0mbool\u001b[0m\u001b[0;34m:\u001b[0m\u001b[0;34m\u001b[0m\u001b[0;34m\u001b[0m\u001b[0m\n\u001b[0;32m--> 603\u001b[0;31m         \u001b[0;32mreturn\u001b[0m \u001b[0mdtype\u001b[0m\u001b[0;34m.\u001b[0m\u001b[0mkind\u001b[0m \u001b[0;32min\u001b[0m \u001b[0;34m(\u001b[0m\u001b[0;34m\"O\"\u001b[0m\u001b[0;34m,\u001b[0m \u001b[0;34m\"S\"\u001b[0m\u001b[0;34m,\u001b[0m \u001b[0;34m\"U\"\u001b[0m\u001b[0;34m)\u001b[0m \u001b[0;32mand\u001b[0m \u001b[0;32mnot\u001b[0m \u001b[0mis_excluded_dtype\u001b[0m\u001b[0;34m(\u001b[0m\u001b[0mdtype\u001b[0m\u001b[0;34m)\u001b[0m\u001b[0;34m\u001b[0m\u001b[0;34m\u001b[0m\u001b[0m\n\u001b[0m\u001b[1;32m    604\u001b[0m \u001b[0;34m\u001b[0m\u001b[0m\n\u001b[1;32m    605\u001b[0m     \u001b[0;32mdef\u001b[0m \u001b[0mis_excluded_dtype\u001b[0m\u001b[0;34m(\u001b[0m\u001b[0mdtype\u001b[0m\u001b[0;34m)\u001b[0m \u001b[0;34m->\u001b[0m \u001b[0mbool\u001b[0m\u001b[0;34m:\u001b[0m\u001b[0;34m\u001b[0m\u001b[0;34m\u001b[0m\u001b[0m\n",
      "\u001b[0;32m/shared-libs/python3.7/py/lib/python3.7/site-packages/pandas/core/dtypes/common.py\u001b[0m in \u001b[0;36mis_excluded_dtype\u001b[0;34m(dtype)\u001b[0m\n\u001b[1;32m    608\u001b[0m         \"\"\"\n\u001b[1;32m    609\u001b[0m         \u001b[0mis_excluded_checks\u001b[0m \u001b[0;34m=\u001b[0m \u001b[0;34m(\u001b[0m\u001b[0mis_period_dtype\u001b[0m\u001b[0;34m,\u001b[0m \u001b[0mis_interval_dtype\u001b[0m\u001b[0;34m,\u001b[0m \u001b[0mis_categorical_dtype\u001b[0m\u001b[0;34m)\u001b[0m\u001b[0;34m\u001b[0m\u001b[0;34m\u001b[0m\u001b[0m\n\u001b[0;32m--> 610\u001b[0;31m         \u001b[0;32mreturn\u001b[0m \u001b[0many\u001b[0m\u001b[0;34m(\u001b[0m\u001b[0mis_excluded\u001b[0m\u001b[0;34m(\u001b[0m\u001b[0mdtype\u001b[0m\u001b[0;34m)\u001b[0m \u001b[0;32mfor\u001b[0m \u001b[0mis_excluded\u001b[0m \u001b[0;32min\u001b[0m \u001b[0mis_excluded_checks\u001b[0m\u001b[0;34m)\u001b[0m\u001b[0;34m\u001b[0m\u001b[0;34m\u001b[0m\u001b[0m\n\u001b[0m\u001b[1;32m    611\u001b[0m \u001b[0;34m\u001b[0m\u001b[0m\n\u001b[1;32m    612\u001b[0m     \u001b[0;32mreturn\u001b[0m \u001b[0m_is_dtype\u001b[0m\u001b[0;34m(\u001b[0m\u001b[0marr_or_dtype\u001b[0m\u001b[0;34m,\u001b[0m \u001b[0mcondition\u001b[0m\u001b[0;34m)\u001b[0m\u001b[0;34m\u001b[0m\u001b[0;34m\u001b[0m\u001b[0m\n",
      "\u001b[0;32m/shared-libs/python3.7/py/lib/python3.7/site-packages/pandas/core/dtypes/common.py\u001b[0m in \u001b[0;36m<genexpr>\u001b[0;34m(.0)\u001b[0m\n\u001b[1;32m    608\u001b[0m         \"\"\"\n\u001b[1;32m    609\u001b[0m         \u001b[0mis_excluded_checks\u001b[0m \u001b[0;34m=\u001b[0m \u001b[0;34m(\u001b[0m\u001b[0mis_period_dtype\u001b[0m\u001b[0;34m,\u001b[0m \u001b[0mis_interval_dtype\u001b[0m\u001b[0;34m,\u001b[0m \u001b[0mis_categorical_dtype\u001b[0m\u001b[0;34m)\u001b[0m\u001b[0;34m\u001b[0m\u001b[0;34m\u001b[0m\u001b[0m\n\u001b[0;32m--> 610\u001b[0;31m         \u001b[0;32mreturn\u001b[0m \u001b[0many\u001b[0m\u001b[0;34m(\u001b[0m\u001b[0mis_excluded\u001b[0m\u001b[0;34m(\u001b[0m\u001b[0mdtype\u001b[0m\u001b[0;34m)\u001b[0m \u001b[0;32mfor\u001b[0m \u001b[0mis_excluded\u001b[0m \u001b[0;32min\u001b[0m \u001b[0mis_excluded_checks\u001b[0m\u001b[0;34m)\u001b[0m\u001b[0;34m\u001b[0m\u001b[0;34m\u001b[0m\u001b[0m\n\u001b[0m\u001b[1;32m    611\u001b[0m \u001b[0;34m\u001b[0m\u001b[0m\n\u001b[1;32m    612\u001b[0m     \u001b[0;32mreturn\u001b[0m \u001b[0m_is_dtype\u001b[0m\u001b[0;34m(\u001b[0m\u001b[0marr_or_dtype\u001b[0m\u001b[0;34m,\u001b[0m \u001b[0mcondition\u001b[0m\u001b[0;34m)\u001b[0m\u001b[0;34m\u001b[0m\u001b[0;34m\u001b[0m\u001b[0m\n",
      "\u001b[0;32m/shared-libs/python3.7/py/lib/python3.7/site-packages/pandas/core/dtypes/common.py\u001b[0m in \u001b[0;36mis_interval_dtype\u001b[0;34m(arr_or_dtype)\u001b[0m\n\u001b[1;32m    532\u001b[0m     \u001b[0;32mif\u001b[0m \u001b[0marr_or_dtype\u001b[0m \u001b[0;32mis\u001b[0m \u001b[0;32mNone\u001b[0m\u001b[0;34m:\u001b[0m\u001b[0;34m\u001b[0m\u001b[0;34m\u001b[0m\u001b[0m\n\u001b[1;32m    533\u001b[0m         \u001b[0;32mreturn\u001b[0m \u001b[0;32mFalse\u001b[0m\u001b[0;34m\u001b[0m\u001b[0;34m\u001b[0m\u001b[0m\n\u001b[0;32m--> 534\u001b[0;31m     \u001b[0;32mreturn\u001b[0m \u001b[0mIntervalDtype\u001b[0m\u001b[0;34m.\u001b[0m\u001b[0mis_dtype\u001b[0m\u001b[0;34m(\u001b[0m\u001b[0marr_or_dtype\u001b[0m\u001b[0;34m)\u001b[0m\u001b[0;34m\u001b[0m\u001b[0;34m\u001b[0m\u001b[0m\n\u001b[0m\u001b[1;32m    535\u001b[0m \u001b[0;34m\u001b[0m\u001b[0m\n\u001b[1;32m    536\u001b[0m \u001b[0;34m\u001b[0m\u001b[0m\n",
      "\u001b[0;32m/shared-libs/python3.7/py/lib/python3.7/site-packages/pandas/core/dtypes/dtypes.py\u001b[0m in \u001b[0;36mis_dtype\u001b[0;34m(cls, dtype)\u001b[0m\n\u001b[1;32m   1147\u001b[0m             \u001b[0;32melse\u001b[0m\u001b[0;34m:\u001b[0m\u001b[0;34m\u001b[0m\u001b[0;34m\u001b[0m\u001b[0m\n\u001b[1;32m   1148\u001b[0m                 \u001b[0;32mreturn\u001b[0m \u001b[0;32mFalse\u001b[0m\u001b[0;34m\u001b[0m\u001b[0;34m\u001b[0m\u001b[0m\n\u001b[0;32m-> 1149\u001b[0;31m         \u001b[0;32mreturn\u001b[0m \u001b[0msuper\u001b[0m\u001b[0;34m(\u001b[0m\u001b[0;34m)\u001b[0m\u001b[0;34m.\u001b[0m\u001b[0mis_dtype\u001b[0m\u001b[0;34m(\u001b[0m\u001b[0mdtype\u001b[0m\u001b[0;34m)\u001b[0m\u001b[0;34m\u001b[0m\u001b[0;34m\u001b[0m\u001b[0m\n\u001b[0m\u001b[1;32m   1150\u001b[0m \u001b[0;34m\u001b[0m\u001b[0m\n\u001b[1;32m   1151\u001b[0m     def __from_arrow__(\n",
      "\u001b[0;32m/shared-libs/python3.7/py/lib/python3.7/site-packages/pandas/core/dtypes/base.py\u001b[0m in \u001b[0;36mis_dtype\u001b[0;34m(cls, dtype)\u001b[0m\n\u001b[1;32m    278\u001b[0m         \u001b[0mdtype\u001b[0m \u001b[0;34m=\u001b[0m \u001b[0mgetattr\u001b[0m\u001b[0;34m(\u001b[0m\u001b[0mdtype\u001b[0m\u001b[0;34m,\u001b[0m \u001b[0;34m\"dtype\"\u001b[0m\u001b[0;34m,\u001b[0m \u001b[0mdtype\u001b[0m\u001b[0;34m)\u001b[0m\u001b[0;34m\u001b[0m\u001b[0;34m\u001b[0m\u001b[0m\n\u001b[1;32m    279\u001b[0m \u001b[0;34m\u001b[0m\u001b[0m\n\u001b[0;32m--> 280\u001b[0;31m         \u001b[0;32mif\u001b[0m \u001b[0misinstance\u001b[0m\u001b[0;34m(\u001b[0m\u001b[0mdtype\u001b[0m\u001b[0;34m,\u001b[0m \u001b[0;34m(\u001b[0m\u001b[0mABCSeries\u001b[0m\u001b[0;34m,\u001b[0m \u001b[0mABCIndexClass\u001b[0m\u001b[0;34m,\u001b[0m \u001b[0mABCDataFrame\u001b[0m\u001b[0;34m,\u001b[0m \u001b[0mnp\u001b[0m\u001b[0;34m.\u001b[0m\u001b[0mdtype\u001b[0m\u001b[0;34m)\u001b[0m\u001b[0;34m)\u001b[0m\u001b[0;34m:\u001b[0m\u001b[0;34m\u001b[0m\u001b[0;34m\u001b[0m\u001b[0m\n\u001b[0m\u001b[1;32m    281\u001b[0m             \u001b[0;31m# https://github.com/pandas-dev/pandas/issues/22960\u001b[0m\u001b[0;34m\u001b[0m\u001b[0;34m\u001b[0m\u001b[0;34m\u001b[0m\u001b[0m\n\u001b[1;32m    282\u001b[0m             \u001b[0;31m# avoid passing data to `construct_from_string`. This could\u001b[0m\u001b[0;34m\u001b[0m\u001b[0;34m\u001b[0m\u001b[0;34m\u001b[0m\u001b[0m\n",
      "\u001b[0;32m/shared-libs/python3.7/py/lib/python3.7/site-packages/pandas/core/dtypes/generic.py\u001b[0m in \u001b[0;36m_check\u001b[0;34m(cls, inst)\u001b[0m\n\u001b[1;32m     28\u001b[0m     \u001b[0;31m# https://github.com/python/mypy/issues/1006\u001b[0m\u001b[0;34m\u001b[0m\u001b[0;34m\u001b[0m\u001b[0;34m\u001b[0m\u001b[0m\n\u001b[1;32m     29\u001b[0m     \u001b[0;31m# error: 'classmethod' used with a non-method\u001b[0m\u001b[0;34m\u001b[0m\u001b[0;34m\u001b[0m\u001b[0;34m\u001b[0m\u001b[0m\n\u001b[0;32m---> 30\u001b[0;31m     \u001b[0;34m@\u001b[0m\u001b[0mclassmethod\u001b[0m  \u001b[0;31m# type: ignore[misc]\u001b[0m\u001b[0;34m\u001b[0m\u001b[0;34m\u001b[0m\u001b[0m\n\u001b[0m\u001b[1;32m     31\u001b[0m     \u001b[0;32mdef\u001b[0m \u001b[0m_check\u001b[0m\u001b[0;34m(\u001b[0m\u001b[0mcls\u001b[0m\u001b[0;34m,\u001b[0m \u001b[0minst\u001b[0m\u001b[0;34m)\u001b[0m \u001b[0;34m->\u001b[0m \u001b[0mbool\u001b[0m\u001b[0;34m:\u001b[0m\u001b[0;34m\u001b[0m\u001b[0;34m\u001b[0m\u001b[0m\n\u001b[1;32m     32\u001b[0m         \u001b[0;32mreturn\u001b[0m \u001b[0mgetattr\u001b[0m\u001b[0;34m(\u001b[0m\u001b[0minst\u001b[0m\u001b[0;34m,\u001b[0m \u001b[0mattr\u001b[0m\u001b[0;34m,\u001b[0m \u001b[0;34m\"_typ\"\u001b[0m\u001b[0;34m)\u001b[0m \u001b[0;32min\u001b[0m \u001b[0mcomp\u001b[0m\u001b[0;34m\u001b[0m\u001b[0;34m\u001b[0m\u001b[0m\n",
      "\u001b[0;31mKeyboardInterrupt\u001b[0m: "
     ]
    }
   ]
  },
  {
   "cell_type": "code",
   "metadata": {
    "cell_id": "f4451d3c3f5b4bf8b67c19920e257d55",
    "tags": [],
    "deepnote_to_be_reexecuted": true,
    "source_hash": "34509582",
    "execution_start": 1648269573389,
    "execution_millis": 222,
    "deepnote_cell_type": "code",
    "deepnote_cell_height": 613.265625
   },
   "source": "wells",
   "execution_count": null,
   "outputs": [
    {
     "output_type": "execute_result",
     "execution_count": 37,
     "data": {
      "application/vnd.deepnote.dataframe.v3+json": {
       "column_count": 6,
       "row_count": 50,
       "columns": [
        {
         "name": "WELL",
         "dtype": "object",
         "stats": {
          "unique_count": 50,
          "nan_count": 0,
          "categories": [
           {
            "name": "WP0",
            "count": 1
           },
           {
            "name": "WP1",
            "count": 1
           },
           {
            "name": "48 others",
            "count": 48
           }
          ]
         }
        },
        {
         "name": "X(ft)",
         "dtype": "float64",
         "stats": {
          "unique_count": 50,
          "nan_count": 0,
          "min": "109560.26",
          "max": "142095.82",
          "histogram": [
           {
            "bin_start": 109560.26,
            "bin_end": 112813.81599999999,
            "count": 8
           },
           {
            "bin_start": 112813.81599999999,
            "bin_end": 116067.372,
            "count": 6
           },
           {
            "bin_start": 116067.372,
            "bin_end": 119320.928,
            "count": 5
           },
           {
            "bin_start": 119320.928,
            "bin_end": 122574.484,
            "count": 3
           },
           {
            "bin_start": 122574.484,
            "bin_end": 125828.04000000001,
            "count": 4
           },
           {
            "bin_start": 125828.04000000001,
            "bin_end": 129081.596,
            "count": 4
           },
           {
            "bin_start": 129081.596,
            "bin_end": 132335.152,
            "count": 3
           },
           {
            "bin_start": 132335.152,
            "bin_end": 135588.708,
            "count": 8
           },
           {
            "bin_start": 135588.708,
            "bin_end": 138842.264,
            "count": 5
           },
           {
            "bin_start": 138842.264,
            "bin_end": 142095.82,
            "count": 4
           }
          ]
         }
        },
        {
         "name": "Y(ft)",
         "dtype": "float64",
         "stats": {
          "unique_count": 50,
          "nan_count": 0,
          "min": "81747.12",
          "max": "93691.55",
          "histogram": [
           {
            "bin_start": 81747.12,
            "bin_end": 82941.563,
            "count": 5
           },
           {
            "bin_start": 82941.563,
            "bin_end": 84136.006,
            "count": 5
           },
           {
            "bin_start": 84136.006,
            "bin_end": 85330.449,
            "count": 5
           },
           {
            "bin_start": 85330.449,
            "bin_end": 86524.89199999999,
            "count": 5
           },
           {
            "bin_start": 86524.89199999999,
            "bin_end": 87719.33499999999,
            "count": 4
           },
           {
            "bin_start": 87719.33499999999,
            "bin_end": 88913.778,
            "count": 6
           },
           {
            "bin_start": 88913.778,
            "bin_end": 90108.221,
            "count": 7
           },
           {
            "bin_start": 90108.221,
            "bin_end": 91302.664,
            "count": 5
           },
           {
            "bin_start": 91302.664,
            "bin_end": 92497.107,
            "count": 6
           },
           {
            "bin_start": 92497.107,
            "bin_end": 93691.55,
            "count": 2
           }
          ]
         }
        },
        {
         "name": "Completion",
         "dtype": "object",
         "stats": {
          "unique_count": 2,
          "nan_count": 0,
          "categories": [
           {
            "name": "Lower",
            "count": 30
           },
           {
            "name": "Upper",
            "count": 20
           }
          ]
         }
        },
        {
         "name": "Elevation Kelly Bushing (ft)",
         "dtype": "float64",
         "stats": {
          "unique_count": 49,
          "nan_count": 0,
          "min": "160.22",
          "max": "203.85",
          "histogram": [
           {
            "bin_start": 160.22,
            "bin_end": 164.583,
            "count": 3
           },
           {
            "bin_start": 164.583,
            "bin_end": 168.946,
            "count": 1
           },
           {
            "bin_start": 168.946,
            "bin_end": 173.309,
            "count": 6
           },
           {
            "bin_start": 173.309,
            "bin_end": 177.672,
            "count": 8
           },
           {
            "bin_start": 177.672,
            "bin_end": 182.035,
            "count": 10
           },
           {
            "bin_start": 182.035,
            "bin_end": 186.398,
            "count": 10
           },
           {
            "bin_start": 186.398,
            "bin_end": 190.761,
            "count": 3
           },
           {
            "bin_start": 190.761,
            "bin_end": 195.124,
            "count": 7
           },
           {
            "bin_start": 195.124,
            "bin_end": 199.487,
            "count": 1
           },
           {
            "bin_start": 199.487,
            "bin_end": 203.85,
            "count": 1
           }
          ]
         }
        },
        {
         "name": "line",
         "dtype": "float64",
         "stats": {
          "unique_count": 50,
          "nan_count": 0,
          "min": "151208.1235",
          "max": "206510.83440000005",
          "histogram": [
           {
            "bin_start": 151208.1235,
            "bin_end": 156738.39458999998,
            "count": 2
           },
           {
            "bin_start": 156738.39458999998,
            "bin_end": 162268.66568,
            "count": 6
           },
           {
            "bin_start": 162268.66568,
            "bin_end": 167798.93677,
            "count": 5
           },
           {
            "bin_start": 167798.93677,
            "bin_end": 173329.20786000002,
            "count": 7
           },
           {
            "bin_start": 173329.20786000002,
            "bin_end": 178859.47895000002,
            "count": 6
           },
           {
            "bin_start": 178859.47895000002,
            "bin_end": 184389.75004,
            "count": 4
           },
           {
            "bin_start": 184389.75004,
            "bin_end": 189920.02113000004,
            "count": 5
           },
           {
            "bin_start": 189920.02113000004,
            "bin_end": 195450.29222000003,
            "count": 5
           },
           {
            "bin_start": 195450.29222000003,
            "bin_end": 200980.56331000006,
            "count": 5
           },
           {
            "bin_start": 200980.56331000006,
            "bin_end": 206510.83440000005,
            "count": 5
           }
          ]
         }
        },
        {
         "name": "_deepnote_index_column",
         "dtype": "int64"
        }
       ],
       "rows": [
        {
         "WELL": "WP0",
         "X(ft)": 137106.82,
         "Y(ft)": 83818.47,
         "Completion": "Upper",
         "Elevation Kelly Bushing (ft)": 193.32,
         "line": 196920.4839,
         "_deepnote_index_column": 0
        },
        {
         "WELL": "WP1",
         "X(ft)": 132460.98,
         "Y(ft)": 85832.77,
         "Completion": "Upper",
         "Elevation Kelly Bushing (ft)": 187.15,
         "line": 187594.27490000002,
         "_deepnote_index_column": 1
        },
        {
         "WELL": "WP2",
         "X(ft)": 133634,
         "Y(ft)": 82144.52,
         "Completion": "Upper",
         "Elevation Kelly Bushing (ft)": 164.55,
         "line": 204670.8724,
         "_deepnote_index_column": 2
        },
        {
         "WELL": "WP3",
         "X(ft)": 140892.57,
         "Y(ft)": 81747.12,
         "Completion": "Lower",
         "Elevation Kelly Bushing (ft)": 179.92,
         "line": 206510.83440000005,
         "_deepnote_index_column": 3
        },
        {
         "WELL": "WP4",
         "X(ft)": 109951.43,
         "Y(ft)": 89343.45,
         "Completion": "Lower",
         "Elevation Kelly Bushing (ft)": 186.21,
         "line": 171339.82650000002,
         "_deepnote_index_column": 4
        },
        {
         "WELL": "WP5",
         "X(ft)": 123950.95,
         "Y(ft)": 92227.31,
         "Completion": "Lower",
         "Elevation Kelly Bushing (ft)": 172.8,
         "line": 157987.55470000004,
         "_deepnote_index_column": 5
        },
        {
         "WELL": "WP6",
         "X(ft)": 111035.32,
         "Y(ft)": 88692.32,
         "Completion": "Lower",
         "Elevation Kelly Bushing (ft)": 182.66,
         "line": 174354.55839999998,
         "_deepnote_index_column": 6
        },
        {
         "WELL": "WP7",
         "X(ft)": 112439.69,
         "Y(ft)": 85560.85,
         "Completion": "Lower",
         "Elevation Kelly Bushing (ft)": 181.09,
         "line": 188853.2645,
         "_deepnote_index_column": 7
        },
        {
         "WELL": "WP8",
         "X(ft)": 127369.74,
         "Y(ft)": 91739.99,
         "Completion": "Upper",
         "Elevation Kelly Bushing (ft)": 180.04,
         "line": 160243.84629999998,
         "_deepnote_index_column": 8
        },
        {
         "WELL": "WP9",
         "X(ft)": 115943.69,
         "Y(ft)": 86730.44,
         "Completion": "Lower",
         "Elevation Kelly Bushing (ft)": 178.25,
         "line": 183438.0628,
         "_deepnote_index_column": 9
        }
       ]
      },
      "text/plain": "    WELL      X(ft)     Y(ft) Completion  Elevation Kelly Bushing (ft)  \\\n0    WP0  137106.82  83818.47      Upper                        193.32   \n1    WP1  132460.98  85832.77      Upper                        187.15   \n2    WP2  133634.00  82144.52      Upper                        164.55   \n3    WP3  140892.57  81747.12      Lower                        179.92   \n4    WP4  109951.43  89343.45      Lower                        186.21   \n5    WP5  123950.95  92227.31      Lower                        172.80   \n6    WP6  111035.32  88692.32      Lower                        182.66   \n7    WP7  112439.69  85560.85      Lower                        181.09   \n8    WP8  127369.74  91739.99      Upper                        180.04   \n9    WP9  115943.69  86730.44      Lower                        178.25   \n10  WP10  134042.86  82411.27      Upper                        184.33   \n11  WP11  115725.49  86866.60      Upper                        192.03   \n12  WP12  133136.98  93691.55      Lower                        170.35   \n13  WP13  119311.27  89234.02      Upper                        190.28   \n14  WP14  134837.26  83865.82      Lower                        182.29   \n15  WP15  109560.26  86833.62      Lower                        184.45   \n16  WP16  112898.58  91601.46      Lower                        168.63   \n17  WP17  112766.46  88549.74      Lower                        181.35   \n18  WP18  117798.78  90645.70      Upper                        194.85   \n19  WP19  110189.22  86209.71      Upper                        169.20   \n20  WP20  133687.47  83554.44      Upper                        160.22   \n21  WP21  121120.49  87804.64      Upper                        162.57   \n22  WP22  115987.29  91854.91      Upper                        182.66   \n23  WP23  139326.01  84776.42      Upper                        203.85   \n24  WP24  142095.82  86042.02      Lower                        191.24   \n25  WP25  128136.21  89359.95      Lower                        196.73   \n26  WP26  118170.11  89488.69      Lower                        180.99   \n27  WP27  129829.39  87756.99      Upper                        193.98   \n28  WP28  120522.78  89987.00      Upper                        177.29   \n29  WP29  138541.42  82281.79      Lower                        186.13   \n30  WP30  131123.52  84356.27      Upper                        177.33   \n31  WP31  136285.14  86479.95      Lower                        174.51   \n32  WP32  128675.17  89882.13      Lower                        181.33   \n33  WP33  123960.21  85279.28      Lower                        175.24   \n34  WP34  134053.71  84658.45      Lower                        193.08   \n35  WP35  122230.81  87539.37      Upper                        181.95   \n36  WP36  111749.78  91050.01      Lower                        184.00   \n37  WP37  134902.25  82632.62      Lower                        176.62   \n38  WP38  116803.31  91177.75      Lower                        192.56   \n39  WP39  111890.88  91708.68      Upper                        172.68   \n40  WP40  126601.30  90679.21      Upper                        186.60   \n41  WP41  114333.01  91616.66      Lower                        176.49   \n42  WP42  136532.27  83571.51      Lower                        170.61   \n43  WP43  115684.27  89895.78      Lower                        175.11   \n44  WP44  118629.90  88703.87      Lower                        171.95   \n45  WP45  129176.30  93171.14      Upper                        177.87   \n46  WP46  139046.81  84476.47      Lower                        176.61   \n47  WP47  137407.15  84099.13      Lower                        183.12   \n48  WP48  124094.80  90648.76      Lower                        185.65   \n49  WP49  123188.65  88556.29      Lower                        178.53   \n\n           line  \n0   196920.4839  \n1   187594.2749  \n2   204670.8724  \n3   206510.8344  \n4   171339.8265  \n5   157987.5547  \n6   174354.5584  \n7   188853.2645  \n8   160243.8463  \n9   183438.0628  \n10  203435.8199  \n11  182807.6420  \n12  151208.1235  \n13  171846.4874  \n14  196701.2534  \n15  182960.3394  \n16  160885.2402  \n17  175014.7038  \n18  165310.4090  \n19  185849.0427  \n20  198142.9428  \n21  178464.5168  \n22  159711.7667  \n23  192485.1754  \n24  186625.4474  \n25  171263.4315  \n26  170667.3653  \n27  178685.1363  \n28  168360.1900  \n29  204035.3123  \n30  194430.4699  \n31  184597.8315  \n32  168845.7381  \n33  190156.9336  \n34  193031.3765  \n35  179692.7169  \n36  163438.4537  \n37  202410.9694  \n38  162847.0175  \n39  160388.8116  \n40  165155.2577  \n41  160814.8642  \n42  198063.9087  \n43  168782.5386  \n44  174301.0819  \n45  153617.6218  \n46  193873.9439  \n47  195621.0281  \n48  165296.2412  \n49  174984.3773  ",
      "text/html": "<div>\n<style scoped>\n    .dataframe tbody tr th:only-of-type {\n        vertical-align: middle;\n    }\n\n    .dataframe tbody tr th {\n        vertical-align: top;\n    }\n\n    .dataframe thead th {\n        text-align: right;\n    }\n</style>\n<table border=\"1\" class=\"dataframe\">\n  <thead>\n    <tr style=\"text-align: right;\">\n      <th></th>\n      <th>WELL</th>\n      <th>X(ft)</th>\n      <th>Y(ft)</th>\n      <th>Completion</th>\n      <th>Elevation Kelly Bushing (ft)</th>\n      <th>line</th>\n    </tr>\n  </thead>\n  <tbody>\n    <tr>\n      <th>0</th>\n      <td>WP0</td>\n      <td>137106.82</td>\n      <td>83818.47</td>\n      <td>Upper</td>\n      <td>193.32</td>\n      <td>196920.4839</td>\n    </tr>\n    <tr>\n      <th>1</th>\n      <td>WP1</td>\n      <td>132460.98</td>\n      <td>85832.77</td>\n      <td>Upper</td>\n      <td>187.15</td>\n      <td>187594.2749</td>\n    </tr>\n    <tr>\n      <th>2</th>\n      <td>WP2</td>\n      <td>133634.00</td>\n      <td>82144.52</td>\n      <td>Upper</td>\n      <td>164.55</td>\n      <td>204670.8724</td>\n    </tr>\n    <tr>\n      <th>3</th>\n      <td>WP3</td>\n      <td>140892.57</td>\n      <td>81747.12</td>\n      <td>Lower</td>\n      <td>179.92</td>\n      <td>206510.8344</td>\n    </tr>\n    <tr>\n      <th>4</th>\n      <td>WP4</td>\n      <td>109951.43</td>\n      <td>89343.45</td>\n      <td>Lower</td>\n      <td>186.21</td>\n      <td>171339.8265</td>\n    </tr>\n    <tr>\n      <th>5</th>\n      <td>WP5</td>\n      <td>123950.95</td>\n      <td>92227.31</td>\n      <td>Lower</td>\n      <td>172.80</td>\n      <td>157987.5547</td>\n    </tr>\n    <tr>\n      <th>6</th>\n      <td>WP6</td>\n      <td>111035.32</td>\n      <td>88692.32</td>\n      <td>Lower</td>\n      <td>182.66</td>\n      <td>174354.5584</td>\n    </tr>\n    <tr>\n      <th>7</th>\n      <td>WP7</td>\n      <td>112439.69</td>\n      <td>85560.85</td>\n      <td>Lower</td>\n      <td>181.09</td>\n      <td>188853.2645</td>\n    </tr>\n    <tr>\n      <th>8</th>\n      <td>WP8</td>\n      <td>127369.74</td>\n      <td>91739.99</td>\n      <td>Upper</td>\n      <td>180.04</td>\n      <td>160243.8463</td>\n    </tr>\n    <tr>\n      <th>9</th>\n      <td>WP9</td>\n      <td>115943.69</td>\n      <td>86730.44</td>\n      <td>Lower</td>\n      <td>178.25</td>\n      <td>183438.0628</td>\n    </tr>\n    <tr>\n      <th>10</th>\n      <td>WP10</td>\n      <td>134042.86</td>\n      <td>82411.27</td>\n      <td>Upper</td>\n      <td>184.33</td>\n      <td>203435.8199</td>\n    </tr>\n    <tr>\n      <th>11</th>\n      <td>WP11</td>\n      <td>115725.49</td>\n      <td>86866.60</td>\n      <td>Upper</td>\n      <td>192.03</td>\n      <td>182807.6420</td>\n    </tr>\n    <tr>\n      <th>12</th>\n      <td>WP12</td>\n      <td>133136.98</td>\n      <td>93691.55</td>\n      <td>Lower</td>\n      <td>170.35</td>\n      <td>151208.1235</td>\n    </tr>\n    <tr>\n      <th>13</th>\n      <td>WP13</td>\n      <td>119311.27</td>\n      <td>89234.02</td>\n      <td>Upper</td>\n      <td>190.28</td>\n      <td>171846.4874</td>\n    </tr>\n    <tr>\n      <th>14</th>\n      <td>WP14</td>\n      <td>134837.26</td>\n      <td>83865.82</td>\n      <td>Lower</td>\n      <td>182.29</td>\n      <td>196701.2534</td>\n    </tr>\n    <tr>\n      <th>15</th>\n      <td>WP15</td>\n      <td>109560.26</td>\n      <td>86833.62</td>\n      <td>Lower</td>\n      <td>184.45</td>\n      <td>182960.3394</td>\n    </tr>\n    <tr>\n      <th>16</th>\n      <td>WP16</td>\n      <td>112898.58</td>\n      <td>91601.46</td>\n      <td>Lower</td>\n      <td>168.63</td>\n      <td>160885.2402</td>\n    </tr>\n    <tr>\n      <th>17</th>\n      <td>WP17</td>\n      <td>112766.46</td>\n      <td>88549.74</td>\n      <td>Lower</td>\n      <td>181.35</td>\n      <td>175014.7038</td>\n    </tr>\n    <tr>\n      <th>18</th>\n      <td>WP18</td>\n      <td>117798.78</td>\n      <td>90645.70</td>\n      <td>Upper</td>\n      <td>194.85</td>\n      <td>165310.4090</td>\n    </tr>\n    <tr>\n      <th>19</th>\n      <td>WP19</td>\n      <td>110189.22</td>\n      <td>86209.71</td>\n      <td>Upper</td>\n      <td>169.20</td>\n      <td>185849.0427</td>\n    </tr>\n    <tr>\n      <th>20</th>\n      <td>WP20</td>\n      <td>133687.47</td>\n      <td>83554.44</td>\n      <td>Upper</td>\n      <td>160.22</td>\n      <td>198142.9428</td>\n    </tr>\n    <tr>\n      <th>21</th>\n      <td>WP21</td>\n      <td>121120.49</td>\n      <td>87804.64</td>\n      <td>Upper</td>\n      <td>162.57</td>\n      <td>178464.5168</td>\n    </tr>\n    <tr>\n      <th>22</th>\n      <td>WP22</td>\n      <td>115987.29</td>\n      <td>91854.91</td>\n      <td>Upper</td>\n      <td>182.66</td>\n      <td>159711.7667</td>\n    </tr>\n    <tr>\n      <th>23</th>\n      <td>WP23</td>\n      <td>139326.01</td>\n      <td>84776.42</td>\n      <td>Upper</td>\n      <td>203.85</td>\n      <td>192485.1754</td>\n    </tr>\n    <tr>\n      <th>24</th>\n      <td>WP24</td>\n      <td>142095.82</td>\n      <td>86042.02</td>\n      <td>Lower</td>\n      <td>191.24</td>\n      <td>186625.4474</td>\n    </tr>\n    <tr>\n      <th>25</th>\n      <td>WP25</td>\n      <td>128136.21</td>\n      <td>89359.95</td>\n      <td>Lower</td>\n      <td>196.73</td>\n      <td>171263.4315</td>\n    </tr>\n    <tr>\n      <th>26</th>\n      <td>WP26</td>\n      <td>118170.11</td>\n      <td>89488.69</td>\n      <td>Lower</td>\n      <td>180.99</td>\n      <td>170667.3653</td>\n    </tr>\n    <tr>\n      <th>27</th>\n      <td>WP27</td>\n      <td>129829.39</td>\n      <td>87756.99</td>\n      <td>Upper</td>\n      <td>193.98</td>\n      <td>178685.1363</td>\n    </tr>\n    <tr>\n      <th>28</th>\n      <td>WP28</td>\n      <td>120522.78</td>\n      <td>89987.00</td>\n      <td>Upper</td>\n      <td>177.29</td>\n      <td>168360.1900</td>\n    </tr>\n    <tr>\n      <th>29</th>\n      <td>WP29</td>\n      <td>138541.42</td>\n      <td>82281.79</td>\n      <td>Lower</td>\n      <td>186.13</td>\n      <td>204035.3123</td>\n    </tr>\n    <tr>\n      <th>30</th>\n      <td>WP30</td>\n      <td>131123.52</td>\n      <td>84356.27</td>\n      <td>Upper</td>\n      <td>177.33</td>\n      <td>194430.4699</td>\n    </tr>\n    <tr>\n      <th>31</th>\n      <td>WP31</td>\n      <td>136285.14</td>\n      <td>86479.95</td>\n      <td>Lower</td>\n      <td>174.51</td>\n      <td>184597.8315</td>\n    </tr>\n    <tr>\n      <th>32</th>\n      <td>WP32</td>\n      <td>128675.17</td>\n      <td>89882.13</td>\n      <td>Lower</td>\n      <td>181.33</td>\n      <td>168845.7381</td>\n    </tr>\n    <tr>\n      <th>33</th>\n      <td>WP33</td>\n      <td>123960.21</td>\n      <td>85279.28</td>\n      <td>Lower</td>\n      <td>175.24</td>\n      <td>190156.9336</td>\n    </tr>\n    <tr>\n      <th>34</th>\n      <td>WP34</td>\n      <td>134053.71</td>\n      <td>84658.45</td>\n      <td>Lower</td>\n      <td>193.08</td>\n      <td>193031.3765</td>\n    </tr>\n    <tr>\n      <th>35</th>\n      <td>WP35</td>\n      <td>122230.81</td>\n      <td>87539.37</td>\n      <td>Upper</td>\n      <td>181.95</td>\n      <td>179692.7169</td>\n    </tr>\n    <tr>\n      <th>36</th>\n      <td>WP36</td>\n      <td>111749.78</td>\n      <td>91050.01</td>\n      <td>Lower</td>\n      <td>184.00</td>\n      <td>163438.4537</td>\n    </tr>\n    <tr>\n      <th>37</th>\n      <td>WP37</td>\n      <td>134902.25</td>\n      <td>82632.62</td>\n      <td>Lower</td>\n      <td>176.62</td>\n      <td>202410.9694</td>\n    </tr>\n    <tr>\n      <th>38</th>\n      <td>WP38</td>\n      <td>116803.31</td>\n      <td>91177.75</td>\n      <td>Lower</td>\n      <td>192.56</td>\n      <td>162847.0175</td>\n    </tr>\n    <tr>\n      <th>39</th>\n      <td>WP39</td>\n      <td>111890.88</td>\n      <td>91708.68</td>\n      <td>Upper</td>\n      <td>172.68</td>\n      <td>160388.8116</td>\n    </tr>\n    <tr>\n      <th>40</th>\n      <td>WP40</td>\n      <td>126601.30</td>\n      <td>90679.21</td>\n      <td>Upper</td>\n      <td>186.60</td>\n      <td>165155.2577</td>\n    </tr>\n    <tr>\n      <th>41</th>\n      <td>WP41</td>\n      <td>114333.01</td>\n      <td>91616.66</td>\n      <td>Lower</td>\n      <td>176.49</td>\n      <td>160814.8642</td>\n    </tr>\n    <tr>\n      <th>42</th>\n      <td>WP42</td>\n      <td>136532.27</td>\n      <td>83571.51</td>\n      <td>Lower</td>\n      <td>170.61</td>\n      <td>198063.9087</td>\n    </tr>\n    <tr>\n      <th>43</th>\n      <td>WP43</td>\n      <td>115684.27</td>\n      <td>89895.78</td>\n      <td>Lower</td>\n      <td>175.11</td>\n      <td>168782.5386</td>\n    </tr>\n    <tr>\n      <th>44</th>\n      <td>WP44</td>\n      <td>118629.90</td>\n      <td>88703.87</td>\n      <td>Lower</td>\n      <td>171.95</td>\n      <td>174301.0819</td>\n    </tr>\n    <tr>\n      <th>45</th>\n      <td>WP45</td>\n      <td>129176.30</td>\n      <td>93171.14</td>\n      <td>Upper</td>\n      <td>177.87</td>\n      <td>153617.6218</td>\n    </tr>\n    <tr>\n      <th>46</th>\n      <td>WP46</td>\n      <td>139046.81</td>\n      <td>84476.47</td>\n      <td>Lower</td>\n      <td>176.61</td>\n      <td>193873.9439</td>\n    </tr>\n    <tr>\n      <th>47</th>\n      <td>WP47</td>\n      <td>137407.15</td>\n      <td>84099.13</td>\n      <td>Lower</td>\n      <td>183.12</td>\n      <td>195621.0281</td>\n    </tr>\n    <tr>\n      <th>48</th>\n      <td>WP48</td>\n      <td>124094.80</td>\n      <td>90648.76</td>\n      <td>Lower</td>\n      <td>185.65</td>\n      <td>165296.2412</td>\n    </tr>\n    <tr>\n      <th>49</th>\n      <td>WP49</td>\n      <td>123188.65</td>\n      <td>88556.29</td>\n      <td>Lower</td>\n      <td>178.53</td>\n      <td>174984.3773</td>\n    </tr>\n  </tbody>\n</table>\n</div>"
     },
     "metadata": {}
    }
   ]
  },
  {
   "cell_type": "markdown",
   "source": "Grid interpolation",
   "metadata": {
    "cell_id": "91ec5ca6442b4df9ab3a42e71ac5053f",
    "tags": [],
    "deepnote_cell_type": "markdown",
    "deepnote_cell_height": 52.390625
   }
  },
  {
   "cell_type": "code",
   "metadata": {
    "cell_id": "586c0c097b7b4e35a780faac3d2f8d05",
    "tags": [],
    "deepnote_to_be_reexecuted": true,
    "source_hash": "e115eeb7",
    "execution_start": 1648315831300,
    "execution_millis": 138,
    "deepnote_cell_type": "code",
    "deepnote_cell_height": 613.265625
   },
   "source": "ai",
   "execution_count": null,
   "outputs": [
    {
     "output_type": "execute_result",
     "execution_count": 71,
     "data": {
      "application/vnd.deepnote.dataframe.v3+json": {
       "column_count": 6,
       "row_count": 51200,
       "columns": [
        {
         "name": "X(ft)",
         "dtype": "float64",
         "stats": {
          "unique_count": 256,
          "nan_count": 0,
          "min": "109397.84",
          "max": "142853.84",
          "histogram": [
           {
            "bin_start": 109397.84,
            "bin_end": 112743.44,
            "count": 5200
           },
           {
            "bin_start": 112743.44,
            "bin_end": 116089.04,
            "count": 5000
           },
           {
            "bin_start": 116089.04,
            "bin_end": 119434.64,
            "count": 5200
           },
           {
            "bin_start": 119434.64,
            "bin_end": 122780.23999999999,
            "count": 5000
           },
           {
            "bin_start": 122780.23999999999,
            "bin_end": 126125.84,
            "count": 5200
           },
           {
            "bin_start": 126125.84,
            "bin_end": 129471.44,
            "count": 5000
           },
           {
            "bin_start": 129471.44,
            "bin_end": 132817.04,
            "count": 5200
           },
           {
            "bin_start": 132817.04,
            "bin_end": 136162.63999999998,
            "count": 5000
           },
           {
            "bin_start": 136162.63999999998,
            "bin_end": 139508.24,
            "count": 5200
           },
           {
            "bin_start": 139508.24,
            "bin_end": 142853.84,
            "count": 5200
           }
          ]
         }
        },
        {
         "name": "Y(ft)",
         "dtype": "float64"
        },
        {
         "name": "AI_lower(2012-01-01)",
         "dtype": "float64"
        },
        {
         "name": "AI_upper(2012-01-01)",
         "dtype": "float64"
        },
        {
         "name": "AI_lower(2021-12-20)",
         "dtype": "float64"
        },
        {
         "name": "AI_upper(2021-12-20)",
         "dtype": "float64"
        },
        {
         "name": "_deepnote_index_column",
         "dtype": "int64"
        }
       ],
       "rows": [
        {
         "X(ft)": 109397.84,
         "Y(ft)": 99193.76,
         "AI_lower(2012-01-01)": 6245.484386698082,
         "AI_upper(2012-01-01)": 6263.763219562921,
         "AI_lower(2021-12-20)": 6248.696838193495,
         "AI_upper(2021-12-20)": 6289.521003686412,
         "_deepnote_index_column": 0
        },
        {
         "X(ft)": 109397.84,
         "Y(ft)": 99062.56,
         "AI_lower(2012-01-01)": 6245.727488475491,
         "AI_upper(2012-01-01)": 6263.944839757895,
         "AI_lower(2021-12-20)": 6249.058046500353,
         "AI_upper(2021-12-20)": 6289.653108632243,
         "_deepnote_index_column": 1
        },
        {
         "X(ft)": 109397.84,
         "Y(ft)": 98931.36,
         "AI_lower(2012-01-01)": 6246.111283137845,
         "AI_upper(2012-01-01)": 6264.050486903474,
         "AI_lower(2021-12-20)": 6249.6034333885855,
         "AI_upper(2021-12-20)": 6289.605360514897,
         "_deepnote_index_column": 2
        },
        {
         "X(ft)": 109397.84,
         "Y(ft)": 98800.16,
         "AI_lower(2012-01-01)": 6246.627959220024,
         "AI_upper(2012-01-01)": 6264.078733323661,
         "AI_lower(2021-12-20)": 6250.330979849299,
         "AI_upper(2021-12-20)": 6289.386005437875,
         "_deepnote_index_column": 3
        },
        {
         "X(ft)": 109397.84,
         "Y(ft)": 98668.96,
         "AI_lower(2012-01-01)": 6247.270327429633,
         "AI_upper(2012-01-01)": 6264.039095753256,
         "AI_lower(2021-12-20)": 6251.242820892494,
         "AI_upper(2021-12-20)": 6289.006320671458,
         "_deepnote_index_column": 4
        },
        {
         "X(ft)": 109397.84,
         "Y(ft)": 98537.76,
         "AI_lower(2012-01-01)": 6248.033245633943,
         "AI_upper(2012-01-01)": 6263.94397683507,
         "AI_lower(2021-12-20)": 6252.337355158371,
         "AI_upper(2021-12-20)": 6288.484092581482,
         "_deepnote_index_column": 5
        },
        {
         "X(ft)": 109397.84,
         "Y(ft)": 98406.56,
         "AI_lower(2012-01-01)": 6248.901138376607,
         "AI_upper(2012-01-01)": 6263.800204800215,
         "AI_lower(2021-12-20)": 6253.612991831219,
         "AI_upper(2021-12-20)": 6287.839111471366,
         "_deepnote_index_column": 6
        },
        {
         "X(ft)": 109397.84,
         "Y(ft)": 98275.36,
         "AI_lower(2012-01-01)": 6249.865249747499,
         "AI_upper(2012-01-01)": 6263.62152936066,
         "AI_lower(2021-12-20)": 6255.064481639558,
         "AI_upper(2021-12-20)": 6287.094520803846,
         "_deepnote_index_column": 7
        },
        {
         "X(ft)": 109397.84,
         "Y(ft)": 98144.16,
         "AI_lower(2012-01-01)": 6250.909163539588,
         "AI_upper(2012-01-01)": 6263.417829942936,
         "AI_lower(2021-12-20)": 6256.689018400613,
         "AI_upper(2021-12-20)": 6286.276744656777,
         "_deepnote_index_column": 8
        },
        {
         "X(ft)": 109397.84,
         "Y(ft)": 98012.96,
         "AI_lower(2012-01-01)": 6252.021694286548,
         "AI_upper(2012-01-01)": 6263.206318255601,
         "AI_lower(2021-12-20)": 6258.485311187748,
         "AI_upper(2021-12-20)": 6285.414211888836,
         "_deepnote_index_column": 9
        }
       ]
      },
      "text/plain": "           X(ft)     Y(ft)  AI_lower(2012-01-01)  AI_upper(2012-01-01)  \\\n0      109397.84  99193.76           6245.484387           6263.763220   \n1      109397.84  99062.56           6245.727488           6263.944840   \n2      109397.84  98931.36           6246.111283           6264.050487   \n3      109397.84  98800.16           6246.627959           6264.078733   \n4      109397.84  98668.96           6247.270327           6264.039096   \n...          ...       ...                   ...                   ...   \n51195  142853.84  73609.76           6334.401793           6260.202243   \n51196  142853.84  73478.56           6335.324532           6259.040527   \n51197  142853.84  73347.36           6336.350363           6257.905630   \n51198  142853.84  73216.16           6337.487009           6256.806460   \n51199  142853.84  73084.96           6338.736362           6255.746525   \n\n       AI_lower(2021-12-20)  AI_upper(2021-12-20)  \n0               6248.696838           6289.521004  \n1               6249.058047           6289.653109  \n2               6249.603433           6289.605361  \n3               6250.330980           6289.386005  \n4               6251.242821           6289.006321  \n...                     ...                   ...  \n51195           6288.260890           6248.632584  \n51196           6289.464039           6247.147888  \n51197           6290.696527           6245.779824  \n51198           6291.946225           6244.538075  \n51199           6293.208069           6243.430455  \n\n[51200 rows x 6 columns]",
      "text/html": "<div>\n<style scoped>\n    .dataframe tbody tr th:only-of-type {\n        vertical-align: middle;\n    }\n\n    .dataframe tbody tr th {\n        vertical-align: top;\n    }\n\n    .dataframe thead th {\n        text-align: right;\n    }\n</style>\n<table border=\"1\" class=\"dataframe\">\n  <thead>\n    <tr style=\"text-align: right;\">\n      <th></th>\n      <th>X(ft)</th>\n      <th>Y(ft)</th>\n      <th>AI_lower(2012-01-01)</th>\n      <th>AI_upper(2012-01-01)</th>\n      <th>AI_lower(2021-12-20)</th>\n      <th>AI_upper(2021-12-20)</th>\n    </tr>\n  </thead>\n  <tbody>\n    <tr>\n      <th>0</th>\n      <td>109397.84</td>\n      <td>99193.76</td>\n      <td>6245.484387</td>\n      <td>6263.763220</td>\n      <td>6248.696838</td>\n      <td>6289.521004</td>\n    </tr>\n    <tr>\n      <th>1</th>\n      <td>109397.84</td>\n      <td>99062.56</td>\n      <td>6245.727488</td>\n      <td>6263.944840</td>\n      <td>6249.058047</td>\n      <td>6289.653109</td>\n    </tr>\n    <tr>\n      <th>2</th>\n      <td>109397.84</td>\n      <td>98931.36</td>\n      <td>6246.111283</td>\n      <td>6264.050487</td>\n      <td>6249.603433</td>\n      <td>6289.605361</td>\n    </tr>\n    <tr>\n      <th>3</th>\n      <td>109397.84</td>\n      <td>98800.16</td>\n      <td>6246.627959</td>\n      <td>6264.078733</td>\n      <td>6250.330980</td>\n      <td>6289.386005</td>\n    </tr>\n    <tr>\n      <th>4</th>\n      <td>109397.84</td>\n      <td>98668.96</td>\n      <td>6247.270327</td>\n      <td>6264.039096</td>\n      <td>6251.242821</td>\n      <td>6289.006321</td>\n    </tr>\n    <tr>\n      <th>...</th>\n      <td>...</td>\n      <td>...</td>\n      <td>...</td>\n      <td>...</td>\n      <td>...</td>\n      <td>...</td>\n    </tr>\n    <tr>\n      <th>51195</th>\n      <td>142853.84</td>\n      <td>73609.76</td>\n      <td>6334.401793</td>\n      <td>6260.202243</td>\n      <td>6288.260890</td>\n      <td>6248.632584</td>\n    </tr>\n    <tr>\n      <th>51196</th>\n      <td>142853.84</td>\n      <td>73478.56</td>\n      <td>6335.324532</td>\n      <td>6259.040527</td>\n      <td>6289.464039</td>\n      <td>6247.147888</td>\n    </tr>\n    <tr>\n      <th>51197</th>\n      <td>142853.84</td>\n      <td>73347.36</td>\n      <td>6336.350363</td>\n      <td>6257.905630</td>\n      <td>6290.696527</td>\n      <td>6245.779824</td>\n    </tr>\n    <tr>\n      <th>51198</th>\n      <td>142853.84</td>\n      <td>73216.16</td>\n      <td>6337.487009</td>\n      <td>6256.806460</td>\n      <td>6291.946225</td>\n      <td>6244.538075</td>\n    </tr>\n    <tr>\n      <th>51199</th>\n      <td>142853.84</td>\n      <td>73084.96</td>\n      <td>6338.736362</td>\n      <td>6255.746525</td>\n      <td>6293.208069</td>\n      <td>6243.430455</td>\n    </tr>\n  </tbody>\n</table>\n<p>51200 rows × 6 columns</p>\n</div>"
     },
     "metadata": {}
    }
   ]
  },
  {
   "cell_type": "code",
   "metadata": {
    "cell_id": "10ae860bd8434ac992401d3fb3902f8d",
    "tags": [],
    "deepnote_to_be_reexecuted": true,
    "source_hash": "fa192492",
    "execution_start": 1648332800347,
    "execution_millis": 108,
    "deepnote_cell_type": "code",
    "deepnote_cell_height": 234.1875
   },
   "source": "wm = pd.read_csv('/work/Carpe-Datum-2022/Well_Log/WELL_MASTER.csv')\nimport scipy.interpolate as interpolate\nwm['AI_lower(2012-01-01)'] = interpolate.griddata(ai[['X(ft)','Y(ft)']], ai['AI_lower(2012-01-01)'], wm[['X','Y']])\nwm['AI_upper(2012-01-01)'] = interpolate.griddata(ai[['X(ft)','Y(ft)']], ai['AI_upper(2012-01-01)'], wm[['X','Y']])\nwm['AI_lower(2021-12-20)'] = interpolate.griddata(ai[['X(ft)','Y(ft)']], ai['AI_lower(2021-12-20)'], wm[['X','Y']])\nwm['AI_upper(2021-12-20)'] = interpolate.griddata(ai[['X(ft)','Y(ft)']], ai['AI_upper(2021-12-20)'], wm[['X','Y']])",
   "execution_count": null,
   "outputs": [
    {
     "output_type": "error",
     "ename": "NameError",
     "evalue": "name 'ai' is not defined",
     "traceback": [
      "\u001b[0;31m---------------------------------------------------------------------------\u001b[0m",
      "\u001b[0;31mNameError\u001b[0m                                 Traceback (most recent call last)",
      "\u001b[0;32m<ipython-input-3-d0b3c0f66216>\u001b[0m in \u001b[0;36m<module>\u001b[0;34m\u001b[0m\n\u001b[1;32m      1\u001b[0m \u001b[0mwm\u001b[0m \u001b[0;34m=\u001b[0m \u001b[0mpd\u001b[0m\u001b[0;34m.\u001b[0m\u001b[0mread_csv\u001b[0m\u001b[0;34m(\u001b[0m\u001b[0;34m'/work/Carpe-Datum-2022/Well_Log/WELL_MASTER.csv'\u001b[0m\u001b[0;34m)\u001b[0m\u001b[0;34m\u001b[0m\u001b[0;34m\u001b[0m\u001b[0m\n\u001b[1;32m      2\u001b[0m \u001b[0;32mimport\u001b[0m \u001b[0mscipy\u001b[0m\u001b[0;34m.\u001b[0m\u001b[0minterpolate\u001b[0m \u001b[0;32mas\u001b[0m \u001b[0minterpolate\u001b[0m\u001b[0;34m\u001b[0m\u001b[0;34m\u001b[0m\u001b[0m\n\u001b[0;32m----> 3\u001b[0;31m \u001b[0mwm\u001b[0m\u001b[0;34m[\u001b[0m\u001b[0;34m'AI_lower(2012-01-01)'\u001b[0m\u001b[0;34m]\u001b[0m \u001b[0;34m=\u001b[0m \u001b[0minterpolate\u001b[0m\u001b[0;34m.\u001b[0m\u001b[0mgriddata\u001b[0m\u001b[0;34m(\u001b[0m\u001b[0mai\u001b[0m\u001b[0;34m[\u001b[0m\u001b[0;34m[\u001b[0m\u001b[0;34m'X(ft)'\u001b[0m\u001b[0;34m,\u001b[0m\u001b[0;34m'Y(ft)'\u001b[0m\u001b[0;34m]\u001b[0m\u001b[0;34m]\u001b[0m\u001b[0;34m,\u001b[0m \u001b[0mai\u001b[0m\u001b[0;34m[\u001b[0m\u001b[0;34m'AI_lower(2012-01-01)'\u001b[0m\u001b[0;34m]\u001b[0m\u001b[0;34m,\u001b[0m \u001b[0mwm\u001b[0m\u001b[0;34m[\u001b[0m\u001b[0;34m[\u001b[0m\u001b[0;34m'X'\u001b[0m\u001b[0;34m,\u001b[0m\u001b[0;34m'Y'\u001b[0m\u001b[0;34m]\u001b[0m\u001b[0;34m]\u001b[0m\u001b[0;34m)\u001b[0m\u001b[0;34m\u001b[0m\u001b[0;34m\u001b[0m\u001b[0m\n\u001b[0m\u001b[1;32m      4\u001b[0m \u001b[0mwm\u001b[0m\u001b[0;34m[\u001b[0m\u001b[0;34m'AI_upper(2012-01-01)'\u001b[0m\u001b[0;34m]\u001b[0m \u001b[0;34m=\u001b[0m \u001b[0minterpolate\u001b[0m\u001b[0;34m.\u001b[0m\u001b[0mgriddata\u001b[0m\u001b[0;34m(\u001b[0m\u001b[0mai\u001b[0m\u001b[0;34m[\u001b[0m\u001b[0;34m[\u001b[0m\u001b[0;34m'X(ft)'\u001b[0m\u001b[0;34m,\u001b[0m\u001b[0;34m'Y(ft)'\u001b[0m\u001b[0;34m]\u001b[0m\u001b[0;34m]\u001b[0m\u001b[0;34m,\u001b[0m \u001b[0mai\u001b[0m\u001b[0;34m[\u001b[0m\u001b[0;34m'AI_upper(2012-01-01)'\u001b[0m\u001b[0;34m]\u001b[0m\u001b[0;34m,\u001b[0m \u001b[0mwm\u001b[0m\u001b[0;34m[\u001b[0m\u001b[0;34m[\u001b[0m\u001b[0;34m'X'\u001b[0m\u001b[0;34m,\u001b[0m\u001b[0;34m'Y'\u001b[0m\u001b[0;34m]\u001b[0m\u001b[0;34m]\u001b[0m\u001b[0;34m)\u001b[0m\u001b[0;34m\u001b[0m\u001b[0;34m\u001b[0m\u001b[0m\n\u001b[1;32m      5\u001b[0m \u001b[0mwm\u001b[0m\u001b[0;34m[\u001b[0m\u001b[0;34m'AI_lower(2021-12-20)'\u001b[0m\u001b[0;34m]\u001b[0m \u001b[0;34m=\u001b[0m \u001b[0minterpolate\u001b[0m\u001b[0;34m.\u001b[0m\u001b[0mgriddata\u001b[0m\u001b[0;34m(\u001b[0m\u001b[0mai\u001b[0m\u001b[0;34m[\u001b[0m\u001b[0;34m[\u001b[0m\u001b[0;34m'X(ft)'\u001b[0m\u001b[0;34m,\u001b[0m\u001b[0;34m'Y(ft)'\u001b[0m\u001b[0;34m]\u001b[0m\u001b[0;34m]\u001b[0m\u001b[0;34m,\u001b[0m \u001b[0mai\u001b[0m\u001b[0;34m[\u001b[0m\u001b[0;34m'AI_lower(2021-12-20)'\u001b[0m\u001b[0;34m]\u001b[0m\u001b[0;34m,\u001b[0m \u001b[0mwm\u001b[0m\u001b[0;34m[\u001b[0m\u001b[0;34m[\u001b[0m\u001b[0;34m'X'\u001b[0m\u001b[0;34m,\u001b[0m\u001b[0;34m'Y'\u001b[0m\u001b[0;34m]\u001b[0m\u001b[0;34m]\u001b[0m\u001b[0;34m)\u001b[0m\u001b[0;34m\u001b[0m\u001b[0;34m\u001b[0m\u001b[0m\n",
      "\u001b[0;31mNameError\u001b[0m: name 'ai' is not defined"
     ]
    }
   ]
  },
  {
   "cell_type": "code",
   "metadata": {
    "cell_id": "64b05926d2d34e60841ec4f9118371b8",
    "tags": [],
    "deepnote_to_be_reexecuted": true,
    "source_hash": "56e33089",
    "execution_start": 1648318446843,
    "execution_millis": 159,
    "deepnote_table_state": {
     "pageSize": 10,
     "pageIndex": 14,
     "filters": [],
     "sortBy": []
    },
    "deepnote_table_loading": false,
    "deepnote_cell_type": "code",
    "deepnote_cell_height": 81
   },
   "source": "wm.to_csv('/work/Carpe-Datum-2022/Well_Log/WELL_MASTER_TEST.csv', index=False)",
   "execution_count": null,
   "outputs": []
  },
  {
   "cell_type": "code",
   "metadata": {
    "cell_id": "423be0b2c57d419ab90b72a0d97a4b5a",
    "tags": [],
    "deepnote_to_be_reexecuted": true,
    "source_hash": "8477add3",
    "execution_start": 1648316284527,
    "execution_millis": 43,
    "deepnote_cell_type": "code",
    "deepnote_cell_height": 329.296875,
    "deepnote_output_heights": [
     232.3125
    ]
   },
   "source": "ai['AI_lower(2012-01-01)']",
   "execution_count": null,
   "outputs": [
    {
     "output_type": "execute_result",
     "execution_count": 83,
     "data": {
      "text/plain": "0        6245.484387\n1        6245.727488\n2        6246.111283\n3        6246.627959\n4        6247.270327\n            ...     \n51195    6334.401793\n51196    6335.324532\n51197    6336.350363\n51198    6337.487009\n51199    6338.736362\nName: AI_lower(2012-01-01), Length: 51200, dtype: float64"
     },
     "metadata": {}
    }
   ]
  },
  {
   "cell_type": "markdown",
   "source": "Model",
   "metadata": {
    "cell_id": "e4e763d5761c45a5985359ca43e76cf2",
    "tags": [],
    "deepnote_cell_type": "markdown",
    "deepnote_cell_height": 52.390625
   }
  },
  {
   "cell_type": "code",
   "metadata": {
    "cell_id": "e6689ccd8af5474991192ce126b8c786",
    "tags": [],
    "deepnote_to_be_reexecuted": true,
    "source_hash": "8766abc",
    "execution_start": 1648362204892,
    "execution_millis": 84,
    "deepnote_cell_type": "code",
    "deepnote_cell_height": 81
   },
   "source": "ai = pd.read_csv('/work/Carpe-Datum-2022/AI.csv')",
   "execution_count": null,
   "outputs": []
  },
  {
   "cell_type": "code",
   "metadata": {
    "cell_id": "8fcc8e75090c4e029c91ebaeec6a75e6",
    "tags": [],
    "deepnote_to_be_reexecuted": false,
    "source_hash": "b3058057",
    "execution_start": 1648365898020,
    "execution_millis": 40,
    "deepnote_cell_type": "code",
    "deepnote_cell_height": 244.203125
   },
   "source": "data = pd.read_csv('/work/Carpe-Datum-2022/Well_Log/WELL_MASTER_AVG.csv')\ndata2 = pd.read_csv('/work/Carpe-Datum-2022/EDA_notebooks/two_year_forecast.csv')\ndata2['Well'] = data2['Unnamed: 0'].str.replace('WOPR:','').str.replace('\\(bbl/day\\)','')\ndata = data.merge(data2[['sum','Well']], left_on='well_id', right_on='Well')\ndata['diff_lower'] = data['AI_lower(2021-12-20)'] - data['AI_lower(2012-01-01)']\ndata['diff_upper'] = data['AI_upper(2021-12-20)'] - data['AI_upper(2012-01-01)']\ndata['log_sum'] = np.log(data['sum'])",
   "execution_count": null,
   "outputs": [
    {
     "name": "stderr",
     "text": "/shared-libs/python3.7/py-core/lib/python3.7/site-packages/ipykernel_launcher.py:3: FutureWarning: The default value of regex will change from True to False in a future version.\n  This is separate from the ipykernel package so we can avoid doing imports until\n",
     "output_type": "stream"
    }
   ]
  },
  {
   "cell_type": "code",
   "metadata": {
    "cell_id": "09ecfe03c4d1460bb6b0a91ef46b5d08",
    "tags": [],
    "deepnote_to_be_reexecuted": true,
    "source_hash": "e6928a8f",
    "execution_start": 1648353981504,
    "execution_millis": 420,
    "deepnote_cell_type": "code",
    "deepnote_cell_height": 613.265625
   },
   "source": "data",
   "execution_count": null,
   "outputs": [
    {
     "output_type": "execute_result",
     "execution_count": 179,
     "data": {
      "application/vnd.deepnote.dataframe.v3+json": {
       "column_count": 29,
       "row_count": 49,
       "columns": [
        {
         "name": "well_id",
         "dtype": "object",
         "stats": {
          "unique_count": 49,
          "nan_count": 0,
          "categories": [
           {
            "name": "WP0",
            "count": 1
           },
           {
            "name": "WP1",
            "count": 1
           },
           {
            "name": "47 others",
            "count": 47
           }
          ]
         }
        },
        {
         "name": "MD(ft)",
         "dtype": "float64",
         "stats": {
          "unique_count": 49,
          "nan_count": 0,
          "min": "4359.20568344",
          "max": "4949.10279384",
          "histogram": [
           {
            "bin_start": 4359.20568344,
            "bin_end": 4418.19539448,
            "count": 2
           },
           {
            "bin_start": 4418.19539448,
            "bin_end": 4477.18510552,
            "count": 0
           },
           {
            "bin_start": 4477.18510552,
            "bin_end": 4536.17481656,
            "count": 10
           },
           {
            "bin_start": 4536.17481656,
            "bin_end": 4595.1645276,
            "count": 7
           },
           {
            "bin_start": 4595.1645276,
            "bin_end": 4654.15423864,
            "count": 7
           },
           {
            "bin_start": 4654.15423864,
            "bin_end": 4713.14394968,
            "count": 3
           },
           {
            "bin_start": 4713.14394968,
            "bin_end": 4772.13366072,
            "count": 4
           },
           {
            "bin_start": 4772.13366072,
            "bin_end": 4831.12337176,
            "count": 8
           },
           {
            "bin_start": 4831.12337176,
            "bin_end": 4890.1130828000005,
            "count": 6
           },
           {
            "bin_start": 4890.1130828000005,
            "bin_end": 4949.10279384,
            "count": 2
           }
          ]
         }
        },
        {
         "name": "PORO(v/v)",
         "dtype": "float64",
         "stats": {
          "unique_count": 49,
          "nan_count": 0,
          "min": "0.0726643543601418",
          "max": "0.1972521663950856",
          "histogram": [
           {
            "bin_start": 0.0726643543601418,
            "bin_end": 0.08512313556363618,
            "count": 4
           },
           {
            "bin_start": 0.08512313556363618,
            "bin_end": 0.09758191676713057,
            "count": 2
           },
           {
            "bin_start": 0.09758191676713057,
            "bin_end": 0.11004069797062495,
            "count": 5
           },
           {
            "bin_start": 0.11004069797062495,
            "bin_end": 0.12249947917411932,
            "count": 8
           },
           {
            "bin_start": 0.12249947917411932,
            "bin_end": 0.13495826037761371,
            "count": 9
           },
           {
            "bin_start": 0.13495826037761371,
            "bin_end": 0.14741704158110808,
            "count": 10
           },
           {
            "bin_start": 0.14741704158110808,
            "bin_end": 0.15987582278460247,
            "count": 4
           },
           {
            "bin_start": 0.15987582278460247,
            "bin_end": 0.17233460398809686,
            "count": 4
           },
           {
            "bin_start": 0.17233460398809686,
            "bin_end": 0.18479338519159122,
            "count": 1
           },
           {
            "bin_start": 0.18479338519159122,
            "bin_end": 0.1972521663950856,
            "count": 2
           }
          ]
         }
        },
        {
         "name": "RHOB(g/cm3)",
         "dtype": "float64",
         "stats": {
          "unique_count": 49,
          "nan_count": 0,
          "min": "2.225759202891536",
          "max": "2.648328062354961",
          "histogram": [
           {
            "bin_start": 2.225759202891536,
            "bin_end": 2.2680160888378786,
            "count": 1
           },
           {
            "bin_start": 2.2680160888378786,
            "bin_end": 2.3102729747842212,
            "count": 2
           },
           {
            "bin_start": 2.3102729747842212,
            "bin_end": 2.3525298607305634,
            "count": 3
           },
           {
            "bin_start": 2.3525298607305634,
            "bin_end": 2.394786746676906,
            "count": 4
           },
           {
            "bin_start": 2.394786746676906,
            "bin_end": 2.4370436326232485,
            "count": 4
           },
           {
            "bin_start": 2.4370436326232485,
            "bin_end": 2.479300518569591,
            "count": 10
           },
           {
            "bin_start": 2.479300518569591,
            "bin_end": 2.5215574045159337,
            "count": 8
           },
           {
            "bin_start": 2.5215574045159337,
            "bin_end": 2.563814290462276,
            "count": 8
           },
           {
            "bin_start": 2.563814290462276,
            "bin_end": 2.6060711764086184,
            "count": 5
           },
           {
            "bin_start": 2.6060711764086184,
            "bin_end": 2.648328062354961,
            "count": 4
           }
          ]
         }
        },
        {
         "name": "DTS(us/ft)",
         "dtype": "float64",
         "stats": {
          "unique_count": 49,
          "nan_count": 0,
          "min": "107.91921907628418",
          "max": "145.46702401957083",
          "histogram": [
           {
            "bin_start": 107.91921907628418,
            "bin_end": 111.67399957061285,
            "count": 1
           },
           {
            "bin_start": 111.67399957061285,
            "bin_end": 115.4287800649415,
            "count": 0
           },
           {
            "bin_start": 115.4287800649415,
            "bin_end": 119.18356055927018,
            "count": 4
           },
           {
            "bin_start": 119.18356055927018,
            "bin_end": 122.93834105359883,
            "count": 1
           },
           {
            "bin_start": 122.93834105359883,
            "bin_end": 126.6931215479275,
            "count": 6
           },
           {
            "bin_start": 126.6931215479275,
            "bin_end": 130.44790204225617,
            "count": 19
           },
           {
            "bin_start": 130.44790204225617,
            "bin_end": 134.20268253658483,
            "count": 3
           },
           {
            "bin_start": 134.20268253658483,
            "bin_end": 137.9574630309135,
            "count": 12
           },
           {
            "bin_start": 137.9574630309135,
            "bin_end": 141.71224352524217,
            "count": 1
           },
           {
            "bin_start": 141.71224352524217,
            "bin_end": 145.46702401957083,
            "count": 2
           }
          ]
         }
        },
        {
         "name": "DT(us/ft)",
         "dtype": "float64",
         "stats": {
          "unique_count": 49,
          "nan_count": 0,
          "min": "68.38773834971532",
          "max": "100.86044856553288",
          "histogram": [
           {
            "bin_start": 68.38773834971532,
            "bin_end": 71.63500937129707,
            "count": 4
           },
           {
            "bin_start": 71.63500937129707,
            "bin_end": 74.88228039287883,
            "count": 6
           },
           {
            "bin_start": 74.88228039287883,
            "bin_end": 78.1295514144606,
            "count": 16
           },
           {
            "bin_start": 78.1295514144606,
            "bin_end": 81.37682243604235,
            "count": 8
           },
           {
            "bin_start": 81.37682243604235,
            "bin_end": 84.6240934576241,
            "count": 4
           },
           {
            "bin_start": 84.6240934576241,
            "bin_end": 87.87136447920585,
            "count": 2
           },
           {
            "bin_start": 87.87136447920585,
            "bin_end": 91.1186355007876,
            "count": 2
           },
           {
            "bin_start": 91.1186355007876,
            "bin_end": 94.36590652236936,
            "count": 4
           },
           {
            "bin_start": 94.36590652236936,
            "bin_end": 97.61317754395112,
            "count": 2
           },
           {
            "bin_start": 97.61317754395112,
            "bin_end": 100.86044856553288,
            "count": 1
           }
          ]
         }
        },
        {
         "name": "PEF(B/E)",
         "dtype": "float64",
         "stats": {
          "unique_count": 49,
          "nan_count": 0,
          "min": "0.042711805114828",
          "max": "8.07624554169418",
          "histogram": [
           {
            "bin_start": 0.042711805114828,
            "bin_end": 0.846065178772763,
            "count": 7
           },
           {
            "bin_start": 0.846065178772763,
            "bin_end": 1.6494185524306981,
            "count": 0
           },
           {
            "bin_start": 1.6494185524306981,
            "bin_end": 2.4527719260886327,
            "count": 0
           },
           {
            "bin_start": 2.4527719260886327,
            "bin_end": 3.256125299746568,
            "count": 0
           },
           {
            "bin_start": 3.256125299746568,
            "bin_end": 4.059478673404503,
            "count": 5
           },
           {
            "bin_start": 4.059478673404503,
            "bin_end": 4.8628320470624375,
            "count": 5
           },
           {
            "bin_start": 4.8628320470624375,
            "bin_end": 5.666185420720373,
            "count": 0
           },
           {
            "bin_start": 5.666185420720373,
            "bin_end": 6.469538794378308,
            "count": 14
           },
           {
            "bin_start": 6.469538794378308,
            "bin_end": 7.272892168036243,
            "count": 14
           },
           {
            "bin_start": 7.272892168036243,
            "bin_end": 8.07624554169418,
            "count": 4
           }
          ]
         }
        },
        {
         "name": "RD(OHMM)",
         "dtype": "float64",
         "stats": {
          "unique_count": 49,
          "nan_count": 0,
          "min": "82.46183052571075",
          "max": "298.42281799710304",
          "histogram": [
           {
            "bin_start": 82.46183052571075,
            "bin_end": 104.05792927284998,
            "count": 1
           },
           {
            "bin_start": 104.05792927284998,
            "bin_end": 125.65402801998921,
            "count": 3
           },
           {
            "bin_start": 125.65402801998921,
            "bin_end": 147.25012676712845,
            "count": 12
           },
           {
            "bin_start": 147.25012676712845,
            "bin_end": 168.84622551426767,
            "count": 9
           },
           {
            "bin_start": 168.84622551426767,
            "bin_end": 190.4423242614069,
            "count": 5
           },
           {
            "bin_start": 190.4423242614069,
            "bin_end": 212.03842300854615,
            "count": 6
           },
           {
            "bin_start": 212.03842300854615,
            "bin_end": 233.63452175568537,
            "count": 7
           },
           {
            "bin_start": 233.63452175568537,
            "bin_end": 255.2306205028246,
            "count": 2
           },
           {
            "bin_start": 255.2306205028246,
            "bin_end": 276.82671924996384,
            "count": 2
           },
           {
            "bin_start": 276.82671924996384,
            "bin_end": 298.42281799710304,
            "count": 2
           }
          ]
         }
        },
        {
         "name": "RS(OHMM)",
         "dtype": "float64",
         "stats": {
          "unique_count": 49,
          "nan_count": 0,
          "min": "83.107372696387",
          "max": "5709.184863928936",
          "histogram": [
           {
            "bin_start": 83.107372696387,
            "bin_end": 645.7151218196418,
            "count": 44
           },
           {
            "bin_start": 645.7151218196418,
            "bin_end": 1208.3228709428968,
            "count": 1
           },
           {
            "bin_start": 1208.3228709428968,
            "bin_end": 1770.9306200661515,
            "count": 0
           },
           {
            "bin_start": 1770.9306200661515,
            "bin_end": 2333.5383691894062,
            "count": 0
           },
           {
            "bin_start": 2333.5383691894062,
            "bin_end": 2896.146118312661,
            "count": 0
           },
           {
            "bin_start": 2896.146118312661,
            "bin_end": 3458.7538674359157,
            "count": 0
           },
           {
            "bin_start": 3458.7538674359157,
            "bin_end": 4021.3616165591707,
            "count": 1
           },
           {
            "bin_start": 4021.3616165591707,
            "bin_end": 4583.969365682426,
            "count": 1
           },
           {
            "bin_start": 4583.969365682426,
            "bin_end": 5146.57711480568,
            "count": 1
           },
           {
            "bin_start": 5146.57711480568,
            "bin_end": 5709.184863928936,
            "count": 1
           }
          ]
         }
        },
        {
         "name": "ROP",
         "dtype": "float64",
         "stats": {
          "unique_count": 49,
          "nan_count": 0,
          "min": "14.664768612951145",
          "max": "29.34821877761377",
          "histogram": [
           {
            "bin_start": 14.664768612951145,
            "bin_end": 16.13311362941741,
            "count": 6
           },
           {
            "bin_start": 16.13311362941741,
            "bin_end": 17.60145864588367,
            "count": 4
           },
           {
            "bin_start": 17.60145864588367,
            "bin_end": 19.069803662349933,
            "count": 8
           },
           {
            "bin_start": 19.069803662349933,
            "bin_end": 20.538148678816196,
            "count": 10
           },
           {
            "bin_start": 20.538148678816196,
            "bin_end": 22.006493695282458,
            "count": 0
           },
           {
            "bin_start": 22.006493695282458,
            "bin_end": 23.47483871174872,
            "count": 1
           },
           {
            "bin_start": 23.47483871174872,
            "bin_end": 24.943183728214983,
            "count": 0
           },
           {
            "bin_start": 24.943183728214983,
            "bin_end": 26.411528744681245,
            "count": 11
           },
           {
            "bin_start": 26.411528744681245,
            "bin_end": 27.879873761147508,
            "count": 5
           },
           {
            "bin_start": 27.879873761147508,
            "bin_end": 29.34821877761377,
            "count": 4
           }
          ]
         }
        },
        {
         "name": "DENC(g/cm3)",
         "dtype": "float64",
         "stats": {
          "unique_count": 49,
          "nan_count": 0,
          "min": "0.0109602229450454",
          "max": "0.0670150962795204",
          "histogram": [
           {
            "bin_start": 0.0109602229450454,
            "bin_end": 0.0165657102784929,
            "count": 4
           },
           {
            "bin_start": 0.0165657102784929,
            "bin_end": 0.022171197611940398,
            "count": 4
           },
           {
            "bin_start": 0.022171197611940398,
            "bin_end": 0.027776684945387903,
            "count": 1
           },
           {
            "bin_start": 0.027776684945387903,
            "bin_end": 0.0333821722788354,
            "count": 0
           },
           {
            "bin_start": 0.0333821722788354,
            "bin_end": 0.0389876596122829,
            "count": 1
           },
           {
            "bin_start": 0.0389876596122829,
            "bin_end": 0.044593146945730404,
            "count": 2
           },
           {
            "bin_start": 0.044593146945730404,
            "bin_end": 0.0501986342791779,
            "count": 3
           },
           {
            "bin_start": 0.0501986342791779,
            "bin_end": 0.0558041216126254,
            "count": 11
           },
           {
            "bin_start": 0.0558041216126254,
            "bin_end": 0.0614096089460729,
            "count": 16
           },
           {
            "bin_start": 0.0614096089460729,
            "bin_end": 0.0670150962795204,
            "count": 7
           }
          ]
         }
        },
        {
         "name": "NPHI(v/v)",
         "dtype": "float64",
         "stats": {
          "unique_count": 49,
          "nan_count": 0,
          "min": "0.1230251483025656",
          "max": "0.3458667771417275",
          "histogram": [
           {
            "bin_start": 0.1230251483025656,
            "bin_end": 0.14530931118648177,
            "count": 4
           },
           {
            "bin_start": 0.14530931118648177,
            "bin_end": 0.16759347407039799,
            "count": 13
           },
           {
            "bin_start": 0.16759347407039799,
            "bin_end": 0.18987763695431414,
            "count": 6
           },
           {
            "bin_start": 0.18987763695431414,
            "bin_end": 0.21216179983823036,
            "count": 10
           },
           {
            "bin_start": 0.21216179983823036,
            "bin_end": 0.23444596272214652,
            "count": 7
           },
           {
            "bin_start": 0.23444596272214652,
            "bin_end": 0.25673012560606273,
            "count": 1
           },
           {
            "bin_start": 0.25673012560606273,
            "bin_end": 0.2790142884899789,
            "count": 3
           },
           {
            "bin_start": 0.2790142884899789,
            "bin_end": 0.3012984513738951,
            "count": 3
           },
           {
            "bin_start": 0.3012984513738951,
            "bin_end": 0.32358261425781126,
            "count": 0
           },
           {
            "bin_start": 0.32358261425781126,
            "bin_end": 0.3458667771417275,
            "count": 2
           }
          ]
         }
        },
        {
         "name": "Zone",
         "dtype": "float64",
         "stats": {
          "unique_count": 14,
          "nan_count": 0,
          "min": "0.2558139534883721",
          "max": "0.5263157894736842",
          "histogram": [
           {
            "bin_start": 0.2558139534883721,
            "bin_end": 0.28286413708690333,
            "count": 1
           },
           {
            "bin_start": 0.28286413708690333,
            "bin_end": 0.3099143206854345,
            "count": 0
           },
           {
            "bin_start": 0.3099143206854345,
            "bin_end": 0.33696450428396574,
            "count": 0
           },
           {
            "bin_start": 0.33696450428396574,
            "bin_end": 0.3640146878824969,
            "count": 0
           },
           {
            "bin_start": 0.3640146878824969,
            "bin_end": 0.39106487148102814,
            "count": 0
           },
           {
            "bin_start": 0.39106487148102814,
            "bin_end": 0.4181150550795594,
            "count": 0
           },
           {
            "bin_start": 0.4181150550795594,
            "bin_end": 0.44516523867809055,
            "count": 0
           },
           {
            "bin_start": 0.44516523867809055,
            "bin_end": 0.4722154222766218,
            "count": 0
           },
           {
            "bin_start": 0.4722154222766218,
            "bin_end": 0.499265605875153,
            "count": 15
           },
           {
            "bin_start": 0.499265605875153,
            "bin_end": 0.5263157894736842,
            "count": 33
           }
          ]
         }
        },
        {
         "name": "X",
         "dtype": "float64",
         "stats": {
          "unique_count": 49,
          "nan_count": 0,
          "min": "109560.25999999988",
          "max": "142095.81999999995",
          "histogram": [
           {
            "bin_start": 109560.25999999988,
            "bin_end": 112813.81599999989,
            "count": 8
           },
           {
            "bin_start": 112813.81599999989,
            "bin_end": 116067.37199999989,
            "count": 5
           },
           {
            "bin_start": 116067.37199999989,
            "bin_end": 119320.9279999999,
            "count": 5
           },
           {
            "bin_start": 119320.9279999999,
            "bin_end": 122574.48399999991,
            "count": 3
           },
           {
            "bin_start": 122574.48399999991,
            "bin_end": 125828.03999999992,
            "count": 4
           },
           {
            "bin_start": 125828.03999999992,
            "bin_end": 129081.59599999992,
            "count": 4
           },
           {
            "bin_start": 129081.59599999992,
            "bin_end": 132335.1519999999,
            "count": 3
           },
           {
            "bin_start": 132335.1519999999,
            "bin_end": 135588.70799999993,
            "count": 8
           },
           {
            "bin_start": 135588.70799999993,
            "bin_end": 138842.26399999994,
            "count": 5
           },
           {
            "bin_start": 138842.26399999994,
            "bin_end": 142095.81999999995,
            "count": 4
           }
          ]
         }
        },
        {
         "name": "Y",
         "dtype": "float64",
         "stats": {
          "unique_count": 49,
          "nan_count": 0,
          "min": "81747.12000000008",
          "max": "93691.55000000002",
          "histogram": [
           {
            "bin_start": 81747.12000000008,
            "bin_end": 82941.56300000008,
            "count": 5
           },
           {
            "bin_start": 82941.56300000008,
            "bin_end": 84136.00600000007,
            "count": 5
           },
           {
            "bin_start": 84136.00600000007,
            "bin_end": 85330.44900000007,
            "count": 5
           },
           {
            "bin_start": 85330.44900000007,
            "bin_end": 86524.89200000005,
            "count": 5
           },
           {
            "bin_start": 86524.89200000005,
            "bin_end": 87719.33500000005,
            "count": 3
           },
           {
            "bin_start": 87719.33500000005,
            "bin_end": 88913.77800000005,
            "count": 6
           },
           {
            "bin_start": 88913.77800000005,
            "bin_end": 90108.22100000003,
            "count": 7
           },
           {
            "bin_start": 90108.22100000003,
            "bin_end": 91302.66400000003,
            "count": 5
           },
           {
            "bin_start": 91302.66400000003,
            "bin_end": 92497.10700000002,
            "count": 6
           },
           {
            "bin_start": 92497.10700000002,
            "bin_end": 93691.55000000002,
            "count": 2
           }
          ]
         }
        },
        {
         "name": "Completion Zone",
         "dtype": "int64",
         "stats": {
          "unique_count": 2,
          "nan_count": 0,
          "min": "0",
          "max": "1",
          "histogram": [
           {
            "bin_start": 0,
            "bin_end": 0.1,
            "count": 30
           },
           {
            "bin_start": 0.1,
            "bin_end": 0.2,
            "count": 0
           },
           {
            "bin_start": 0.2,
            "bin_end": 0.30000000000000004,
            "count": 0
           },
           {
            "bin_start": 0.30000000000000004,
            "bin_end": 0.4,
            "count": 0
           },
           {
            "bin_start": 0.4,
            "bin_end": 0.5,
            "count": 0
           },
           {
            "bin_start": 0.5,
            "bin_end": 0.6000000000000001,
            "count": 0
           },
           {
            "bin_start": 0.6000000000000001,
            "bin_end": 0.7000000000000001,
            "count": 0
           },
           {
            "bin_start": 0.7000000000000001,
            "bin_end": 0.8,
            "count": 0
           },
           {
            "bin_start": 0.8,
            "bin_end": 0.9,
            "count": 0
           },
           {
            "bin_start": 0.9,
            "bin_end": 1,
            "count": 19
           }
          ]
         }
        },
        {
         "name": "AI_lower(2012-01-01)",
         "dtype": "float64",
         "stats": {
          "unique_count": 49,
          "nan_count": 0,
          "min": "6349.166868649859",
          "max": "6582.114979658839",
          "histogram": [
           {
            "bin_start": 6349.166868649859,
            "bin_end": 6372.461679750757,
            "count": 1
           },
           {
            "bin_start": 6372.461679750757,
            "bin_end": 6395.756490851655,
            "count": 1
           },
           {
            "bin_start": 6395.756490851655,
            "bin_end": 6419.051301952552,
            "count": 0
           },
           {
            "bin_start": 6419.051301952552,
            "bin_end": 6442.346113053451,
            "count": 2
           },
           {
            "bin_start": 6442.346113053451,
            "bin_end": 6465.640924154349,
            "count": 3
           },
           {
            "bin_start": 6465.640924154349,
            "bin_end": 6488.935735255247,
            "count": 4
           },
           {
            "bin_start": 6488.935735255247,
            "bin_end": 6512.230546356145,
            "count": 6
           },
           {
            "bin_start": 6512.230546356145,
            "bin_end": 6535.525357457042,
            "count": 10
           },
           {
            "bin_start": 6535.525357457042,
            "bin_end": 6558.820168557941,
            "count": 11
           },
           {
            "bin_start": 6558.820168557941,
            "bin_end": 6582.114979658839,
            "count": 11
           }
          ]
         }
        },
        {
         "name": "AI_upper(2012-01-01)",
         "dtype": "float64",
         "stats": {
          "unique_count": 49,
          "nan_count": 0,
          "min": "6313.508043505049",
          "max": "6540.158028221774",
          "histogram": [
           {
            "bin_start": 6313.508043505049,
            "bin_end": 6336.173041976721,
            "count": 1
           },
           {
            "bin_start": 6336.173041976721,
            "bin_end": 6358.838040448393,
            "count": 0
           },
           {
            "bin_start": 6358.838040448393,
            "bin_end": 6381.5030389200665,
            "count": 0
           },
           {
            "bin_start": 6381.5030389200665,
            "bin_end": 6404.168037391739,
            "count": 4
           },
           {
            "bin_start": 6404.168037391739,
            "bin_end": 6426.833035863411,
            "count": 1
           },
           {
            "bin_start": 6426.833035863411,
            "bin_end": 6449.4980343350835,
            "count": 1
           },
           {
            "bin_start": 6449.4980343350835,
            "bin_end": 6472.163032806756,
            "count": 5
           },
           {
            "bin_start": 6472.163032806756,
            "bin_end": 6494.828031278429,
            "count": 10
           },
           {
            "bin_start": 6494.828031278429,
            "bin_end": 6517.493029750101,
            "count": 14
           },
           {
            "bin_start": 6517.493029750101,
            "bin_end": 6540.158028221774,
            "count": 13
           }
          ]
         }
        },
        {
         "name": "AI_lower(2021-12-20)",
         "dtype": "float64",
         "stats": {
          "unique_count": 49,
          "nan_count": 0,
          "min": "6362.624739685868",
          "max": "6677.133028086999",
          "histogram": [
           {
            "bin_start": 6362.624739685868,
            "bin_end": 6394.075568525981,
            "count": 1
           },
           {
            "bin_start": 6394.075568525981,
            "bin_end": 6425.526397366094,
            "count": 1
           },
           {
            "bin_start": 6425.526397366094,
            "bin_end": 6456.977226206207,
            "count": 0
           },
           {
            "bin_start": 6456.977226206207,
            "bin_end": 6488.42805504632,
            "count": 2
           },
           {
            "bin_start": 6488.42805504632,
            "bin_end": 6519.878883886433,
            "count": 5
           },
           {
            "bin_start": 6519.878883886433,
            "bin_end": 6551.329712726547,
            "count": 1
           },
           {
            "bin_start": 6551.329712726547,
            "bin_end": 6582.78054156666,
            "count": 4
           },
           {
            "bin_start": 6582.78054156666,
            "bin_end": 6614.231370406773,
            "count": 14
           },
           {
            "bin_start": 6614.231370406773,
            "bin_end": 6645.682199246886,
            "count": 11
           },
           {
            "bin_start": 6645.682199246886,
            "bin_end": 6677.133028086999,
            "count": 10
           }
          ]
         }
        },
        {
         "name": "AI_upper(2021-12-20)",
         "dtype": "float64",
         "stats": {
          "unique_count": 49,
          "nan_count": 0,
          "min": "6322.316898442236",
          "max": "6546.891713233452",
          "histogram": [
           {
            "bin_start": 6322.316898442236,
            "bin_end": 6344.774379921358,
            "count": 1
           },
           {
            "bin_start": 6344.774379921358,
            "bin_end": 6367.23186140048,
            "count": 0
           },
           {
            "bin_start": 6367.23186140048,
            "bin_end": 6389.689342879601,
            "count": 1
           },
           {
            "bin_start": 6389.689342879601,
            "bin_end": 6412.146824358722,
            "count": 3
           },
           {
            "bin_start": 6412.146824358722,
            "bin_end": 6434.604305837844,
            "count": 2
           },
           {
            "bin_start": 6434.604305837844,
            "bin_end": 6457.061787316966,
            "count": 2
           },
           {
            "bin_start": 6457.061787316966,
            "bin_end": 6479.519268796087,
            "count": 5
           },
           {
            "bin_start": 6479.519268796087,
            "bin_end": 6501.976750275208,
            "count": 10
           },
           {
            "bin_start": 6501.976750275208,
            "bin_end": 6524.4342317543305,
            "count": 10
           },
           {
            "bin_start": 6524.4342317543305,
            "bin_end": 6546.891713233452,
            "count": 15
           }
          ]
         }
        },
        {
         "name": "scaled_X",
         "dtype": "float64",
         "stats": {
          "unique_count": 49,
          "nan_count": 0,
          "min": "-1.5637606022697967",
          "max": "1.758236423305915",
          "histogram": [
           {
            "bin_start": -1.5637606022697967,
            "bin_end": -1.2315608997122256,
            "count": 8
           },
           {
            "bin_start": -1.2315608997122256,
            "bin_end": -0.8993611971546543,
            "count": 5
           },
           {
            "bin_start": -0.8993611971546543,
            "bin_end": -0.5671614945970831,
            "count": 5
           },
           {
            "bin_start": -0.5671614945970831,
            "bin_end": -0.23496179203951195,
            "count": 3
           },
           {
            "bin_start": -0.23496179203951195,
            "bin_end": 0.09723791051805919,
            "count": 4
           },
           {
            "bin_start": 0.09723791051805919,
            "bin_end": 0.42943761307563055,
            "count": 4
           },
           {
            "bin_start": 0.42943761307563055,
            "bin_end": 0.7616373156332015,
            "count": 3
           },
           {
            "bin_start": 0.7616373156332015,
            "bin_end": 1.0938370181907728,
            "count": 8
           },
           {
            "bin_start": 1.0938370181907728,
            "bin_end": 1.4260367207483442,
            "count": 5
           },
           {
            "bin_start": 1.4260367207483442,
            "bin_end": 1.758236423305915,
            "count": 4
           }
          ]
         }
        },
        {
         "name": "scaled_Y",
         "dtype": "float64",
         "stats": {
          "unique_count": 49,
          "nan_count": 0,
          "min": "-4.403581658121331",
          "max": "-3.1840126409537337",
          "histogram": [
           {
            "bin_start": -4.403581658121331,
            "bin_end": -4.281624756404571,
            "count": 5
           },
           {
            "bin_start": -4.281624756404571,
            "bin_end": -4.159667854687811,
            "count": 5
           },
           {
            "bin_start": -4.159667854687811,
            "bin_end": -4.037710952971052,
            "count": 5
           },
           {
            "bin_start": -4.037710952971052,
            "bin_end": -3.915754051254292,
            "count": 5
           },
           {
            "bin_start": -3.915754051254292,
            "bin_end": -3.793797149537532,
            "count": 3
           },
           {
            "bin_start": -3.793797149537532,
            "bin_end": -3.6718402478207723,
            "count": 6
           },
           {
            "bin_start": -3.6718402478207723,
            "bin_end": -3.549883346104013,
            "count": 7
           },
           {
            "bin_start": -3.549883346104013,
            "bin_end": -3.427926444387253,
            "count": 5
           },
           {
            "bin_start": -3.427926444387253,
            "bin_end": -3.3059695426704936,
            "count": 6
           },
           {
            "bin_start": -3.3059695426704936,
            "bin_end": -3.1840126409537337,
            "count": 2
           }
          ]
         }
        },
        {
         "name": "scaled_MD",
         "dtype": "float64",
         "stats": {
          "unique_count": 49,
          "nan_count": 0,
          "min": "-12.305164454763538",
          "max": "-12.244933850275867",
          "histogram": [
           {
            "bin_start": -12.305164454763538,
            "bin_end": -12.299141394314772,
            "count": 2
           },
           {
            "bin_start": -12.299141394314772,
            "bin_end": -12.293118333866005,
            "count": 0
           },
           {
            "bin_start": -12.293118333866005,
            "bin_end": -12.287095273417236,
            "count": 10
           },
           {
            "bin_start": -12.287095273417236,
            "bin_end": -12.28107221296847,
            "count": 7
           },
           {
            "bin_start": -12.28107221296847,
            "bin_end": -12.275049152519703,
            "count": 7
           },
           {
            "bin_start": -12.275049152519703,
            "bin_end": -12.269026092070936,
            "count": 3
           },
           {
            "bin_start": -12.269026092070936,
            "bin_end": -12.26300303162217,
            "count": 4
           },
           {
            "bin_start": -12.26300303162217,
            "bin_end": -12.2569799711734,
            "count": 8
           },
           {
            "bin_start": -12.2569799711734,
            "bin_end": -12.250956910724634,
            "count": 6
           },
           {
            "bin_start": -12.250956910724634,
            "bin_end": -12.244933850275867,
            "count": 2
           }
          ]
         }
        },
        {
         "name": "perm_est",
         "dtype": "float64",
         "stats": {
          "unique_count": 49,
          "nan_count": 0,
          "min": "1.1508886352930574",
          "max": "33.89878480536511",
          "histogram": [
           {
            "bin_start": 1.1508886352930574,
            "bin_end": 4.425678252300263,
            "count": 9
           },
           {
            "bin_start": 4.425678252300263,
            "bin_end": 7.700467869307468,
            "count": 12
           },
           {
            "bin_start": 7.700467869307468,
            "bin_end": 10.975257486314675,
            "count": 14
           },
           {
            "bin_start": 10.975257486314675,
            "bin_end": 14.25004710332188,
            "count": 5
           },
           {
            "bin_start": 14.25004710332188,
            "bin_end": 17.524836720329084,
            "count": 3
           },
           {
            "bin_start": 17.524836720329084,
            "bin_end": 20.799626337336292,
            "count": 4
           },
           {
            "bin_start": 20.799626337336292,
            "bin_end": 24.074415954343497,
            "count": 0
           },
           {
            "bin_start": 24.074415954343497,
            "bin_end": 27.3492055713507,
            "count": 0
           },
           {
            "bin_start": 27.3492055713507,
            "bin_end": 30.623995188357906,
            "count": 1
           },
           {
            "bin_start": 30.623995188357906,
            "bin_end": 33.89878480536511,
            "count": 1
           }
          ]
         }
        },
        {
         "name": "sum",
         "dtype": "float64",
         "stats": {
          "unique_count": 49,
          "nan_count": 0,
          "min": "3.588711727",
          "max": "89215.30957408802",
          "histogram": [
           {
            "bin_start": 3.588711727,
            "bin_end": 8924.760797963101,
            "count": 28
           },
           {
            "bin_start": 8924.760797963101,
            "bin_end": 17845.932884199203,
            "count": 7
           },
           {
            "bin_start": 17845.932884199203,
            "bin_end": 26767.104970435303,
            "count": 3
           },
           {
            "bin_start": 26767.104970435303,
            "bin_end": 35688.27705667141,
            "count": 6
           },
           {
            "bin_start": 35688.27705667141,
            "bin_end": 44609.44914290751,
            "count": 3
           },
           {
            "bin_start": 44609.44914290751,
            "bin_end": 53530.62122914361,
            "count": 0
           },
           {
            "bin_start": 53530.62122914361,
            "bin_end": 62451.79331537971,
            "count": 0
           },
           {
            "bin_start": 62451.79331537971,
            "bin_end": 71372.96540161582,
            "count": 0
           },
           {
            "bin_start": 71372.96540161582,
            "bin_end": 80294.13748785191,
            "count": 1
           },
           {
            "bin_start": 80294.13748785191,
            "bin_end": 89215.30957408802,
            "count": 1
           }
          ]
         }
        },
        {
         "name": "Well",
         "dtype": "object",
         "stats": {
          "unique_count": 49,
          "nan_count": 0,
          "categories": [
           {
            "name": "WP0",
            "count": 1
           },
           {
            "name": "WP1",
            "count": 1
           },
           {
            "name": "47 others",
            "count": 47
           }
          ]
         }
        },
        {
         "name": "diff_lower",
         "dtype": "float64",
         "stats": {
          "unique_count": 49,
          "nan_count": 0,
          "min": "13.457871036009237",
          "max": "103.95229189246038",
          "histogram": [
           {
            "bin_start": 13.457871036009237,
            "bin_end": 22.507313121654352,
            "count": 1
           },
           {
            "bin_start": 22.507313121654352,
            "bin_end": 31.556755207299467,
            "count": 0
           },
           {
            "bin_start": 31.556755207299467,
            "bin_end": 40.606197292944586,
            "count": 3
           },
           {
            "bin_start": 40.606197292944586,
            "bin_end": 49.6556393785897,
            "count": 4
           },
           {
            "bin_start": 49.6556393785897,
            "bin_end": 58.70508146423481,
            "count": 2
           },
           {
            "bin_start": 58.70508146423481,
            "bin_end": 67.75452354987993,
            "count": 8
           },
           {
            "bin_start": 67.75452354987993,
            "bin_end": 76.80396563552505,
            "count": 9
           },
           {
            "bin_start": 76.80396563552505,
            "bin_end": 85.85340772117016,
            "count": 8
           },
           {
            "bin_start": 85.85340772117016,
            "bin_end": 94.90284980681527,
            "count": 6
           },
           {
            "bin_start": 94.90284980681527,
            "bin_end": 103.95229189246038,
            "count": 8
           }
          ]
         }
        },
        {
         "name": "diff_upper",
         "dtype": "float64",
         "stats": {
          "unique_count": 49,
          "nan_count": 0,
          "min": "-22.04290064678753",
          "max": "36.03164208813632",
          "histogram": [
           {
            "bin_start": -22.04290064678753,
            "bin_end": -16.235446373295144,
            "count": 6
           },
           {
            "bin_start": -16.235446373295144,
            "bin_end": -10.42799209980276,
            "count": 3
           },
           {
            "bin_start": -10.42799209980276,
            "bin_end": -4.620537826310375,
            "count": 3
           },
           {
            "bin_start": -4.620537826310375,
            "bin_end": 1.1869164471820106,
            "count": 8
           },
           {
            "bin_start": 1.1869164471820106,
            "bin_end": 6.994370720674397,
            "count": 7
           },
           {
            "bin_start": 6.994370720674397,
            "bin_end": 12.801824994166779,
            "count": 5
           },
           {
            "bin_start": 12.801824994166779,
            "bin_end": 18.60927926765917,
            "count": 6
           },
           {
            "bin_start": 18.60927926765917,
            "bin_end": 24.41673354115155,
            "count": 4
           },
           {
            "bin_start": 24.41673354115155,
            "bin_end": 30.224187814643933,
            "count": 5
           },
           {
            "bin_start": 30.224187814643933,
            "bin_end": 36.03164208813632,
            "count": 2
           }
          ]
         }
        },
        {
         "name": "log_sum",
         "dtype": "float64",
         "stats": {
          "unique_count": 49,
          "nan_count": 0,
          "min": "1.2777932876801414",
          "max": "11.398807935837517",
          "histogram": [
           {
            "bin_start": 1.2777932876801414,
            "bin_end": 2.2898947524958793,
            "count": 2
           },
           {
            "bin_start": 2.2898947524958793,
            "bin_end": 3.3019962173116166,
            "count": 1
           },
           {
            "bin_start": 3.3019962173116166,
            "bin_end": 4.314097682127354,
            "count": 2
           },
           {
            "bin_start": 4.314097682127354,
            "bin_end": 5.326199146943091,
            "count": 4
           },
           {
            "bin_start": 5.326199146943091,
            "bin_end": 6.338300611758829,
            "count": 5
           },
           {
            "bin_start": 6.338300611758829,
            "bin_end": 7.350402076574568,
            "count": 3
           },
           {
            "bin_start": 7.350402076574568,
            "bin_end": 8.362503541390305,
            "count": 7
           },
           {
            "bin_start": 8.362503541390305,
            "bin_end": 9.374605006206043,
            "count": 7
           },
           {
            "bin_start": 9.374605006206043,
            "bin_end": 10.38670647102178,
            "count": 12
           },
           {
            "bin_start": 10.38670647102178,
            "bin_end": 11.398807935837517,
            "count": 6
           }
          ]
         }
        },
        {
         "name": "_deepnote_index_column",
         "dtype": "int64"
        }
       ],
       "rows": [
        {
         "well_id": "WP37",
         "MD(ft)": 4804.88849512,
         "PORO(v/v)": 0.12738849447803,
         "RHOB(g/cm3)": 2.497974694250953,
         "DTS(us/ft)": 127.9464564726451,
         "DT(us/ft)": 77.20180274617375,
         "PEF(B/E)": 5.904671220075924,
         "RD(OHMM)": 155.82141934132656,
         "RS(OHMM)": 183.9343947237045,
         "ROP": 19.19020688032104,
         "DENC(g/cm3)": 0.0608071664846112,
         "NPHI(v/v)": 0.1569353640662315,
         "Zone": 0.5,
         "X": 134902.25,
         "Y": 82632.62000000008,
         "Completion Zone": 0,
         "AI_lower(2012-01-01)": 6492.928755878653,
         "AI_upper(2012-01-01)": 6523.343805858828,
         "AI_lower(2021-12-20)": 6547.740581676565,
         "AI_upper(2021-12-20)": 6501.300905212041,
         "scaled_X": 1.0237472015660505,
         "scaled_Y": -4.313168941507654,
         "scaled_MD": -12.259658645896206,
         "perm_est": 8.326875275412538,
         "sum": 12317.9224072,
         "Well": "WP37",
         "diff_lower": 54.811825797912206,
         "diff_upper": -22.04290064678753,
         "log_sum": 9.418810587087679,
         "_deepnote_index_column": 30
        },
        {
         "well_id": "WP38",
         "MD(ft)": 4564.84751056,
         "PORO(v/v)": 0.1317005681770858,
         "RHOB(g/cm3)": 2.5149840718454595,
         "DTS(us/ft)": 130.2241602887007,
         "DT(us/ft)": 79.32398299443868,
         "PEF(B/E)": 6.648852014333998,
         "RD(OHMM)": 231.031217615484,
         "RS(OHMM)": 258.53016064604765,
         "ROP": 27.63374211166408,
         "DENC(g/cm3)": 0.0548083196445603,
         "NPHI(v/v)": 0.1900803438064462,
         "Zone": 0.4883720930232558,
         "X": 116803.30999999995,
         "Y": 91177.75,
         "Completion Zone": 0,
         "AI_lower(2012-01-01)": 6561.302586764162,
         "AI_upper(2012-01-01)": 6499.209230129787,
         "AI_lower(2021-12-20)": 6647.733381735511,
         "AI_upper(2021-12-20)": 6524.143393818142,
         "scaled_X": -0.8242192955857838,
         "scaled_Y": -3.440680610488982,
         "scaled_MD": -12.284167688824148,
         "perm_est": 9.62418403459582,
         "sum": 30098.4080093,
         "Well": "WP38",
         "diff_lower": 86.43079497134931,
         "diff_upper": 24.9341636883546,
         "log_sum": 10.31222755928176,
         "_deepnote_index_column": 31
        },
        {
         "well_id": "WP39",
         "MD(ft)": 4529.5987216,
         "PORO(v/v)": 0.1178793845861264,
         "RHOB(g/cm3)": 2.5239325083898567,
         "DTS(us/ft)": 118.9824050553525,
         "DT(us/ft)": 100.86044856553288,
         "PEF(B/E)": 7.079529922734539,
         "RD(OHMM)": 143.4378207123226,
         "RS(OHMM)": 146.79655482082936,
         "ROP": 16.284577660645486,
         "DENC(g/cm3)": 0.0555298060216129,
         "NPHI(v/v)": 0.3458667771417275,
         "Zone": 0.5,
         "X": 111890.87999999992,
         "Y": 91708.68000000004,
         "Completion Zone": 1,
         "AI_lower(2012-01-01)": 6476.942332084875,
         "AI_upper(2012-01-01)": 6456.644294370351,
         "AI_lower(2021-12-20)": 6558.196507741312,
         "AI_upper(2021-12-20)": 6469.729763309674,
         "scaled_X": -1.325795965799815,
         "scaled_Y": -3.386470758843926,
         "scaled_MD": -12.287766716229264,
         "perm_est": 6.451676990046311,
         "sum": 3260.3665781153845,
         "Well": "WP39",
         "diff_lower": 81.25417565643784,
         "diff_upper": 13.085468939322709,
         "log_sum": 8.08959491531369,
         "_deepnote_index_column": 32
        },
        {
         "well_id": "WP4",
         "MD(ft)": 4510.18938392,
         "PORO(v/v)": 0.1379294290367575,
         "RHOB(g/cm3)": 2.5383830157628187,
         "DTS(us/ft)": 125.51800278807772,
         "DT(us/ft)": 78.83012242484855,
         "PEF(B/E)": 0.0572181471957658,
         "RD(OHMM)": 216.9953149944838,
         "RS(OHMM)": 290.67235366652983,
         "ROP": 25.37365110272847,
         "DENC(g/cm3)": 0.0572181471957658,
         "NPHI(v/v)": 0.1467894980278659,
         "Zone": 0.4883720930232558,
         "X": 109951.43000000002,
         "Y": 89343.45000000007,
         "Completion Zone": 0,
         "AI_lower(2012-01-01)": 6521.734692701953,
         "AI_upper(2012-01-01)": 6497.829295171567,
         "AI_lower(2021-12-20)": 6612.897189958197,
         "AI_upper(2021-12-20)": 6501.840702033259,
         "scaled_X": -1.5238207464168658,
         "scaled_Y": -3.627969200081831,
         "scaled_MD": -12.289748479015609,
         "perm_est": 8.15260417771685,
         "sum": 7103.2455667,
         "Well": "WP4",
         "diff_lower": 91.16249725624402,
         "diff_upper": 4.011406861692194,
         "log_sum": 8.868307080651364,
         "_deepnote_index_column": 33
        },
        {
         "well_id": "WP40",
         "MD(ft)": 4843.910966720001,
         "PORO(v/v)": 0.1393623055629401,
         "RHOB(g/cm3)": 2.4726254895305404,
         "DTS(us/ft)": 129.70943773651527,
         "DT(us/ft)": 77.42641690281026,
         "PEF(B/E)": 5.800913202234119,
         "RD(OHMM)": 127.24225236733872,
         "RS(OHMM)": 142.5126105569287,
         "ROP": 19.958621745361853,
         "DENC(g/cm3)": 0.0590710294538372,
         "NPHI(v/v)": 0.1593316218967069,
         "Zone": 0.5,
         "X": 126601.2999999999,
         "Y": 90679.20999999998,
         "Completion Zone": 1,
         "AI_lower(2012-01-01)": 6568.898426529603,
         "AI_upper(2012-01-01)": 6531.656163267291,
         "AI_lower(2021-12-20)": 6644.103124799067,
         "AI_upper(2021-12-20)": 6541.633069061596,
         "scaled_X": 0.1761905217531712,
         "scaled_Y": -3.4915833273049954,
         "scaled_MD": -12.255674311998618,
         "perm_est": 8.677417742200529,
         "sum": 3185.902346310412,
         "Well": "WP40",
         "diff_lower": 75.20469826946373,
         "diff_upper": 9.976905794304912,
         "log_sum": 8.06649083912467,
         "_deepnote_index_column": 34
        },
        {
         "well_id": "WP41",
         "MD(ft)": 4600.70889528,
         "PORO(v/v)": 0.1242049049056843,
         "RHOB(g/cm3)": 2.507477489504041,
         "DTS(us/ft)": 125.017025955334,
         "DT(us/ft)": 76.79238768087549,
         "PEF(B/E)": 6.004300742798484,
         "RD(OHMM)": 157.79350597040346,
         "RS(OHMM)": 192.08858036983804,
         "ROP": 19.63392814519785,
         "DENC(g/cm3)": 0.061733677213837,
         "NPHI(v/v)": 0.1520071984009245,
         "Zone": 0.4878048780487805,
         "X": 114333.0099999999,
         "Y": 91616.66000000005,
         "Completion Zone": 0,
         "AI_lower(2012-01-01)": 6524.345371012458,
         "AI_upper(2012-01-01)": 6490.174698656364,
         "AI_lower(2021-12-20)": 6620.6946026917485,
         "AI_upper(2021-12-20)": 6513.260033598346,
         "scaled_X": -1.0764457595618049,
         "scaled_Y": -3.395866329914269,
         "scaled_MD": -12.28050611320128,
         "perm_est": 7.29016549315673,
         "sum": 26849.186859300004,
         "Well": "WP41",
         "diff_lower": 96.34923167929082,
         "diff_upper": 23.085334941982182,
         "log_sum": 10.197990814908591,
         "_deepnote_index_column": 35
        },
        {
         "well_id": "WP42",
         "MD(ft)": 4745.27753896,
         "PORO(v/v)": 0.1462967715617059,
         "RHOB(g/cm3)": 2.4289284080409184,
         "DTS(us/ft)": 127.15076521846302,
         "DT(us/ft)": 77.43386128379518,
         "PEF(B/E)": 6.277190817933302,
         "RD(OHMM)": 142.9336142674918,
         "RS(OHMM)": 3972.556246317278,
         "ROP": 18.28144800713097,
         "DENC(g/cm3)": 0.0525265769919956,
         "NPHI(v/v)": 0.1602116801179584,
         "Zone": 0.5,
         "X": 136532.2699999999,
         "Y": 83571.50999999992,
         "Completion Zone": 0,
         "AI_lower(2012-01-01)": 6546.612286272632,
         "AI_upper(2012-01-01)": 6539.617133930296,
         "AI_lower(2021-12-20)": 6619.707517610916,
         "AI_upper(2021-12-20)": 6532.6001683571085,
         "scaled_X": 1.190178072638467,
         "scaled_Y": -4.2173049149673725,
         "scaled_MD": -12.265745137693344,
         "perm_est": 10.310254549522336,
         "sum": 33045.491963,
         "Well": "WP42",
         "diff_lower": 73.09523133828316,
         "diff_upper": -7.0169655731879175,
         "log_sum": 10.405640435462065,
         "_deepnote_index_column": 36
        },
        {
         "well_id": "WP43",
         "MD(ft)": 4588.935010560001,
         "PORO(v/v)": 0.1550849758000693,
         "RHOB(g/cm3)": 2.3829400307956843,
         "DTS(us/ft)": 131.29599904140144,
         "DT(us/ft)": 81.1598536037303,
         "PEF(B/E)": 5.985027135307028,
         "RD(OHMM)": 147.5024209608063,
         "RS(OHMM)": 1171.3704142756678,
         "ROP": 19.17693959924896,
         "DENC(g/cm3)": 0.0575674499308272,
         "NPHI(v/v)": 0.167134784369365,
         "Zone": 0.4888888888888889,
         "X": 115684.26999999992,
         "Y": 89895.77999999991,
         "Completion Zone": 0,
         "AI_lower(2012-01-01)": 6582.114979658839,
         "AI_upper(2012-01-01)": 6515.518913910745,
         "AI_lower(2021-12-20)": 6677.133028086999,
         "AI_upper(2021-12-20)": 6544.191121583225,
         "scaled_X": -0.9384772813558222,
         "scaled_Y": -3.5715743319087867,
         "scaled_MD": -12.281708268935468,
         "perm_est": 13.752423525697155,
         "sum": 77690.934308,
         "Well": "WP43",
         "diff_lower": 95.01804842816,
         "diff_upper": 28.67220767248,
         "log_sum": 11.260493853975898,
         "_deepnote_index_column": 37
        },
        {
         "well_id": "WP44",
         "MD(ft)": 4506.17586768,
         "PORO(v/v)": 0.175351493070628,
         "RHOB(g/cm3)": 2.287887641645826,
         "DTS(us/ft)": 137.18877012120808,
         "DT(us/ft)": 91.9483633312722,
         "PEF(B/E)": 4.64114134842339,
         "RD(OHMM)": 144.65206741485952,
         "RS(OHMM)": 168.55980465252193,
         "ROP": 25.166022406092,
         "DENC(g/cm3)": 0.0248598669229331,
         "NPHI(v/v)": 0.2711642215631076,
         "Zone": 0.5116279069767442,
         "X": 118629.9,
         "Y": 88703.87000000008,
         "Completion Zone": 0,
         "AI_lower(2012-01-01)": 6541.444681573516,
         "AI_upper(2012-01-01)": 6501.4154373740885,
         "AI_lower(2021-12-20)": 6636.653141117109,
         "AI_upper(2021-12-20)": 6524.468654895955,
         "scaled_X": -0.6377179245644661,
         "scaled_Y": -3.693272605267348,
         "scaled_MD": -12.290158273376347,
         "perm_est": 20.488162995720728,
         "sum": 14361.0133302,
         "Well": "WP44",
         "diff_lower": 95.20845954359265,
         "diff_upper": 23.053217521866827,
         "log_sum": 9.572272406282456,
         "_deepnote_index_column": 38
        },
        {
         "well_id": "WP45",
         "MD(ft)": 4743.118232960001,
         "PORO(v/v)": 0.0937394852452567,
         "RHOB(g/cm3)": 2.59055145839552,
         "DTS(us/ft)": 128.07686430531393,
         "DT(us/ft)": 75.81137176081444,
         "PEF(B/E)": 7.246708809004879,
         "RD(OHMM)": 192.92199144608347,
         "RS(OHMM)": 205.5247437696688,
         "ROP": 26.246788404002057,
         "DENC(g/cm3)": 0.0558207910716324,
         "NPHI(v/v)": 0.1870395841979984,
         "Zone": 0.4761904761904761,
         "X": 129176.3,
         "Y": 93171.13999999996,
         "Completion Zone": 1,
         "AI_lower(2012-01-01)": 6441.324281268677,
         "AI_upper(2012-01-01)": 6404.133303326746,
         "AI_lower(2021-12-20)": 6486.565722747055,
         "AI_upper(2021-12-20)": 6390.031617973813,
         "scaled_X": 0.439107230144158,
         "scaled_Y": -3.237148362978494,
         "scaled_MD": -12.265965610557792,
         "perm_est": 3.596980411168293,
         "sum": 3.588711727,
         "Well": "WP45",
         "diff_lower": 45.241441478377965,
         "diff_upper": -14.10168535293269,
         "log_sum": 1.2777932876801414,
         "_deepnote_index_column": 39
        }
       ]
      },
      "text/plain": "   well_id       MD(ft)  PORO(v/v)  RHOB(g/cm3)  DTS(us/ft)   DT(us/ft)  \\\n0      WP0  4725.391739   0.123952     2.570550  130.203580   75.877758   \n1      WP1  4868.900545   0.197252     2.469263  128.033236   92.942081   \n2     WP10  4818.174657   0.135442     2.392931  127.631000   86.678756   \n3     WP12  4808.270995   0.112104     2.470077  143.509402   79.574038   \n4     WP13  4531.991055   0.116319     2.470225  135.242368   79.086781   \n5     WP14  4781.602978   0.138503     2.476446  129.706729   75.289129   \n6     WP15  4405.841183   0.166138     2.342374  137.665461   94.616725   \n7     WP16  4562.928038   0.132173     2.482244  117.720691   76.430410   \n8     WP17  4600.599989   0.171052     2.351391  135.123632   89.054847   \n9     WP18  4552.206377   0.167064     2.225759  130.311944   96.047062   \n10    WP19  4359.205683   0.126044     2.532609  136.463281   81.545846   \n11     WP2  4818.221905   0.101996     2.468753  127.336674   74.122587   \n12    WP20  4825.210722   0.111281     2.543745  126.854027   73.933252   \n13    WP21  4533.953771   0.133190     2.391614  135.146633   82.574286   \n14    WP22  4586.171112   0.117820     2.418220  123.667680   74.954881   \n15    WP23  4615.948966   0.108616     2.589052  125.887819   75.181916   \n16    WP24  4579.401710   0.088350     2.601467  138.652261   76.333373   \n17    WP25  4903.378183   0.168629     2.452935  133.364367   81.693587   \n18    WP26  4523.113994   0.158188     2.452994  145.467024   81.067377   \n19    WP27  4949.102794   0.117886     2.648328  136.458029   79.699965   \n20    WP28  4597.330000   0.154766     2.283779  137.278037   91.547713   \n21    WP29  4856.304256   0.143764     2.447703  125.920253   75.977536   \n22     WP3  4878.370184   0.119303     2.515940  125.993981   75.113676   \n23    WP30  4854.006016   0.084579     2.611926  122.160659   72.536635   \n24    WP31  4677.607521   0.102909     2.533422  128.302856   68.387738   \n25    WP32  4884.867323   0.134823     2.543497  128.450669   77.957984   \n26    WP33  4530.596094   0.072664     2.429493  118.764669   70.561206   \n27    WP34  4801.821505   0.144185     2.513541  128.906294   73.090217   \n28    WP35  4582.511544   0.140266     2.408763  135.622405   75.274194   \n29    WP36  4525.157188   0.102333     2.550955  117.385741   70.297486   \n30    WP37  4804.888495   0.127388     2.497975  127.946456   77.201803   \n31    WP38  4564.847511   0.131701     2.514984  130.224160   79.323983   \n32    WP39  4529.598722   0.117879     2.523933  118.982405  100.860449   \n33     WP4  4510.189384   0.137929     2.538383  125.518003   78.830122   \n34    WP40  4843.910967   0.139362     2.472625  129.709438   77.426417   \n35    WP41  4600.708895   0.124205     2.507477  125.017026   76.792388   \n36    WP42  4745.277539   0.146297     2.428928  127.150765   77.433861   \n37    WP43  4588.935011   0.155085     2.382940  131.295999   81.159854   \n38    WP44  4506.175868   0.175351     2.287888  137.188770   91.948363   \n39    WP45  4743.118233   0.093739     2.590551  128.076864   75.811372   \n40    WP46  4642.687050   0.158907     2.367060  128.279248   88.265817   \n41    WP47  4705.384218   0.142327     2.498397  130.421170   85.613634   \n42    WP48  4692.626572   0.192866     2.337559  136.159261   94.311807   \n43    WP49  4647.585829   0.146017     2.470085  135.517572   82.137764   \n44     WP5  4730.582001   0.107043     2.612282  128.457771   72.239239   \n45     WP6  4513.767677   0.128721     2.532990  134.196070   78.473149   \n46     WP7  4509.925528   0.081342     2.642743  135.161886   73.200691   \n47     WP8  4803.079132   0.110683     2.564173  128.587178   77.175918   \n48     WP9  4652.075411   0.080785     2.507327  107.919219   70.612993   \n\n    PEF(B/E)    RD(OHMM)     RS(OHMM)        ROP  ...  AI_upper(2021-12-20)  \\\n0   7.374498  159.957113   163.229965  15.932319  ...           6527.501690   \n1   0.050404  177.904391   178.418855  25.259734  ...           6523.670945   \n2   4.433433  189.982991   184.900881  18.849304  ...           6472.958573   \n3   0.042712  133.506294   206.343517  26.269538  ...           6322.316898   \n4   6.662322  171.803688   272.042627  15.320779  ...           6535.592182   \n5   5.762926  144.473656   173.289089  19.841724  ...           6519.123698   \n6   6.752726   82.461831    83.107373  29.348219  ...           6491.410104   \n7   5.907931  145.416383   169.218916  19.972302  ...           6497.647510   \n8   4.039047  266.396683   229.007122  20.025336  ...           6534.917152   \n9   3.777041  146.180906   113.798245  25.712574  ...           6535.657810   \n10  7.016788  144.681863   147.477574  29.011443  ...           6468.918737   \n11  6.457595  187.893974   181.426667  17.873240  ...           6453.706945   \n12  7.071521  201.593349   469.004934  16.108521  ...           6492.906159   \n13  4.559608  225.028629   428.771824  19.509901  ...           6505.458724   \n14  6.141492  225.032092  4636.136555  17.960062  ...           6501.173398   \n15  7.125329  298.422818   330.782067  26.154151  ...           6468.867008   \n16  0.055742  192.180231   255.691959  26.342003  ...           6390.063397   \n17  6.519511  161.265674   169.460388  28.521336  ...           6545.806150   \n18  0.052590  116.542428   155.453925  26.560187  ...           6540.693312   \n19  7.981969  126.350199   148.813008  17.522701  ...           6529.232222   \n20  3.993225  134.592225   128.418464  25.179770  ...           6529.182600   \n21  6.396565  238.216641  5709.184864  18.522970  ...           6520.330152   \n22  5.985531  157.823229   184.881675  19.891844  ...           6505.091196   \n23  7.060127  289.683687   332.502173  25.032648  ...           6434.570632   \n24  8.076246  160.243371   162.880828  16.242054  ...           6466.205605   \n25  6.855168  225.004843   237.486045  27.587749  ...           6546.891713   \n26  6.150758  142.902752  4503.503265  18.837746  ...           6383.137744   \n27  0.052379  209.618436   263.651215  25.368238  ...           6519.352044   \n28  4.705579  114.393427   119.880261  18.884919  ...           6495.473337   \n29  7.212408  233.391497   349.970584  16.562007  ...           6498.775703   \n30  5.904671  155.821419   183.934395  19.190207  ...           6501.300905   \n31  6.648852  231.031218   258.530161  27.633742  ...           6524.143394   \n32  7.079530  143.437821   146.796555  16.284578  ...           6469.729763   \n33  0.057218  216.995315   290.672354  25.373651  ...           6501.840702   \n34  5.800913  127.242252   142.512611  19.958622  ...           6541.633069   \n35  6.004301  157.793506   192.088580  19.633928  ...           6513.260034   \n36  6.277191  142.933614  3972.556246  18.281448  ...           6532.600168   \n37  5.985027  147.502421  1171.370414  19.176940  ...           6544.191122   \n38  4.641141  144.652067   168.559805  25.166022  ...           6524.468655   \n39  7.246709  192.921991   205.524744  26.246788  ...           6390.031618   \n40  4.522185  181.754706   217.621957  18.889238  ...           6484.145165   \n41  7.551682  167.635334   169.804929  15.963331  ...           6518.758470   \n42  3.852421  196.997033   349.228731  23.202757  ...           6527.014201   \n43  6.757122  196.861331   212.909887  28.355137  ...           6523.916346   \n44  3.638666  213.318071   440.029689  16.010856  ...           6451.402384   \n45  6.233687  116.051887   331.003118  14.664769  ...           6530.639090   \n46  0.053738  260.069015   384.454546  26.996655  ...           6401.059626   \n47  7.042491  245.161243   247.333173  26.986436  ...           6498.858900   \n48  5.969288  156.122981   174.388171  20.069126  ...           6423.831781   \n\n    scaled_X  scaled_Y  scaled_MD   perm_est           sum  Well  diff_lower  \\\n0   1.248842 -4.192089 -12.267776   9.279788    220.623568   WP0   77.328918   \n1   0.774485 -3.986422 -12.253123  33.898785    967.220104   WP1   69.974609   \n2   0.936000 -4.335770 -12.258302  10.187213   1165.743198  WP10   45.299221   \n3   0.843507 -3.184013 -12.259313   4.183912     17.758218  WP12   13.457871   \n4  -0.568148 -3.639142 -12.287522   5.352267    586.702696  WP13  102.453196   \n5   1.017111 -4.187255 -12.262036   9.386436  10456.887672  WP14   72.155735   \n6  -1.563761 -3.884232 -12.300403  18.689149  89215.309574  WP15   87.817361   \n7  -1.222906 -3.397418 -12.284364   8.524977  37745.757428  WP16   93.171297   \n8  -1.236396 -3.709010 -12.280517  19.741620  23612.440193  WP17  102.483309   \n9  -0.722578 -3.495005 -12.285458  17.179852   7935.172962  WP18   89.834129   \n10 -1.499542 -3.947935 -12.305164   8.382950    178.579386  WP19   66.266311   \n11  0.894254 -4.363006 -12.258297   4.461660    134.496098   WP2   40.291215   \n12  0.899714 -4.219048 -12.257584   5.820025   3339.782867  WP20   62.319214   \n13 -0.383420 -3.785087 -12.287322   8.098842     39.829815  WP21   74.604124   \n14 -0.907538 -3.371540 -12.281990   5.106013    328.990467  WP22   85.261355   \n15  1.475429 -4.094279 -12.278950   7.208328    159.580914  WP23   84.131825   \n16  1.758236 -3.965057 -12.282682   2.510015   2604.450074  WP24   38.054583   \n17  0.332910 -3.626284 -12.249602  18.311198  20873.420692  WP25   69.719985   \n18 -0.684664 -3.613140 -12.288429  13.272477  12886.843013  WP26   97.209670   \n19  0.505790 -3.789952 -12.244934   7.540154    228.263249  WP27   58.933361   \n20 -0.444448 -3.562260 -12.280851  13.965453   3505.962752  WP28   96.534242   \n21  1.395319 -4.348990 -12.254409  10.534563  22318.279395  WP29   60.169574   \n22  1.635380 -4.403582 -12.252156   7.005382  44507.628195   WP3   67.286464   \n23  0.637925 -4.137178 -12.254644   3.086868     28.281087  WP30   43.287138   \n24  1.164945 -3.920343 -12.272654   7.084280   8369.262930  WP31   67.484690   \n25  0.387940 -3.572968 -12.251493  12.247163   5385.256943  WP32   68.101350   \n26 -0.093474 -4.042935 -12.287665   1.150889      5.737569  WP33   39.628779   \n27  0.937108 -4.106324 -12.259972  10.358480  37084.261716  WP34   80.485237   \n28 -0.270052 -3.812172 -12.282364   8.976795   3124.896853  WP35   69.481694   \n29 -1.340203 -3.453723 -12.288220   3.817017  10455.426166  WP36   84.778493   \n30  1.023747 -4.313169 -12.259659   8.326875  12317.922407  WP37   54.811826   \n31 -0.824219 -3.440681 -12.284168   9.624184  30098.408009  WP38   86.430795   \n32 -1.325796 -3.386471 -12.287767   6.451677   3260.366578  WP39   81.254176   \n33 -1.523821 -3.627969 -12.289748   8.152604   7103.245567   WP4   91.162497   \n34  0.176191 -3.491583 -12.255674   8.677418   3185.902346  WP40   75.204698   \n35 -1.076446 -3.395866 -12.280506   7.290165  26849.186859  WP41   96.349232   \n36  1.190178 -4.217305 -12.265745  10.310255  33045.491963  WP42   73.095231   \n37 -0.938477 -3.571574 -12.281708  13.752424  77690.934308  WP43   95.018048   \n38 -0.637718 -3.693273 -12.290158  20.488163  14361.013330  WP44   95.208460   \n39  0.439107 -3.237148 -12.265966   3.596980      3.588712  WP45   45.241441   \n40  1.446922 -4.124905 -12.276220  16.564389  29758.420675  WP46   87.748465   \n41  1.279506 -4.163433 -12.269818  15.800140  31206.119465  WP47   80.096716   \n42 -0.079732 -3.494692 -12.271121  28.164342  14963.587682  WP48   73.532140   \n43 -0.172253 -3.708341 -12.275720  11.217940  10847.313381  WP49   78.229746   \n44 -0.094420 -3.333517 -12.267246   3.968232    455.245871   WP5   67.245585   \n45 -1.413152 -3.694452 -12.289383   6.340215  27432.941820   WP6  103.952292   \n46 -1.269761 -4.014186 -12.289775   2.536255   3282.448588   WP7   47.927733   \n47  0.254651 -3.383274 -12.259843   7.131884    329.321186   WP8   63.794537   \n48 -0.911990 -3.894767 -12.275261   1.229010    171.410554   WP9   52.756186   \n\n    diff_upper    log_sum  \n0    -3.218868   5.396458  \n1     1.306419   6.874426  \n2   -21.722941   7.061114  \n3     8.808855   2.876848  \n4    28.921746   6.374518  \n5   -21.034330   9.255016  \n6    -0.068139  11.398808  \n7    17.853044  10.538628  \n8    26.175133  10.069529  \n9    36.031642   8.979060  \n10    5.276045   5.185033  \n11  -19.406142   4.901535  \n12  -19.354208   8.113661  \n13    0.555539   3.684616  \n14   19.418440   5.796029  \n15   -3.021501   5.072551  \n16    3.414708   7.864977  \n17    9.680772   9.946232  \n18   35.836722   9.463962  \n19    7.431815   5.430500  \n20   27.488257   8.162220  \n21  -13.963011  10.013161  \n22   14.414888  10.703416  \n23  -13.764175   3.342193  \n24    4.753473   9.032321  \n25   12.997912   8.591420  \n26    0.131081   1.747036  \n27  -20.464613  10.520948  \n28    1.926382   8.047157  \n29   19.694847   9.254876  \n30  -22.042901   9.418811  \n31   24.934164  10.312228  \n32   13.085469   8.089595  \n33    4.011407   8.868307  \n34    9.976906   8.066491  \n35   23.085335  10.197991  \n36   -7.016966  10.405640  \n37   28.672208  11.260494  \n38   23.053218   9.572272  \n39  -14.101685   1.277793  \n40   -5.436004  10.300867  \n41   -1.303213  10.348369  \n42   12.914819   9.613375  \n43    5.727559   9.291673  \n44   -6.802696   6.120838  \n45   15.610423  10.219500  \n46   -2.634675   8.096345  \n47   -1.851904   5.797034  \n48   11.853155   5.144062  \n\n[49 rows x 29 columns]",
      "text/html": "<div>\n<style scoped>\n    .dataframe tbody tr th:only-of-type {\n        vertical-align: middle;\n    }\n\n    .dataframe tbody tr th {\n        vertical-align: top;\n    }\n\n    .dataframe thead th {\n        text-align: right;\n    }\n</style>\n<table border=\"1\" class=\"dataframe\">\n  <thead>\n    <tr style=\"text-align: right;\">\n      <th></th>\n      <th>well_id</th>\n      <th>MD(ft)</th>\n      <th>PORO(v/v)</th>\n      <th>RHOB(g/cm3)</th>\n      <th>DTS(us/ft)</th>\n      <th>DT(us/ft)</th>\n      <th>PEF(B/E)</th>\n      <th>RD(OHMM)</th>\n      <th>RS(OHMM)</th>\n      <th>ROP</th>\n      <th>...</th>\n      <th>AI_upper(2021-12-20)</th>\n      <th>scaled_X</th>\n      <th>scaled_Y</th>\n      <th>scaled_MD</th>\n      <th>perm_est</th>\n      <th>sum</th>\n      <th>Well</th>\n      <th>diff_lower</th>\n      <th>diff_upper</th>\n      <th>log_sum</th>\n    </tr>\n  </thead>\n  <tbody>\n    <tr>\n      <th>0</th>\n      <td>WP0</td>\n      <td>4725.391739</td>\n      <td>0.123952</td>\n      <td>2.570550</td>\n      <td>130.203580</td>\n      <td>75.877758</td>\n      <td>7.374498</td>\n      <td>159.957113</td>\n      <td>163.229965</td>\n      <td>15.932319</td>\n      <td>...</td>\n      <td>6527.501690</td>\n      <td>1.248842</td>\n      <td>-4.192089</td>\n      <td>-12.267776</td>\n      <td>9.279788</td>\n      <td>220.623568</td>\n      <td>WP0</td>\n      <td>77.328918</td>\n      <td>-3.218868</td>\n      <td>5.396458</td>\n    </tr>\n    <tr>\n      <th>1</th>\n      <td>WP1</td>\n      <td>4868.900545</td>\n      <td>0.197252</td>\n      <td>2.469263</td>\n      <td>128.033236</td>\n      <td>92.942081</td>\n      <td>0.050404</td>\n      <td>177.904391</td>\n      <td>178.418855</td>\n      <td>25.259734</td>\n      <td>...</td>\n      <td>6523.670945</td>\n      <td>0.774485</td>\n      <td>-3.986422</td>\n      <td>-12.253123</td>\n      <td>33.898785</td>\n      <td>967.220104</td>\n      <td>WP1</td>\n      <td>69.974609</td>\n      <td>1.306419</td>\n      <td>6.874426</td>\n    </tr>\n    <tr>\n      <th>2</th>\n      <td>WP10</td>\n      <td>4818.174657</td>\n      <td>0.135442</td>\n      <td>2.392931</td>\n      <td>127.631000</td>\n      <td>86.678756</td>\n      <td>4.433433</td>\n      <td>189.982991</td>\n      <td>184.900881</td>\n      <td>18.849304</td>\n      <td>...</td>\n      <td>6472.958573</td>\n      <td>0.936000</td>\n      <td>-4.335770</td>\n      <td>-12.258302</td>\n      <td>10.187213</td>\n      <td>1165.743198</td>\n      <td>WP10</td>\n      <td>45.299221</td>\n      <td>-21.722941</td>\n      <td>7.061114</td>\n    </tr>\n    <tr>\n      <th>3</th>\n      <td>WP12</td>\n      <td>4808.270995</td>\n      <td>0.112104</td>\n      <td>2.470077</td>\n      <td>143.509402</td>\n      <td>79.574038</td>\n      <td>0.042712</td>\n      <td>133.506294</td>\n      <td>206.343517</td>\n      <td>26.269538</td>\n      <td>...</td>\n      <td>6322.316898</td>\n      <td>0.843507</td>\n      <td>-3.184013</td>\n      <td>-12.259313</td>\n      <td>4.183912</td>\n      <td>17.758218</td>\n      <td>WP12</td>\n      <td>13.457871</td>\n      <td>8.808855</td>\n      <td>2.876848</td>\n    </tr>\n    <tr>\n      <th>4</th>\n      <td>WP13</td>\n      <td>4531.991055</td>\n      <td>0.116319</td>\n      <td>2.470225</td>\n      <td>135.242368</td>\n      <td>79.086781</td>\n      <td>6.662322</td>\n      <td>171.803688</td>\n      <td>272.042627</td>\n      <td>15.320779</td>\n      <td>...</td>\n      <td>6535.592182</td>\n      <td>-0.568148</td>\n      <td>-3.639142</td>\n      <td>-12.287522</td>\n      <td>5.352267</td>\n      <td>586.702696</td>\n      <td>WP13</td>\n      <td>102.453196</td>\n      <td>28.921746</td>\n      <td>6.374518</td>\n    </tr>\n    <tr>\n      <th>5</th>\n      <td>WP14</td>\n      <td>4781.602978</td>\n      <td>0.138503</td>\n      <td>2.476446</td>\n      <td>129.706729</td>\n      <td>75.289129</td>\n      <td>5.762926</td>\n      <td>144.473656</td>\n      <td>173.289089</td>\n      <td>19.841724</td>\n      <td>...</td>\n      <td>6519.123698</td>\n      <td>1.017111</td>\n      <td>-4.187255</td>\n      <td>-12.262036</td>\n      <td>9.386436</td>\n      <td>10456.887672</td>\n      <td>WP14</td>\n      <td>72.155735</td>\n      <td>-21.034330</td>\n      <td>9.255016</td>\n    </tr>\n    <tr>\n      <th>6</th>\n      <td>WP15</td>\n      <td>4405.841183</td>\n      <td>0.166138</td>\n      <td>2.342374</td>\n      <td>137.665461</td>\n      <td>94.616725</td>\n      <td>6.752726</td>\n      <td>82.461831</td>\n      <td>83.107373</td>\n      <td>29.348219</td>\n      <td>...</td>\n      <td>6491.410104</td>\n      <td>-1.563761</td>\n      <td>-3.884232</td>\n      <td>-12.300403</td>\n      <td>18.689149</td>\n      <td>89215.309574</td>\n      <td>WP15</td>\n      <td>87.817361</td>\n      <td>-0.068139</td>\n      <td>11.398808</td>\n    </tr>\n    <tr>\n      <th>7</th>\n      <td>WP16</td>\n      <td>4562.928038</td>\n      <td>0.132173</td>\n      <td>2.482244</td>\n      <td>117.720691</td>\n      <td>76.430410</td>\n      <td>5.907931</td>\n      <td>145.416383</td>\n      <td>169.218916</td>\n      <td>19.972302</td>\n      <td>...</td>\n      <td>6497.647510</td>\n      <td>-1.222906</td>\n      <td>-3.397418</td>\n      <td>-12.284364</td>\n      <td>8.524977</td>\n      <td>37745.757428</td>\n      <td>WP16</td>\n      <td>93.171297</td>\n      <td>17.853044</td>\n      <td>10.538628</td>\n    </tr>\n    <tr>\n      <th>8</th>\n      <td>WP17</td>\n      <td>4600.599989</td>\n      <td>0.171052</td>\n      <td>2.351391</td>\n      <td>135.123632</td>\n      <td>89.054847</td>\n      <td>4.039047</td>\n      <td>266.396683</td>\n      <td>229.007122</td>\n      <td>20.025336</td>\n      <td>...</td>\n      <td>6534.917152</td>\n      <td>-1.236396</td>\n      <td>-3.709010</td>\n      <td>-12.280517</td>\n      <td>19.741620</td>\n      <td>23612.440193</td>\n      <td>WP17</td>\n      <td>102.483309</td>\n      <td>26.175133</td>\n      <td>10.069529</td>\n    </tr>\n    <tr>\n      <th>9</th>\n      <td>WP18</td>\n      <td>4552.206377</td>\n      <td>0.167064</td>\n      <td>2.225759</td>\n      <td>130.311944</td>\n      <td>96.047062</td>\n      <td>3.777041</td>\n      <td>146.180906</td>\n      <td>113.798245</td>\n      <td>25.712574</td>\n      <td>...</td>\n      <td>6535.657810</td>\n      <td>-0.722578</td>\n      <td>-3.495005</td>\n      <td>-12.285458</td>\n      <td>17.179852</td>\n      <td>7935.172962</td>\n      <td>WP18</td>\n      <td>89.834129</td>\n      <td>36.031642</td>\n      <td>8.979060</td>\n    </tr>\n    <tr>\n      <th>10</th>\n      <td>WP19</td>\n      <td>4359.205683</td>\n      <td>0.126044</td>\n      <td>2.532609</td>\n      <td>136.463281</td>\n      <td>81.545846</td>\n      <td>7.016788</td>\n      <td>144.681863</td>\n      <td>147.477574</td>\n      <td>29.011443</td>\n      <td>...</td>\n      <td>6468.918737</td>\n      <td>-1.499542</td>\n      <td>-3.947935</td>\n      <td>-12.305164</td>\n      <td>8.382950</td>\n      <td>178.579386</td>\n      <td>WP19</td>\n      <td>66.266311</td>\n      <td>5.276045</td>\n      <td>5.185033</td>\n    </tr>\n    <tr>\n      <th>11</th>\n      <td>WP2</td>\n      <td>4818.221905</td>\n      <td>0.101996</td>\n      <td>2.468753</td>\n      <td>127.336674</td>\n      <td>74.122587</td>\n      <td>6.457595</td>\n      <td>187.893974</td>\n      <td>181.426667</td>\n      <td>17.873240</td>\n      <td>...</td>\n      <td>6453.706945</td>\n      <td>0.894254</td>\n      <td>-4.363006</td>\n      <td>-12.258297</td>\n      <td>4.461660</td>\n      <td>134.496098</td>\n      <td>WP2</td>\n      <td>40.291215</td>\n      <td>-19.406142</td>\n      <td>4.901535</td>\n    </tr>\n    <tr>\n      <th>12</th>\n      <td>WP20</td>\n      <td>4825.210722</td>\n      <td>0.111281</td>\n      <td>2.543745</td>\n      <td>126.854027</td>\n      <td>73.933252</td>\n      <td>7.071521</td>\n      <td>201.593349</td>\n      <td>469.004934</td>\n      <td>16.108521</td>\n      <td>...</td>\n      <td>6492.906159</td>\n      <td>0.899714</td>\n      <td>-4.219048</td>\n      <td>-12.257584</td>\n      <td>5.820025</td>\n      <td>3339.782867</td>\n      <td>WP20</td>\n      <td>62.319214</td>\n      <td>-19.354208</td>\n      <td>8.113661</td>\n    </tr>\n    <tr>\n      <th>13</th>\n      <td>WP21</td>\n      <td>4533.953771</td>\n      <td>0.133190</td>\n      <td>2.391614</td>\n      <td>135.146633</td>\n      <td>82.574286</td>\n      <td>4.559608</td>\n      <td>225.028629</td>\n      <td>428.771824</td>\n      <td>19.509901</td>\n      <td>...</td>\n      <td>6505.458724</td>\n      <td>-0.383420</td>\n      <td>-3.785087</td>\n      <td>-12.287322</td>\n      <td>8.098842</td>\n      <td>39.829815</td>\n      <td>WP21</td>\n      <td>74.604124</td>\n      <td>0.555539</td>\n      <td>3.684616</td>\n    </tr>\n    <tr>\n      <th>14</th>\n      <td>WP22</td>\n      <td>4586.171112</td>\n      <td>0.117820</td>\n      <td>2.418220</td>\n      <td>123.667680</td>\n      <td>74.954881</td>\n      <td>6.141492</td>\n      <td>225.032092</td>\n      <td>4636.136555</td>\n      <td>17.960062</td>\n      <td>...</td>\n      <td>6501.173398</td>\n      <td>-0.907538</td>\n      <td>-3.371540</td>\n      <td>-12.281990</td>\n      <td>5.106013</td>\n      <td>328.990467</td>\n      <td>WP22</td>\n      <td>85.261355</td>\n      <td>19.418440</td>\n      <td>5.796029</td>\n    </tr>\n    <tr>\n      <th>15</th>\n      <td>WP23</td>\n      <td>4615.948966</td>\n      <td>0.108616</td>\n      <td>2.589052</td>\n      <td>125.887819</td>\n      <td>75.181916</td>\n      <td>7.125329</td>\n      <td>298.422818</td>\n      <td>330.782067</td>\n      <td>26.154151</td>\n      <td>...</td>\n      <td>6468.867008</td>\n      <td>1.475429</td>\n      <td>-4.094279</td>\n      <td>-12.278950</td>\n      <td>7.208328</td>\n      <td>159.580914</td>\n      <td>WP23</td>\n      <td>84.131825</td>\n      <td>-3.021501</td>\n      <td>5.072551</td>\n    </tr>\n    <tr>\n      <th>16</th>\n      <td>WP24</td>\n      <td>4579.401710</td>\n      <td>0.088350</td>\n      <td>2.601467</td>\n      <td>138.652261</td>\n      <td>76.333373</td>\n      <td>0.055742</td>\n      <td>192.180231</td>\n      <td>255.691959</td>\n      <td>26.342003</td>\n      <td>...</td>\n      <td>6390.063397</td>\n      <td>1.758236</td>\n      <td>-3.965057</td>\n      <td>-12.282682</td>\n      <td>2.510015</td>\n      <td>2604.450074</td>\n      <td>WP24</td>\n      <td>38.054583</td>\n      <td>3.414708</td>\n      <td>7.864977</td>\n    </tr>\n    <tr>\n      <th>17</th>\n      <td>WP25</td>\n      <td>4903.378183</td>\n      <td>0.168629</td>\n      <td>2.452935</td>\n      <td>133.364367</td>\n      <td>81.693587</td>\n      <td>6.519511</td>\n      <td>161.265674</td>\n      <td>169.460388</td>\n      <td>28.521336</td>\n      <td>...</td>\n      <td>6545.806150</td>\n      <td>0.332910</td>\n      <td>-3.626284</td>\n      <td>-12.249602</td>\n      <td>18.311198</td>\n      <td>20873.420692</td>\n      <td>WP25</td>\n      <td>69.719985</td>\n      <td>9.680772</td>\n      <td>9.946232</td>\n    </tr>\n    <tr>\n      <th>18</th>\n      <td>WP26</td>\n      <td>4523.113994</td>\n      <td>0.158188</td>\n      <td>2.452994</td>\n      <td>145.467024</td>\n      <td>81.067377</td>\n      <td>0.052590</td>\n      <td>116.542428</td>\n      <td>155.453925</td>\n      <td>26.560187</td>\n      <td>...</td>\n      <td>6540.693312</td>\n      <td>-0.684664</td>\n      <td>-3.613140</td>\n      <td>-12.288429</td>\n      <td>13.272477</td>\n      <td>12886.843013</td>\n      <td>WP26</td>\n      <td>97.209670</td>\n      <td>35.836722</td>\n      <td>9.463962</td>\n    </tr>\n    <tr>\n      <th>19</th>\n      <td>WP27</td>\n      <td>4949.102794</td>\n      <td>0.117886</td>\n      <td>2.648328</td>\n      <td>136.458029</td>\n      <td>79.699965</td>\n      <td>7.981969</td>\n      <td>126.350199</td>\n      <td>148.813008</td>\n      <td>17.522701</td>\n      <td>...</td>\n      <td>6529.232222</td>\n      <td>0.505790</td>\n      <td>-3.789952</td>\n      <td>-12.244934</td>\n      <td>7.540154</td>\n      <td>228.263249</td>\n      <td>WP27</td>\n      <td>58.933361</td>\n      <td>7.431815</td>\n      <td>5.430500</td>\n    </tr>\n    <tr>\n      <th>20</th>\n      <td>WP28</td>\n      <td>4597.330000</td>\n      <td>0.154766</td>\n      <td>2.283779</td>\n      <td>137.278037</td>\n      <td>91.547713</td>\n      <td>3.993225</td>\n      <td>134.592225</td>\n      <td>128.418464</td>\n      <td>25.179770</td>\n      <td>...</td>\n      <td>6529.182600</td>\n      <td>-0.444448</td>\n      <td>-3.562260</td>\n      <td>-12.280851</td>\n      <td>13.965453</td>\n      <td>3505.962752</td>\n      <td>WP28</td>\n      <td>96.534242</td>\n      <td>27.488257</td>\n      <td>8.162220</td>\n    </tr>\n    <tr>\n      <th>21</th>\n      <td>WP29</td>\n      <td>4856.304256</td>\n      <td>0.143764</td>\n      <td>2.447703</td>\n      <td>125.920253</td>\n      <td>75.977536</td>\n      <td>6.396565</td>\n      <td>238.216641</td>\n      <td>5709.184864</td>\n      <td>18.522970</td>\n      <td>...</td>\n      <td>6520.330152</td>\n      <td>1.395319</td>\n      <td>-4.348990</td>\n      <td>-12.254409</td>\n      <td>10.534563</td>\n      <td>22318.279395</td>\n      <td>WP29</td>\n      <td>60.169574</td>\n      <td>-13.963011</td>\n      <td>10.013161</td>\n    </tr>\n    <tr>\n      <th>22</th>\n      <td>WP3</td>\n      <td>4878.370184</td>\n      <td>0.119303</td>\n      <td>2.515940</td>\n      <td>125.993981</td>\n      <td>75.113676</td>\n      <td>5.985531</td>\n      <td>157.823229</td>\n      <td>184.881675</td>\n      <td>19.891844</td>\n      <td>...</td>\n      <td>6505.091196</td>\n      <td>1.635380</td>\n      <td>-4.403582</td>\n      <td>-12.252156</td>\n      <td>7.005382</td>\n      <td>44507.628195</td>\n      <td>WP3</td>\n      <td>67.286464</td>\n      <td>14.414888</td>\n      <td>10.703416</td>\n    </tr>\n    <tr>\n      <th>23</th>\n      <td>WP30</td>\n      <td>4854.006016</td>\n      <td>0.084579</td>\n      <td>2.611926</td>\n      <td>122.160659</td>\n      <td>72.536635</td>\n      <td>7.060127</td>\n      <td>289.683687</td>\n      <td>332.502173</td>\n      <td>25.032648</td>\n      <td>...</td>\n      <td>6434.570632</td>\n      <td>0.637925</td>\n      <td>-4.137178</td>\n      <td>-12.254644</td>\n      <td>3.086868</td>\n      <td>28.281087</td>\n      <td>WP30</td>\n      <td>43.287138</td>\n      <td>-13.764175</td>\n      <td>3.342193</td>\n    </tr>\n    <tr>\n      <th>24</th>\n      <td>WP31</td>\n      <td>4677.607521</td>\n      <td>0.102909</td>\n      <td>2.533422</td>\n      <td>128.302856</td>\n      <td>68.387738</td>\n      <td>8.076246</td>\n      <td>160.243371</td>\n      <td>162.880828</td>\n      <td>16.242054</td>\n      <td>...</td>\n      <td>6466.205605</td>\n      <td>1.164945</td>\n      <td>-3.920343</td>\n      <td>-12.272654</td>\n      <td>7.084280</td>\n      <td>8369.262930</td>\n      <td>WP31</td>\n      <td>67.484690</td>\n      <td>4.753473</td>\n      <td>9.032321</td>\n    </tr>\n    <tr>\n      <th>25</th>\n      <td>WP32</td>\n      <td>4884.867323</td>\n      <td>0.134823</td>\n      <td>2.543497</td>\n      <td>128.450669</td>\n      <td>77.957984</td>\n      <td>6.855168</td>\n      <td>225.004843</td>\n      <td>237.486045</td>\n      <td>27.587749</td>\n      <td>...</td>\n      <td>6546.891713</td>\n      <td>0.387940</td>\n      <td>-3.572968</td>\n      <td>-12.251493</td>\n      <td>12.247163</td>\n      <td>5385.256943</td>\n      <td>WP32</td>\n      <td>68.101350</td>\n      <td>12.997912</td>\n      <td>8.591420</td>\n    </tr>\n    <tr>\n      <th>26</th>\n      <td>WP33</td>\n      <td>4530.596094</td>\n      <td>0.072664</td>\n      <td>2.429493</td>\n      <td>118.764669</td>\n      <td>70.561206</td>\n      <td>6.150758</td>\n      <td>142.902752</td>\n      <td>4503.503265</td>\n      <td>18.837746</td>\n      <td>...</td>\n      <td>6383.137744</td>\n      <td>-0.093474</td>\n      <td>-4.042935</td>\n      <td>-12.287665</td>\n      <td>1.150889</td>\n      <td>5.737569</td>\n      <td>WP33</td>\n      <td>39.628779</td>\n      <td>0.131081</td>\n      <td>1.747036</td>\n    </tr>\n    <tr>\n      <th>27</th>\n      <td>WP34</td>\n      <td>4801.821505</td>\n      <td>0.144185</td>\n      <td>2.513541</td>\n      <td>128.906294</td>\n      <td>73.090217</td>\n      <td>0.052379</td>\n      <td>209.618436</td>\n      <td>263.651215</td>\n      <td>25.368238</td>\n      <td>...</td>\n      <td>6519.352044</td>\n      <td>0.937108</td>\n      <td>-4.106324</td>\n      <td>-12.259972</td>\n      <td>10.358480</td>\n      <td>37084.261716</td>\n      <td>WP34</td>\n      <td>80.485237</td>\n      <td>-20.464613</td>\n      <td>10.520948</td>\n    </tr>\n    <tr>\n      <th>28</th>\n      <td>WP35</td>\n      <td>4582.511544</td>\n      <td>0.140266</td>\n      <td>2.408763</td>\n      <td>135.622405</td>\n      <td>75.274194</td>\n      <td>4.705579</td>\n      <td>114.393427</td>\n      <td>119.880261</td>\n      <td>18.884919</td>\n      <td>...</td>\n      <td>6495.473337</td>\n      <td>-0.270052</td>\n      <td>-3.812172</td>\n      <td>-12.282364</td>\n      <td>8.976795</td>\n      <td>3124.896853</td>\n      <td>WP35</td>\n      <td>69.481694</td>\n      <td>1.926382</td>\n      <td>8.047157</td>\n    </tr>\n    <tr>\n      <th>29</th>\n      <td>WP36</td>\n      <td>4525.157188</td>\n      <td>0.102333</td>\n      <td>2.550955</td>\n      <td>117.385741</td>\n      <td>70.297486</td>\n      <td>7.212408</td>\n      <td>233.391497</td>\n      <td>349.970584</td>\n      <td>16.562007</td>\n      <td>...</td>\n      <td>6498.775703</td>\n      <td>-1.340203</td>\n      <td>-3.453723</td>\n      <td>-12.288220</td>\n      <td>3.817017</td>\n      <td>10455.426166</td>\n      <td>WP36</td>\n      <td>84.778493</td>\n      <td>19.694847</td>\n      <td>9.254876</td>\n    </tr>\n    <tr>\n      <th>30</th>\n      <td>WP37</td>\n      <td>4804.888495</td>\n      <td>0.127388</td>\n      <td>2.497975</td>\n      <td>127.946456</td>\n      <td>77.201803</td>\n      <td>5.904671</td>\n      <td>155.821419</td>\n      <td>183.934395</td>\n      <td>19.190207</td>\n      <td>...</td>\n      <td>6501.300905</td>\n      <td>1.023747</td>\n      <td>-4.313169</td>\n      <td>-12.259659</td>\n      <td>8.326875</td>\n      <td>12317.922407</td>\n      <td>WP37</td>\n      <td>54.811826</td>\n      <td>-22.042901</td>\n      <td>9.418811</td>\n    </tr>\n    <tr>\n      <th>31</th>\n      <td>WP38</td>\n      <td>4564.847511</td>\n      <td>0.131701</td>\n      <td>2.514984</td>\n      <td>130.224160</td>\n      <td>79.323983</td>\n      <td>6.648852</td>\n      <td>231.031218</td>\n      <td>258.530161</td>\n      <td>27.633742</td>\n      <td>...</td>\n      <td>6524.143394</td>\n      <td>-0.824219</td>\n      <td>-3.440681</td>\n      <td>-12.284168</td>\n      <td>9.624184</td>\n      <td>30098.408009</td>\n      <td>WP38</td>\n      <td>86.430795</td>\n      <td>24.934164</td>\n      <td>10.312228</td>\n    </tr>\n    <tr>\n      <th>32</th>\n      <td>WP39</td>\n      <td>4529.598722</td>\n      <td>0.117879</td>\n      <td>2.523933</td>\n      <td>118.982405</td>\n      <td>100.860449</td>\n      <td>7.079530</td>\n      <td>143.437821</td>\n      <td>146.796555</td>\n      <td>16.284578</td>\n      <td>...</td>\n      <td>6469.729763</td>\n      <td>-1.325796</td>\n      <td>-3.386471</td>\n      <td>-12.287767</td>\n      <td>6.451677</td>\n      <td>3260.366578</td>\n      <td>WP39</td>\n      <td>81.254176</td>\n      <td>13.085469</td>\n      <td>8.089595</td>\n    </tr>\n    <tr>\n      <th>33</th>\n      <td>WP4</td>\n      <td>4510.189384</td>\n      <td>0.137929</td>\n      <td>2.538383</td>\n      <td>125.518003</td>\n      <td>78.830122</td>\n      <td>0.057218</td>\n      <td>216.995315</td>\n      <td>290.672354</td>\n      <td>25.373651</td>\n      <td>...</td>\n      <td>6501.840702</td>\n      <td>-1.523821</td>\n      <td>-3.627969</td>\n      <td>-12.289748</td>\n      <td>8.152604</td>\n      <td>7103.245567</td>\n      <td>WP4</td>\n      <td>91.162497</td>\n      <td>4.011407</td>\n      <td>8.868307</td>\n    </tr>\n    <tr>\n      <th>34</th>\n      <td>WP40</td>\n      <td>4843.910967</td>\n      <td>0.139362</td>\n      <td>2.472625</td>\n      <td>129.709438</td>\n      <td>77.426417</td>\n      <td>5.800913</td>\n      <td>127.242252</td>\n      <td>142.512611</td>\n      <td>19.958622</td>\n      <td>...</td>\n      <td>6541.633069</td>\n      <td>0.176191</td>\n      <td>-3.491583</td>\n      <td>-12.255674</td>\n      <td>8.677418</td>\n      <td>3185.902346</td>\n      <td>WP40</td>\n      <td>75.204698</td>\n      <td>9.976906</td>\n      <td>8.066491</td>\n    </tr>\n    <tr>\n      <th>35</th>\n      <td>WP41</td>\n      <td>4600.708895</td>\n      <td>0.124205</td>\n      <td>2.507477</td>\n      <td>125.017026</td>\n      <td>76.792388</td>\n      <td>6.004301</td>\n      <td>157.793506</td>\n      <td>192.088580</td>\n      <td>19.633928</td>\n      <td>...</td>\n      <td>6513.260034</td>\n      <td>-1.076446</td>\n      <td>-3.395866</td>\n      <td>-12.280506</td>\n      <td>7.290165</td>\n      <td>26849.186859</td>\n      <td>WP41</td>\n      <td>96.349232</td>\n      <td>23.085335</td>\n      <td>10.197991</td>\n    </tr>\n    <tr>\n      <th>36</th>\n      <td>WP42</td>\n      <td>4745.277539</td>\n      <td>0.146297</td>\n      <td>2.428928</td>\n      <td>127.150765</td>\n      <td>77.433861</td>\n      <td>6.277191</td>\n      <td>142.933614</td>\n      <td>3972.556246</td>\n      <td>18.281448</td>\n      <td>...</td>\n      <td>6532.600168</td>\n      <td>1.190178</td>\n      <td>-4.217305</td>\n      <td>-12.265745</td>\n      <td>10.310255</td>\n      <td>33045.491963</td>\n      <td>WP42</td>\n      <td>73.095231</td>\n      <td>-7.016966</td>\n      <td>10.405640</td>\n    </tr>\n    <tr>\n      <th>37</th>\n      <td>WP43</td>\n      <td>4588.935011</td>\n      <td>0.155085</td>\n      <td>2.382940</td>\n      <td>131.295999</td>\n      <td>81.159854</td>\n      <td>5.985027</td>\n      <td>147.502421</td>\n      <td>1171.370414</td>\n      <td>19.176940</td>\n      <td>...</td>\n      <td>6544.191122</td>\n      <td>-0.938477</td>\n      <td>-3.571574</td>\n      <td>-12.281708</td>\n      <td>13.752424</td>\n      <td>77690.934308</td>\n      <td>WP43</td>\n      <td>95.018048</td>\n      <td>28.672208</td>\n      <td>11.260494</td>\n    </tr>\n    <tr>\n      <th>38</th>\n      <td>WP44</td>\n      <td>4506.175868</td>\n      <td>0.175351</td>\n      <td>2.287888</td>\n      <td>137.188770</td>\n      <td>91.948363</td>\n      <td>4.641141</td>\n      <td>144.652067</td>\n      <td>168.559805</td>\n      <td>25.166022</td>\n      <td>...</td>\n      <td>6524.468655</td>\n      <td>-0.637718</td>\n      <td>-3.693273</td>\n      <td>-12.290158</td>\n      <td>20.488163</td>\n      <td>14361.013330</td>\n      <td>WP44</td>\n      <td>95.208460</td>\n      <td>23.053218</td>\n      <td>9.572272</td>\n    </tr>\n    <tr>\n      <th>39</th>\n      <td>WP45</td>\n      <td>4743.118233</td>\n      <td>0.093739</td>\n      <td>2.590551</td>\n      <td>128.076864</td>\n      <td>75.811372</td>\n      <td>7.246709</td>\n      <td>192.921991</td>\n      <td>205.524744</td>\n      <td>26.246788</td>\n      <td>...</td>\n      <td>6390.031618</td>\n      <td>0.439107</td>\n      <td>-3.237148</td>\n      <td>-12.265966</td>\n      <td>3.596980</td>\n      <td>3.588712</td>\n      <td>WP45</td>\n      <td>45.241441</td>\n      <td>-14.101685</td>\n      <td>1.277793</td>\n    </tr>\n    <tr>\n      <th>40</th>\n      <td>WP46</td>\n      <td>4642.687050</td>\n      <td>0.158907</td>\n      <td>2.367060</td>\n      <td>128.279248</td>\n      <td>88.265817</td>\n      <td>4.522185</td>\n      <td>181.754706</td>\n      <td>217.621957</td>\n      <td>18.889238</td>\n      <td>...</td>\n      <td>6484.145165</td>\n      <td>1.446922</td>\n      <td>-4.124905</td>\n      <td>-12.276220</td>\n      <td>16.564389</td>\n      <td>29758.420675</td>\n      <td>WP46</td>\n      <td>87.748465</td>\n      <td>-5.436004</td>\n      <td>10.300867</td>\n    </tr>\n    <tr>\n      <th>41</th>\n      <td>WP47</td>\n      <td>4705.384218</td>\n      <td>0.142327</td>\n      <td>2.498397</td>\n      <td>130.421170</td>\n      <td>85.613634</td>\n      <td>7.551682</td>\n      <td>167.635334</td>\n      <td>169.804929</td>\n      <td>15.963331</td>\n      <td>...</td>\n      <td>6518.758470</td>\n      <td>1.279506</td>\n      <td>-4.163433</td>\n      <td>-12.269818</td>\n      <td>15.800140</td>\n      <td>31206.119465</td>\n      <td>WP47</td>\n      <td>80.096716</td>\n      <td>-1.303213</td>\n      <td>10.348369</td>\n    </tr>\n    <tr>\n      <th>42</th>\n      <td>WP48</td>\n      <td>4692.626572</td>\n      <td>0.192866</td>\n      <td>2.337559</td>\n      <td>136.159261</td>\n      <td>94.311807</td>\n      <td>3.852421</td>\n      <td>196.997033</td>\n      <td>349.228731</td>\n      <td>23.202757</td>\n      <td>...</td>\n      <td>6527.014201</td>\n      <td>-0.079732</td>\n      <td>-3.494692</td>\n      <td>-12.271121</td>\n      <td>28.164342</td>\n      <td>14963.587682</td>\n      <td>WP48</td>\n      <td>73.532140</td>\n      <td>12.914819</td>\n      <td>9.613375</td>\n    </tr>\n    <tr>\n      <th>43</th>\n      <td>WP49</td>\n      <td>4647.585829</td>\n      <td>0.146017</td>\n      <td>2.470085</td>\n      <td>135.517572</td>\n      <td>82.137764</td>\n      <td>6.757122</td>\n      <td>196.861331</td>\n      <td>212.909887</td>\n      <td>28.355137</td>\n      <td>...</td>\n      <td>6523.916346</td>\n      <td>-0.172253</td>\n      <td>-3.708341</td>\n      <td>-12.275720</td>\n      <td>11.217940</td>\n      <td>10847.313381</td>\n      <td>WP49</td>\n      <td>78.229746</td>\n      <td>5.727559</td>\n      <td>9.291673</td>\n    </tr>\n    <tr>\n      <th>44</th>\n      <td>WP5</td>\n      <td>4730.582001</td>\n      <td>0.107043</td>\n      <td>2.612282</td>\n      <td>128.457771</td>\n      <td>72.239239</td>\n      <td>3.638666</td>\n      <td>213.318071</td>\n      <td>440.029689</td>\n      <td>16.010856</td>\n      <td>...</td>\n      <td>6451.402384</td>\n      <td>-0.094420</td>\n      <td>-3.333517</td>\n      <td>-12.267246</td>\n      <td>3.968232</td>\n      <td>455.245871</td>\n      <td>WP5</td>\n      <td>67.245585</td>\n      <td>-6.802696</td>\n      <td>6.120838</td>\n    </tr>\n    <tr>\n      <th>45</th>\n      <td>WP6</td>\n      <td>4513.767677</td>\n      <td>0.128721</td>\n      <td>2.532990</td>\n      <td>134.196070</td>\n      <td>78.473149</td>\n      <td>6.233687</td>\n      <td>116.051887</td>\n      <td>331.003118</td>\n      <td>14.664769</td>\n      <td>...</td>\n      <td>6530.639090</td>\n      <td>-1.413152</td>\n      <td>-3.694452</td>\n      <td>-12.289383</td>\n      <td>6.340215</td>\n      <td>27432.941820</td>\n      <td>WP6</td>\n      <td>103.952292</td>\n      <td>15.610423</td>\n      <td>10.219500</td>\n    </tr>\n    <tr>\n      <th>46</th>\n      <td>WP7</td>\n      <td>4509.925528</td>\n      <td>0.081342</td>\n      <td>2.642743</td>\n      <td>135.161886</td>\n      <td>73.200691</td>\n      <td>0.053738</td>\n      <td>260.069015</td>\n      <td>384.454546</td>\n      <td>26.996655</td>\n      <td>...</td>\n      <td>6401.059626</td>\n      <td>-1.269761</td>\n      <td>-4.014186</td>\n      <td>-12.289775</td>\n      <td>2.536255</td>\n      <td>3282.448588</td>\n      <td>WP7</td>\n      <td>47.927733</td>\n      <td>-2.634675</td>\n      <td>8.096345</td>\n    </tr>\n    <tr>\n      <th>47</th>\n      <td>WP8</td>\n      <td>4803.079132</td>\n      <td>0.110683</td>\n      <td>2.564173</td>\n      <td>128.587178</td>\n      <td>77.175918</td>\n      <td>7.042491</td>\n      <td>245.161243</td>\n      <td>247.333173</td>\n      <td>26.986436</td>\n      <td>...</td>\n      <td>6498.858900</td>\n      <td>0.254651</td>\n      <td>-3.383274</td>\n      <td>-12.259843</td>\n      <td>7.131884</td>\n      <td>329.321186</td>\n      <td>WP8</td>\n      <td>63.794537</td>\n      <td>-1.851904</td>\n      <td>5.797034</td>\n    </tr>\n    <tr>\n      <th>48</th>\n      <td>WP9</td>\n      <td>4652.075411</td>\n      <td>0.080785</td>\n      <td>2.507327</td>\n      <td>107.919219</td>\n      <td>70.612993</td>\n      <td>5.969288</td>\n      <td>156.122981</td>\n      <td>174.388171</td>\n      <td>20.069126</td>\n      <td>...</td>\n      <td>6423.831781</td>\n      <td>-0.911990</td>\n      <td>-3.894767</td>\n      <td>-12.275261</td>\n      <td>1.229010</td>\n      <td>171.410554</td>\n      <td>WP9</td>\n      <td>52.756186</td>\n      <td>11.853155</td>\n      <td>5.144062</td>\n    </tr>\n  </tbody>\n</table>\n<p>49 rows × 29 columns</p>\n</div>"
     },
     "metadata": {}
    }
   ]
  },
  {
   "cell_type": "code",
   "metadata": {
    "cell_id": "1f46117a667b4981882ca39bbfc3e368",
    "tags": [],
    "deepnote_to_be_reexecuted": false,
    "source_hash": "3773c95e",
    "execution_start": 1648365700532,
    "execution_millis": 269,
    "deepnote_cell_type": "code",
    "deepnote_cell_height": 594.1875
   },
   "source": "from sklearn.linear_model import LinearRegression\nfrom sklearn.model_selection import cross_val_score, cross_validate, GridSearchCV, KFold\nfrom sklearn.pipeline import make_pipeline\nfrom sklearn.decomposition import PCA\nfrom sklearn.preprocessing import StandardScaler, PolynomialFeatures\nfrom sklearn.ensemble import RandomForestRegressor\nfrom sklearn.neighbors import KNeighborsRegressor, RadiusNeighborsRegressor\n\nmodel = make_pipeline(\n    StandardScaler(),\n    #PCA(),\n    #PolynomialFeatures(),\n    LinearRegression()\n)\n\nparams = {\n    'polynomialfeatures__degree': [1, 2, 3],\n    'pca__n_components': [1, 2, 3, 4, 5, 6,7,8]\n}\n\n#gcv = GridSearchCV(model, params, cv=KFold(random_state=3, shuffle=True),error_score='raise',scoring='r2')\n#gcv.fit(data[['AI_lower(2012-01-01)','AI_upper(2012-01-01)','AI_upper(2021-12-20)','AI_lower(2021-12-20)','X','Y','diff_lower','diff_upper']], \n#        data['sum'])\n\nc = cross_validate(model, data[['AI_lower(2012-01-01)','AI_upper(2012-01-01)','AI_upper(2021-12-20)','AI_lower(2021-12-20)','X','Y','diff_lower','diff_upper','PORO(v/v)']], data['sum'], cv=KFold(random_state=8, shuffle=True), scoring='r2', return_train_score=True)\nc",
   "execution_count": null,
   "outputs": [
    {
     "output_type": "error",
     "ename": "NameError",
     "evalue": "name 'data' is not defined",
     "traceback": [
      "\u001b[0;31m---------------------------------------------------------------------------\u001b[0m",
      "\u001b[0;31mNameError\u001b[0m                                 Traceback (most recent call last)",
      "\u001b[0;32m<ipython-input-5-4f6b527860de>\u001b[0m in \u001b[0;36m<module>\u001b[0;34m\u001b[0m\n\u001b[1;32m     23\u001b[0m \u001b[0;31m#        data['sum'])\u001b[0m\u001b[0;34m\u001b[0m\u001b[0;34m\u001b[0m\u001b[0;34m\u001b[0m\u001b[0m\n\u001b[1;32m     24\u001b[0m \u001b[0;34m\u001b[0m\u001b[0m\n\u001b[0;32m---> 25\u001b[0;31m \u001b[0mc\u001b[0m \u001b[0;34m=\u001b[0m \u001b[0mcross_validate\u001b[0m\u001b[0;34m(\u001b[0m\u001b[0mmodel\u001b[0m\u001b[0;34m,\u001b[0m \u001b[0mdata\u001b[0m\u001b[0;34m[\u001b[0m\u001b[0;34m[\u001b[0m\u001b[0;34m'AI_lower(2012-01-01)'\u001b[0m\u001b[0;34m,\u001b[0m\u001b[0;34m'AI_upper(2012-01-01)'\u001b[0m\u001b[0;34m,\u001b[0m\u001b[0;34m'AI_upper(2021-12-20)'\u001b[0m\u001b[0;34m,\u001b[0m\u001b[0;34m'AI_lower(2021-12-20)'\u001b[0m\u001b[0;34m,\u001b[0m\u001b[0;34m'X'\u001b[0m\u001b[0;34m,\u001b[0m\u001b[0;34m'Y'\u001b[0m\u001b[0;34m,\u001b[0m\u001b[0;34m'diff_lower'\u001b[0m\u001b[0;34m,\u001b[0m\u001b[0;34m'diff_upper'\u001b[0m\u001b[0;34m,\u001b[0m\u001b[0;34m'PORO(v/v)'\u001b[0m\u001b[0;34m]\u001b[0m\u001b[0;34m]\u001b[0m\u001b[0;34m,\u001b[0m \u001b[0mdata\u001b[0m\u001b[0;34m[\u001b[0m\u001b[0;34m'sum'\u001b[0m\u001b[0;34m]\u001b[0m\u001b[0;34m,\u001b[0m \u001b[0mcv\u001b[0m\u001b[0;34m=\u001b[0m\u001b[0mKFold\u001b[0m\u001b[0;34m(\u001b[0m\u001b[0mrandom_state\u001b[0m\u001b[0;34m=\u001b[0m\u001b[0;36m8\u001b[0m\u001b[0;34m,\u001b[0m \u001b[0mshuffle\u001b[0m\u001b[0;34m=\u001b[0m\u001b[0;32mTrue\u001b[0m\u001b[0;34m)\u001b[0m\u001b[0;34m,\u001b[0m \u001b[0mscoring\u001b[0m\u001b[0;34m=\u001b[0m\u001b[0;34m'r2'\u001b[0m\u001b[0;34m,\u001b[0m \u001b[0mreturn_train_score\u001b[0m\u001b[0;34m=\u001b[0m\u001b[0;32mTrue\u001b[0m\u001b[0;34m)\u001b[0m\u001b[0;34m\u001b[0m\u001b[0;34m\u001b[0m\u001b[0m\n\u001b[0m\u001b[1;32m     26\u001b[0m \u001b[0mc\u001b[0m\u001b[0;34m\u001b[0m\u001b[0;34m\u001b[0m\u001b[0m\n",
      "\u001b[0;31mNameError\u001b[0m: name 'data' is not defined"
     ]
    }
   ]
  },
  {
   "cell_type": "code",
   "metadata": {
    "cell_id": "e89a3d2cdd9e471f81146f85879ce3d6",
    "tags": [],
    "deepnote_to_be_reexecuted": true,
    "source_hash": "cb4b9213",
    "execution_start": 1648353932537,
    "execution_millis": 9,
    "deepnote_cell_type": "code",
    "deepnote_cell_height": 81
   },
   "source": "data['log_sum'] = np.log(data['sum'])",
   "execution_count": null,
   "outputs": []
  },
  {
   "cell_type": "code",
   "metadata": {
    "cell_id": "8d0ed8cce2a245428ea5030c470ba104",
    "tags": [],
    "deepnote_to_be_reexecuted": true,
    "source_hash": "453a8cdc",
    "execution_start": 1648353903866,
    "execution_millis": 392,
    "deepnote_cell_type": "code",
    "deepnote_cell_height": 475.9375,
    "deepnote_output_heights": [
     97.953125,
     250
    ]
   },
   "source": "plt.hist(np.log(data['sum']),bins=10)",
   "execution_count": null,
   "outputs": [
    {
     "output_type": "execute_result",
     "execution_count": 175,
     "data": {
      "text/plain": "(array([ 2.,  1.,  2.,  4.,  5.,  3.,  7.,  7., 12.,  6.]),\n array([ 1.27779329,  2.28989475,  3.30199622,  4.31409768,  5.32619915,\n         6.33830061,  7.35040208,  8.36250354,  9.37460501, 10.38670647,\n        11.39880794]),\n <BarContainer object of 10 artists>)"
     },
     "metadata": {}
    },
    {
     "data": {
      "text/plain": "<Figure size 432x288 with 1 Axes>",
      "image/png": "[encoded data removed]"
     },
     "metadata": {
      "needs_background": "light",
      "image/png": {
       "width": 368,
       "height": 248
      }
     },
     "output_type": "display_data"
    }
   ]
  },
  {
   "cell_type": "code",
   "metadata": {
    "cell_id": "f495c3e7aebb4e03b0799d3db93279cf",
    "tags": [],
    "deepnote_to_be_reexecuted": true,
    "source_hash": "a281a5f9",
    "execution_start": 1648351235675,
    "execution_millis": 3139,
    "deepnote_cell_type": "code",
    "deepnote_cell_height": 496.171875,
    "deepnote_output_heights": [
     21.1875
    ]
   },
   "source": "from sklearn.neighbors import KNeighborsRegressor, RadiusNeighborsRegressor\nfrom xgboost import XGBRegressor\nfrom lightgbm import LGBMRegressor\n# pipeline = make_pipeline(\n#     #StandardScaler(),\n#     #XGBRegressor(n_estimators=5000),\n#     #LGBMRegressor(n_estimators=5000),\n#     #LGBMRegressor(n_estimators=5000)\n#     #RandomForestRegressor(n_neighbors=1)\n# )\n\n# pipeline = LGBMRegressor(n_estimators=5000)\npipeline = RandomForestRegressor(1000)\n# params = {\n#  'randomforestregressor__max_depth': [1,2,3,10,None],\n#  'randomforestregressor__min_samples_leaf': [1, 2, 4],\n#  'randomforestregressor__min_samples_split': [2, 5, 10],\n#  'randomforestregressor__n_estimators': [5,10,15,20,30]\n#  }\n\n# model = GridSearchCV(pipeline, params)\npipeline.fit(data[['AI_lower(2012-01-01)','AI_upper(2012-01-01)','AI_upper(2021-12-20)','AI_lower(2021-12-20)','X','Y','PORO(v/v)','Zone','diff_lower','diff_upper']], data['sum'],)",
   "execution_count": null,
   "outputs": [
    {
     "output_type": "execute_result",
     "execution_count": 104,
     "data": {
      "text/plain": "RandomForestRegressor(n_estimators=1000)"
     },
     "metadata": {}
    }
   ]
  },
  {
   "cell_type": "code",
   "metadata": {
    "cell_id": "232b64579bb84a30af8db9f548bba252",
    "tags": [],
    "deepnote_to_be_reexecuted": true,
    "source_hash": "9c147f05",
    "execution_start": 1648351372295,
    "execution_millis": 20121,
    "deepnote_cell_type": "code",
    "deepnote_cell_height": 118.171875,
    "deepnote_output_heights": [
     21.1875
    ]
   },
   "source": "cross_val_score(pipeline, data[['AI_lower(2012-01-01)','AI_upper(2012-01-01)','AI_upper(2021-12-20)','AI_lower(2021-12-20)','X','Y','PORO(v/v)','Zone']], data['sum'],cv=KFold(shuffle=True, random_state=6), scoring='r2')",
   "execution_count": null,
   "outputs": [
    {
     "output_type": "execute_result",
     "execution_count": 112,
     "data": {
      "text/plain": "array([-0.10745403,  0.49063505, -1.50135464, -2.63198878, -2.24992425])"
     },
     "metadata": {}
    }
   ]
  },
  {
   "cell_type": "code",
   "metadata": {
    "cell_id": "c6e2889321e740c6ba3aa100b5e8a62c",
    "tags": [],
    "deepnote_to_be_reexecuted": true,
    "source_hash": "bd7474bf",
    "execution_start": 1648342755754,
    "execution_millis": 1750,
    "deepnote_cell_type": "code",
    "deepnote_cell_height": 144.1875
   },
   "source": "pipeline.score(data[['AI_lower(2012-01-01)','AI_upper(2012-01-01)','AI_upper(2021-12-20)','AI_lower(2021-12-20)','X','Y','diff_lower','diff_upper','PORO(v/v)','perm_est','DT(us/ft)','ROP','PEF(B/E)']], ai[['pred']])",
   "execution_count": null,
   "outputs": [
    {
     "output_type": "error",
     "ename": "ValueError",
     "evalue": "Found input variables with inconsistent numbers of samples: [51200, 49]",
     "traceback": [
      "\u001b[0;31m---------------------------------------------------------------------------\u001b[0m",
      "\u001b[0;31mValueError\u001b[0m                                Traceback (most recent call last)",
      "\u001b[0;32m<ipython-input-58-8750851a75a0>\u001b[0m in \u001b[0;36m<module>\u001b[0;34m\u001b[0m\n\u001b[0;32m----> 1\u001b[0;31m \u001b[0mpipeline\u001b[0m\u001b[0;34m.\u001b[0m\u001b[0mscore\u001b[0m\u001b[0;34m(\u001b[0m\u001b[0mdata\u001b[0m\u001b[0;34m[\u001b[0m\u001b[0;34m[\u001b[0m\u001b[0;34m'AI_lower(2012-01-01)'\u001b[0m\u001b[0;34m,\u001b[0m\u001b[0;34m'AI_upper(2012-01-01)'\u001b[0m\u001b[0;34m,\u001b[0m\u001b[0;34m'AI_upper(2021-12-20)'\u001b[0m\u001b[0;34m,\u001b[0m\u001b[0;34m'AI_lower(2021-12-20)'\u001b[0m\u001b[0;34m,\u001b[0m\u001b[0;34m'X'\u001b[0m\u001b[0;34m,\u001b[0m\u001b[0;34m'Y'\u001b[0m\u001b[0;34m,\u001b[0m\u001b[0;34m'diff_lower'\u001b[0m\u001b[0;34m,\u001b[0m\u001b[0;34m'diff_upper'\u001b[0m\u001b[0;34m,\u001b[0m\u001b[0;34m'PORO(v/v)'\u001b[0m\u001b[0;34m,\u001b[0m\u001b[0;34m'perm_est'\u001b[0m\u001b[0;34m,\u001b[0m\u001b[0;34m'DT(us/ft)'\u001b[0m\u001b[0;34m,\u001b[0m\u001b[0;34m'ROP'\u001b[0m\u001b[0;34m,\u001b[0m\u001b[0;34m'PEF(B/E)'\u001b[0m\u001b[0;34m]\u001b[0m\u001b[0;34m]\u001b[0m\u001b[0;34m,\u001b[0m \u001b[0mai\u001b[0m\u001b[0;34m[\u001b[0m\u001b[0;34m[\u001b[0m\u001b[0;34m'pred'\u001b[0m\u001b[0;34m]\u001b[0m\u001b[0;34m]\u001b[0m\u001b[0;34m)\u001b[0m\u001b[0;34m\u001b[0m\u001b[0;34m\u001b[0m\u001b[0m\n\u001b[0m",
      "\u001b[0;32m/shared-libs/python3.7/py/lib/python3.7/site-packages/sklearn/base.py\u001b[0m in \u001b[0;36mscore\u001b[0;34m(self, X, y, sample_weight)\u001b[0m\n\u001b[1;32m    704\u001b[0m \u001b[0;34m\u001b[0m\u001b[0m\n\u001b[1;32m    705\u001b[0m         \u001b[0my_pred\u001b[0m \u001b[0;34m=\u001b[0m \u001b[0mself\u001b[0m\u001b[0;34m.\u001b[0m\u001b[0mpredict\u001b[0m\u001b[0;34m(\u001b[0m\u001b[0mX\u001b[0m\u001b[0;34m)\u001b[0m\u001b[0;34m\u001b[0m\u001b[0;34m\u001b[0m\u001b[0m\n\u001b[0;32m--> 706\u001b[0;31m         \u001b[0;32mreturn\u001b[0m \u001b[0mr2_score\u001b[0m\u001b[0;34m(\u001b[0m\u001b[0my\u001b[0m\u001b[0;34m,\u001b[0m \u001b[0my_pred\u001b[0m\u001b[0;34m,\u001b[0m \u001b[0msample_weight\u001b[0m\u001b[0;34m=\u001b[0m\u001b[0msample_weight\u001b[0m\u001b[0;34m)\u001b[0m\u001b[0;34m\u001b[0m\u001b[0;34m\u001b[0m\u001b[0m\n\u001b[0m\u001b[1;32m    707\u001b[0m \u001b[0;34m\u001b[0m\u001b[0m\n\u001b[1;32m    708\u001b[0m     \u001b[0;32mdef\u001b[0m \u001b[0m_more_tags\u001b[0m\u001b[0;34m(\u001b[0m\u001b[0mself\u001b[0m\u001b[0;34m)\u001b[0m\u001b[0;34m:\u001b[0m\u001b[0;34m\u001b[0m\u001b[0;34m\u001b[0m\u001b[0m\n",
      "\u001b[0;32m/shared-libs/python3.7/py/lib/python3.7/site-packages/sklearn/metrics/_regression.py\u001b[0m in \u001b[0;36mr2_score\u001b[0;34m(y_true, y_pred, sample_weight, multioutput)\u001b[0m\n\u001b[1;32m    788\u001b[0m     \"\"\"\n\u001b[1;32m    789\u001b[0m     y_type, y_true, y_pred, multioutput = _check_reg_targets(\n\u001b[0;32m--> 790\u001b[0;31m         \u001b[0my_true\u001b[0m\u001b[0;34m,\u001b[0m \u001b[0my_pred\u001b[0m\u001b[0;34m,\u001b[0m \u001b[0mmultioutput\u001b[0m\u001b[0;34m\u001b[0m\u001b[0;34m\u001b[0m\u001b[0m\n\u001b[0m\u001b[1;32m    791\u001b[0m     )\n\u001b[1;32m    792\u001b[0m     \u001b[0mcheck_consistent_length\u001b[0m\u001b[0;34m(\u001b[0m\u001b[0my_true\u001b[0m\u001b[0;34m,\u001b[0m \u001b[0my_pred\u001b[0m\u001b[0;34m,\u001b[0m \u001b[0msample_weight\u001b[0m\u001b[0;34m)\u001b[0m\u001b[0;34m\u001b[0m\u001b[0;34m\u001b[0m\u001b[0m\n",
      "\u001b[0;32m/shared-libs/python3.7/py/lib/python3.7/site-packages/sklearn/metrics/_regression.py\u001b[0m in \u001b[0;36m_check_reg_targets\u001b[0;34m(y_true, y_pred, multioutput, dtype)\u001b[0m\n\u001b[1;32m     92\u001b[0m         \u001b[0mthe\u001b[0m \u001b[0mdtype\u001b[0m \u001b[0margument\u001b[0m \u001b[0mpassed\u001b[0m \u001b[0mto\u001b[0m \u001b[0mcheck_array\u001b[0m\u001b[0;34m.\u001b[0m\u001b[0;34m\u001b[0m\u001b[0;34m\u001b[0m\u001b[0m\n\u001b[1;32m     93\u001b[0m     \"\"\"\n\u001b[0;32m---> 94\u001b[0;31m     \u001b[0mcheck_consistent_length\u001b[0m\u001b[0;34m(\u001b[0m\u001b[0my_true\u001b[0m\u001b[0;34m,\u001b[0m \u001b[0my_pred\u001b[0m\u001b[0;34m)\u001b[0m\u001b[0;34m\u001b[0m\u001b[0;34m\u001b[0m\u001b[0m\n\u001b[0m\u001b[1;32m     95\u001b[0m     \u001b[0my_true\u001b[0m \u001b[0;34m=\u001b[0m \u001b[0mcheck_array\u001b[0m\u001b[0;34m(\u001b[0m\u001b[0my_true\u001b[0m\u001b[0;34m,\u001b[0m \u001b[0mensure_2d\u001b[0m\u001b[0;34m=\u001b[0m\u001b[0;32mFalse\u001b[0m\u001b[0;34m,\u001b[0m \u001b[0mdtype\u001b[0m\u001b[0;34m=\u001b[0m\u001b[0mdtype\u001b[0m\u001b[0;34m)\u001b[0m\u001b[0;34m\u001b[0m\u001b[0;34m\u001b[0m\u001b[0m\n\u001b[1;32m     96\u001b[0m     \u001b[0my_pred\u001b[0m \u001b[0;34m=\u001b[0m \u001b[0mcheck_array\u001b[0m\u001b[0;34m(\u001b[0m\u001b[0my_pred\u001b[0m\u001b[0;34m,\u001b[0m \u001b[0mensure_2d\u001b[0m\u001b[0;34m=\u001b[0m\u001b[0;32mFalse\u001b[0m\u001b[0;34m,\u001b[0m \u001b[0mdtype\u001b[0m\u001b[0;34m=\u001b[0m\u001b[0mdtype\u001b[0m\u001b[0;34m)\u001b[0m\u001b[0;34m\u001b[0m\u001b[0;34m\u001b[0m\u001b[0m\n",
      "\u001b[0;32m/shared-libs/python3.7/py/lib/python3.7/site-packages/sklearn/utils/validation.py\u001b[0m in \u001b[0;36mcheck_consistent_length\u001b[0;34m(*arrays)\u001b[0m\n\u001b[1;32m    332\u001b[0m         raise ValueError(\n\u001b[1;32m    333\u001b[0m             \u001b[0;34m\"Found input variables with inconsistent numbers of samples: %r\"\u001b[0m\u001b[0;34m\u001b[0m\u001b[0;34m\u001b[0m\u001b[0m\n\u001b[0;32m--> 334\u001b[0;31m             \u001b[0;34m%\u001b[0m \u001b[0;34m[\u001b[0m\u001b[0mint\u001b[0m\u001b[0;34m(\u001b[0m\u001b[0ml\u001b[0m\u001b[0;34m)\u001b[0m \u001b[0;32mfor\u001b[0m \u001b[0ml\u001b[0m \u001b[0;32min\u001b[0m \u001b[0mlengths\u001b[0m\u001b[0;34m]\u001b[0m\u001b[0;34m\u001b[0m\u001b[0;34m\u001b[0m\u001b[0m\n\u001b[0m\u001b[1;32m    335\u001b[0m         )\n\u001b[1;32m    336\u001b[0m \u001b[0;34m\u001b[0m\u001b[0m\n",
      "\u001b[0;31mValueError\u001b[0m: Found input variables with inconsistent numbers of samples: [51200, 49]"
     ]
    }
   ]
  },
  {
   "cell_type": "code",
   "metadata": {
    "cell_id": "9f97a670f6864d33b01c85408b4e7dc9",
    "tags": [],
    "deepnote_to_be_reexecuted": true,
    "source_hash": "8560eddb",
    "execution_start": 1648336706520,
    "execution_millis": 15,
    "deepnote_cell_type": "code",
    "deepnote_cell_height": 137.375,
    "deepnote_output_heights": [
     40.375
    ]
   },
   "source": "model.best_estimator_['randomforestregressor'].feature_importances_",
   "execution_count": null,
   "outputs": [
    {
     "output_type": "execute_result",
     "execution_count": 124,
     "data": {
      "text/plain": "array([0.0022973 , 0.1755292 , 0.23031756, 0.00906935, 0.18182122,\n       0.01580627, 0.09035173, 0.04340485, 0.25140251])"
     },
     "metadata": {}
    }
   ]
  },
  {
   "cell_type": "code",
   "metadata": {
    "cell_id": "e323c2d8b7134c488c954265bc4341f6",
    "tags": [],
    "deepnote_to_be_reexecuted": true,
    "source_hash": "ba220428",
    "execution_start": 1648351904868,
    "execution_millis": 227,
    "deepnote_cell_type": "code",
    "deepnote_cell_height": 244.265625
   },
   "source": "data[data['Well'] == 'WP21']",
   "execution_count": null,
   "outputs": [
    {
     "output_type": "execute_result",
     "execution_count": 115,
     "data": {
      "application/vnd.deepnote.dataframe.v3+json": {
       "column_count": 28,
       "row_count": 1,
       "columns": [
        {
         "name": "well_id",
         "dtype": "object",
         "stats": {
          "unique_count": 1,
          "nan_count": 0,
          "categories": [
           {
            "name": "WP21",
            "count": 1
           }
          ]
         }
        },
        {
         "name": "MD(ft)",
         "dtype": "float64",
         "stats": {
          "unique_count": 1,
          "nan_count": 0,
          "min": "4533.95377112",
          "max": "4533.95377112",
          "histogram": [
           {
            "bin_start": 4533.45377112,
            "bin_end": 4533.55377112,
            "count": 0
           },
           {
            "bin_start": 4533.55377112,
            "bin_end": 4533.65377112,
            "count": 0
           },
           {
            "bin_start": 4533.65377112,
            "bin_end": 4533.75377112,
            "count": 0
           },
           {
            "bin_start": 4533.75377112,
            "bin_end": 4533.85377112,
            "count": 0
           },
           {
            "bin_start": 4533.85377112,
            "bin_end": 4533.95377112,
            "count": 0
           },
           {
            "bin_start": 4533.95377112,
            "bin_end": 4534.05377112,
            "count": 1
           },
           {
            "bin_start": 4534.05377112,
            "bin_end": 4534.15377112,
            "count": 0
           },
           {
            "bin_start": 4534.15377112,
            "bin_end": 4534.25377112,
            "count": 0
           },
           {
            "bin_start": 4534.25377112,
            "bin_end": 4534.35377112,
            "count": 0
           },
           {
            "bin_start": 4534.35377112,
            "bin_end": 4534.45377112,
            "count": 0
           }
          ]
         }
        },
        {
         "name": "PORO(v/v)",
         "dtype": "float64",
         "stats": {
          "unique_count": 1,
          "nan_count": 0,
          "min": "0.1331903432186584",
          "max": "0.1331903432186584",
          "histogram": [
           {
            "bin_start": -0.3668096567813416,
            "bin_end": -0.2668096567813416,
            "count": 0
           },
           {
            "bin_start": -0.2668096567813416,
            "bin_end": -0.16680965678134158,
            "count": 0
           },
           {
            "bin_start": -0.16680965678134158,
            "bin_end": -0.06680965678134154,
            "count": 0
           },
           {
            "bin_start": -0.06680965678134154,
            "bin_end": 0.033190343218658436,
            "count": 0
           },
           {
            "bin_start": 0.033190343218658436,
            "bin_end": 0.1331903432186584,
            "count": 0
           },
           {
            "bin_start": 0.1331903432186584,
            "bin_end": 0.2331903432186585,
            "count": 1
           },
           {
            "bin_start": 0.2331903432186585,
            "bin_end": 0.3331903432186585,
            "count": 0
           },
           {
            "bin_start": 0.3331903432186585,
            "bin_end": 0.43319034321865846,
            "count": 0
           },
           {
            "bin_start": 0.43319034321865846,
            "bin_end": 0.5331903432186584,
            "count": 0
           },
           {
            "bin_start": 0.5331903432186584,
            "bin_end": 0.6331903432186584,
            "count": 0
           }
          ]
         }
        },
        {
         "name": "RHOB(g/cm3)",
         "dtype": "float64",
         "stats": {
          "unique_count": 1,
          "nan_count": 0,
          "min": "2.391614475536532",
          "max": "2.391614475536532",
          "histogram": [
           {
            "bin_start": 1.891614475536532,
            "bin_end": 1.9916144755365321,
            "count": 0
           },
           {
            "bin_start": 1.9916144755365321,
            "bin_end": 2.0916144755365322,
            "count": 0
           },
           {
            "bin_start": 2.0916144755365322,
            "bin_end": 2.1916144755365323,
            "count": 0
           },
           {
            "bin_start": 2.1916144755365323,
            "bin_end": 2.291614475536532,
            "count": 0
           },
           {
            "bin_start": 2.291614475536532,
            "bin_end": 2.391614475536532,
            "count": 0
           },
           {
            "bin_start": 2.391614475536532,
            "bin_end": 2.491614475536532,
            "count": 1
           },
           {
            "bin_start": 2.491614475536532,
            "bin_end": 2.5916144755365322,
            "count": 0
           },
           {
            "bin_start": 2.5916144755365322,
            "bin_end": 2.6916144755365323,
            "count": 0
           },
           {
            "bin_start": 2.6916144755365323,
            "bin_end": 2.791614475536532,
            "count": 0
           },
           {
            "bin_start": 2.791614475536532,
            "bin_end": 2.891614475536532,
            "count": 0
           }
          ]
         }
        },
        {
         "name": "DTS(us/ft)",
         "dtype": "float64",
         "stats": {
          "unique_count": 1,
          "nan_count": 0,
          "min": "135.14663290526263",
          "max": "135.14663290526263",
          "histogram": [
           {
            "bin_start": 134.64663290526263,
            "bin_end": 134.74663290526263,
            "count": 0
           },
           {
            "bin_start": 134.74663290526263,
            "bin_end": 134.84663290526262,
            "count": 0
           },
           {
            "bin_start": 134.84663290526262,
            "bin_end": 134.94663290526265,
            "count": 0
           },
           {
            "bin_start": 134.94663290526265,
            "bin_end": 135.04663290526264,
            "count": 0
           },
           {
            "bin_start": 135.04663290526264,
            "bin_end": 135.14663290526263,
            "count": 0
           },
           {
            "bin_start": 135.14663290526263,
            "bin_end": 135.24663290526263,
            "count": 1
           },
           {
            "bin_start": 135.24663290526263,
            "bin_end": 135.34663290526262,
            "count": 0
           },
           {
            "bin_start": 135.34663290526262,
            "bin_end": 135.44663290526265,
            "count": 0
           },
           {
            "bin_start": 135.44663290526265,
            "bin_end": 135.54663290526264,
            "count": 0
           },
           {
            "bin_start": 135.54663290526264,
            "bin_end": 135.64663290526263,
            "count": 0
           }
          ]
         }
        },
        {
         "name": "DT(us/ft)",
         "dtype": "float64",
         "stats": {
          "unique_count": 1,
          "nan_count": 0,
          "min": "82.57428645059112",
          "max": "82.57428645059112",
          "histogram": [
           {
            "bin_start": 82.07428645059112,
            "bin_end": 82.17428645059111,
            "count": 0
           },
           {
            "bin_start": 82.17428645059111,
            "bin_end": 82.27428645059112,
            "count": 0
           },
           {
            "bin_start": 82.27428645059112,
            "bin_end": 82.37428645059111,
            "count": 0
           },
           {
            "bin_start": 82.37428645059111,
            "bin_end": 82.47428645059112,
            "count": 0
           },
           {
            "bin_start": 82.47428645059112,
            "bin_end": 82.57428645059112,
            "count": 0
           },
           {
            "bin_start": 82.57428645059112,
            "bin_end": 82.67428645059111,
            "count": 1
           },
           {
            "bin_start": 82.67428645059111,
            "bin_end": 82.77428645059112,
            "count": 0
           },
           {
            "bin_start": 82.77428645059112,
            "bin_end": 82.87428645059111,
            "count": 0
           },
           {
            "bin_start": 82.87428645059111,
            "bin_end": 82.97428645059112,
            "count": 0
           },
           {
            "bin_start": 82.97428645059112,
            "bin_end": 83.07428645059112,
            "count": 0
           }
          ]
         }
        },
        {
         "name": "PEF(B/E)",
         "dtype": "float64",
         "stats": {
          "unique_count": 1,
          "nan_count": 0,
          "min": "4.559608190954942",
          "max": "4.559608190954942",
          "histogram": [
           {
            "bin_start": 4.059608190954942,
            "bin_end": 4.159608190954942,
            "count": 0
           },
           {
            "bin_start": 4.159608190954942,
            "bin_end": 4.259608190954943,
            "count": 0
           },
           {
            "bin_start": 4.259608190954943,
            "bin_end": 4.359608190954942,
            "count": 0
           },
           {
            "bin_start": 4.359608190954942,
            "bin_end": 4.459608190954943,
            "count": 0
           },
           {
            "bin_start": 4.459608190954943,
            "bin_end": 4.559608190954942,
            "count": 0
           },
           {
            "bin_start": 4.559608190954942,
            "bin_end": 4.659608190954943,
            "count": 1
           },
           {
            "bin_start": 4.659608190954943,
            "bin_end": 4.759608190954943,
            "count": 0
           },
           {
            "bin_start": 4.759608190954943,
            "bin_end": 4.859608190954942,
            "count": 0
           },
           {
            "bin_start": 4.859608190954942,
            "bin_end": 4.959608190954943,
            "count": 0
           },
           {
            "bin_start": 4.959608190954943,
            "bin_end": 5.059608190954942,
            "count": 0
           }
          ]
         }
        },
        {
         "name": "RD(OHMM)",
         "dtype": "float64",
         "stats": {
          "unique_count": 1,
          "nan_count": 0,
          "min": "225.02862936244523",
          "max": "225.02862936244523",
          "histogram": [
           {
            "bin_start": 224.52862936244523,
            "bin_end": 224.62862936244522,
            "count": 0
           },
           {
            "bin_start": 224.62862936244522,
            "bin_end": 224.72862936244522,
            "count": 0
           },
           {
            "bin_start": 224.72862936244522,
            "bin_end": 224.82862936244524,
            "count": 0
           },
           {
            "bin_start": 224.82862936244524,
            "bin_end": 224.92862936244524,
            "count": 0
           },
           {
            "bin_start": 224.92862936244524,
            "bin_end": 225.02862936244523,
            "count": 0
           },
           {
            "bin_start": 225.02862936244523,
            "bin_end": 225.12862936244522,
            "count": 1
           },
           {
            "bin_start": 225.12862936244522,
            "bin_end": 225.22862936244522,
            "count": 0
           },
           {
            "bin_start": 225.22862936244522,
            "bin_end": 225.32862936244524,
            "count": 0
           },
           {
            "bin_start": 225.32862936244524,
            "bin_end": 225.42862936244524,
            "count": 0
           },
           {
            "bin_start": 225.42862936244524,
            "bin_end": 225.52862936244523,
            "count": 0
           }
          ]
         }
        },
        {
         "name": "RS(OHMM)",
         "dtype": "float64",
         "stats": {
          "unique_count": 1,
          "nan_count": 0,
          "min": "428.77182387080114",
          "max": "428.77182387080114",
          "histogram": [
           {
            "bin_start": 428.27182387080114,
            "bin_end": 428.37182387080117,
            "count": 0
           },
           {
            "bin_start": 428.37182387080117,
            "bin_end": 428.47182387080113,
            "count": 0
           },
           {
            "bin_start": 428.47182387080113,
            "bin_end": 428.57182387080115,
            "count": 0
           },
           {
            "bin_start": 428.57182387080115,
            "bin_end": 428.6718238708011,
            "count": 0
           },
           {
            "bin_start": 428.6718238708011,
            "bin_end": 428.77182387080114,
            "count": 0
           },
           {
            "bin_start": 428.77182387080114,
            "bin_end": 428.87182387080117,
            "count": 1
           },
           {
            "bin_start": 428.87182387080117,
            "bin_end": 428.97182387080113,
            "count": 0
           },
           {
            "bin_start": 428.97182387080113,
            "bin_end": 429.07182387080115,
            "count": 0
           },
           {
            "bin_start": 429.07182387080115,
            "bin_end": 429.1718238708011,
            "count": 0
           },
           {
            "bin_start": 429.1718238708011,
            "bin_end": 429.27182387080114,
            "count": 0
           }
          ]
         }
        },
        {
         "name": "ROP",
         "dtype": "float64",
         "stats": {
          "unique_count": 1,
          "nan_count": 0,
          "min": "19.509900748137078",
          "max": "19.509900748137078",
          "histogram": [
           {
            "bin_start": 19.009900748137078,
            "bin_end": 19.10990074813708,
            "count": 0
           },
           {
            "bin_start": 19.10990074813708,
            "bin_end": 19.209900748137077,
            "count": 0
           },
           {
            "bin_start": 19.209900748137077,
            "bin_end": 19.30990074813708,
            "count": 0
           },
           {
            "bin_start": 19.30990074813708,
            "bin_end": 19.409900748137076,
            "count": 0
           },
           {
            "bin_start": 19.409900748137076,
            "bin_end": 19.509900748137078,
            "count": 0
           },
           {
            "bin_start": 19.509900748137078,
            "bin_end": 19.60990074813708,
            "count": 1
           },
           {
            "bin_start": 19.60990074813708,
            "bin_end": 19.709900748137077,
            "count": 0
           },
           {
            "bin_start": 19.709900748137077,
            "bin_end": 19.80990074813708,
            "count": 0
           },
           {
            "bin_start": 19.80990074813708,
            "bin_end": 19.909900748137076,
            "count": 0
           },
           {
            "bin_start": 19.909900748137076,
            "bin_end": 20.009900748137078,
            "count": 0
           }
          ]
         }
        },
        {
         "name": "DENC(g/cm3)",
         "dtype": "float64",
         "stats": {
          "unique_count": 1,
          "nan_count": 0,
          "min": "0.018168142531681",
          "max": "0.018168142531681",
          "histogram": [
           {
            "bin_start": -0.481831857468319,
            "bin_end": -0.38183185746831905,
            "count": 0
           },
           {
            "bin_start": -0.38183185746831905,
            "bin_end": -0.281831857468319,
            "count": 0
           },
           {
            "bin_start": -0.281831857468319,
            "bin_end": -0.18183185746831898,
            "count": 0
           },
           {
            "bin_start": -0.18183185746831898,
            "bin_end": -0.081831857468319,
            "count": 0
           },
           {
            "bin_start": -0.081831857468319,
            "bin_end": 0.018168142531680975,
            "count": 0
           },
           {
            "bin_start": 0.018168142531680975,
            "bin_end": 0.11816814253168106,
            "count": 1
           },
           {
            "bin_start": 0.11816814253168106,
            "bin_end": 0.21816814253168104,
            "count": 0
           },
           {
            "bin_start": 0.21816814253168104,
            "bin_end": 0.318168142531681,
            "count": 0
           },
           {
            "bin_start": 0.318168142531681,
            "bin_end": 0.418168142531681,
            "count": 0
           },
           {
            "bin_start": 0.418168142531681,
            "bin_end": 0.518168142531681,
            "count": 0
           }
          ]
         }
        },
        {
         "name": "NPHI(v/v)",
         "dtype": "float64",
         "stats": {
          "unique_count": 1,
          "nan_count": 0,
          "min": "0.2329518263457789",
          "max": "0.2329518263457789",
          "histogram": [
           {
            "bin_start": -0.26704817365422107,
            "bin_end": -0.16704817365422106,
            "count": 0
           },
           {
            "bin_start": -0.16704817365422106,
            "bin_end": -0.06704817365422105,
            "count": 0
           },
           {
            "bin_start": -0.06704817365422105,
            "bin_end": 0.03295182634577898,
            "count": 0
           },
           {
            "bin_start": 0.03295182634577898,
            "bin_end": 0.13295182634577896,
            "count": 0
           },
           {
            "bin_start": 0.13295182634577896,
            "bin_end": 0.23295182634577893,
            "count": 1
           },
           {
            "bin_start": 0.23295182634577893,
            "bin_end": 0.332951826345779,
            "count": 0
           },
           {
            "bin_start": 0.332951826345779,
            "bin_end": 0.432951826345779,
            "count": 0
           },
           {
            "bin_start": 0.432951826345779,
            "bin_end": 0.532951826345779,
            "count": 0
           },
           {
            "bin_start": 0.532951826345779,
            "bin_end": 0.632951826345779,
            "count": 0
           },
           {
            "bin_start": 0.632951826345779,
            "bin_end": 0.7329518263457789,
            "count": 0
           }
          ]
         }
        },
        {
         "name": "Zone",
         "dtype": "float64",
         "stats": {
          "unique_count": 1,
          "nan_count": 0,
          "min": "0.5",
          "max": "0.5",
          "histogram": [
           {
            "bin_start": 0,
            "bin_end": 0.1,
            "count": 0
           },
           {
            "bin_start": 0.1,
            "bin_end": 0.2,
            "count": 0
           },
           {
            "bin_start": 0.2,
            "bin_end": 0.30000000000000004,
            "count": 0
           },
           {
            "bin_start": 0.30000000000000004,
            "bin_end": 0.4,
            "count": 0
           },
           {
            "bin_start": 0.4,
            "bin_end": 0.5,
            "count": 0
           },
           {
            "bin_start": 0.5,
            "bin_end": 0.6000000000000001,
            "count": 1
           },
           {
            "bin_start": 0.6000000000000001,
            "bin_end": 0.7000000000000001,
            "count": 0
           },
           {
            "bin_start": 0.7000000000000001,
            "bin_end": 0.8,
            "count": 0
           },
           {
            "bin_start": 0.8,
            "bin_end": 0.9,
            "count": 0
           },
           {
            "bin_start": 0.9,
            "bin_end": 1,
            "count": 0
           }
          ]
         }
        },
        {
         "name": "X",
         "dtype": "float64",
         "stats": {
          "unique_count": 1,
          "nan_count": 0,
          "min": "121120.49000000014",
          "max": "121120.49000000014",
          "histogram": [
           {
            "bin_start": 121119.99000000014,
            "bin_end": 121120.09000000014,
            "count": 0
           },
           {
            "bin_start": 121120.09000000014,
            "bin_end": 121120.19000000013,
            "count": 0
           },
           {
            "bin_start": 121120.19000000013,
            "bin_end": 121120.29000000014,
            "count": 0
           },
           {
            "bin_start": 121120.29000000014,
            "bin_end": 121120.39000000013,
            "count": 0
           },
           {
            "bin_start": 121120.39000000013,
            "bin_end": 121120.49000000014,
            "count": 0
           },
           {
            "bin_start": 121120.49000000014,
            "bin_end": 121120.59000000014,
            "count": 1
           },
           {
            "bin_start": 121120.59000000014,
            "bin_end": 121120.69000000013,
            "count": 0
           },
           {
            "bin_start": 121120.69000000013,
            "bin_end": 121120.79000000014,
            "count": 0
           },
           {
            "bin_start": 121120.79000000014,
            "bin_end": 121120.89000000013,
            "count": 0
           },
           {
            "bin_start": 121120.89000000013,
            "bin_end": 121120.99000000014,
            "count": 0
           }
          ]
         }
        },
        {
         "name": "Y",
         "dtype": "float64",
         "stats": {
          "unique_count": 1,
          "nan_count": 0,
          "min": "87804.64000000003",
          "max": "87804.64000000003",
          "histogram": [
           {
            "bin_start": 87804.14000000003,
            "bin_end": 87804.24000000003,
            "count": 0
           },
           {
            "bin_start": 87804.24000000003,
            "bin_end": 87804.34000000003,
            "count": 0
           },
           {
            "bin_start": 87804.34000000003,
            "bin_end": 87804.44000000003,
            "count": 0
           },
           {
            "bin_start": 87804.44000000003,
            "bin_end": 87804.54000000002,
            "count": 0
           },
           {
            "bin_start": 87804.54000000002,
            "bin_end": 87804.64000000003,
            "count": 0
           },
           {
            "bin_start": 87804.64000000003,
            "bin_end": 87804.74000000003,
            "count": 1
           },
           {
            "bin_start": 87804.74000000003,
            "bin_end": 87804.84000000003,
            "count": 0
           },
           {
            "bin_start": 87804.84000000003,
            "bin_end": 87804.94000000003,
            "count": 0
           },
           {
            "bin_start": 87804.94000000003,
            "bin_end": 87805.04000000002,
            "count": 0
           },
           {
            "bin_start": 87805.04000000002,
            "bin_end": 87805.14000000003,
            "count": 0
           }
          ]
         }
        },
        {
         "name": "Completion Zone",
         "dtype": "int64",
         "stats": {
          "unique_count": 1,
          "nan_count": 0,
          "min": "1",
          "max": "1",
          "histogram": [
           {
            "bin_start": 0.5,
            "bin_end": 0.6,
            "count": 0
           },
           {
            "bin_start": 0.6,
            "bin_end": 0.7,
            "count": 0
           },
           {
            "bin_start": 0.7,
            "bin_end": 0.8,
            "count": 0
           },
           {
            "bin_start": 0.8,
            "bin_end": 0.9,
            "count": 0
           },
           {
            "bin_start": 0.9,
            "bin_end": 1,
            "count": 0
           },
           {
            "bin_start": 1,
            "bin_end": 1.1,
            "count": 1
           },
           {
            "bin_start": 1.1,
            "bin_end": 1.2000000000000002,
            "count": 0
           },
           {
            "bin_start": 1.2000000000000002,
            "bin_end": 1.3,
            "count": 0
           },
           {
            "bin_start": 1.3,
            "bin_end": 1.4,
            "count": 0
           },
           {
            "bin_start": 1.4,
            "bin_end": 1.5,
            "count": 0
           }
          ]
         }
        },
        {
         "name": "AI_lower(2012-01-01)",
         "dtype": "float64",
         "stats": {
          "unique_count": 1,
          "nan_count": 0,
          "min": "6514.952718386025",
          "max": "6514.952718386025",
          "histogram": [
           {
            "bin_start": 6514.452718386025,
            "bin_end": 6514.552718386025,
            "count": 0
           },
           {
            "bin_start": 6514.552718386025,
            "bin_end": 6514.652718386024,
            "count": 0
           },
           {
            "bin_start": 6514.652718386024,
            "bin_end": 6514.752718386025,
            "count": 0
           },
           {
            "bin_start": 6514.752718386025,
            "bin_end": 6514.852718386024,
            "count": 0
           },
           {
            "bin_start": 6514.852718386024,
            "bin_end": 6514.952718386025,
            "count": 0
           },
           {
            "bin_start": 6514.952718386025,
            "bin_end": 6515.052718386025,
            "count": 1
           },
           {
            "bin_start": 6515.052718386025,
            "bin_end": 6515.152718386024,
            "count": 0
           },
           {
            "bin_start": 6515.152718386024,
            "bin_end": 6515.252718386025,
            "count": 0
           },
           {
            "bin_start": 6515.252718386025,
            "bin_end": 6515.352718386024,
            "count": 0
           },
           {
            "bin_start": 6515.352718386024,
            "bin_end": 6515.452718386025,
            "count": 0
           }
          ]
         }
        },
        {
         "name": "AI_upper(2012-01-01)",
         "dtype": "float64",
         "stats": {
          "unique_count": 1,
          "nan_count": 0,
          "min": "6504.9031848107625",
          "max": "6504.9031848107625",
          "histogram": [
           {
            "bin_start": 6504.4031848107625,
            "bin_end": 6504.503184810763,
            "count": 0
           },
           {
            "bin_start": 6504.503184810763,
            "bin_end": 6504.603184810762,
            "count": 0
           },
           {
            "bin_start": 6504.603184810762,
            "bin_end": 6504.703184810763,
            "count": 0
           },
           {
            "bin_start": 6504.703184810763,
            "bin_end": 6504.803184810762,
            "count": 0
           },
           {
            "bin_start": 6504.803184810762,
            "bin_end": 6504.9031848107625,
            "count": 0
           },
           {
            "bin_start": 6504.9031848107625,
            "bin_end": 6505.003184810763,
            "count": 1
           },
           {
            "bin_start": 6505.003184810763,
            "bin_end": 6505.103184810762,
            "count": 0
           },
           {
            "bin_start": 6505.103184810762,
            "bin_end": 6505.203184810763,
            "count": 0
           },
           {
            "bin_start": 6505.203184810763,
            "bin_end": 6505.303184810762,
            "count": 0
           },
           {
            "bin_start": 6505.303184810762,
            "bin_end": 6505.4031848107625,
            "count": 0
           }
          ]
         }
        },
        {
         "name": "AI_lower(2021-12-20)",
         "dtype": "float64",
         "stats": {
          "unique_count": 1,
          "nan_count": 0,
          "min": "6589.556842726417",
          "max": "6589.556842726417",
          "histogram": [
           {
            "bin_start": 6589.056842726417,
            "bin_end": 6589.156842726417,
            "count": 0
           },
           {
            "bin_start": 6589.156842726417,
            "bin_end": 6589.256842726417,
            "count": 0
           },
           {
            "bin_start": 6589.256842726417,
            "bin_end": 6589.356842726417,
            "count": 0
           },
           {
            "bin_start": 6589.356842726417,
            "bin_end": 6589.456842726417,
            "count": 0
           },
           {
            "bin_start": 6589.456842726417,
            "bin_end": 6589.556842726417,
            "count": 0
           },
           {
            "bin_start": 6589.556842726417,
            "bin_end": 6589.656842726417,
            "count": 1
           },
           {
            "bin_start": 6589.656842726417,
            "bin_end": 6589.756842726417,
            "count": 0
           },
           {
            "bin_start": 6589.756842726417,
            "bin_end": 6589.856842726417,
            "count": 0
           },
           {
            "bin_start": 6589.856842726417,
            "bin_end": 6589.956842726417,
            "count": 0
           },
           {
            "bin_start": 6589.956842726417,
            "bin_end": 6590.056842726417,
            "count": 0
           }
          ]
         }
        },
        {
         "name": "AI_upper(2021-12-20)",
         "dtype": "float64",
         "stats": {
          "unique_count": 1,
          "nan_count": 0,
          "min": "6505.458723515018",
          "max": "6505.458723515018",
          "histogram": [
           {
            "bin_start": 6504.958723515018,
            "bin_end": 6505.058723515019,
            "count": 0
           },
           {
            "bin_start": 6505.058723515019,
            "bin_end": 6505.158723515018,
            "count": 0
           },
           {
            "bin_start": 6505.158723515018,
            "bin_end": 6505.258723515019,
            "count": 0
           },
           {
            "bin_start": 6505.258723515019,
            "bin_end": 6505.358723515018,
            "count": 0
           },
           {
            "bin_start": 6505.358723515018,
            "bin_end": 6505.458723515018,
            "count": 0
           },
           {
            "bin_start": 6505.458723515018,
            "bin_end": 6505.558723515019,
            "count": 1
           },
           {
            "bin_start": 6505.558723515019,
            "bin_end": 6505.658723515018,
            "count": 0
           },
           {
            "bin_start": 6505.658723515018,
            "bin_end": 6505.758723515019,
            "count": 0
           },
           {
            "bin_start": 6505.758723515019,
            "bin_end": 6505.858723515018,
            "count": 0
           },
           {
            "bin_start": 6505.858723515018,
            "bin_end": 6505.958723515018,
            "count": 0
           }
          ]
         }
        },
        {
         "name": "scaled_X",
         "dtype": "float64",
         "stats": {
          "unique_count": 1,
          "nan_count": 0,
          "min": "-0.3834197790298984",
          "max": "-0.3834197790298984",
          "histogram": [
           {
            "bin_start": -0.8834197790298983,
            "bin_end": -0.7834197790298983,
            "count": 0
           },
           {
            "bin_start": -0.7834197790298983,
            "bin_end": -0.6834197790298984,
            "count": 0
           },
           {
            "bin_start": -0.6834197790298984,
            "bin_end": -0.5834197790298983,
            "count": 0
           },
           {
            "bin_start": -0.5834197790298983,
            "bin_end": -0.4834197790298983,
            "count": 0
           },
           {
            "bin_start": -0.4834197790298983,
            "bin_end": -0.3834197790298983,
            "count": 1
           },
           {
            "bin_start": -0.3834197790298983,
            "bin_end": -0.28341977902989823,
            "count": 0
           },
           {
            "bin_start": -0.28341977902989823,
            "bin_end": -0.18341977902989826,
            "count": 0
           },
           {
            "bin_start": -0.18341977902989826,
            "bin_end": -0.08341977902989828,
            "count": 0
           },
           {
            "bin_start": -0.08341977902989828,
            "bin_end": 0.0165802209701017,
            "count": 0
           },
           {
            "bin_start": 0.0165802209701017,
            "bin_end": 0.11658022097010162,
            "count": 0
           }
          ]
         }
        },
        {
         "name": "scaled_Y",
         "dtype": "float64",
         "stats": {
          "unique_count": 1,
          "nan_count": 0,
          "min": "-3.785087203980528",
          "max": "-3.785087203980528",
          "histogram": [
           {
            "bin_start": -4.2850872039805274,
            "bin_end": -4.185087203980528,
            "count": 0
           },
           {
            "bin_start": -4.185087203980528,
            "bin_end": -4.085087203980527,
            "count": 0
           },
           {
            "bin_start": -4.085087203980527,
            "bin_end": -3.9850872039805276,
            "count": 0
           },
           {
            "bin_start": -3.9850872039805276,
            "bin_end": -3.8850872039805275,
            "count": 0
           },
           {
            "bin_start": -3.8850872039805275,
            "bin_end": -3.7850872039805274,
            "count": 1
           },
           {
            "bin_start": -3.7850872039805274,
            "bin_end": -3.685087203980528,
            "count": 0
           },
           {
            "bin_start": -3.685087203980528,
            "bin_end": -3.5850872039805277,
            "count": 0
           },
           {
            "bin_start": -3.5850872039805277,
            "bin_end": -3.4850872039805276,
            "count": 0
           },
           {
            "bin_start": -3.4850872039805276,
            "bin_end": -3.385087203980528,
            "count": 0
           },
           {
            "bin_start": -3.385087203980528,
            "bin_end": -3.285087203980528,
            "count": 0
           }
          ]
         }
        },
        {
         "name": "scaled_MD",
         "dtype": "float64",
         "stats": {
          "unique_count": 1,
          "nan_count": 0,
          "min": "-12.287322050099291",
          "max": "-12.287322050099291",
          "histogram": [
           {
            "bin_start": -12.787322050099291,
            "bin_end": -12.687322050099292,
            "count": 0
           },
           {
            "bin_start": -12.687322050099292,
            "bin_end": -12.587322050099292,
            "count": 0
           },
           {
            "bin_start": -12.587322050099292,
            "bin_end": -12.48732205009929,
            "count": 0
           },
           {
            "bin_start": -12.48732205009929,
            "bin_end": -12.387322050099291,
            "count": 0
           },
           {
            "bin_start": -12.387322050099291,
            "bin_end": -12.287322050099291,
            "count": 0
           },
           {
            "bin_start": -12.287322050099291,
            "bin_end": -12.187322050099292,
            "count": 1
           },
           {
            "bin_start": -12.187322050099292,
            "bin_end": -12.087322050099292,
            "count": 0
           },
           {
            "bin_start": -12.087322050099292,
            "bin_end": -11.98732205009929,
            "count": 0
           },
           {
            "bin_start": -11.98732205009929,
            "bin_end": -11.887322050099291,
            "count": 0
           },
           {
            "bin_start": -11.887322050099291,
            "bin_end": -11.787322050099291,
            "count": 0
           }
          ]
         }
        },
        {
         "name": "perm_est",
         "dtype": "float64",
         "stats": {
          "unique_count": 1,
          "nan_count": 0,
          "min": "8.098842283572864",
          "max": "8.098842283572864",
          "histogram": [
           {
            "bin_start": 7.598842283572864,
            "bin_end": 7.698842283572864,
            "count": 0
           },
           {
            "bin_start": 7.698842283572864,
            "bin_end": 7.798842283572864,
            "count": 0
           },
           {
            "bin_start": 7.798842283572864,
            "bin_end": 7.898842283572864,
            "count": 0
           },
           {
            "bin_start": 7.898842283572864,
            "bin_end": 7.9988422835728645,
            "count": 0
           },
           {
            "bin_start": 7.9988422835728645,
            "bin_end": 8.098842283572864,
            "count": 0
           },
           {
            "bin_start": 8.098842283572864,
            "bin_end": 8.198842283572864,
            "count": 1
           },
           {
            "bin_start": 8.198842283572864,
            "bin_end": 8.298842283572863,
            "count": 0
           },
           {
            "bin_start": 8.298842283572863,
            "bin_end": 8.398842283572865,
            "count": 0
           },
           {
            "bin_start": 8.398842283572865,
            "bin_end": 8.498842283572865,
            "count": 0
           },
           {
            "bin_start": 8.498842283572865,
            "bin_end": 8.598842283572864,
            "count": 0
           }
          ]
         }
        },
        {
         "name": "sum",
         "dtype": "float64",
         "stats": {
          "unique_count": 1,
          "nan_count": 0,
          "min": "39.829815138",
          "max": "39.829815138",
          "histogram": [
           {
            "bin_start": 39.329815138,
            "bin_end": 39.429815138,
            "count": 0
           },
           {
            "bin_start": 39.429815138,
            "bin_end": 39.529815138000004,
            "count": 0
           },
           {
            "bin_start": 39.529815138000004,
            "bin_end": 39.629815138,
            "count": 0
           },
           {
            "bin_start": 39.629815138,
            "bin_end": 39.729815138,
            "count": 0
           },
           {
            "bin_start": 39.729815138,
            "bin_end": 39.829815138,
            "count": 0
           },
           {
            "bin_start": 39.829815138,
            "bin_end": 39.929815138,
            "count": 1
           },
           {
            "bin_start": 39.929815138,
            "bin_end": 40.029815138000004,
            "count": 0
           },
           {
            "bin_start": 40.029815138000004,
            "bin_end": 40.129815138,
            "count": 0
           },
           {
            "bin_start": 40.129815138,
            "bin_end": 40.229815138,
            "count": 0
           },
           {
            "bin_start": 40.229815138,
            "bin_end": 40.329815138,
            "count": 0
           }
          ]
         }
        },
        {
         "name": "Well",
         "dtype": "object",
         "stats": {
          "unique_count": 1,
          "nan_count": 0,
          "categories": [
           {
            "name": "WP21",
            "count": 1
           }
          ]
         }
        },
        {
         "name": "diff_lower",
         "dtype": "float64",
         "stats": {
          "unique_count": 1,
          "nan_count": 0,
          "min": "74.60412434039245",
          "max": "74.60412434039245",
          "histogram": [
           {
            "bin_start": 74.10412434039245,
            "bin_end": 74.20412434039244,
            "count": 0
           },
           {
            "bin_start": 74.20412434039244,
            "bin_end": 74.30412434039245,
            "count": 0
           },
           {
            "bin_start": 74.30412434039245,
            "bin_end": 74.40412434039244,
            "count": 0
           },
           {
            "bin_start": 74.40412434039244,
            "bin_end": 74.50412434039245,
            "count": 0
           },
           {
            "bin_start": 74.50412434039245,
            "bin_end": 74.60412434039245,
            "count": 0
           },
           {
            "bin_start": 74.60412434039245,
            "bin_end": 74.70412434039244,
            "count": 1
           },
           {
            "bin_start": 74.70412434039244,
            "bin_end": 74.80412434039245,
            "count": 0
           },
           {
            "bin_start": 74.80412434039245,
            "bin_end": 74.90412434039244,
            "count": 0
           },
           {
            "bin_start": 74.90412434039244,
            "bin_end": 75.00412434039245,
            "count": 0
           },
           {
            "bin_start": 75.00412434039245,
            "bin_end": 75.10412434039245,
            "count": 0
           }
          ]
         }
        },
        {
         "name": "diff_upper",
         "dtype": "float64",
         "stats": {
          "unique_count": 1,
          "nan_count": 0,
          "min": "0.5555387042559232",
          "max": "0.5555387042559232",
          "histogram": [
           {
            "bin_start": 0.05553870425592322,
            "bin_end": 0.15553870425592323,
            "count": 0
           },
           {
            "bin_start": 0.15553870425592323,
            "bin_end": 0.25553870425592323,
            "count": 0
           },
           {
            "bin_start": 0.25553870425592323,
            "bin_end": 0.35553870425592327,
            "count": 0
           },
           {
            "bin_start": 0.35553870425592327,
            "bin_end": 0.45553870425592324,
            "count": 0
           },
           {
            "bin_start": 0.45553870425592324,
            "bin_end": 0.5555387042559232,
            "count": 0
           },
           {
            "bin_start": 0.5555387042559232,
            "bin_end": 0.6555387042559233,
            "count": 1
           },
           {
            "bin_start": 0.6555387042559233,
            "bin_end": 0.7555387042559233,
            "count": 0
           },
           {
            "bin_start": 0.7555387042559233,
            "bin_end": 0.8555387042559233,
            "count": 0
           },
           {
            "bin_start": 0.8555387042559233,
            "bin_end": 0.9555387042559232,
            "count": 0
           },
           {
            "bin_start": 0.9555387042559232,
            "bin_end": 1.0555387042559232,
            "count": 0
           }
          ]
         }
        },
        {
         "name": "_deepnote_index_column",
         "dtype": "int64"
        }
       ],
       "rows": [
        {
         "well_id": "WP21",
         "MD(ft)": 4533.95377112,
         "PORO(v/v)": 0.1331903432186584,
         "RHOB(g/cm3)": 2.391614475536532,
         "DTS(us/ft)": 135.14663290526263,
         "DT(us/ft)": 82.57428645059112,
         "PEF(B/E)": 4.559608190954942,
         "RD(OHMM)": 225.02862936244523,
         "RS(OHMM)": 428.77182387080114,
         "ROP": 19.509900748137078,
         "DENC(g/cm3)": 0.018168142531681,
         "NPHI(v/v)": 0.2329518263457789,
         "Zone": 0.5,
         "X": 121120.49000000014,
         "Y": 87804.64000000003,
         "Completion Zone": 1,
         "AI_lower(2012-01-01)": 6514.952718386025,
         "AI_upper(2012-01-01)": 6504.9031848107625,
         "AI_lower(2021-12-20)": 6589.556842726417,
         "AI_upper(2021-12-20)": 6505.458723515018,
         "scaled_X": -0.3834197790298984,
         "scaled_Y": -3.785087203980528,
         "scaled_MD": -12.287322050099291,
         "perm_est": 8.098842283572864,
         "sum": 39.829815138,
         "Well": "WP21",
         "diff_lower": 74.60412434039245,
         "diff_upper": 0.5555387042559232,
         "_deepnote_index_column": 13
        }
       ]
      },
      "text/plain": "   well_id       MD(ft)  PORO(v/v)  RHOB(g/cm3)  DTS(us/ft)  DT(us/ft)  \\\n13    WP21  4533.953771    0.13319     2.391614  135.146633  82.574286   \n\n    PEF(B/E)    RD(OHMM)    RS(OHMM)        ROP  ...  AI_lower(2021-12-20)  \\\n13  4.559608  225.028629  428.771824  19.509901  ...           6589.556843   \n\n    AI_upper(2021-12-20)  scaled_X  scaled_Y  scaled_MD  perm_est        sum  \\\n13           6505.458724  -0.38342 -3.785087 -12.287322  8.098842  39.829815   \n\n    Well  diff_lower  diff_upper  \n13  WP21   74.604124    0.555539  \n\n[1 rows x 28 columns]",
      "text/html": "<div>\n<style scoped>\n    .dataframe tbody tr th:only-of-type {\n        vertical-align: middle;\n    }\n\n    .dataframe tbody tr th {\n        vertical-align: top;\n    }\n\n    .dataframe thead th {\n        text-align: right;\n    }\n</style>\n<table border=\"1\" class=\"dataframe\">\n  <thead>\n    <tr style=\"text-align: right;\">\n      <th></th>\n      <th>well_id</th>\n      <th>MD(ft)</th>\n      <th>PORO(v/v)</th>\n      <th>RHOB(g/cm3)</th>\n      <th>DTS(us/ft)</th>\n      <th>DT(us/ft)</th>\n      <th>PEF(B/E)</th>\n      <th>RD(OHMM)</th>\n      <th>RS(OHMM)</th>\n      <th>ROP</th>\n      <th>...</th>\n      <th>AI_lower(2021-12-20)</th>\n      <th>AI_upper(2021-12-20)</th>\n      <th>scaled_X</th>\n      <th>scaled_Y</th>\n      <th>scaled_MD</th>\n      <th>perm_est</th>\n      <th>sum</th>\n      <th>Well</th>\n      <th>diff_lower</th>\n      <th>diff_upper</th>\n    </tr>\n  </thead>\n  <tbody>\n    <tr>\n      <th>13</th>\n      <td>WP21</td>\n      <td>4533.953771</td>\n      <td>0.13319</td>\n      <td>2.391614</td>\n      <td>135.146633</td>\n      <td>82.574286</td>\n      <td>4.559608</td>\n      <td>225.028629</td>\n      <td>428.771824</td>\n      <td>19.509901</td>\n      <td>...</td>\n      <td>6589.556843</td>\n      <td>6505.458724</td>\n      <td>-0.38342</td>\n      <td>-3.785087</td>\n      <td>-12.287322</td>\n      <td>8.098842</td>\n      <td>39.829815</td>\n      <td>WP21</td>\n      <td>74.604124</td>\n      <td>0.555539</td>\n    </tr>\n  </tbody>\n</table>\n<p>1 rows × 28 columns</p>\n</div>"
     },
     "metadata": {}
    }
   ]
  },
  {
   "cell_type": "code",
   "metadata": {
    "cell_id": "fb607d72134f49bbb112a69a689c4e68",
    "tags": [],
    "deepnote_to_be_reexecuted": true,
    "source_hash": "c572d509",
    "execution_start": 1648359839942,
    "execution_millis": 31,
    "deepnote_cell_type": "code",
    "deepnote_cell_height": 423
   },
   "source": "#### IRVIN PENALTY FUNCTION ####\ncumsum_matrix = pd.read_csv(\"/work/Carpe-Datum-2022/EDA_notebooks/cumsum.csv\") # From cumsum.csv\nwell_positional_df = pd.read_csv(\"/work/Carpe-Datum-2022/Well_Head_and_Completion.csv\") # From Well_Head_andCompletion.csv\n\ndef dis_func(x: float,\n             y: float,\n             rho: float,\n             date: str) -> float:\n    \"\"\"\n    Custom inverse polynomial function for penalties\n    \"\"\"\n\n    if date not in cumsum_matrix.index:\n        return 0\n    df = pd.concat([cumsum_matrix.loc[date], well_positional_df[[\"X(ft)\", \"Y(ft)\"]]], axis=1)\n\n    df[\"Distance\"] = df.apply(lambda row: ((row[\"X(ft)\"] - x) ** 2 + (row[\"Y(ft)\"] - y) ** 2) ** (1/2), axis=1)\n    df[\"Score\"] = df[date] / (df[\"Distance\"]) ** rho\n\n    return df[\"Score\"].sum()",
   "execution_count": null,
   "outputs": []
  },
  {
   "cell_type": "code",
   "metadata": {
    "cell_id": "4d38f69db23d4aa8a68e0e04624e3c3a",
    "tags": [],
    "deepnote_to_be_reexecuted": true,
    "source_hash": "de913dfe",
    "execution_start": 1648365567058,
    "execution_millis": 62,
    "deepnote_cell_type": "code",
    "deepnote_cell_height": 408.265625
   },
   "source": "ai.head()",
   "execution_count": null,
   "outputs": [
    {
     "output_type": "execute_result",
     "execution_count": 90,
     "data": {
      "application/vnd.deepnote.dataframe.v3+json": {
       "column_count": 6,
       "row_count": 5,
       "columns": [
        {
         "name": "X(ft)",
         "dtype": "float64",
         "stats": {
          "unique_count": 1,
          "nan_count": 0,
          "min": "109397.84",
          "max": "109397.84",
          "histogram": [
           {
            "bin_start": 109397.34,
            "bin_end": 109397.44,
            "count": 0
           },
           {
            "bin_start": 109397.44,
            "bin_end": 109397.54,
            "count": 0
           },
           {
            "bin_start": 109397.54,
            "bin_end": 109397.64,
            "count": 0
           },
           {
            "bin_start": 109397.64,
            "bin_end": 109397.73999999999,
            "count": 0
           },
           {
            "bin_start": 109397.73999999999,
            "bin_end": 109397.84,
            "count": 0
           },
           {
            "bin_start": 109397.84,
            "bin_end": 109397.94,
            "count": 5
           },
           {
            "bin_start": 109397.94,
            "bin_end": 109398.04,
            "count": 0
           },
           {
            "bin_start": 109398.04,
            "bin_end": 109398.14,
            "count": 0
           },
           {
            "bin_start": 109398.14,
            "bin_end": 109398.23999999999,
            "count": 0
           },
           {
            "bin_start": 109398.23999999999,
            "bin_end": 109398.34,
            "count": 0
           }
          ]
         }
        },
        {
         "name": "Y(ft)",
         "dtype": "float64",
         "stats": {
          "unique_count": 5,
          "nan_count": 0,
          "min": "98668.96",
          "max": "99193.76",
          "histogram": [
           {
            "bin_start": 98668.96,
            "bin_end": 98721.44,
            "count": 1
           },
           {
            "bin_start": 98721.44,
            "bin_end": 98773.92,
            "count": 0
           },
           {
            "bin_start": 98773.92,
            "bin_end": 98826.40000000001,
            "count": 1
           },
           {
            "bin_start": 98826.40000000001,
            "bin_end": 98878.88,
            "count": 0
           },
           {
            "bin_start": 98878.88,
            "bin_end": 98931.36,
            "count": 0
           },
           {
            "bin_start": 98931.36,
            "bin_end": 98983.84,
            "count": 1
           },
           {
            "bin_start": 98983.84,
            "bin_end": 99036.31999999999,
            "count": 0
           },
           {
            "bin_start": 99036.31999999999,
            "bin_end": 99088.8,
            "count": 1
           },
           {
            "bin_start": 99088.8,
            "bin_end": 99141.28,
            "count": 0
           },
           {
            "bin_start": 99141.28,
            "bin_end": 99193.76,
            "count": 1
           }
          ]
         }
        },
        {
         "name": "AI_lower(2012-01-01)",
         "dtype": "float64",
         "stats": {
          "unique_count": 5,
          "nan_count": 0,
          "min": "6245.484386698082",
          "max": "6247.270327429633",
          "histogram": [
           {
            "bin_start": 6245.484386698082,
            "bin_end": 6245.662980771237,
            "count": 1
           },
           {
            "bin_start": 6245.662980771237,
            "bin_end": 6245.841574844392,
            "count": 1
           },
           {
            "bin_start": 6245.841574844392,
            "bin_end": 6246.020168917547,
            "count": 0
           },
           {
            "bin_start": 6246.020168917547,
            "bin_end": 6246.198762990703,
            "count": 1
           },
           {
            "bin_start": 6246.198762990703,
            "bin_end": 6246.377357063857,
            "count": 0
           },
           {
            "bin_start": 6246.377357063857,
            "bin_end": 6246.555951137012,
            "count": 0
           },
           {
            "bin_start": 6246.555951137012,
            "bin_end": 6246.734545210167,
            "count": 1
           },
           {
            "bin_start": 6246.734545210167,
            "bin_end": 6246.913139283322,
            "count": 0
           },
           {
            "bin_start": 6246.913139283322,
            "bin_end": 6247.091733356478,
            "count": 0
           },
           {
            "bin_start": 6247.091733356478,
            "bin_end": 6247.270327429633,
            "count": 1
           }
          ]
         }
        },
        {
         "name": "AI_upper(2012-01-01)",
         "dtype": "float64",
         "stats": {
          "unique_count": 5,
          "nan_count": 0,
          "min": "6263.763219562921",
          "max": "6264.078733323661",
          "histogram": [
           {
            "bin_start": 6263.763219562921,
            "bin_end": 6263.7947709389955,
            "count": 1
           },
           {
            "bin_start": 6263.7947709389955,
            "bin_end": 6263.826322315069,
            "count": 0
           },
           {
            "bin_start": 6263.826322315069,
            "bin_end": 6263.857873691143,
            "count": 0
           },
           {
            "bin_start": 6263.857873691143,
            "bin_end": 6263.889425067217,
            "count": 0
           },
           {
            "bin_start": 6263.889425067217,
            "bin_end": 6263.920976443291,
            "count": 0
           },
           {
            "bin_start": 6263.920976443291,
            "bin_end": 6263.952527819365,
            "count": 1
           },
           {
            "bin_start": 6263.952527819365,
            "bin_end": 6263.984079195439,
            "count": 0
           },
           {
            "bin_start": 6263.984079195439,
            "bin_end": 6264.015630571514,
            "count": 0
           },
           {
            "bin_start": 6264.015630571514,
            "bin_end": 6264.047181947587,
            "count": 1
           },
           {
            "bin_start": 6264.047181947587,
            "bin_end": 6264.078733323661,
            "count": 2
           }
          ]
         }
        },
        {
         "name": "AI_lower(2021-12-20)",
         "dtype": "float64",
         "stats": {
          "unique_count": 5,
          "nan_count": 0,
          "min": "6248.696838193495",
          "max": "6251.242820892494",
          "histogram": [
           {
            "bin_start": 6248.696838193495,
            "bin_end": 6248.951436463395,
            "count": 1
           },
           {
            "bin_start": 6248.951436463395,
            "bin_end": 6249.2060347332945,
            "count": 1
           },
           {
            "bin_start": 6249.2060347332945,
            "bin_end": 6249.460633003195,
            "count": 0
           },
           {
            "bin_start": 6249.460633003195,
            "bin_end": 6249.715231273094,
            "count": 1
           },
           {
            "bin_start": 6249.715231273094,
            "bin_end": 6249.969829542994,
            "count": 0
           },
           {
            "bin_start": 6249.969829542994,
            "bin_end": 6250.224427812895,
            "count": 0
           },
           {
            "bin_start": 6250.224427812895,
            "bin_end": 6250.479026082794,
            "count": 1
           },
           {
            "bin_start": 6250.479026082794,
            "bin_end": 6250.733624352694,
            "count": 0
           },
           {
            "bin_start": 6250.733624352694,
            "bin_end": 6250.988222622594,
            "count": 0
           },
           {
            "bin_start": 6250.988222622594,
            "bin_end": 6251.242820892494,
            "count": 1
           }
          ]
         }
        },
        {
         "name": "AI_upper(2021-12-20)",
         "dtype": "float64",
         "stats": {
          "unique_count": 5,
          "nan_count": 0,
          "min": "6289.006320671458",
          "max": "6289.653108632243",
          "histogram": [
           {
            "bin_start": 6289.006320671458,
            "bin_end": 6289.070999467536,
            "count": 1
           },
           {
            "bin_start": 6289.070999467536,
            "bin_end": 6289.135678263615,
            "count": 0
           },
           {
            "bin_start": 6289.135678263615,
            "bin_end": 6289.2003570596935,
            "count": 0
           },
           {
            "bin_start": 6289.2003570596935,
            "bin_end": 6289.265035855772,
            "count": 0
           },
           {
            "bin_start": 6289.265035855772,
            "bin_end": 6289.329714651851,
            "count": 0
           },
           {
            "bin_start": 6289.329714651851,
            "bin_end": 6289.394393447928,
            "count": 1
           },
           {
            "bin_start": 6289.394393447928,
            "bin_end": 6289.459072244007,
            "count": 0
           },
           {
            "bin_start": 6289.459072244007,
            "bin_end": 6289.523751040086,
            "count": 1
           },
           {
            "bin_start": 6289.523751040086,
            "bin_end": 6289.588429836164,
            "count": 0
           },
           {
            "bin_start": 6289.588429836164,
            "bin_end": 6289.653108632243,
            "count": 2
           }
          ]
         }
        },
        {
         "name": "_deepnote_index_column",
         "dtype": "int64"
        }
       ],
       "rows": [
        {
         "X(ft)": 109397.84,
         "Y(ft)": 99193.76,
         "AI_lower(2012-01-01)": 6245.484386698082,
         "AI_upper(2012-01-01)": 6263.763219562921,
         "AI_lower(2021-12-20)": 6248.696838193495,
         "AI_upper(2021-12-20)": 6289.521003686412,
         "_deepnote_index_column": 0
        },
        {
         "X(ft)": 109397.84,
         "Y(ft)": 99062.56,
         "AI_lower(2012-01-01)": 6245.727488475491,
         "AI_upper(2012-01-01)": 6263.944839757895,
         "AI_lower(2021-12-20)": 6249.058046500353,
         "AI_upper(2021-12-20)": 6289.653108632243,
         "_deepnote_index_column": 1
        },
        {
         "X(ft)": 109397.84,
         "Y(ft)": 98931.36,
         "AI_lower(2012-01-01)": 6246.111283137845,
         "AI_upper(2012-01-01)": 6264.050486903474,
         "AI_lower(2021-12-20)": 6249.6034333885855,
         "AI_upper(2021-12-20)": 6289.605360514897,
         "_deepnote_index_column": 2
        },
        {
         "X(ft)": 109397.84,
         "Y(ft)": 98800.16,
         "AI_lower(2012-01-01)": 6246.627959220024,
         "AI_upper(2012-01-01)": 6264.078733323661,
         "AI_lower(2021-12-20)": 6250.330979849299,
         "AI_upper(2021-12-20)": 6289.386005437875,
         "_deepnote_index_column": 3
        },
        {
         "X(ft)": 109397.84,
         "Y(ft)": 98668.96,
         "AI_lower(2012-01-01)": 6247.270327429633,
         "AI_upper(2012-01-01)": 6264.039095753256,
         "AI_lower(2021-12-20)": 6251.242820892494,
         "AI_upper(2021-12-20)": 6289.006320671458,
         "_deepnote_index_column": 4
        }
       ]
      },
      "text/plain": "       X(ft)     Y(ft)  AI_lower(2012-01-01)  AI_upper(2012-01-01)  \\\n0  109397.84  99193.76           6245.484387           6263.763220   \n1  109397.84  99062.56           6245.727488           6263.944840   \n2  109397.84  98931.36           6246.111283           6264.050487   \n3  109397.84  98800.16           6246.627959           6264.078733   \n4  109397.84  98668.96           6247.270327           6264.039096   \n\n   AI_lower(2021-12-20)  AI_upper(2021-12-20)  \n0           6248.696838           6289.521004  \n1           6249.058047           6289.653109  \n2           6249.603433           6289.605361  \n3           6250.330980           6289.386005  \n4           6251.242821           6289.006321  ",
      "text/html": "<div>\n<style scoped>\n    .dataframe tbody tr th:only-of-type {\n        vertical-align: middle;\n    }\n\n    .dataframe tbody tr th {\n        vertical-align: top;\n    }\n\n    .dataframe thead th {\n        text-align: right;\n    }\n</style>\n<table border=\"1\" class=\"dataframe\">\n  <thead>\n    <tr style=\"text-align: right;\">\n      <th></th>\n      <th>X(ft)</th>\n      <th>Y(ft)</th>\n      <th>AI_lower(2012-01-01)</th>\n      <th>AI_upper(2012-01-01)</th>\n      <th>AI_lower(2021-12-20)</th>\n      <th>AI_upper(2021-12-20)</th>\n    </tr>\n  </thead>\n  <tbody>\n    <tr>\n      <th>0</th>\n      <td>109397.84</td>\n      <td>99193.76</td>\n      <td>6245.484387</td>\n      <td>6263.763220</td>\n      <td>6248.696838</td>\n      <td>6289.521004</td>\n    </tr>\n    <tr>\n      <th>1</th>\n      <td>109397.84</td>\n      <td>99062.56</td>\n      <td>6245.727488</td>\n      <td>6263.944840</td>\n      <td>6249.058047</td>\n      <td>6289.653109</td>\n    </tr>\n    <tr>\n      <th>2</th>\n      <td>109397.84</td>\n      <td>98931.36</td>\n      <td>6246.111283</td>\n      <td>6264.050487</td>\n      <td>6249.603433</td>\n      <td>6289.605361</td>\n    </tr>\n    <tr>\n      <th>3</th>\n      <td>109397.84</td>\n      <td>98800.16</td>\n      <td>6246.627959</td>\n      <td>6264.078733</td>\n      <td>6250.330980</td>\n      <td>6289.386005</td>\n    </tr>\n    <tr>\n      <th>4</th>\n      <td>109397.84</td>\n      <td>98668.96</td>\n      <td>6247.270327</td>\n      <td>6264.039096</td>\n      <td>6251.242821</td>\n      <td>6289.006321</td>\n    </tr>\n  </tbody>\n</table>\n</div>"
     },
     "metadata": {}
    }
   ]
  },
  {
   "cell_type": "code",
   "source": "wells = pd.read_csv('/work/Carpe-Datum-2022/Well_Head_and_Completion.csv')\nwm = pd.read_csv('/work/Carpe-Datum-2022/Well_Log/WELL_MASTER_AI.csv')\nwells = wells.merge(wm, how='left', left_on='WELL', right_on='well_id',).drop_duplicates('WELL')\nnew = pd.read_csv('new_df2.csv')\nwells = wells.merge(new, how='left', left_on='WELL', right_on='Unnamed: 0', suffixes=(None,'_y'))\nwells['line'] = -.29*wells['Y(ft)']+154670\ntime = pd.read_csv('/work/Carpe-Datum-2022/Production_History_Field.csv')\nz = pd.DataFrame()\nz['Start Date'] = time['Date'].iloc[time.drop('Date',axis=1).ne(0).idxmax()]\nz['Well'] = time.drop('Date', axis=1).columns\nz['Well'] = z['Well'].str.replace('WOPR:','').str.replace('\\(bbl/day\\)','')\nz['Age'] = (pd.to_datetime('today') - pd.to_datetime(z['Start Date'])).dt.days\nwells = wells.merge(z, how='left', left_on='WELL', right_on='Well')\n\ndata = pd.read_csv('/work/Carpe-Datum-2022/Well_Log/WELL_MASTER_AVG.csv')\ndata2 = pd.read_csv('/work/Carpe-Datum-2022/EDA_notebooks/two_year_forecast.csv')\ndata2['Well'] = data2['Unnamed: 0'].str.replace('WOPR:','').str.replace('\\(bbl/day\\)','')\ndata = data.merge(data2[['sum','Well']], left_on='well_id', right_on='Well')\ndata['diff_lower'] = data['AI_lower(2021-12-20)'] - data['AI_lower(2012-01-01)']\ndata['diff_upper'] = data['AI_upper(2021-12-20)'] - data['AI_upper(2012-01-01)']\ndata['log_sum'] = np.log(data['sum'])\n\nfrom sklearn.linear_model import LinearRegression\nfrom sklearn.model_selection import cross_val_score, cross_validate, GridSearchCV, KFold\nfrom sklearn.pipeline import make_pipeline\nfrom sklearn.decomposition import PCA\nfrom sklearn.preprocessing import StandardScaler, PolynomialFeatures\nfrom sklearn.ensemble import RandomForestRegressor\nfrom sklearn.neighbors import KNeighborsRegressor, RadiusNeighborsRegressor",
   "metadata": {
    "cell_id": "dac3c1c5ccdd4494a34264fab2cb5daa",
    "tags": [],
    "deepnote_to_be_reexecuted": false,
    "source_hash": "b68dd326",
    "execution_start": 1648388611302,
    "execution_millis": 370,
    "deepnote_cell_type": "code",
    "deepnote_cell_height": 755.359375
   },
   "outputs": [
    {
     "name": "stderr",
     "text": "/shared-libs/python3.7/py-core/lib/python3.7/site-packages/ipykernel_launcher.py:11: FutureWarning:\n\nThe default value of regex will change from True to False in a future version.\n\n/shared-libs/python3.7/py-core/lib/python3.7/site-packages/ipykernel_launcher.py:17: FutureWarning:\n\nThe default value of regex will change from True to False in a future version.\n\n",
     "output_type": "stream"
    }
   ],
   "execution_count": 11
  },
  {
   "cell_type": "code",
   "metadata": {
    "cell_id": "13fd2b1e18ee4a67974f37eef5156c74",
    "tags": [],
    "deepnote_to_be_reexecuted": false,
    "source_hash": "211171f3",
    "execution_start": 1648389057696,
    "execution_millis": 0,
    "deepnote_cell_type": "code",
    "deepnote_cell_height": 1593,
    "deepnote_output_heights": [
     193.921875
    ]
   },
   "source": "from sklearn.metrics import mean_squared_error\nimport scipy.interpolate as interpolate\nimport time\n\ndef validate(model, features):\n    tot_mae = 0\n    ai = pd.read_csv('/work/Carpe-Datum-2022/AI.csv')\n    ai = ai.rename({'X(ft)':'X','Y(ft)':'Y'}, axis=1)\n    for i, well in enumerate(data['Well']):\n        d = data[data['Well'] != well] #the data without the current well\n        dd = data[data['Well'] == well] #the current well to predict\n        model.fit(d[features], d['log_sum']) #predict well prod based on features \n        to_predict = pd.Series()\n\n        for feature in features: #iterate through each feature\n            print(feature)\n            #print(feature)\n            #if the feature is one of the precalculated well features \n            #t1 = time.time()\n            if feature in ['X', 'Y', 'AI_lower(2012-01-01)', 'AI_upper(2012-01-01)', 'AI_lower(2021-12-20)', 'AI_upper(2021-12-20)']:\n                to_predict[feature] = dd.iloc[0][feature]\n                continue\n            #if its the difference in acoustic impedence from the lower set\n            if feature == 'diff_lower':\n                ai['diff_lower'] = ai['AI_lower(2021-12-20)'] - ai['AI_lower(2012-01-01)']\n                to_predict[feature] = interpolate.griddata(ai[['X','Y']], ai[feature], dd[dd['Well'] == well].iloc[0][['X','Y']],method='linear')\n                continue\n            #if its the difference from the upper set\n            if feature == 'diff_upper':\n                ai['diff_upper'] = ai['AI_upper(2021-12-20)'] - ai['AI_upper(2012-01-01)']\n                to_predict[feature] = interpolate.griddata(ai[['X','Y']], ai[feature], dd[dd['Well'] == well].iloc[0][['X','Y']],method='linear')\n                continue\n            #if the feature is the zone (we make all predictions in zone 0)\n            if feature == 'Zone':\n                ai['Zone'] = 0\n                to_predict['Zone'] = 0\n                continue\n            \n            #t2 = time.time()\n            #print(t2-t1)\n\n            if i == 0:\n                knn = KNeighborsRegressor(n_neighbors=10, weights = 'distance')\n                knn.fit(d[['X','Y']], d[[feature]])\n                ai[feature] = interpolate.griddata(data[['X','Y']], data[feature], ai[['X','Y']],method='linear')\n                for i in range(len(ai[feature])):\n                    if np.isnan(ai.loc[i][feature]):\n                        results = knn.predict(dd[['X','Y']])[0]\n                        ai.loc[i][feature] = results[0]\n            print(i)\n\n            to_predict[feature] = interpolate.griddata(d[['X','Y']], d[feature], data[data['Well'] == well].iloc[0][['X','Y']],method='linear')[0]\n            \n            if np.isnan(to_predict[feature]):\n                knn = KNeighborsRegressor(n_neighbors=2, weights = 'distance')\n                knn.fit(d[['X','Y']], d[[feature]])\n                results = knn.predict(dd[['X','Y']])[0]\n                to_predict[feature] = results[0]\n            print(to_predict)\n            \n            #print(feature)\n        pred = np.exp(model.predict(to_predict.to_numpy().reshape(1,-1)))\n        #pred = np.exp(model.predict(dd.iloc[0][features].to_numpy().reshape(1,-1)))\n        #print(pred)\n        tot_mae += 100/48*np.abs((pred[0] - data[data['Well'] == well].iloc[0]['sum']) / data[data['Well'] == well].iloc[0]['sum'])\n\n    t = np.linspace(75000, 97500, 100)\n    fault = -.29*t + 154670\n\n    plt.figure(figsize=(23,20))\n    ai['pred'] = np.exp(model.predict(ai[features]))\n    #plt.scatter(sum_interp['Y'], sum_interp['X'], c=sum_interp['PORO(v/v)'], )\n    plt.scatter(ai['Y'], ai['X'], c=ai['PORO(v/v)'], )\n    mynorm = plt.Normalize(vmin=0, vmax=100000)\n    plt.colorbar(norm=mynorm)\n    uppers = wells\n    plt.scatter(uppers['Y(ft)'], uppers['X(ft)'], s=50, c='black', cmap='gray')\n\n    plt.title('Prediction', fontsize=30)\n    plt.xlabel(\"Y(ft)\", fontsize=20)\n    plt.ylabel(\"X(ft)\", fontsize=20)\n    plt.scatter(t, fault, s=5, c='black', marker='x', label='faultline')\n    plt.show()\n\n    return tot_mae / data['Well'].shape[0]",
   "execution_count": 27,
   "outputs": []
  },
  {
   "cell_type": "code",
   "metadata": {
    "cell_id": "6e18a8ce4cae42e594aadf3e0b298d6e",
    "tags": [],
    "deepnote_to_be_reexecuted": false,
    "source_hash": "c549eb69",
    "execution_start": 1648389060634,
    "execution_millis": 34450,
    "deepnote_table_state": {
     "pageSize": 10,
     "pageIndex": 3,
     "filters": [],
     "sortBy": []
    },
    "deepnote_table_loading": false,
    "deepnote_table_invalid": false,
    "deepnote_cell_type": "code",
    "deepnote_cell_height": 921,
    "deepnote_output_heights": [
     null,
     606.625,
     21.1875
    ]
   },
   "source": "from sklearn.dummy import DummyRegressor\nnp.random.seed(99998)\n\n#make_pipeline(PolynomialFeatures(), LinearRegression())\nz=validate(RandomForestRegressor(), ['AI_lower(2012-01-01)','AI_upper(2012-01-01)','AI_upper(2021-12-20)','AI_lower(2021-12-20)','X','Y','PORO(v/v)'])\nprint(z)",
   "execution_count": 28,
   "outputs": [
    {
     "name": "stderr",
     "text": "/shared-libs/python3.7/py-core/lib/python3.7/site-packages/ipykernel_launcher.py:13: DeprecationWarning:\n\nThe default dtype for empty Series will be 'object' instead of 'float64' in a future version. Specify a dtype explicitly to silence this warning.\n\nAI_lower(2012-01-01)\nAI_upper(2012-01-01)\nAI_upper(2021-12-20)\nAI_lower(2021-12-20)\nX\nY\nPORO(v/v)\n",
     "output_type": "stream"
    },
    {
     "output_type": "error",
     "ename": "KeyboardInterrupt",
     "evalue": "",
     "traceback": [
      "\u001b[0;31m---------------------------------------------------------------------------\u001b[0m",
      "\u001b[0;31mKeyboardInterrupt\u001b[0m                         Traceback (most recent call last)",
      "\u001b[0;32m<ipython-input-28-5955c8839604>\u001b[0m in \u001b[0;36m<module>\u001b[0;34m\u001b[0m\n\u001b[1;32m      4\u001b[0m \u001b[0;34m\u001b[0m\u001b[0m\n\u001b[1;32m      5\u001b[0m \u001b[0;31m#make_pipeline(PolynomialFeatures(), LinearRegression())\u001b[0m\u001b[0;34m\u001b[0m\u001b[0;34m\u001b[0m\u001b[0;34m\u001b[0m\u001b[0m\n\u001b[0;32m----> 6\u001b[0;31m \u001b[0mz\u001b[0m\u001b[0;34m=\u001b[0m\u001b[0mvalidate\u001b[0m\u001b[0;34m(\u001b[0m\u001b[0mRandomForestRegressor\u001b[0m\u001b[0;34m(\u001b[0m\u001b[0;34m)\u001b[0m\u001b[0;34m,\u001b[0m \u001b[0;34m[\u001b[0m\u001b[0;34m'AI_lower(2012-01-01)'\u001b[0m\u001b[0;34m,\u001b[0m\u001b[0;34m'AI_upper(2012-01-01)'\u001b[0m\u001b[0;34m,\u001b[0m\u001b[0;34m'AI_upper(2021-12-20)'\u001b[0m\u001b[0;34m,\u001b[0m\u001b[0;34m'AI_lower(2021-12-20)'\u001b[0m\u001b[0;34m,\u001b[0m\u001b[0;34m'X'\u001b[0m\u001b[0;34m,\u001b[0m\u001b[0;34m'Y'\u001b[0m\u001b[0;34m,\u001b[0m\u001b[0;34m'PORO(v/v)'\u001b[0m\u001b[0;34m]\u001b[0m\u001b[0;34m)\u001b[0m\u001b[0;34m\u001b[0m\u001b[0;34m\u001b[0m\u001b[0m\n\u001b[0m\u001b[1;32m      7\u001b[0m \u001b[0mprint\u001b[0m\u001b[0;34m(\u001b[0m\u001b[0mz\u001b[0m\u001b[0;34m)\u001b[0m\u001b[0;34m\u001b[0m\u001b[0;34m\u001b[0m\u001b[0m\n",
      "\u001b[0;32m<ipython-input-27-194a8a8691b3>\u001b[0m in \u001b[0;36mvalidate\u001b[0;34m(model, features)\u001b[0m\n\u001b[1;32m     46\u001b[0m                 \u001b[0;32mfor\u001b[0m \u001b[0mi\u001b[0m \u001b[0;32min\u001b[0m \u001b[0mrange\u001b[0m\u001b[0;34m(\u001b[0m\u001b[0mlen\u001b[0m\u001b[0;34m(\u001b[0m\u001b[0mai\u001b[0m\u001b[0;34m[\u001b[0m\u001b[0mfeature\u001b[0m\u001b[0;34m]\u001b[0m\u001b[0;34m)\u001b[0m\u001b[0;34m)\u001b[0m\u001b[0;34m:\u001b[0m\u001b[0;34m\u001b[0m\u001b[0;34m\u001b[0m\u001b[0m\n\u001b[1;32m     47\u001b[0m                     \u001b[0;32mif\u001b[0m \u001b[0mnp\u001b[0m\u001b[0;34m.\u001b[0m\u001b[0misnan\u001b[0m\u001b[0;34m(\u001b[0m\u001b[0mai\u001b[0m\u001b[0;34m.\u001b[0m\u001b[0mloc\u001b[0m\u001b[0;34m[\u001b[0m\u001b[0mi\u001b[0m\u001b[0;34m]\u001b[0m\u001b[0;34m[\u001b[0m\u001b[0mfeature\u001b[0m\u001b[0;34m]\u001b[0m\u001b[0;34m)\u001b[0m\u001b[0;34m:\u001b[0m\u001b[0;34m\u001b[0m\u001b[0;34m\u001b[0m\u001b[0m\n\u001b[0;32m---> 48\u001b[0;31m                         \u001b[0mresults\u001b[0m \u001b[0;34m=\u001b[0m \u001b[0mknn\u001b[0m\u001b[0;34m.\u001b[0m\u001b[0mpredict\u001b[0m\u001b[0;34m(\u001b[0m\u001b[0mdd\u001b[0m\u001b[0;34m[\u001b[0m\u001b[0;34m[\u001b[0m\u001b[0;34m'X'\u001b[0m\u001b[0;34m,\u001b[0m\u001b[0;34m'Y'\u001b[0m\u001b[0;34m]\u001b[0m\u001b[0;34m]\u001b[0m\u001b[0;34m)\u001b[0m\u001b[0;34m[\u001b[0m\u001b[0;36m0\u001b[0m\u001b[0;34m]\u001b[0m\u001b[0;34m\u001b[0m\u001b[0;34m\u001b[0m\u001b[0m\n\u001b[0m\u001b[1;32m     49\u001b[0m                         \u001b[0mai\u001b[0m\u001b[0;34m.\u001b[0m\u001b[0mloc\u001b[0m\u001b[0;34m[\u001b[0m\u001b[0mi\u001b[0m\u001b[0;34m]\u001b[0m\u001b[0;34m[\u001b[0m\u001b[0mfeature\u001b[0m\u001b[0;34m]\u001b[0m \u001b[0;34m=\u001b[0m \u001b[0mresults\u001b[0m\u001b[0;34m[\u001b[0m\u001b[0;36m0\u001b[0m\u001b[0;34m]\u001b[0m\u001b[0;34m\u001b[0m\u001b[0;34m\u001b[0m\u001b[0m\n\u001b[1;32m     50\u001b[0m             \u001b[0mprint\u001b[0m\u001b[0;34m(\u001b[0m\u001b[0mi\u001b[0m\u001b[0;34m)\u001b[0m\u001b[0;34m\u001b[0m\u001b[0;34m\u001b[0m\u001b[0m\n",
      "\u001b[0;32m/shared-libs/python3.7/py/lib/python3.7/site-packages/pandas/core/frame.py\u001b[0m in \u001b[0;36m__getitem__\u001b[0;34m(self, key)\u001b[0m\n\u001b[1;32m   3028\u001b[0m             \u001b[0;32mif\u001b[0m \u001b[0mis_iterator\u001b[0m\u001b[0;34m(\u001b[0m\u001b[0mkey\u001b[0m\u001b[0;34m)\u001b[0m\u001b[0;34m:\u001b[0m\u001b[0;34m\u001b[0m\u001b[0;34m\u001b[0m\u001b[0m\n\u001b[1;32m   3029\u001b[0m                 \u001b[0mkey\u001b[0m \u001b[0;34m=\u001b[0m \u001b[0mlist\u001b[0m\u001b[0;34m(\u001b[0m\u001b[0mkey\u001b[0m\u001b[0;34m)\u001b[0m\u001b[0;34m\u001b[0m\u001b[0;34m\u001b[0m\u001b[0m\n\u001b[0;32m-> 3030\u001b[0;31m             \u001b[0mindexer\u001b[0m \u001b[0;34m=\u001b[0m \u001b[0mself\u001b[0m\u001b[0;34m.\u001b[0m\u001b[0mloc\u001b[0m\u001b[0;34m.\u001b[0m\u001b[0m_get_listlike_indexer\u001b[0m\u001b[0;34m(\u001b[0m\u001b[0mkey\u001b[0m\u001b[0;34m,\u001b[0m \u001b[0maxis\u001b[0m\u001b[0;34m=\u001b[0m\u001b[0;36m1\u001b[0m\u001b[0;34m,\u001b[0m \u001b[0mraise_missing\u001b[0m\u001b[0;34m=\u001b[0m\u001b[0;32mTrue\u001b[0m\u001b[0;34m)\u001b[0m\u001b[0;34m[\u001b[0m\u001b[0;36m1\u001b[0m\u001b[0;34m]\u001b[0m\u001b[0;34m\u001b[0m\u001b[0;34m\u001b[0m\u001b[0m\n\u001b[0m\u001b[1;32m   3031\u001b[0m \u001b[0;34m\u001b[0m\u001b[0m\n\u001b[1;32m   3032\u001b[0m         \u001b[0;31m# take() does not accept boolean indexers\u001b[0m\u001b[0;34m\u001b[0m\u001b[0;34m\u001b[0m\u001b[0;34m\u001b[0m\u001b[0m\n",
      "\u001b[0;32m/shared-libs/python3.7/py/lib/python3.7/site-packages/pandas/core/indexing.py\u001b[0m in \u001b[0;36m_get_listlike_indexer\u001b[0;34m(self, key, axis, raise_missing)\u001b[0m\n\u001b[1;32m   1259\u001b[0m \u001b[0;34m\u001b[0m\u001b[0m\n\u001b[1;32m   1260\u001b[0m         \u001b[0;32mif\u001b[0m \u001b[0max\u001b[0m\u001b[0;34m.\u001b[0m\u001b[0m_index_as_unique\u001b[0m\u001b[0;34m:\u001b[0m\u001b[0;34m\u001b[0m\u001b[0;34m\u001b[0m\u001b[0m\n\u001b[0;32m-> 1261\u001b[0;31m             \u001b[0mindexer\u001b[0m \u001b[0;34m=\u001b[0m \u001b[0max\u001b[0m\u001b[0;34m.\u001b[0m\u001b[0mget_indexer_for\u001b[0m\u001b[0;34m(\u001b[0m\u001b[0mkeyarr\u001b[0m\u001b[0;34m)\u001b[0m\u001b[0;34m\u001b[0m\u001b[0;34m\u001b[0m\u001b[0m\n\u001b[0m\u001b[1;32m   1262\u001b[0m             \u001b[0mkeyarr\u001b[0m \u001b[0;34m=\u001b[0m \u001b[0max\u001b[0m\u001b[0;34m.\u001b[0m\u001b[0mreindex\u001b[0m\u001b[0;34m(\u001b[0m\u001b[0mkeyarr\u001b[0m\u001b[0;34m)\u001b[0m\u001b[0;34m[\u001b[0m\u001b[0;36m0\u001b[0m\u001b[0;34m]\u001b[0m\u001b[0;34m\u001b[0m\u001b[0;34m\u001b[0m\u001b[0m\n\u001b[1;32m   1263\u001b[0m         \u001b[0;32melse\u001b[0m\u001b[0;34m:\u001b[0m\u001b[0;34m\u001b[0m\u001b[0;34m\u001b[0m\u001b[0m\n",
      "\u001b[0;32m/shared-libs/python3.7/py/lib/python3.7/site-packages/pandas/core/indexes/base.py\u001b[0m in \u001b[0;36mget_indexer_for\u001b[0;34m(self, target, **kwargs)\u001b[0m\n\u001b[1;32m   4959\u001b[0m         \"\"\"\n\u001b[1;32m   4960\u001b[0m         \u001b[0;32mif\u001b[0m \u001b[0mself\u001b[0m\u001b[0;34m.\u001b[0m\u001b[0m_index_as_unique\u001b[0m\u001b[0;34m:\u001b[0m\u001b[0;34m\u001b[0m\u001b[0;34m\u001b[0m\u001b[0m\n\u001b[0;32m-> 4961\u001b[0;31m             \u001b[0;32mreturn\u001b[0m \u001b[0mself\u001b[0m\u001b[0;34m.\u001b[0m\u001b[0mget_indexer\u001b[0m\u001b[0;34m(\u001b[0m\u001b[0mtarget\u001b[0m\u001b[0;34m,\u001b[0m \u001b[0;34m**\u001b[0m\u001b[0mkwargs\u001b[0m\u001b[0;34m)\u001b[0m\u001b[0;34m\u001b[0m\u001b[0;34m\u001b[0m\u001b[0m\n\u001b[0m\u001b[1;32m   4962\u001b[0m         \u001b[0mindexer\u001b[0m\u001b[0;34m,\u001b[0m \u001b[0m_\u001b[0m \u001b[0;34m=\u001b[0m \u001b[0mself\u001b[0m\u001b[0;34m.\u001b[0m\u001b[0mget_indexer_non_unique\u001b[0m\u001b[0;34m(\u001b[0m\u001b[0mtarget\u001b[0m\u001b[0;34m)\u001b[0m\u001b[0;34m\u001b[0m\u001b[0;34m\u001b[0m\u001b[0m\n\u001b[1;32m   4963\u001b[0m         \u001b[0;32mreturn\u001b[0m \u001b[0mindexer\u001b[0m\u001b[0;34m\u001b[0m\u001b[0;34m\u001b[0m\u001b[0m\n",
      "\u001b[0;32m/shared-libs/python3.7/py/lib/python3.7/site-packages/pandas/core/indexes/base.py\u001b[0m in \u001b[0;36mget_indexer\u001b[0;34m(self, target, method, limit, tolerance)\u001b[0m\n\u001b[1;32m   3146\u001b[0m     ) -> np.ndarray:\n\u001b[1;32m   3147\u001b[0m         \u001b[0mmethod\u001b[0m \u001b[0;34m=\u001b[0m \u001b[0mmissing\u001b[0m\u001b[0;34m.\u001b[0m\u001b[0mclean_reindex_fill_method\u001b[0m\u001b[0;34m(\u001b[0m\u001b[0mmethod\u001b[0m\u001b[0;34m)\u001b[0m\u001b[0;34m\u001b[0m\u001b[0;34m\u001b[0m\u001b[0m\n\u001b[0;32m-> 3148\u001b[0;31m         \u001b[0mtarget\u001b[0m \u001b[0;34m=\u001b[0m \u001b[0mensure_index\u001b[0m\u001b[0;34m(\u001b[0m\u001b[0mtarget\u001b[0m\u001b[0;34m)\u001b[0m\u001b[0;34m\u001b[0m\u001b[0;34m\u001b[0m\u001b[0m\n\u001b[0m\u001b[1;32m   3149\u001b[0m         \u001b[0;32mif\u001b[0m \u001b[0mtolerance\u001b[0m \u001b[0;32mis\u001b[0m \u001b[0;32mnot\u001b[0m \u001b[0;32mNone\u001b[0m\u001b[0;34m:\u001b[0m\u001b[0;34m\u001b[0m\u001b[0;34m\u001b[0m\u001b[0m\n\u001b[1;32m   3150\u001b[0m             \u001b[0mtolerance\u001b[0m \u001b[0;34m=\u001b[0m \u001b[0mself\u001b[0m\u001b[0;34m.\u001b[0m\u001b[0m_convert_tolerance\u001b[0m\u001b[0;34m(\u001b[0m\u001b[0mtolerance\u001b[0m\u001b[0;34m,\u001b[0m \u001b[0mtarget\u001b[0m\u001b[0;34m)\u001b[0m\u001b[0;34m\u001b[0m\u001b[0;34m\u001b[0m\u001b[0m\n",
      "\u001b[0;32m/shared-libs/python3.7/py/lib/python3.7/site-packages/pandas/core/indexes/base.py\u001b[0m in \u001b[0;36mensure_index\u001b[0;34m(index_like, copy)\u001b[0m\n\u001b[1;32m   5916\u001b[0m             \u001b[0mindex_like\u001b[0m \u001b[0;34m=\u001b[0m \u001b[0mcopy_func\u001b[0m\u001b[0;34m(\u001b[0m\u001b[0mindex_like\u001b[0m\u001b[0;34m)\u001b[0m\u001b[0;34m\u001b[0m\u001b[0;34m\u001b[0m\u001b[0m\n\u001b[1;32m   5917\u001b[0m \u001b[0;34m\u001b[0m\u001b[0m\n\u001b[0;32m-> 5918\u001b[0;31m     \u001b[0;32mreturn\u001b[0m \u001b[0mIndex\u001b[0m\u001b[0;34m(\u001b[0m\u001b[0mindex_like\u001b[0m\u001b[0;34m)\u001b[0m\u001b[0;34m\u001b[0m\u001b[0;34m\u001b[0m\u001b[0m\n\u001b[0m\u001b[1;32m   5919\u001b[0m \u001b[0;34m\u001b[0m\u001b[0m\n\u001b[1;32m   5920\u001b[0m \u001b[0;34m\u001b[0m\u001b[0m\n",
      "\u001b[0;32m/shared-libs/python3.7/py/lib/python3.7/site-packages/pandas/core/indexes/base.py\u001b[0m in \u001b[0;36m__new__\u001b[0;34m(cls, data, dtype, copy, name, tupleize_cols, **kwargs)\u001b[0m\n\u001b[1;32m    276\u001b[0m \u001b[0;34m\u001b[0m\u001b[0m\n\u001b[1;32m    277\u001b[0m         \u001b[0;31m# categorical\u001b[0m\u001b[0;34m\u001b[0m\u001b[0;34m\u001b[0m\u001b[0;34m\u001b[0m\u001b[0m\n\u001b[0;32m--> 278\u001b[0;31m         \u001b[0;32melif\u001b[0m \u001b[0mis_categorical_dtype\u001b[0m\u001b[0;34m(\u001b[0m\u001b[0mdata_dtype\u001b[0m\u001b[0;34m)\u001b[0m \u001b[0;32mor\u001b[0m \u001b[0mis_categorical_dtype\u001b[0m\u001b[0;34m(\u001b[0m\u001b[0mdtype\u001b[0m\u001b[0;34m)\u001b[0m\u001b[0;34m:\u001b[0m\u001b[0;34m\u001b[0m\u001b[0;34m\u001b[0m\u001b[0m\n\u001b[0m\u001b[1;32m    279\u001b[0m             \u001b[0;31m# Delay import for perf. https://github.com/pandas-dev/pandas/pull/31423\u001b[0m\u001b[0;34m\u001b[0m\u001b[0;34m\u001b[0m\u001b[0;34m\u001b[0m\u001b[0m\n\u001b[1;32m    280\u001b[0m             \u001b[0;32mfrom\u001b[0m \u001b[0mpandas\u001b[0m\u001b[0;34m.\u001b[0m\u001b[0mcore\u001b[0m\u001b[0;34m.\u001b[0m\u001b[0mindexes\u001b[0m\u001b[0;34m.\u001b[0m\u001b[0mcategory\u001b[0m \u001b[0;32mimport\u001b[0m \u001b[0mCategoricalIndex\u001b[0m\u001b[0;34m\u001b[0m\u001b[0;34m\u001b[0m\u001b[0m\n",
      "\u001b[0;32m/shared-libs/python3.7/py/lib/python3.7/site-packages/pandas/core/dtypes/common.py\u001b[0m in \u001b[0;36mis_categorical_dtype\u001b[0;34m(arr_or_dtype)\u001b[0m\n\u001b[1;32m    568\u001b[0m     \u001b[0;32mif\u001b[0m \u001b[0marr_or_dtype\u001b[0m \u001b[0;32mis\u001b[0m \u001b[0;32mNone\u001b[0m\u001b[0;34m:\u001b[0m\u001b[0;34m\u001b[0m\u001b[0;34m\u001b[0m\u001b[0m\n\u001b[1;32m    569\u001b[0m         \u001b[0;32mreturn\u001b[0m \u001b[0;32mFalse\u001b[0m\u001b[0;34m\u001b[0m\u001b[0;34m\u001b[0m\u001b[0m\n\u001b[0;32m--> 570\u001b[0;31m     \u001b[0;32mreturn\u001b[0m \u001b[0mCategoricalDtype\u001b[0m\u001b[0;34m.\u001b[0m\u001b[0mis_dtype\u001b[0m\u001b[0;34m(\u001b[0m\u001b[0marr_or_dtype\u001b[0m\u001b[0;34m)\u001b[0m\u001b[0;34m\u001b[0m\u001b[0;34m\u001b[0m\u001b[0m\n\u001b[0m\u001b[1;32m    571\u001b[0m \u001b[0;34m\u001b[0m\u001b[0m\n\u001b[1;32m    572\u001b[0m \u001b[0;34m\u001b[0m\u001b[0m\n",
      "\u001b[0;31mKeyboardInterrupt\u001b[0m: "
     ]
    }
   ]
  },
  {
   "cell_type": "code",
   "metadata": {
    "cell_id": "7e250582cf474ff7b570ef29372e994a",
    "tags": [],
    "deepnote_to_be_reexecuted": true,
    "source_hash": "860ac4bd",
    "execution_start": 1648358663224,
    "execution_millis": 19,
    "deepnote_cell_type": "code",
    "deepnote_cell_height": 118.171875,
    "deepnote_output_heights": [
     21.1875
    ]
   },
   "source": "z",
   "execution_count": null,
   "outputs": [
    {
     "output_type": "execute_result",
     "execution_count": 244,
     "data": {
      "text/plain": "147.21736316662955"
     },
     "metadata": {}
    }
   ]
  },
  {
   "cell_type": "code",
   "metadata": {
    "cell_id": "dc4e991a8ee442d4b3346c1a420eae9c",
    "tags": [],
    "deepnote_to_be_reexecuted": true,
    "source_hash": "ad0bc2bb",
    "execution_start": 1648351261923,
    "execution_millis": 1692,
    "deepnote_cell_type": "code",
    "deepnote_cell_height": 464.03125
   },
   "source": "import scipy.interpolate as interpolate\nai = pd.read_csv('/work/Carpe-Datum-2022/AI.csv')\nai = ai.rename({'X(ft)':'X','Y(ft)':'Y'}, axis=1)\nai['diff_lower'] = ai['AI_lower(2021-12-20)'] - ai['AI_lower(2012-01-01)']\nai['diff_upper'] = ai['AI_upper(2021-12-20)'] - ai['AI_upper(2012-01-01)']\nai['PORO(v/v)'] = interpolate.griddata(data[['X','Y']], data['PORO(v/v)'], ai[['X','Y']],method='linear')\nai['PORO(v/v)'] = ai['PORO(v/v)'].fillna(0)\nai['Zone'] = 0\n# ai['perm_est'] = interpolate.griddata(data[['X','Y']], data['perm_est'], ai[['X','Y']],method='linear')\n# ai['perm_est'] = ai['perm_est'].fillna(0)\n#ai['DT(us/ft)'] = interpolate.griddata(data[['X','Y']], data['DT(us/ft)'], ai[['X','Y']],method='linear')\n#ai['DT(us/ft)'] = ai['DT(us/ft)'].fillna(0)\n# ai['ROP'] = interpolate.griddata(data[['X','Y']], data['ROP'], ai[['X','Y']],method='linear')\n# ai['ROP'] = ai['ROP'].fillna(0)\n# ai['PEF(B/E)'] = interpolate.griddata(data[['X','Y']], data['PEF(B/E)'], ai[['X','Y']],method='linear')\n# ai['PEF(B/E)'] = ai['PEF(B/E)'].fillna(0)\nai['pred'] = pipeline.predict(ai)",
   "execution_count": null,
   "outputs": [
    {
     "name": "stderr",
     "text": "/shared-libs/python3.7/py/lib/python3.7/site-packages/sklearn/base.py:493: FutureWarning: The feature names should match those that were passed during fit. Starting version 1.2, an error will be raised.\nFeature names must be in the same order as they were in fit.\n\n  warnings.warn(message, FutureWarning)\n",
     "output_type": "stream"
    }
   ]
  },
  {
   "cell_type": "code",
   "metadata": {
    "cell_id": "30320b653d124841b68f23fc464a6a10",
    "tags": [],
    "deepnote_to_be_reexecuted": true,
    "source_hash": "820cb2e5",
    "execution_start": 1648341485027,
    "execution_millis": 19,
    "deepnote_cell_type": "code",
    "deepnote_cell_height": 329.296875,
    "deepnote_output_heights": [
     232.3125
    ]
   },
   "source": "ai['pred']",
   "execution_count": null,
   "outputs": [
    {
     "output_type": "execute_result",
     "execution_count": 34,
     "data": {
      "text/plain": "0       -36561.702923\n1       -36561.702923\n2       -36561.702923\n3       -36561.702923\n4       -36561.702923\n             ...     \n51195   -23932.040079\n51196   -23932.040079\n51197   -23932.040079\n51198   -23932.040079\n51199   -23932.040079\nName: pred, Length: 51200, dtype: float64"
     },
     "metadata": {}
    }
   ]
  },
  {
   "cell_type": "code",
   "metadata": {
    "cell_id": "6484b6114a5b4d7397733e5db7768490",
    "tags": [],
    "deepnote_to_be_reexecuted": true,
    "source_hash": "34509582",
    "execution_start": 1648352488944,
    "execution_millis": 891,
    "deepnote_table_state": {
     "pageSize": 10,
     "pageIndex": 0,
     "filters": [],
     "sortBy": [
      {
       "id": "Sum_Production",
       "type": "desc"
      }
     ]
    },
    "deepnote_table_loading": false,
    "deepnote_cell_type": "code",
    "deepnote_cell_height": 645.265625
   },
   "source": "wells",
   "execution_count": null,
   "outputs": [
    {
     "output_type": "execute_result",
     "execution_count": 141,
     "data": {
      "application/vnd.deepnote.dataframe.v3+json": {
       "column_count": 37,
       "row_count": 50,
       "columns": [
        {
         "name": "WELL",
         "dtype": "object",
         "stats": {
          "unique_count": 50,
          "nan_count": 0,
          "categories": [
           {
            "name": "WP43",
            "count": 1
           },
           {
            "name": "WP3",
            "count": 1
           },
           {
            "name": "48 others",
            "count": 48
           }
          ]
         }
        },
        {
         "name": "X(ft)",
         "dtype": "float64",
         "stats": {
          "unique_count": 50,
          "nan_count": 0,
          "min": "109560.26",
          "max": "142095.82",
          "histogram": [
           {
            "bin_start": 109560.26,
            "bin_end": 112813.81599999999,
            "count": 8
           },
           {
            "bin_start": 112813.81599999999,
            "bin_end": 116067.372,
            "count": 6
           },
           {
            "bin_start": 116067.372,
            "bin_end": 119320.928,
            "count": 5
           },
           {
            "bin_start": 119320.928,
            "bin_end": 122574.484,
            "count": 3
           },
           {
            "bin_start": 122574.484,
            "bin_end": 125828.04000000001,
            "count": 4
           },
           {
            "bin_start": 125828.04000000001,
            "bin_end": 129081.596,
            "count": 4
           },
           {
            "bin_start": 129081.596,
            "bin_end": 132335.152,
            "count": 3
           },
           {
            "bin_start": 132335.152,
            "bin_end": 135588.708,
            "count": 8
           },
           {
            "bin_start": 135588.708,
            "bin_end": 138842.264,
            "count": 5
           },
           {
            "bin_start": 138842.264,
            "bin_end": 142095.82,
            "count": 4
           }
          ]
         }
        },
        {
         "name": "Y(ft)",
         "dtype": "float64",
         "stats": {
          "unique_count": 50,
          "nan_count": 0,
          "min": "81747.12",
          "max": "93691.55",
          "histogram": [
           {
            "bin_start": 81747.12,
            "bin_end": 82941.563,
            "count": 5
           },
           {
            "bin_start": 82941.563,
            "bin_end": 84136.006,
            "count": 5
           },
           {
            "bin_start": 84136.006,
            "bin_end": 85330.449,
            "count": 5
           },
           {
            "bin_start": 85330.449,
            "bin_end": 86524.89199999999,
            "count": 5
           },
           {
            "bin_start": 86524.89199999999,
            "bin_end": 87719.33499999999,
            "count": 4
           },
           {
            "bin_start": 87719.33499999999,
            "bin_end": 88913.778,
            "count": 6
           },
           {
            "bin_start": 88913.778,
            "bin_end": 90108.221,
            "count": 7
           },
           {
            "bin_start": 90108.221,
            "bin_end": 91302.664,
            "count": 5
           },
           {
            "bin_start": 91302.664,
            "bin_end": 92497.107,
            "count": 6
           },
           {
            "bin_start": 92497.107,
            "bin_end": 93691.55,
            "count": 2
           }
          ]
         }
        },
        {
         "name": "Completion",
         "dtype": "object",
         "stats": {
          "unique_count": 2,
          "nan_count": 0,
          "categories": [
           {
            "name": "Lower",
            "count": 30
           },
           {
            "name": "Upper",
            "count": 20
           }
          ]
         }
        },
        {
         "name": "Elevation Kelly Bushing (ft)",
         "dtype": "float64",
         "stats": {
          "unique_count": 49,
          "nan_count": 0,
          "min": "160.22",
          "max": "203.85",
          "histogram": [
           {
            "bin_start": 160.22,
            "bin_end": 164.583,
            "count": 3
           },
           {
            "bin_start": 164.583,
            "bin_end": 168.946,
            "count": 1
           },
           {
            "bin_start": 168.946,
            "bin_end": 173.309,
            "count": 6
           },
           {
            "bin_start": 173.309,
            "bin_end": 177.672,
            "count": 8
           },
           {
            "bin_start": 177.672,
            "bin_end": 182.035,
            "count": 10
           },
           {
            "bin_start": 182.035,
            "bin_end": 186.398,
            "count": 10
           },
           {
            "bin_start": 186.398,
            "bin_end": 190.761,
            "count": 3
           },
           {
            "bin_start": 190.761,
            "bin_end": 195.124,
            "count": 7
           },
           {
            "bin_start": 195.124,
            "bin_end": 199.487,
            "count": 1
           },
           {
            "bin_start": 199.487,
            "bin_end": 203.85,
            "count": 1
           }
          ]
         }
        },
        {
         "name": "Unnamed: 0",
         "dtype": "int64",
         "stats": {
          "unique_count": 50,
          "nan_count": 0,
          "min": "0",
          "max": "1920",
          "histogram": [
           {
            "bin_start": 0,
            "bin_end": 192,
            "count": 7
           },
           {
            "bin_start": 192,
            "bin_end": 384,
            "count": 4
           },
           {
            "bin_start": 384,
            "bin_end": 576,
            "count": 5
           },
           {
            "bin_start": 576,
            "bin_end": 768,
            "count": 4
           },
           {
            "bin_start": 768,
            "bin_end": 960,
            "count": 5
           },
           {
            "bin_start": 960,
            "bin_end": 1152,
            "count": 6
           },
           {
            "bin_start": 1152,
            "bin_end": 1344,
            "count": 4
           },
           {
            "bin_start": 1344,
            "bin_end": 1536,
            "count": 5
           },
           {
            "bin_start": 1536,
            "bin_end": 1728,
            "count": 4
           },
           {
            "bin_start": 1728,
            "bin_end": 1920,
            "count": 6
           }
          ]
         }
        },
        {
         "name": "MD(ft)",
         "dtype": "float64",
         "stats": {
          "unique_count": 50,
          "nan_count": 0,
          "min": "4228.00568344",
          "max": "4801.50279384",
          "histogram": [
           {
            "bin_start": 4228.00568344,
            "bin_end": 4285.3553944800005,
            "count": 2
           },
           {
            "bin_start": 4285.3553944800005,
            "bin_end": 4342.70510552,
            "count": 0
           },
           {
            "bin_start": 4342.70510552,
            "bin_end": 4400.05481656,
            "count": 6
           },
           {
            "bin_start": 4400.05481656,
            "bin_end": 4457.4045276,
            "count": 10
           },
           {
            "bin_start": 4457.4045276,
            "bin_end": 4514.75423864,
            "count": 6
           },
           {
            "bin_start": 4514.75423864,
            "bin_end": 4572.10394968,
            "count": 2
           },
           {
            "bin_start": 4572.10394968,
            "bin_end": 4629.45366072,
            "count": 7
           },
           {
            "bin_start": 4629.45366072,
            "bin_end": 4686.80337176,
            "count": 6
           },
           {
            "bin_start": 4686.80337176,
            "bin_end": 4744.1530827999995,
            "count": 8
           },
           {
            "bin_start": 4744.1530827999995,
            "bin_end": 4801.50279384,
            "count": 3
           }
          ]
         }
        },
        {
         "name": "PORO(v/v)",
         "dtype": "float64",
         "stats": {
          "unique_count": 10,
          "nan_count": 40,
          "min": "0.039348",
          "max": "0.124279",
          "histogram": [
           {
            "bin_start": 0.039348,
            "bin_end": 0.0478411,
            "count": 2
           },
           {
            "bin_start": 0.0478411,
            "bin_end": 0.0563342,
            "count": 1
           },
           {
            "bin_start": 0.0563342,
            "bin_end": 0.0648273,
            "count": 0
           },
           {
            "bin_start": 0.0648273,
            "bin_end": 0.07332040000000001,
            "count": 2
           },
           {
            "bin_start": 0.07332040000000001,
            "bin_end": 0.08181350000000001,
            "count": 0
           },
           {
            "bin_start": 0.08181350000000001,
            "bin_end": 0.0903066,
            "count": 2
           },
           {
            "bin_start": 0.0903066,
            "bin_end": 0.09879969999999999,
            "count": 1
           },
           {
            "bin_start": 0.09879969999999999,
            "bin_end": 0.1072928,
            "count": 0
           },
           {
            "bin_start": 0.1072928,
            "bin_end": 0.1157859,
            "count": 1
           },
           {
            "bin_start": 0.1157859,
            "bin_end": 0.124279,
            "count": 1
           }
          ]
         }
        },
        {
         "name": "Permeability(mD)",
         "dtype": "float64",
         "stats": {
          "unique_count": 5,
          "nan_count": 45,
          "min": "0.003393",
          "max": "1.867752",
          "histogram": [
           {
            "bin_start": 0.003393,
            "bin_end": 0.18982890000000002,
            "count": 4
           },
           {
            "bin_start": 0.18982890000000002,
            "bin_end": 0.3762648,
            "count": 0
           },
           {
            "bin_start": 0.3762648,
            "bin_end": 0.5627007,
            "count": 0
           },
           {
            "bin_start": 0.5627007,
            "bin_end": 0.7491366,
            "count": 0
           },
           {
            "bin_start": 0.7491366,
            "bin_end": 0.9355725,
            "count": 0
           },
           {
            "bin_start": 0.9355725,
            "bin_end": 1.1220084000000001,
            "count": 0
           },
           {
            "bin_start": 1.1220084000000001,
            "bin_end": 1.3084443000000001,
            "count": 0
           },
           {
            "bin_start": 1.3084443000000001,
            "bin_end": 1.4948802,
            "count": 0
           },
           {
            "bin_start": 1.4948802,
            "bin_end": 1.6813161,
            "count": 0
           },
           {
            "bin_start": 1.6813161,
            "bin_end": 1.867752,
            "count": 1
           }
          ]
         }
        },
        {
         "name": "RHOB(g/cm3)",
         "dtype": "float64",
         "stats": {
          "unique_count": 49,
          "nan_count": 1,
          "min": "2.2923039222853587",
          "max": "2.980176128748262",
          "histogram": [
           {
            "bin_start": 2.2923039222853587,
            "bin_end": 2.3610911429316492,
            "count": 2
           },
           {
            "bin_start": 2.3610911429316492,
            "bin_end": 2.4298783635779393,
            "count": 3
           },
           {
            "bin_start": 2.4298783635779393,
            "bin_end": 2.49866558422423,
            "count": 5
           },
           {
            "bin_start": 2.49866558422423,
            "bin_end": 2.56745280487052,
            "count": 16
           },
           {
            "bin_start": 2.56745280487052,
            "bin_end": 2.6362400255168104,
            "count": 4
           },
           {
            "bin_start": 2.6362400255168104,
            "bin_end": 2.705027246163101,
            "count": 3
           },
           {
            "bin_start": 2.705027246163101,
            "bin_end": 2.773814466809391,
            "count": 9
           },
           {
            "bin_start": 2.773814466809391,
            "bin_end": 2.8426016874556814,
            "count": 1
           },
           {
            "bin_start": 2.8426016874556814,
            "bin_end": 2.9113889081019715,
            "count": 1
           },
           {
            "bin_start": 2.9113889081019715,
            "bin_end": 2.980176128748262,
            "count": 5
           }
          ]
         }
        },
        {
         "name": "DTS(us/ft)",
         "dtype": "float64",
         "stats": {
          "unique_count": 28,
          "nan_count": 22,
          "min": "-999.0000000000002",
          "max": "146.4114765657358",
          "histogram": [
           {
            "bin_start": -999.0000000000002,
            "bin_end": -884.4588523434267,
            "count": 1
           },
           {
            "bin_start": -884.4588523434267,
            "bin_end": -769.9177046868531,
            "count": 0
           },
           {
            "bin_start": -769.9177046868531,
            "bin_end": -655.3765570302794,
            "count": 0
           },
           {
            "bin_start": -655.3765570302794,
            "bin_end": -540.8354093737058,
            "count": 0
           },
           {
            "bin_start": -540.8354093737058,
            "bin_end": -426.29426171713226,
            "count": 0
           },
           {
            "bin_start": -426.29426171713226,
            "bin_end": -311.7531140605586,
            "count": 0
           },
           {
            "bin_start": -311.7531140605586,
            "bin_end": -197.211966403985,
            "count": 0
           },
           {
            "bin_start": -197.211966403985,
            "bin_end": -82.67081874741143,
            "count": 0
           },
           {
            "bin_start": -82.67081874741143,
            "bin_end": 31.870328909162254,
            "count": 0
           },
           {
            "bin_start": 31.870328909162254,
            "bin_end": 146.4114765657358,
            "count": 27
           }
          ]
         }
        },
        {
         "name": "DT(us/ft)",
         "dtype": "float64",
         "stats": {
          "unique_count": 49,
          "nan_count": 1,
          "min": "2.94847346406139",
          "max": "82.63865603920694",
          "histogram": [
           {
            "bin_start": 2.94847346406139,
            "bin_end": 10.917491721575944,
            "count": 1
           },
           {
            "bin_start": 10.917491721575944,
            "bin_end": 18.886509979090498,
            "count": 0
           },
           {
            "bin_start": 18.886509979090498,
            "bin_end": 26.85552823660505,
            "count": 0
           },
           {
            "bin_start": 26.85552823660505,
            "bin_end": 34.8245464941196,
            "count": 0
           },
           {
            "bin_start": 34.8245464941196,
            "bin_end": 42.793564751634165,
            "count": 0
           },
           {
            "bin_start": 42.793564751634165,
            "bin_end": 50.76258300914871,
            "count": 1
           },
           {
            "bin_start": 50.76258300914871,
            "bin_end": 58.73160126666326,
            "count": 7
           },
           {
            "bin_start": 58.73160126666326,
            "bin_end": 66.70061952417782,
            "count": 20
           },
           {
            "bin_start": 66.70061952417782,
            "bin_end": 74.66963778169237,
            "count": 9
           },
           {
            "bin_start": 74.66963778169237,
            "bin_end": 82.63865603920694,
            "count": 11
           }
          ]
         }
        },
        {
         "name": "PEF(B/E)",
         "dtype": "float64",
         "stats": {
          "unique_count": 43,
          "nan_count": 7,
          "min": "0.0335468649424322",
          "max": "11.469750128781858",
          "histogram": [
           {
            "bin_start": 0.0335468649424322,
            "bin_end": 1.1771671913263748,
            "count": 6
           },
           {
            "bin_start": 1.1771671913263748,
            "bin_end": 2.3207875177103174,
            "count": 0
           },
           {
            "bin_start": 2.3207875177103174,
            "bin_end": 3.4644078440942603,
            "count": 1
           },
           {
            "bin_start": 3.4644078440942603,
            "bin_end": 4.608028170478203,
            "count": 1
           },
           {
            "bin_start": 4.608028170478203,
            "bin_end": 5.7516484968621455,
            "count": 6
           },
           {
            "bin_start": 5.7516484968621455,
            "bin_end": 6.895268823246088,
            "count": 16
           },
           {
            "bin_start": 6.895268823246088,
            "bin_end": 8.03888914963003,
            "count": 4
           },
           {
            "bin_start": 8.03888914963003,
            "bin_end": 9.182509476013973,
            "count": 5
           },
           {
            "bin_start": 9.182509476013973,
            "bin_end": 10.326129802397915,
            "count": 2
           },
           {
            "bin_start": 10.326129802397915,
            "bin_end": 11.469750128781858,
            "count": 2
           }
          ]
         }
        },
        {
         "name": "RD(OHMM)",
         "dtype": "float64",
         "stats": {
          "unique_count": 46,
          "nan_count": 4,
          "min": "14.986940069335407",
          "max": "774.7437792016825",
          "histogram": [
           {
            "bin_start": 14.986940069335407,
            "bin_end": 90.96262398257011,
            "count": 6
           },
           {
            "bin_start": 90.96262398257011,
            "bin_end": 166.93830789580483,
            "count": 17
           },
           {
            "bin_start": 166.93830789580483,
            "bin_end": 242.91399180903952,
            "count": 13
           },
           {
            "bin_start": 242.91399180903952,
            "bin_end": 318.8896757222742,
            "count": 1
           },
           {
            "bin_start": 318.8896757222742,
            "bin_end": 394.8653596355089,
            "count": 1
           },
           {
            "bin_start": 394.8653596355089,
            "bin_end": 470.8410435487436,
            "count": 0
           },
           {
            "bin_start": 470.8410435487436,
            "bin_end": 546.8167274619784,
            "count": 2
           },
           {
            "bin_start": 546.8167274619784,
            "bin_end": 622.7924113752131,
            "count": 2
           },
           {
            "bin_start": 622.7924113752131,
            "bin_end": 698.7680952884477,
            "count": 0
           },
           {
            "bin_start": 698.7680952884477,
            "bin_end": 774.7437792016825,
            "count": 4
           }
          ]
         }
        },
        {
         "name": "RS(OHMM)",
         "dtype": "float64",
         "stats": {
          "unique_count": 46,
          "nan_count": 4,
          "min": "23.51207184580301",
          "max": "4523.252884467523",
          "histogram": [
           {
            "bin_start": 23.51207184580301,
            "bin_end": 473.486153107975,
            "count": 38
           },
           {
            "bin_start": 473.486153107975,
            "bin_end": 923.460234370147,
            "count": 6
           },
           {
            "bin_start": 923.460234370147,
            "bin_end": 1373.434315632319,
            "count": 0
           },
           {
            "bin_start": 1373.434315632319,
            "bin_end": 1823.408396894491,
            "count": 0
           },
           {
            "bin_start": 1823.408396894491,
            "bin_end": 2273.3824781566627,
            "count": 0
           },
           {
            "bin_start": 2273.3824781566627,
            "bin_end": 2723.356559418835,
            "count": 0
           },
           {
            "bin_start": 2723.356559418835,
            "bin_end": 3173.3306406810066,
            "count": 0
           },
           {
            "bin_start": 3173.3306406810066,
            "bin_end": 3623.3047219431787,
            "count": 0
           },
           {
            "bin_start": 3623.3047219431787,
            "bin_end": 4073.278803205351,
            "count": 1
           },
           {
            "bin_start": 4073.278803205351,
            "bin_end": 4523.252884467523,
            "count": 1
           }
          ]
         }
        },
        {
         "name": "ROP",
         "dtype": "float64",
         "stats": {
          "unique_count": 44,
          "nan_count": 6,
          "min": "4.209865270812502",
          "max": "29.956492185897183",
          "histogram": [
           {
            "bin_start": 4.209865270812502,
            "bin_end": 6.78452796232097,
            "count": 1
           },
           {
            "bin_start": 6.78452796232097,
            "bin_end": 9.359190653829438,
            "count": 2
           },
           {
            "bin_start": 9.359190653829438,
            "bin_end": 11.933853345337907,
            "count": 6
           },
           {
            "bin_start": 11.933853345337907,
            "bin_end": 14.508516036846375,
            "count": 3
           },
           {
            "bin_start": 14.508516036846375,
            "bin_end": 17.083178728354845,
            "count": 7
           },
           {
            "bin_start": 17.083178728354845,
            "bin_end": 19.65784141986331,
            "count": 3
           },
           {
            "bin_start": 19.65784141986331,
            "bin_end": 22.23250411137178,
            "count": 10
           },
           {
            "bin_start": 22.23250411137178,
            "bin_end": 24.807166802880246,
            "count": 3
           },
           {
            "bin_start": 24.807166802880246,
            "bin_end": 27.381829494388718,
            "count": 6
           },
           {
            "bin_start": 27.381829494388718,
            "bin_end": 29.956492185897183,
            "count": 3
           }
          ]
         }
        },
        {
         "name": "DENC(g/cm3)",
         "dtype": "float64",
         "stats": {
          "unique_count": 43,
          "nan_count": 7,
          "min": "-0.0045143839598518",
          "max": "0.1215127423397332",
          "histogram": [
           {
            "bin_start": -0.0045143839598518,
            "bin_end": 0.008088328670106702,
            "count": 1
           },
           {
            "bin_start": 0.008088328670106702,
            "bin_end": 0.020691041300065202,
            "count": 6
           },
           {
            "bin_start": 0.020691041300065202,
            "bin_end": 0.0332937539300237,
            "count": 4
           },
           {
            "bin_start": 0.0332937539300237,
            "bin_end": 0.0458964665599822,
            "count": 3
           },
           {
            "bin_start": 0.0458964665599822,
            "bin_end": 0.05849917918994071,
            "count": 5
           },
           {
            "bin_start": 0.05849917918994071,
            "bin_end": 0.07110189181989919,
            "count": 16
           },
           {
            "bin_start": 0.07110189181989919,
            "bin_end": 0.0837046044498577,
            "count": 4
           },
           {
            "bin_start": 0.0837046044498577,
            "bin_end": 0.0963073170798162,
            "count": 1
           },
           {
            "bin_start": 0.0963073170798162,
            "bin_end": 0.1089100297097747,
            "count": 1
           },
           {
            "bin_start": 0.1089100297097747,
            "bin_end": 0.1215127423397332,
            "count": 2
           }
          ]
         }
        },
        {
         "name": "NPHI(v/v)",
         "dtype": "float64",
         "stats": {
          "unique_count": 50,
          "nan_count": 0,
          "min": "-0.0019002511365949",
          "max": "0.3651933834280377",
          "histogram": [
           {
            "bin_start": -0.0019002511365949,
            "bin_end": 0.034809112319868364,
            "count": 2
           },
           {
            "bin_start": 0.034809112319868364,
            "bin_end": 0.07151847577633164,
            "count": 5
           },
           {
            "bin_start": 0.07151847577633164,
            "bin_end": 0.1082278392327949,
            "count": 14
           },
           {
            "bin_start": 0.1082278392327949,
            "bin_end": 0.14493720268925817,
            "count": 15
           },
           {
            "bin_start": 0.14493720268925817,
            "bin_end": 0.18164656614572142,
            "count": 2
           },
           {
            "bin_start": 0.18164656614572142,
            "bin_end": 0.2183559296021847,
            "count": 2
           },
           {
            "bin_start": 0.2183559296021847,
            "bin_end": 0.25506529305864795,
            "count": 1
           },
           {
            "bin_start": 0.25506529305864795,
            "bin_end": 0.2917746565151112,
            "count": 3
           },
           {
            "bin_start": 0.2917746565151112,
            "bin_end": 0.32848401997157445,
            "count": 4
           },
           {
            "bin_start": 0.32848401997157445,
            "bin_end": 0.3651933834280377,
            "count": 2
           }
          ]
         }
        },
        {
         "name": "Zone",
         "dtype": "object",
         "stats": {
          "unique_count": 1,
          "nan_count": 2,
          "categories": [
           {
            "name": "Upper",
            "count": 48
           },
           {
            "name": "Missing",
            "count": 2
           }
          ]
         }
        },
        {
         "name": "well_id",
         "dtype": "object",
         "stats": {
          "unique_count": 50,
          "nan_count": 0,
          "categories": [
           {
            "name": "WP43",
            "count": 1
           },
           {
            "name": "WP3",
            "count": 1
           },
           {
            "name": "48 others",
            "count": 48
           }
          ]
         }
        },
        {
         "name": "X",
         "dtype": "float64",
         "stats": {
          "unique_count": 50,
          "nan_count": 0,
          "min": "109560.26",
          "max": "142095.82",
          "histogram": [
           {
            "bin_start": 109560.26,
            "bin_end": 112813.81599999999,
            "count": 8
           },
           {
            "bin_start": 112813.81599999999,
            "bin_end": 116067.372,
            "count": 6
           },
           {
            "bin_start": 116067.372,
            "bin_end": 119320.928,
            "count": 5
           },
           {
            "bin_start": 119320.928,
            "bin_end": 122574.484,
            "count": 3
           },
           {
            "bin_start": 122574.484,
            "bin_end": 125828.04000000001,
            "count": 4
           },
           {
            "bin_start": 125828.04000000001,
            "bin_end": 129081.596,
            "count": 4
           },
           {
            "bin_start": 129081.596,
            "bin_end": 132335.152,
            "count": 3
           },
           {
            "bin_start": 132335.152,
            "bin_end": 135588.708,
            "count": 8
           },
           {
            "bin_start": 135588.708,
            "bin_end": 138842.264,
            "count": 5
           },
           {
            "bin_start": 138842.264,
            "bin_end": 142095.82,
            "count": 4
           }
          ]
         }
        },
        {
         "name": "Y",
         "dtype": "float64",
         "stats": {
          "unique_count": 50,
          "nan_count": 0,
          "min": "81747.12",
          "max": "93691.55",
          "histogram": [
           {
            "bin_start": 81747.12,
            "bin_end": 82941.563,
            "count": 5
           },
           {
            "bin_start": 82941.563,
            "bin_end": 84136.006,
            "count": 5
           },
           {
            "bin_start": 84136.006,
            "bin_end": 85330.449,
            "count": 5
           },
           {
            "bin_start": 85330.449,
            "bin_end": 86524.89199999999,
            "count": 5
           },
           {
            "bin_start": 86524.89199999999,
            "bin_end": 87719.33499999999,
            "count": 4
           },
           {
            "bin_start": 87719.33499999999,
            "bin_end": 88913.778,
            "count": 6
           },
           {
            "bin_start": 88913.778,
            "bin_end": 90108.221,
            "count": 7
           },
           {
            "bin_start": 90108.221,
            "bin_end": 91302.664,
            "count": 5
           },
           {
            "bin_start": 91302.664,
            "bin_end": 92497.107,
            "count": 6
           },
           {
            "bin_start": 92497.107,
            "bin_end": 93691.55,
            "count": 2
           }
          ]
         }
        },
        {
         "name": "Completion Zone",
         "dtype": "object",
         "stats": {
          "unique_count": 2,
          "nan_count": 0,
          "categories": [
           {
            "name": "Lower",
            "count": 30
           },
           {
            "name": "Upper",
            "count": 20
           }
          ]
         }
        },
        {
         "name": "AI_lower(2012-01-01)",
         "dtype": "float64",
         "stats": {
          "unique_count": 50,
          "nan_count": 0,
          "min": "6349.281454903185",
          "max": "6582.065934451697",
          "histogram": [
           {
            "bin_start": 6349.281454903185,
            "bin_end": 6372.5599028580355,
            "count": 1
           },
           {
            "bin_start": 6372.5599028580355,
            "bin_end": 6395.838350812887,
            "count": 1
           },
           {
            "bin_start": 6395.838350812887,
            "bin_end": 6419.116798767738,
            "count": 0
           },
           {
            "bin_start": 6419.116798767738,
            "bin_end": 6442.39524672259,
            "count": 2
           },
           {
            "bin_start": 6442.39524672259,
            "bin_end": 6465.673694677441,
            "count": 3
           },
           {
            "bin_start": 6465.673694677441,
            "bin_end": 6488.952142632292,
            "count": 5
           },
           {
            "bin_start": 6488.952142632292,
            "bin_end": 6512.2305905871435,
            "count": 6
           },
           {
            "bin_start": 6512.2305905871435,
            "bin_end": 6535.509038541994,
            "count": 9
           },
           {
            "bin_start": 6535.509038541994,
            "bin_end": 6558.787486496846,
            "count": 12
           },
           {
            "bin_start": 6558.787486496846,
            "bin_end": 6582.065934451697,
            "count": 11
           }
          ]
         }
        },
        {
         "name": "AI_lower(2021-12-20)",
         "dtype": "float64",
         "stats": {
          "unique_count": 50,
          "nan_count": 0,
          "min": "6362.714848353495",
          "max": "6677.045989447589",
          "histogram": [
           {
            "bin_start": 6362.714848353495,
            "bin_end": 6394.147962462905,
            "count": 1
           },
           {
            "bin_start": 6394.147962462905,
            "bin_end": 6425.581076572314,
            "count": 1
           },
           {
            "bin_start": 6425.581076572314,
            "bin_end": 6457.0141906817225,
            "count": 0
           },
           {
            "bin_start": 6457.0141906817225,
            "bin_end": 6488.447304791132,
            "count": 2
           },
           {
            "bin_start": 6488.447304791132,
            "bin_end": 6519.880418900542,
            "count": 5
           },
           {
            "bin_start": 6519.880418900542,
            "bin_end": 6551.313533009951,
            "count": 2
           },
           {
            "bin_start": 6551.313533009951,
            "bin_end": 6582.74664711936,
            "count": 4
           },
           {
            "bin_start": 6582.74664711936,
            "bin_end": 6614.17976122877,
            "count": 14
           },
           {
            "bin_start": 6614.17976122877,
            "bin_end": 6645.61287533818,
            "count": 11
           },
           {
            "bin_start": 6645.61287533818,
            "bin_end": 6677.045989447589,
            "count": 10
           }
          ]
         }
        },
        {
         "name": "AI_upper(2012-01-01)",
         "dtype": "float64",
         "stats": {
          "unique_count": 50,
          "nan_count": 0,
          "min": "6313.629292802599",
          "max": "6540.072143926137",
          "histogram": [
           {
            "bin_start": 6313.629292802599,
            "bin_end": 6336.2735779149525,
            "count": 1
           },
           {
            "bin_start": 6336.2735779149525,
            "bin_end": 6358.917863027306,
            "count": 0
           },
           {
            "bin_start": 6358.917863027306,
            "bin_end": 6381.56214813966,
            "count": 0
           },
           {
            "bin_start": 6381.56214813966,
            "bin_end": 6404.206433252014,
            "count": 4
           },
           {
            "bin_start": 6404.206433252014,
            "bin_end": 6426.850718364368,
            "count": 2
           },
           {
            "bin_start": 6426.850718364368,
            "bin_end": 6449.495003476722,
            "count": 0
           },
           {
            "bin_start": 6449.495003476722,
            "bin_end": 6472.1392885890755,
            "count": 5
           },
           {
            "bin_start": 6472.1392885890755,
            "bin_end": 6494.783573701429,
            "count": 10
           },
           {
            "bin_start": 6494.783573701429,
            "bin_end": 6517.427858813783,
            "count": 15
           },
           {
            "bin_start": 6517.427858813783,
            "bin_end": 6540.072143926137,
            "count": 13
           }
          ]
         }
        },
        {
         "name": "AI_upper(2021-12-20)",
         "dtype": "float64",
         "stats": {
          "unique_count": 50,
          "nan_count": 0,
          "min": "6322.47120464086",
          "max": "6546.876237249978",
          "histogram": [
           {
            "bin_start": 6322.47120464086,
            "bin_end": 6344.911707901772,
            "count": 1
           },
           {
            "bin_start": 6344.911707901772,
            "bin_end": 6367.3522111626835,
            "count": 0
           },
           {
            "bin_start": 6367.3522111626835,
            "bin_end": 6389.7927144235955,
            "count": 2
           },
           {
            "bin_start": 6389.7927144235955,
            "bin_end": 6412.2332176845075,
            "count": 2
           },
           {
            "bin_start": 6412.2332176845075,
            "bin_end": 6434.673720945419,
            "count": 2
           },
           {
            "bin_start": 6434.673720945419,
            "bin_end": 6457.114224206331,
            "count": 3
           },
           {
            "bin_start": 6457.114224206331,
            "bin_end": 6479.554727467243,
            "count": 5
           },
           {
            "bin_start": 6479.554727467243,
            "bin_end": 6501.995230728155,
            "count": 10
           },
           {
            "bin_start": 6501.995230728155,
            "bin_end": 6524.435733989066,
            "count": 11
           },
           {
            "bin_start": 6524.435733989066,
            "bin_end": 6546.876237249978,
            "count": 14
           }
          ]
         }
        },
        {
         "name": "Unnamed: 0_y",
         "dtype": "object",
         "stats": {
          "unique_count": 50,
          "nan_count": 0,
          "categories": [
           {
            "name": "WP43",
            "count": 1
           },
           {
            "name": "WP3",
            "count": 1
           },
           {
            "name": "48 others",
            "count": 48
           }
          ]
         }
        },
        {
         "name": "X(ft)_y",
         "dtype": "float64",
         "stats": {
          "unique_count": 50,
          "nan_count": 0,
          "min": "109560.26",
          "max": "142095.82",
          "histogram": [
           {
            "bin_start": 109560.26,
            "bin_end": 112813.81599999999,
            "count": 8
           },
           {
            "bin_start": 112813.81599999999,
            "bin_end": 116067.372,
            "count": 6
           },
           {
            "bin_start": 116067.372,
            "bin_end": 119320.928,
            "count": 5
           },
           {
            "bin_start": 119320.928,
            "bin_end": 122574.484,
            "count": 3
           },
           {
            "bin_start": 122574.484,
            "bin_end": 125828.04000000001,
            "count": 4
           },
           {
            "bin_start": 125828.04000000001,
            "bin_end": 129081.596,
            "count": 4
           },
           {
            "bin_start": 129081.596,
            "bin_end": 132335.152,
            "count": 3
           },
           {
            "bin_start": 132335.152,
            "bin_end": 135588.708,
            "count": 8
           },
           {
            "bin_start": 135588.708,
            "bin_end": 138842.264,
            "count": 5
           },
           {
            "bin_start": 138842.264,
            "bin_end": 142095.82,
            "count": 4
           }
          ]
         }
        },
        {
         "name": "Y(ft)_y",
         "dtype": "float64",
         "stats": {
          "unique_count": 50,
          "nan_count": 0,
          "min": "81747.12",
          "max": "93691.55",
          "histogram": [
           {
            "bin_start": 81747.12,
            "bin_end": 82941.563,
            "count": 5
           },
           {
            "bin_start": 82941.563,
            "bin_end": 84136.006,
            "count": 5
           },
           {
            "bin_start": 84136.006,
            "bin_end": 85330.449,
            "count": 5
           },
           {
            "bin_start": 85330.449,
            "bin_end": 86524.89199999999,
            "count": 5
           },
           {
            "bin_start": 86524.89199999999,
            "bin_end": 87719.33499999999,
            "count": 4
           },
           {
            "bin_start": 87719.33499999999,
            "bin_end": 88913.778,
            "count": 6
           },
           {
            "bin_start": 88913.778,
            "bin_end": 90108.221,
            "count": 7
           },
           {
            "bin_start": 90108.221,
            "bin_end": 91302.664,
            "count": 5
           },
           {
            "bin_start": 91302.664,
            "bin_end": 92497.107,
            "count": 6
           },
           {
            "bin_start": 92497.107,
            "bin_end": 93691.55,
            "count": 2
           }
          ]
         }
        },
        {
         "name": "Completion_y",
         "dtype": "object",
         "stats": {
          "unique_count": 2,
          "nan_count": 0,
          "categories": [
           {
            "name": "Lower",
            "count": 30
           },
           {
            "name": "Upper",
            "count": 20
           }
          ]
         }
        },
        {
         "name": "Elevation Kelly Bushing (ft)_y",
         "dtype": "float64",
         "stats": {
          "unique_count": 49,
          "nan_count": 0,
          "min": "160.22",
          "max": "203.85",
          "histogram": [
           {
            "bin_start": 160.22,
            "bin_end": 164.583,
            "count": 3
           },
           {
            "bin_start": 164.583,
            "bin_end": 168.946,
            "count": 1
           },
           {
            "bin_start": 168.946,
            "bin_end": 173.309,
            "count": 6
           },
           {
            "bin_start": 173.309,
            "bin_end": 177.672,
            "count": 8
           },
           {
            "bin_start": 177.672,
            "bin_end": 182.035,
            "count": 10
           },
           {
            "bin_start": 182.035,
            "bin_end": 186.398,
            "count": 10
           },
           {
            "bin_start": 186.398,
            "bin_end": 190.761,
            "count": 3
           },
           {
            "bin_start": 190.761,
            "bin_end": 195.124,
            "count": 7
           },
           {
            "bin_start": 195.124,
            "bin_end": 199.487,
            "count": 1
           },
           {
            "bin_start": 199.487,
            "bin_end": 203.85,
            "count": 1
           }
          ]
         }
        },
        {
         "name": "Sum_Production",
         "dtype": "float64",
         "stats": {
          "unique_count": 50,
          "nan_count": 0,
          "min": "0.0",
          "max": "232777.7977803",
          "histogram": [
           {
            "bin_start": 0,
            "bin_end": 23277.77977803,
            "count": 34
           },
           {
            "bin_start": 23277.77977803,
            "bin_end": 46555.55955606,
            "count": 11
           },
           {
            "bin_start": 46555.55955606,
            "bin_end": 69833.33933409,
            "count": 3
           },
           {
            "bin_start": 69833.33933409,
            "bin_end": 93111.11911212,
            "count": 1
           },
           {
            "bin_start": 93111.11911212,
            "bin_end": 116388.89889015,
            "count": 0
           },
           {
            "bin_start": 116388.89889015,
            "bin_end": 139666.67866818,
            "count": 0
           },
           {
            "bin_start": 139666.67866818,
            "bin_end": 162944.45844621,
            "count": 0
           },
           {
            "bin_start": 162944.45844621,
            "bin_end": 186222.23822424,
            "count": 0
           },
           {
            "bin_start": 186222.23822424,
            "bin_end": 209500.01800227,
            "count": 0
           },
           {
            "bin_start": 209500.01800227,
            "bin_end": 232777.7977803,
            "count": 1
           }
          ]
         }
        },
        {
         "name": "line",
         "dtype": "float64",
         "stats": {
          "unique_count": 50,
          "nan_count": 0,
          "min": "127499.4505",
          "max": "130963.3352",
          "histogram": [
           {
            "bin_start": 127499.4505,
            "bin_end": 127845.83897000001,
            "count": 2
           },
           {
            "bin_start": 127845.83897000001,
            "bin_end": 128192.22744,
            "count": 6
           },
           {
            "bin_start": 128192.22744,
            "bin_end": 128538.61591000001,
            "count": 5
           },
           {
            "bin_start": 128538.61591000001,
            "bin_end": 128885.00438,
            "count": 7
           },
           {
            "bin_start": 128885.00438,
            "bin_end": 129231.39285,
            "count": 6
           },
           {
            "bin_start": 129231.39285,
            "bin_end": 129577.78132000001,
            "count": 4
           },
           {
            "bin_start": 129577.78132000001,
            "bin_end": 129924.16979,
            "count": 5
           },
           {
            "bin_start": 129924.16979,
            "bin_end": 130270.55826,
            "count": 5
           },
           {
            "bin_start": 130270.55826,
            "bin_end": 130616.94673,
            "count": 5
           },
           {
            "bin_start": 130616.94673,
            "bin_end": 130963.3352,
            "count": 5
           }
          ]
         }
        },
        {
         "name": "Start Date",
         "dtype": "object",
         "stats": {
          "unique_count": 35,
          "nan_count": 0,
          "categories": [
           {
            "name": "1-Aug-17",
            "count": 4
           },
           {
            "name": "1-Jan-12",
            "count": 3
           },
           {
            "name": "33 others",
            "count": 43
           }
          ]
         }
        },
        {
         "name": "Well",
         "dtype": "object",
         "stats": {
          "unique_count": 50,
          "nan_count": 0,
          "categories": [
           {
            "name": "WP43",
            "count": 1
           },
           {
            "name": "WP3",
            "count": 1
           },
           {
            "name": "48 others",
            "count": 48
           }
          ]
         }
        },
        {
         "name": "Age",
         "dtype": "int64",
         "stats": {
          "unique_count": 35,
          "nan_count": 0,
          "min": "116",
          "max": "3738",
          "histogram": [
           {
            "bin_start": 116,
            "bin_end": 478.2,
            "count": 4
           },
           {
            "bin_start": 478.2,
            "bin_end": 840.4,
            "count": 2
           },
           {
            "bin_start": 840.4,
            "bin_end": 1202.6,
            "count": 6
           },
           {
            "bin_start": 1202.6,
            "bin_end": 1564.8,
            "count": 3
           },
           {
            "bin_start": 1564.8,
            "bin_end": 1927,
            "count": 9
           },
           {
            "bin_start": 1927,
            "bin_end": 2289.2,
            "count": 5
           },
           {
            "bin_start": 2289.2,
            "bin_end": 2651.4,
            "count": 6
           },
           {
            "bin_start": 2651.4,
            "bin_end": 3013.6,
            "count": 2
           },
           {
            "bin_start": 3013.6,
            "bin_end": 3375.7999999999997,
            "count": 6
           },
           {
            "bin_start": 3375.7999999999997,
            "bin_end": 3738,
            "count": 7
           }
          ]
         }
        },
        {
         "name": "_deepnote_index_column",
         "dtype": "int64"
        }
       ],
       "rows": [
        {
         "WELL": "WP43",
         "X(ft)": 115684.27,
         "Y(ft)": 89895.78,
         "Completion": "Lower",
         "Elevation Kelly Bushing (ft)": 175.11,
         "Unnamed: 0": 1558,
         "MD(ft)": 4444.61501056,
         "PORO(v/v)": 0.094476,
         "Permeability(mD)": 0.058904,
         "RHOB(g/cm3)": 2.504678794636373,
         "DTS(us/ft)": 114.79954729453532,
         "DT(us/ft)": 64.10631287042249,
         "PEF(B/E)": 6.535416805458345,
         "RD(OHMM)": 606.0367703776586,
         "RS(OHMM)": 637.4740082625501,
         "ROP": 16.770273869500585,
         "DENC(g/cm3)": 0.0415706389834233,
         "NPHI(v/v)": 0.1079092435913104,
         "Zone": "Upper",
         "well_id": "WP43",
         "X": 115684.27,
         "Y": 89895.78,
         "Completion Zone": "Lower",
         "AI_lower(2012-01-01)": 6582.065934451697,
         "AI_lower(2021-12-20)": 6677.045989447589,
         "AI_upper(2012-01-01)": 6515.430974457098,
         "AI_upper(2021-12-20)": 6544.130229470746,
         "Unnamed: 0_y": "WP43",
         "X(ft)_y": 115684.27,
         "Y(ft)_y": 89895.78,
         "Completion_y": "Lower",
         "Elevation Kelly Bushing (ft)_y": 175.11,
         "Sum_Production": 232777.7977803,
         "line": 128600.2238,
         "Start Date": "1-Mar-13",
         "Well": "WP43",
         "Age": 3313,
         "_deepnote_index_column": 43
        },
        {
         "WELL": "WP3",
         "X(ft)": 140892.57,
         "Y(ft)": 81747.12,
         "Completion": "Lower",
         "Elevation Kelly Bushing (ft)": 179.92,
         "Unnamed: 0": 1875,
         "MD(ft)": 4734.05018424,
         "PORO(v/v)": 0.039348,
         "Permeability(mD)": "nan",
         "RHOB(g/cm3)": 2.690694132424912,
         "DTS(us/ft)": "nan",
         "DT(us/ft)": 71.004134787314,
         "PEF(B/E)": 6.8148824495418,
         "RD(OHMM)": 487.0650021077624,
         "RS(OHMM)": 702.5232104749978,
         "ROP": 16.644710015324907,
         "DENC(g/cm3)": 0.0627079212263687,
         "NPHI(v/v)": 0.0717521269959693,
         "Zone": "Upper",
         "well_id": "WP3",
         "X": 140892.57,
         "Y": 81747.12,
         "Completion Zone": "Lower",
         "AI_lower(2012-01-01)": 6518.87875012402,
         "AI_lower(2021-12-20)": 6586.112456245834,
         "AI_upper(2012-01-01)": 6490.674048657715,
         "AI_upper(2021-12-20)": 6505.0346677456,
         "Unnamed: 0_y": "WP3",
         "X(ft)_y": 140892.57,
         "Y(ft)_y": 81747.12,
         "Completion_y": "Lower",
         "Elevation Kelly Bushing (ft)_y": 179.92,
         "Sum_Production": 88345.368434,
         "line": 130963.3352,
         "Start Date": "1-Dec-13",
         "Well": "WP3",
         "Age": 3038,
         "_deepnote_index_column": 3
        },
        {
         "WELL": "WP42",
         "X(ft)": 136532.27,
         "Y(ft)": 83571.51,
         "Completion": "Lower",
         "Elevation Kelly Bushing (ft)": 170.61,
         "Unnamed: 0": 1065,
         "MD(ft)": 4617.35753896,
         "PORO(v/v)": "nan",
         "Permeability(mD)": "nan",
         "RHOB(g/cm3)": 2.5658876188864244,
         "DTS(us/ft)": 108.1517044585036,
         "DT(us/ft)": 66.13098926975604,
         "PEF(B/E)": 5.932874209291461,
         "RD(OHMM)": 14.986940069335407,
         "RS(OHMM)": 23.51207184580301,
         "ROP": 11.340523516516772,
         "DENC(g/cm3)": 0.0689901180109725,
         "NPHI(v/v)": 0.0965138019143227,
         "Zone": "Upper",
         "well_id": "WP42",
         "X": 136532.27,
         "Y": 83571.51,
         "Completion Zone": "Lower",
         "AI_lower(2012-01-01)": 6547.128479744039,
         "AI_lower(2021-12-20)": 6620.383663197488,
         "AI_upper(2012-01-01)": 6539.3812631530045,
         "AI_upper(2021-12-20)": 6532.580281754077,
         "Unnamed: 0_y": "WP42",
         "X(ft)_y": 136532.27,
         "Y(ft)_y": 83571.51,
         "Completion_y": "Lower",
         "Elevation Kelly Bushing (ft)_y": 170.61,
         "Sum_Production": 61917.4423074,
         "line": 130434.2621,
         "Start Date": "1-Aug-17",
         "Well": "WP42",
         "Age": 1699,
         "_deepnote_index_column": 42
        },
        {
         "WELL": "WP16",
         "X(ft)": 112898.58,
         "Y(ft)": 91601.46,
         "Completion": "Lower",
         "Elevation Kelly Bushing (ft)": 168.63,
         "Unnamed: 0": 65,
         "MD(ft)": 4435.008038159999,
         "PORO(v/v)": 0.124279,
         "Permeability(mD)": "nan",
         "RHOB(g/cm3)": 2.515232146338395,
         "DTS(us/ft)": "nan",
         "DT(us/ft)": 67.65214532836384,
         "PEF(B/E)": 5.669299967508313,
         "RD(OHMM)": 132.1456979324,
         "RS(OHMM)": 140.7251684800827,
         "ROP": 17.649081179921655,
         "DENC(g/cm3)": 0.0764832966153524,
         "NPHI(v/v)": 0.1371423886770688,
         "Zone": "Upper",
         "well_id": "WP16",
         "X": 112898.58,
         "Y": 91601.46,
         "Completion Zone": "Lower",
         "AI_lower(2012-01-01)": 6503.44860350336,
         "AI_lower(2021-12-20)": 6597.02309506022,
         "AI_upper(2012-01-01)": 6481.076195372713,
         "AI_upper(2021-12-20)": 6499.212769803559,
         "Unnamed: 0_y": "WP16",
         "X(ft)_y": 112898.58,
         "Y(ft)_y": 91601.46,
         "Completion_y": "Lower",
         "Elevation Kelly Bushing (ft)_y": 168.63,
         "Sum_Production": 53733.5237507,
         "line": 128105.5766,
         "Start Date": "1-Dec-17",
         "Well": "WP16",
         "Age": 1577,
         "_deepnote_index_column": 16
        },
        {
         "WELL": "WP38",
         "X(ft)": 116803.31,
         "Y(ft)": 91177.75,
         "Completion": "Lower",
         "Elevation Kelly Bushing (ft)": 192.56,
         "Unnamed: 0": 1603,
         "MD(ft)": 4427.08751056,
         "PORO(v/v)": "nan",
         "Permeability(mD)": "nan",
         "RHOB(g/cm3)": 2.9556429409297835,
         "DTS(us/ft)": 143.0206733381333,
         "DT(us/ft)": 77.48385414744564,
         "PEF(B/E)": 9.144220259014292,
         "RD(OHMM)": 127.25158218175643,
         "RS(OHMM)": 148.42396418195528,
         "ROP": 29.94227117721065,
         "DENC(g/cm3)": 0.114834356236874,
         "NPHI(v/v)": 0.2958205313506841,
         "Zone": "Upper",
         "well_id": "WP38",
         "X": 116803.31,
         "Y": 91177.75,
         "Completion Zone": "Lower",
         "AI_lower(2012-01-01)": 6560.883015690263,
         "AI_lower(2021-12-20)": 6647.429658958754,
         "AI_upper(2012-01-01)": 6499.311845754269,
         "AI_upper(2021-12-20)": 6523.936608351086,
         "Unnamed: 0_y": "WP38",
         "X(ft)_y": 116803.31,
         "Y(ft)_y": 91177.75,
         "Completion_y": "Lower",
         "Elevation Kelly Bushing (ft)_y": 192.56,
         "Sum_Production": 48464.152107,
         "line": 128228.4525,
         "Start Date": "1-Oct-17",
         "Well": "WP38",
         "Age": 1638,
         "_deepnote_index_column": 38
        },
        {
         "WELL": "WP15",
         "X(ft)": 109560.26,
         "Y(ft)": 86833.62,
         "Completion": "Lower",
         "Elevation Kelly Bushing (ft)": 184.45,
         "Unnamed: 0": 1831,
         "MD(ft)": 4264.80118264,
         "PORO(v/v)": "nan",
         "Permeability(mD)": "nan",
         "RHOB(g/cm3)": 2.5187617647886187,
         "DTS(us/ft)": "nan",
         "DT(us/ft)": 43.53721197135656,
         "PEF(B/E)": "nan",
         "RD(OHMM)": 131.46193476156444,
         "RS(OHMM)": 143.84968291445216,
         "ROP": "nan",
         "DENC(g/cm3)": "nan",
         "NPHI(v/v)": 0.1299002458340346,
         "Zone": "Upper",
         "well_id": "WP15",
         "X": 109560.26,
         "Y": 86833.62,
         "Completion Zone": "Lower",
         "AI_lower(2012-01-01)": 6503.989099031181,
         "AI_lower(2021-12-20)": 6592.567556353216,
         "AI_upper(2012-01-01)": 6492.416064224228,
         "AI_upper(2021-12-20)": 6492.129181155583,
         "Unnamed: 0_y": "WP15",
         "X(ft)_y": 109560.26,
         "Y(ft)_y": 86833.62,
         "Completion_y": "Lower",
         "Elevation Kelly Bushing (ft)_y": 184.45,
         "Sum_Production": 45903.089669,
         "line": 129488.25020000001,
         "Start Date": "1-Apr-12",
         "Well": "WP15",
         "Age": 3647,
         "_deepnote_index_column": 15
        },
        {
         "WELL": "WP34",
         "X(ft)": 134053.71,
         "Y(ft)": 84658.45,
         "Completion": "Lower",
         "Elevation Kelly Bushing (ft)": 193.08,
         "Unnamed: 0": 899,
         "MD(ft)": 4667.34150488,
         "PORO(v/v)": "nan",
         "Permeability(mD)": "nan",
         "RHOB(g/cm3)": 2.7302808963183827,
         "DTS(us/ft)": 139.3351722483616,
         "DT(us/ft)": 74.57580725214441,
         "PEF(B/E)": 0.0926028141294046,
         "RD(OHMM)": 195.9241568557169,
         "RS(OHMM)": 333.38353582086046,
         "ROP": 27.35672809313436,
         "DENC(g/cm3)": 0.0926028141294046,
         "NPHI(v/v)": 0.1225207886567378,
         "Zone": "Upper",
         "well_id": "WP34",
         "X": 134053.71,
         "Y": 84658.45,
         "Completion Zone": "Lower",
         "AI_lower(2012-01-01)": 6532.878430537476,
         "AI_lower(2021-12-20)": 6613.128042322212,
         "AI_upper(2012-01-01)": 6539.716252626266,
         "AI_upper(2021-12-20)": 6519.091381538055,
         "Unnamed: 0_y": "WP34",
         "X(ft)_y": 134053.71,
         "Y(ft)_y": 84658.45,
         "Completion_y": "Lower",
         "Elevation Kelly Bushing (ft)_y": 193.08,
         "Sum_Production": 38372.619772000005,
         "line": 130119.0495,
         "Start Date": "1-Jun-16",
         "Well": "WP34",
         "Age": 2125,
         "_deepnote_index_column": 34
        },
        {
         "WELL": "WP47",
         "X(ft)": 137407.15,
         "Y(ft)": 84099.13,
         "Completion": "Lower",
         "Elevation Kelly Bushing (ft)": 183.12,
         "Unnamed: 0": 388,
         "MD(ft)": 4580.74421752,
         "PORO(v/v)": "nan",
         "Permeability(mD)": "nan",
         "RHOB(g/cm3)": 2.633395691948903,
         "DTS(us/ft)": "nan",
         "DT(us/ft)": 65.68052424658384,
         "PEF(B/E)": "nan",
         "RD(OHMM)": 153.1973143866145,
         "RS(OHMM)": 141.4897830348173,
         "ROP": "nan",
         "DENC(g/cm3)": "nan",
         "NPHI(v/v)": 0.1430461440992783,
         "Zone": "Upper",
         "well_id": "WP47",
         "X": 137407.15,
         "Y": 84099.13,
         "Completion Zone": "Lower",
         "AI_lower(2012-01-01)": 6562.865415099624,
         "AI_lower(2021-12-20)": 6642.461267335627,
         "AI_upper(2012-01-01)": 6520.586640598517,
         "AI_upper(2021-12-20)": 6519.366886394154,
         "Unnamed: 0_y": "WP47",
         "X(ft)_y": 137407.15,
         "Y(ft)_y": 84099.13,
         "Completion_y": "Lower",
         "Elevation Kelly Bushing (ft)_y": 183.12,
         "Sum_Production": 36459.588667,
         "line": 130281.2523,
         "Start Date": "1-Aug-19",
         "Well": "WP47",
         "Age": 969,
         "_deepnote_index_column": 47
        },
        {
         "WELL": "WP37",
         "X(ft)": 134902.25,
         "Y(ft)": 82632.62,
         "Completion": "Lower",
         "Elevation Kelly Bushing (ft)": 176.62,
         "Unnamed: 0": 1146,
         "MD(ft)": 4670.408495119999,
         "PORO(v/v)": 0.086999,
         "Permeability(mD)": "nan",
         "RHOB(g/cm3)": 2.5331286219127023,
         "DTS(us/ft)": "nan",
         "DT(us/ft)": 65.74052663289997,
         "PEF(B/E)": 6.01714278802381,
         "RD(OHMM)": 186.8962464388724,
         "RS(OHMM)": 224.401697577407,
         "ROP": 19.868500797525204,
         "DENC(g/cm3)": 0.0670398876134815,
         "NPHI(v/v)": 0.1065997190337039,
         "Zone": "Upper",
         "well_id": "WP37",
         "X": 134902.25,
         "Y": 82632.62,
         "Completion Zone": "Lower",
         "AI_lower(2012-01-01)": 6493.37301474449,
         "AI_lower(2021-12-20)": 6548.179020057673,
         "AI_upper(2012-01-01)": 6522.804644711711,
         "AI_upper(2021-12-20)": 6500.7320402660525,
         "Unnamed: 0_y": "WP37",
         "X(ft)_y": 134902.25,
         "Y(ft)_y": 82632.62,
         "Completion_y": "Lower",
         "Elevation Kelly Bushing (ft)_y": 176.62,
         "Sum_Production": 32097.8356758,
         "line": 130706.5402,
         "Start Date": "1-Jan-15",
         "Well": "WP37",
         "Age": 2642,
         "_deepnote_index_column": 37
        },
        {
         "WELL": "WP41",
         "X(ft)": 114333.01,
         "Y(ft)": 91616.66,
         "Completion": "Lower",
         "Elevation Kelly Bushing (ft)": 176.49,
         "Unnamed: 0": 818,
         "MD(ft)": 4469.50889528,
         "PORO(v/v)": "nan",
         "Permeability(mD)": "nan",
         "RHOB(g/cm3)": 2.566795698138929,
         "DTS(us/ft)": "nan",
         "DT(us/ft)": 61.27560602050299,
         "PEF(B/E)": 5.966927078727002,
         "RD(OHMM)": 218.51364116059187,
         "RS(OHMM)": 285.51951008984304,
         "ROP": 19.937691626255297,
         "DENC(g/cm3)": 0.066122028096924,
         "NPHI(v/v)": 0.1003402535121155,
         "Zone": "Upper",
         "well_id": "WP41",
         "X": 114333.01,
         "Y": 91616.66,
         "Completion Zone": "Lower",
         "AI_lower(2012-01-01)": 6526.871014036911,
         "AI_lower(2021-12-20)": 6623.273759197465,
         "AI_upper(2012-01-01)": 6491.381468955636,
         "AI_upper(2021-12-20)": 6514.690248516209,
         "Unnamed: 0_y": "WP41",
         "X(ft)_y": 114333.01,
         "Y(ft)_y": 91616.66,
         "Completion_y": "Lower",
         "Elevation Kelly Bushing (ft)_y": 176.49,
         "Sum_Production": 31704.7853189,
         "line": 128101.1686,
         "Start Date": "1-Sep-13",
         "Well": "WP41",
         "Age": 3129,
         "_deepnote_index_column": 41
        }
       ]
      },
      "text/plain": "    WELL      X(ft)     Y(ft) Completion  Elevation Kelly Bushing (ft)  \\\n0    WP0  137106.82  83818.47      Upper                        193.32   \n1    WP1  132460.98  85832.77      Upper                        187.15   \n2    WP2  133634.00  82144.52      Upper                        164.55   \n3    WP3  140892.57  81747.12      Lower                        179.92   \n4    WP4  109951.43  89343.45      Lower                        186.21   \n5    WP5  123950.95  92227.31      Lower                        172.80   \n6    WP6  111035.32  88692.32      Lower                        182.66   \n7    WP7  112439.69  85560.85      Lower                        181.09   \n8    WP8  127369.74  91739.99      Upper                        180.04   \n9    WP9  115943.69  86730.44      Lower                        178.25   \n10  WP10  134042.86  82411.27      Upper                        184.33   \n11  WP11  115725.49  86866.60      Upper                        192.03   \n12  WP12  133136.98  93691.55      Lower                        170.35   \n13  WP13  119311.27  89234.02      Upper                        190.28   \n14  WP14  134837.26  83865.82      Lower                        182.29   \n15  WP15  109560.26  86833.62      Lower                        184.45   \n16  WP16  112898.58  91601.46      Lower                        168.63   \n17  WP17  112766.46  88549.74      Lower                        181.35   \n18  WP18  117798.78  90645.70      Upper                        194.85   \n19  WP19  110189.22  86209.71      Upper                        169.20   \n20  WP20  133687.47  83554.44      Upper                        160.22   \n21  WP21  121120.49  87804.64      Upper                        162.57   \n22  WP22  115987.29  91854.91      Upper                        182.66   \n23  WP23  139326.01  84776.42      Upper                        203.85   \n24  WP24  142095.82  86042.02      Lower                        191.24   \n25  WP25  128136.21  89359.95      Lower                        196.73   \n26  WP26  118170.11  89488.69      Lower                        180.99   \n27  WP27  129829.39  87756.99      Upper                        193.98   \n28  WP28  120522.78  89987.00      Upper                        177.29   \n29  WP29  138541.42  82281.79      Lower                        186.13   \n30  WP30  131123.52  84356.27      Upper                        177.33   \n31  WP31  136285.14  86479.95      Lower                        174.51   \n32  WP32  128675.17  89882.13      Lower                        181.33   \n33  WP33  123960.21  85279.28      Lower                        175.24   \n34  WP34  134053.71  84658.45      Lower                        193.08   \n35  WP35  122230.81  87539.37      Upper                        181.95   \n36  WP36  111749.78  91050.01      Lower                        184.00   \n37  WP37  134902.25  82632.62      Lower                        176.62   \n38  WP38  116803.31  91177.75      Lower                        192.56   \n39  WP39  111890.88  91708.68      Upper                        172.68   \n40  WP40  126601.30  90679.21      Upper                        186.60   \n41  WP41  114333.01  91616.66      Lower                        176.49   \n42  WP42  136532.27  83571.51      Lower                        170.61   \n43  WP43  115684.27  89895.78      Lower                        175.11   \n44  WP44  118629.90  88703.87      Lower                        171.95   \n45  WP45  129176.30  93171.14      Upper                        177.87   \n46  WP46  139046.81  84476.47      Lower                        176.61   \n47  WP47  137407.15  84099.13      Lower                        183.12   \n48  WP48  124094.80  90648.76      Lower                        185.65   \n49  WP49  123188.65  88556.29      Lower                        178.53   \n\n    Unnamed: 0       MD(ft)  PORO(v/v)  Permeability(mD)  RHOB(g/cm3)  ...  \\\n0          169  4597.471739        NaN               NaN     2.700700  ...   \n1          473  4731.140545        NaN               NaN     2.564248  ...   \n2         1228  4687.021905   0.068448          0.010060     2.574827  ...   \n3         1875  4734.050184   0.039348               NaN     2.690694  ...   \n4         1920  4372.429384        NaN               NaN     2.730268  ...   \n5         1188  4602.662001        NaN               NaN     2.465382  ...   \n6          557  4369.447677        NaN               NaN          NaN  ...   \n7          145  4434.485528   0.046906               NaN     2.711619  ...   \n8          602  4665.319132        NaN               NaN     2.522050  ...   \n9          105  4593.035411        NaN               NaN     2.528578  ...   \n10         645  4683.694657        NaN               NaN     2.516155  ...   \n11         124  4595.509023        NaN               NaN     2.974076  ...   \n12        1823  4785.310995        NaN               NaN     2.415313  ...   \n13        1311  4387.671055        NaN               NaN     2.756594  ...   \n14        1269  4647.122978        NaN               NaN     2.528518  ...   \n15        1831  4264.801183        NaN               NaN     2.518762  ...   \n16          65  4435.008038   0.124279               NaN     2.515232  ...   \n17         687  4452.999989        NaN               NaN     2.507533  ...   \n18         209  4407.886377   0.111971               NaN     2.292304  ...   \n19         516  4228.005683   0.066728          0.022170     2.914309  ...   \n20        1735  4690.730722        NaN               NaN     2.672096  ...   \n21        1401  4399.473771        NaN               NaN     2.365943  ...   \n22         733  4461.531112        NaN               NaN     2.454220  ...   \n23          27  4494.588966        NaN               NaN     2.742443  ...   \n24           0  4494.121710        NaN               NaN     2.772266  ...   \n25         772  4755.778183        NaN               NaN     2.725119  ...   \n26        1356  4378.793994        NaN               NaN     2.729460  ...   \n27        1777  4801.502794        NaN               NaN     2.948346  ...   \n28        1443  4449.730000   0.084210          1.867752     2.497648  ...   \n29        1689  4708.704256        NaN               NaN     2.553667  ...   \n30        1105  4722.806016        NaN               NaN     2.522051  ...   \n31        1528  4582.487521        NaN               NaN     2.980176  ...   \n32         254  4737.267323   0.054707          0.003393     2.869471  ...   \n33         987  4464.996094        NaN               NaN     2.355620  ...   \n34         899  4667.341505        NaN               NaN     2.730281  ...   \n35         300  4448.031544        NaN               NaN     2.392885  ...   \n36        1489  4400.517188        NaN               NaN     2.541571  ...   \n37        1146  4670.408495   0.086999               NaN     2.533129  ...   \n38        1603  4427.087511        NaN               NaN     2.955643  ...   \n39        1008  4414.798722        NaN               NaN     2.602440  ...   \n40         427  4696.310967        NaN               NaN     2.485574  ...   \n41         818  4469.508895        NaN               NaN     2.566796  ...   \n42        1065  4617.357539        NaN               NaN     2.565888  ...   \n43        1558  4444.615011   0.094476          0.058904     2.504679  ...   \n44        1646  4368.415868        NaN               NaN     2.509171  ...   \n45        1044  4677.518233        NaN               NaN     2.806890  ...   \n46         859  4514.767050        NaN               NaN     2.569489  ...   \n47         388  4580.744218        NaN               NaN     2.633396  ...   \n48         941  4545.026572        NaN               NaN     2.436966  ...   \n49         342  4499.985829        NaN               NaN     2.740638  ...   \n\n    Unnamed: 0_y    X(ft)_y   Y(ft)_y  Completion_y  \\\n0            WP0  137106.82  83818.47         Upper   \n1            WP1  132460.98  85832.77         Upper   \n2            WP2  133634.00  82144.52         Upper   \n3            WP3  140892.57  81747.12         Lower   \n4            WP4  109951.43  89343.45         Lower   \n5            WP5  123950.95  92227.31         Lower   \n6            WP6  111035.32  88692.32         Lower   \n7            WP7  112439.69  85560.85         Lower   \n8            WP8  127369.74  91739.99         Upper   \n9            WP9  115943.69  86730.44         Lower   \n10          WP10  134042.86  82411.27         Upper   \n11          WP11  115725.49  86866.60         Upper   \n12          WP12  133136.98  93691.55         Lower   \n13          WP13  119311.27  89234.02         Upper   \n14          WP14  134837.26  83865.82         Lower   \n15          WP15  109560.26  86833.62         Lower   \n16          WP16  112898.58  91601.46         Lower   \n17          WP17  112766.46  88549.74         Lower   \n18          WP18  117798.78  90645.70         Upper   \n19          WP19  110189.22  86209.71         Upper   \n20          WP20  133687.47  83554.44         Upper   \n21          WP21  121120.49  87804.64         Upper   \n22          WP22  115987.29  91854.91         Upper   \n23          WP23  139326.01  84776.42         Upper   \n24          WP24  142095.82  86042.02         Lower   \n25          WP25  128136.21  89359.95         Lower   \n26          WP26  118170.11  89488.69         Lower   \n27          WP27  129829.39  87756.99         Upper   \n28          WP28  120522.78  89987.00         Upper   \n29          WP29  138541.42  82281.79         Lower   \n30          WP30  131123.52  84356.27         Upper   \n31          WP31  136285.14  86479.95         Lower   \n32          WP32  128675.17  89882.13         Lower   \n33          WP33  123960.21  85279.28         Lower   \n34          WP34  134053.71  84658.45         Lower   \n35          WP35  122230.81  87539.37         Upper   \n36          WP36  111749.78  91050.01         Lower   \n37          WP37  134902.25  82632.62         Lower   \n38          WP38  116803.31  91177.75         Lower   \n39          WP39  111890.88  91708.68         Upper   \n40          WP40  126601.30  90679.21         Upper   \n41          WP41  114333.01  91616.66         Lower   \n42          WP42  136532.27  83571.51         Lower   \n43          WP43  115684.27  89895.78         Lower   \n44          WP44  118629.90  88703.87         Lower   \n45          WP45  129176.30  93171.14         Upper   \n46          WP46  139046.81  84476.47         Lower   \n47          WP47  137407.15  84099.13         Lower   \n48          WP48  124094.80  90648.76         Lower   \n49          WP49  123188.65  88556.29         Lower   \n\n    Elevation Kelly Bushing (ft)_y  Sum_Production         line  Start Date  \\\n0                           193.32      475.695080  130362.6437    1-Jan-12   \n1                           187.15     1005.566662  129778.4967    1-Nov-16   \n2                           164.55      443.228898  130848.0892    1-Feb-15   \n3                           179.92    88345.368434  130963.3352    1-Dec-13   \n4                           186.21     8484.746653  128760.3995    1-May-19   \n5                           172.80     1056.718880  127924.0801    1-Sep-15   \n6                           182.66    30999.563162  128949.2272    1-Aug-19   \n7                           181.09       71.108432  129857.3535    1-Feb-21   \n8                           180.04      654.773717  128065.4029    1-Mar-13   \n9                           178.25      263.803390  129518.1724    1-May-12   \n10                          184.33     1576.345443  130770.7317    1-Apr-19   \n11                          192.03        0.000000  129478.6860    1-Jan-12   \n12                          170.35       57.822977  127499.4505    1-Dec-13   \n13                          190.28     1787.406680  128792.1342    1-Jun-15   \n14                          182.29    17534.952878  130348.9122    1-Jul-14   \n15                          184.45    45903.089669  129488.2502    1-Apr-12   \n16                          168.63    53733.523751  128105.5766    1-Dec-17   \n17                          181.35    17780.451483  128990.5754    1-Aug-12   \n18                          194.85    27653.205286  128382.7470    1-Jan-12   \n19                          169.20      354.104875  129669.1841    1-Aug-14   \n20                          160.22      870.011682  130439.2124    1-Apr-20   \n21                          162.57       60.019034  129206.6544    1-Dec-18   \n22                          182.66      342.147423  128032.0761    1-Mar-19   \n23                          203.85      497.725573  130084.8382    1-Sep-13   \n24                          191.24     4880.211255  129717.8142    1-Aug-17   \n25                          196.73    18598.340498  128755.6145    1-Apr-15   \n26                          180.99    18012.790032  128718.2799    1-Sep-18   \n27                          193.98      471.480349  129220.4729    1-Apr-17   \n28                          177.29     9973.879346  128573.7700    1-Jan-15   \n29                          186.13    28364.833877  130808.2809    1-Jan-18   \n30                          177.33       56.256269  130206.6817    1-Dec-17   \n31                          174.51    10134.846534  129590.8145    1-Feb-16   \n32                          181.33     3236.954768  128604.1823    1-Dec-21   \n33                          175.24        9.678521  129939.0088    1-Sep-12   \n34                          193.08    38372.619772  130119.0495    1-Jun-16   \n35                          181.95       22.018241  129283.5827    1-Apr-21   \n36                          184.00    12816.906661  128265.4971    1-Apr-19   \n37                          176.62    32097.835676  130706.5402    1-Jan-15   \n38                          192.56    48464.152107  128228.4525    1-Oct-17   \n39                          172.68      199.353498  128074.4828    1-Aug-16   \n40                          186.60       99.036248  128373.0291    1-Dec-21   \n41                          176.49    31704.785319  128101.1686    1-Sep-13   \n42                          170.61    61917.442307  130434.2621    1-Aug-17   \n43                          175.11   232777.797780  128600.2238    1-Mar-13   \n44                          171.95    24014.837487  128945.8777    1-Aug-17   \n45                          177.87        7.267656  127650.3694    1-Nov-17   \n46                          176.61    27494.021370  130171.8237    1-Apr-20   \n47                          183.12    36459.588667  130281.2523    1-Aug-19   \n48                          185.65    29287.593741  128381.8596    1-Nov-16   \n49                          178.53    18969.223454  128988.6759    1-Aug-17   \n\n    Well   Age  \n0    WP0  3738  \n1    WP1  1972  \n2    WP2  2611  \n3    WP3  3038  \n4    WP4  1061  \n5    WP5  2399  \n6    WP6   969  \n7    WP7   419  \n8    WP8  3313  \n9    WP9  3617  \n10  WP10  1091  \n11  WP11  3738  \n12  WP12  3038  \n13  WP13  2491  \n14  WP14  2826  \n15  WP15  3647  \n16  WP16  1577  \n17  WP17  3525  \n18  WP18  3738  \n19  WP19  2795  \n20  WP20   725  \n21  WP21  1212  \n22  WP22  1122  \n23  WP23  3129  \n24  WP24  1699  \n25  WP25  2552  \n26  WP26  1303  \n27  WP27  1821  \n28  WP28  2642  \n29  WP29  1546  \n30  WP30  1577  \n31  WP31  2246  \n32  WP32   116  \n33  WP33  3494  \n34  WP34  2125  \n35  WP35   360  \n36  WP36  1091  \n37  WP37  2642  \n38  WP38  1638  \n39  WP39  2064  \n40  WP40   116  \n41  WP41  3129  \n42  WP42  1699  \n43  WP43  3313  \n44  WP44  1699  \n45  WP45  1607  \n46  WP46   725  \n47  WP47   969  \n48  WP48  1972  \n49  WP49  1699  \n\n[50 rows x 37 columns]",
      "text/html": "<div>\n<style scoped>\n    .dataframe tbody tr th:only-of-type {\n        vertical-align: middle;\n    }\n\n    .dataframe tbody tr th {\n        vertical-align: top;\n    }\n\n    .dataframe thead th {\n        text-align: right;\n    }\n</style>\n<table border=\"1\" class=\"dataframe\">\n  <thead>\n    <tr style=\"text-align: right;\">\n      <th></th>\n      <th>WELL</th>\n      <th>X(ft)</th>\n      <th>Y(ft)</th>\n      <th>Completion</th>\n      <th>Elevation Kelly Bushing (ft)</th>\n      <th>Unnamed: 0</th>\n      <th>MD(ft)</th>\n      <th>PORO(v/v)</th>\n      <th>Permeability(mD)</th>\n      <th>RHOB(g/cm3)</th>\n      <th>...</th>\n      <th>Unnamed: 0_y</th>\n      <th>X(ft)_y</th>\n      <th>Y(ft)_y</th>\n      <th>Completion_y</th>\n      <th>Elevation Kelly Bushing (ft)_y</th>\n      <th>Sum_Production</th>\n      <th>line</th>\n      <th>Start Date</th>\n      <th>Well</th>\n      <th>Age</th>\n    </tr>\n  </thead>\n  <tbody>\n    <tr>\n      <th>0</th>\n      <td>WP0</td>\n      <td>137106.82</td>\n      <td>83818.47</td>\n      <td>Upper</td>\n      <td>193.32</td>\n      <td>169</td>\n      <td>4597.471739</td>\n      <td>NaN</td>\n      <td>NaN</td>\n      <td>2.700700</td>\n      <td>...</td>\n      <td>WP0</td>\n      <td>137106.82</td>\n      <td>83818.47</td>\n      <td>Upper</td>\n      <td>193.32</td>\n      <td>475.695080</td>\n      <td>130362.6437</td>\n      <td>1-Jan-12</td>\n      <td>WP0</td>\n      <td>3738</td>\n    </tr>\n    <tr>\n      <th>1</th>\n      <td>WP1</td>\n      <td>132460.98</td>\n      <td>85832.77</td>\n      <td>Upper</td>\n      <td>187.15</td>\n      <td>473</td>\n      <td>4731.140545</td>\n      <td>NaN</td>\n      <td>NaN</td>\n      <td>2.564248</td>\n      <td>...</td>\n      <td>WP1</td>\n      <td>132460.98</td>\n      <td>85832.77</td>\n      <td>Upper</td>\n      <td>187.15</td>\n      <td>1005.566662</td>\n      <td>129778.4967</td>\n      <td>1-Nov-16</td>\n      <td>WP1</td>\n      <td>1972</td>\n    </tr>\n    <tr>\n      <th>2</th>\n      <td>WP2</td>\n      <td>133634.00</td>\n      <td>82144.52</td>\n      <td>Upper</td>\n      <td>164.55</td>\n      <td>1228</td>\n      <td>4687.021905</td>\n      <td>0.068448</td>\n      <td>0.010060</td>\n      <td>2.574827</td>\n      <td>...</td>\n      <td>WP2</td>\n      <td>133634.00</td>\n      <td>82144.52</td>\n      <td>Upper</td>\n      <td>164.55</td>\n      <td>443.228898</td>\n      <td>130848.0892</td>\n      <td>1-Feb-15</td>\n      <td>WP2</td>\n      <td>2611</td>\n    </tr>\n    <tr>\n      <th>3</th>\n      <td>WP3</td>\n      <td>140892.57</td>\n      <td>81747.12</td>\n      <td>Lower</td>\n      <td>179.92</td>\n      <td>1875</td>\n      <td>4734.050184</td>\n      <td>0.039348</td>\n      <td>NaN</td>\n      <td>2.690694</td>\n      <td>...</td>\n      <td>WP3</td>\n      <td>140892.57</td>\n      <td>81747.12</td>\n      <td>Lower</td>\n      <td>179.92</td>\n      <td>88345.368434</td>\n      <td>130963.3352</td>\n      <td>1-Dec-13</td>\n      <td>WP3</td>\n      <td>3038</td>\n    </tr>\n    <tr>\n      <th>4</th>\n      <td>WP4</td>\n      <td>109951.43</td>\n      <td>89343.45</td>\n      <td>Lower</td>\n      <td>186.21</td>\n      <td>1920</td>\n      <td>4372.429384</td>\n      <td>NaN</td>\n      <td>NaN</td>\n      <td>2.730268</td>\n      <td>...</td>\n      <td>WP4</td>\n      <td>109951.43</td>\n      <td>89343.45</td>\n      <td>Lower</td>\n      <td>186.21</td>\n      <td>8484.746653</td>\n      <td>128760.3995</td>\n      <td>1-May-19</td>\n      <td>WP4</td>\n      <td>1061</td>\n    </tr>\n    <tr>\n      <th>5</th>\n      <td>WP5</td>\n      <td>123950.95</td>\n      <td>92227.31</td>\n      <td>Lower</td>\n      <td>172.80</td>\n      <td>1188</td>\n      <td>4602.662001</td>\n      <td>NaN</td>\n      <td>NaN</td>\n      <td>2.465382</td>\n      <td>...</td>\n      <td>WP5</td>\n      <td>123950.95</td>\n      <td>92227.31</td>\n      <td>Lower</td>\n      <td>172.80</td>\n      <td>1056.718880</td>\n      <td>127924.0801</td>\n      <td>1-Sep-15</td>\n      <td>WP5</td>\n      <td>2399</td>\n    </tr>\n    <tr>\n      <th>6</th>\n      <td>WP6</td>\n      <td>111035.32</td>\n      <td>88692.32</td>\n      <td>Lower</td>\n      <td>182.66</td>\n      <td>557</td>\n      <td>4369.447677</td>\n      <td>NaN</td>\n      <td>NaN</td>\n      <td>NaN</td>\n      <td>...</td>\n      <td>WP6</td>\n      <td>111035.32</td>\n      <td>88692.32</td>\n      <td>Lower</td>\n      <td>182.66</td>\n      <td>30999.563162</td>\n      <td>128949.2272</td>\n      <td>1-Aug-19</td>\n      <td>WP6</td>\n      <td>969</td>\n    </tr>\n    <tr>\n      <th>7</th>\n      <td>WP7</td>\n      <td>112439.69</td>\n      <td>85560.85</td>\n      <td>Lower</td>\n      <td>181.09</td>\n      <td>145</td>\n      <td>4434.485528</td>\n      <td>0.046906</td>\n      <td>NaN</td>\n      <td>2.711619</td>\n      <td>...</td>\n      <td>WP7</td>\n      <td>112439.69</td>\n      <td>85560.85</td>\n      <td>Lower</td>\n      <td>181.09</td>\n      <td>71.108432</td>\n      <td>129857.3535</td>\n      <td>1-Feb-21</td>\n      <td>WP7</td>\n      <td>419</td>\n    </tr>\n    <tr>\n      <th>8</th>\n      <td>WP8</td>\n      <td>127369.74</td>\n      <td>91739.99</td>\n      <td>Upper</td>\n      <td>180.04</td>\n      <td>602</td>\n      <td>4665.319132</td>\n      <td>NaN</td>\n      <td>NaN</td>\n      <td>2.522050</td>\n      <td>...</td>\n      <td>WP8</td>\n      <td>127369.74</td>\n      <td>91739.99</td>\n      <td>Upper</td>\n      <td>180.04</td>\n      <td>654.773717</td>\n      <td>128065.4029</td>\n      <td>1-Mar-13</td>\n      <td>WP8</td>\n      <td>3313</td>\n    </tr>\n    <tr>\n      <th>9</th>\n      <td>WP9</td>\n      <td>115943.69</td>\n      <td>86730.44</td>\n      <td>Lower</td>\n      <td>178.25</td>\n      <td>105</td>\n      <td>4593.035411</td>\n      <td>NaN</td>\n      <td>NaN</td>\n      <td>2.528578</td>\n      <td>...</td>\n      <td>WP9</td>\n      <td>115943.69</td>\n      <td>86730.44</td>\n      <td>Lower</td>\n      <td>178.25</td>\n      <td>263.803390</td>\n      <td>129518.1724</td>\n      <td>1-May-12</td>\n      <td>WP9</td>\n      <td>3617</td>\n    </tr>\n    <tr>\n      <th>10</th>\n      <td>WP10</td>\n      <td>134042.86</td>\n      <td>82411.27</td>\n      <td>Upper</td>\n      <td>184.33</td>\n      <td>645</td>\n      <td>4683.694657</td>\n      <td>NaN</td>\n      <td>NaN</td>\n      <td>2.516155</td>\n      <td>...</td>\n      <td>WP10</td>\n      <td>134042.86</td>\n      <td>82411.27</td>\n      <td>Upper</td>\n      <td>184.33</td>\n      <td>1576.345443</td>\n      <td>130770.7317</td>\n      <td>1-Apr-19</td>\n      <td>WP10</td>\n      <td>1091</td>\n    </tr>\n    <tr>\n      <th>11</th>\n      <td>WP11</td>\n      <td>115725.49</td>\n      <td>86866.60</td>\n      <td>Upper</td>\n      <td>192.03</td>\n      <td>124</td>\n      <td>4595.509023</td>\n      <td>NaN</td>\n      <td>NaN</td>\n      <td>2.974076</td>\n      <td>...</td>\n      <td>WP11</td>\n      <td>115725.49</td>\n      <td>86866.60</td>\n      <td>Upper</td>\n      <td>192.03</td>\n      <td>0.000000</td>\n      <td>129478.6860</td>\n      <td>1-Jan-12</td>\n      <td>WP11</td>\n      <td>3738</td>\n    </tr>\n    <tr>\n      <th>12</th>\n      <td>WP12</td>\n      <td>133136.98</td>\n      <td>93691.55</td>\n      <td>Lower</td>\n      <td>170.35</td>\n      <td>1823</td>\n      <td>4785.310995</td>\n      <td>NaN</td>\n      <td>NaN</td>\n      <td>2.415313</td>\n      <td>...</td>\n      <td>WP12</td>\n      <td>133136.98</td>\n      <td>93691.55</td>\n      <td>Lower</td>\n      <td>170.35</td>\n      <td>57.822977</td>\n      <td>127499.4505</td>\n      <td>1-Dec-13</td>\n      <td>WP12</td>\n      <td>3038</td>\n    </tr>\n    <tr>\n      <th>13</th>\n      <td>WP13</td>\n      <td>119311.27</td>\n      <td>89234.02</td>\n      <td>Upper</td>\n      <td>190.28</td>\n      <td>1311</td>\n      <td>4387.671055</td>\n      <td>NaN</td>\n      <td>NaN</td>\n      <td>2.756594</td>\n      <td>...</td>\n      <td>WP13</td>\n      <td>119311.27</td>\n      <td>89234.02</td>\n      <td>Upper</td>\n      <td>190.28</td>\n      <td>1787.406680</td>\n      <td>128792.1342</td>\n      <td>1-Jun-15</td>\n      <td>WP13</td>\n      <td>2491</td>\n    </tr>\n    <tr>\n      <th>14</th>\n      <td>WP14</td>\n      <td>134837.26</td>\n      <td>83865.82</td>\n      <td>Lower</td>\n      <td>182.29</td>\n      <td>1269</td>\n      <td>4647.122978</td>\n      <td>NaN</td>\n      <td>NaN</td>\n      <td>2.528518</td>\n      <td>...</td>\n      <td>WP14</td>\n      <td>134837.26</td>\n      <td>83865.82</td>\n      <td>Lower</td>\n      <td>182.29</td>\n      <td>17534.952878</td>\n      <td>130348.9122</td>\n      <td>1-Jul-14</td>\n      <td>WP14</td>\n      <td>2826</td>\n    </tr>\n    <tr>\n      <th>15</th>\n      <td>WP15</td>\n      <td>109560.26</td>\n      <td>86833.62</td>\n      <td>Lower</td>\n      <td>184.45</td>\n      <td>1831</td>\n      <td>4264.801183</td>\n      <td>NaN</td>\n      <td>NaN</td>\n      <td>2.518762</td>\n      <td>...</td>\n      <td>WP15</td>\n      <td>109560.26</td>\n      <td>86833.62</td>\n      <td>Lower</td>\n      <td>184.45</td>\n      <td>45903.089669</td>\n      <td>129488.2502</td>\n      <td>1-Apr-12</td>\n      <td>WP15</td>\n      <td>3647</td>\n    </tr>\n    <tr>\n      <th>16</th>\n      <td>WP16</td>\n      <td>112898.58</td>\n      <td>91601.46</td>\n      <td>Lower</td>\n      <td>168.63</td>\n      <td>65</td>\n      <td>4435.008038</td>\n      <td>0.124279</td>\n      <td>NaN</td>\n      <td>2.515232</td>\n      <td>...</td>\n      <td>WP16</td>\n      <td>112898.58</td>\n      <td>91601.46</td>\n      <td>Lower</td>\n      <td>168.63</td>\n      <td>53733.523751</td>\n      <td>128105.5766</td>\n      <td>1-Dec-17</td>\n      <td>WP16</td>\n      <td>1577</td>\n    </tr>\n    <tr>\n      <th>17</th>\n      <td>WP17</td>\n      <td>112766.46</td>\n      <td>88549.74</td>\n      <td>Lower</td>\n      <td>181.35</td>\n      <td>687</td>\n      <td>4452.999989</td>\n      <td>NaN</td>\n      <td>NaN</td>\n      <td>2.507533</td>\n      <td>...</td>\n      <td>WP17</td>\n      <td>112766.46</td>\n      <td>88549.74</td>\n      <td>Lower</td>\n      <td>181.35</td>\n      <td>17780.451483</td>\n      <td>128990.5754</td>\n      <td>1-Aug-12</td>\n      <td>WP17</td>\n      <td>3525</td>\n    </tr>\n    <tr>\n      <th>18</th>\n      <td>WP18</td>\n      <td>117798.78</td>\n      <td>90645.70</td>\n      <td>Upper</td>\n      <td>194.85</td>\n      <td>209</td>\n      <td>4407.886377</td>\n      <td>0.111971</td>\n      <td>NaN</td>\n      <td>2.292304</td>\n      <td>...</td>\n      <td>WP18</td>\n      <td>117798.78</td>\n      <td>90645.70</td>\n      <td>Upper</td>\n      <td>194.85</td>\n      <td>27653.205286</td>\n      <td>128382.7470</td>\n      <td>1-Jan-12</td>\n      <td>WP18</td>\n      <td>3738</td>\n    </tr>\n    <tr>\n      <th>19</th>\n      <td>WP19</td>\n      <td>110189.22</td>\n      <td>86209.71</td>\n      <td>Upper</td>\n      <td>169.20</td>\n      <td>516</td>\n      <td>4228.005683</td>\n      <td>0.066728</td>\n      <td>0.022170</td>\n      <td>2.914309</td>\n      <td>...</td>\n      <td>WP19</td>\n      <td>110189.22</td>\n      <td>86209.71</td>\n      <td>Upper</td>\n      <td>169.20</td>\n      <td>354.104875</td>\n      <td>129669.1841</td>\n      <td>1-Aug-14</td>\n      <td>WP19</td>\n      <td>2795</td>\n    </tr>\n    <tr>\n      <th>20</th>\n      <td>WP20</td>\n      <td>133687.47</td>\n      <td>83554.44</td>\n      <td>Upper</td>\n      <td>160.22</td>\n      <td>1735</td>\n      <td>4690.730722</td>\n      <td>NaN</td>\n      <td>NaN</td>\n      <td>2.672096</td>\n      <td>...</td>\n      <td>WP20</td>\n      <td>133687.47</td>\n      <td>83554.44</td>\n      <td>Upper</td>\n      <td>160.22</td>\n      <td>870.011682</td>\n      <td>130439.2124</td>\n      <td>1-Apr-20</td>\n      <td>WP20</td>\n      <td>725</td>\n    </tr>\n    <tr>\n      <th>21</th>\n      <td>WP21</td>\n      <td>121120.49</td>\n      <td>87804.64</td>\n      <td>Upper</td>\n      <td>162.57</td>\n      <td>1401</td>\n      <td>4399.473771</td>\n      <td>NaN</td>\n      <td>NaN</td>\n      <td>2.365943</td>\n      <td>...</td>\n      <td>WP21</td>\n      <td>121120.49</td>\n      <td>87804.64</td>\n      <td>Upper</td>\n      <td>162.57</td>\n      <td>60.019034</td>\n      <td>129206.6544</td>\n      <td>1-Dec-18</td>\n      <td>WP21</td>\n      <td>1212</td>\n    </tr>\n    <tr>\n      <th>22</th>\n      <td>WP22</td>\n      <td>115987.29</td>\n      <td>91854.91</td>\n      <td>Upper</td>\n      <td>182.66</td>\n      <td>733</td>\n      <td>4461.531112</td>\n      <td>NaN</td>\n      <td>NaN</td>\n      <td>2.454220</td>\n      <td>...</td>\n      <td>WP22</td>\n      <td>115987.29</td>\n      <td>91854.91</td>\n      <td>Upper</td>\n      <td>182.66</td>\n      <td>342.147423</td>\n      <td>128032.0761</td>\n      <td>1-Mar-19</td>\n      <td>WP22</td>\n      <td>1122</td>\n    </tr>\n    <tr>\n      <th>23</th>\n      <td>WP23</td>\n      <td>139326.01</td>\n      <td>84776.42</td>\n      <td>Upper</td>\n      <td>203.85</td>\n      <td>27</td>\n      <td>4494.588966</td>\n      <td>NaN</td>\n      <td>NaN</td>\n      <td>2.742443</td>\n      <td>...</td>\n      <td>WP23</td>\n      <td>139326.01</td>\n      <td>84776.42</td>\n      <td>Upper</td>\n      <td>203.85</td>\n      <td>497.725573</td>\n      <td>130084.8382</td>\n      <td>1-Sep-13</td>\n      <td>WP23</td>\n      <td>3129</td>\n    </tr>\n    <tr>\n      <th>24</th>\n      <td>WP24</td>\n      <td>142095.82</td>\n      <td>86042.02</td>\n      <td>Lower</td>\n      <td>191.24</td>\n      <td>0</td>\n      <td>4494.121710</td>\n      <td>NaN</td>\n      <td>NaN</td>\n      <td>2.772266</td>\n      <td>...</td>\n      <td>WP24</td>\n      <td>142095.82</td>\n      <td>86042.02</td>\n      <td>Lower</td>\n      <td>191.24</td>\n      <td>4880.211255</td>\n      <td>129717.8142</td>\n      <td>1-Aug-17</td>\n      <td>WP24</td>\n      <td>1699</td>\n    </tr>\n    <tr>\n      <th>25</th>\n      <td>WP25</td>\n      <td>128136.21</td>\n      <td>89359.95</td>\n      <td>Lower</td>\n      <td>196.73</td>\n      <td>772</td>\n      <td>4755.778183</td>\n      <td>NaN</td>\n      <td>NaN</td>\n      <td>2.725119</td>\n      <td>...</td>\n      <td>WP25</td>\n      <td>128136.21</td>\n      <td>89359.95</td>\n      <td>Lower</td>\n      <td>196.73</td>\n      <td>18598.340498</td>\n      <td>128755.6145</td>\n      <td>1-Apr-15</td>\n      <td>WP25</td>\n      <td>2552</td>\n    </tr>\n    <tr>\n      <th>26</th>\n      <td>WP26</td>\n      <td>118170.11</td>\n      <td>89488.69</td>\n      <td>Lower</td>\n      <td>180.99</td>\n      <td>1356</td>\n      <td>4378.793994</td>\n      <td>NaN</td>\n      <td>NaN</td>\n      <td>2.729460</td>\n      <td>...</td>\n      <td>WP26</td>\n      <td>118170.11</td>\n      <td>89488.69</td>\n      <td>Lower</td>\n      <td>180.99</td>\n      <td>18012.790032</td>\n      <td>128718.2799</td>\n      <td>1-Sep-18</td>\n      <td>WP26</td>\n      <td>1303</td>\n    </tr>\n    <tr>\n      <th>27</th>\n      <td>WP27</td>\n      <td>129829.39</td>\n      <td>87756.99</td>\n      <td>Upper</td>\n      <td>193.98</td>\n      <td>1777</td>\n      <td>4801.502794</td>\n      <td>NaN</td>\n      <td>NaN</td>\n      <td>2.948346</td>\n      <td>...</td>\n      <td>WP27</td>\n      <td>129829.39</td>\n      <td>87756.99</td>\n      <td>Upper</td>\n      <td>193.98</td>\n      <td>471.480349</td>\n      <td>129220.4729</td>\n      <td>1-Apr-17</td>\n      <td>WP27</td>\n      <td>1821</td>\n    </tr>\n    <tr>\n      <th>28</th>\n      <td>WP28</td>\n      <td>120522.78</td>\n      <td>89987.00</td>\n      <td>Upper</td>\n      <td>177.29</td>\n      <td>1443</td>\n      <td>4449.730000</td>\n      <td>0.084210</td>\n      <td>1.867752</td>\n      <td>2.497648</td>\n      <td>...</td>\n      <td>WP28</td>\n      <td>120522.78</td>\n      <td>89987.00</td>\n      <td>Upper</td>\n      <td>177.29</td>\n      <td>9973.879346</td>\n      <td>128573.7700</td>\n      <td>1-Jan-15</td>\n      <td>WP28</td>\n      <td>2642</td>\n    </tr>\n    <tr>\n      <th>29</th>\n      <td>WP29</td>\n      <td>138541.42</td>\n      <td>82281.79</td>\n      <td>Lower</td>\n      <td>186.13</td>\n      <td>1689</td>\n      <td>4708.704256</td>\n      <td>NaN</td>\n      <td>NaN</td>\n      <td>2.553667</td>\n      <td>...</td>\n      <td>WP29</td>\n      <td>138541.42</td>\n      <td>82281.79</td>\n      <td>Lower</td>\n      <td>186.13</td>\n      <td>28364.833877</td>\n      <td>130808.2809</td>\n      <td>1-Jan-18</td>\n      <td>WP29</td>\n      <td>1546</td>\n    </tr>\n    <tr>\n      <th>30</th>\n      <td>WP30</td>\n      <td>131123.52</td>\n      <td>84356.27</td>\n      <td>Upper</td>\n      <td>177.33</td>\n      <td>1105</td>\n      <td>4722.806016</td>\n      <td>NaN</td>\n      <td>NaN</td>\n      <td>2.522051</td>\n      <td>...</td>\n      <td>WP30</td>\n      <td>131123.52</td>\n      <td>84356.27</td>\n      <td>Upper</td>\n      <td>177.33</td>\n      <td>56.256269</td>\n      <td>130206.6817</td>\n      <td>1-Dec-17</td>\n      <td>WP30</td>\n      <td>1577</td>\n    </tr>\n    <tr>\n      <th>31</th>\n      <td>WP31</td>\n      <td>136285.14</td>\n      <td>86479.95</td>\n      <td>Lower</td>\n      <td>174.51</td>\n      <td>1528</td>\n      <td>4582.487521</td>\n      <td>NaN</td>\n      <td>NaN</td>\n      <td>2.980176</td>\n      <td>...</td>\n      <td>WP31</td>\n      <td>136285.14</td>\n      <td>86479.95</td>\n      <td>Lower</td>\n      <td>174.51</td>\n      <td>10134.846534</td>\n      <td>129590.8145</td>\n      <td>1-Feb-16</td>\n      <td>WP31</td>\n      <td>2246</td>\n    </tr>\n    <tr>\n      <th>32</th>\n      <td>WP32</td>\n      <td>128675.17</td>\n      <td>89882.13</td>\n      <td>Lower</td>\n      <td>181.33</td>\n      <td>254</td>\n      <td>4737.267323</td>\n      <td>0.054707</td>\n      <td>0.003393</td>\n      <td>2.869471</td>\n      <td>...</td>\n      <td>WP32</td>\n      <td>128675.17</td>\n      <td>89882.13</td>\n      <td>Lower</td>\n      <td>181.33</td>\n      <td>3236.954768</td>\n      <td>128604.1823</td>\n      <td>1-Dec-21</td>\n      <td>WP32</td>\n      <td>116</td>\n    </tr>\n    <tr>\n      <th>33</th>\n      <td>WP33</td>\n      <td>123960.21</td>\n      <td>85279.28</td>\n      <td>Lower</td>\n      <td>175.24</td>\n      <td>987</td>\n      <td>4464.996094</td>\n      <td>NaN</td>\n      <td>NaN</td>\n      <td>2.355620</td>\n      <td>...</td>\n      <td>WP33</td>\n      <td>123960.21</td>\n      <td>85279.28</td>\n      <td>Lower</td>\n      <td>175.24</td>\n      <td>9.678521</td>\n      <td>129939.0088</td>\n      <td>1-Sep-12</td>\n      <td>WP33</td>\n      <td>3494</td>\n    </tr>\n    <tr>\n      <th>34</th>\n      <td>WP34</td>\n      <td>134053.71</td>\n      <td>84658.45</td>\n      <td>Lower</td>\n      <td>193.08</td>\n      <td>899</td>\n      <td>4667.341505</td>\n      <td>NaN</td>\n      <td>NaN</td>\n      <td>2.730281</td>\n      <td>...</td>\n      <td>WP34</td>\n      <td>134053.71</td>\n      <td>84658.45</td>\n      <td>Lower</td>\n      <td>193.08</td>\n      <td>38372.619772</td>\n      <td>130119.0495</td>\n      <td>1-Jun-16</td>\n      <td>WP34</td>\n      <td>2125</td>\n    </tr>\n    <tr>\n      <th>35</th>\n      <td>WP35</td>\n      <td>122230.81</td>\n      <td>87539.37</td>\n      <td>Upper</td>\n      <td>181.95</td>\n      <td>300</td>\n      <td>4448.031544</td>\n      <td>NaN</td>\n      <td>NaN</td>\n      <td>2.392885</td>\n      <td>...</td>\n      <td>WP35</td>\n      <td>122230.81</td>\n      <td>87539.37</td>\n      <td>Upper</td>\n      <td>181.95</td>\n      <td>22.018241</td>\n      <td>129283.5827</td>\n      <td>1-Apr-21</td>\n      <td>WP35</td>\n      <td>360</td>\n    </tr>\n    <tr>\n      <th>36</th>\n      <td>WP36</td>\n      <td>111749.78</td>\n      <td>91050.01</td>\n      <td>Lower</td>\n      <td>184.00</td>\n      <td>1489</td>\n      <td>4400.517188</td>\n      <td>NaN</td>\n      <td>NaN</td>\n      <td>2.541571</td>\n      <td>...</td>\n      <td>WP36</td>\n      <td>111749.78</td>\n      <td>91050.01</td>\n      <td>Lower</td>\n      <td>184.00</td>\n      <td>12816.906661</td>\n      <td>128265.4971</td>\n      <td>1-Apr-19</td>\n      <td>WP36</td>\n      <td>1091</td>\n    </tr>\n    <tr>\n      <th>37</th>\n      <td>WP37</td>\n      <td>134902.25</td>\n      <td>82632.62</td>\n      <td>Lower</td>\n      <td>176.62</td>\n      <td>1146</td>\n      <td>4670.408495</td>\n      <td>0.086999</td>\n      <td>NaN</td>\n      <td>2.533129</td>\n      <td>...</td>\n      <td>WP37</td>\n      <td>134902.25</td>\n      <td>82632.62</td>\n      <td>Lower</td>\n      <td>176.62</td>\n      <td>32097.835676</td>\n      <td>130706.5402</td>\n      <td>1-Jan-15</td>\n      <td>WP37</td>\n      <td>2642</td>\n    </tr>\n    <tr>\n      <th>38</th>\n      <td>WP38</td>\n      <td>116803.31</td>\n      <td>91177.75</td>\n      <td>Lower</td>\n      <td>192.56</td>\n      <td>1603</td>\n      <td>4427.087511</td>\n      <td>NaN</td>\n      <td>NaN</td>\n      <td>2.955643</td>\n      <td>...</td>\n      <td>WP38</td>\n      <td>116803.31</td>\n      <td>91177.75</td>\n      <td>Lower</td>\n      <td>192.56</td>\n      <td>48464.152107</td>\n      <td>128228.4525</td>\n      <td>1-Oct-17</td>\n      <td>WP38</td>\n      <td>1638</td>\n    </tr>\n    <tr>\n      <th>39</th>\n      <td>WP39</td>\n      <td>111890.88</td>\n      <td>91708.68</td>\n      <td>Upper</td>\n      <td>172.68</td>\n      <td>1008</td>\n      <td>4414.798722</td>\n      <td>NaN</td>\n      <td>NaN</td>\n      <td>2.602440</td>\n      <td>...</td>\n      <td>WP39</td>\n      <td>111890.88</td>\n      <td>91708.68</td>\n      <td>Upper</td>\n      <td>172.68</td>\n      <td>199.353498</td>\n      <td>128074.4828</td>\n      <td>1-Aug-16</td>\n      <td>WP39</td>\n      <td>2064</td>\n    </tr>\n    <tr>\n      <th>40</th>\n      <td>WP40</td>\n      <td>126601.30</td>\n      <td>90679.21</td>\n      <td>Upper</td>\n      <td>186.60</td>\n      <td>427</td>\n      <td>4696.310967</td>\n      <td>NaN</td>\n      <td>NaN</td>\n      <td>2.485574</td>\n      <td>...</td>\n      <td>WP40</td>\n      <td>126601.30</td>\n      <td>90679.21</td>\n      <td>Upper</td>\n      <td>186.60</td>\n      <td>99.036248</td>\n      <td>128373.0291</td>\n      <td>1-Dec-21</td>\n      <td>WP40</td>\n      <td>116</td>\n    </tr>\n    <tr>\n      <th>41</th>\n      <td>WP41</td>\n      <td>114333.01</td>\n      <td>91616.66</td>\n      <td>Lower</td>\n      <td>176.49</td>\n      <td>818</td>\n      <td>4469.508895</td>\n      <td>NaN</td>\n      <td>NaN</td>\n      <td>2.566796</td>\n      <td>...</td>\n      <td>WP41</td>\n      <td>114333.01</td>\n      <td>91616.66</td>\n      <td>Lower</td>\n      <td>176.49</td>\n      <td>31704.785319</td>\n      <td>128101.1686</td>\n      <td>1-Sep-13</td>\n      <td>WP41</td>\n      <td>3129</td>\n    </tr>\n    <tr>\n      <th>42</th>\n      <td>WP42</td>\n      <td>136532.27</td>\n      <td>83571.51</td>\n      <td>Lower</td>\n      <td>170.61</td>\n      <td>1065</td>\n      <td>4617.357539</td>\n      <td>NaN</td>\n      <td>NaN</td>\n      <td>2.565888</td>\n      <td>...</td>\n      <td>WP42</td>\n      <td>136532.27</td>\n      <td>83571.51</td>\n      <td>Lower</td>\n      <td>170.61</td>\n      <td>61917.442307</td>\n      <td>130434.2621</td>\n      <td>1-Aug-17</td>\n      <td>WP42</td>\n      <td>1699</td>\n    </tr>\n    <tr>\n      <th>43</th>\n      <td>WP43</td>\n      <td>115684.27</td>\n      <td>89895.78</td>\n      <td>Lower</td>\n      <td>175.11</td>\n      <td>1558</td>\n      <td>4444.615011</td>\n      <td>0.094476</td>\n      <td>0.058904</td>\n      <td>2.504679</td>\n      <td>...</td>\n      <td>WP43</td>\n      <td>115684.27</td>\n      <td>89895.78</td>\n      <td>Lower</td>\n      <td>175.11</td>\n      <td>232777.797780</td>\n      <td>128600.2238</td>\n      <td>1-Mar-13</td>\n      <td>WP43</td>\n      <td>3313</td>\n    </tr>\n    <tr>\n      <th>44</th>\n      <td>WP44</td>\n      <td>118629.90</td>\n      <td>88703.87</td>\n      <td>Lower</td>\n      <td>171.95</td>\n      <td>1646</td>\n      <td>4368.415868</td>\n      <td>NaN</td>\n      <td>NaN</td>\n      <td>2.509171</td>\n      <td>...</td>\n      <td>WP44</td>\n      <td>118629.90</td>\n      <td>88703.87</td>\n      <td>Lower</td>\n      <td>171.95</td>\n      <td>24014.837487</td>\n      <td>128945.8777</td>\n      <td>1-Aug-17</td>\n      <td>WP44</td>\n      <td>1699</td>\n    </tr>\n    <tr>\n      <th>45</th>\n      <td>WP45</td>\n      <td>129176.30</td>\n      <td>93171.14</td>\n      <td>Upper</td>\n      <td>177.87</td>\n      <td>1044</td>\n      <td>4677.518233</td>\n      <td>NaN</td>\n      <td>NaN</td>\n      <td>2.806890</td>\n      <td>...</td>\n      <td>WP45</td>\n      <td>129176.30</td>\n      <td>93171.14</td>\n      <td>Upper</td>\n      <td>177.87</td>\n      <td>7.267656</td>\n      <td>127650.3694</td>\n      <td>1-Nov-17</td>\n      <td>WP45</td>\n      <td>1607</td>\n    </tr>\n    <tr>\n      <th>46</th>\n      <td>WP46</td>\n      <td>139046.81</td>\n      <td>84476.47</td>\n      <td>Lower</td>\n      <td>176.61</td>\n      <td>859</td>\n      <td>4514.767050</td>\n      <td>NaN</td>\n      <td>NaN</td>\n      <td>2.569489</td>\n      <td>...</td>\n      <td>WP46</td>\n      <td>139046.81</td>\n      <td>84476.47</td>\n      <td>Lower</td>\n      <td>176.61</td>\n      <td>27494.021370</td>\n      <td>130171.8237</td>\n      <td>1-Apr-20</td>\n      <td>WP46</td>\n      <td>725</td>\n    </tr>\n    <tr>\n      <th>47</th>\n      <td>WP47</td>\n      <td>137407.15</td>\n      <td>84099.13</td>\n      <td>Lower</td>\n      <td>183.12</td>\n      <td>388</td>\n      <td>4580.744218</td>\n      <td>NaN</td>\n      <td>NaN</td>\n      <td>2.633396</td>\n      <td>...</td>\n      <td>WP47</td>\n      <td>137407.15</td>\n      <td>84099.13</td>\n      <td>Lower</td>\n      <td>183.12</td>\n      <td>36459.588667</td>\n      <td>130281.2523</td>\n      <td>1-Aug-19</td>\n      <td>WP47</td>\n      <td>969</td>\n    </tr>\n    <tr>\n      <th>48</th>\n      <td>WP48</td>\n      <td>124094.80</td>\n      <td>90648.76</td>\n      <td>Lower</td>\n      <td>185.65</td>\n      <td>941</td>\n      <td>4545.026572</td>\n      <td>NaN</td>\n      <td>NaN</td>\n      <td>2.436966</td>\n      <td>...</td>\n      <td>WP48</td>\n      <td>124094.80</td>\n      <td>90648.76</td>\n      <td>Lower</td>\n      <td>185.65</td>\n      <td>29287.593741</td>\n      <td>128381.8596</td>\n      <td>1-Nov-16</td>\n      <td>WP48</td>\n      <td>1972</td>\n    </tr>\n    <tr>\n      <th>49</th>\n      <td>WP49</td>\n      <td>123188.65</td>\n      <td>88556.29</td>\n      <td>Lower</td>\n      <td>178.53</td>\n      <td>342</td>\n      <td>4499.985829</td>\n      <td>NaN</td>\n      <td>NaN</td>\n      <td>2.740638</td>\n      <td>...</td>\n      <td>WP49</td>\n      <td>123188.65</td>\n      <td>88556.29</td>\n      <td>Lower</td>\n      <td>178.53</td>\n      <td>18969.223454</td>\n      <td>128988.6759</td>\n      <td>1-Aug-17</td>\n      <td>WP49</td>\n      <td>1699</td>\n    </tr>\n  </tbody>\n</table>\n<p>50 rows × 37 columns</p>\n</div>"
     },
     "metadata": {}
    }
   ]
  },
  {
   "cell_type": "code",
   "metadata": {
    "cell_id": "0905d317977042808684f02f667897a9",
    "tags": [],
    "deepnote_to_be_reexecuted": true,
    "source_hash": "a791a6ad",
    "execution_start": 1648352696739,
    "execution_millis": 939,
    "deepnote_cell_type": "code",
    "deepnote_cell_height": 552.828125,
    "deepnote_output_heights": [
     21.1875,
     385.65625
    ]
   },
   "source": "plt.figure(figsize=(20,10))\nplt.scatter(wells['Y(ft)'], wells['X(ft)'], c='black', s=wells['Sum_Production']/500)",
   "execution_count": null,
   "outputs": [
    {
     "output_type": "execute_result",
     "execution_count": 140,
     "data": {
      "text/plain": "<matplotlib.collections.PathCollection at 0x7ff96fdfb890>"
     },
     "metadata": {}
    },
    {
     "data": {
      "text/plain": "<Figure size 1440x720 with 1 Axes>",
      "image/png": "[encoded data removed]"
     },
     "metadata": {
      "needs_background": "light",
      "image/png": {
       "width": 1175,
       "height": 575
      }
     },
     "output_type": "display_data"
    }
   ]
  },
  {
   "cell_type": "code",
   "metadata": {
    "cell_id": "1425e58c6e9540a28743e36736536b6b",
    "tags": [],
    "deepnote_to_be_reexecuted": true,
    "source_hash": "7fbee90",
    "execution_start": 1648352451809,
    "execution_millis": 1071,
    "deepnote_cell_type": "code",
    "deepnote_cell_height": 830.828125,
    "deepnote_output_heights": [
     21.1875,
     411.65625
    ]
   },
   "source": "t = np.linspace(75000, 97500, 100)\nfault = -.29*t + 154670\n\nplt.figure(figsize=(20,10))\n#plt.scatter(sum_interp['Y'], sum_interp['X'], c=sum_interp['PORO(v/v)'], )\nplt.scatter(ai['Y'], ai['X'], c=ai['pred'], )\nplt.colorbar()\nuppers = wells\nplt.scatter(uppers['Y(ft)'], uppers['X(ft)'], s=uppers['Sum_Production']/500, c='black', cmap='gray')\n\nplt.title('Interpolated Wave Delay', fontsize=30)\nplt.xlabel(\"Y(ft)\", fontsize=20)\nplt.ylabel(\"X(ft)\", fontsize=20)\nplt.scatter(t, fault, s=5, c='black', marker='x', label='faultline')\n\n# validate using existing wells",
   "execution_count": null,
   "outputs": [
    {
     "output_type": "execute_result",
     "execution_count": 134,
     "data": {
      "text/plain": "<matplotlib.collections.PathCollection at 0x7ff96eedcb10>"
     },
     "metadata": {}
    },
    {
     "data": {
      "text/plain": "<Figure size 1440x720 with 1 Axes>",
      "image/png": "[encoded data removed]"
     },
     "metadata": {
      "needs_background": "light",
      "image/png": {
       "width": 1198,
       "height": 626
      }
     },
     "output_type": "display_data"
    }
   ]
  },
  {
   "cell_type": "code",
   "metadata": {
    "cell_id": "957d6a70ce7f4ff4a0b4c9888b056075",
    "tags": [],
    "deepnote_to_be_reexecuted": true,
    "source_hash": "e6928a8f",
    "execution_start": 1648352348466,
    "execution_millis": 502,
    "deepnote_table_state": {
     "pageSize": 10,
     "pageIndex": 0,
     "filters": [],
     "sortBy": [
      {
       "id": "sum",
       "type": "desc"
      }
     ]
    },
    "deepnote_table_loading": false,
    "deepnote_cell_type": "code",
    "deepnote_cell_height": 645.265625
   },
   "source": "data",
   "execution_count": null,
   "outputs": [
    {
     "output_type": "execute_result",
     "execution_count": 133,
     "data": {
      "application/vnd.deepnote.dataframe.v3+json": {
       "column_count": 28,
       "row_count": 49,
       "columns": [
        {
         "name": "well_id",
         "dtype": "object",
         "stats": {
          "unique_count": 49,
          "nan_count": 0,
          "categories": [
           {
            "name": "WP15",
            "count": 1
           },
           {
            "name": "WP43",
            "count": 1
           },
           {
            "name": "47 others",
            "count": 47
           }
          ]
         }
        },
        {
         "name": "MD(ft)",
         "dtype": "float64",
         "stats": {
          "unique_count": 49,
          "nan_count": 0,
          "min": "4359.20568344",
          "max": "4949.10279384",
          "histogram": [
           {
            "bin_start": 4359.20568344,
            "bin_end": 4418.19539448,
            "count": 2
           },
           {
            "bin_start": 4418.19539448,
            "bin_end": 4477.18510552,
            "count": 0
           },
           {
            "bin_start": 4477.18510552,
            "bin_end": 4536.17481656,
            "count": 10
           },
           {
            "bin_start": 4536.17481656,
            "bin_end": 4595.1645276,
            "count": 7
           },
           {
            "bin_start": 4595.1645276,
            "bin_end": 4654.15423864,
            "count": 7
           },
           {
            "bin_start": 4654.15423864,
            "bin_end": 4713.14394968,
            "count": 3
           },
           {
            "bin_start": 4713.14394968,
            "bin_end": 4772.13366072,
            "count": 4
           },
           {
            "bin_start": 4772.13366072,
            "bin_end": 4831.12337176,
            "count": 8
           },
           {
            "bin_start": 4831.12337176,
            "bin_end": 4890.1130828000005,
            "count": 6
           },
           {
            "bin_start": 4890.1130828000005,
            "bin_end": 4949.10279384,
            "count": 2
           }
          ]
         }
        },
        {
         "name": "PORO(v/v)",
         "dtype": "float64",
         "stats": {
          "unique_count": 49,
          "nan_count": 0,
          "min": "0.0726643543601418",
          "max": "0.1972521663950856",
          "histogram": [
           {
            "bin_start": 0.0726643543601418,
            "bin_end": 0.08512313556363618,
            "count": 4
           },
           {
            "bin_start": 0.08512313556363618,
            "bin_end": 0.09758191676713057,
            "count": 2
           },
           {
            "bin_start": 0.09758191676713057,
            "bin_end": 0.11004069797062495,
            "count": 5
           },
           {
            "bin_start": 0.11004069797062495,
            "bin_end": 0.12249947917411932,
            "count": 8
           },
           {
            "bin_start": 0.12249947917411932,
            "bin_end": 0.13495826037761371,
            "count": 9
           },
           {
            "bin_start": 0.13495826037761371,
            "bin_end": 0.14741704158110808,
            "count": 10
           },
           {
            "bin_start": 0.14741704158110808,
            "bin_end": 0.15987582278460247,
            "count": 4
           },
           {
            "bin_start": 0.15987582278460247,
            "bin_end": 0.17233460398809686,
            "count": 4
           },
           {
            "bin_start": 0.17233460398809686,
            "bin_end": 0.18479338519159122,
            "count": 1
           },
           {
            "bin_start": 0.18479338519159122,
            "bin_end": 0.1972521663950856,
            "count": 2
           }
          ]
         }
        },
        {
         "name": "RHOB(g/cm3)",
         "dtype": "float64",
         "stats": {
          "unique_count": 49,
          "nan_count": 0,
          "min": "2.225759202891536",
          "max": "2.648328062354961",
          "histogram": [
           {
            "bin_start": 2.225759202891536,
            "bin_end": 2.2680160888378786,
            "count": 1
           },
           {
            "bin_start": 2.2680160888378786,
            "bin_end": 2.3102729747842212,
            "count": 2
           },
           {
            "bin_start": 2.3102729747842212,
            "bin_end": 2.3525298607305634,
            "count": 3
           },
           {
            "bin_start": 2.3525298607305634,
            "bin_end": 2.394786746676906,
            "count": 4
           },
           {
            "bin_start": 2.394786746676906,
            "bin_end": 2.4370436326232485,
            "count": 4
           },
           {
            "bin_start": 2.4370436326232485,
            "bin_end": 2.479300518569591,
            "count": 10
           },
           {
            "bin_start": 2.479300518569591,
            "bin_end": 2.5215574045159337,
            "count": 8
           },
           {
            "bin_start": 2.5215574045159337,
            "bin_end": 2.563814290462276,
            "count": 8
           },
           {
            "bin_start": 2.563814290462276,
            "bin_end": 2.6060711764086184,
            "count": 5
           },
           {
            "bin_start": 2.6060711764086184,
            "bin_end": 2.648328062354961,
            "count": 4
           }
          ]
         }
        },
        {
         "name": "DTS(us/ft)",
         "dtype": "float64",
         "stats": {
          "unique_count": 49,
          "nan_count": 0,
          "min": "107.91921907628418",
          "max": "145.46702401957083",
          "histogram": [
           {
            "bin_start": 107.91921907628418,
            "bin_end": 111.67399957061285,
            "count": 1
           },
           {
            "bin_start": 111.67399957061285,
            "bin_end": 115.4287800649415,
            "count": 0
           },
           {
            "bin_start": 115.4287800649415,
            "bin_end": 119.18356055927018,
            "count": 4
           },
           {
            "bin_start": 119.18356055927018,
            "bin_end": 122.93834105359883,
            "count": 1
           },
           {
            "bin_start": 122.93834105359883,
            "bin_end": 126.6931215479275,
            "count": 6
           },
           {
            "bin_start": 126.6931215479275,
            "bin_end": 130.44790204225617,
            "count": 19
           },
           {
            "bin_start": 130.44790204225617,
            "bin_end": 134.20268253658483,
            "count": 3
           },
           {
            "bin_start": 134.20268253658483,
            "bin_end": 137.9574630309135,
            "count": 12
           },
           {
            "bin_start": 137.9574630309135,
            "bin_end": 141.71224352524217,
            "count": 1
           },
           {
            "bin_start": 141.71224352524217,
            "bin_end": 145.46702401957083,
            "count": 2
           }
          ]
         }
        },
        {
         "name": "DT(us/ft)",
         "dtype": "float64",
         "stats": {
          "unique_count": 49,
          "nan_count": 0,
          "min": "68.38773834971532",
          "max": "100.86044856553288",
          "histogram": [
           {
            "bin_start": 68.38773834971532,
            "bin_end": 71.63500937129707,
            "count": 4
           },
           {
            "bin_start": 71.63500937129707,
            "bin_end": 74.88228039287883,
            "count": 6
           },
           {
            "bin_start": 74.88228039287883,
            "bin_end": 78.1295514144606,
            "count": 16
           },
           {
            "bin_start": 78.1295514144606,
            "bin_end": 81.37682243604235,
            "count": 8
           },
           {
            "bin_start": 81.37682243604235,
            "bin_end": 84.6240934576241,
            "count": 4
           },
           {
            "bin_start": 84.6240934576241,
            "bin_end": 87.87136447920585,
            "count": 2
           },
           {
            "bin_start": 87.87136447920585,
            "bin_end": 91.1186355007876,
            "count": 2
           },
           {
            "bin_start": 91.1186355007876,
            "bin_end": 94.36590652236936,
            "count": 4
           },
           {
            "bin_start": 94.36590652236936,
            "bin_end": 97.61317754395112,
            "count": 2
           },
           {
            "bin_start": 97.61317754395112,
            "bin_end": 100.86044856553288,
            "count": 1
           }
          ]
         }
        },
        {
         "name": "PEF(B/E)",
         "dtype": "float64",
         "stats": {
          "unique_count": 49,
          "nan_count": 0,
          "min": "0.042711805114828",
          "max": "8.07624554169418",
          "histogram": [
           {
            "bin_start": 0.042711805114828,
            "bin_end": 0.846065178772763,
            "count": 7
           },
           {
            "bin_start": 0.846065178772763,
            "bin_end": 1.6494185524306981,
            "count": 0
           },
           {
            "bin_start": 1.6494185524306981,
            "bin_end": 2.4527719260886327,
            "count": 0
           },
           {
            "bin_start": 2.4527719260886327,
            "bin_end": 3.256125299746568,
            "count": 0
           },
           {
            "bin_start": 3.256125299746568,
            "bin_end": 4.059478673404503,
            "count": 5
           },
           {
            "bin_start": 4.059478673404503,
            "bin_end": 4.8628320470624375,
            "count": 5
           },
           {
            "bin_start": 4.8628320470624375,
            "bin_end": 5.666185420720373,
            "count": 0
           },
           {
            "bin_start": 5.666185420720373,
            "bin_end": 6.469538794378308,
            "count": 14
           },
           {
            "bin_start": 6.469538794378308,
            "bin_end": 7.272892168036243,
            "count": 14
           },
           {
            "bin_start": 7.272892168036243,
            "bin_end": 8.07624554169418,
            "count": 4
           }
          ]
         }
        },
        {
         "name": "RD(OHMM)",
         "dtype": "float64",
         "stats": {
          "unique_count": 49,
          "nan_count": 0,
          "min": "82.46183052571075",
          "max": "298.42281799710304",
          "histogram": [
           {
            "bin_start": 82.46183052571075,
            "bin_end": 104.05792927284998,
            "count": 1
           },
           {
            "bin_start": 104.05792927284998,
            "bin_end": 125.65402801998921,
            "count": 3
           },
           {
            "bin_start": 125.65402801998921,
            "bin_end": 147.25012676712845,
            "count": 12
           },
           {
            "bin_start": 147.25012676712845,
            "bin_end": 168.84622551426767,
            "count": 9
           },
           {
            "bin_start": 168.84622551426767,
            "bin_end": 190.4423242614069,
            "count": 5
           },
           {
            "bin_start": 190.4423242614069,
            "bin_end": 212.03842300854615,
            "count": 6
           },
           {
            "bin_start": 212.03842300854615,
            "bin_end": 233.63452175568537,
            "count": 7
           },
           {
            "bin_start": 233.63452175568537,
            "bin_end": 255.2306205028246,
            "count": 2
           },
           {
            "bin_start": 255.2306205028246,
            "bin_end": 276.82671924996384,
            "count": 2
           },
           {
            "bin_start": 276.82671924996384,
            "bin_end": 298.42281799710304,
            "count": 2
           }
          ]
         }
        },
        {
         "name": "RS(OHMM)",
         "dtype": "float64",
         "stats": {
          "unique_count": 49,
          "nan_count": 0,
          "min": "83.107372696387",
          "max": "5709.184863928936",
          "histogram": [
           {
            "bin_start": 83.107372696387,
            "bin_end": 645.7151218196418,
            "count": 44
           },
           {
            "bin_start": 645.7151218196418,
            "bin_end": 1208.3228709428968,
            "count": 1
           },
           {
            "bin_start": 1208.3228709428968,
            "bin_end": 1770.9306200661515,
            "count": 0
           },
           {
            "bin_start": 1770.9306200661515,
            "bin_end": 2333.5383691894062,
            "count": 0
           },
           {
            "bin_start": 2333.5383691894062,
            "bin_end": 2896.146118312661,
            "count": 0
           },
           {
            "bin_start": 2896.146118312661,
            "bin_end": 3458.7538674359157,
            "count": 0
           },
           {
            "bin_start": 3458.7538674359157,
            "bin_end": 4021.3616165591707,
            "count": 1
           },
           {
            "bin_start": 4021.3616165591707,
            "bin_end": 4583.969365682426,
            "count": 1
           },
           {
            "bin_start": 4583.969365682426,
            "bin_end": 5146.57711480568,
            "count": 1
           },
           {
            "bin_start": 5146.57711480568,
            "bin_end": 5709.184863928936,
            "count": 1
           }
          ]
         }
        },
        {
         "name": "ROP",
         "dtype": "float64",
         "stats": {
          "unique_count": 49,
          "nan_count": 0,
          "min": "14.664768612951145",
          "max": "29.34821877761377",
          "histogram": [
           {
            "bin_start": 14.664768612951145,
            "bin_end": 16.13311362941741,
            "count": 6
           },
           {
            "bin_start": 16.13311362941741,
            "bin_end": 17.60145864588367,
            "count": 4
           },
           {
            "bin_start": 17.60145864588367,
            "bin_end": 19.069803662349933,
            "count": 8
           },
           {
            "bin_start": 19.069803662349933,
            "bin_end": 20.538148678816196,
            "count": 10
           },
           {
            "bin_start": 20.538148678816196,
            "bin_end": 22.006493695282458,
            "count": 0
           },
           {
            "bin_start": 22.006493695282458,
            "bin_end": 23.47483871174872,
            "count": 1
           },
           {
            "bin_start": 23.47483871174872,
            "bin_end": 24.943183728214983,
            "count": 0
           },
           {
            "bin_start": 24.943183728214983,
            "bin_end": 26.411528744681245,
            "count": 11
           },
           {
            "bin_start": 26.411528744681245,
            "bin_end": 27.879873761147508,
            "count": 5
           },
           {
            "bin_start": 27.879873761147508,
            "bin_end": 29.34821877761377,
            "count": 4
           }
          ]
         }
        },
        {
         "name": "DENC(g/cm3)",
         "dtype": "float64",
         "stats": {
          "unique_count": 49,
          "nan_count": 0,
          "min": "0.0109602229450454",
          "max": "0.0670150962795204",
          "histogram": [
           {
            "bin_start": 0.0109602229450454,
            "bin_end": 0.0165657102784929,
            "count": 4
           },
           {
            "bin_start": 0.0165657102784929,
            "bin_end": 0.022171197611940398,
            "count": 4
           },
           {
            "bin_start": 0.022171197611940398,
            "bin_end": 0.027776684945387903,
            "count": 1
           },
           {
            "bin_start": 0.027776684945387903,
            "bin_end": 0.0333821722788354,
            "count": 0
           },
           {
            "bin_start": 0.0333821722788354,
            "bin_end": 0.0389876596122829,
            "count": 1
           },
           {
            "bin_start": 0.0389876596122829,
            "bin_end": 0.044593146945730404,
            "count": 2
           },
           {
            "bin_start": 0.044593146945730404,
            "bin_end": 0.0501986342791779,
            "count": 3
           },
           {
            "bin_start": 0.0501986342791779,
            "bin_end": 0.0558041216126254,
            "count": 11
           },
           {
            "bin_start": 0.0558041216126254,
            "bin_end": 0.0614096089460729,
            "count": 16
           },
           {
            "bin_start": 0.0614096089460729,
            "bin_end": 0.0670150962795204,
            "count": 7
           }
          ]
         }
        },
        {
         "name": "NPHI(v/v)",
         "dtype": "float64",
         "stats": {
          "unique_count": 49,
          "nan_count": 0,
          "min": "0.1230251483025656",
          "max": "0.3458667771417275",
          "histogram": [
           {
            "bin_start": 0.1230251483025656,
            "bin_end": 0.14530931118648177,
            "count": 4
           },
           {
            "bin_start": 0.14530931118648177,
            "bin_end": 0.16759347407039799,
            "count": 13
           },
           {
            "bin_start": 0.16759347407039799,
            "bin_end": 0.18987763695431414,
            "count": 6
           },
           {
            "bin_start": 0.18987763695431414,
            "bin_end": 0.21216179983823036,
            "count": 10
           },
           {
            "bin_start": 0.21216179983823036,
            "bin_end": 0.23444596272214652,
            "count": 7
           },
           {
            "bin_start": 0.23444596272214652,
            "bin_end": 0.25673012560606273,
            "count": 1
           },
           {
            "bin_start": 0.25673012560606273,
            "bin_end": 0.2790142884899789,
            "count": 3
           },
           {
            "bin_start": 0.2790142884899789,
            "bin_end": 0.3012984513738951,
            "count": 3
           },
           {
            "bin_start": 0.3012984513738951,
            "bin_end": 0.32358261425781126,
            "count": 0
           },
           {
            "bin_start": 0.32358261425781126,
            "bin_end": 0.3458667771417275,
            "count": 2
           }
          ]
         }
        },
        {
         "name": "Zone",
         "dtype": "float64",
         "stats": {
          "unique_count": 14,
          "nan_count": 0,
          "min": "0.2558139534883721",
          "max": "0.5263157894736842",
          "histogram": [
           {
            "bin_start": 0.2558139534883721,
            "bin_end": 0.28286413708690333,
            "count": 1
           },
           {
            "bin_start": 0.28286413708690333,
            "bin_end": 0.3099143206854345,
            "count": 0
           },
           {
            "bin_start": 0.3099143206854345,
            "bin_end": 0.33696450428396574,
            "count": 0
           },
           {
            "bin_start": 0.33696450428396574,
            "bin_end": 0.3640146878824969,
            "count": 0
           },
           {
            "bin_start": 0.3640146878824969,
            "bin_end": 0.39106487148102814,
            "count": 0
           },
           {
            "bin_start": 0.39106487148102814,
            "bin_end": 0.4181150550795594,
            "count": 0
           },
           {
            "bin_start": 0.4181150550795594,
            "bin_end": 0.44516523867809055,
            "count": 0
           },
           {
            "bin_start": 0.44516523867809055,
            "bin_end": 0.4722154222766218,
            "count": 0
           },
           {
            "bin_start": 0.4722154222766218,
            "bin_end": 0.499265605875153,
            "count": 15
           },
           {
            "bin_start": 0.499265605875153,
            "bin_end": 0.5263157894736842,
            "count": 33
           }
          ]
         }
        },
        {
         "name": "X",
         "dtype": "float64",
         "stats": {
          "unique_count": 49,
          "nan_count": 0,
          "min": "109560.25999999988",
          "max": "142095.81999999995",
          "histogram": [
           {
            "bin_start": 109560.25999999988,
            "bin_end": 112813.81599999989,
            "count": 8
           },
           {
            "bin_start": 112813.81599999989,
            "bin_end": 116067.37199999989,
            "count": 5
           },
           {
            "bin_start": 116067.37199999989,
            "bin_end": 119320.9279999999,
            "count": 5
           },
           {
            "bin_start": 119320.9279999999,
            "bin_end": 122574.48399999991,
            "count": 3
           },
           {
            "bin_start": 122574.48399999991,
            "bin_end": 125828.03999999992,
            "count": 4
           },
           {
            "bin_start": 125828.03999999992,
            "bin_end": 129081.59599999992,
            "count": 4
           },
           {
            "bin_start": 129081.59599999992,
            "bin_end": 132335.1519999999,
            "count": 3
           },
           {
            "bin_start": 132335.1519999999,
            "bin_end": 135588.70799999993,
            "count": 8
           },
           {
            "bin_start": 135588.70799999993,
            "bin_end": 138842.26399999994,
            "count": 5
           },
           {
            "bin_start": 138842.26399999994,
            "bin_end": 142095.81999999995,
            "count": 4
           }
          ]
         }
        },
        {
         "name": "Y",
         "dtype": "float64",
         "stats": {
          "unique_count": 49,
          "nan_count": 0,
          "min": "81747.12000000008",
          "max": "93691.55000000002",
          "histogram": [
           {
            "bin_start": 81747.12000000008,
            "bin_end": 82941.56300000008,
            "count": 5
           },
           {
            "bin_start": 82941.56300000008,
            "bin_end": 84136.00600000007,
            "count": 5
           },
           {
            "bin_start": 84136.00600000007,
            "bin_end": 85330.44900000007,
            "count": 5
           },
           {
            "bin_start": 85330.44900000007,
            "bin_end": 86524.89200000005,
            "count": 5
           },
           {
            "bin_start": 86524.89200000005,
            "bin_end": 87719.33500000005,
            "count": 3
           },
           {
            "bin_start": 87719.33500000005,
            "bin_end": 88913.77800000005,
            "count": 6
           },
           {
            "bin_start": 88913.77800000005,
            "bin_end": 90108.22100000003,
            "count": 7
           },
           {
            "bin_start": 90108.22100000003,
            "bin_end": 91302.66400000003,
            "count": 5
           },
           {
            "bin_start": 91302.66400000003,
            "bin_end": 92497.10700000002,
            "count": 6
           },
           {
            "bin_start": 92497.10700000002,
            "bin_end": 93691.55000000002,
            "count": 2
           }
          ]
         }
        },
        {
         "name": "Completion Zone",
         "dtype": "int64",
         "stats": {
          "unique_count": 2,
          "nan_count": 0,
          "min": "0",
          "max": "1",
          "histogram": [
           {
            "bin_start": 0,
            "bin_end": 0.1,
            "count": 30
           },
           {
            "bin_start": 0.1,
            "bin_end": 0.2,
            "count": 0
           },
           {
            "bin_start": 0.2,
            "bin_end": 0.30000000000000004,
            "count": 0
           },
           {
            "bin_start": 0.30000000000000004,
            "bin_end": 0.4,
            "count": 0
           },
           {
            "bin_start": 0.4,
            "bin_end": 0.5,
            "count": 0
           },
           {
            "bin_start": 0.5,
            "bin_end": 0.6000000000000001,
            "count": 0
           },
           {
            "bin_start": 0.6000000000000001,
            "bin_end": 0.7000000000000001,
            "count": 0
           },
           {
            "bin_start": 0.7000000000000001,
            "bin_end": 0.8,
            "count": 0
           },
           {
            "bin_start": 0.8,
            "bin_end": 0.9,
            "count": 0
           },
           {
            "bin_start": 0.9,
            "bin_end": 1,
            "count": 19
           }
          ]
         }
        },
        {
         "name": "AI_lower(2012-01-01)",
         "dtype": "float64",
         "stats": {
          "unique_count": 49,
          "nan_count": 0,
          "min": "6349.166868649859",
          "max": "6582.114979658839",
          "histogram": [
           {
            "bin_start": 6349.166868649859,
            "bin_end": 6372.461679750757,
            "count": 1
           },
           {
            "bin_start": 6372.461679750757,
            "bin_end": 6395.756490851655,
            "count": 1
           },
           {
            "bin_start": 6395.756490851655,
            "bin_end": 6419.051301952552,
            "count": 0
           },
           {
            "bin_start": 6419.051301952552,
            "bin_end": 6442.346113053451,
            "count": 2
           },
           {
            "bin_start": 6442.346113053451,
            "bin_end": 6465.640924154349,
            "count": 3
           },
           {
            "bin_start": 6465.640924154349,
            "bin_end": 6488.935735255247,
            "count": 4
           },
           {
            "bin_start": 6488.935735255247,
            "bin_end": 6512.230546356145,
            "count": 6
           },
           {
            "bin_start": 6512.230546356145,
            "bin_end": 6535.525357457042,
            "count": 10
           },
           {
            "bin_start": 6535.525357457042,
            "bin_end": 6558.820168557941,
            "count": 11
           },
           {
            "bin_start": 6558.820168557941,
            "bin_end": 6582.114979658839,
            "count": 11
           }
          ]
         }
        },
        {
         "name": "AI_upper(2012-01-01)",
         "dtype": "float64",
         "stats": {
          "unique_count": 49,
          "nan_count": 0,
          "min": "6313.508043505049",
          "max": "6540.158028221774",
          "histogram": [
           {
            "bin_start": 6313.508043505049,
            "bin_end": 6336.173041976721,
            "count": 1
           },
           {
            "bin_start": 6336.173041976721,
            "bin_end": 6358.838040448393,
            "count": 0
           },
           {
            "bin_start": 6358.838040448393,
            "bin_end": 6381.5030389200665,
            "count": 0
           },
           {
            "bin_start": 6381.5030389200665,
            "bin_end": 6404.168037391739,
            "count": 4
           },
           {
            "bin_start": 6404.168037391739,
            "bin_end": 6426.833035863411,
            "count": 1
           },
           {
            "bin_start": 6426.833035863411,
            "bin_end": 6449.4980343350835,
            "count": 1
           },
           {
            "bin_start": 6449.4980343350835,
            "bin_end": 6472.163032806756,
            "count": 5
           },
           {
            "bin_start": 6472.163032806756,
            "bin_end": 6494.828031278429,
            "count": 10
           },
           {
            "bin_start": 6494.828031278429,
            "bin_end": 6517.493029750101,
            "count": 14
           },
           {
            "bin_start": 6517.493029750101,
            "bin_end": 6540.158028221774,
            "count": 13
           }
          ]
         }
        },
        {
         "name": "AI_lower(2021-12-20)",
         "dtype": "float64",
         "stats": {
          "unique_count": 49,
          "nan_count": 0,
          "min": "6362.624739685868",
          "max": "6677.133028086999",
          "histogram": [
           {
            "bin_start": 6362.624739685868,
            "bin_end": 6394.075568525981,
            "count": 1
           },
           {
            "bin_start": 6394.075568525981,
            "bin_end": 6425.526397366094,
            "count": 1
           },
           {
            "bin_start": 6425.526397366094,
            "bin_end": 6456.977226206207,
            "count": 0
           },
           {
            "bin_start": 6456.977226206207,
            "bin_end": 6488.42805504632,
            "count": 2
           },
           {
            "bin_start": 6488.42805504632,
            "bin_end": 6519.878883886433,
            "count": 5
           },
           {
            "bin_start": 6519.878883886433,
            "bin_end": 6551.329712726547,
            "count": 1
           },
           {
            "bin_start": 6551.329712726547,
            "bin_end": 6582.78054156666,
            "count": 4
           },
           {
            "bin_start": 6582.78054156666,
            "bin_end": 6614.231370406773,
            "count": 14
           },
           {
            "bin_start": 6614.231370406773,
            "bin_end": 6645.682199246886,
            "count": 11
           },
           {
            "bin_start": 6645.682199246886,
            "bin_end": 6677.133028086999,
            "count": 10
           }
          ]
         }
        },
        {
         "name": "AI_upper(2021-12-20)",
         "dtype": "float64",
         "stats": {
          "unique_count": 49,
          "nan_count": 0,
          "min": "6322.316898442236",
          "max": "6546.891713233452",
          "histogram": [
           {
            "bin_start": 6322.316898442236,
            "bin_end": 6344.774379921358,
            "count": 1
           },
           {
            "bin_start": 6344.774379921358,
            "bin_end": 6367.23186140048,
            "count": 0
           },
           {
            "bin_start": 6367.23186140048,
            "bin_end": 6389.689342879601,
            "count": 1
           },
           {
            "bin_start": 6389.689342879601,
            "bin_end": 6412.146824358722,
            "count": 3
           },
           {
            "bin_start": 6412.146824358722,
            "bin_end": 6434.604305837844,
            "count": 2
           },
           {
            "bin_start": 6434.604305837844,
            "bin_end": 6457.061787316966,
            "count": 2
           },
           {
            "bin_start": 6457.061787316966,
            "bin_end": 6479.519268796087,
            "count": 5
           },
           {
            "bin_start": 6479.519268796087,
            "bin_end": 6501.976750275208,
            "count": 10
           },
           {
            "bin_start": 6501.976750275208,
            "bin_end": 6524.4342317543305,
            "count": 10
           },
           {
            "bin_start": 6524.4342317543305,
            "bin_end": 6546.891713233452,
            "count": 15
           }
          ]
         }
        },
        {
         "name": "scaled_X",
         "dtype": "float64",
         "stats": {
          "unique_count": 49,
          "nan_count": 0,
          "min": "-1.5637606022697967",
          "max": "1.758236423305915",
          "histogram": [
           {
            "bin_start": -1.5637606022697967,
            "bin_end": -1.2315608997122256,
            "count": 8
           },
           {
            "bin_start": -1.2315608997122256,
            "bin_end": -0.8993611971546543,
            "count": 5
           },
           {
            "bin_start": -0.8993611971546543,
            "bin_end": -0.5671614945970831,
            "count": 5
           },
           {
            "bin_start": -0.5671614945970831,
            "bin_end": -0.23496179203951195,
            "count": 3
           },
           {
            "bin_start": -0.23496179203951195,
            "bin_end": 0.09723791051805919,
            "count": 4
           },
           {
            "bin_start": 0.09723791051805919,
            "bin_end": 0.42943761307563055,
            "count": 4
           },
           {
            "bin_start": 0.42943761307563055,
            "bin_end": 0.7616373156332015,
            "count": 3
           },
           {
            "bin_start": 0.7616373156332015,
            "bin_end": 1.0938370181907728,
            "count": 8
           },
           {
            "bin_start": 1.0938370181907728,
            "bin_end": 1.4260367207483442,
            "count": 5
           },
           {
            "bin_start": 1.4260367207483442,
            "bin_end": 1.758236423305915,
            "count": 4
           }
          ]
         }
        },
        {
         "name": "scaled_Y",
         "dtype": "float64",
         "stats": {
          "unique_count": 49,
          "nan_count": 0,
          "min": "-4.403581658121331",
          "max": "-3.1840126409537337",
          "histogram": [
           {
            "bin_start": -4.403581658121331,
            "bin_end": -4.281624756404571,
            "count": 5
           },
           {
            "bin_start": -4.281624756404571,
            "bin_end": -4.159667854687811,
            "count": 5
           },
           {
            "bin_start": -4.159667854687811,
            "bin_end": -4.037710952971052,
            "count": 5
           },
           {
            "bin_start": -4.037710952971052,
            "bin_end": -3.915754051254292,
            "count": 5
           },
           {
            "bin_start": -3.915754051254292,
            "bin_end": -3.793797149537532,
            "count": 3
           },
           {
            "bin_start": -3.793797149537532,
            "bin_end": -3.6718402478207723,
            "count": 6
           },
           {
            "bin_start": -3.6718402478207723,
            "bin_end": -3.549883346104013,
            "count": 7
           },
           {
            "bin_start": -3.549883346104013,
            "bin_end": -3.427926444387253,
            "count": 5
           },
           {
            "bin_start": -3.427926444387253,
            "bin_end": -3.3059695426704936,
            "count": 6
           },
           {
            "bin_start": -3.3059695426704936,
            "bin_end": -3.1840126409537337,
            "count": 2
           }
          ]
         }
        },
        {
         "name": "scaled_MD",
         "dtype": "float64",
         "stats": {
          "unique_count": 49,
          "nan_count": 0,
          "min": "-12.305164454763538",
          "max": "-12.244933850275867",
          "histogram": [
           {
            "bin_start": -12.305164454763538,
            "bin_end": -12.299141394314772,
            "count": 2
           },
           {
            "bin_start": -12.299141394314772,
            "bin_end": -12.293118333866005,
            "count": 0
           },
           {
            "bin_start": -12.293118333866005,
            "bin_end": -12.287095273417236,
            "count": 10
           },
           {
            "bin_start": -12.287095273417236,
            "bin_end": -12.28107221296847,
            "count": 7
           },
           {
            "bin_start": -12.28107221296847,
            "bin_end": -12.275049152519703,
            "count": 7
           },
           {
            "bin_start": -12.275049152519703,
            "bin_end": -12.269026092070936,
            "count": 3
           },
           {
            "bin_start": -12.269026092070936,
            "bin_end": -12.26300303162217,
            "count": 4
           },
           {
            "bin_start": -12.26300303162217,
            "bin_end": -12.2569799711734,
            "count": 8
           },
           {
            "bin_start": -12.2569799711734,
            "bin_end": -12.250956910724634,
            "count": 6
           },
           {
            "bin_start": -12.250956910724634,
            "bin_end": -12.244933850275867,
            "count": 2
           }
          ]
         }
        },
        {
         "name": "perm_est",
         "dtype": "float64",
         "stats": {
          "unique_count": 49,
          "nan_count": 0,
          "min": "1.1508886352930574",
          "max": "33.89878480536511",
          "histogram": [
           {
            "bin_start": 1.1508886352930574,
            "bin_end": 4.425678252300263,
            "count": 9
           },
           {
            "bin_start": 4.425678252300263,
            "bin_end": 7.700467869307468,
            "count": 12
           },
           {
            "bin_start": 7.700467869307468,
            "bin_end": 10.975257486314675,
            "count": 14
           },
           {
            "bin_start": 10.975257486314675,
            "bin_end": 14.25004710332188,
            "count": 5
           },
           {
            "bin_start": 14.25004710332188,
            "bin_end": 17.524836720329084,
            "count": 3
           },
           {
            "bin_start": 17.524836720329084,
            "bin_end": 20.799626337336292,
            "count": 4
           },
           {
            "bin_start": 20.799626337336292,
            "bin_end": 24.074415954343497,
            "count": 0
           },
           {
            "bin_start": 24.074415954343497,
            "bin_end": 27.3492055713507,
            "count": 0
           },
           {
            "bin_start": 27.3492055713507,
            "bin_end": 30.623995188357906,
            "count": 1
           },
           {
            "bin_start": 30.623995188357906,
            "bin_end": 33.89878480536511,
            "count": 1
           }
          ]
         }
        },
        {
         "name": "sum",
         "dtype": "float64",
         "stats": {
          "unique_count": 49,
          "nan_count": 0,
          "min": "3.588711727",
          "max": "89215.30957408802",
          "histogram": [
           {
            "bin_start": 3.588711727,
            "bin_end": 8924.760797963101,
            "count": 28
           },
           {
            "bin_start": 8924.760797963101,
            "bin_end": 17845.932884199203,
            "count": 7
           },
           {
            "bin_start": 17845.932884199203,
            "bin_end": 26767.104970435303,
            "count": 3
           },
           {
            "bin_start": 26767.104970435303,
            "bin_end": 35688.27705667141,
            "count": 6
           },
           {
            "bin_start": 35688.27705667141,
            "bin_end": 44609.44914290751,
            "count": 3
           },
           {
            "bin_start": 44609.44914290751,
            "bin_end": 53530.62122914361,
            "count": 0
           },
           {
            "bin_start": 53530.62122914361,
            "bin_end": 62451.79331537971,
            "count": 0
           },
           {
            "bin_start": 62451.79331537971,
            "bin_end": 71372.96540161582,
            "count": 0
           },
           {
            "bin_start": 71372.96540161582,
            "bin_end": 80294.13748785191,
            "count": 1
           },
           {
            "bin_start": 80294.13748785191,
            "bin_end": 89215.30957408802,
            "count": 1
           }
          ]
         }
        },
        {
         "name": "Well",
         "dtype": "object",
         "stats": {
          "unique_count": 49,
          "nan_count": 0,
          "categories": [
           {
            "name": "WP15",
            "count": 1
           },
           {
            "name": "WP43",
            "count": 1
           },
           {
            "name": "47 others",
            "count": 47
           }
          ]
         }
        },
        {
         "name": "diff_lower",
         "dtype": "float64",
         "stats": {
          "unique_count": 49,
          "nan_count": 0,
          "min": "13.457871036009237",
          "max": "103.95229189246038",
          "histogram": [
           {
            "bin_start": 13.457871036009237,
            "bin_end": 22.507313121654352,
            "count": 1
           },
           {
            "bin_start": 22.507313121654352,
            "bin_end": 31.556755207299467,
            "count": 0
           },
           {
            "bin_start": 31.556755207299467,
            "bin_end": 40.606197292944586,
            "count": 3
           },
           {
            "bin_start": 40.606197292944586,
            "bin_end": 49.6556393785897,
            "count": 4
           },
           {
            "bin_start": 49.6556393785897,
            "bin_end": 58.70508146423481,
            "count": 2
           },
           {
            "bin_start": 58.70508146423481,
            "bin_end": 67.75452354987993,
            "count": 8
           },
           {
            "bin_start": 67.75452354987993,
            "bin_end": 76.80396563552505,
            "count": 9
           },
           {
            "bin_start": 76.80396563552505,
            "bin_end": 85.85340772117016,
            "count": 8
           },
           {
            "bin_start": 85.85340772117016,
            "bin_end": 94.90284980681527,
            "count": 6
           },
           {
            "bin_start": 94.90284980681527,
            "bin_end": 103.95229189246038,
            "count": 8
           }
          ]
         }
        },
        {
         "name": "diff_upper",
         "dtype": "float64",
         "stats": {
          "unique_count": 49,
          "nan_count": 0,
          "min": "-22.04290064678753",
          "max": "36.03164208813632",
          "histogram": [
           {
            "bin_start": -22.04290064678753,
            "bin_end": -16.235446373295144,
            "count": 6
           },
           {
            "bin_start": -16.235446373295144,
            "bin_end": -10.42799209980276,
            "count": 3
           },
           {
            "bin_start": -10.42799209980276,
            "bin_end": -4.620537826310375,
            "count": 3
           },
           {
            "bin_start": -4.620537826310375,
            "bin_end": 1.1869164471820106,
            "count": 8
           },
           {
            "bin_start": 1.1869164471820106,
            "bin_end": 6.994370720674397,
            "count": 7
           },
           {
            "bin_start": 6.994370720674397,
            "bin_end": 12.801824994166779,
            "count": 5
           },
           {
            "bin_start": 12.801824994166779,
            "bin_end": 18.60927926765917,
            "count": 6
           },
           {
            "bin_start": 18.60927926765917,
            "bin_end": 24.41673354115155,
            "count": 4
           },
           {
            "bin_start": 24.41673354115155,
            "bin_end": 30.224187814643933,
            "count": 5
           },
           {
            "bin_start": 30.224187814643933,
            "bin_end": 36.03164208813632,
            "count": 2
           }
          ]
         }
        },
        {
         "name": "_deepnote_index_column",
         "dtype": "int64"
        }
       ],
       "rows": [
        {
         "well_id": "WP15",
         "MD(ft)": 4405.84118264,
         "PORO(v/v)": 0.1661381851794114,
         "RHOB(g/cm3)": 2.342374001938412,
         "DTS(us/ft)": 137.66546111612487,
         "DT(us/ft)": 94.616725261996,
         "PEF(B/E)": 6.7527264422650495,
         "RD(OHMM)": 82.46183052571075,
         "RS(OHMM)": 83.107372696387,
         "ROP": 29.34821877761377,
         "DENC(g/cm3)": 0.0529229082781103,
         "NPHI(v/v)": 0.3401667851236867,
         "Zone": 0.5,
         "X": 109560.25999999988,
         "Y": 86833.62000000008,
         "Completion Zone": 0,
         "AI_lower(2012-01-01)": 6503.430367775489,
         "AI_upper(2012-01-01)": 6491.478242817547,
         "AI_lower(2021-12-20)": 6591.2477286731,
         "AI_upper(2021-12-20)": 6491.410103711162,
         "scaled_X": -1.5637606022697967,
         "scaled_Y": -3.884231818420063,
         "scaled_MD": -12.300402803523212,
         "perm_est": 18.689149267530684,
         "sum": 89215.30957408802,
         "Well": "WP15",
         "diff_lower": 87.81736089761125,
         "diff_upper": -0.06813910638447851,
         "_deepnote_index_column": 6
        },
        {
         "well_id": "WP43",
         "MD(ft)": 4588.935010560001,
         "PORO(v/v)": 0.1550849758000693,
         "RHOB(g/cm3)": 2.3829400307956843,
         "DTS(us/ft)": 131.29599904140144,
         "DT(us/ft)": 81.1598536037303,
         "PEF(B/E)": 5.985027135307028,
         "RD(OHMM)": 147.5024209608063,
         "RS(OHMM)": 1171.3704142756678,
         "ROP": 19.17693959924896,
         "DENC(g/cm3)": 0.0575674499308272,
         "NPHI(v/v)": 0.167134784369365,
         "Zone": 0.4888888888888889,
         "X": 115684.26999999992,
         "Y": 89895.77999999991,
         "Completion Zone": 0,
         "AI_lower(2012-01-01)": 6582.114979658839,
         "AI_upper(2012-01-01)": 6515.518913910745,
         "AI_lower(2021-12-20)": 6677.133028086999,
         "AI_upper(2021-12-20)": 6544.191121583225,
         "scaled_X": -0.9384772813558222,
         "scaled_Y": -3.5715743319087867,
         "scaled_MD": -12.281708268935468,
         "perm_est": 13.752423525697155,
         "sum": 77690.934308,
         "Well": "WP43",
         "diff_lower": 95.01804842816,
         "diff_upper": 28.67220767248,
         "_deepnote_index_column": 37
        },
        {
         "well_id": "WP3",
         "MD(ft)": 4878.37018424,
         "PORO(v/v)": 0.1193031183504757,
         "RHOB(g/cm3)": 2.5159399331694403,
         "DTS(us/ft)": 125.99398097943752,
         "DT(us/ft)": 75.1136764786134,
         "PEF(B/E)": 5.985530541948448,
         "RD(OHMM)": 157.82322937001166,
         "RS(OHMM)": 184.88167540644136,
         "ROP": 19.89184405750353,
         "DENC(g/cm3)": 0.0596467442870217,
         "NPHI(v/v)": 0.1544130085931155,
         "Zone": 0.4888888888888889,
         "X": 140892.5700000001,
         "Y": 81747.12000000008,
         "Completion Zone": 0,
         "AI_lower(2012-01-01)": 6519.051888010695,
         "AI_upper(2012-01-01)": 6490.676307642218,
         "AI_lower(2021-12-20)": 6586.338351921898,
         "AI_upper(2021-12-20)": 6505.091195670214,
         "scaled_X": 1.635380295394669,
         "scaled_Y": -4.403581658121331,
         "scaled_MD": -12.252155902661103,
         "perm_est": 7.005382321358001,
         "sum": 44507.628195000005,
         "Well": "WP3",
         "diff_lower": 67.2864639112031,
         "diff_upper": 14.414888027996312,
         "_deepnote_index_column": 22
        },
        {
         "well_id": "WP16",
         "MD(ft)": 4562.928038159999,
         "PORO(v/v)": 0.1321731160637251,
         "RHOB(g/cm3)": 2.4822439914450154,
         "DTS(us/ft)": 117.72069140915484,
         "DT(us/ft)": 76.430410202368,
         "PEF(B/E)": 5.907930894503319,
         "RD(OHMM)": 145.41638256494718,
         "RS(OHMM)": 169.21891591001778,
         "ROP": 19.972302287705936,
         "DENC(g/cm3)": 0.0594205894971097,
         "NPHI(v/v)": 0.1605886041087686,
         "Zone": 0.5,
         "X": 112898.58000000005,
         "Y": 91601.45999999998,
         "Completion Zone": 0,
         "AI_lower(2012-01-01)": 6501.732579650968,
         "AI_upper(2012-01-01)": 6479.794466276043,
         "AI_lower(2021-12-20)": 6594.903877099196,
         "AI_upper(2021-12-20)": 6497.647510408751,
         "scaled_X": -1.222906192189875,
         "scaled_Y": -3.397418304270591,
         "scaled_MD": -12.28436367382038,
         "perm_est": 8.524977271252032,
         "sum": 37745.757428,
         "Well": "WP16",
         "diff_lower": 93.17129744822796,
         "diff_upper": 17.85304413270842,
         "_deepnote_index_column": 7
        },
        {
         "well_id": "WP34",
         "MD(ft)": 4801.821504879999,
         "PORO(v/v)": 0.1441854771063659,
         "RHOB(g/cm3)": 2.513541149521939,
         "DTS(us/ft)": 128.90629399918868,
         "DT(us/ft)": 73.09021666822068,
         "PEF(B/E)": 0.0523789659211825,
         "RD(OHMM)": 209.6184359593326,
         "RS(OHMM)": 263.65121464970844,
         "ROP": 25.36823819321701,
         "DENC(g/cm3)": 0.0523789659211825,
         "NPHI(v/v)": 0.1583729764117733,
         "Zone": 0.5,
         "X": 134053.71,
         "Y": 84658.45000000007,
         "Completion Zone": 0,
         "AI_lower(2012-01-01)": 6533.267174825628,
         "AI_upper(2012-01-01)": 6539.816656623387,
         "AI_lower(2021-12-20)": 6613.752411783115,
         "AI_upper(2021-12-20)": 6519.352043693971,
         "scaled_X": 0.937108233124072,
         "scaled_Y": -4.106324453989316,
         "scaled_MD": -12.259971796567513,
         "perm_est": 10.358480076507638,
         "sum": 37084.261716,
         "Well": "WP34",
         "diff_lower": 80.48523695748736,
         "diff_upper": -20.464612929416035,
         "_deepnote_index_column": 27
        },
        {
         "well_id": "WP42",
         "MD(ft)": 4745.27753896,
         "PORO(v/v)": 0.1462967715617059,
         "RHOB(g/cm3)": 2.4289284080409184,
         "DTS(us/ft)": 127.15076521846302,
         "DT(us/ft)": 77.43386128379518,
         "PEF(B/E)": 6.277190817933302,
         "RD(OHMM)": 142.9336142674918,
         "RS(OHMM)": 3972.556246317278,
         "ROP": 18.28144800713097,
         "DENC(g/cm3)": 0.0525265769919956,
         "NPHI(v/v)": 0.1602116801179584,
         "Zone": 0.5,
         "X": 136532.2699999999,
         "Y": 83571.50999999992,
         "Completion Zone": 0,
         "AI_lower(2012-01-01)": 6546.612286272632,
         "AI_upper(2012-01-01)": 6539.617133930296,
         "AI_lower(2021-12-20)": 6619.707517610916,
         "AI_upper(2021-12-20)": 6532.6001683571085,
         "scaled_X": 1.190178072638467,
         "scaled_Y": -4.2173049149673725,
         "scaled_MD": -12.265745137693344,
         "perm_est": 10.310254549522336,
         "sum": 33045.491963,
         "Well": "WP42",
         "diff_lower": 73.09523133828316,
         "diff_upper": -7.0169655731879175,
         "_deepnote_index_column": 36
        },
        {
         "well_id": "WP47",
         "MD(ft)": 4705.38421752,
         "PORO(v/v)": 0.1423266034038286,
         "RHOB(g/cm3)": 2.498397029455521,
         "DTS(us/ft)": 130.4211701305747,
         "DT(us/ft)": 85.61363355206412,
         "PEF(B/E)": 7.551682283924221,
         "RD(OHMM)": 167.63533394909402,
         "RS(OHMM)": 169.8049290261609,
         "ROP": 15.963331074787444,
         "DENC(g/cm3)": 0.0611602511884953,
         "NPHI(v/v)": 0.2759962076883364,
         "Zone": 0.4871794871794871,
         "X": 137407.15000000005,
         "Y": 84099.12999999992,
         "Completion Zone": 0,
         "AI_lower(2012-01-01)": 6562.945534100987,
         "AI_upper(2012-01-01)": 6520.061682983703,
         "AI_lower(2021-12-20)": 6643.042250285588,
         "AI_upper(2021-12-20)": 6518.758469919987,
         "scaled_X": 1.2795064492742367,
         "scaled_Y": -4.163433026159121,
         "scaled_MD": -12.269818388473864,
         "perm_est": 15.800140481652416,
         "sum": 31206.119465,
         "Well": "WP47",
         "diff_lower": 80.09671618460106,
         "diff_upper": -1.3032130637157024,
         "_deepnote_index_column": 41
        },
        {
         "well_id": "WP38",
         "MD(ft)": 4564.84751056,
         "PORO(v/v)": 0.1317005681770858,
         "RHOB(g/cm3)": 2.5149840718454595,
         "DTS(us/ft)": 130.2241602887007,
         "DT(us/ft)": 79.32398299443868,
         "PEF(B/E)": 6.648852014333998,
         "RD(OHMM)": 231.031217615484,
         "RS(OHMM)": 258.53016064604765,
         "ROP": 27.63374211166408,
         "DENC(g/cm3)": 0.0548083196445603,
         "NPHI(v/v)": 0.1900803438064462,
         "Zone": 0.4883720930232558,
         "X": 116803.30999999995,
         "Y": 91177.75,
         "Completion Zone": 0,
         "AI_lower(2012-01-01)": 6561.302586764162,
         "AI_upper(2012-01-01)": 6499.209230129787,
         "AI_lower(2021-12-20)": 6647.733381735511,
         "AI_upper(2021-12-20)": 6524.143393818142,
         "scaled_X": -0.8242192955857838,
         "scaled_Y": -3.440680610488982,
         "scaled_MD": -12.284167688824148,
         "perm_est": 9.62418403459582,
         "sum": 30098.4080093,
         "Well": "WP38",
         "diff_lower": 86.43079497134931,
         "diff_upper": 24.9341636883546,
         "_deepnote_index_column": 31
        },
        {
         "well_id": "WP46",
         "MD(ft)": 4642.68705032,
         "PORO(v/v)": 0.1589065284712496,
         "RHOB(g/cm3)": 2.367059528938792,
         "DTS(us/ft)": 128.27924831256178,
         "DT(us/ft)": 88.26581652005667,
         "PEF(B/E)": 4.522185379475772,
         "RD(OHMM)": 181.75470554604016,
         "RS(OHMM)": 217.62195698437063,
         "ROP": 18.889237582247517,
         "DENC(g/cm3)": 0.0188249270809069,
         "NPHI(v/v)": 0.2248714605896455,
         "Zone": 0.5,
         "X": 139046.80999999994,
         "Y": 84476.47000000006,
         "Completion Zone": 0,
         "AI_lower(2012-01-01)": 6562.556816300894,
         "AI_upper(2012-01-01)": 6489.581169230973,
         "AI_lower(2021-12-20)": 6650.305281151321,
         "AI_upper(2021-12-20)": 6484.145164879882,
         "scaled_X": 1.4469215988200104,
         "scaled_Y": -4.124905262763293,
         "scaled_MD": -12.276219993454683,
         "perm_est": 16.564388740003814,
         "sum": 29758.420675315192,
         "Well": "WP46",
         "diff_lower": 87.7484648504269,
         "diff_upper": -5.43600435109056,
         "_deepnote_index_column": 40
        },
        {
         "well_id": "WP6",
         "MD(ft)": 4513.767676959999,
         "PORO(v/v)": 0.1287214056256273,
         "RHOB(g/cm3)": 2.53299015451675,
         "DTS(us/ft)": 134.19607003834508,
         "DT(us/ft)": 78.4731489306373,
         "PEF(B/E)": 6.233687447132779,
         "RD(OHMM)": 116.05188735727543,
         "RS(OHMM)": 331.0031175897283,
         "ROP": 14.664768612951145,
         "DENC(g/cm3)": 0.0566215887991367,
         "NPHI(v/v)": 0.1945967784042719,
         "Zone": 0.5111111111111111,
         "X": 111035.32,
         "Y": 88692.31999999995,
         "Completion Zone": 0,
         "AI_lower(2012-01-01)": 6543.987808285637,
         "AI_upper(2012-01-01)": 6515.02866724204,
         "AI_lower(2021-12-20)": 6647.940100178097,
         "AI_upper(2021-12-20)": 6530.639089904066,
         "scaled_X": -1.413151701345832,
         "scaled_Y": -3.6944519015710022,
         "scaled_MD": -12.289383122499991,
         "perm_est": 6.340215303209669,
         "sum": 27432.9418198,
         "Well": "WP6",
         "diff_lower": 103.95229189246038,
         "diff_upper": 15.610422662026394,
         "_deepnote_index_column": 45
        }
       ]
      },
      "text/plain": "   well_id       MD(ft)  PORO(v/v)  RHOB(g/cm3)  DTS(us/ft)   DT(us/ft)  \\\n0      WP0  4725.391739   0.123952     2.570550  130.203580   75.877758   \n1      WP1  4868.900545   0.197252     2.469263  128.033236   92.942081   \n2     WP10  4818.174657   0.135442     2.392931  127.631000   86.678756   \n3     WP12  4808.270995   0.112104     2.470077  143.509402   79.574038   \n4     WP13  4531.991055   0.116319     2.470225  135.242368   79.086781   \n5     WP14  4781.602978   0.138503     2.476446  129.706729   75.289129   \n6     WP15  4405.841183   0.166138     2.342374  137.665461   94.616725   \n7     WP16  4562.928038   0.132173     2.482244  117.720691   76.430410   \n8     WP17  4600.599989   0.171052     2.351391  135.123632   89.054847   \n9     WP18  4552.206377   0.167064     2.225759  130.311944   96.047062   \n10    WP19  4359.205683   0.126044     2.532609  136.463281   81.545846   \n11     WP2  4818.221905   0.101996     2.468753  127.336674   74.122587   \n12    WP20  4825.210722   0.111281     2.543745  126.854027   73.933252   \n13    WP21  4533.953771   0.133190     2.391614  135.146633   82.574286   \n14    WP22  4586.171112   0.117820     2.418220  123.667680   74.954881   \n15    WP23  4615.948966   0.108616     2.589052  125.887819   75.181916   \n16    WP24  4579.401710   0.088350     2.601467  138.652261   76.333373   \n17    WP25  4903.378183   0.168629     2.452935  133.364367   81.693587   \n18    WP26  4523.113994   0.158188     2.452994  145.467024   81.067377   \n19    WP27  4949.102794   0.117886     2.648328  136.458029   79.699965   \n20    WP28  4597.330000   0.154766     2.283779  137.278037   91.547713   \n21    WP29  4856.304256   0.143764     2.447703  125.920253   75.977536   \n22     WP3  4878.370184   0.119303     2.515940  125.993981   75.113676   \n23    WP30  4854.006016   0.084579     2.611926  122.160659   72.536635   \n24    WP31  4677.607521   0.102909     2.533422  128.302856   68.387738   \n25    WP32  4884.867323   0.134823     2.543497  128.450669   77.957984   \n26    WP33  4530.596094   0.072664     2.429493  118.764669   70.561206   \n27    WP34  4801.821505   0.144185     2.513541  128.906294   73.090217   \n28    WP35  4582.511544   0.140266     2.408763  135.622405   75.274194   \n29    WP36  4525.157188   0.102333     2.550955  117.385741   70.297486   \n30    WP37  4804.888495   0.127388     2.497975  127.946456   77.201803   \n31    WP38  4564.847511   0.131701     2.514984  130.224160   79.323983   \n32    WP39  4529.598722   0.117879     2.523933  118.982405  100.860449   \n33     WP4  4510.189384   0.137929     2.538383  125.518003   78.830122   \n34    WP40  4843.910967   0.139362     2.472625  129.709438   77.426417   \n35    WP41  4600.708895   0.124205     2.507477  125.017026   76.792388   \n36    WP42  4745.277539   0.146297     2.428928  127.150765   77.433861   \n37    WP43  4588.935011   0.155085     2.382940  131.295999   81.159854   \n38    WP44  4506.175868   0.175351     2.287888  137.188770   91.948363   \n39    WP45  4743.118233   0.093739     2.590551  128.076864   75.811372   \n40    WP46  4642.687050   0.158907     2.367060  128.279248   88.265817   \n41    WP47  4705.384218   0.142327     2.498397  130.421170   85.613634   \n42    WP48  4692.626572   0.192866     2.337559  136.159261   94.311807   \n43    WP49  4647.585829   0.146017     2.470085  135.517572   82.137764   \n44     WP5  4730.582001   0.107043     2.612282  128.457771   72.239239   \n45     WP6  4513.767677   0.128721     2.532990  134.196070   78.473149   \n46     WP7  4509.925528   0.081342     2.642743  135.161886   73.200691   \n47     WP8  4803.079132   0.110683     2.564173  128.587178   77.175918   \n48     WP9  4652.075411   0.080785     2.507327  107.919219   70.612993   \n\n    PEF(B/E)    RD(OHMM)     RS(OHMM)        ROP  ...  AI_lower(2021-12-20)  \\\n0   7.374498  159.957113   163.229965  15.932319  ...           6634.575426   \n1   0.050404  177.904391   178.418855  25.259734  ...           6609.410946   \n2   4.433433  189.982991   184.900881  18.849304  ...           6514.257843   \n3   0.042712  133.506294   206.343517  26.269538  ...           6362.624740   \n4   6.662322  171.803688   272.042627  15.320779  ...           6657.606436   \n5   5.762926  144.473656   173.289089  19.841724  ...           6603.209523   \n6   6.752726   82.461831    83.107373  29.348219  ...           6591.247729   \n7   5.907931  145.416383   169.218916  19.972302  ...           6594.903877   \n8   4.039047  266.396683   229.007122  20.025336  ...           6654.707208   \n9   3.777041  146.180906   113.798245  25.712574  ...           6661.476053   \n10  7.016788  144.681863   147.477574  29.011443  ...           6552.289167   \n11  6.457595  187.893974   181.426667  17.873240  ...           6489.087153   \n12  7.071521  201.593349   469.004934  16.108521  ...           6561.014882   \n13  4.559608  225.028629   428.771824  19.509901  ...           6589.556843   \n14  6.141492  225.032092  4636.136555  17.960062  ...           6614.562647   \n15  7.125329  298.422818   330.782067  26.154151  ...           6640.044191   \n16  0.055742  192.180231   255.691959  26.342003  ...           6516.903186   \n17  6.519511  161.265674   169.460388  28.521336  ...           6633.955438   \n18  0.052590  116.542428   155.453925  26.560187  ...           6661.801135   \n19  7.981969  126.350199   148.813008  17.522701  ...           6598.156641   \n20  3.993225  134.592225   128.418464  25.179770  ...           6663.217448   \n21  6.396565  238.216641  5709.184864  18.522970  ...           6589.522134   \n22  5.985531  157.823229   184.881675  19.891844  ...           6586.338352   \n23  7.060127  289.683687   332.502173  25.032648  ...           6502.898888   \n24  8.076246  160.243371   162.880828  16.242054  ...           6611.071823   \n25  6.855168  225.004843   237.486045  27.587749  ...           6630.391466   \n26  6.150758  142.902752  4503.503265  18.837746  ...           6424.315090   \n27  0.052379  209.618436   263.651215  25.368238  ...           6613.752412   \n28  4.705579  114.393427   119.880261  18.884919  ...           6573.013725   \n29  7.212408  233.391497   349.970584  16.562007  ...           6591.838802   \n30  5.904671  155.821419   183.934395  19.190207  ...           6547.740582   \n31  6.648852  231.031218   258.530161  27.633742  ...           6647.733382   \n32  7.079530  143.437821   146.796555  16.284578  ...           6558.196508   \n33  0.057218  216.995315   290.672354  25.373651  ...           6612.897190   \n34  5.800913  127.242252   142.512611  19.958622  ...           6644.103125   \n35  6.004301  157.793506   192.088580  19.633928  ...           6620.694603   \n36  6.277191  142.933614  3972.556246  18.281448  ...           6619.707518   \n37  5.985027  147.502421  1171.370414  19.176940  ...           6677.133028   \n38  4.641141  144.652067   168.559805  25.166022  ...           6636.653141   \n39  7.246709  192.921991   205.524744  26.246788  ...           6486.565723   \n40  4.522185  181.754706   217.621957  18.889238  ...           6650.305281   \n41  7.551682  167.635334   169.804929  15.963331  ...           6643.042250   \n42  3.852421  196.997033   349.228731  23.202757  ...           6654.099772   \n43  6.757122  196.861331   212.909887  28.355137  ...           6626.955542   \n44  3.638666  213.318071   440.029689  16.010856  ...           6583.766979   \n45  6.233687  116.051887   331.003118  14.664769  ...           6647.940100   \n46  0.053738  260.069015   384.454546  26.996655  ...           6486.960360   \n47  7.042491  245.161243   247.333173  26.986436  ...           6599.238176   \n48  5.969288  156.122981   174.388171  20.069126  ...           6510.277957   \n\n    AI_upper(2021-12-20)  scaled_X  scaled_Y  scaled_MD   perm_est  \\\n0            6527.501690  1.248842 -4.192089 -12.267776   9.279788   \n1            6523.670945  0.774485 -3.986422 -12.253123  33.898785   \n2            6472.958573  0.936000 -4.335770 -12.258302  10.187213   \n3            6322.316898  0.843507 -3.184013 -12.259313   4.183912   \n4            6535.592182 -0.568148 -3.639142 -12.287522   5.352267   \n5            6519.123698  1.017111 -4.187255 -12.262036   9.386436   \n6            6491.410104 -1.563761 -3.884232 -12.300403  18.689149   \n7            6497.647510 -1.222906 -3.397418 -12.284364   8.524977   \n8            6534.917152 -1.236396 -3.709010 -12.280517  19.741620   \n9            6535.657810 -0.722578 -3.495005 -12.285458  17.179852   \n10           6468.918737 -1.499542 -3.947935 -12.305164   8.382950   \n11           6453.706945  0.894254 -4.363006 -12.258297   4.461660   \n12           6492.906159  0.899714 -4.219048 -12.257584   5.820025   \n13           6505.458724 -0.383420 -3.785087 -12.287322   8.098842   \n14           6501.173398 -0.907538 -3.371540 -12.281990   5.106013   \n15           6468.867008  1.475429 -4.094279 -12.278950   7.208328   \n16           6390.063397  1.758236 -3.965057 -12.282682   2.510015   \n17           6545.806150  0.332910 -3.626284 -12.249602  18.311198   \n18           6540.693312 -0.684664 -3.613140 -12.288429  13.272477   \n19           6529.232222  0.505790 -3.789952 -12.244934   7.540154   \n20           6529.182600 -0.444448 -3.562260 -12.280851  13.965453   \n21           6520.330152  1.395319 -4.348990 -12.254409  10.534563   \n22           6505.091196  1.635380 -4.403582 -12.252156   7.005382   \n23           6434.570632  0.637925 -4.137178 -12.254644   3.086868   \n24           6466.205605  1.164945 -3.920343 -12.272654   7.084280   \n25           6546.891713  0.387940 -3.572968 -12.251493  12.247163   \n26           6383.137744 -0.093474 -4.042935 -12.287665   1.150889   \n27           6519.352044  0.937108 -4.106324 -12.259972  10.358480   \n28           6495.473337 -0.270052 -3.812172 -12.282364   8.976795   \n29           6498.775703 -1.340203 -3.453723 -12.288220   3.817017   \n30           6501.300905  1.023747 -4.313169 -12.259659   8.326875   \n31           6524.143394 -0.824219 -3.440681 -12.284168   9.624184   \n32           6469.729763 -1.325796 -3.386471 -12.287767   6.451677   \n33           6501.840702 -1.523821 -3.627969 -12.289748   8.152604   \n34           6541.633069  0.176191 -3.491583 -12.255674   8.677418   \n35           6513.260034 -1.076446 -3.395866 -12.280506   7.290165   \n36           6532.600168  1.190178 -4.217305 -12.265745  10.310255   \n37           6544.191122 -0.938477 -3.571574 -12.281708  13.752424   \n38           6524.468655 -0.637718 -3.693273 -12.290158  20.488163   \n39           6390.031618  0.439107 -3.237148 -12.265966   3.596980   \n40           6484.145165  1.446922 -4.124905 -12.276220  16.564389   \n41           6518.758470  1.279506 -4.163433 -12.269818  15.800140   \n42           6527.014201 -0.079732 -3.494692 -12.271121  28.164342   \n43           6523.916346 -0.172253 -3.708341 -12.275720  11.217940   \n44           6451.402384 -0.094420 -3.333517 -12.267246   3.968232   \n45           6530.639090 -1.413152 -3.694452 -12.289383   6.340215   \n46           6401.059626 -1.269761 -4.014186 -12.289775   2.536255   \n47           6498.858900  0.254651 -3.383274 -12.259843   7.131884   \n48           6423.831781 -0.911990 -3.894767 -12.275261   1.229010   \n\n             sum  Well  diff_lower  diff_upper  \n0     220.623568   WP0   77.328918   -3.218868  \n1     967.220104   WP1   69.974609    1.306419  \n2    1165.743198  WP10   45.299221  -21.722941  \n3      17.758218  WP12   13.457871    8.808855  \n4     586.702696  WP13  102.453196   28.921746  \n5   10456.887672  WP14   72.155735  -21.034330  \n6   89215.309574  WP15   87.817361   -0.068139  \n7   37745.757428  WP16   93.171297   17.853044  \n8   23612.440193  WP17  102.483309   26.175133  \n9    7935.172962  WP18   89.834129   36.031642  \n10    178.579386  WP19   66.266311    5.276045  \n11    134.496098   WP2   40.291215  -19.406142  \n12   3339.782867  WP20   62.319214  -19.354208  \n13     39.829815  WP21   74.604124    0.555539  \n14    328.990467  WP22   85.261355   19.418440  \n15    159.580914  WP23   84.131825   -3.021501  \n16   2604.450074  WP24   38.054583    3.414708  \n17  20873.420692  WP25   69.719985    9.680772  \n18  12886.843013  WP26   97.209670   35.836722  \n19    228.263249  WP27   58.933361    7.431815  \n20   3505.962752  WP28   96.534242   27.488257  \n21  22318.279395  WP29   60.169574  -13.963011  \n22  44507.628195   WP3   67.286464   14.414888  \n23     28.281087  WP30   43.287138  -13.764175  \n24   8369.262930  WP31   67.484690    4.753473  \n25   5385.256943  WP32   68.101350   12.997912  \n26      5.737569  WP33   39.628779    0.131081  \n27  37084.261716  WP34   80.485237  -20.464613  \n28   3124.896853  WP35   69.481694    1.926382  \n29  10455.426166  WP36   84.778493   19.694847  \n30  12317.922407  WP37   54.811826  -22.042901  \n31  30098.408009  WP38   86.430795   24.934164  \n32   3260.366578  WP39   81.254176   13.085469  \n33   7103.245567   WP4   91.162497    4.011407  \n34   3185.902346  WP40   75.204698    9.976906  \n35  26849.186859  WP41   96.349232   23.085335  \n36  33045.491963  WP42   73.095231   -7.016966  \n37  77690.934308  WP43   95.018048   28.672208  \n38  14361.013330  WP44   95.208460   23.053218  \n39      3.588712  WP45   45.241441  -14.101685  \n40  29758.420675  WP46   87.748465   -5.436004  \n41  31206.119465  WP47   80.096716   -1.303213  \n42  14963.587682  WP48   73.532140   12.914819  \n43  10847.313381  WP49   78.229746    5.727559  \n44    455.245871   WP5   67.245585   -6.802696  \n45  27432.941820   WP6  103.952292   15.610423  \n46   3282.448588   WP7   47.927733   -2.634675  \n47    329.321186   WP8   63.794537   -1.851904  \n48    171.410554   WP9   52.756186   11.853155  \n\n[49 rows x 28 columns]",
      "text/html": "<div>\n<style scoped>\n    .dataframe tbody tr th:only-of-type {\n        vertical-align: middle;\n    }\n\n    .dataframe tbody tr th {\n        vertical-align: top;\n    }\n\n    .dataframe thead th {\n        text-align: right;\n    }\n</style>\n<table border=\"1\" class=\"dataframe\">\n  <thead>\n    <tr style=\"text-align: right;\">\n      <th></th>\n      <th>well_id</th>\n      <th>MD(ft)</th>\n      <th>PORO(v/v)</th>\n      <th>RHOB(g/cm3)</th>\n      <th>DTS(us/ft)</th>\n      <th>DT(us/ft)</th>\n      <th>PEF(B/E)</th>\n      <th>RD(OHMM)</th>\n      <th>RS(OHMM)</th>\n      <th>ROP</th>\n      <th>...</th>\n      <th>AI_lower(2021-12-20)</th>\n      <th>AI_upper(2021-12-20)</th>\n      <th>scaled_X</th>\n      <th>scaled_Y</th>\n      <th>scaled_MD</th>\n      <th>perm_est</th>\n      <th>sum</th>\n      <th>Well</th>\n      <th>diff_lower</th>\n      <th>diff_upper</th>\n    </tr>\n  </thead>\n  <tbody>\n    <tr>\n      <th>0</th>\n      <td>WP0</td>\n      <td>4725.391739</td>\n      <td>0.123952</td>\n      <td>2.570550</td>\n      <td>130.203580</td>\n      <td>75.877758</td>\n      <td>7.374498</td>\n      <td>159.957113</td>\n      <td>163.229965</td>\n      <td>15.932319</td>\n      <td>...</td>\n      <td>6634.575426</td>\n      <td>6527.501690</td>\n      <td>1.248842</td>\n      <td>-4.192089</td>\n      <td>-12.267776</td>\n      <td>9.279788</td>\n      <td>220.623568</td>\n      <td>WP0</td>\n      <td>77.328918</td>\n      <td>-3.218868</td>\n    </tr>\n    <tr>\n      <th>1</th>\n      <td>WP1</td>\n      <td>4868.900545</td>\n      <td>0.197252</td>\n      <td>2.469263</td>\n      <td>128.033236</td>\n      <td>92.942081</td>\n      <td>0.050404</td>\n      <td>177.904391</td>\n      <td>178.418855</td>\n      <td>25.259734</td>\n      <td>...</td>\n      <td>6609.410946</td>\n      <td>6523.670945</td>\n      <td>0.774485</td>\n      <td>-3.986422</td>\n      <td>-12.253123</td>\n      <td>33.898785</td>\n      <td>967.220104</td>\n      <td>WP1</td>\n      <td>69.974609</td>\n      <td>1.306419</td>\n    </tr>\n    <tr>\n      <th>2</th>\n      <td>WP10</td>\n      <td>4818.174657</td>\n      <td>0.135442</td>\n      <td>2.392931</td>\n      <td>127.631000</td>\n      <td>86.678756</td>\n      <td>4.433433</td>\n      <td>189.982991</td>\n      <td>184.900881</td>\n      <td>18.849304</td>\n      <td>...</td>\n      <td>6514.257843</td>\n      <td>6472.958573</td>\n      <td>0.936000</td>\n      <td>-4.335770</td>\n      <td>-12.258302</td>\n      <td>10.187213</td>\n      <td>1165.743198</td>\n      <td>WP10</td>\n      <td>45.299221</td>\n      <td>-21.722941</td>\n    </tr>\n    <tr>\n      <th>3</th>\n      <td>WP12</td>\n      <td>4808.270995</td>\n      <td>0.112104</td>\n      <td>2.470077</td>\n      <td>143.509402</td>\n      <td>79.574038</td>\n      <td>0.042712</td>\n      <td>133.506294</td>\n      <td>206.343517</td>\n      <td>26.269538</td>\n      <td>...</td>\n      <td>6362.624740</td>\n      <td>6322.316898</td>\n      <td>0.843507</td>\n      <td>-3.184013</td>\n      <td>-12.259313</td>\n      <td>4.183912</td>\n      <td>17.758218</td>\n      <td>WP12</td>\n      <td>13.457871</td>\n      <td>8.808855</td>\n    </tr>\n    <tr>\n      <th>4</th>\n      <td>WP13</td>\n      <td>4531.991055</td>\n      <td>0.116319</td>\n      <td>2.470225</td>\n      <td>135.242368</td>\n      <td>79.086781</td>\n      <td>6.662322</td>\n      <td>171.803688</td>\n      <td>272.042627</td>\n      <td>15.320779</td>\n      <td>...</td>\n      <td>6657.606436</td>\n      <td>6535.592182</td>\n      <td>-0.568148</td>\n      <td>-3.639142</td>\n      <td>-12.287522</td>\n      <td>5.352267</td>\n      <td>586.702696</td>\n      <td>WP13</td>\n      <td>102.453196</td>\n      <td>28.921746</td>\n    </tr>\n    <tr>\n      <th>5</th>\n      <td>WP14</td>\n      <td>4781.602978</td>\n      <td>0.138503</td>\n      <td>2.476446</td>\n      <td>129.706729</td>\n      <td>75.289129</td>\n      <td>5.762926</td>\n      <td>144.473656</td>\n      <td>173.289089</td>\n      <td>19.841724</td>\n      <td>...</td>\n      <td>6603.209523</td>\n      <td>6519.123698</td>\n      <td>1.017111</td>\n      <td>-4.187255</td>\n      <td>-12.262036</td>\n      <td>9.386436</td>\n      <td>10456.887672</td>\n      <td>WP14</td>\n      <td>72.155735</td>\n      <td>-21.034330</td>\n    </tr>\n    <tr>\n      <th>6</th>\n      <td>WP15</td>\n      <td>4405.841183</td>\n      <td>0.166138</td>\n      <td>2.342374</td>\n      <td>137.665461</td>\n      <td>94.616725</td>\n      <td>6.752726</td>\n      <td>82.461831</td>\n      <td>83.107373</td>\n      <td>29.348219</td>\n      <td>...</td>\n      <td>6591.247729</td>\n      <td>6491.410104</td>\n      <td>-1.563761</td>\n      <td>-3.884232</td>\n      <td>-12.300403</td>\n      <td>18.689149</td>\n      <td>89215.309574</td>\n      <td>WP15</td>\n      <td>87.817361</td>\n      <td>-0.068139</td>\n    </tr>\n    <tr>\n      <th>7</th>\n      <td>WP16</td>\n      <td>4562.928038</td>\n      <td>0.132173</td>\n      <td>2.482244</td>\n      <td>117.720691</td>\n      <td>76.430410</td>\n      <td>5.907931</td>\n      <td>145.416383</td>\n      <td>169.218916</td>\n      <td>19.972302</td>\n      <td>...</td>\n      <td>6594.903877</td>\n      <td>6497.647510</td>\n      <td>-1.222906</td>\n      <td>-3.397418</td>\n      <td>-12.284364</td>\n      <td>8.524977</td>\n      <td>37745.757428</td>\n      <td>WP16</td>\n      <td>93.171297</td>\n      <td>17.853044</td>\n    </tr>\n    <tr>\n      <th>8</th>\n      <td>WP17</td>\n      <td>4600.599989</td>\n      <td>0.171052</td>\n      <td>2.351391</td>\n      <td>135.123632</td>\n      <td>89.054847</td>\n      <td>4.039047</td>\n      <td>266.396683</td>\n      <td>229.007122</td>\n      <td>20.025336</td>\n      <td>...</td>\n      <td>6654.707208</td>\n      <td>6534.917152</td>\n      <td>-1.236396</td>\n      <td>-3.709010</td>\n      <td>-12.280517</td>\n      <td>19.741620</td>\n      <td>23612.440193</td>\n      <td>WP17</td>\n      <td>102.483309</td>\n      <td>26.175133</td>\n    </tr>\n    <tr>\n      <th>9</th>\n      <td>WP18</td>\n      <td>4552.206377</td>\n      <td>0.167064</td>\n      <td>2.225759</td>\n      <td>130.311944</td>\n      <td>96.047062</td>\n      <td>3.777041</td>\n      <td>146.180906</td>\n      <td>113.798245</td>\n      <td>25.712574</td>\n      <td>...</td>\n      <td>6661.476053</td>\n      <td>6535.657810</td>\n      <td>-0.722578</td>\n      <td>-3.495005</td>\n      <td>-12.285458</td>\n      <td>17.179852</td>\n      <td>7935.172962</td>\n      <td>WP18</td>\n      <td>89.834129</td>\n      <td>36.031642</td>\n    </tr>\n    <tr>\n      <th>10</th>\n      <td>WP19</td>\n      <td>4359.205683</td>\n      <td>0.126044</td>\n      <td>2.532609</td>\n      <td>136.463281</td>\n      <td>81.545846</td>\n      <td>7.016788</td>\n      <td>144.681863</td>\n      <td>147.477574</td>\n      <td>29.011443</td>\n      <td>...</td>\n      <td>6552.289167</td>\n      <td>6468.918737</td>\n      <td>-1.499542</td>\n      <td>-3.947935</td>\n      <td>-12.305164</td>\n      <td>8.382950</td>\n      <td>178.579386</td>\n      <td>WP19</td>\n      <td>66.266311</td>\n      <td>5.276045</td>\n    </tr>\n    <tr>\n      <th>11</th>\n      <td>WP2</td>\n      <td>4818.221905</td>\n      <td>0.101996</td>\n      <td>2.468753</td>\n      <td>127.336674</td>\n      <td>74.122587</td>\n      <td>6.457595</td>\n      <td>187.893974</td>\n      <td>181.426667</td>\n      <td>17.873240</td>\n      <td>...</td>\n      <td>6489.087153</td>\n      <td>6453.706945</td>\n      <td>0.894254</td>\n      <td>-4.363006</td>\n      <td>-12.258297</td>\n      <td>4.461660</td>\n      <td>134.496098</td>\n      <td>WP2</td>\n      <td>40.291215</td>\n      <td>-19.406142</td>\n    </tr>\n    <tr>\n      <th>12</th>\n      <td>WP20</td>\n      <td>4825.210722</td>\n      <td>0.111281</td>\n      <td>2.543745</td>\n      <td>126.854027</td>\n      <td>73.933252</td>\n      <td>7.071521</td>\n      <td>201.593349</td>\n      <td>469.004934</td>\n      <td>16.108521</td>\n      <td>...</td>\n      <td>6561.014882</td>\n      <td>6492.906159</td>\n      <td>0.899714</td>\n      <td>-4.219048</td>\n      <td>-12.257584</td>\n      <td>5.820025</td>\n      <td>3339.782867</td>\n      <td>WP20</td>\n      <td>62.319214</td>\n      <td>-19.354208</td>\n    </tr>\n    <tr>\n      <th>13</th>\n      <td>WP21</td>\n      <td>4533.953771</td>\n      <td>0.133190</td>\n      <td>2.391614</td>\n      <td>135.146633</td>\n      <td>82.574286</td>\n      <td>4.559608</td>\n      <td>225.028629</td>\n      <td>428.771824</td>\n      <td>19.509901</td>\n      <td>...</td>\n      <td>6589.556843</td>\n      <td>6505.458724</td>\n      <td>-0.383420</td>\n      <td>-3.785087</td>\n      <td>-12.287322</td>\n      <td>8.098842</td>\n      <td>39.829815</td>\n      <td>WP21</td>\n      <td>74.604124</td>\n      <td>0.555539</td>\n    </tr>\n    <tr>\n      <th>14</th>\n      <td>WP22</td>\n      <td>4586.171112</td>\n      <td>0.117820</td>\n      <td>2.418220</td>\n      <td>123.667680</td>\n      <td>74.954881</td>\n      <td>6.141492</td>\n      <td>225.032092</td>\n      <td>4636.136555</td>\n      <td>17.960062</td>\n      <td>...</td>\n      <td>6614.562647</td>\n      <td>6501.173398</td>\n      <td>-0.907538</td>\n      <td>-3.371540</td>\n      <td>-12.281990</td>\n      <td>5.106013</td>\n      <td>328.990467</td>\n      <td>WP22</td>\n      <td>85.261355</td>\n      <td>19.418440</td>\n    </tr>\n    <tr>\n      <th>15</th>\n      <td>WP23</td>\n      <td>4615.948966</td>\n      <td>0.108616</td>\n      <td>2.589052</td>\n      <td>125.887819</td>\n      <td>75.181916</td>\n      <td>7.125329</td>\n      <td>298.422818</td>\n      <td>330.782067</td>\n      <td>26.154151</td>\n      <td>...</td>\n      <td>6640.044191</td>\n      <td>6468.867008</td>\n      <td>1.475429</td>\n      <td>-4.094279</td>\n      <td>-12.278950</td>\n      <td>7.208328</td>\n      <td>159.580914</td>\n      <td>WP23</td>\n      <td>84.131825</td>\n      <td>-3.021501</td>\n    </tr>\n    <tr>\n      <th>16</th>\n      <td>WP24</td>\n      <td>4579.401710</td>\n      <td>0.088350</td>\n      <td>2.601467</td>\n      <td>138.652261</td>\n      <td>76.333373</td>\n      <td>0.055742</td>\n      <td>192.180231</td>\n      <td>255.691959</td>\n      <td>26.342003</td>\n      <td>...</td>\n      <td>6516.903186</td>\n      <td>6390.063397</td>\n      <td>1.758236</td>\n      <td>-3.965057</td>\n      <td>-12.282682</td>\n      <td>2.510015</td>\n      <td>2604.450074</td>\n      <td>WP24</td>\n      <td>38.054583</td>\n      <td>3.414708</td>\n    </tr>\n    <tr>\n      <th>17</th>\n      <td>WP25</td>\n      <td>4903.378183</td>\n      <td>0.168629</td>\n      <td>2.452935</td>\n      <td>133.364367</td>\n      <td>81.693587</td>\n      <td>6.519511</td>\n      <td>161.265674</td>\n      <td>169.460388</td>\n      <td>28.521336</td>\n      <td>...</td>\n      <td>6633.955438</td>\n      <td>6545.806150</td>\n      <td>0.332910</td>\n      <td>-3.626284</td>\n      <td>-12.249602</td>\n      <td>18.311198</td>\n      <td>20873.420692</td>\n      <td>WP25</td>\n      <td>69.719985</td>\n      <td>9.680772</td>\n    </tr>\n    <tr>\n      <th>18</th>\n      <td>WP26</td>\n      <td>4523.113994</td>\n      <td>0.158188</td>\n      <td>2.452994</td>\n      <td>145.467024</td>\n      <td>81.067377</td>\n      <td>0.052590</td>\n      <td>116.542428</td>\n      <td>155.453925</td>\n      <td>26.560187</td>\n      <td>...</td>\n      <td>6661.801135</td>\n      <td>6540.693312</td>\n      <td>-0.684664</td>\n      <td>-3.613140</td>\n      <td>-12.288429</td>\n      <td>13.272477</td>\n      <td>12886.843013</td>\n      <td>WP26</td>\n      <td>97.209670</td>\n      <td>35.836722</td>\n    </tr>\n    <tr>\n      <th>19</th>\n      <td>WP27</td>\n      <td>4949.102794</td>\n      <td>0.117886</td>\n      <td>2.648328</td>\n      <td>136.458029</td>\n      <td>79.699965</td>\n      <td>7.981969</td>\n      <td>126.350199</td>\n      <td>148.813008</td>\n      <td>17.522701</td>\n      <td>...</td>\n      <td>6598.156641</td>\n      <td>6529.232222</td>\n      <td>0.505790</td>\n      <td>-3.789952</td>\n      <td>-12.244934</td>\n      <td>7.540154</td>\n      <td>228.263249</td>\n      <td>WP27</td>\n      <td>58.933361</td>\n      <td>7.431815</td>\n    </tr>\n    <tr>\n      <th>20</th>\n      <td>WP28</td>\n      <td>4597.330000</td>\n      <td>0.154766</td>\n      <td>2.283779</td>\n      <td>137.278037</td>\n      <td>91.547713</td>\n      <td>3.993225</td>\n      <td>134.592225</td>\n      <td>128.418464</td>\n      <td>25.179770</td>\n      <td>...</td>\n      <td>6663.217448</td>\n      <td>6529.182600</td>\n      <td>-0.444448</td>\n      <td>-3.562260</td>\n      <td>-12.280851</td>\n      <td>13.965453</td>\n      <td>3505.962752</td>\n      <td>WP28</td>\n      <td>96.534242</td>\n      <td>27.488257</td>\n    </tr>\n    <tr>\n      <th>21</th>\n      <td>WP29</td>\n      <td>4856.304256</td>\n      <td>0.143764</td>\n      <td>2.447703</td>\n      <td>125.920253</td>\n      <td>75.977536</td>\n      <td>6.396565</td>\n      <td>238.216641</td>\n      <td>5709.184864</td>\n      <td>18.522970</td>\n      <td>...</td>\n      <td>6589.522134</td>\n      <td>6520.330152</td>\n      <td>1.395319</td>\n      <td>-4.348990</td>\n      <td>-12.254409</td>\n      <td>10.534563</td>\n      <td>22318.279395</td>\n      <td>WP29</td>\n      <td>60.169574</td>\n      <td>-13.963011</td>\n    </tr>\n    <tr>\n      <th>22</th>\n      <td>WP3</td>\n      <td>4878.370184</td>\n      <td>0.119303</td>\n      <td>2.515940</td>\n      <td>125.993981</td>\n      <td>75.113676</td>\n      <td>5.985531</td>\n      <td>157.823229</td>\n      <td>184.881675</td>\n      <td>19.891844</td>\n      <td>...</td>\n      <td>6586.338352</td>\n      <td>6505.091196</td>\n      <td>1.635380</td>\n      <td>-4.403582</td>\n      <td>-12.252156</td>\n      <td>7.005382</td>\n      <td>44507.628195</td>\n      <td>WP3</td>\n      <td>67.286464</td>\n      <td>14.414888</td>\n    </tr>\n    <tr>\n      <th>23</th>\n      <td>WP30</td>\n      <td>4854.006016</td>\n      <td>0.084579</td>\n      <td>2.611926</td>\n      <td>122.160659</td>\n      <td>72.536635</td>\n      <td>7.060127</td>\n      <td>289.683687</td>\n      <td>332.502173</td>\n      <td>25.032648</td>\n      <td>...</td>\n      <td>6502.898888</td>\n      <td>6434.570632</td>\n      <td>0.637925</td>\n      <td>-4.137178</td>\n      <td>-12.254644</td>\n      <td>3.086868</td>\n      <td>28.281087</td>\n      <td>WP30</td>\n      <td>43.287138</td>\n      <td>-13.764175</td>\n    </tr>\n    <tr>\n      <th>24</th>\n      <td>WP31</td>\n      <td>4677.607521</td>\n      <td>0.102909</td>\n      <td>2.533422</td>\n      <td>128.302856</td>\n      <td>68.387738</td>\n      <td>8.076246</td>\n      <td>160.243371</td>\n      <td>162.880828</td>\n      <td>16.242054</td>\n      <td>...</td>\n      <td>6611.071823</td>\n      <td>6466.205605</td>\n      <td>1.164945</td>\n      <td>-3.920343</td>\n      <td>-12.272654</td>\n      <td>7.084280</td>\n      <td>8369.262930</td>\n      <td>WP31</td>\n      <td>67.484690</td>\n      <td>4.753473</td>\n    </tr>\n    <tr>\n      <th>25</th>\n      <td>WP32</td>\n      <td>4884.867323</td>\n      <td>0.134823</td>\n      <td>2.543497</td>\n      <td>128.450669</td>\n      <td>77.957984</td>\n      <td>6.855168</td>\n      <td>225.004843</td>\n      <td>237.486045</td>\n      <td>27.587749</td>\n      <td>...</td>\n      <td>6630.391466</td>\n      <td>6546.891713</td>\n      <td>0.387940</td>\n      <td>-3.572968</td>\n      <td>-12.251493</td>\n      <td>12.247163</td>\n      <td>5385.256943</td>\n      <td>WP32</td>\n      <td>68.101350</td>\n      <td>12.997912</td>\n    </tr>\n    <tr>\n      <th>26</th>\n      <td>WP33</td>\n      <td>4530.596094</td>\n      <td>0.072664</td>\n      <td>2.429493</td>\n      <td>118.764669</td>\n      <td>70.561206</td>\n      <td>6.150758</td>\n      <td>142.902752</td>\n      <td>4503.503265</td>\n      <td>18.837746</td>\n      <td>...</td>\n      <td>6424.315090</td>\n      <td>6383.137744</td>\n      <td>-0.093474</td>\n      <td>-4.042935</td>\n      <td>-12.287665</td>\n      <td>1.150889</td>\n      <td>5.737569</td>\n      <td>WP33</td>\n      <td>39.628779</td>\n      <td>0.131081</td>\n    </tr>\n    <tr>\n      <th>27</th>\n      <td>WP34</td>\n      <td>4801.821505</td>\n      <td>0.144185</td>\n      <td>2.513541</td>\n      <td>128.906294</td>\n      <td>73.090217</td>\n      <td>0.052379</td>\n      <td>209.618436</td>\n      <td>263.651215</td>\n      <td>25.368238</td>\n      <td>...</td>\n      <td>6613.752412</td>\n      <td>6519.352044</td>\n      <td>0.937108</td>\n      <td>-4.106324</td>\n      <td>-12.259972</td>\n      <td>10.358480</td>\n      <td>37084.261716</td>\n      <td>WP34</td>\n      <td>80.485237</td>\n      <td>-20.464613</td>\n    </tr>\n    <tr>\n      <th>28</th>\n      <td>WP35</td>\n      <td>4582.511544</td>\n      <td>0.140266</td>\n      <td>2.408763</td>\n      <td>135.622405</td>\n      <td>75.274194</td>\n      <td>4.705579</td>\n      <td>114.393427</td>\n      <td>119.880261</td>\n      <td>18.884919</td>\n      <td>...</td>\n      <td>6573.013725</td>\n      <td>6495.473337</td>\n      <td>-0.270052</td>\n      <td>-3.812172</td>\n      <td>-12.282364</td>\n      <td>8.976795</td>\n      <td>3124.896853</td>\n      <td>WP35</td>\n      <td>69.481694</td>\n      <td>1.926382</td>\n    </tr>\n    <tr>\n      <th>29</th>\n      <td>WP36</td>\n      <td>4525.157188</td>\n      <td>0.102333</td>\n      <td>2.550955</td>\n      <td>117.385741</td>\n      <td>70.297486</td>\n      <td>7.212408</td>\n      <td>233.391497</td>\n      <td>349.970584</td>\n      <td>16.562007</td>\n      <td>...</td>\n      <td>6591.838802</td>\n      <td>6498.775703</td>\n      <td>-1.340203</td>\n      <td>-3.453723</td>\n      <td>-12.288220</td>\n      <td>3.817017</td>\n      <td>10455.426166</td>\n      <td>WP36</td>\n      <td>84.778493</td>\n      <td>19.694847</td>\n    </tr>\n    <tr>\n      <th>30</th>\n      <td>WP37</td>\n      <td>4804.888495</td>\n      <td>0.127388</td>\n      <td>2.497975</td>\n      <td>127.946456</td>\n      <td>77.201803</td>\n      <td>5.904671</td>\n      <td>155.821419</td>\n      <td>183.934395</td>\n      <td>19.190207</td>\n      <td>...</td>\n      <td>6547.740582</td>\n      <td>6501.300905</td>\n      <td>1.023747</td>\n      <td>-4.313169</td>\n      <td>-12.259659</td>\n      <td>8.326875</td>\n      <td>12317.922407</td>\n      <td>WP37</td>\n      <td>54.811826</td>\n      <td>-22.042901</td>\n    </tr>\n    <tr>\n      <th>31</th>\n      <td>WP38</td>\n      <td>4564.847511</td>\n      <td>0.131701</td>\n      <td>2.514984</td>\n      <td>130.224160</td>\n      <td>79.323983</td>\n      <td>6.648852</td>\n      <td>231.031218</td>\n      <td>258.530161</td>\n      <td>27.633742</td>\n      <td>...</td>\n      <td>6647.733382</td>\n      <td>6524.143394</td>\n      <td>-0.824219</td>\n      <td>-3.440681</td>\n      <td>-12.284168</td>\n      <td>9.624184</td>\n      <td>30098.408009</td>\n      <td>WP38</td>\n      <td>86.430795</td>\n      <td>24.934164</td>\n    </tr>\n    <tr>\n      <th>32</th>\n      <td>WP39</td>\n      <td>4529.598722</td>\n      <td>0.117879</td>\n      <td>2.523933</td>\n      <td>118.982405</td>\n      <td>100.860449</td>\n      <td>7.079530</td>\n      <td>143.437821</td>\n      <td>146.796555</td>\n      <td>16.284578</td>\n      <td>...</td>\n      <td>6558.196508</td>\n      <td>6469.729763</td>\n      <td>-1.325796</td>\n      <td>-3.386471</td>\n      <td>-12.287767</td>\n      <td>6.451677</td>\n      <td>3260.366578</td>\n      <td>WP39</td>\n      <td>81.254176</td>\n      <td>13.085469</td>\n    </tr>\n    <tr>\n      <th>33</th>\n      <td>WP4</td>\n      <td>4510.189384</td>\n      <td>0.137929</td>\n      <td>2.538383</td>\n      <td>125.518003</td>\n      <td>78.830122</td>\n      <td>0.057218</td>\n      <td>216.995315</td>\n      <td>290.672354</td>\n      <td>25.373651</td>\n      <td>...</td>\n      <td>6612.897190</td>\n      <td>6501.840702</td>\n      <td>-1.523821</td>\n      <td>-3.627969</td>\n      <td>-12.289748</td>\n      <td>8.152604</td>\n      <td>7103.245567</td>\n      <td>WP4</td>\n      <td>91.162497</td>\n      <td>4.011407</td>\n    </tr>\n    <tr>\n      <th>34</th>\n      <td>WP40</td>\n      <td>4843.910967</td>\n      <td>0.139362</td>\n      <td>2.472625</td>\n      <td>129.709438</td>\n      <td>77.426417</td>\n      <td>5.800913</td>\n      <td>127.242252</td>\n      <td>142.512611</td>\n      <td>19.958622</td>\n      <td>...</td>\n      <td>6644.103125</td>\n      <td>6541.633069</td>\n      <td>0.176191</td>\n      <td>-3.491583</td>\n      <td>-12.255674</td>\n      <td>8.677418</td>\n      <td>3185.902346</td>\n      <td>WP40</td>\n      <td>75.204698</td>\n      <td>9.976906</td>\n    </tr>\n    <tr>\n      <th>35</th>\n      <td>WP41</td>\n      <td>4600.708895</td>\n      <td>0.124205</td>\n      <td>2.507477</td>\n      <td>125.017026</td>\n      <td>76.792388</td>\n      <td>6.004301</td>\n      <td>157.793506</td>\n      <td>192.088580</td>\n      <td>19.633928</td>\n      <td>...</td>\n      <td>6620.694603</td>\n      <td>6513.260034</td>\n      <td>-1.076446</td>\n      <td>-3.395866</td>\n      <td>-12.280506</td>\n      <td>7.290165</td>\n      <td>26849.186859</td>\n      <td>WP41</td>\n      <td>96.349232</td>\n      <td>23.085335</td>\n    </tr>\n    <tr>\n      <th>36</th>\n      <td>WP42</td>\n      <td>4745.277539</td>\n      <td>0.146297</td>\n      <td>2.428928</td>\n      <td>127.150765</td>\n      <td>77.433861</td>\n      <td>6.277191</td>\n      <td>142.933614</td>\n      <td>3972.556246</td>\n      <td>18.281448</td>\n      <td>...</td>\n      <td>6619.707518</td>\n      <td>6532.600168</td>\n      <td>1.190178</td>\n      <td>-4.217305</td>\n      <td>-12.265745</td>\n      <td>10.310255</td>\n      <td>33045.491963</td>\n      <td>WP42</td>\n      <td>73.095231</td>\n      <td>-7.016966</td>\n    </tr>\n    <tr>\n      <th>37</th>\n      <td>WP43</td>\n      <td>4588.935011</td>\n      <td>0.155085</td>\n      <td>2.382940</td>\n      <td>131.295999</td>\n      <td>81.159854</td>\n      <td>5.985027</td>\n      <td>147.502421</td>\n      <td>1171.370414</td>\n      <td>19.176940</td>\n      <td>...</td>\n      <td>6677.133028</td>\n      <td>6544.191122</td>\n      <td>-0.938477</td>\n      <td>-3.571574</td>\n      <td>-12.281708</td>\n      <td>13.752424</td>\n      <td>77690.934308</td>\n      <td>WP43</td>\n      <td>95.018048</td>\n      <td>28.672208</td>\n    </tr>\n    <tr>\n      <th>38</th>\n      <td>WP44</td>\n      <td>4506.175868</td>\n      <td>0.175351</td>\n      <td>2.287888</td>\n      <td>137.188770</td>\n      <td>91.948363</td>\n      <td>4.641141</td>\n      <td>144.652067</td>\n      <td>168.559805</td>\n      <td>25.166022</td>\n      <td>...</td>\n      <td>6636.653141</td>\n      <td>6524.468655</td>\n      <td>-0.637718</td>\n      <td>-3.693273</td>\n      <td>-12.290158</td>\n      <td>20.488163</td>\n      <td>14361.013330</td>\n      <td>WP44</td>\n      <td>95.208460</td>\n      <td>23.053218</td>\n    </tr>\n    <tr>\n      <th>39</th>\n      <td>WP45</td>\n      <td>4743.118233</td>\n      <td>0.093739</td>\n      <td>2.590551</td>\n      <td>128.076864</td>\n      <td>75.811372</td>\n      <td>7.246709</td>\n      <td>192.921991</td>\n      <td>205.524744</td>\n      <td>26.246788</td>\n      <td>...</td>\n      <td>6486.565723</td>\n      <td>6390.031618</td>\n      <td>0.439107</td>\n      <td>-3.237148</td>\n      <td>-12.265966</td>\n      <td>3.596980</td>\n      <td>3.588712</td>\n      <td>WP45</td>\n      <td>45.241441</td>\n      <td>-14.101685</td>\n    </tr>\n    <tr>\n      <th>40</th>\n      <td>WP46</td>\n      <td>4642.687050</td>\n      <td>0.158907</td>\n      <td>2.367060</td>\n      <td>128.279248</td>\n      <td>88.265817</td>\n      <td>4.522185</td>\n      <td>181.754706</td>\n      <td>217.621957</td>\n      <td>18.889238</td>\n      <td>...</td>\n      <td>6650.305281</td>\n      <td>6484.145165</td>\n      <td>1.446922</td>\n      <td>-4.124905</td>\n      <td>-12.276220</td>\n      <td>16.564389</td>\n      <td>29758.420675</td>\n      <td>WP46</td>\n      <td>87.748465</td>\n      <td>-5.436004</td>\n    </tr>\n    <tr>\n      <th>41</th>\n      <td>WP47</td>\n      <td>4705.384218</td>\n      <td>0.142327</td>\n      <td>2.498397</td>\n      <td>130.421170</td>\n      <td>85.613634</td>\n      <td>7.551682</td>\n      <td>167.635334</td>\n      <td>169.804929</td>\n      <td>15.963331</td>\n      <td>...</td>\n      <td>6643.042250</td>\n      <td>6518.758470</td>\n      <td>1.279506</td>\n      <td>-4.163433</td>\n      <td>-12.269818</td>\n      <td>15.800140</td>\n      <td>31206.119465</td>\n      <td>WP47</td>\n      <td>80.096716</td>\n      <td>-1.303213</td>\n    </tr>\n    <tr>\n      <th>42</th>\n      <td>WP48</td>\n      <td>4692.626572</td>\n      <td>0.192866</td>\n      <td>2.337559</td>\n      <td>136.159261</td>\n      <td>94.311807</td>\n      <td>3.852421</td>\n      <td>196.997033</td>\n      <td>349.228731</td>\n      <td>23.202757</td>\n      <td>...</td>\n      <td>6654.099772</td>\n      <td>6527.014201</td>\n      <td>-0.079732</td>\n      <td>-3.494692</td>\n      <td>-12.271121</td>\n      <td>28.164342</td>\n      <td>14963.587682</td>\n      <td>WP48</td>\n      <td>73.532140</td>\n      <td>12.914819</td>\n    </tr>\n    <tr>\n      <th>43</th>\n      <td>WP49</td>\n      <td>4647.585829</td>\n      <td>0.146017</td>\n      <td>2.470085</td>\n      <td>135.517572</td>\n      <td>82.137764</td>\n      <td>6.757122</td>\n      <td>196.861331</td>\n      <td>212.909887</td>\n      <td>28.355137</td>\n      <td>...</td>\n      <td>6626.955542</td>\n      <td>6523.916346</td>\n      <td>-0.172253</td>\n      <td>-3.708341</td>\n      <td>-12.275720</td>\n      <td>11.217940</td>\n      <td>10847.313381</td>\n      <td>WP49</td>\n      <td>78.229746</td>\n      <td>5.727559</td>\n    </tr>\n    <tr>\n      <th>44</th>\n      <td>WP5</td>\n      <td>4730.582001</td>\n      <td>0.107043</td>\n      <td>2.612282</td>\n      <td>128.457771</td>\n      <td>72.239239</td>\n      <td>3.638666</td>\n      <td>213.318071</td>\n      <td>440.029689</td>\n      <td>16.010856</td>\n      <td>...</td>\n      <td>6583.766979</td>\n      <td>6451.402384</td>\n      <td>-0.094420</td>\n      <td>-3.333517</td>\n      <td>-12.267246</td>\n      <td>3.968232</td>\n      <td>455.245871</td>\n      <td>WP5</td>\n      <td>67.245585</td>\n      <td>-6.802696</td>\n    </tr>\n    <tr>\n      <th>45</th>\n      <td>WP6</td>\n      <td>4513.767677</td>\n      <td>0.128721</td>\n      <td>2.532990</td>\n      <td>134.196070</td>\n      <td>78.473149</td>\n      <td>6.233687</td>\n      <td>116.051887</td>\n      <td>331.003118</td>\n      <td>14.664769</td>\n      <td>...</td>\n      <td>6647.940100</td>\n      <td>6530.639090</td>\n      <td>-1.413152</td>\n      <td>-3.694452</td>\n      <td>-12.289383</td>\n      <td>6.340215</td>\n      <td>27432.941820</td>\n      <td>WP6</td>\n      <td>103.952292</td>\n      <td>15.610423</td>\n    </tr>\n    <tr>\n      <th>46</th>\n      <td>WP7</td>\n      <td>4509.925528</td>\n      <td>0.081342</td>\n      <td>2.642743</td>\n      <td>135.161886</td>\n      <td>73.200691</td>\n      <td>0.053738</td>\n      <td>260.069015</td>\n      <td>384.454546</td>\n      <td>26.996655</td>\n      <td>...</td>\n      <td>6486.960360</td>\n      <td>6401.059626</td>\n      <td>-1.269761</td>\n      <td>-4.014186</td>\n      <td>-12.289775</td>\n      <td>2.536255</td>\n      <td>3282.448588</td>\n      <td>WP7</td>\n      <td>47.927733</td>\n      <td>-2.634675</td>\n    </tr>\n    <tr>\n      <th>47</th>\n      <td>WP8</td>\n      <td>4803.079132</td>\n      <td>0.110683</td>\n      <td>2.564173</td>\n      <td>128.587178</td>\n      <td>77.175918</td>\n      <td>7.042491</td>\n      <td>245.161243</td>\n      <td>247.333173</td>\n      <td>26.986436</td>\n      <td>...</td>\n      <td>6599.238176</td>\n      <td>6498.858900</td>\n      <td>0.254651</td>\n      <td>-3.383274</td>\n      <td>-12.259843</td>\n      <td>7.131884</td>\n      <td>329.321186</td>\n      <td>WP8</td>\n      <td>63.794537</td>\n      <td>-1.851904</td>\n    </tr>\n    <tr>\n      <th>48</th>\n      <td>WP9</td>\n      <td>4652.075411</td>\n      <td>0.080785</td>\n      <td>2.507327</td>\n      <td>107.919219</td>\n      <td>70.612993</td>\n      <td>5.969288</td>\n      <td>156.122981</td>\n      <td>174.388171</td>\n      <td>20.069126</td>\n      <td>...</td>\n      <td>6510.277957</td>\n      <td>6423.831781</td>\n      <td>-0.911990</td>\n      <td>-3.894767</td>\n      <td>-12.275261</td>\n      <td>1.229010</td>\n      <td>171.410554</td>\n      <td>WP9</td>\n      <td>52.756186</td>\n      <td>11.853155</td>\n    </tr>\n  </tbody>\n</table>\n<p>49 rows × 28 columns</p>\n</div>"
     },
     "metadata": {}
    }
   ]
  },
  {
   "cell_type": "code",
   "metadata": {
    "cell_id": "b3e847d6332144b98c9ad0e422dacd4c",
    "tags": [],
    "deepnote_to_be_reexecuted": true,
    "source_hash": "9ee3df0b",
    "execution_start": 1648335172744,
    "execution_millis": 344,
    "deepnote_cell_type": "code",
    "deepnote_cell_height": 453.171875,
    "deepnote_output_heights": [
     21.1875,
     250
    ]
   },
   "source": "\nu = data[data['Completion Zone'] == 0]\nnp.corrcoef(u['AI_lower(2012-01-01)'], u['sum'])\nplt.scatter(u['PORO(v/v)'], u['sum'])",
   "execution_count": null,
   "outputs": [
    {
     "output_type": "execute_result",
     "execution_count": 82,
     "data": {
      "text/plain": "<matplotlib.collections.PathCollection at 0x7fa98228a310>"
     },
     "metadata": {}
    },
    {
     "data": {
      "text/plain": "<Figure size 432x288 with 1 Axes>",
      "image/png": "[encoded data removed]"
     },
     "metadata": {
      "needs_background": "light",
      "image/png": {
       "width": 387,
       "height": 248
      }
     },
     "output_type": "display_data"
    }
   ]
  },
  {
   "cell_type": "markdown",
   "source": "<a style='text-decoration:none;line-height:16px;display:flex;color:#5B5B62;padding:10px;justify-content:end;' href='https://deepnote.com?utm_source=created-in-deepnote-cell&projectId=6b71fecc-b405-4b93-bce3-c5ed6c21c449' target=\"_blank\">\n<img alt='Created in deepnote.com' style='display:inline;max-height:16px;margin:0px;margin-right:7.5px;' src='data:image/svg+xml;base64,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' > </img>\nCreated in <span style='font-weight:600;margin-left:4px;'>Deepnote</span></a>",
   "metadata": {
    "tags": [],
    "created_in_deepnote_cell": true,
    "deepnote_cell_type": "markdown"
   }
  }
 ],
 "nbformat": 4,
 "nbformat_minor": 2,
 "metadata": {
  "orig_nbformat": 2,
  "deepnote": {
   "is_reactive": false
  },
  "deepnote_notebook_id": "52955a39-ab81-491c-a5a2-57459010b06e",
  "deepnote_execution_queue": []
 }
}